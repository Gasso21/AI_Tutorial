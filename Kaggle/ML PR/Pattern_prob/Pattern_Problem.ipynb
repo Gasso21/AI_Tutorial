{
 "cells": [
  {
   "cell_type": "markdown",
   "id": "565c9424",
   "metadata": {},
   "source": [
    "# Pattern Problem"
   ]
  },
  {
   "cell_type": "code",
   "execution_count": 1,
   "id": "e49e6226",
   "metadata": {},
   "outputs": [
    {
     "name": "stdout",
     "output_type": "stream",
     "text": [
      "Once deleted, variables cannot be recovered. Proceed (y/[n])? y\n"
     ]
    }
   ],
   "source": [
    "%reset"
   ]
  },
  {
   "cell_type": "code",
   "execution_count": 2,
   "id": "bf654223",
   "metadata": {},
   "outputs": [],
   "source": [
    "import numpy as np\n",
    "import pandas as pd\n",
    "import matplotlib.pyplot as plt\n",
    "import seaborn as sns\n",
    "from sklearn.datasets import make_moons, make_circles, make_classification"
   ]
  },
  {
   "cell_type": "code",
   "execution_count": 6,
   "id": "2551481b",
   "metadata": {},
   "outputs": [],
   "source": [
    "X_1, y_1 = make_classification(n_samples=300,\n",
    "                               n_features=2,\n",
    "                               n_redundant=0,\n",
    "                               n_informative=2,\n",
    "                               random_state=1,\n",
    "                               n_clusters_per_class=1,\n",
    "                               n_classes=2,\n",
    "                               class_sep=3,\n",
    "                              )\n",
    "X_1[:,1] = (X_1[:,0]+X_1[:,1])/2\n",
    "rng = np.random.RandomState(2)\n",
    "X_1 += 2*rng.uniform(size=X_1.shape)"
   ]
  },
  {
   "cell_type": "code",
   "execution_count": null,
   "id": "43f3cdcd",
   "metadata": {},
   "outputs": [],
   "source": []
  }
 ],
 "metadata": {
  "kernelspec": {
   "display_name": "Python 3 (ipykernel)",
   "language": "python",
   "name": "python3"
  },
  "language_info": {
   "codemirror_mode": {
    "name": "ipython",
    "version": 3
   },
   "file_extension": ".py",
   "mimetype": "text/x-python",
   "name": "python",
   "nbconvert_exporter": "python",
   "pygments_lexer": "ipython3",
   "version": "3.9.15"
  }
 },
 "nbformat": 4,
 "nbformat_minor": 5
}
