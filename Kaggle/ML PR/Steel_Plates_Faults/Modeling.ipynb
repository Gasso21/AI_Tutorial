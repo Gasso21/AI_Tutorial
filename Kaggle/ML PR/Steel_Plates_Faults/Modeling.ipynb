{
 "cells": [
  {
   "cell_type": "markdown",
   "id": "95c25e03",
   "metadata": {},
   "source": [
    "# Steel Plates Faults"
   ]
  },
  {
   "cell_type": "markdown",
   "id": "b8966bb4",
   "metadata": {},
   "source": [
    "## Modeling"
   ]
  },
  {
   "cell_type": "code",
   "execution_count": 66,
   "id": "cc485469",
   "metadata": {},
   "outputs": [
    {
     "name": "stdout",
     "output_type": "stream",
     "text": [
      "Once deleted, variables cannot be recovered. Proceed (y/[n])? y\n"
     ]
    }
   ],
   "source": [
    "%reset"
   ]
  },
  {
   "cell_type": "code",
   "execution_count": 67,
   "id": "b5593a89",
   "metadata": {},
   "outputs": [],
   "source": [
    "import pandas as pd\n",
    "import matplotlib.pyplot as plt\n",
    "%matplotlib inline\n",
    "%config InlineBackend.figure_format='retina'"
   ]
  },
  {
   "cell_type": "code",
   "execution_count": 68,
   "id": "dd986656",
   "metadata": {},
   "outputs": [
    {
     "data": {
      "text/html": [
       "<div>\n",
       "<style scoped>\n",
       "    .dataframe tbody tr th:only-of-type {\n",
       "        vertical-align: middle;\n",
       "    }\n",
       "\n",
       "    .dataframe tbody tr th {\n",
       "        vertical-align: top;\n",
       "    }\n",
       "\n",
       "    .dataframe thead th {\n",
       "        text-align: right;\n",
       "    }\n",
       "</style>\n",
       "<table border=\"1\" class=\"dataframe\">\n",
       "  <thead>\n",
       "    <tr style=\"text-align: right;\">\n",
       "      <th></th>\n",
       "      <th>X_Minimum</th>\n",
       "      <th>X_Maximum</th>\n",
       "      <th>Y_Minimum</th>\n",
       "      <th>Y_Maximum</th>\n",
       "      <th>Pixels_Areas</th>\n",
       "      <th>X_Perimeter</th>\n",
       "      <th>Y_Perimeter</th>\n",
       "      <th>Sum_of_Luminosity</th>\n",
       "      <th>Minimum_of_Luminosity</th>\n",
       "      <th>Maximum_of_Luminosity</th>\n",
       "      <th>...</th>\n",
       "      <th>Luminosity_Index</th>\n",
       "      <th>SigmoidOfAreas</th>\n",
       "      <th>Pastry</th>\n",
       "      <th>Z_Scratch</th>\n",
       "      <th>K_Scatch</th>\n",
       "      <th>Stains</th>\n",
       "      <th>Dirtiness</th>\n",
       "      <th>Bumps</th>\n",
       "      <th>Other_Faults</th>\n",
       "      <th>class</th>\n",
       "    </tr>\n",
       "  </thead>\n",
       "  <tbody>\n",
       "    <tr>\n",
       "      <th>0</th>\n",
       "      <td>42</td>\n",
       "      <td>50</td>\n",
       "      <td>270900</td>\n",
       "      <td>270944</td>\n",
       "      <td>267</td>\n",
       "      <td>17</td>\n",
       "      <td>44</td>\n",
       "      <td>24220</td>\n",
       "      <td>76</td>\n",
       "      <td>108</td>\n",
       "      <td>...</td>\n",
       "      <td>-0.2913</td>\n",
       "      <td>0.5822</td>\n",
       "      <td>1</td>\n",
       "      <td>0</td>\n",
       "      <td>0</td>\n",
       "      <td>0</td>\n",
       "      <td>0</td>\n",
       "      <td>0</td>\n",
       "      <td>0</td>\n",
       "      <td>Pastry</td>\n",
       "    </tr>\n",
       "    <tr>\n",
       "      <th>1</th>\n",
       "      <td>645</td>\n",
       "      <td>651</td>\n",
       "      <td>2538079</td>\n",
       "      <td>2538108</td>\n",
       "      <td>108</td>\n",
       "      <td>10</td>\n",
       "      <td>30</td>\n",
       "      <td>11397</td>\n",
       "      <td>84</td>\n",
       "      <td>123</td>\n",
       "      <td>...</td>\n",
       "      <td>-0.1756</td>\n",
       "      <td>0.2984</td>\n",
       "      <td>1</td>\n",
       "      <td>0</td>\n",
       "      <td>0</td>\n",
       "      <td>0</td>\n",
       "      <td>0</td>\n",
       "      <td>0</td>\n",
       "      <td>0</td>\n",
       "      <td>Pastry</td>\n",
       "    </tr>\n",
       "    <tr>\n",
       "      <th>2</th>\n",
       "      <td>829</td>\n",
       "      <td>835</td>\n",
       "      <td>1553913</td>\n",
       "      <td>1553931</td>\n",
       "      <td>71</td>\n",
       "      <td>8</td>\n",
       "      <td>19</td>\n",
       "      <td>7972</td>\n",
       "      <td>99</td>\n",
       "      <td>125</td>\n",
       "      <td>...</td>\n",
       "      <td>-0.1228</td>\n",
       "      <td>0.2150</td>\n",
       "      <td>1</td>\n",
       "      <td>0</td>\n",
       "      <td>0</td>\n",
       "      <td>0</td>\n",
       "      <td>0</td>\n",
       "      <td>0</td>\n",
       "      <td>0</td>\n",
       "      <td>Pastry</td>\n",
       "    </tr>\n",
       "    <tr>\n",
       "      <th>3</th>\n",
       "      <td>853</td>\n",
       "      <td>860</td>\n",
       "      <td>369370</td>\n",
       "      <td>369415</td>\n",
       "      <td>176</td>\n",
       "      <td>13</td>\n",
       "      <td>45</td>\n",
       "      <td>18996</td>\n",
       "      <td>99</td>\n",
       "      <td>126</td>\n",
       "      <td>...</td>\n",
       "      <td>-0.1568</td>\n",
       "      <td>0.5212</td>\n",
       "      <td>1</td>\n",
       "      <td>0</td>\n",
       "      <td>0</td>\n",
       "      <td>0</td>\n",
       "      <td>0</td>\n",
       "      <td>0</td>\n",
       "      <td>0</td>\n",
       "      <td>Pastry</td>\n",
       "    </tr>\n",
       "    <tr>\n",
       "      <th>4</th>\n",
       "      <td>1289</td>\n",
       "      <td>1306</td>\n",
       "      <td>498078</td>\n",
       "      <td>498335</td>\n",
       "      <td>2409</td>\n",
       "      <td>60</td>\n",
       "      <td>260</td>\n",
       "      <td>246930</td>\n",
       "      <td>37</td>\n",
       "      <td>126</td>\n",
       "      <td>...</td>\n",
       "      <td>-0.1992</td>\n",
       "      <td>1.0000</td>\n",
       "      <td>1</td>\n",
       "      <td>0</td>\n",
       "      <td>0</td>\n",
       "      <td>0</td>\n",
       "      <td>0</td>\n",
       "      <td>0</td>\n",
       "      <td>0</td>\n",
       "      <td>Pastry</td>\n",
       "    </tr>\n",
       "    <tr>\n",
       "      <th>...</th>\n",
       "      <td>...</td>\n",
       "      <td>...</td>\n",
       "      <td>...</td>\n",
       "      <td>...</td>\n",
       "      <td>...</td>\n",
       "      <td>...</td>\n",
       "      <td>...</td>\n",
       "      <td>...</td>\n",
       "      <td>...</td>\n",
       "      <td>...</td>\n",
       "      <td>...</td>\n",
       "      <td>...</td>\n",
       "      <td>...</td>\n",
       "      <td>...</td>\n",
       "      <td>...</td>\n",
       "      <td>...</td>\n",
       "      <td>...</td>\n",
       "      <td>...</td>\n",
       "      <td>...</td>\n",
       "      <td>...</td>\n",
       "      <td>...</td>\n",
       "    </tr>\n",
       "    <tr>\n",
       "      <th>1936</th>\n",
       "      <td>249</td>\n",
       "      <td>277</td>\n",
       "      <td>325780</td>\n",
       "      <td>325796</td>\n",
       "      <td>273</td>\n",
       "      <td>54</td>\n",
       "      <td>22</td>\n",
       "      <td>35033</td>\n",
       "      <td>119</td>\n",
       "      <td>141</td>\n",
       "      <td>...</td>\n",
       "      <td>0.0026</td>\n",
       "      <td>0.7254</td>\n",
       "      <td>0</td>\n",
       "      <td>0</td>\n",
       "      <td>0</td>\n",
       "      <td>0</td>\n",
       "      <td>0</td>\n",
       "      <td>0</td>\n",
       "      <td>1</td>\n",
       "      <td>Other_Faults</td>\n",
       "    </tr>\n",
       "    <tr>\n",
       "      <th>1937</th>\n",
       "      <td>144</td>\n",
       "      <td>175</td>\n",
       "      <td>340581</td>\n",
       "      <td>340598</td>\n",
       "      <td>287</td>\n",
       "      <td>44</td>\n",
       "      <td>24</td>\n",
       "      <td>34599</td>\n",
       "      <td>112</td>\n",
       "      <td>133</td>\n",
       "      <td>...</td>\n",
       "      <td>-0.0582</td>\n",
       "      <td>0.8173</td>\n",
       "      <td>0</td>\n",
       "      <td>0</td>\n",
       "      <td>0</td>\n",
       "      <td>0</td>\n",
       "      <td>0</td>\n",
       "      <td>0</td>\n",
       "      <td>1</td>\n",
       "      <td>Other_Faults</td>\n",
       "    </tr>\n",
       "    <tr>\n",
       "      <th>1938</th>\n",
       "      <td>145</td>\n",
       "      <td>174</td>\n",
       "      <td>386779</td>\n",
       "      <td>386794</td>\n",
       "      <td>292</td>\n",
       "      <td>40</td>\n",
       "      <td>22</td>\n",
       "      <td>37572</td>\n",
       "      <td>120</td>\n",
       "      <td>140</td>\n",
       "      <td>...</td>\n",
       "      <td>0.0052</td>\n",
       "      <td>0.7079</td>\n",
       "      <td>0</td>\n",
       "      <td>0</td>\n",
       "      <td>0</td>\n",
       "      <td>0</td>\n",
       "      <td>0</td>\n",
       "      <td>0</td>\n",
       "      <td>1</td>\n",
       "      <td>Other_Faults</td>\n",
       "    </tr>\n",
       "    <tr>\n",
       "      <th>1939</th>\n",
       "      <td>137</td>\n",
       "      <td>170</td>\n",
       "      <td>422497</td>\n",
       "      <td>422528</td>\n",
       "      <td>419</td>\n",
       "      <td>97</td>\n",
       "      <td>47</td>\n",
       "      <td>52715</td>\n",
       "      <td>117</td>\n",
       "      <td>140</td>\n",
       "      <td>...</td>\n",
       "      <td>-0.0171</td>\n",
       "      <td>0.9919</td>\n",
       "      <td>0</td>\n",
       "      <td>0</td>\n",
       "      <td>0</td>\n",
       "      <td>0</td>\n",
       "      <td>0</td>\n",
       "      <td>0</td>\n",
       "      <td>1</td>\n",
       "      <td>Other_Faults</td>\n",
       "    </tr>\n",
       "    <tr>\n",
       "      <th>1940</th>\n",
       "      <td>1261</td>\n",
       "      <td>1281</td>\n",
       "      <td>87951</td>\n",
       "      <td>87967</td>\n",
       "      <td>103</td>\n",
       "      <td>26</td>\n",
       "      <td>22</td>\n",
       "      <td>11682</td>\n",
       "      <td>101</td>\n",
       "      <td>133</td>\n",
       "      <td>...</td>\n",
       "      <td>-0.1139</td>\n",
       "      <td>0.5296</td>\n",
       "      <td>0</td>\n",
       "      <td>0</td>\n",
       "      <td>0</td>\n",
       "      <td>0</td>\n",
       "      <td>0</td>\n",
       "      <td>0</td>\n",
       "      <td>1</td>\n",
       "      <td>Other_Faults</td>\n",
       "    </tr>\n",
       "  </tbody>\n",
       "</table>\n",
       "<p>1941 rows × 35 columns</p>\n",
       "</div>"
      ],
      "text/plain": [
       "      X_Minimum  X_Maximum  Y_Minimum  Y_Maximum  Pixels_Areas  X_Perimeter  \\\n",
       "0            42         50     270900     270944           267           17   \n",
       "1           645        651    2538079    2538108           108           10   \n",
       "2           829        835    1553913    1553931            71            8   \n",
       "3           853        860     369370     369415           176           13   \n",
       "4          1289       1306     498078     498335          2409           60   \n",
       "...         ...        ...        ...        ...           ...          ...   \n",
       "1936        249        277     325780     325796           273           54   \n",
       "1937        144        175     340581     340598           287           44   \n",
       "1938        145        174     386779     386794           292           40   \n",
       "1939        137        170     422497     422528           419           97   \n",
       "1940       1261       1281      87951      87967           103           26   \n",
       "\n",
       "      Y_Perimeter  Sum_of_Luminosity  Minimum_of_Luminosity  \\\n",
       "0              44              24220                     76   \n",
       "1              30              11397                     84   \n",
       "2              19               7972                     99   \n",
       "3              45              18996                     99   \n",
       "4             260             246930                     37   \n",
       "...           ...                ...                    ...   \n",
       "1936           22              35033                    119   \n",
       "1937           24              34599                    112   \n",
       "1938           22              37572                    120   \n",
       "1939           47              52715                    117   \n",
       "1940           22              11682                    101   \n",
       "\n",
       "      Maximum_of_Luminosity  ...  Luminosity_Index  SigmoidOfAreas  Pastry  \\\n",
       "0                       108  ...           -0.2913          0.5822       1   \n",
       "1                       123  ...           -0.1756          0.2984       1   \n",
       "2                       125  ...           -0.1228          0.2150       1   \n",
       "3                       126  ...           -0.1568          0.5212       1   \n",
       "4                       126  ...           -0.1992          1.0000       1   \n",
       "...                     ...  ...               ...             ...     ...   \n",
       "1936                    141  ...            0.0026          0.7254       0   \n",
       "1937                    133  ...           -0.0582          0.8173       0   \n",
       "1938                    140  ...            0.0052          0.7079       0   \n",
       "1939                    140  ...           -0.0171          0.9919       0   \n",
       "1940                    133  ...           -0.1139          0.5296       0   \n",
       "\n",
       "      Z_Scratch  K_Scatch  Stains  Dirtiness  Bumps  Other_Faults  \\\n",
       "0             0         0       0          0      0             0   \n",
       "1             0         0       0          0      0             0   \n",
       "2             0         0       0          0      0             0   \n",
       "3             0         0       0          0      0             0   \n",
       "4             0         0       0          0      0             0   \n",
       "...         ...       ...     ...        ...    ...           ...   \n",
       "1936          0         0       0          0      0             1   \n",
       "1937          0         0       0          0      0             1   \n",
       "1938          0         0       0          0      0             1   \n",
       "1939          0         0       0          0      0             1   \n",
       "1940          0         0       0          0      0             1   \n",
       "\n",
       "             class  \n",
       "0           Pastry  \n",
       "1           Pastry  \n",
       "2           Pastry  \n",
       "3           Pastry  \n",
       "4           Pastry  \n",
       "...            ...  \n",
       "1936  Other_Faults  \n",
       "1937  Other_Faults  \n",
       "1938  Other_Faults  \n",
       "1939  Other_Faults  \n",
       "1940  Other_Faults  \n",
       "\n",
       "[1941 rows x 35 columns]"
      ]
     },
     "execution_count": 68,
     "metadata": {},
     "output_type": "execute_result"
    }
   ],
   "source": [
    "df = pd.read_csv('./Faults.csv', index_col=0)\n",
    "df"
   ]
  },
  {
   "cell_type": "code",
   "execution_count": 69,
   "id": "fab133d0",
   "metadata": {},
   "outputs": [
    {
     "data": {
      "text/plain": [
       "Index(['X_Minimum', 'X_Maximum', 'Y_Minimum', 'Y_Maximum', 'Pixels_Areas',\n",
       "       'X_Perimeter', 'Y_Perimeter', 'Sum_of_Luminosity',\n",
       "       'Minimum_of_Luminosity', 'Maximum_of_Luminosity', 'Length_of_Conveyer',\n",
       "       'TypeOfSteel_A300', 'TypeOfSteel_A400', 'Steel_Plate_Thickness',\n",
       "       'Edges_Index', 'Empty_Index', 'Square_Index', 'Outside_X_Index',\n",
       "       'Edges_X_Index', 'Edges_Y_Index', 'Outside_Global_Index', 'LogOfAreas',\n",
       "       'Log_X_Index', 'Log_Y_Index', 'Orientation_Index', 'Luminosity_Index',\n",
       "       'SigmoidOfAreas', 'Pastry', 'Z_Scratch', 'K_Scatch', 'Stains',\n",
       "       'Dirtiness', 'Bumps', 'Other_Faults', 'class'],\n",
       "      dtype='object')"
      ]
     },
     "execution_count": 69,
     "metadata": {},
     "output_type": "execute_result"
    }
   ],
   "source": [
    "df.columns"
   ]
  },
  {
   "cell_type": "code",
   "execution_count": 70,
   "id": "a49a0553",
   "metadata": {},
   "outputs": [],
   "source": [
    "x = df[['X_Minimum', 'X_Maximum', 'Y_Minimum', 'Y_Maximum', 'Pixels_Areas',\n",
    "       'X_Perimeter', 'Y_Perimeter', 'Sum_of_Luminosity',\n",
    "       'Minimum_of_Luminosity', 'Maximum_of_Luminosity', 'Length_of_Conveyer',\n",
    "       'TypeOfSteel_A300', 'TypeOfSteel_A400', 'Steel_Plate_Thickness',\n",
    "       'Edges_Index', 'Empty_Index', 'Square_Index', 'Outside_X_Index',\n",
    "       'Edges_X_Index', 'Edges_Y_Index', 'Outside_Global_Index', 'LogOfAreas',\n",
    "       'Log_X_Index', 'Log_Y_Index', 'Orientation_Index', 'Luminosity_Index',\n",
    "       'SigmoidOfAreas']]\n",
    "y = df['K_Scatch']"
   ]
  },
  {
   "cell_type": "code",
   "execution_count": 71,
   "id": "a1129ec1",
   "metadata": {},
   "outputs": [],
   "source": [
    "from sklearn.model_selection import train_test_split\n",
    "from scipy.stats import zscore"
   ]
  },
  {
   "cell_type": "markdown",
   "id": "0dfd1d24",
   "metadata": {},
   "source": [
    "**Z-Score**\n",
    "$\\text{표준편차를 단위로 봤을 때 측정치가 평균에서 얼마만큼 일탈하였는가를 확인} \\\\\n",
    "\\text{각 데이터의 단위가 다르더라도 동일선상에서 얼마만큼 평균에서 떨어져있는지를 같은 Z-score 기준으로 확인가능}\\\\\n",
    "\\rightarrow z = \\cfrac{\\text{score}-\\text{mean}}{\\text{standard deviation}} = \\cfrac{x-\\text{mean}}{\\text{standard deviation}}$"
   ]
  },
  {
   "cell_type": "code",
   "execution_count": 72,
   "id": "992151fa",
   "metadata": {},
   "outputs": [],
   "source": [
    "x_train, x_test, y_train, y_test = train_test_split(x, y, test_size=0.2, random_state=1, stratify=y) \n",
    "#stratify=y: y값의 비율을 유지한체 split"
   ]
  },
  {
   "cell_type": "code",
   "execution_count": 73,
   "id": "ec349240",
   "metadata": {},
   "outputs": [],
   "source": [
    "x_train = x_train.apply(zscore)\n",
    "x_test = x_test.apply(zscore)"
   ]
  },
  {
   "cell_type": "code",
   "execution_count": 74,
   "id": "d04bbe26",
   "metadata": {},
   "outputs": [
    {
     "data": {
      "text/html": [
       "<div>\n",
       "<style scoped>\n",
       "    .dataframe tbody tr th:only-of-type {\n",
       "        vertical-align: middle;\n",
       "    }\n",
       "\n",
       "    .dataframe tbody tr th {\n",
       "        vertical-align: top;\n",
       "    }\n",
       "\n",
       "    .dataframe thead th {\n",
       "        text-align: right;\n",
       "    }\n",
       "</style>\n",
       "<table border=\"1\" class=\"dataframe\">\n",
       "  <thead>\n",
       "    <tr style=\"text-align: right;\">\n",
       "      <th></th>\n",
       "      <th>X_Minimum</th>\n",
       "      <th>X_Maximum</th>\n",
       "      <th>Y_Minimum</th>\n",
       "      <th>Y_Maximum</th>\n",
       "      <th>Pixels_Areas</th>\n",
       "      <th>X_Perimeter</th>\n",
       "      <th>Y_Perimeter</th>\n",
       "      <th>Sum_of_Luminosity</th>\n",
       "      <th>Minimum_of_Luminosity</th>\n",
       "      <th>Maximum_of_Luminosity</th>\n",
       "      <th>...</th>\n",
       "      <th>Outside_X_Index</th>\n",
       "      <th>Edges_X_Index</th>\n",
       "      <th>Edges_Y_Index</th>\n",
       "      <th>Outside_Global_Index</th>\n",
       "      <th>LogOfAreas</th>\n",
       "      <th>Log_X_Index</th>\n",
       "      <th>Log_Y_Index</th>\n",
       "      <th>Orientation_Index</th>\n",
       "      <th>Luminosity_Index</th>\n",
       "      <th>SigmoidOfAreas</th>\n",
       "    </tr>\n",
       "  </thead>\n",
       "  <tbody>\n",
       "    <tr>\n",
       "      <th>count</th>\n",
       "      <td>1.552000e+03</td>\n",
       "      <td>1.552000e+03</td>\n",
       "      <td>1.552000e+03</td>\n",
       "      <td>1.552000e+03</td>\n",
       "      <td>1.552000e+03</td>\n",
       "      <td>1.552000e+03</td>\n",
       "      <td>1.552000e+03</td>\n",
       "      <td>1.552000e+03</td>\n",
       "      <td>1.552000e+03</td>\n",
       "      <td>1.552000e+03</td>\n",
       "      <td>...</td>\n",
       "      <td>1.552000e+03</td>\n",
       "      <td>1.552000e+03</td>\n",
       "      <td>1.552000e+03</td>\n",
       "      <td>1.552000e+03</td>\n",
       "      <td>1.552000e+03</td>\n",
       "      <td>1.552000e+03</td>\n",
       "      <td>1.552000e+03</td>\n",
       "      <td>1.552000e+03</td>\n",
       "      <td>1.552000e+03</td>\n",
       "      <td>1.552000e+03</td>\n",
       "    </tr>\n",
       "    <tr>\n",
       "      <th>mean</th>\n",
       "      <td>-1.075886e-16</td>\n",
       "      <td>-2.632488e-17</td>\n",
       "      <td>-4.578239e-17</td>\n",
       "      <td>-2.174664e-17</td>\n",
       "      <td>6.867359e-18</td>\n",
       "      <td>-2.289120e-17</td>\n",
       "      <td>-2.289120e-18</td>\n",
       "      <td>-2.289120e-18</td>\n",
       "      <td>2.266228e-16</td>\n",
       "      <td>-6.764349e-16</td>\n",
       "      <td>...</td>\n",
       "      <td>-4.177643e-17</td>\n",
       "      <td>8.469743e-17</td>\n",
       "      <td>-1.682503e-16</td>\n",
       "      <td>1.831296e-17</td>\n",
       "      <td>2.666824e-16</td>\n",
       "      <td>6.352307e-17</td>\n",
       "      <td>6.867359e-18</td>\n",
       "      <td>3.891503e-17</td>\n",
       "      <td>4.349327e-17</td>\n",
       "      <td>1.133114e-16</td>\n",
       "    </tr>\n",
       "    <tr>\n",
       "      <th>std</th>\n",
       "      <td>1.000322e+00</td>\n",
       "      <td>1.000322e+00</td>\n",
       "      <td>1.000322e+00</td>\n",
       "      <td>1.000322e+00</td>\n",
       "      <td>1.000322e+00</td>\n",
       "      <td>1.000322e+00</td>\n",
       "      <td>1.000322e+00</td>\n",
       "      <td>1.000322e+00</td>\n",
       "      <td>1.000322e+00</td>\n",
       "      <td>1.000322e+00</td>\n",
       "      <td>...</td>\n",
       "      <td>1.000322e+00</td>\n",
       "      <td>1.000322e+00</td>\n",
       "      <td>1.000322e+00</td>\n",
       "      <td>1.000322e+00</td>\n",
       "      <td>1.000322e+00</td>\n",
       "      <td>1.000322e+00</td>\n",
       "      <td>1.000322e+00</td>\n",
       "      <td>1.000322e+00</td>\n",
       "      <td>1.000322e+00</td>\n",
       "      <td>1.000322e+00</td>\n",
       "    </tr>\n",
       "    <tr>\n",
       "      <th>min</th>\n",
       "      <td>-1.103367e+00</td>\n",
       "      <td>-1.241076e+00</td>\n",
       "      <td>-9.104613e-01</td>\n",
       "      <td>-9.104788e-01</td>\n",
       "      <td>-3.483794e-01</td>\n",
       "      <td>-3.406371e-01</td>\n",
       "      <td>-1.767603e-01</td>\n",
       "      <td>-3.893515e-01</td>\n",
       "      <td>-2.643140e+00</td>\n",
       "      <td>-5.071400e+00</td>\n",
       "      <td>...</td>\n",
       "      <td>-5.289097e-01</td>\n",
       "      <td>-2.468152e+00</td>\n",
       "      <td>-3.280170e+00</td>\n",
       "      <td>-1.185811e+00</td>\n",
       "      <td>-2.774003e+00</td>\n",
       "      <td>-2.156377e+00</td>\n",
       "      <td>-3.067242e+00</td>\n",
       "      <td>-2.143465e+00</td>\n",
       "      <td>-5.839974e+00</td>\n",
       "      <td>-1.367353e+00</td>\n",
       "    </tr>\n",
       "    <tr>\n",
       "      <th>25%</th>\n",
       "      <td>-9.883000e-01</td>\n",
       "      <td>-8.621817e-01</td>\n",
       "      <td>-6.562362e-01</td>\n",
       "      <td>-6.562372e-01</td>\n",
       "      <td>-3.333730e-01</td>\n",
       "      <td>-3.004833e-01</td>\n",
       "      <td>-1.514077e-01</td>\n",
       "      <td>-3.719521e-01</td>\n",
       "      <td>-6.554519e-01</td>\n",
       "      <td>-3.480654e-01</td>\n",
       "      <td>...</td>\n",
       "      <td>-4.443167e-01</td>\n",
       "      <td>-7.982123e-01</td>\n",
       "      <td>-9.250766e-01</td>\n",
       "      <td>-1.185811e+00</td>\n",
       "      <td>-7.146692e-01</td>\n",
       "      <td>-6.985005e-01</td>\n",
       "      <td>-6.999318e-01</td>\n",
       "      <td>-8.252854e-01</td>\n",
       "      <td>-4.361607e-01</td>\n",
       "      <td>-9.978418e-01</td>\n",
       "    </tr>\n",
       "    <tr>\n",
       "      <th>50%</th>\n",
       "      <td>-2.637179e-01</td>\n",
       "      <td>-2.988794e-01</td>\n",
       "      <td>-2.545875e-01</td>\n",
       "      <td>-2.546108e-01</td>\n",
       "      <td>-3.171771e-01</td>\n",
       "      <td>-2.665069e-01</td>\n",
       "      <td>-1.260551e-01</td>\n",
       "      <td>-3.538504e-01</td>\n",
       "      <td>1.675751e-01</td>\n",
       "      <td>-1.851918e-01</td>\n",
       "      <td>...</td>\n",
       "      <td>-3.870920e-01</td>\n",
       "      <td>1.006070e-01</td>\n",
       "      <td>5.824951e-01</td>\n",
       "      <td>8.913658e-01</td>\n",
       "      <td>-3.182921e-01</td>\n",
       "      <td>-3.312158e-01</td>\n",
       "      <td>-1.668921e-01</td>\n",
       "      <td>2.490715e-02</td>\n",
       "      <td>-1.325061e-02</td>\n",
       "      <td>-2.443915e-01</td>\n",
       "    </tr>\n",
       "    <tr>\n",
       "      <th>75%</th>\n",
       "      <td>9.307593e-01</td>\n",
       "      <td>9.199295e-01</td>\n",
       "      <td>2.919470e-01</td>\n",
       "      <td>2.919292e-01</td>\n",
       "      <td>-2.027537e-01</td>\n",
       "      <td>-8.967550e-02</td>\n",
       "      <td>-1.144025e-02</td>\n",
       "      <td>-2.343737e-01</td>\n",
       "      <td>6.567327e-01</td>\n",
       "      <td>5.205939e-01</td>\n",
       "      <td>...</td>\n",
       "      <td>-1.623398e-01</td>\n",
       "      <td>7.575785e-01</td>\n",
       "      <td>7.858832e-01</td>\n",
       "      <td>8.913658e-01</td>\n",
       "      <td>5.254920e-01</td>\n",
       "      <td>3.829141e-01</td>\n",
       "      <td>7.329140e-01</td>\n",
       "      <td>8.448359e-01</td>\n",
       "      <td>4.324923e-01</td>\n",
       "      <td>1.226000e+00</td>\n",
       "    </tr>\n",
       "    <tr>\n",
       "      <th>max</th>\n",
       "      <td>2.180122e+00</td>\n",
       "      <td>2.203231e+00</td>\n",
       "      <td>6.155444e+00</td>\n",
       "      <td>6.155404e+00</td>\n",
       "      <td>2.758779e+01</td>\n",
       "      <td>3.192762e+01</td>\n",
       "      <td>3.817116e+01</td>\n",
       "      <td>2.140560e+01</td>\n",
       "      <td>3.661558e+00</td>\n",
       "      <td>6.601209e+00</td>\n",
       "      <td>...</td>\n",
       "      <td>1.397465e+01</td>\n",
       "      <td>1.578793e+00</td>\n",
       "      <td>7.858832e-01</td>\n",
       "      <td>8.913658e-01</td>\n",
       "      <td>3.420237e+00</td>\n",
       "      <td>3.627366e+00</td>\n",
       "      <td>6.274553e+00</td>\n",
       "      <td>1.830314e+00</td>\n",
       "      <td>5.180199e+00</td>\n",
       "      <td>1.226589e+00</td>\n",
       "    </tr>\n",
       "  </tbody>\n",
       "</table>\n",
       "<p>8 rows × 27 columns</p>\n",
       "</div>"
      ],
      "text/plain": [
       "          X_Minimum     X_Maximum     Y_Minimum     Y_Maximum  Pixels_Areas  \\\n",
       "count  1.552000e+03  1.552000e+03  1.552000e+03  1.552000e+03  1.552000e+03   \n",
       "mean  -1.075886e-16 -2.632488e-17 -4.578239e-17 -2.174664e-17  6.867359e-18   \n",
       "std    1.000322e+00  1.000322e+00  1.000322e+00  1.000322e+00  1.000322e+00   \n",
       "min   -1.103367e+00 -1.241076e+00 -9.104613e-01 -9.104788e-01 -3.483794e-01   \n",
       "25%   -9.883000e-01 -8.621817e-01 -6.562362e-01 -6.562372e-01 -3.333730e-01   \n",
       "50%   -2.637179e-01 -2.988794e-01 -2.545875e-01 -2.546108e-01 -3.171771e-01   \n",
       "75%    9.307593e-01  9.199295e-01  2.919470e-01  2.919292e-01 -2.027537e-01   \n",
       "max    2.180122e+00  2.203231e+00  6.155444e+00  6.155404e+00  2.758779e+01   \n",
       "\n",
       "        X_Perimeter   Y_Perimeter  Sum_of_Luminosity  Minimum_of_Luminosity  \\\n",
       "count  1.552000e+03  1.552000e+03       1.552000e+03           1.552000e+03   \n",
       "mean  -2.289120e-17 -2.289120e-18      -2.289120e-18           2.266228e-16   \n",
       "std    1.000322e+00  1.000322e+00       1.000322e+00           1.000322e+00   \n",
       "min   -3.406371e-01 -1.767603e-01      -3.893515e-01          -2.643140e+00   \n",
       "25%   -3.004833e-01 -1.514077e-01      -3.719521e-01          -6.554519e-01   \n",
       "50%   -2.665069e-01 -1.260551e-01      -3.538504e-01           1.675751e-01   \n",
       "75%   -8.967550e-02 -1.144025e-02      -2.343737e-01           6.567327e-01   \n",
       "max    3.192762e+01  3.817116e+01       2.140560e+01           3.661558e+00   \n",
       "\n",
       "       Maximum_of_Luminosity  ...  Outside_X_Index  Edges_X_Index  \\\n",
       "count           1.552000e+03  ...     1.552000e+03   1.552000e+03   \n",
       "mean           -6.764349e-16  ...    -4.177643e-17   8.469743e-17   \n",
       "std             1.000322e+00  ...     1.000322e+00   1.000322e+00   \n",
       "min            -5.071400e+00  ...    -5.289097e-01  -2.468152e+00   \n",
       "25%            -3.480654e-01  ...    -4.443167e-01  -7.982123e-01   \n",
       "50%            -1.851918e-01  ...    -3.870920e-01   1.006070e-01   \n",
       "75%             5.205939e-01  ...    -1.623398e-01   7.575785e-01   \n",
       "max             6.601209e+00  ...     1.397465e+01   1.578793e+00   \n",
       "\n",
       "       Edges_Y_Index  Outside_Global_Index    LogOfAreas   Log_X_Index  \\\n",
       "count   1.552000e+03          1.552000e+03  1.552000e+03  1.552000e+03   \n",
       "mean   -1.682503e-16          1.831296e-17  2.666824e-16  6.352307e-17   \n",
       "std     1.000322e+00          1.000322e+00  1.000322e+00  1.000322e+00   \n",
       "min    -3.280170e+00         -1.185811e+00 -2.774003e+00 -2.156377e+00   \n",
       "25%    -9.250766e-01         -1.185811e+00 -7.146692e-01 -6.985005e-01   \n",
       "50%     5.824951e-01          8.913658e-01 -3.182921e-01 -3.312158e-01   \n",
       "75%     7.858832e-01          8.913658e-01  5.254920e-01  3.829141e-01   \n",
       "max     7.858832e-01          8.913658e-01  3.420237e+00  3.627366e+00   \n",
       "\n",
       "        Log_Y_Index  Orientation_Index  Luminosity_Index  SigmoidOfAreas  \n",
       "count  1.552000e+03       1.552000e+03      1.552000e+03    1.552000e+03  \n",
       "mean   6.867359e-18       3.891503e-17      4.349327e-17    1.133114e-16  \n",
       "std    1.000322e+00       1.000322e+00      1.000322e+00    1.000322e+00  \n",
       "min   -3.067242e+00      -2.143465e+00     -5.839974e+00   -1.367353e+00  \n",
       "25%   -6.999318e-01      -8.252854e-01     -4.361607e-01   -9.978418e-01  \n",
       "50%   -1.668921e-01       2.490715e-02     -1.325061e-02   -2.443915e-01  \n",
       "75%    7.329140e-01       8.448359e-01      4.324923e-01    1.226000e+00  \n",
       "max    6.274553e+00       1.830314e+00      5.180199e+00    1.226589e+00  \n",
       "\n",
       "[8 rows x 27 columns]"
      ]
     },
     "execution_count": 74,
     "metadata": {},
     "output_type": "execute_result"
    }
   ],
   "source": [
    "x_train.describe()"
   ]
  },
  {
   "cell_type": "markdown",
   "id": "1b63fbcb",
   "metadata": {},
   "source": [
    "## Grid Search\n",
    "### LogisticRegression"
   ]
  },
  {
   "cell_type": "code",
   "execution_count": 75,
   "id": "39e7f3fb",
   "metadata": {},
   "outputs": [],
   "source": [
    "from sklearn.model_selection import GridSearchCV #각 모델의 파라미터를 최적화하는데 사용\n",
    "from sklearn.linear_model import LogisticRegression\n",
    "from sklearn.metrics import accuracy_score, classification_report, confusion_matrix\n",
    "from mlxtend.plotting import plot_confusion_matrix\n",
    "from colorama import Fore"
   ]
  },
  {
   "cell_type": "markdown",
   "id": "ee278489",
   "metadata": {},
   "source": [
    "### Subset Selection\n",
    "[Reference](https://direction-f.tistory.com/75)\n",
    "$\\text{- 사용 가능한 Dependent Variable들이 많으나 어떤 것이 유의미한 변수인지 선택하기 어려울 때 활용할만한 변수를 선정하기위해 적용하는 방법}\\\\\n",
    "\\: \\cdot \\textbf{Best Subset Selection}\\\\\n",
    "\\: \\cdot \\textbf{Stepwise Selection} \\\\\n",
    "\\rightarrow \\text{Best Subset Selection은 모든 모델을 고려하여 가장 좋은 모델을 선택하는만큼 계산효율성이 떨어짐}\\\\\n",
    "\\rightarrow \\text{Stepwise Selection은 크게 }\\textbf{Forward Stepwise Selection, Backward Stepwise Selection } \\text{으로 구분} \\\\\n",
    "\\quad \\cdot \\text{Forward Stepwise Selection: 변수사이즈 0부터 시작하여 하나씩 변수를 추가}\\\\\n",
    "\\quad \\cdot \\text{Backward Stepwise Selection: Full model로 시작하여 하나씩 변수를 제거}\\\\\n",
    "$\n",
    "$\n",
    "\\textbf{Grid Search}\\text{ 기반에 Subset Selection은 }\\textbf{Discrete Process}\\text{ 이기 때문에 종종 중요한 변수를 놓치거나 중요하지 않은 변수를 포함하는 경우가 있음}\n",
    "$"
   ]
  },
  {
   "cell_type": "markdown",
   "id": "c28c0c74",
   "metadata": {},
   "source": [
    "**The Lasso**  \n",
    "[Reference](https://modern-manual.tistory.com/22)\n",
    "- 최소제곱법과 유사하나 '각 계수 절댓값의 합'을 수식에 포함하여 계수의 크기도 함께 최소화하도록 만든다.\n",
    "- Lasso를 사용하면 자연스럽게 Subset selection효과가 나타난다.  \n",
    "$\\textbf{RSS}+\\lambda\\sum\\limits_{j=1}^{p}|\\beta_j|$\n",
    "- 위 식에 대해 **Gradient descent**를 수행하면 일부 덜 중요한 계수들이 0으로 수렴하는 결과가 나온다.\n",
    "- 위 식에 미분을 사용하여 풀 때, 절대값으로인해 꺾이는 부분은 0으로 치환하여 처리하고 나머지 부분은 미분가능하다.\n",
    "<img src=\"./Lasso_Ridge.jpeg\" width=\"500px\" height=\"300px\" title=\"Lasso and Lidge\"></img>\n",
    "- Lasso는 절대값이 들어간 수식으로인해 모서리가 뾰족한 마름모 형태를 나타내므로 일부의 $\\beta$는 0이되는 파라미터의 조합을 고르게된다.\n",
    "- Ridge regression은 $\\beta_j^2$을 사용하여 파란 원형과 같이 그려진다. 둥근 모서리를 갖고 있기 때문에 계수가 적당히 작은 값을 취하지만 0이 되지는 않는다.\n",
    "\n",
    "**Intuition of Lasso**\n",
    "- Lasso를 적용하여 모델의 Performance가 더 좋아졌다면, 데이터의 일부 파라미터를 제거하는 것이 더 결과가 좋다는 Insight를 가질 수 있다.\n",
    "\n",
    "**The Ridge Regression**  \n",
    "[Reference](https://modern-manual.tistory.com/21)\n",
    "- 기본 선형모델을 사용하다보면 Overfitting이 발생. 이를 표현하는 선형회귀의 계수값은 매우 크게 표현\n",
    "- 예) $y = 123123 - 123324x + 234234x^2$\n",
    "- 이렇게 Variance가 큰 상황을 막기위해 계수 자체가 크면 페널티를 주는 수식을 추가한 것이 **Ridge Regression**\n",
    "- **Ridge Regression**은 오차를 최소화하는 함수에 페널티를 줌으로써 보다 부드럽게 계수를 선택하는 차이가 형성\n",
    "- **Ridge Regression**은 기본 선형모델을 Regularize하여 보다 좋은 Performance를 내기위해 시도해볼 수 있는 기본 기법임\n",
    "\n",
    "**Scaling of Ridge**\n",
    "- Ridge는 변수의 크기에 따라 결과가 크게 변화되므로 변수를 스케일리ㅇ하여 서로 사이즈가 비슷하도록 만들어주는 작업이 필요\n",
    "- 일반적으로 표준편차를 각 Predictors마다 구한 뒤 각 데이터에 나눠줌"
   ]
  },
  {
   "cell_type": "code",
   "execution_count": 76,
   "id": "75bd9719",
   "metadata": {},
   "outputs": [],
   "source": [
    "### C: 회귀 계수의 제한되는 정도의 실수값 (클수록 강하게 제한)\n",
    "### penalty: l1, l2\n",
    "### solver: 'liblinear'일 때 l1 penalty 사용 가능.\n",
    "### tol: 언제까지 학습할지 결정. default=1e-4\n",
    "lm=LogisticRegression(solver='liblinear')"
   ]
  },
  {
   "cell_type": "code",
   "execution_count": 77,
   "id": "3df22401",
   "metadata": {},
   "outputs": [],
   "source": [
    "parameters={'penalty':['l1','l2'], 'C':[0.01, 0.1, 0.5, 0.9, 1, 5, 10], 'tol':[1e-4, 1e-2, 1e2]}"
   ]
  },
  {
   "cell_type": "code",
   "execution_count": 78,
   "id": "2052b1c0",
   "metadata": {},
   "outputs": [],
   "source": [
    "import os\n",
    "n_thread = os.cpu_count()"
   ]
  },
  {
   "cell_type": "code",
   "execution_count": 79,
   "id": "be481565",
   "metadata": {
    "scrolled": true
   },
   "outputs": [],
   "source": [
    "GSLR=GridSearchCV(lm, parameters, cv=10, n_jobs=n_thread, scoring='accuracy')"
   ]
  },
  {
   "cell_type": "code",
   "execution_count": 80,
   "id": "9541ca18",
   "metadata": {},
   "outputs": [
    {
     "data": {
      "text/html": [
       "<style>#sk-container-id-3 {color: black;background-color: white;}#sk-container-id-3 pre{padding: 0;}#sk-container-id-3 div.sk-toggleable {background-color: white;}#sk-container-id-3 label.sk-toggleable__label {cursor: pointer;display: block;width: 100%;margin-bottom: 0;padding: 0.3em;box-sizing: border-box;text-align: center;}#sk-container-id-3 label.sk-toggleable__label-arrow:before {content: \"▸\";float: left;margin-right: 0.25em;color: #696969;}#sk-container-id-3 label.sk-toggleable__label-arrow:hover:before {color: black;}#sk-container-id-3 div.sk-estimator:hover label.sk-toggleable__label-arrow:before {color: black;}#sk-container-id-3 div.sk-toggleable__content {max-height: 0;max-width: 0;overflow: hidden;text-align: left;background-color: #f0f8ff;}#sk-container-id-3 div.sk-toggleable__content pre {margin: 0.2em;color: black;border-radius: 0.25em;background-color: #f0f8ff;}#sk-container-id-3 input.sk-toggleable__control:checked~div.sk-toggleable__content {max-height: 200px;max-width: 100%;overflow: auto;}#sk-container-id-3 input.sk-toggleable__control:checked~label.sk-toggleable__label-arrow:before {content: \"▾\";}#sk-container-id-3 div.sk-estimator input.sk-toggleable__control:checked~label.sk-toggleable__label {background-color: #d4ebff;}#sk-container-id-3 div.sk-label input.sk-toggleable__control:checked~label.sk-toggleable__label {background-color: #d4ebff;}#sk-container-id-3 input.sk-hidden--visually {border: 0;clip: rect(1px 1px 1px 1px);clip: rect(1px, 1px, 1px, 1px);height: 1px;margin: -1px;overflow: hidden;padding: 0;position: absolute;width: 1px;}#sk-container-id-3 div.sk-estimator {font-family: monospace;background-color: #f0f8ff;border: 1px dotted black;border-radius: 0.25em;box-sizing: border-box;margin-bottom: 0.5em;}#sk-container-id-3 div.sk-estimator:hover {background-color: #d4ebff;}#sk-container-id-3 div.sk-parallel-item::after {content: \"\";width: 100%;border-bottom: 1px solid gray;flex-grow: 1;}#sk-container-id-3 div.sk-label:hover label.sk-toggleable__label {background-color: #d4ebff;}#sk-container-id-3 div.sk-serial::before {content: \"\";position: absolute;border-left: 1px solid gray;box-sizing: border-box;top: 0;bottom: 0;left: 50%;z-index: 0;}#sk-container-id-3 div.sk-serial {display: flex;flex-direction: column;align-items: center;background-color: white;padding-right: 0.2em;padding-left: 0.2em;position: relative;}#sk-container-id-3 div.sk-item {position: relative;z-index: 1;}#sk-container-id-3 div.sk-parallel {display: flex;align-items: stretch;justify-content: center;background-color: white;position: relative;}#sk-container-id-3 div.sk-item::before, #sk-container-id-3 div.sk-parallel-item::before {content: \"\";position: absolute;border-left: 1px solid gray;box-sizing: border-box;top: 0;bottom: 0;left: 50%;z-index: -1;}#sk-container-id-3 div.sk-parallel-item {display: flex;flex-direction: column;z-index: 1;position: relative;background-color: white;}#sk-container-id-3 div.sk-parallel-item:first-child::after {align-self: flex-end;width: 50%;}#sk-container-id-3 div.sk-parallel-item:last-child::after {align-self: flex-start;width: 50%;}#sk-container-id-3 div.sk-parallel-item:only-child::after {width: 0;}#sk-container-id-3 div.sk-dashed-wrapped {border: 1px dashed gray;margin: 0 0.4em 0.5em 0.4em;box-sizing: border-box;padding-bottom: 0.4em;background-color: white;}#sk-container-id-3 div.sk-label label {font-family: monospace;font-weight: bold;display: inline-block;line-height: 1.2em;}#sk-container-id-3 div.sk-label-container {text-align: center;}#sk-container-id-3 div.sk-container {/* jupyter's `normalize.less` sets `[hidden] { display: none; }` but bootstrap.min.css set `[hidden] { display: none !important; }` so we also need the `!important` here to be able to override the default hidden behavior on the sphinx rendered scikit-learn.org. See: https://github.com/scikit-learn/scikit-learn/issues/21755 */display: inline-block !important;position: relative;}#sk-container-id-3 div.sk-text-repr-fallback {display: none;}</style><div id=\"sk-container-id-3\" class=\"sk-top-container\"><div class=\"sk-text-repr-fallback\"><pre>GridSearchCV(cv=10, estimator=LogisticRegression(solver=&#x27;liblinear&#x27;), n_jobs=8,\n",
       "             param_grid={&#x27;C&#x27;: [0.01, 0.1, 0.5, 0.9, 1, 5, 10],\n",
       "                         &#x27;penalty&#x27;: [&#x27;l1&#x27;, &#x27;l2&#x27;],\n",
       "                         &#x27;tol&#x27;: [0.0001, 0.01, 100.0]},\n",
       "             scoring=&#x27;accuracy&#x27;)</pre><b>In a Jupyter environment, please rerun this cell to show the HTML representation or trust the notebook. <br />On GitHub, the HTML representation is unable to render, please try loading this page with nbviewer.org.</b></div><div class=\"sk-container\" hidden><div class=\"sk-item sk-dashed-wrapped\"><div class=\"sk-label-container\"><div class=\"sk-label sk-toggleable\"><input class=\"sk-toggleable__control sk-hidden--visually\" id=\"sk-estimator-id-7\" type=\"checkbox\" ><label for=\"sk-estimator-id-7\" class=\"sk-toggleable__label sk-toggleable__label-arrow\">GridSearchCV</label><div class=\"sk-toggleable__content\"><pre>GridSearchCV(cv=10, estimator=LogisticRegression(solver=&#x27;liblinear&#x27;), n_jobs=8,\n",
       "             param_grid={&#x27;C&#x27;: [0.01, 0.1, 0.5, 0.9, 1, 5, 10],\n",
       "                         &#x27;penalty&#x27;: [&#x27;l1&#x27;, &#x27;l2&#x27;],\n",
       "                         &#x27;tol&#x27;: [0.0001, 0.01, 100.0]},\n",
       "             scoring=&#x27;accuracy&#x27;)</pre></div></div></div><div class=\"sk-parallel\"><div class=\"sk-parallel-item\"><div class=\"sk-item\"><div class=\"sk-label-container\"><div class=\"sk-label sk-toggleable\"><input class=\"sk-toggleable__control sk-hidden--visually\" id=\"sk-estimator-id-8\" type=\"checkbox\" ><label for=\"sk-estimator-id-8\" class=\"sk-toggleable__label sk-toggleable__label-arrow\">estimator: LogisticRegression</label><div class=\"sk-toggleable__content\"><pre>LogisticRegression(solver=&#x27;liblinear&#x27;)</pre></div></div></div><div class=\"sk-serial\"><div class=\"sk-item\"><div class=\"sk-estimator sk-toggleable\"><input class=\"sk-toggleable__control sk-hidden--visually\" id=\"sk-estimator-id-9\" type=\"checkbox\" ><label for=\"sk-estimator-id-9\" class=\"sk-toggleable__label sk-toggleable__label-arrow\">LogisticRegression</label><div class=\"sk-toggleable__content\"><pre>LogisticRegression(solver=&#x27;liblinear&#x27;)</pre></div></div></div></div></div></div></div></div></div></div>"
      ],
      "text/plain": [
       "GridSearchCV(cv=10, estimator=LogisticRegression(solver='liblinear'), n_jobs=8,\n",
       "             param_grid={'C': [0.01, 0.1, 0.5, 0.9, 1, 5, 10],\n",
       "                         'penalty': ['l1', 'l2'],\n",
       "                         'tol': [0.0001, 0.01, 100.0]},\n",
       "             scoring='accuracy')"
      ]
     },
     "execution_count": 80,
     "metadata": {},
     "output_type": "execute_result"
    }
   ],
   "source": [
    "# Cross-Validation check\n",
    "GSLR.fit(x_train, y_train)"
   ]
  },
  {
   "cell_type": "code",
   "execution_count": 81,
   "id": "328688b8",
   "metadata": {},
   "outputs": [
    {
     "name": "stdout",
     "output_type": "stream",
     "text": [
      "final params {'C': 1, 'penalty': 'l2', 'tol': 0.0001}\n",
      "best score 0.9722911497105045\n"
     ]
    }
   ],
   "source": [
    "print('final params', GSLR.best_params_)\n",
    "print('best score', GSLR.best_score_)"
   ]
  },
  {
   "cell_type": "code",
   "execution_count": 82,
   "id": "069910b8",
   "metadata": {},
   "outputs": [
    {
     "name": "stdout",
     "output_type": "stream",
     "text": [
      "              precision    recall  f1-score   support\n",
      "\n",
      "           0       0.98      0.98      0.98       311\n",
      "           1       0.92      0.92      0.92        78\n",
      "\n",
      "    accuracy                           0.97       389\n",
      "   macro avg       0.95      0.95      0.95       389\n",
      "weighted avg       0.97      0.97      0.97       389\n",
      "\n",
      "\u001b[32mAccuracy of Logistic Regression is: 96.92%\n"
     ]
    }
   ],
   "source": [
    "GSLR_pred = GSLR.predict(x_test)\n",
    "GSLR_acc = accuracy_score(y_test, GSLR_pred)\n",
    "print(classification_report(y_test, GSLR_pred))\n",
    "print(Fore.GREEN + f\"Accuracy of Logistic Regression is: {100*GSLR_acc:2.2f}%\")"
   ]
  },
  {
   "cell_type": "code",
   "execution_count": 108,
   "id": "f97e8984",
   "metadata": {},
   "outputs": [
    {
     "data": {
      "text/plain": [
       "<Figure size 500x500 with 0 Axes>"
      ]
     },
     "metadata": {},
     "output_type": "display_data"
    },
    {
     "data": {
      "image/png": "[encoded data removed]",
      "text/plain": [
       "<Figure size 640x480 with 1 Axes>"
      ]
     },
     "metadata": {
      "image/png": {
       "height": 454,
       "width": 500
      }
     },
     "output_type": "display_data"
    }
   ],
   "source": [
    "cm = confusion_matrix(y_test, GSLR_pred)\n",
    "plt.figure(figsize=(5,5))\n",
    "plot_confusion_matrix(cm, hide_ticks=True, cmap=plt.cm.Blues)\n",
    "plt.title('Logistic Regression Model - Confusion Matrix')\n",
    "plt.xticks(range(2), [\"K-Scatch X\", 'K-Scratch O'], fontsize=10)\n",
    "plt.yticks(range(2), [\"K-Scatch X\", 'K-Scratch O'], fontsize=10)\n",
    "plt.show()"
   ]
  },
  {
   "cell_type": "code",
   "execution_count": 109,
   "id": "f092628c",
   "metadata": {},
   "outputs": [
    {
     "name": "stdout",
     "output_type": "stream",
     "text": [
      "0.945 (+/-0.037) for {'C': 0.01, 'penalty': 'l1', 'tol': 0.0001}\n",
      "0.945 (+/-0.034) for {'C': 0.01, 'penalty': 'l1', 'tol': 0.01}\n",
      "0.798 (+/-0.005) for {'C': 0.01, 'penalty': 'l1', 'tol': 100.0}\n",
      "0.950 (+/-0.033) for {'C': 0.01, 'penalty': 'l2', 'tol': 0.0001}\n",
      "0.950 (+/-0.033) for {'C': 0.01, 'penalty': 'l2', 'tol': 0.01}\n",
      "0.798 (+/-0.005) for {'C': 0.01, 'penalty': 'l2', 'tol': 100.0}\n",
      "0.964 (+/-0.028) for {'C': 0.1, 'penalty': 'l1', 'tol': 0.0001}\n",
      "0.963 (+/-0.027) for {'C': 0.1, 'penalty': 'l1', 'tol': 0.01}\n",
      "0.798 (+/-0.005) for {'C': 0.1, 'penalty': 'l1', 'tol': 100.0}\n",
      "0.966 (+/-0.021) for {'C': 0.1, 'penalty': 'l2', 'tol': 0.0001}\n",
      "0.966 (+/-0.021) for {'C': 0.1, 'penalty': 'l2', 'tol': 0.01}\n",
      "0.798 (+/-0.005) for {'C': 0.1, 'penalty': 'l2', 'tol': 100.0}\n",
      "0.969 (+/-0.028) for {'C': 0.5, 'penalty': 'l1', 'tol': 0.0001}\n",
      "0.968 (+/-0.027) for {'C': 0.5, 'penalty': 'l1', 'tol': 0.01}\n",
      "0.798 (+/-0.005) for {'C': 0.5, 'penalty': 'l1', 'tol': 100.0}\n",
      "0.969 (+/-0.023) for {'C': 0.5, 'penalty': 'l2', 'tol': 0.0001}\n",
      "0.968 (+/-0.020) for {'C': 0.5, 'penalty': 'l2', 'tol': 0.01}\n",
      "0.798 (+/-0.005) for {'C': 0.5, 'penalty': 'l2', 'tol': 100.0}\n",
      "0.969 (+/-0.030) for {'C': 0.9, 'penalty': 'l1', 'tol': 0.0001}\n",
      "0.969 (+/-0.033) for {'C': 0.9, 'penalty': 'l1', 'tol': 0.01}\n",
      "0.798 (+/-0.005) for {'C': 0.9, 'penalty': 'l1', 'tol': 100.0}\n",
      "0.971 (+/-0.022) for {'C': 0.9, 'penalty': 'l2', 'tol': 0.0001}\n",
      "0.972 (+/-0.025) for {'C': 0.9, 'penalty': 'l2', 'tol': 0.01}\n",
      "0.798 (+/-0.005) for {'C': 0.9, 'penalty': 'l2', 'tol': 100.0}\n",
      "0.970 (+/-0.030) for {'C': 1, 'penalty': 'l1', 'tol': 0.0001}\n",
      "0.969 (+/-0.025) for {'C': 1, 'penalty': 'l1', 'tol': 0.01}\n",
      "0.798 (+/-0.005) for {'C': 1, 'penalty': 'l1', 'tol': 100.0}\n",
      "0.972 (+/-0.023) for {'C': 1, 'penalty': 'l2', 'tol': 0.0001}\n",
      "0.972 (+/-0.025) for {'C': 1, 'penalty': 'l2', 'tol': 0.01}\n",
      "0.798 (+/-0.005) for {'C': 1, 'penalty': 'l2', 'tol': 100.0}\n",
      "0.970 (+/-0.027) for {'C': 5, 'penalty': 'l1', 'tol': 0.0001}\n",
      "0.972 (+/-0.026) for {'C': 5, 'penalty': 'l1', 'tol': 0.01}\n",
      "0.798 (+/-0.005) for {'C': 5, 'penalty': 'l1', 'tol': 100.0}\n",
      "0.972 (+/-0.028) for {'C': 5, 'penalty': 'l2', 'tol': 0.0001}\n",
      "0.972 (+/-0.028) for {'C': 5, 'penalty': 'l2', 'tol': 0.01}\n",
      "0.798 (+/-0.005) for {'C': 5, 'penalty': 'l2', 'tol': 100.0}\n",
      "0.972 (+/-0.025) for {'C': 10, 'penalty': 'l1', 'tol': 0.0001}\n",
      "0.972 (+/-0.023) for {'C': 10, 'penalty': 'l1', 'tol': 0.01}\n",
      "0.798 (+/-0.005) for {'C': 10, 'penalty': 'l1', 'tol': 100.0}\n",
      "0.971 (+/-0.026) for {'C': 10, 'penalty': 'l2', 'tol': 0.0001}\n",
      "0.971 (+/-0.024) for {'C': 10, 'penalty': 'l2', 'tol': 0.01}\n",
      "0.798 (+/-0.005) for {'C': 10, 'penalty': 'l2', 'tol': 100.0}\n"
     ]
    }
   ],
   "source": [
    "# Cross validation 과정에서 계산된 정확도 값들을 출력\n",
    "means = GSLR.cv_results_['mean_test_score']\n",
    "stds = GSLR.cv_results_['std_test_score']\n",
    "params = GSLR.cv_results_['params']\n",
    "for mean, std, params in zip(means, stds, params):\n",
    "    print(\"{0:.3f} (+/-{1:.03f}) for {2}\".format(mean, std*2, params))"
   ]
  },
  {
   "cell_type": "markdown",
   "id": "70500ad8",
   "metadata": {},
   "source": [
    "## Decision Tree\n",
    "**Parameters**\n",
    "- criterion: gini, enropy\n",
    "- max_depth: 최대 깊이를 제한\n",
    "- min_samples_split: 한 노드에 들어있는 최소 데이터 수 제한\n",
    "- min_samples_leaf\n",
    "- max_features: 변수의 개수를 제한\n",
    "\n",
    "**Pruning**: Overfitting을 낮추기 위해 '가지치기'를 실행"
   ]
  },
  {
   "cell_type": "code",
   "execution_count": 110,
   "id": "0c277c1b",
   "metadata": {},
   "outputs": [
    {
     "name": "stdout",
     "output_type": "stream",
     "text": [
      "              precision    recall  f1-score   support\n",
      "\n",
      "           0       0.99      0.99      0.99       311\n",
      "           1       0.97      0.95      0.96        78\n",
      "\n",
      "    accuracy                           0.98       389\n",
      "   macro avg       0.98      0.97      0.98       389\n",
      "weighted avg       0.98      0.98      0.98       389\n",
      "\n",
      "\u001b[32mAccuracy of Decision Tree is: 98.46%\n"
     ]
    }
   ],
   "source": [
    "from sklearn.tree import DecisionTreeClassifier\n",
    "\n",
    "dt_clf = DecisionTreeClassifier()\n",
    "dt_clf.fit(x_train, y_train)\n",
    "dt_clf_pred = dt_clf.predict(x_test)\n",
    "dt_clf_acc = accuracy_score(y_test, dt_clf_pred)\n",
    "print(classification_report(y_test, dt_clf_pred))\n",
    "print(Fore.GREEN + f\"Accuracy of Decision Tree is: {100*dt_clf_acc:2.2f}%\")"
   ]
  },
  {
   "cell_type": "code",
   "execution_count": 111,
   "id": "12364531",
   "metadata": {},
   "outputs": [],
   "source": [
    "parameters = {'criterion':['gini', 'entropy'],\n",
    "              'min_samples_split':[2, 5, 10, 15],\n",
    "              'max_depth':[None, 2],\n",
    "              'min_samples_leaf':[1, 3, 10, 15],\n",
    "              'max_features':[None, 'sqrt', 'log2'],\n",
    "             }"
   ]
  },
  {
   "cell_type": "code",
   "execution_count": 112,
   "id": "8175329a",
   "metadata": {},
   "outputs": [
    {
     "data": {
      "text/html": [
       "<style>#sk-container-id-5 {color: black;background-color: white;}#sk-container-id-5 pre{padding: 0;}#sk-container-id-5 div.sk-toggleable {background-color: white;}#sk-container-id-5 label.sk-toggleable__label {cursor: pointer;display: block;width: 100%;margin-bottom: 0;padding: 0.3em;box-sizing: border-box;text-align: center;}#sk-container-id-5 label.sk-toggleable__label-arrow:before {content: \"▸\";float: left;margin-right: 0.25em;color: #696969;}#sk-container-id-5 label.sk-toggleable__label-arrow:hover:before {color: black;}#sk-container-id-5 div.sk-estimator:hover label.sk-toggleable__label-arrow:before {color: black;}#sk-container-id-5 div.sk-toggleable__content {max-height: 0;max-width: 0;overflow: hidden;text-align: left;background-color: #f0f8ff;}#sk-container-id-5 div.sk-toggleable__content pre {margin: 0.2em;color: black;border-radius: 0.25em;background-color: #f0f8ff;}#sk-container-id-5 input.sk-toggleable__control:checked~div.sk-toggleable__content {max-height: 200px;max-width: 100%;overflow: auto;}#sk-container-id-5 input.sk-toggleable__control:checked~label.sk-toggleable__label-arrow:before {content: \"▾\";}#sk-container-id-5 div.sk-estimator input.sk-toggleable__control:checked~label.sk-toggleable__label {background-color: #d4ebff;}#sk-container-id-5 div.sk-label input.sk-toggleable__control:checked~label.sk-toggleable__label {background-color: #d4ebff;}#sk-container-id-5 input.sk-hidden--visually {border: 0;clip: rect(1px 1px 1px 1px);clip: rect(1px, 1px, 1px, 1px);height: 1px;margin: -1px;overflow: hidden;padding: 0;position: absolute;width: 1px;}#sk-container-id-5 div.sk-estimator {font-family: monospace;background-color: #f0f8ff;border: 1px dotted black;border-radius: 0.25em;box-sizing: border-box;margin-bottom: 0.5em;}#sk-container-id-5 div.sk-estimator:hover {background-color: #d4ebff;}#sk-container-id-5 div.sk-parallel-item::after {content: \"\";width: 100%;border-bottom: 1px solid gray;flex-grow: 1;}#sk-container-id-5 div.sk-label:hover label.sk-toggleable__label {background-color: #d4ebff;}#sk-container-id-5 div.sk-serial::before {content: \"\";position: absolute;border-left: 1px solid gray;box-sizing: border-box;top: 0;bottom: 0;left: 50%;z-index: 0;}#sk-container-id-5 div.sk-serial {display: flex;flex-direction: column;align-items: center;background-color: white;padding-right: 0.2em;padding-left: 0.2em;position: relative;}#sk-container-id-5 div.sk-item {position: relative;z-index: 1;}#sk-container-id-5 div.sk-parallel {display: flex;align-items: stretch;justify-content: center;background-color: white;position: relative;}#sk-container-id-5 div.sk-item::before, #sk-container-id-5 div.sk-parallel-item::before {content: \"\";position: absolute;border-left: 1px solid gray;box-sizing: border-box;top: 0;bottom: 0;left: 50%;z-index: -1;}#sk-container-id-5 div.sk-parallel-item {display: flex;flex-direction: column;z-index: 1;position: relative;background-color: white;}#sk-container-id-5 div.sk-parallel-item:first-child::after {align-self: flex-end;width: 50%;}#sk-container-id-5 div.sk-parallel-item:last-child::after {align-self: flex-start;width: 50%;}#sk-container-id-5 div.sk-parallel-item:only-child::after {width: 0;}#sk-container-id-5 div.sk-dashed-wrapped {border: 1px dashed gray;margin: 0 0.4em 0.5em 0.4em;box-sizing: border-box;padding-bottom: 0.4em;background-color: white;}#sk-container-id-5 div.sk-label label {font-family: monospace;font-weight: bold;display: inline-block;line-height: 1.2em;}#sk-container-id-5 div.sk-label-container {text-align: center;}#sk-container-id-5 div.sk-container {/* jupyter's `normalize.less` sets `[hidden] { display: none; }` but bootstrap.min.css set `[hidden] { display: none !important; }` so we also need the `!important` here to be able to override the default hidden behavior on the sphinx rendered scikit-learn.org. See: https://github.com/scikit-learn/scikit-learn/issues/21755 */display: inline-block !important;position: relative;}#sk-container-id-5 div.sk-text-repr-fallback {display: none;}</style><div id=\"sk-container-id-5\" class=\"sk-top-container\"><div class=\"sk-text-repr-fallback\"><pre>GridSearchCV(cv=10, estimator=DecisionTreeClassifier(), n_jobs=8,\n",
       "             param_grid={&#x27;criterion&#x27;: [&#x27;gini&#x27;, &#x27;entropy&#x27;],\n",
       "                         &#x27;max_depth&#x27;: [None, 2],\n",
       "                         &#x27;max_features&#x27;: [None, &#x27;sqrt&#x27;, &#x27;log2&#x27;],\n",
       "                         &#x27;min_samples_leaf&#x27;: [1, 3, 10, 15],\n",
       "                         &#x27;min_samples_split&#x27;: [2, 5, 10, 15]},\n",
       "             scoring=&#x27;accuracy&#x27;)</pre><b>In a Jupyter environment, please rerun this cell to show the HTML representation or trust the notebook. <br />On GitHub, the HTML representation is unable to render, please try loading this page with nbviewer.org.</b></div><div class=\"sk-container\" hidden><div class=\"sk-item sk-dashed-wrapped\"><div class=\"sk-label-container\"><div class=\"sk-label sk-toggleable\"><input class=\"sk-toggleable__control sk-hidden--visually\" id=\"sk-estimator-id-13\" type=\"checkbox\" ><label for=\"sk-estimator-id-13\" class=\"sk-toggleable__label sk-toggleable__label-arrow\">GridSearchCV</label><div class=\"sk-toggleable__content\"><pre>GridSearchCV(cv=10, estimator=DecisionTreeClassifier(), n_jobs=8,\n",
       "             param_grid={&#x27;criterion&#x27;: [&#x27;gini&#x27;, &#x27;entropy&#x27;],\n",
       "                         &#x27;max_depth&#x27;: [None, 2],\n",
       "                         &#x27;max_features&#x27;: [None, &#x27;sqrt&#x27;, &#x27;log2&#x27;],\n",
       "                         &#x27;min_samples_leaf&#x27;: [1, 3, 10, 15],\n",
       "                         &#x27;min_samples_split&#x27;: [2, 5, 10, 15]},\n",
       "             scoring=&#x27;accuracy&#x27;)</pre></div></div></div><div class=\"sk-parallel\"><div class=\"sk-parallel-item\"><div class=\"sk-item\"><div class=\"sk-label-container\"><div class=\"sk-label sk-toggleable\"><input class=\"sk-toggleable__control sk-hidden--visually\" id=\"sk-estimator-id-14\" type=\"checkbox\" ><label for=\"sk-estimator-id-14\" class=\"sk-toggleable__label sk-toggleable__label-arrow\">estimator: DecisionTreeClassifier</label><div class=\"sk-toggleable__content\"><pre>DecisionTreeClassifier()</pre></div></div></div><div class=\"sk-serial\"><div class=\"sk-item\"><div class=\"sk-estimator sk-toggleable\"><input class=\"sk-toggleable__control sk-hidden--visually\" id=\"sk-estimator-id-15\" type=\"checkbox\" ><label for=\"sk-estimator-id-15\" class=\"sk-toggleable__label sk-toggleable__label-arrow\">DecisionTreeClassifier</label><div class=\"sk-toggleable__content\"><pre>DecisionTreeClassifier()</pre></div></div></div></div></div></div></div></div></div></div>"
      ],
      "text/plain": [
       "GridSearchCV(cv=10, estimator=DecisionTreeClassifier(), n_jobs=8,\n",
       "             param_grid={'criterion': ['gini', 'entropy'],\n",
       "                         'max_depth': [None, 2],\n",
       "                         'max_features': [None, 'sqrt', 'log2'],\n",
       "                         'min_samples_leaf': [1, 3, 10, 15],\n",
       "                         'min_samples_split': [2, 5, 10, 15]},\n",
       "             scoring='accuracy')"
      ]
     },
     "execution_count": 112,
     "metadata": {},
     "output_type": "execute_result"
    }
   ],
   "source": [
    "dt = DecisionTreeClassifier()\n",
    "GSDT = GridSearchCV(dt, parameters, cv=10, n_jobs=n_thread, scoring='accuracy')\n",
    "GSDT.fit(x_train, y_train)"
   ]
  },
  {
   "cell_type": "code",
   "execution_count": 113,
   "id": "47126dfd",
   "metadata": {},
   "outputs": [
    {
     "name": "stdout",
     "output_type": "stream",
     "text": [
      "Final Params: {'criterion': 'entropy', 'max_depth': None, 'max_features': None, 'min_samples_leaf': 1, 'min_samples_split': 10}\n",
      "Best Score: 0.9780934656741108\n"
     ]
    }
   ],
   "source": [
    "print(\"Final Params:\", GSDT.best_params_)\n",
    "print(\"Best Score:\", GSDT.best_score_)"
   ]
  },
  {
   "cell_type": "code",
   "execution_count": 114,
   "id": "1e4c54e9",
   "metadata": {},
   "outputs": [
    {
     "name": "stdout",
     "output_type": "stream",
     "text": [
      "              precision    recall  f1-score   support\n",
      "\n",
      "           0       0.97      0.99      0.98       311\n",
      "           1       0.96      0.90      0.93        78\n",
      "\n",
      "    accuracy                           0.97       389\n",
      "   macro avg       0.97      0.94      0.95       389\n",
      "weighted avg       0.97      0.97      0.97       389\n",
      "\n",
      "\u001b[32mAccuracy of GridSearch Decision Tree: 97.17%\n"
     ]
    }
   ],
   "source": [
    "GSDT_pred = GSDT.predict(x_test)\n",
    "GSDT_acc = accuracy_score(y_test, GSDT_pred)\n",
    "print(classification_report(y_test, GSDT_pred))\n",
    "print(Fore.GREEN + f\"Accuracy of GridSearch Decision Tree: {100*GSDT_acc:2.2f}%\")"
   ]
  },
  {
   "cell_type": "code",
   "execution_count": 115,
   "id": "622cbfeb",
   "metadata": {},
   "outputs": [
    {
     "data": {
      "text/plain": [
       "<Figure size 500x500 with 0 Axes>"
      ]
     },
     "metadata": {},
     "output_type": "display_data"
    },
    {
     "data": {
      "image/png": "[encoded data removed]",
      "text/plain": [
       "<Figure size 640x480 with 1 Axes>"
      ]
     },
     "metadata": {
      "image/png": {
       "height": 432,
       "width": 499
      }
     },
     "output_type": "display_data"
    }
   ],
   "source": [
    "cm = confusion_matrix(y_test, GSDT_pred)\n",
    "plt.figure(figsize=(5,5))\n",
    "plot_confusion_matrix(cm, cmap=plt.cm.Blues, hide_ticks=True)\n",
    "plt.xticks(range(2), [\"K-Scatch X\", 'K-Scratch O'], fontsize=10)\n",
    "plt.yticks(range(2), [\"K-Scatch X\", 'K-Scratch O'], fontsize=10)\n",
    "plt.show()"
   ]
  },
  {
   "cell_type": "code",
   "execution_count": 116,
   "id": "c46f2838",
   "metadata": {},
   "outputs": [
    {
     "name": "stdout",
     "output_type": "stream",
     "text": [
      "0    1239\n",
      "1     313\n",
      "Name: K_Scatch, dtype: int64\n"
     ]
    }
   ],
   "source": [
    "# train에서 종속변수의 분포\n",
    "print(y_train.value_counts())"
   ]
  },
  {
   "cell_type": "code",
   "execution_count": 120,
   "id": "3ee524e1",
   "metadata": {},
   "outputs": [
    {
     "name": "stderr",
     "output_type": "stream",
     "text": [
      "There is no layout engine support for \"dot\"\n",
      "Perhaps \"dot -c\" needs to be run (with installer's privileges) to register the plugins?\n"
     ]
    },
    {
     "ename": "CalledProcessError",
     "evalue": "Command '[PosixPath('dot'), '-Kdot', '-Tsvg']' returned non-zero exit status 1. [stderr: 'There is no layout engine support for \"dot\"\\nPerhaps \"dot -c\" needs to be run (with installer\\'s privileges) to register the plugins?\\n']",
     "output_type": "error",
     "traceback": [
      "\u001b[0;31m---------------------------------------------------------------------------\u001b[0m",
      "\u001b[0;31mCalledProcessError\u001b[0m                        Traceback (most recent call last)",
      "File \u001b[0;32m/opt/homebrew/anaconda3/lib/python3.9/site-packages/graphviz/backend/execute.py:91\u001b[0m, in \u001b[0;36mrun_check\u001b[0;34m(cmd, input_lines, encoding, quiet, **kwargs)\u001b[0m\n\u001b[1;32m     90\u001b[0m \u001b[38;5;28;01mtry\u001b[39;00m:\n\u001b[0;32m---> 91\u001b[0m     \u001b[43mproc\u001b[49m\u001b[38;5;241;43m.\u001b[39;49m\u001b[43mcheck_returncode\u001b[49m\u001b[43m(\u001b[49m\u001b[43m)\u001b[49m\n\u001b[1;32m     92\u001b[0m \u001b[38;5;28;01mexcept\u001b[39;00m subprocess\u001b[38;5;241m.\u001b[39mCalledProcessError \u001b[38;5;28;01mas\u001b[39;00m e:\n",
      "File \u001b[0;32m/opt/homebrew/anaconda3/lib/python3.9/subprocess.py:460\u001b[0m, in \u001b[0;36mCompletedProcess.check_returncode\u001b[0;34m(self)\u001b[0m\n\u001b[1;32m    459\u001b[0m \u001b[38;5;28;01mif\u001b[39;00m \u001b[38;5;28mself\u001b[39m\u001b[38;5;241m.\u001b[39mreturncode:\n\u001b[0;32m--> 460\u001b[0m     \u001b[38;5;28;01mraise\u001b[39;00m CalledProcessError(\u001b[38;5;28mself\u001b[39m\u001b[38;5;241m.\u001b[39mreturncode, \u001b[38;5;28mself\u001b[39m\u001b[38;5;241m.\u001b[39margs, \u001b[38;5;28mself\u001b[39m\u001b[38;5;241m.\u001b[39mstdout,\n\u001b[1;32m    461\u001b[0m                              \u001b[38;5;28mself\u001b[39m\u001b[38;5;241m.\u001b[39mstderr)\n",
      "\u001b[0;31mCalledProcessError\u001b[0m: Command '[PosixPath('dot'), '-Kdot', '-Tsvg']' returned non-zero exit status 1.",
      "\nDuring handling of the above exception, another exception occurred:\n",
      "\u001b[0;31mCalledProcessError\u001b[0m                        Traceback (most recent call last)",
      "File \u001b[0;32m/opt/homebrew/anaconda3/lib/python3.9/site-packages/IPython/core/formatters.py:972\u001b[0m, in \u001b[0;36mMimeBundleFormatter.__call__\u001b[0;34m(self, obj, include, exclude)\u001b[0m\n\u001b[1;32m    969\u001b[0m     method \u001b[38;5;241m=\u001b[39m get_real_method(obj, \u001b[38;5;28mself\u001b[39m\u001b[38;5;241m.\u001b[39mprint_method)\n\u001b[1;32m    971\u001b[0m     \u001b[38;5;28;01mif\u001b[39;00m method \u001b[38;5;129;01mis\u001b[39;00m \u001b[38;5;129;01mnot\u001b[39;00m \u001b[38;5;28;01mNone\u001b[39;00m:\n\u001b[0;32m--> 972\u001b[0m         \u001b[38;5;28;01mreturn\u001b[39;00m \u001b[43mmethod\u001b[49m\u001b[43m(\u001b[49m\u001b[43minclude\u001b[49m\u001b[38;5;241;43m=\u001b[39;49m\u001b[43minclude\u001b[49m\u001b[43m,\u001b[49m\u001b[43m \u001b[49m\u001b[43mexclude\u001b[49m\u001b[38;5;241;43m=\u001b[39;49m\u001b[43mexclude\u001b[49m\u001b[43m)\u001b[49m\n\u001b[1;32m    973\u001b[0m     \u001b[38;5;28;01mreturn\u001b[39;00m \u001b[38;5;28;01mNone\u001b[39;00m\n\u001b[1;32m    974\u001b[0m \u001b[38;5;28;01melse\u001b[39;00m:\n",
      "File \u001b[0;32m/opt/homebrew/anaconda3/lib/python3.9/site-packages/graphviz/jupyter_integration.py:98\u001b[0m, in \u001b[0;36mJupyterIntegration._repr_mimebundle_\u001b[0;34m(self, include, exclude, **_)\u001b[0m\n\u001b[1;32m     96\u001b[0m include \u001b[38;5;241m=\u001b[39m \u001b[38;5;28mset\u001b[39m(include) \u001b[38;5;28;01mif\u001b[39;00m include \u001b[38;5;129;01mis\u001b[39;00m \u001b[38;5;129;01mnot\u001b[39;00m \u001b[38;5;28;01mNone\u001b[39;00m \u001b[38;5;28;01melse\u001b[39;00m {\u001b[38;5;28mself\u001b[39m\u001b[38;5;241m.\u001b[39m_jupyter_mimetype}\n\u001b[1;32m     97\u001b[0m include \u001b[38;5;241m-\u001b[39m\u001b[38;5;241m=\u001b[39m \u001b[38;5;28mset\u001b[39m(exclude \u001b[38;5;129;01mor\u001b[39;00m [])\n\u001b[0;32m---> 98\u001b[0m \u001b[38;5;28;01mreturn\u001b[39;00m {mimetype: \u001b[38;5;28mgetattr\u001b[39m(\u001b[38;5;28mself\u001b[39m, method_name)()\n\u001b[1;32m     99\u001b[0m         \u001b[38;5;28;01mfor\u001b[39;00m mimetype, method_name \u001b[38;5;129;01min\u001b[39;00m MIME_TYPES\u001b[38;5;241m.\u001b[39mitems()\n\u001b[1;32m    100\u001b[0m         \u001b[38;5;28;01mif\u001b[39;00m mimetype \u001b[38;5;129;01min\u001b[39;00m include}\n",
      "File \u001b[0;32m/opt/homebrew/anaconda3/lib/python3.9/site-packages/graphviz/jupyter_integration.py:98\u001b[0m, in \u001b[0;36m<dictcomp>\u001b[0;34m(.0)\u001b[0m\n\u001b[1;32m     96\u001b[0m include \u001b[38;5;241m=\u001b[39m \u001b[38;5;28mset\u001b[39m(include) \u001b[38;5;28;01mif\u001b[39;00m include \u001b[38;5;129;01mis\u001b[39;00m \u001b[38;5;129;01mnot\u001b[39;00m \u001b[38;5;28;01mNone\u001b[39;00m \u001b[38;5;28;01melse\u001b[39;00m {\u001b[38;5;28mself\u001b[39m\u001b[38;5;241m.\u001b[39m_jupyter_mimetype}\n\u001b[1;32m     97\u001b[0m include \u001b[38;5;241m-\u001b[39m\u001b[38;5;241m=\u001b[39m \u001b[38;5;28mset\u001b[39m(exclude \u001b[38;5;129;01mor\u001b[39;00m [])\n\u001b[0;32m---> 98\u001b[0m \u001b[38;5;28;01mreturn\u001b[39;00m {mimetype: \u001b[38;5;28;43mgetattr\u001b[39;49m\u001b[43m(\u001b[49m\u001b[38;5;28;43mself\u001b[39;49m\u001b[43m,\u001b[49m\u001b[43m \u001b[49m\u001b[43mmethod_name\u001b[49m\u001b[43m)\u001b[49m\u001b[43m(\u001b[49m\u001b[43m)\u001b[49m\n\u001b[1;32m     99\u001b[0m         \u001b[38;5;28;01mfor\u001b[39;00m mimetype, method_name \u001b[38;5;129;01min\u001b[39;00m MIME_TYPES\u001b[38;5;241m.\u001b[39mitems()\n\u001b[1;32m    100\u001b[0m         \u001b[38;5;28;01mif\u001b[39;00m mimetype \u001b[38;5;129;01min\u001b[39;00m include}\n",
      "File \u001b[0;32m/opt/homebrew/anaconda3/lib/python3.9/site-packages/graphviz/jupyter_integration.py:112\u001b[0m, in \u001b[0;36mJupyterIntegration._repr_image_svg_xml\u001b[0;34m(self)\u001b[0m\n\u001b[1;32m    110\u001b[0m \u001b[38;5;28;01mdef\u001b[39;00m \u001b[38;5;21m_repr_image_svg_xml\u001b[39m(\u001b[38;5;28mself\u001b[39m) \u001b[38;5;241m-\u001b[39m\u001b[38;5;241m>\u001b[39m \u001b[38;5;28mstr\u001b[39m:\n\u001b[1;32m    111\u001b[0m     \u001b[38;5;124;03m\"\"\"Return the rendered graph as SVG string.\"\"\"\u001b[39;00m\n\u001b[0;32m--> 112\u001b[0m     \u001b[38;5;28;01mreturn\u001b[39;00m \u001b[38;5;28;43mself\u001b[39;49m\u001b[38;5;241;43m.\u001b[39;49m\u001b[43mpipe\u001b[49m\u001b[43m(\u001b[49m\u001b[38;5;28;43mformat\u001b[39;49m\u001b[38;5;241;43m=\u001b[39;49m\u001b[38;5;124;43m'\u001b[39;49m\u001b[38;5;124;43msvg\u001b[39;49m\u001b[38;5;124;43m'\u001b[39;49m\u001b[43m,\u001b[49m\u001b[43m \u001b[49m\u001b[43mencoding\u001b[49m\u001b[38;5;241;43m=\u001b[39;49m\u001b[43mSVG_ENCODING\u001b[49m\u001b[43m)\u001b[49m\n",
      "File \u001b[0;32m/opt/homebrew/anaconda3/lib/python3.9/site-packages/graphviz/piping.py:104\u001b[0m, in \u001b[0;36mPipe.pipe\u001b[0;34m(self, format, renderer, formatter, neato_no_op, quiet, engine, encoding)\u001b[0m\n\u001b[1;32m     55\u001b[0m \u001b[38;5;28;01mdef\u001b[39;00m \u001b[38;5;21mpipe\u001b[39m(\u001b[38;5;28mself\u001b[39m,\n\u001b[1;32m     56\u001b[0m          \u001b[38;5;28mformat\u001b[39m: typing\u001b[38;5;241m.\u001b[39mOptional[\u001b[38;5;28mstr\u001b[39m] \u001b[38;5;241m=\u001b[39m \u001b[38;5;28;01mNone\u001b[39;00m,\n\u001b[1;32m     57\u001b[0m          renderer: typing\u001b[38;5;241m.\u001b[39mOptional[\u001b[38;5;28mstr\u001b[39m] \u001b[38;5;241m=\u001b[39m \u001b[38;5;28;01mNone\u001b[39;00m,\n\u001b[0;32m   (...)\u001b[0m\n\u001b[1;32m     61\u001b[0m          engine: typing\u001b[38;5;241m.\u001b[39mOptional[\u001b[38;5;28mstr\u001b[39m] \u001b[38;5;241m=\u001b[39m \u001b[38;5;28;01mNone\u001b[39;00m,\n\u001b[1;32m     62\u001b[0m          encoding: typing\u001b[38;5;241m.\u001b[39mOptional[\u001b[38;5;28mstr\u001b[39m] \u001b[38;5;241m=\u001b[39m \u001b[38;5;28;01mNone\u001b[39;00m) \u001b[38;5;241m-\u001b[39m\u001b[38;5;241m>\u001b[39m typing\u001b[38;5;241m.\u001b[39mUnion[\u001b[38;5;28mbytes\u001b[39m, \u001b[38;5;28mstr\u001b[39m]:\n\u001b[1;32m     63\u001b[0m     \u001b[38;5;124;03m\"\"\"Return the source piped through the Graphviz layout command.\u001b[39;00m\n\u001b[1;32m     64\u001b[0m \n\u001b[1;32m     65\u001b[0m \u001b[38;5;124;03m    Args:\u001b[39;00m\n\u001b[0;32m   (...)\u001b[0m\n\u001b[1;32m    102\u001b[0m \u001b[38;5;124;03m        '<?xml version='\u001b[39;00m\n\u001b[1;32m    103\u001b[0m \u001b[38;5;124;03m    \"\"\"\u001b[39;00m\n\u001b[0;32m--> 104\u001b[0m     \u001b[38;5;28;01mreturn\u001b[39;00m \u001b[38;5;28;43mself\u001b[39;49m\u001b[38;5;241;43m.\u001b[39;49m\u001b[43m_pipe_legacy\u001b[49m\u001b[43m(\u001b[49m\u001b[38;5;28;43mformat\u001b[39;49m\u001b[43m,\u001b[49m\n\u001b[1;32m    105\u001b[0m \u001b[43m                             \u001b[49m\u001b[43mrenderer\u001b[49m\u001b[38;5;241;43m=\u001b[39;49m\u001b[43mrenderer\u001b[49m\u001b[43m,\u001b[49m\n\u001b[1;32m    106\u001b[0m \u001b[43m                             \u001b[49m\u001b[43mformatter\u001b[49m\u001b[38;5;241;43m=\u001b[39;49m\u001b[43mformatter\u001b[49m\u001b[43m,\u001b[49m\n\u001b[1;32m    107\u001b[0m \u001b[43m                             \u001b[49m\u001b[43mneato_no_op\u001b[49m\u001b[38;5;241;43m=\u001b[39;49m\u001b[43mneato_no_op\u001b[49m\u001b[43m,\u001b[49m\n\u001b[1;32m    108\u001b[0m \u001b[43m                             \u001b[49m\u001b[43mquiet\u001b[49m\u001b[38;5;241;43m=\u001b[39;49m\u001b[43mquiet\u001b[49m\u001b[43m,\u001b[49m\n\u001b[1;32m    109\u001b[0m \u001b[43m                             \u001b[49m\u001b[43mengine\u001b[49m\u001b[38;5;241;43m=\u001b[39;49m\u001b[43mengine\u001b[49m\u001b[43m,\u001b[49m\n\u001b[1;32m    110\u001b[0m \u001b[43m                             \u001b[49m\u001b[43mencoding\u001b[49m\u001b[38;5;241;43m=\u001b[39;49m\u001b[43mencoding\u001b[49m\u001b[43m)\u001b[49m\n",
      "File \u001b[0;32m/opt/homebrew/anaconda3/lib/python3.9/site-packages/graphviz/_tools.py:171\u001b[0m, in \u001b[0;36mdeprecate_positional_args.<locals>.decorator.<locals>.wrapper\u001b[0;34m(*args, **kwargs)\u001b[0m\n\u001b[1;32m    162\u001b[0m     wanted \u001b[38;5;241m=\u001b[39m \u001b[38;5;124m'\u001b[39m\u001b[38;5;124m, \u001b[39m\u001b[38;5;124m'\u001b[39m\u001b[38;5;241m.\u001b[39mjoin(\u001b[38;5;124mf\u001b[39m\u001b[38;5;124m'\u001b[39m\u001b[38;5;132;01m{\u001b[39;00mname\u001b[38;5;132;01m}\u001b[39;00m\u001b[38;5;124m=\u001b[39m\u001b[38;5;132;01m{\u001b[39;00mvalue\u001b[38;5;132;01m!r}\u001b[39;00m\u001b[38;5;124m'\u001b[39m\n\u001b[1;32m    163\u001b[0m                        \u001b[38;5;28;01mfor\u001b[39;00m name, value \u001b[38;5;129;01min\u001b[39;00m deprecated\u001b[38;5;241m.\u001b[39mitems())\n\u001b[1;32m    164\u001b[0m     warnings\u001b[38;5;241m.\u001b[39mwarn(\u001b[38;5;124mf\u001b[39m\u001b[38;5;124m'\u001b[39m\u001b[38;5;124mThe signature of \u001b[39m\u001b[38;5;132;01m{\u001b[39;00mfunc\u001b[38;5;241m.\u001b[39m\u001b[38;5;18m__name__\u001b[39m\u001b[38;5;132;01m}\u001b[39;00m\u001b[38;5;124m will be reduced\u001b[39m\u001b[38;5;124m'\u001b[39m\n\u001b[1;32m    165\u001b[0m                   \u001b[38;5;124mf\u001b[39m\u001b[38;5;124m'\u001b[39m\u001b[38;5;124m to \u001b[39m\u001b[38;5;132;01m{\u001b[39;00msupported_number\u001b[38;5;132;01m}\u001b[39;00m\u001b[38;5;124m positional args\u001b[39m\u001b[38;5;124m'\u001b[39m\n\u001b[1;32m    166\u001b[0m                   \u001b[38;5;124mf\u001b[39m\u001b[38;5;124m'\u001b[39m\u001b[38;5;124m \u001b[39m\u001b[38;5;132;01m{\u001b[39;00m\u001b[38;5;28mlist\u001b[39m(supported)\u001b[38;5;132;01m}\u001b[39;00m\u001b[38;5;124m: pass \u001b[39m\u001b[38;5;132;01m{\u001b[39;00mwanted\u001b[38;5;132;01m}\u001b[39;00m\u001b[38;5;124m'\u001b[39m\n\u001b[1;32m    167\u001b[0m                   \u001b[38;5;124m'\u001b[39m\u001b[38;5;124m as keyword arg(s)\u001b[39m\u001b[38;5;124m'\u001b[39m,\n\u001b[1;32m    168\u001b[0m                   stacklevel\u001b[38;5;241m=\u001b[39mstacklevel,\n\u001b[1;32m    169\u001b[0m                   category\u001b[38;5;241m=\u001b[39mcategory)\n\u001b[0;32m--> 171\u001b[0m \u001b[38;5;28;01mreturn\u001b[39;00m \u001b[43mfunc\u001b[49m\u001b[43m(\u001b[49m\u001b[38;5;241;43m*\u001b[39;49m\u001b[43margs\u001b[49m\u001b[43m,\u001b[49m\u001b[43m \u001b[49m\u001b[38;5;241;43m*\u001b[39;49m\u001b[38;5;241;43m*\u001b[39;49m\u001b[43mkwargs\u001b[49m\u001b[43m)\u001b[49m\n",
      "File \u001b[0;32m/opt/homebrew/anaconda3/lib/python3.9/site-packages/graphviz/piping.py:121\u001b[0m, in \u001b[0;36mPipe._pipe_legacy\u001b[0;34m(self, format, renderer, formatter, neato_no_op, quiet, engine, encoding)\u001b[0m\n\u001b[1;32m    112\u001b[0m \u001b[38;5;129m@_tools\u001b[39m\u001b[38;5;241m.\u001b[39mdeprecate_positional_args(supported_number\u001b[38;5;241m=\u001b[39m\u001b[38;5;241m2\u001b[39m)\n\u001b[1;32m    113\u001b[0m \u001b[38;5;28;01mdef\u001b[39;00m \u001b[38;5;21m_pipe_legacy\u001b[39m(\u001b[38;5;28mself\u001b[39m,\n\u001b[1;32m    114\u001b[0m                  \u001b[38;5;28mformat\u001b[39m: typing\u001b[38;5;241m.\u001b[39mOptional[\u001b[38;5;28mstr\u001b[39m] \u001b[38;5;241m=\u001b[39m \u001b[38;5;28;01mNone\u001b[39;00m,\n\u001b[0;32m   (...)\u001b[0m\n\u001b[1;32m    119\u001b[0m                  engine: typing\u001b[38;5;241m.\u001b[39mOptional[\u001b[38;5;28mstr\u001b[39m] \u001b[38;5;241m=\u001b[39m \u001b[38;5;28;01mNone\u001b[39;00m,\n\u001b[1;32m    120\u001b[0m                  encoding: typing\u001b[38;5;241m.\u001b[39mOptional[\u001b[38;5;28mstr\u001b[39m] \u001b[38;5;241m=\u001b[39m \u001b[38;5;28;01mNone\u001b[39;00m) \u001b[38;5;241m-\u001b[39m\u001b[38;5;241m>\u001b[39m typing\u001b[38;5;241m.\u001b[39mUnion[\u001b[38;5;28mbytes\u001b[39m, \u001b[38;5;28mstr\u001b[39m]:\n\u001b[0;32m--> 121\u001b[0m     \u001b[38;5;28;01mreturn\u001b[39;00m \u001b[38;5;28;43mself\u001b[39;49m\u001b[38;5;241;43m.\u001b[39;49m\u001b[43m_pipe_future\u001b[49m\u001b[43m(\u001b[49m\u001b[38;5;28;43mformat\u001b[39;49m\u001b[43m,\u001b[49m\n\u001b[1;32m    122\u001b[0m \u001b[43m                             \u001b[49m\u001b[43mrenderer\u001b[49m\u001b[38;5;241;43m=\u001b[39;49m\u001b[43mrenderer\u001b[49m\u001b[43m,\u001b[49m\n\u001b[1;32m    123\u001b[0m \u001b[43m                             \u001b[49m\u001b[43mformatter\u001b[49m\u001b[38;5;241;43m=\u001b[39;49m\u001b[43mformatter\u001b[49m\u001b[43m,\u001b[49m\n\u001b[1;32m    124\u001b[0m \u001b[43m                             \u001b[49m\u001b[43mneato_no_op\u001b[49m\u001b[38;5;241;43m=\u001b[39;49m\u001b[43mneato_no_op\u001b[49m\u001b[43m,\u001b[49m\n\u001b[1;32m    125\u001b[0m \u001b[43m                             \u001b[49m\u001b[43mquiet\u001b[49m\u001b[38;5;241;43m=\u001b[39;49m\u001b[43mquiet\u001b[49m\u001b[43m,\u001b[49m\n\u001b[1;32m    126\u001b[0m \u001b[43m                             \u001b[49m\u001b[43mengine\u001b[49m\u001b[38;5;241;43m=\u001b[39;49m\u001b[43mengine\u001b[49m\u001b[43m,\u001b[49m\n\u001b[1;32m    127\u001b[0m \u001b[43m                             \u001b[49m\u001b[43mencoding\u001b[49m\u001b[38;5;241;43m=\u001b[39;49m\u001b[43mencoding\u001b[49m\u001b[43m)\u001b[49m\n",
      "File \u001b[0;32m/opt/homebrew/anaconda3/lib/python3.9/site-packages/graphviz/piping.py:149\u001b[0m, in \u001b[0;36mPipe._pipe_future\u001b[0;34m(self, format, renderer, formatter, neato_no_op, quiet, engine, encoding)\u001b[0m\n\u001b[1;32m    146\u001b[0m \u001b[38;5;28;01mif\u001b[39;00m encoding \u001b[38;5;129;01mis\u001b[39;00m \u001b[38;5;129;01mnot\u001b[39;00m \u001b[38;5;28;01mNone\u001b[39;00m:\n\u001b[1;32m    147\u001b[0m     \u001b[38;5;28;01mif\u001b[39;00m codecs\u001b[38;5;241m.\u001b[39mlookup(encoding) \u001b[38;5;129;01mis\u001b[39;00m codecs\u001b[38;5;241m.\u001b[39mlookup(\u001b[38;5;28mself\u001b[39m\u001b[38;5;241m.\u001b[39mencoding):\n\u001b[1;32m    148\u001b[0m         \u001b[38;5;66;03m# common case: both stdin and stdout need the same encoding\u001b[39;00m\n\u001b[0;32m--> 149\u001b[0m         \u001b[38;5;28;01mreturn\u001b[39;00m \u001b[38;5;28;43mself\u001b[39;49m\u001b[38;5;241;43m.\u001b[39;49m\u001b[43m_pipe_lines_string\u001b[49m\u001b[43m(\u001b[49m\u001b[38;5;241;43m*\u001b[39;49m\u001b[43margs\u001b[49m\u001b[43m,\u001b[49m\u001b[43m \u001b[49m\u001b[43mencoding\u001b[49m\u001b[38;5;241;43m=\u001b[39;49m\u001b[43mencoding\u001b[49m\u001b[43m,\u001b[49m\u001b[43m \u001b[49m\u001b[38;5;241;43m*\u001b[39;49m\u001b[38;5;241;43m*\u001b[39;49m\u001b[43mkwargs\u001b[49m\u001b[43m)\u001b[49m\n\u001b[1;32m    150\u001b[0m     \u001b[38;5;28;01mtry\u001b[39;00m:\n\u001b[1;32m    151\u001b[0m         raw \u001b[38;5;241m=\u001b[39m \u001b[38;5;28mself\u001b[39m\u001b[38;5;241m.\u001b[39m_pipe_lines(\u001b[38;5;241m*\u001b[39margs, input_encoding\u001b[38;5;241m=\u001b[39m\u001b[38;5;28mself\u001b[39m\u001b[38;5;241m.\u001b[39mencoding, \u001b[38;5;241m*\u001b[39m\u001b[38;5;241m*\u001b[39mkwargs)\n",
      "File \u001b[0;32m/opt/homebrew/anaconda3/lib/python3.9/site-packages/graphviz/backend/piping.py:212\u001b[0m, in \u001b[0;36mpipe_lines_string\u001b[0;34m(engine, format, input_lines, encoding, renderer, formatter, neato_no_op, quiet)\u001b[0m\n\u001b[1;32m    206\u001b[0m cmd \u001b[38;5;241m=\u001b[39m dot_command\u001b[38;5;241m.\u001b[39mcommand(engine, \u001b[38;5;28mformat\u001b[39m,\n\u001b[1;32m    207\u001b[0m                           renderer\u001b[38;5;241m=\u001b[39mrenderer,\n\u001b[1;32m    208\u001b[0m                           formatter\u001b[38;5;241m=\u001b[39mformatter,\n\u001b[1;32m    209\u001b[0m                           neato_no_op\u001b[38;5;241m=\u001b[39mneato_no_op)\n\u001b[1;32m    210\u001b[0m kwargs \u001b[38;5;241m=\u001b[39m {\u001b[38;5;124m'\u001b[39m\u001b[38;5;124minput_lines\u001b[39m\u001b[38;5;124m'\u001b[39m: input_lines, \u001b[38;5;124m'\u001b[39m\u001b[38;5;124mencoding\u001b[39m\u001b[38;5;124m'\u001b[39m: encoding}\n\u001b[0;32m--> 212\u001b[0m proc \u001b[38;5;241m=\u001b[39m \u001b[43mexecute\u001b[49m\u001b[38;5;241;43m.\u001b[39;49m\u001b[43mrun_check\u001b[49m\u001b[43m(\u001b[49m\u001b[43mcmd\u001b[49m\u001b[43m,\u001b[49m\u001b[43m \u001b[49m\u001b[43mcapture_output\u001b[49m\u001b[38;5;241;43m=\u001b[39;49m\u001b[38;5;28;43;01mTrue\u001b[39;49;00m\u001b[43m,\u001b[49m\u001b[43m \u001b[49m\u001b[43mquiet\u001b[49m\u001b[38;5;241;43m=\u001b[39;49m\u001b[43mquiet\u001b[49m\u001b[43m,\u001b[49m\u001b[43m \u001b[49m\u001b[38;5;241;43m*\u001b[39;49m\u001b[38;5;241;43m*\u001b[39;49m\u001b[43mkwargs\u001b[49m\u001b[43m)\u001b[49m\n\u001b[1;32m    213\u001b[0m \u001b[38;5;28;01mreturn\u001b[39;00m proc\u001b[38;5;241m.\u001b[39mstdout\n",
      "File \u001b[0;32m/opt/homebrew/anaconda3/lib/python3.9/site-packages/graphviz/backend/execute.py:93\u001b[0m, in \u001b[0;36mrun_check\u001b[0;34m(cmd, input_lines, encoding, quiet, **kwargs)\u001b[0m\n\u001b[1;32m     91\u001b[0m     proc\u001b[38;5;241m.\u001b[39mcheck_returncode()\n\u001b[1;32m     92\u001b[0m \u001b[38;5;28;01mexcept\u001b[39;00m subprocess\u001b[38;5;241m.\u001b[39mCalledProcessError \u001b[38;5;28;01mas\u001b[39;00m e:\n\u001b[0;32m---> 93\u001b[0m     \u001b[38;5;28;01mraise\u001b[39;00m CalledProcessError(\u001b[38;5;241m*\u001b[39me\u001b[38;5;241m.\u001b[39margs)\n\u001b[1;32m     95\u001b[0m \u001b[38;5;28;01mreturn\u001b[39;00m proc\n",
      "\u001b[0;31mCalledProcessError\u001b[0m: Command '[PosixPath('dot'), '-Kdot', '-Tsvg']' returned non-zero exit status 1. [stderr: 'There is no layout engine support for \"dot\"\\nPerhaps \"dot -c\" needs to be run (with installer\\'s privileges) to register the plugins?\\n']"
     ]
    },
    {
     "data": {
      "text/plain": [
       "<graphviz.sources.Source at 0x148011bb0>"
      ]
     },
     "execution_count": 120,
     "metadata": {},
     "output_type": "execute_result"
    }
   ],
   "source": [
    "import graphviz\n",
    "import sklearn.tree as tree\n",
    "dt2 = DecisionTreeClassifier(criterion = 'entropy',\n",
    "                           max_depth = None,\n",
    "                           max_features = None,\n",
    "                           min_samples_leaf = 1,\n",
    "                           min_samples_split = 10\n",
    "                          )\n",
    "dt2.fit(x_train, y_train)\n",
    "dot_data = tree.export_graphviz(dt2, feature_names=x_train.columns, filled=True, rounded=True)\n",
    "graph = graphviz.Source(dot_data)\n",
    "graph"
   ]
  },
  {
   "cell_type": "code",
   "execution_count": null,
   "id": "6426e7fb",
   "metadata": {},
   "outputs": [],
   "source": []
  }
 ],
 "metadata": {
  "kernelspec": {
   "display_name": "Python 3 (ipykernel)",
   "language": "python",
   "name": "python3"
  },
  "language_info": {
   "codemirror_mode": {
    "name": "ipython",
    "version": 3
   },
   "file_extension": ".py",
   "mimetype": "text/x-python",
   "name": "python",
   "nbconvert_exporter": "python",
   "pygments_lexer": "ipython3",
   "version": "3.9.15"
  }
 },
 "nbformat": 4,
 "nbformat_minor": 5
}
