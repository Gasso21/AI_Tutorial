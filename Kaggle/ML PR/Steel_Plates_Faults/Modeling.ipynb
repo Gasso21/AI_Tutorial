{
 "cells": [
  {
   "cell_type": "markdown",
   "id": "95c25e03",
   "metadata": {},
   "source": [
    "# Steel Plates Faults"
   ]
  },
  {
   "cell_type": "markdown",
   "id": "b8966bb4",
   "metadata": {},
   "source": [
    "## Modeling"
   ]
  },
  {
   "cell_type": "code",
   "execution_count": 1,
   "id": "cc485469",
   "metadata": {},
   "outputs": [
    {
     "name": "stdout",
     "output_type": "stream",
     "text": [
      "Once deleted, variables cannot be recovered. Proceed (y/[n])? y\n"
     ]
    }
   ],
   "source": [
    "%reset"
   ]
  },
  {
   "cell_type": "code",
   "execution_count": 2,
   "id": "b5593a89",
   "metadata": {},
   "outputs": [],
   "source": [
    "import pandas as pd\n",
    "import matplotlib.pyplot as plt\n",
    "%matplotlib inline\n",
    "%config InlineBackend.figure_format='retina'"
   ]
  },
  {
   "cell_type": "code",
   "execution_count": 3,
   "id": "dd986656",
   "metadata": {},
   "outputs": [
    {
     "data": {
      "text/html": [
       "<div>\n",
       "<style scoped>\n",
       "    .dataframe tbody tr th:only-of-type {\n",
       "        vertical-align: middle;\n",
       "    }\n",
       "\n",
       "    .dataframe tbody tr th {\n",
       "        vertical-align: top;\n",
       "    }\n",
       "\n",
       "    .dataframe thead th {\n",
       "        text-align: right;\n",
       "    }\n",
       "</style>\n",
       "<table border=\"1\" class=\"dataframe\">\n",
       "  <thead>\n",
       "    <tr style=\"text-align: right;\">\n",
       "      <th></th>\n",
       "      <th>X_Minimum</th>\n",
       "      <th>X_Maximum</th>\n",
       "      <th>Y_Minimum</th>\n",
       "      <th>Y_Maximum</th>\n",
       "      <th>Pixels_Areas</th>\n",
       "      <th>X_Perimeter</th>\n",
       "      <th>Y_Perimeter</th>\n",
       "      <th>Sum_of_Luminosity</th>\n",
       "      <th>Minimum_of_Luminosity</th>\n",
       "      <th>Maximum_of_Luminosity</th>\n",
       "      <th>...</th>\n",
       "      <th>Luminosity_Index</th>\n",
       "      <th>SigmoidOfAreas</th>\n",
       "      <th>Pastry</th>\n",
       "      <th>Z_Scratch</th>\n",
       "      <th>K_Scatch</th>\n",
       "      <th>Stains</th>\n",
       "      <th>Dirtiness</th>\n",
       "      <th>Bumps</th>\n",
       "      <th>Other_Faults</th>\n",
       "      <th>class</th>\n",
       "    </tr>\n",
       "  </thead>\n",
       "  <tbody>\n",
       "    <tr>\n",
       "      <th>0</th>\n",
       "      <td>42</td>\n",
       "      <td>50</td>\n",
       "      <td>270900</td>\n",
       "      <td>270944</td>\n",
       "      <td>267</td>\n",
       "      <td>17</td>\n",
       "      <td>44</td>\n",
       "      <td>24220</td>\n",
       "      <td>76</td>\n",
       "      <td>108</td>\n",
       "      <td>...</td>\n",
       "      <td>-0.2913</td>\n",
       "      <td>0.5822</td>\n",
       "      <td>1</td>\n",
       "      <td>0</td>\n",
       "      <td>0</td>\n",
       "      <td>0</td>\n",
       "      <td>0</td>\n",
       "      <td>0</td>\n",
       "      <td>0</td>\n",
       "      <td>Pastry</td>\n",
       "    </tr>\n",
       "    <tr>\n",
       "      <th>1</th>\n",
       "      <td>645</td>\n",
       "      <td>651</td>\n",
       "      <td>2538079</td>\n",
       "      <td>2538108</td>\n",
       "      <td>108</td>\n",
       "      <td>10</td>\n",
       "      <td>30</td>\n",
       "      <td>11397</td>\n",
       "      <td>84</td>\n",
       "      <td>123</td>\n",
       "      <td>...</td>\n",
       "      <td>-0.1756</td>\n",
       "      <td>0.2984</td>\n",
       "      <td>1</td>\n",
       "      <td>0</td>\n",
       "      <td>0</td>\n",
       "      <td>0</td>\n",
       "      <td>0</td>\n",
       "      <td>0</td>\n",
       "      <td>0</td>\n",
       "      <td>Pastry</td>\n",
       "    </tr>\n",
       "    <tr>\n",
       "      <th>2</th>\n",
       "      <td>829</td>\n",
       "      <td>835</td>\n",
       "      <td>1553913</td>\n",
       "      <td>1553931</td>\n",
       "      <td>71</td>\n",
       "      <td>8</td>\n",
       "      <td>19</td>\n",
       "      <td>7972</td>\n",
       "      <td>99</td>\n",
       "      <td>125</td>\n",
       "      <td>...</td>\n",
       "      <td>-0.1228</td>\n",
       "      <td>0.2150</td>\n",
       "      <td>1</td>\n",
       "      <td>0</td>\n",
       "      <td>0</td>\n",
       "      <td>0</td>\n",
       "      <td>0</td>\n",
       "      <td>0</td>\n",
       "      <td>0</td>\n",
       "      <td>Pastry</td>\n",
       "    </tr>\n",
       "    <tr>\n",
       "      <th>3</th>\n",
       "      <td>853</td>\n",
       "      <td>860</td>\n",
       "      <td>369370</td>\n",
       "      <td>369415</td>\n",
       "      <td>176</td>\n",
       "      <td>13</td>\n",
       "      <td>45</td>\n",
       "      <td>18996</td>\n",
       "      <td>99</td>\n",
       "      <td>126</td>\n",
       "      <td>...</td>\n",
       "      <td>-0.1568</td>\n",
       "      <td>0.5212</td>\n",
       "      <td>1</td>\n",
       "      <td>0</td>\n",
       "      <td>0</td>\n",
       "      <td>0</td>\n",
       "      <td>0</td>\n",
       "      <td>0</td>\n",
       "      <td>0</td>\n",
       "      <td>Pastry</td>\n",
       "    </tr>\n",
       "    <tr>\n",
       "      <th>4</th>\n",
       "      <td>1289</td>\n",
       "      <td>1306</td>\n",
       "      <td>498078</td>\n",
       "      <td>498335</td>\n",
       "      <td>2409</td>\n",
       "      <td>60</td>\n",
       "      <td>260</td>\n",
       "      <td>246930</td>\n",
       "      <td>37</td>\n",
       "      <td>126</td>\n",
       "      <td>...</td>\n",
       "      <td>-0.1992</td>\n",
       "      <td>1.0000</td>\n",
       "      <td>1</td>\n",
       "      <td>0</td>\n",
       "      <td>0</td>\n",
       "      <td>0</td>\n",
       "      <td>0</td>\n",
       "      <td>0</td>\n",
       "      <td>0</td>\n",
       "      <td>Pastry</td>\n",
       "    </tr>\n",
       "    <tr>\n",
       "      <th>...</th>\n",
       "      <td>...</td>\n",
       "      <td>...</td>\n",
       "      <td>...</td>\n",
       "      <td>...</td>\n",
       "      <td>...</td>\n",
       "      <td>...</td>\n",
       "      <td>...</td>\n",
       "      <td>...</td>\n",
       "      <td>...</td>\n",
       "      <td>...</td>\n",
       "      <td>...</td>\n",
       "      <td>...</td>\n",
       "      <td>...</td>\n",
       "      <td>...</td>\n",
       "      <td>...</td>\n",
       "      <td>...</td>\n",
       "      <td>...</td>\n",
       "      <td>...</td>\n",
       "      <td>...</td>\n",
       "      <td>...</td>\n",
       "      <td>...</td>\n",
       "    </tr>\n",
       "    <tr>\n",
       "      <th>1936</th>\n",
       "      <td>249</td>\n",
       "      <td>277</td>\n",
       "      <td>325780</td>\n",
       "      <td>325796</td>\n",
       "      <td>273</td>\n",
       "      <td>54</td>\n",
       "      <td>22</td>\n",
       "      <td>35033</td>\n",
       "      <td>119</td>\n",
       "      <td>141</td>\n",
       "      <td>...</td>\n",
       "      <td>0.0026</td>\n",
       "      <td>0.7254</td>\n",
       "      <td>0</td>\n",
       "      <td>0</td>\n",
       "      <td>0</td>\n",
       "      <td>0</td>\n",
       "      <td>0</td>\n",
       "      <td>0</td>\n",
       "      <td>1</td>\n",
       "      <td>Other_Faults</td>\n",
       "    </tr>\n",
       "    <tr>\n",
       "      <th>1937</th>\n",
       "      <td>144</td>\n",
       "      <td>175</td>\n",
       "      <td>340581</td>\n",
       "      <td>340598</td>\n",
       "      <td>287</td>\n",
       "      <td>44</td>\n",
       "      <td>24</td>\n",
       "      <td>34599</td>\n",
       "      <td>112</td>\n",
       "      <td>133</td>\n",
       "      <td>...</td>\n",
       "      <td>-0.0582</td>\n",
       "      <td>0.8173</td>\n",
       "      <td>0</td>\n",
       "      <td>0</td>\n",
       "      <td>0</td>\n",
       "      <td>0</td>\n",
       "      <td>0</td>\n",
       "      <td>0</td>\n",
       "      <td>1</td>\n",
       "      <td>Other_Faults</td>\n",
       "    </tr>\n",
       "    <tr>\n",
       "      <th>1938</th>\n",
       "      <td>145</td>\n",
       "      <td>174</td>\n",
       "      <td>386779</td>\n",
       "      <td>386794</td>\n",
       "      <td>292</td>\n",
       "      <td>40</td>\n",
       "      <td>22</td>\n",
       "      <td>37572</td>\n",
       "      <td>120</td>\n",
       "      <td>140</td>\n",
       "      <td>...</td>\n",
       "      <td>0.0052</td>\n",
       "      <td>0.7079</td>\n",
       "      <td>0</td>\n",
       "      <td>0</td>\n",
       "      <td>0</td>\n",
       "      <td>0</td>\n",
       "      <td>0</td>\n",
       "      <td>0</td>\n",
       "      <td>1</td>\n",
       "      <td>Other_Faults</td>\n",
       "    </tr>\n",
       "    <tr>\n",
       "      <th>1939</th>\n",
       "      <td>137</td>\n",
       "      <td>170</td>\n",
       "      <td>422497</td>\n",
       "      <td>422528</td>\n",
       "      <td>419</td>\n",
       "      <td>97</td>\n",
       "      <td>47</td>\n",
       "      <td>52715</td>\n",
       "      <td>117</td>\n",
       "      <td>140</td>\n",
       "      <td>...</td>\n",
       "      <td>-0.0171</td>\n",
       "      <td>0.9919</td>\n",
       "      <td>0</td>\n",
       "      <td>0</td>\n",
       "      <td>0</td>\n",
       "      <td>0</td>\n",
       "      <td>0</td>\n",
       "      <td>0</td>\n",
       "      <td>1</td>\n",
       "      <td>Other_Faults</td>\n",
       "    </tr>\n",
       "    <tr>\n",
       "      <th>1940</th>\n",
       "      <td>1261</td>\n",
       "      <td>1281</td>\n",
       "      <td>87951</td>\n",
       "      <td>87967</td>\n",
       "      <td>103</td>\n",
       "      <td>26</td>\n",
       "      <td>22</td>\n",
       "      <td>11682</td>\n",
       "      <td>101</td>\n",
       "      <td>133</td>\n",
       "      <td>...</td>\n",
       "      <td>-0.1139</td>\n",
       "      <td>0.5296</td>\n",
       "      <td>0</td>\n",
       "      <td>0</td>\n",
       "      <td>0</td>\n",
       "      <td>0</td>\n",
       "      <td>0</td>\n",
       "      <td>0</td>\n",
       "      <td>1</td>\n",
       "      <td>Other_Faults</td>\n",
       "    </tr>\n",
       "  </tbody>\n",
       "</table>\n",
       "<p>1941 rows × 35 columns</p>\n",
       "</div>"
      ],
      "text/plain": [
       "      X_Minimum  X_Maximum  Y_Minimum  Y_Maximum  Pixels_Areas  X_Perimeter  \\\n",
       "0            42         50     270900     270944           267           17   \n",
       "1           645        651    2538079    2538108           108           10   \n",
       "2           829        835    1553913    1553931            71            8   \n",
       "3           853        860     369370     369415           176           13   \n",
       "4          1289       1306     498078     498335          2409           60   \n",
       "...         ...        ...        ...        ...           ...          ...   \n",
       "1936        249        277     325780     325796           273           54   \n",
       "1937        144        175     340581     340598           287           44   \n",
       "1938        145        174     386779     386794           292           40   \n",
       "1939        137        170     422497     422528           419           97   \n",
       "1940       1261       1281      87951      87967           103           26   \n",
       "\n",
       "      Y_Perimeter  Sum_of_Luminosity  Minimum_of_Luminosity  \\\n",
       "0              44              24220                     76   \n",
       "1              30              11397                     84   \n",
       "2              19               7972                     99   \n",
       "3              45              18996                     99   \n",
       "4             260             246930                     37   \n",
       "...           ...                ...                    ...   \n",
       "1936           22              35033                    119   \n",
       "1937           24              34599                    112   \n",
       "1938           22              37572                    120   \n",
       "1939           47              52715                    117   \n",
       "1940           22              11682                    101   \n",
       "\n",
       "      Maximum_of_Luminosity  ...  Luminosity_Index  SigmoidOfAreas  Pastry  \\\n",
       "0                       108  ...           -0.2913          0.5822       1   \n",
       "1                       123  ...           -0.1756          0.2984       1   \n",
       "2                       125  ...           -0.1228          0.2150       1   \n",
       "3                       126  ...           -0.1568          0.5212       1   \n",
       "4                       126  ...           -0.1992          1.0000       1   \n",
       "...                     ...  ...               ...             ...     ...   \n",
       "1936                    141  ...            0.0026          0.7254       0   \n",
       "1937                    133  ...           -0.0582          0.8173       0   \n",
       "1938                    140  ...            0.0052          0.7079       0   \n",
       "1939                    140  ...           -0.0171          0.9919       0   \n",
       "1940                    133  ...           -0.1139          0.5296       0   \n",
       "\n",
       "      Z_Scratch  K_Scatch  Stains  Dirtiness  Bumps  Other_Faults  \\\n",
       "0             0         0       0          0      0             0   \n",
       "1             0         0       0          0      0             0   \n",
       "2             0         0       0          0      0             0   \n",
       "3             0         0       0          0      0             0   \n",
       "4             0         0       0          0      0             0   \n",
       "...         ...       ...     ...        ...    ...           ...   \n",
       "1936          0         0       0          0      0             1   \n",
       "1937          0         0       0          0      0             1   \n",
       "1938          0         0       0          0      0             1   \n",
       "1939          0         0       0          0      0             1   \n",
       "1940          0         0       0          0      0             1   \n",
       "\n",
       "             class  \n",
       "0           Pastry  \n",
       "1           Pastry  \n",
       "2           Pastry  \n",
       "3           Pastry  \n",
       "4           Pastry  \n",
       "...            ...  \n",
       "1936  Other_Faults  \n",
       "1937  Other_Faults  \n",
       "1938  Other_Faults  \n",
       "1939  Other_Faults  \n",
       "1940  Other_Faults  \n",
       "\n",
       "[1941 rows x 35 columns]"
      ]
     },
     "execution_count": 3,
     "metadata": {},
     "output_type": "execute_result"
    }
   ],
   "source": [
    "df = pd.read_csv('Faults.csv', index_col=0)\n",
    "df"
   ]
  },
  {
   "cell_type": "code",
   "execution_count": 4,
   "id": "fab133d0",
   "metadata": {},
   "outputs": [
    {
     "data": {
      "text/plain": [
       "Index(['X_Minimum', 'X_Maximum', 'Y_Minimum', 'Y_Maximum', 'Pixels_Areas',\n",
       "       'X_Perimeter', 'Y_Perimeter', 'Sum_of_Luminosity',\n",
       "       'Minimum_of_Luminosity', 'Maximum_of_Luminosity', 'Length_of_Conveyer',\n",
       "       'TypeOfSteel_A300', 'TypeOfSteel_A400', 'Steel_Plate_Thickness',\n",
       "       'Edges_Index', 'Empty_Index', 'Square_Index', 'Outside_X_Index',\n",
       "       'Edges_X_Index', 'Edges_Y_Index', 'Outside_Global_Index', 'LogOfAreas',\n",
       "       'Log_X_Index', 'Log_Y_Index', 'Orientation_Index', 'Luminosity_Index',\n",
       "       'SigmoidOfAreas', 'Pastry', 'Z_Scratch', 'K_Scatch', 'Stains',\n",
       "       'Dirtiness', 'Bumps', 'Other_Faults', 'class'],\n",
       "      dtype='object')"
      ]
     },
     "execution_count": 4,
     "metadata": {},
     "output_type": "execute_result"
    }
   ],
   "source": [
    "df.columns"
   ]
  },
  {
   "cell_type": "code",
   "execution_count": 5,
   "id": "a49a0553",
   "metadata": {},
   "outputs": [],
   "source": [
    "x = df[['X_Minimum', 'X_Maximum', 'Y_Minimum', 'Y_Maximum', 'Pixels_Areas',\n",
    "       'X_Perimeter', 'Y_Perimeter', 'Sum_of_Luminosity',\n",
    "       'Minimum_of_Luminosity', 'Maximum_of_Luminosity', 'Length_of_Conveyer',\n",
    "       'TypeOfSteel_A300', 'TypeOfSteel_A400', 'Steel_Plate_Thickness',\n",
    "       'Edges_Index', 'Empty_Index', 'Square_Index', 'Outside_X_Index',\n",
    "       'Edges_X_Index', 'Edges_Y_Index', 'Outside_Global_Index', 'LogOfAreas',\n",
    "       'Log_X_Index', 'Log_Y_Index', 'Orientation_Index', 'Luminosity_Index',\n",
    "       'SigmoidOfAreas']]\n",
    "y = df['K_Scatch']"
   ]
  },
  {
   "cell_type": "code",
   "execution_count": 6,
   "id": "a1129ec1",
   "metadata": {},
   "outputs": [],
   "source": [
    "from sklearn.model_selection import train_test_split\n",
    "from scipy.stats import zscore"
   ]
  },
  {
   "cell_type": "markdown",
   "id": "0dfd1d24",
   "metadata": {},
   "source": [
    "**Z-Score**\n",
    "$\\text{표준편차를 단위로 봤을 때 측정치가 평균에서 얼마만큼 일탈하였는가를 확인} \\\\\n",
    "\\text{각 데이터의 단위가 다르더라도 동일선상에서 얼마만큼 평균에서 떨어져있는지를 같은 Z-score 기준으로 확인가능}\\\\\n",
    "\\rightarrow z = \\cfrac{\\text{score}-\\text{mean}}{\\text{standard deviation}} = \\cfrac{x-\\text{mean}}{\\text{standard deviation}}$"
   ]
  },
  {
   "cell_type": "code",
   "execution_count": 7,
   "id": "992151fa",
   "metadata": {},
   "outputs": [],
   "source": [
    "x_train, x_test, y_train, y_test = train_test_split(x, y, test_size=0.2, random_state=1, stratify=y) \n",
    "#stratify=y: y값의 비율을 유지한체 split"
   ]
  },
  {
   "cell_type": "code",
   "execution_count": 8,
   "id": "ec349240",
   "metadata": {},
   "outputs": [],
   "source": [
    "x_train = x_train.apply(zscore)\n",
    "x_test = x_test.apply(zscore)"
   ]
  },
  {
   "cell_type": "code",
   "execution_count": 9,
   "id": "d04bbe26",
   "metadata": {},
   "outputs": [
    {
     "data": {
      "text/html": [
       "<div>\n",
       "<style scoped>\n",
       "    .dataframe tbody tr th:only-of-type {\n",
       "        vertical-align: middle;\n",
       "    }\n",
       "\n",
       "    .dataframe tbody tr th {\n",
       "        vertical-align: top;\n",
       "    }\n",
       "\n",
       "    .dataframe thead th {\n",
       "        text-align: right;\n",
       "    }\n",
       "</style>\n",
       "<table border=\"1\" class=\"dataframe\">\n",
       "  <thead>\n",
       "    <tr style=\"text-align: right;\">\n",
       "      <th></th>\n",
       "      <th>X_Minimum</th>\n",
       "      <th>X_Maximum</th>\n",
       "      <th>Y_Minimum</th>\n",
       "      <th>Y_Maximum</th>\n",
       "      <th>Pixels_Areas</th>\n",
       "      <th>X_Perimeter</th>\n",
       "      <th>Y_Perimeter</th>\n",
       "      <th>Sum_of_Luminosity</th>\n",
       "      <th>Minimum_of_Luminosity</th>\n",
       "      <th>Maximum_of_Luminosity</th>\n",
       "      <th>...</th>\n",
       "      <th>Outside_X_Index</th>\n",
       "      <th>Edges_X_Index</th>\n",
       "      <th>Edges_Y_Index</th>\n",
       "      <th>Outside_Global_Index</th>\n",
       "      <th>LogOfAreas</th>\n",
       "      <th>Log_X_Index</th>\n",
       "      <th>Log_Y_Index</th>\n",
       "      <th>Orientation_Index</th>\n",
       "      <th>Luminosity_Index</th>\n",
       "      <th>SigmoidOfAreas</th>\n",
       "    </tr>\n",
       "  </thead>\n",
       "  <tbody>\n",
       "    <tr>\n",
       "      <th>count</th>\n",
       "      <td>1.552000e+03</td>\n",
       "      <td>1.552000e+03</td>\n",
       "      <td>1.552000e+03</td>\n",
       "      <td>1.552000e+03</td>\n",
       "      <td>1.552000e+03</td>\n",
       "      <td>1.552000e+03</td>\n",
       "      <td>1.552000e+03</td>\n",
       "      <td>1.552000e+03</td>\n",
       "      <td>1.552000e+03</td>\n",
       "      <td>1.552000e+03</td>\n",
       "      <td>...</td>\n",
       "      <td>1.552000e+03</td>\n",
       "      <td>1.552000e+03</td>\n",
       "      <td>1.552000e+03</td>\n",
       "      <td>1.552000e+03</td>\n",
       "      <td>1.552000e+03</td>\n",
       "      <td>1.552000e+03</td>\n",
       "      <td>1.552000e+03</td>\n",
       "      <td>1.552000e+03</td>\n",
       "      <td>1.552000e+03</td>\n",
       "      <td>1.552000e+03</td>\n",
       "    </tr>\n",
       "    <tr>\n",
       "      <th>mean</th>\n",
       "      <td>-1.075886e-16</td>\n",
       "      <td>-2.632488e-17</td>\n",
       "      <td>-4.578239e-17</td>\n",
       "      <td>-2.174664e-17</td>\n",
       "      <td>6.867359e-18</td>\n",
       "      <td>-2.289120e-17</td>\n",
       "      <td>-2.289120e-18</td>\n",
       "      <td>-2.289120e-18</td>\n",
       "      <td>2.266228e-16</td>\n",
       "      <td>-6.764349e-16</td>\n",
       "      <td>...</td>\n",
       "      <td>-4.177643e-17</td>\n",
       "      <td>8.469743e-17</td>\n",
       "      <td>-1.682503e-16</td>\n",
       "      <td>1.831296e-17</td>\n",
       "      <td>2.666824e-16</td>\n",
       "      <td>6.352307e-17</td>\n",
       "      <td>6.867359e-18</td>\n",
       "      <td>3.891503e-17</td>\n",
       "      <td>4.349327e-17</td>\n",
       "      <td>1.133114e-16</td>\n",
       "    </tr>\n",
       "    <tr>\n",
       "      <th>std</th>\n",
       "      <td>1.000322e+00</td>\n",
       "      <td>1.000322e+00</td>\n",
       "      <td>1.000322e+00</td>\n",
       "      <td>1.000322e+00</td>\n",
       "      <td>1.000322e+00</td>\n",
       "      <td>1.000322e+00</td>\n",
       "      <td>1.000322e+00</td>\n",
       "      <td>1.000322e+00</td>\n",
       "      <td>1.000322e+00</td>\n",
       "      <td>1.000322e+00</td>\n",
       "      <td>...</td>\n",
       "      <td>1.000322e+00</td>\n",
       "      <td>1.000322e+00</td>\n",
       "      <td>1.000322e+00</td>\n",
       "      <td>1.000322e+00</td>\n",
       "      <td>1.000322e+00</td>\n",
       "      <td>1.000322e+00</td>\n",
       "      <td>1.000322e+00</td>\n",
       "      <td>1.000322e+00</td>\n",
       "      <td>1.000322e+00</td>\n",
       "      <td>1.000322e+00</td>\n",
       "    </tr>\n",
       "    <tr>\n",
       "      <th>min</th>\n",
       "      <td>-1.103367e+00</td>\n",
       "      <td>-1.241076e+00</td>\n",
       "      <td>-9.104613e-01</td>\n",
       "      <td>-9.104788e-01</td>\n",
       "      <td>-3.483794e-01</td>\n",
       "      <td>-3.406371e-01</td>\n",
       "      <td>-1.767603e-01</td>\n",
       "      <td>-3.893515e-01</td>\n",
       "      <td>-2.643140e+00</td>\n",
       "      <td>-5.071400e+00</td>\n",
       "      <td>...</td>\n",
       "      <td>-5.289097e-01</td>\n",
       "      <td>-2.468152e+00</td>\n",
       "      <td>-3.280170e+00</td>\n",
       "      <td>-1.185811e+00</td>\n",
       "      <td>-2.774003e+00</td>\n",
       "      <td>-2.156377e+00</td>\n",
       "      <td>-3.067242e+00</td>\n",
       "      <td>-2.143465e+00</td>\n",
       "      <td>-5.839974e+00</td>\n",
       "      <td>-1.367353e+00</td>\n",
       "    </tr>\n",
       "    <tr>\n",
       "      <th>25%</th>\n",
       "      <td>-9.883000e-01</td>\n",
       "      <td>-8.621817e-01</td>\n",
       "      <td>-6.562362e-01</td>\n",
       "      <td>-6.562372e-01</td>\n",
       "      <td>-3.333730e-01</td>\n",
       "      <td>-3.004833e-01</td>\n",
       "      <td>-1.514077e-01</td>\n",
       "      <td>-3.719521e-01</td>\n",
       "      <td>-6.554519e-01</td>\n",
       "      <td>-3.480654e-01</td>\n",
       "      <td>...</td>\n",
       "      <td>-4.443167e-01</td>\n",
       "      <td>-7.982123e-01</td>\n",
       "      <td>-9.250766e-01</td>\n",
       "      <td>-1.185811e+00</td>\n",
       "      <td>-7.146692e-01</td>\n",
       "      <td>-6.985005e-01</td>\n",
       "      <td>-6.999318e-01</td>\n",
       "      <td>-8.252854e-01</td>\n",
       "      <td>-4.361607e-01</td>\n",
       "      <td>-9.978418e-01</td>\n",
       "    </tr>\n",
       "    <tr>\n",
       "      <th>50%</th>\n",
       "      <td>-2.637179e-01</td>\n",
       "      <td>-2.988794e-01</td>\n",
       "      <td>-2.545875e-01</td>\n",
       "      <td>-2.546108e-01</td>\n",
       "      <td>-3.171771e-01</td>\n",
       "      <td>-2.665069e-01</td>\n",
       "      <td>-1.260551e-01</td>\n",
       "      <td>-3.538504e-01</td>\n",
       "      <td>1.675751e-01</td>\n",
       "      <td>-1.851918e-01</td>\n",
       "      <td>...</td>\n",
       "      <td>-3.870920e-01</td>\n",
       "      <td>1.006070e-01</td>\n",
       "      <td>5.824951e-01</td>\n",
       "      <td>8.913658e-01</td>\n",
       "      <td>-3.182921e-01</td>\n",
       "      <td>-3.312158e-01</td>\n",
       "      <td>-1.668921e-01</td>\n",
       "      <td>2.490715e-02</td>\n",
       "      <td>-1.325061e-02</td>\n",
       "      <td>-2.443915e-01</td>\n",
       "    </tr>\n",
       "    <tr>\n",
       "      <th>75%</th>\n",
       "      <td>9.307593e-01</td>\n",
       "      <td>9.199295e-01</td>\n",
       "      <td>2.919470e-01</td>\n",
       "      <td>2.919292e-01</td>\n",
       "      <td>-2.027537e-01</td>\n",
       "      <td>-8.967550e-02</td>\n",
       "      <td>-1.144025e-02</td>\n",
       "      <td>-2.343737e-01</td>\n",
       "      <td>6.567327e-01</td>\n",
       "      <td>5.205939e-01</td>\n",
       "      <td>...</td>\n",
       "      <td>-1.623398e-01</td>\n",
       "      <td>7.575785e-01</td>\n",
       "      <td>7.858832e-01</td>\n",
       "      <td>8.913658e-01</td>\n",
       "      <td>5.254920e-01</td>\n",
       "      <td>3.829141e-01</td>\n",
       "      <td>7.329140e-01</td>\n",
       "      <td>8.448359e-01</td>\n",
       "      <td>4.324923e-01</td>\n",
       "      <td>1.226000e+00</td>\n",
       "    </tr>\n",
       "    <tr>\n",
       "      <th>max</th>\n",
       "      <td>2.180122e+00</td>\n",
       "      <td>2.203231e+00</td>\n",
       "      <td>6.155444e+00</td>\n",
       "      <td>6.155404e+00</td>\n",
       "      <td>2.758779e+01</td>\n",
       "      <td>3.192762e+01</td>\n",
       "      <td>3.817116e+01</td>\n",
       "      <td>2.140560e+01</td>\n",
       "      <td>3.661558e+00</td>\n",
       "      <td>6.601209e+00</td>\n",
       "      <td>...</td>\n",
       "      <td>1.397465e+01</td>\n",
       "      <td>1.578793e+00</td>\n",
       "      <td>7.858832e-01</td>\n",
       "      <td>8.913658e-01</td>\n",
       "      <td>3.420237e+00</td>\n",
       "      <td>3.627366e+00</td>\n",
       "      <td>6.274553e+00</td>\n",
       "      <td>1.830314e+00</td>\n",
       "      <td>5.180199e+00</td>\n",
       "      <td>1.226589e+00</td>\n",
       "    </tr>\n",
       "  </tbody>\n",
       "</table>\n",
       "<p>8 rows × 27 columns</p>\n",
       "</div>"
      ],
      "text/plain": [
       "          X_Minimum     X_Maximum     Y_Minimum     Y_Maximum  Pixels_Areas  \\\n",
       "count  1.552000e+03  1.552000e+03  1.552000e+03  1.552000e+03  1.552000e+03   \n",
       "mean  -1.075886e-16 -2.632488e-17 -4.578239e-17 -2.174664e-17  6.867359e-18   \n",
       "std    1.000322e+00  1.000322e+00  1.000322e+00  1.000322e+00  1.000322e+00   \n",
       "min   -1.103367e+00 -1.241076e+00 -9.104613e-01 -9.104788e-01 -3.483794e-01   \n",
       "25%   -9.883000e-01 -8.621817e-01 -6.562362e-01 -6.562372e-01 -3.333730e-01   \n",
       "50%   -2.637179e-01 -2.988794e-01 -2.545875e-01 -2.546108e-01 -3.171771e-01   \n",
       "75%    9.307593e-01  9.199295e-01  2.919470e-01  2.919292e-01 -2.027537e-01   \n",
       "max    2.180122e+00  2.203231e+00  6.155444e+00  6.155404e+00  2.758779e+01   \n",
       "\n",
       "        X_Perimeter   Y_Perimeter  Sum_of_Luminosity  Minimum_of_Luminosity  \\\n",
       "count  1.552000e+03  1.552000e+03       1.552000e+03           1.552000e+03   \n",
       "mean  -2.289120e-17 -2.289120e-18      -2.289120e-18           2.266228e-16   \n",
       "std    1.000322e+00  1.000322e+00       1.000322e+00           1.000322e+00   \n",
       "min   -3.406371e-01 -1.767603e-01      -3.893515e-01          -2.643140e+00   \n",
       "25%   -3.004833e-01 -1.514077e-01      -3.719521e-01          -6.554519e-01   \n",
       "50%   -2.665069e-01 -1.260551e-01      -3.538504e-01           1.675751e-01   \n",
       "75%   -8.967550e-02 -1.144025e-02      -2.343737e-01           6.567327e-01   \n",
       "max    3.192762e+01  3.817116e+01       2.140560e+01           3.661558e+00   \n",
       "\n",
       "       Maximum_of_Luminosity  ...  Outside_X_Index  Edges_X_Index  \\\n",
       "count           1.552000e+03  ...     1.552000e+03   1.552000e+03   \n",
       "mean           -6.764349e-16  ...    -4.177643e-17   8.469743e-17   \n",
       "std             1.000322e+00  ...     1.000322e+00   1.000322e+00   \n",
       "min            -5.071400e+00  ...    -5.289097e-01  -2.468152e+00   \n",
       "25%            -3.480654e-01  ...    -4.443167e-01  -7.982123e-01   \n",
       "50%            -1.851918e-01  ...    -3.870920e-01   1.006070e-01   \n",
       "75%             5.205939e-01  ...    -1.623398e-01   7.575785e-01   \n",
       "max             6.601209e+00  ...     1.397465e+01   1.578793e+00   \n",
       "\n",
       "       Edges_Y_Index  Outside_Global_Index    LogOfAreas   Log_X_Index  \\\n",
       "count   1.552000e+03          1.552000e+03  1.552000e+03  1.552000e+03   \n",
       "mean   -1.682503e-16          1.831296e-17  2.666824e-16  6.352307e-17   \n",
       "std     1.000322e+00          1.000322e+00  1.000322e+00  1.000322e+00   \n",
       "min    -3.280170e+00         -1.185811e+00 -2.774003e+00 -2.156377e+00   \n",
       "25%    -9.250766e-01         -1.185811e+00 -7.146692e-01 -6.985005e-01   \n",
       "50%     5.824951e-01          8.913658e-01 -3.182921e-01 -3.312158e-01   \n",
       "75%     7.858832e-01          8.913658e-01  5.254920e-01  3.829141e-01   \n",
       "max     7.858832e-01          8.913658e-01  3.420237e+00  3.627366e+00   \n",
       "\n",
       "        Log_Y_Index  Orientation_Index  Luminosity_Index  SigmoidOfAreas  \n",
       "count  1.552000e+03       1.552000e+03      1.552000e+03    1.552000e+03  \n",
       "mean   6.867359e-18       3.891503e-17      4.349327e-17    1.133114e-16  \n",
       "std    1.000322e+00       1.000322e+00      1.000322e+00    1.000322e+00  \n",
       "min   -3.067242e+00      -2.143465e+00     -5.839974e+00   -1.367353e+00  \n",
       "25%   -6.999318e-01      -8.252854e-01     -4.361607e-01   -9.978418e-01  \n",
       "50%   -1.668921e-01       2.490715e-02     -1.325061e-02   -2.443915e-01  \n",
       "75%    7.329140e-01       8.448359e-01      4.324923e-01    1.226000e+00  \n",
       "max    6.274553e+00       1.830314e+00      5.180199e+00    1.226589e+00  \n",
       "\n",
       "[8 rows x 27 columns]"
      ]
     },
     "execution_count": 9,
     "metadata": {},
     "output_type": "execute_result"
    }
   ],
   "source": [
    "x_train.describe()"
   ]
  },
  {
   "cell_type": "markdown",
   "id": "c7ae7873",
   "metadata": {},
   "source": [
    "## Grid Search\n",
    "### LogisticRegression"
   ]
  },
  {
   "cell_type": "code",
   "execution_count": 10,
   "id": "39e7f3fb",
   "metadata": {},
   "outputs": [],
   "source": [
    "from sklearn.model_selection import GridSearchCV #각 모델의 파라미터를 최적화하는데 사용\n",
    "from sklearn.linear_model import LogisticRegression\n",
    "from sklearn.metrics import accuracy_score, classification_report, confusion_matrix\n",
    "from mlxtend.plotting import plot_confusion_matrix\n",
    "from colorama import Fore"
   ]
  },
  {
   "cell_type": "markdown",
   "id": "ee278489",
   "metadata": {},
   "source": [
    "### Subset Selection\n",
    "[Reference](https://direction-f.tistory.com/75)\n",
    "$\\text{- 사용 가능한 Dependent Variable들이 많으나 어떤 것이 유의미한 변수인지 선택하기 어려울 때 활용할만한 변수를 선정하기위해 적용하는 방법}\\\\\n",
    "\\: \\cdot \\textbf{Best Subset Selection}\\\\\n",
    "\\: \\cdot \\textbf{Stepwise Selection} \\\\\n",
    "\\rightarrow \\text{Best Subset Selection은 모든 모델을 고려하여 가장 좋은 모델을 선택하는만큼 계산효율성이 떨어짐}\\\\\n",
    "\\rightarrow \\text{Stepwise Selection은 크게 }\\textbf{Forward Stepwise Selection, Backward Stepwise Selection } \\text{으로 구분} \\\\\n",
    "\\quad \\cdot \\text{Forward Stepwise Selection: 변수사이즈 0부터 시작하여 하나씩 변수를 추가}\\\\\n",
    "\\quad \\cdot \\text{Backward Stepwise Selection: Full model로 시작하여 하나씩 변수를 제거}\\\\\n",
    "$\n",
    "$\n",
    "\\textbf{Grid Search}\\text{ 기반에 Subset Selection은 }\\textbf{Discrete Process}\\text{ 이기 때문에 종종 중요한 변수를 놓치거나 중요하지 않은 변수를 포함하는 경우가 있음}\n",
    "$"
   ]
  },
  {
   "cell_type": "markdown",
   "id": "c28c0c74",
   "metadata": {},
   "source": [
    "**The Lasso**  \n",
    "[Reference](https://modern-manual.tistory.com/22)\n",
    "- 최소제곱법과 유사하나 '각 계수 절댓값의 합'을 수식에 포함하여 계수의 크기도 함께 최소화하도록 만든다.\n",
    "- Lasso를 사용하면 자연스럽게 Subset selection효과가 나타난다.  \n",
    "$\\textbf{RSS}+\\lambda\\sum\\limits_{j=1}^{p}|\\beta_j|$\n",
    "- 위 식에 대해 **Gradient descent**를 수행하면 일부 덜 중요한 계수들이 0으로 수렴하는 결과가 나온다.\n",
    "- 위 식에 미분을 사용하여 풀 때, 절대값으로인해 꺾이는 부분은 0으로 치환하여 처리하고 나머지 부분은 미분가능하다.\n",
    "<img src=\"./Lasso_Ridge.jpeg\" width=\"500px\" height=\"300px\" title=\"Lasso and Lidge\"></img>\n",
    "- Lasso는 절대값이 들어간 수식으로인해 모서리가 뾰족한 마름모 형태를 나타내므로 일부의 $\\beta$는 0이되는 파라미터의 조합을 고르게된다.\n",
    "- Ridge regression은 $\\beta_j^2$을 사용하여 파란 원형과 같이 그려진다. 둥근 모서리를 갖고 있기 때문에 계수가 적당히 작은 값을 취하지만 0이 되지는 않는다.\n",
    "\n",
    "**Intuition of Lasso**\n",
    "- Lasso를 적용하여 모델의 Performance가 더 좋아졌다면, 데이터의 일부 파라미터를 제거하는 것이 더 결과가 좋다는 Insight를 가질 수 있다.\n",
    "\n",
    "**The Ridge Regression**  \n",
    "[Reference](https://modern-manual.tistory.com/21)\n",
    "- 기본 선형모델을 사용하다보면 Overfitting이 발생. 이를 표현하는 선형회귀의 계수값은 매우 크게 표현\n",
    "- 예) $y = 123123 - 123324x + 234234x^2$\n",
    "- 이렇게 Variance가 큰 상황을 막기위해 계수 자체가 크면 페널티를 주는 수식을 추가한 것이 **Ridge Regression**\n",
    "- **Ridge Regression**은 오차를 최소화하는 함수에 페널티를 줌으로써 보다 부드럽게 계수를 선택하는 차이가 형성\n",
    "- **Ridge Regression**은 기본 선형모델을 Regularize하여 보다 좋은 Performance를 내기위해 시도해볼 수 있는 기본 기법임\n",
    "\n",
    "**Scaling of Ridge**\n",
    "- Ridge는 변수의 크기에 따라 결과가 크게 변화되므로 변수를 스케일리ㅇ하여 서로 사이즈가 비슷하도록 만들어주는 작업이 필요\n",
    "- 일반적으로 표준편차를 각 Predictors마다 구한 뒤 각 데이터에 나눠줌"
   ]
  },
  {
   "cell_type": "code",
   "execution_count": 11,
   "id": "75bd9719",
   "metadata": {},
   "outputs": [],
   "source": [
    "### C: 회귀 계수의 제한되는 정도의 실수값 (클수록 강하게 제한)\n",
    "### penalty: l1, l2\n",
    "### solver: 'liblinear'일 때 l1 penalty 사용 가능.\n",
    "### tol: 언제까지 학습할지 결정. default=1e-4\n",
    "lm=LogisticRegression(solver='liblinear')"
   ]
  },
  {
   "cell_type": "code",
   "execution_count": 12,
   "id": "3df22401",
   "metadata": {},
   "outputs": [],
   "source": [
    "parameters={'penalty':['l1','l2'], 'C':[0.01, 0.1, 0.5, 0.9, 1, 5, 10], 'tol':[1e-4, 1e-2, 1e2]}"
   ]
  },
  {
   "cell_type": "code",
   "execution_count": 13,
   "id": "2052b1c0",
   "metadata": {},
   "outputs": [],
   "source": [
    "import os\n",
    "n_thread = os.cpu_count()"
   ]
  },
  {
   "cell_type": "code",
   "execution_count": 14,
   "id": "be481565",
   "metadata": {
    "scrolled": true
   },
   "outputs": [],
   "source": [
    "GSLR=GridSearchCV(lm, parameters, cv=10, n_jobs=n_thread, scoring='accuracy')\n",
    "### cv: cross-validation에서 몇개로 분할하여 검증할지 지정"
   ]
  },
  {
   "cell_type": "code",
   "execution_count": 15,
   "id": "9541ca18",
   "metadata": {},
   "outputs": [
    {
     "data": {
      "text/html": [
       "<style>#sk-container-id-1 {color: black;background-color: white;}#sk-container-id-1 pre{padding: 0;}#sk-container-id-1 div.sk-toggleable {background-color: white;}#sk-container-id-1 label.sk-toggleable__label {cursor: pointer;display: block;width: 100%;margin-bottom: 0;padding: 0.3em;box-sizing: border-box;text-align: center;}#sk-container-id-1 label.sk-toggleable__label-arrow:before {content: \"▸\";float: left;margin-right: 0.25em;color: #696969;}#sk-container-id-1 label.sk-toggleable__label-arrow:hover:before {color: black;}#sk-container-id-1 div.sk-estimator:hover label.sk-toggleable__label-arrow:before {color: black;}#sk-container-id-1 div.sk-toggleable__content {max-height: 0;max-width: 0;overflow: hidden;text-align: left;background-color: #f0f8ff;}#sk-container-id-1 div.sk-toggleable__content pre {margin: 0.2em;color: black;border-radius: 0.25em;background-color: #f0f8ff;}#sk-container-id-1 input.sk-toggleable__control:checked~div.sk-toggleable__content {max-height: 200px;max-width: 100%;overflow: auto;}#sk-container-id-1 input.sk-toggleable__control:checked~label.sk-toggleable__label-arrow:before {content: \"▾\";}#sk-container-id-1 div.sk-estimator input.sk-toggleable__control:checked~label.sk-toggleable__label {background-color: #d4ebff;}#sk-container-id-1 div.sk-label input.sk-toggleable__control:checked~label.sk-toggleable__label {background-color: #d4ebff;}#sk-container-id-1 input.sk-hidden--visually {border: 0;clip: rect(1px 1px 1px 1px);clip: rect(1px, 1px, 1px, 1px);height: 1px;margin: -1px;overflow: hidden;padding: 0;position: absolute;width: 1px;}#sk-container-id-1 div.sk-estimator {font-family: monospace;background-color: #f0f8ff;border: 1px dotted black;border-radius: 0.25em;box-sizing: border-box;margin-bottom: 0.5em;}#sk-container-id-1 div.sk-estimator:hover {background-color: #d4ebff;}#sk-container-id-1 div.sk-parallel-item::after {content: \"\";width: 100%;border-bottom: 1px solid gray;flex-grow: 1;}#sk-container-id-1 div.sk-label:hover label.sk-toggleable__label {background-color: #d4ebff;}#sk-container-id-1 div.sk-serial::before {content: \"\";position: absolute;border-left: 1px solid gray;box-sizing: border-box;top: 0;bottom: 0;left: 50%;z-index: 0;}#sk-container-id-1 div.sk-serial {display: flex;flex-direction: column;align-items: center;background-color: white;padding-right: 0.2em;padding-left: 0.2em;position: relative;}#sk-container-id-1 div.sk-item {position: relative;z-index: 1;}#sk-container-id-1 div.sk-parallel {display: flex;align-items: stretch;justify-content: center;background-color: white;position: relative;}#sk-container-id-1 div.sk-item::before, #sk-container-id-1 div.sk-parallel-item::before {content: \"\";position: absolute;border-left: 1px solid gray;box-sizing: border-box;top: 0;bottom: 0;left: 50%;z-index: -1;}#sk-container-id-1 div.sk-parallel-item {display: flex;flex-direction: column;z-index: 1;position: relative;background-color: white;}#sk-container-id-1 div.sk-parallel-item:first-child::after {align-self: flex-end;width: 50%;}#sk-container-id-1 div.sk-parallel-item:last-child::after {align-self: flex-start;width: 50%;}#sk-container-id-1 div.sk-parallel-item:only-child::after {width: 0;}#sk-container-id-1 div.sk-dashed-wrapped {border: 1px dashed gray;margin: 0 0.4em 0.5em 0.4em;box-sizing: border-box;padding-bottom: 0.4em;background-color: white;}#sk-container-id-1 div.sk-label label {font-family: monospace;font-weight: bold;display: inline-block;line-height: 1.2em;}#sk-container-id-1 div.sk-label-container {text-align: center;}#sk-container-id-1 div.sk-container {/* jupyter's `normalize.less` sets `[hidden] { display: none; }` but bootstrap.min.css set `[hidden] { display: none !important; }` so we also need the `!important` here to be able to override the default hidden behavior on the sphinx rendered scikit-learn.org. See: https://github.com/scikit-learn/scikit-learn/issues/21755 */display: inline-block !important;position: relative;}#sk-container-id-1 div.sk-text-repr-fallback {display: none;}</style><div id=\"sk-container-id-1\" class=\"sk-top-container\"><div class=\"sk-text-repr-fallback\"><pre>GridSearchCV(cv=10, estimator=LogisticRegression(solver=&#x27;liblinear&#x27;), n_jobs=8,\n",
       "             param_grid={&#x27;C&#x27;: [0.01, 0.1, 0.5, 0.9, 1, 5, 10],\n",
       "                         &#x27;penalty&#x27;: [&#x27;l1&#x27;, &#x27;l2&#x27;],\n",
       "                         &#x27;tol&#x27;: [0.0001, 0.01, 100.0]},\n",
       "             scoring=&#x27;accuracy&#x27;)</pre><b>In a Jupyter environment, please rerun this cell to show the HTML representation or trust the notebook. <br />On GitHub, the HTML representation is unable to render, please try loading this page with nbviewer.org.</b></div><div class=\"sk-container\" hidden><div class=\"sk-item sk-dashed-wrapped\"><div class=\"sk-label-container\"><div class=\"sk-label sk-toggleable\"><input class=\"sk-toggleable__control sk-hidden--visually\" id=\"sk-estimator-id-1\" type=\"checkbox\" ><label for=\"sk-estimator-id-1\" class=\"sk-toggleable__label sk-toggleable__label-arrow\">GridSearchCV</label><div class=\"sk-toggleable__content\"><pre>GridSearchCV(cv=10, estimator=LogisticRegression(solver=&#x27;liblinear&#x27;), n_jobs=8,\n",
       "             param_grid={&#x27;C&#x27;: [0.01, 0.1, 0.5, 0.9, 1, 5, 10],\n",
       "                         &#x27;penalty&#x27;: [&#x27;l1&#x27;, &#x27;l2&#x27;],\n",
       "                         &#x27;tol&#x27;: [0.0001, 0.01, 100.0]},\n",
       "             scoring=&#x27;accuracy&#x27;)</pre></div></div></div><div class=\"sk-parallel\"><div class=\"sk-parallel-item\"><div class=\"sk-item\"><div class=\"sk-label-container\"><div class=\"sk-label sk-toggleable\"><input class=\"sk-toggleable__control sk-hidden--visually\" id=\"sk-estimator-id-2\" type=\"checkbox\" ><label for=\"sk-estimator-id-2\" class=\"sk-toggleable__label sk-toggleable__label-arrow\">estimator: LogisticRegression</label><div class=\"sk-toggleable__content\"><pre>LogisticRegression(solver=&#x27;liblinear&#x27;)</pre></div></div></div><div class=\"sk-serial\"><div class=\"sk-item\"><div class=\"sk-estimator sk-toggleable\"><input class=\"sk-toggleable__control sk-hidden--visually\" id=\"sk-estimator-id-3\" type=\"checkbox\" ><label for=\"sk-estimator-id-3\" class=\"sk-toggleable__label sk-toggleable__label-arrow\">LogisticRegression</label><div class=\"sk-toggleable__content\"><pre>LogisticRegression(solver=&#x27;liblinear&#x27;)</pre></div></div></div></div></div></div></div></div></div></div>"
      ],
      "text/plain": [
       "GridSearchCV(cv=10, estimator=LogisticRegression(solver='liblinear'), n_jobs=8,\n",
       "             param_grid={'C': [0.01, 0.1, 0.5, 0.9, 1, 5, 10],\n",
       "                         'penalty': ['l1', 'l2'],\n",
       "                         'tol': [0.0001, 0.01, 100.0]},\n",
       "             scoring='accuracy')"
      ]
     },
     "execution_count": 15,
     "metadata": {},
     "output_type": "execute_result"
    }
   ],
   "source": [
    "# Cross-Validation check\n",
    "GSLR.fit(x_train, y_train)"
   ]
  },
  {
   "cell_type": "code",
   "execution_count": 16,
   "id": "328688b8",
   "metadata": {},
   "outputs": [
    {
     "name": "stdout",
     "output_type": "stream",
     "text": [
      "final params {'C': 5, 'penalty': 'l1', 'tol': 0.01}\n",
      "best score 0.9729321753515301\n"
     ]
    }
   ],
   "source": [
    "print('final params', GSLR.best_params_)\n",
    "print('best score', GSLR.best_score_)"
   ]
  },
  {
   "cell_type": "code",
   "execution_count": 17,
   "id": "490dd046",
   "metadata": {},
   "outputs": [
    {
     "name": "stdout",
     "output_type": "stream",
     "text": [
      "              precision    recall  f1-score   support\n",
      "\n",
      "           0       0.98      0.98      0.98       311\n",
      "           1       0.94      0.94      0.94        78\n",
      "\n",
      "    accuracy                           0.97       389\n",
      "   macro avg       0.96      0.96      0.96       389\n",
      "weighted avg       0.97      0.97      0.97       389\n",
      "\n",
      "\u001b[32mAccuracy of Logistic Regression is: 97.43%\n"
     ]
    }
   ],
   "source": [
    "GSLR_pred = GSLR.predict(x_test)\n",
    "GSLR_acc = accuracy_score(y_test, GSLR_pred)\n",
    "print(classification_report(y_test, GSLR_pred))\n",
    "print(Fore.GREEN + f\"Accuracy of Logistic Regression is: {100*GSLR_acc:2.2f}%\")"
   ]
  },
  {
   "cell_type": "code",
   "execution_count": 18,
   "id": "f97e8984",
   "metadata": {},
   "outputs": [
    {
     "data": {
      "text/plain": [
       "<Figure size 500x500 with 0 Axes>"
      ]
     },
     "metadata": {},
     "output_type": "display_data"
    },
    {
     "data": {
      "image/png": "[encoded data removed]",
      "text/plain": [
       "<Figure size 640x480 with 1 Axes>"
      ]
     },
     "metadata": {
      "image/png": {
       "height": 454,
       "width": 500
      }
     },
     "output_type": "display_data"
    }
   ],
   "source": [
    "cm = confusion_matrix(y_test, GSLR_pred)\n",
    "plt.figure(figsize=(5,5))\n",
    "plot_confusion_matrix(cm, hide_ticks=True, cmap=plt.cm.Blues)\n",
    "plt.title('Logistic Regression Model - Confusion Matrix')\n",
    "plt.xticks(range(2), [\"K-Scatch X\", 'K-Scratch O'], fontsize=10)\n",
    "plt.yticks(range(2), [\"K-Scatch X\", 'K-Scratch O'], fontsize=10)\n",
    "plt.show()"
   ]
  },
  {
   "cell_type": "code",
   "execution_count": 19,
   "id": "f092628c",
   "metadata": {
    "scrolled": true
   },
   "outputs": [
    {
     "name": "stdout",
     "output_type": "stream",
     "text": [
      "0.945 (+/-0.037) for {'C': 0.01, 'penalty': 'l1', 'tol': 0.0001}\n",
      "0.946 (+/-0.040) for {'C': 0.01, 'penalty': 'l1', 'tol': 0.01}\n",
      "0.798 (+/-0.005) for {'C': 0.01, 'penalty': 'l1', 'tol': 100.0}\n",
      "0.950 (+/-0.033) for {'C': 0.01, 'penalty': 'l2', 'tol': 0.0001}\n",
      "0.950 (+/-0.033) for {'C': 0.01, 'penalty': 'l2', 'tol': 0.01}\n",
      "0.798 (+/-0.005) for {'C': 0.01, 'penalty': 'l2', 'tol': 100.0}\n",
      "0.964 (+/-0.028) for {'C': 0.1, 'penalty': 'l1', 'tol': 0.0001}\n",
      "0.963 (+/-0.028) for {'C': 0.1, 'penalty': 'l1', 'tol': 0.01}\n",
      "0.798 (+/-0.005) for {'C': 0.1, 'penalty': 'l1', 'tol': 100.0}\n",
      "0.966 (+/-0.021) for {'C': 0.1, 'penalty': 'l2', 'tol': 0.0001}\n",
      "0.966 (+/-0.021) for {'C': 0.1, 'penalty': 'l2', 'tol': 0.01}\n",
      "0.798 (+/-0.005) for {'C': 0.1, 'penalty': 'l2', 'tol': 100.0}\n",
      "0.969 (+/-0.028) for {'C': 0.5, 'penalty': 'l1', 'tol': 0.0001}\n",
      "0.969 (+/-0.027) for {'C': 0.5, 'penalty': 'l1', 'tol': 0.01}\n",
      "0.798 (+/-0.005) for {'C': 0.5, 'penalty': 'l1', 'tol': 100.0}\n",
      "0.969 (+/-0.023) for {'C': 0.5, 'penalty': 'l2', 'tol': 0.0001}\n",
      "0.968 (+/-0.020) for {'C': 0.5, 'penalty': 'l2', 'tol': 0.01}\n",
      "0.798 (+/-0.005) for {'C': 0.5, 'penalty': 'l2', 'tol': 100.0}\n",
      "0.969 (+/-0.030) for {'C': 0.9, 'penalty': 'l1', 'tol': 0.0001}\n",
      "0.968 (+/-0.027) for {'C': 0.9, 'penalty': 'l1', 'tol': 0.01}\n",
      "0.798 (+/-0.005) for {'C': 0.9, 'penalty': 'l1', 'tol': 100.0}\n",
      "0.971 (+/-0.022) for {'C': 0.9, 'penalty': 'l2', 'tol': 0.0001}\n",
      "0.972 (+/-0.025) for {'C': 0.9, 'penalty': 'l2', 'tol': 0.01}\n",
      "0.798 (+/-0.005) for {'C': 0.9, 'penalty': 'l2', 'tol': 100.0}\n",
      "0.970 (+/-0.030) for {'C': 1, 'penalty': 'l1', 'tol': 0.0001}\n",
      "0.969 (+/-0.028) for {'C': 1, 'penalty': 'l1', 'tol': 0.01}\n",
      "0.798 (+/-0.005) for {'C': 1, 'penalty': 'l1', 'tol': 100.0}\n",
      "0.972 (+/-0.023) for {'C': 1, 'penalty': 'l2', 'tol': 0.0001}\n",
      "0.972 (+/-0.025) for {'C': 1, 'penalty': 'l2', 'tol': 0.01}\n",
      "0.798 (+/-0.005) for {'C': 1, 'penalty': 'l2', 'tol': 100.0}\n",
      "0.970 (+/-0.027) for {'C': 5, 'penalty': 'l1', 'tol': 0.0001}\n",
      "0.973 (+/-0.025) for {'C': 5, 'penalty': 'l1', 'tol': 0.01}\n",
      "0.798 (+/-0.005) for {'C': 5, 'penalty': 'l1', 'tol': 100.0}\n",
      "0.972 (+/-0.028) for {'C': 5, 'penalty': 'l2', 'tol': 0.0001}\n",
      "0.972 (+/-0.028) for {'C': 5, 'penalty': 'l2', 'tol': 0.01}\n",
      "0.798 (+/-0.005) for {'C': 5, 'penalty': 'l2', 'tol': 100.0}\n",
      "0.972 (+/-0.025) for {'C': 10, 'penalty': 'l1', 'tol': 0.0001}\n",
      "0.970 (+/-0.027) for {'C': 10, 'penalty': 'l1', 'tol': 0.01}\n",
      "0.798 (+/-0.005) for {'C': 10, 'penalty': 'l1', 'tol': 100.0}\n",
      "0.971 (+/-0.026) for {'C': 10, 'penalty': 'l2', 'tol': 0.0001}\n",
      "0.971 (+/-0.024) for {'C': 10, 'penalty': 'l2', 'tol': 0.01}\n",
      "0.798 (+/-0.005) for {'C': 10, 'penalty': 'l2', 'tol': 100.0}\n"
     ]
    }
   ],
   "source": [
    "# Cross validation 과정에서 계산된 정확도 값들을 출력\n",
    "means = GSLR.cv_results_['mean_test_score']\n",
    "stds = GSLR.cv_results_['std_test_score']\n",
    "params = GSLR.cv_results_['params']\n",
    "for mean, std, params in zip(means, stds, params):\n",
    "    print(\"{0:.3f} (+/-{1:.03f}) for {2}\".format(mean, std*2, params))"
   ]
  },
  {
   "cell_type": "markdown",
   "id": "fb8d01b4",
   "metadata": {},
   "source": [
    "## Decision Tree\n",
    "**Parameters**\n",
    "- criterion: gini, enropy\n",
    "- max_depth: 최대 깊이를 제한\n",
    "- min_samples_split: 한 노드에 들어있는 최소 데이터 수 제한\n",
    "- min_samples_leaf\n",
    "- max_features: 변수의 개수를 제한\n",
    "\n",
    "**Pruning**: Overfitting을 낮추기 위해 '가지치기'를 실행"
   ]
  },
  {
   "cell_type": "code",
   "execution_count": 20,
   "id": "0892da89",
   "metadata": {},
   "outputs": [
    {
     "name": "stdout",
     "output_type": "stream",
     "text": [
      "              precision    recall  f1-score   support\n",
      "\n",
      "           0       0.99      0.99      0.99       311\n",
      "           1       0.96      0.95      0.95        78\n",
      "\n",
      "    accuracy                           0.98       389\n",
      "   macro avg       0.97      0.97      0.97       389\n",
      "weighted avg       0.98      0.98      0.98       389\n",
      "\n",
      "\u001b[32mAccuracy of Decision Tree is: 98.20%\n"
     ]
    },
    {
     "data": {
      "text/plain": [
       "{'ccp_alpha': 0.0,\n",
       " 'class_weight': None,\n",
       " 'criterion': 'gini',\n",
       " 'max_depth': None,\n",
       " 'max_features': None,\n",
       " 'max_leaf_nodes': None,\n",
       " 'min_impurity_decrease': 0.0,\n",
       " 'min_samples_leaf': 1,\n",
       " 'min_samples_split': 2,\n",
       " 'min_weight_fraction_leaf': 0.0,\n",
       " 'random_state': None,\n",
       " 'splitter': 'best'}"
      ]
     },
     "execution_count": 20,
     "metadata": {},
     "output_type": "execute_result"
    }
   ],
   "source": [
    "from sklearn.tree import DecisionTreeClassifier\n",
    "\n",
    "dt_clf = DecisionTreeClassifier()\n",
    "dt_clf.fit(x_train, y_train)\n",
    "dt_clf_pred = dt_clf.predict(x_test)\n",
    "dt_clf_acc = accuracy_score(y_test, dt_clf_pred)\n",
    "print(classification_report(y_test, dt_clf_pred))\n",
    "print(Fore.GREEN + f\"Accuracy of Decision Tree is: {100*dt_clf_acc:2.2f}%\")\n",
    "dt_clf.get_params()"
   ]
  },
  {
   "cell_type": "code",
   "execution_count": 21,
   "id": "e240fe96",
   "metadata": {},
   "outputs": [],
   "source": [
    "parameters = {'criterion':['gini', 'entropy'],\n",
    "              'min_samples_split':[2, 5, 10, 15],\n",
    "              'max_depth':[None, 2],\n",
    "              'min_samples_leaf':[1, 3, 10, 15],\n",
    "              'max_features':[None, 'sqrt', 'log2'],\n",
    "             }"
   ]
  },
  {
   "cell_type": "code",
   "execution_count": 22,
   "id": "93b44e56",
   "metadata": {},
   "outputs": [
    {
     "data": {
      "text/html": [
       "<style>#sk-container-id-2 {color: black;background-color: white;}#sk-container-id-2 pre{padding: 0;}#sk-container-id-2 div.sk-toggleable {background-color: white;}#sk-container-id-2 label.sk-toggleable__label {cursor: pointer;display: block;width: 100%;margin-bottom: 0;padding: 0.3em;box-sizing: border-box;text-align: center;}#sk-container-id-2 label.sk-toggleable__label-arrow:before {content: \"▸\";float: left;margin-right: 0.25em;color: #696969;}#sk-container-id-2 label.sk-toggleable__label-arrow:hover:before {color: black;}#sk-container-id-2 div.sk-estimator:hover label.sk-toggleable__label-arrow:before {color: black;}#sk-container-id-2 div.sk-toggleable__content {max-height: 0;max-width: 0;overflow: hidden;text-align: left;background-color: #f0f8ff;}#sk-container-id-2 div.sk-toggleable__content pre {margin: 0.2em;color: black;border-radius: 0.25em;background-color: #f0f8ff;}#sk-container-id-2 input.sk-toggleable__control:checked~div.sk-toggleable__content {max-height: 200px;max-width: 100%;overflow: auto;}#sk-container-id-2 input.sk-toggleable__control:checked~label.sk-toggleable__label-arrow:before {content: \"▾\";}#sk-container-id-2 div.sk-estimator input.sk-toggleable__control:checked~label.sk-toggleable__label {background-color: #d4ebff;}#sk-container-id-2 div.sk-label input.sk-toggleable__control:checked~label.sk-toggleable__label {background-color: #d4ebff;}#sk-container-id-2 input.sk-hidden--visually {border: 0;clip: rect(1px 1px 1px 1px);clip: rect(1px, 1px, 1px, 1px);height: 1px;margin: -1px;overflow: hidden;padding: 0;position: absolute;width: 1px;}#sk-container-id-2 div.sk-estimator {font-family: monospace;background-color: #f0f8ff;border: 1px dotted black;border-radius: 0.25em;box-sizing: border-box;margin-bottom: 0.5em;}#sk-container-id-2 div.sk-estimator:hover {background-color: #d4ebff;}#sk-container-id-2 div.sk-parallel-item::after {content: \"\";width: 100%;border-bottom: 1px solid gray;flex-grow: 1;}#sk-container-id-2 div.sk-label:hover label.sk-toggleable__label {background-color: #d4ebff;}#sk-container-id-2 div.sk-serial::before {content: \"\";position: absolute;border-left: 1px solid gray;box-sizing: border-box;top: 0;bottom: 0;left: 50%;z-index: 0;}#sk-container-id-2 div.sk-serial {display: flex;flex-direction: column;align-items: center;background-color: white;padding-right: 0.2em;padding-left: 0.2em;position: relative;}#sk-container-id-2 div.sk-item {position: relative;z-index: 1;}#sk-container-id-2 div.sk-parallel {display: flex;align-items: stretch;justify-content: center;background-color: white;position: relative;}#sk-container-id-2 div.sk-item::before, #sk-container-id-2 div.sk-parallel-item::before {content: \"\";position: absolute;border-left: 1px solid gray;box-sizing: border-box;top: 0;bottom: 0;left: 50%;z-index: -1;}#sk-container-id-2 div.sk-parallel-item {display: flex;flex-direction: column;z-index: 1;position: relative;background-color: white;}#sk-container-id-2 div.sk-parallel-item:first-child::after {align-self: flex-end;width: 50%;}#sk-container-id-2 div.sk-parallel-item:last-child::after {align-self: flex-start;width: 50%;}#sk-container-id-2 div.sk-parallel-item:only-child::after {width: 0;}#sk-container-id-2 div.sk-dashed-wrapped {border: 1px dashed gray;margin: 0 0.4em 0.5em 0.4em;box-sizing: border-box;padding-bottom: 0.4em;background-color: white;}#sk-container-id-2 div.sk-label label {font-family: monospace;font-weight: bold;display: inline-block;line-height: 1.2em;}#sk-container-id-2 div.sk-label-container {text-align: center;}#sk-container-id-2 div.sk-container {/* jupyter's `normalize.less` sets `[hidden] { display: none; }` but bootstrap.min.css set `[hidden] { display: none !important; }` so we also need the `!important` here to be able to override the default hidden behavior on the sphinx rendered scikit-learn.org. See: https://github.com/scikit-learn/scikit-learn/issues/21755 */display: inline-block !important;position: relative;}#sk-container-id-2 div.sk-text-repr-fallback {display: none;}</style><div id=\"sk-container-id-2\" class=\"sk-top-container\"><div class=\"sk-text-repr-fallback\"><pre>GridSearchCV(cv=10, estimator=DecisionTreeClassifier(), n_jobs=8,\n",
       "             param_grid={&#x27;criterion&#x27;: [&#x27;gini&#x27;, &#x27;entropy&#x27;],\n",
       "                         &#x27;max_depth&#x27;: [None, 2],\n",
       "                         &#x27;max_features&#x27;: [None, &#x27;sqrt&#x27;, &#x27;log2&#x27;],\n",
       "                         &#x27;min_samples_leaf&#x27;: [1, 3, 10, 15],\n",
       "                         &#x27;min_samples_split&#x27;: [2, 5, 10, 15]},\n",
       "             scoring=&#x27;accuracy&#x27;)</pre><b>In a Jupyter environment, please rerun this cell to show the HTML representation or trust the notebook. <br />On GitHub, the HTML representation is unable to render, please try loading this page with nbviewer.org.</b></div><div class=\"sk-container\" hidden><div class=\"sk-item sk-dashed-wrapped\"><div class=\"sk-label-container\"><div class=\"sk-label sk-toggleable\"><input class=\"sk-toggleable__control sk-hidden--visually\" id=\"sk-estimator-id-4\" type=\"checkbox\" ><label for=\"sk-estimator-id-4\" class=\"sk-toggleable__label sk-toggleable__label-arrow\">GridSearchCV</label><div class=\"sk-toggleable__content\"><pre>GridSearchCV(cv=10, estimator=DecisionTreeClassifier(), n_jobs=8,\n",
       "             param_grid={&#x27;criterion&#x27;: [&#x27;gini&#x27;, &#x27;entropy&#x27;],\n",
       "                         &#x27;max_depth&#x27;: [None, 2],\n",
       "                         &#x27;max_features&#x27;: [None, &#x27;sqrt&#x27;, &#x27;log2&#x27;],\n",
       "                         &#x27;min_samples_leaf&#x27;: [1, 3, 10, 15],\n",
       "                         &#x27;min_samples_split&#x27;: [2, 5, 10, 15]},\n",
       "             scoring=&#x27;accuracy&#x27;)</pre></div></div></div><div class=\"sk-parallel\"><div class=\"sk-parallel-item\"><div class=\"sk-item\"><div class=\"sk-label-container\"><div class=\"sk-label sk-toggleable\"><input class=\"sk-toggleable__control sk-hidden--visually\" id=\"sk-estimator-id-5\" type=\"checkbox\" ><label for=\"sk-estimator-id-5\" class=\"sk-toggleable__label sk-toggleable__label-arrow\">estimator: DecisionTreeClassifier</label><div class=\"sk-toggleable__content\"><pre>DecisionTreeClassifier()</pre></div></div></div><div class=\"sk-serial\"><div class=\"sk-item\"><div class=\"sk-estimator sk-toggleable\"><input class=\"sk-toggleable__control sk-hidden--visually\" id=\"sk-estimator-id-6\" type=\"checkbox\" ><label for=\"sk-estimator-id-6\" class=\"sk-toggleable__label sk-toggleable__label-arrow\">DecisionTreeClassifier</label><div class=\"sk-toggleable__content\"><pre>DecisionTreeClassifier()</pre></div></div></div></div></div></div></div></div></div></div>"
      ],
      "text/plain": [
       "GridSearchCV(cv=10, estimator=DecisionTreeClassifier(), n_jobs=8,\n",
       "             param_grid={'criterion': ['gini', 'entropy'],\n",
       "                         'max_depth': [None, 2],\n",
       "                         'max_features': [None, 'sqrt', 'log2'],\n",
       "                         'min_samples_leaf': [1, 3, 10, 15],\n",
       "                         'min_samples_split': [2, 5, 10, 15]},\n",
       "             scoring='accuracy')"
      ]
     },
     "execution_count": 22,
     "metadata": {},
     "output_type": "execute_result"
    }
   ],
   "source": [
    "dt = DecisionTreeClassifier()\n",
    "GSDT = GridSearchCV(dt, parameters, cv=10, n_jobs=n_thread, scoring='accuracy')\n",
    "GSDT.fit(x_train, y_train)"
   ]
  },
  {
   "cell_type": "code",
   "execution_count": 23,
   "id": "235a3738",
   "metadata": {},
   "outputs": [
    {
     "name": "stdout",
     "output_type": "stream",
     "text": [
      "Final Params: {'criterion': 'entropy', 'max_depth': None, 'max_features': None, 'min_samples_leaf': 3, 'min_samples_split': 10}\n",
      "Best Score: 0.9787386269644335\n"
     ]
    }
   ],
   "source": [
    "print(\"Final Params:\", GSDT.best_params_)\n",
    "print(\"Best Score:\", GSDT.best_score_)"
   ]
  },
  {
   "cell_type": "code",
   "execution_count": 24,
   "id": "92b20e64",
   "metadata": {},
   "outputs": [
    {
     "name": "stdout",
     "output_type": "stream",
     "text": [
      "              precision    recall  f1-score   support\n",
      "\n",
      "           0       0.97      0.99      0.98       311\n",
      "           1       0.96      0.88      0.92        78\n",
      "\n",
      "    accuracy                           0.97       389\n",
      "   macro avg       0.96      0.94      0.95       389\n",
      "weighted avg       0.97      0.97      0.97       389\n",
      "\n",
      "\u001b[32mAccuracy of GridSearch Decision Tree: 96.92%\n"
     ]
    }
   ],
   "source": [
    "GSDT_pred = GSDT.predict(x_test)\n",
    "GSDT_acc = accuracy_score(y_test, GSDT_pred)\n",
    "print(classification_report(y_test, GSDT_pred))\n",
    "print(Fore.GREEN + f\"Accuracy of GridSearch Decision Tree: {100*GSDT_acc:2.2f}%\")"
   ]
  },
  {
   "cell_type": "code",
   "execution_count": 25,
   "id": "ae8c62cb",
   "metadata": {},
   "outputs": [
    {
     "data": {
      "text/plain": [
       "<Figure size 500x500 with 0 Axes>"
      ]
     },
     "metadata": {},
     "output_type": "display_data"
    },
    {
     "data": {
      "image/png": "[encoded data removed]",
      "text/plain": [
       "<Figure size 640x480 with 1 Axes>"
      ]
     },
     "metadata": {
      "image/png": {
       "height": 432,
       "width": 499
      }
     },
     "output_type": "display_data"
    }
   ],
   "source": [
    "cm = confusion_matrix(y_test, GSDT_pred)\n",
    "plt.figure(figsize=(5,5))\n",
    "plot_confusion_matrix(cm, cmap=plt.cm.Blues, hide_ticks=True)\n",
    "plt.xticks(range(2), [\"K-Scatch X\", 'K-Scratch O'], fontsize=10)\n",
    "plt.yticks(range(2), [\"K-Scatch X\", 'K-Scratch O'], fontsize=10)\n",
    "plt.show()"
   ]
  },
  {
   "cell_type": "code",
   "execution_count": 26,
   "id": "a08905e0",
   "metadata": {},
   "outputs": [
    {
     "name": "stdout",
     "output_type": "stream",
     "text": [
      "0    1239\n",
      "1     313\n",
      "Name: K_Scatch, dtype: int64\n"
     ]
    }
   ],
   "source": [
    "# train에서 종속변수의 분포\n",
    "print(y_train.value_counts())"
   ]
  },
  {
   "cell_type": "code",
   "execution_count": 27,
   "id": "f6fe504e",
   "metadata": {},
   "outputs": [],
   "source": [
    "!dot -c"
   ]
  },
  {
   "cell_type": "code",
   "execution_count": 28,
   "id": "b99cfafe",
   "metadata": {
    "scrolled": true
   },
   "outputs": [
    {
     "data": {
      "image/svg+xml": [
       "<?xml version=\"1.0\" encoding=\"UTF-8\" standalone=\"no\"?>\n",
       "<!DOCTYPE svg PUBLIC \"-//W3C//DTD SVG 1.1//EN\"\n",
       " \"http://www.w3.org/Graphics/SVG/1.1/DTD/svg11.dtd\">\n",
       "<!-- Generated by graphviz version 6.0.2 (0)\n",
       " -->\n",
       "<!-- Title: Tree Pages: 1 -->\n",
       "<svg width=\"1511pt\" height=\"1205pt\"\n",
       " viewBox=\"0.00 0.00 1511.00 1205.00\" xmlns=\"http://www.w3.org/2000/svg\" xmlns:xlink=\"http://www.w3.org/1999/xlink\">\n",
       "<g id=\"graph0\" class=\"graph\" transform=\"scale(1 1) rotate(0) translate(4 1201)\">\n",
       "<title>Tree</title>\n",
       "<polygon fill=\"white\" stroke=\"none\" points=\"-4,4 -4,-1201 1507,-1201 1507,4 -4,4\"/>\n",
       "<!-- 0 -->\n",
       "<g id=\"node1\" class=\"node\">\n",
       "<title>0</title>\n",
       "<path fill=\"#eca16b\" stroke=\"black\" d=\"M1082.5,-1197C1082.5,-1197 927.5,-1197 927.5,-1197 921.5,-1197 915.5,-1191 915.5,-1185 915.5,-1185 915.5,-1141 915.5,-1141 915.5,-1135 921.5,-1129 927.5,-1129 927.5,-1129 1082.5,-1129 1082.5,-1129 1088.5,-1129 1094.5,-1135 1094.5,-1141 1094.5,-1141 1094.5,-1185 1094.5,-1185 1094.5,-1191 1088.5,-1197 1082.5,-1197\"/>\n",
       "<text text-anchor=\"middle\" x=\"1005\" y=\"-1181.8\" font-family=\"Helvetica,sans-Serif\" font-size=\"14.00\">Outside_X_Index &lt;= 0.148</text>\n",
       "<text text-anchor=\"middle\" x=\"1005\" y=\"-1166.8\" font-family=\"Helvetica,sans-Serif\" font-size=\"14.00\">entropy = 0.725</text>\n",
       "<text text-anchor=\"middle\" x=\"1005\" y=\"-1151.8\" font-family=\"Helvetica,sans-Serif\" font-size=\"14.00\">samples = 1552</text>\n",
       "<text text-anchor=\"middle\" x=\"1005\" y=\"-1136.8\" font-family=\"Helvetica,sans-Serif\" font-size=\"14.00\">value = [1239, 313]</text>\n",
       "</g>\n",
       "<!-- 1 -->\n",
       "<g id=\"node2\" class=\"node\">\n",
       "<title>1</title>\n",
       "<path fill=\"#e68641\" stroke=\"black\" d=\"M1000,-1093C1000,-1093 808,-1093 808,-1093 802,-1093 796,-1087 796,-1081 796,-1081 796,-1037 796,-1037 796,-1031 802,-1025 808,-1025 808,-1025 1000,-1025 1000,-1025 1006,-1025 1012,-1031 1012,-1037 1012,-1037 1012,-1081 1012,-1081 1012,-1087 1006,-1093 1000,-1093\"/>\n",
       "<text text-anchor=\"middle\" x=\"904\" y=\"-1077.8\" font-family=\"Helvetica,sans-Serif\" font-size=\"14.00\">Steel_Plate_Thickness &lt;= &#45;0.604</text>\n",
       "<text text-anchor=\"middle\" x=\"904\" y=\"-1062.8\" font-family=\"Helvetica,sans-Serif\" font-size=\"14.00\">entropy = 0.242</text>\n",
       "<text text-anchor=\"middle\" x=\"904\" y=\"-1047.8\" font-family=\"Helvetica,sans-Serif\" font-size=\"14.00\">samples = 1252</text>\n",
       "<text text-anchor=\"middle\" x=\"904\" y=\"-1032.8\" font-family=\"Helvetica,sans-Serif\" font-size=\"14.00\">value = [1202, 50]</text>\n",
       "</g>\n",
       "<!-- 0&#45;&gt;1 -->\n",
       "<g id=\"edge1\" class=\"edge\">\n",
       "<title>0&#45;&gt;1</title>\n",
       "<path fill=\"none\" stroke=\"black\" d=\"M972.21,-1128.88C963.3,-1119.89 953.55,-1110.04 944.28,-1100.68\"/>\n",
       "<polygon fill=\"black\" stroke=\"black\" points=\"946.5,-1097.94 936.97,-1093.3 941.52,-1102.87 946.5,-1097.94\"/>\n",
       "<text text-anchor=\"middle\" x=\"936.85\" y=\"-1114.6\" font-family=\"Helvetica,sans-Serif\" font-size=\"14.00\">True</text>\n",
       "</g>\n",
       "<!-- 32 -->\n",
       "<g id=\"node33\" class=\"node\">\n",
       "<title>32</title>\n",
       "<path fill=\"#55abe9\" stroke=\"black\" d=\"M1170,-1093C1170,-1093 1042,-1093 1042,-1093 1036,-1093 1030,-1087 1030,-1081 1030,-1081 1030,-1037 1030,-1037 1030,-1031 1036,-1025 1042,-1025 1042,-1025 1170,-1025 1170,-1025 1176,-1025 1182,-1031 1182,-1037 1182,-1037 1182,-1081 1182,-1081 1182,-1087 1176,-1093 1170,-1093\"/>\n",
       "<text text-anchor=\"middle\" x=\"1106\" y=\"-1077.8\" font-family=\"Helvetica,sans-Serif\" font-size=\"14.00\">X_Minimum &lt;= &#45;0.589</text>\n",
       "<text text-anchor=\"middle\" x=\"1106\" y=\"-1062.8\" font-family=\"Helvetica,sans-Serif\" font-size=\"14.00\">entropy = 0.539</text>\n",
       "<text text-anchor=\"middle\" x=\"1106\" y=\"-1047.8\" font-family=\"Helvetica,sans-Serif\" font-size=\"14.00\">samples = 300</text>\n",
       "<text text-anchor=\"middle\" x=\"1106\" y=\"-1032.8\" font-family=\"Helvetica,sans-Serif\" font-size=\"14.00\">value = [37, 263]</text>\n",
       "</g>\n",
       "<!-- 0&#45;&gt;32 -->\n",
       "<g id=\"edge32\" class=\"edge\">\n",
       "<title>0&#45;&gt;32</title>\n",
       "<path fill=\"none\" stroke=\"black\" d=\"M1037.79,-1128.88C1046.7,-1119.89 1056.45,-1110.04 1065.72,-1100.68\"/>\n",
       "<polygon fill=\"black\" stroke=\"black\" points=\"1068.48,-1102.87 1073.03,-1093.3 1063.5,-1097.94 1068.48,-1102.87\"/>\n",
       "<text text-anchor=\"middle\" x=\"1073.15\" y=\"-1114.6\" font-family=\"Helvetica,sans-Serif\" font-size=\"14.00\">False</text>\n",
       "</g>\n",
       "<!-- 2 -->\n",
       "<g id=\"node3\" class=\"node\">\n",
       "<title>2</title>\n",
       "<path fill=\"#ea9b62\" stroke=\"black\" d=\"M825,-989C825,-989 669,-989 669,-989 663,-989 657,-983 657,-977 657,-977 657,-933 657,-933 657,-927 663,-921 669,-921 669,-921 825,-921 825,-921 831,-921 837,-927 837,-933 837,-933 837,-977 837,-977 837,-983 831,-989 825,-989\"/>\n",
       "<text text-anchor=\"middle\" x=\"747\" y=\"-973.8\" font-family=\"Helvetica,sans-Serif\" font-size=\"14.00\">Luminosity_Index &lt;= 1.647</text>\n",
       "<text text-anchor=\"middle\" x=\"747\" y=\"-958.8\" font-family=\"Helvetica,sans-Serif\" font-size=\"14.00\">entropy = 0.658</text>\n",
       "<text text-anchor=\"middle\" x=\"747\" y=\"-943.8\" font-family=\"Helvetica,sans-Serif\" font-size=\"14.00\">samples = 294</text>\n",
       "<text text-anchor=\"middle\" x=\"747\" y=\"-928.8\" font-family=\"Helvetica,sans-Serif\" font-size=\"14.00\">value = [244, 50]</text>\n",
       "</g>\n",
       "<!-- 1&#45;&gt;2 -->\n",
       "<g id=\"edge2\" class=\"edge\">\n",
       "<title>1&#45;&gt;2</title>\n",
       "<path fill=\"none\" stroke=\"black\" d=\"M853.03,-1024.88C838.14,-1015.21 821.75,-1004.56 806.39,-994.59\"/>\n",
       "<polygon fill=\"black\" stroke=\"black\" points=\"808.28,-991.64 797.99,-989.12 804.46,-997.51 808.28,-991.64\"/>\n",
       "</g>\n",
       "<!-- 31 -->\n",
       "<g id=\"node32\" class=\"node\">\n",
       "<title>31</title>\n",
       "<path fill=\"#e58139\" stroke=\"black\" d=\"M953,-981.5C953,-981.5 867,-981.5 867,-981.5 861,-981.5 855,-975.5 855,-969.5 855,-969.5 855,-940.5 855,-940.5 855,-934.5 861,-928.5 867,-928.5 867,-928.5 953,-928.5 953,-928.5 959,-928.5 965,-934.5 965,-940.5 965,-940.5 965,-969.5 965,-969.5 965,-975.5 959,-981.5 953,-981.5\"/>\n",
       "<text text-anchor=\"middle\" x=\"910\" y=\"-966.3\" font-family=\"Helvetica,sans-Serif\" font-size=\"14.00\">entropy = 0.0</text>\n",
       "<text text-anchor=\"middle\" x=\"910\" y=\"-951.3\" font-family=\"Helvetica,sans-Serif\" font-size=\"14.00\">samples = 958</text>\n",
       "<text text-anchor=\"middle\" x=\"910\" y=\"-936.3\" font-family=\"Helvetica,sans-Serif\" font-size=\"14.00\">value = [958, 0]</text>\n",
       "</g>\n",
       "<!-- 1&#45;&gt;31 -->\n",
       "<g id=\"edge31\" class=\"edge\">\n",
       "<title>1&#45;&gt;31</title>\n",
       "<path fill=\"none\" stroke=\"black\" d=\"M905.95,-1024.88C906.58,-1014.22 907.27,-1002.35 907.91,-991.52\"/>\n",
       "<polygon fill=\"black\" stroke=\"black\" points=\"911.41,-991.71 908.5,-981.52 904.42,-991.3 911.41,-991.71\"/>\n",
       "</g>\n",
       "<!-- 3 -->\n",
       "<g id=\"node4\" class=\"node\">\n",
       "<title>3</title>\n",
       "<path fill=\"#e78d4b\" stroke=\"black\" d=\"M639,-885C639,-885 507,-885 507,-885 501,-885 495,-879 495,-873 495,-873 495,-829 495,-829 495,-823 501,-817 507,-817 507,-817 639,-817 639,-817 645,-817 651,-823 651,-829 651,-829 651,-873 651,-873 651,-879 645,-885 639,-885\"/>\n",
       "<text text-anchor=\"middle\" x=\"573\" y=\"-869.8\" font-family=\"Helvetica,sans-Serif\" font-size=\"14.00\">X_Maximum &lt;= &#45;0.199</text>\n",
       "<text text-anchor=\"middle\" x=\"573\" y=\"-854.8\" font-family=\"Helvetica,sans-Serif\" font-size=\"14.00\">entropy = 0.415</text>\n",
       "<text text-anchor=\"middle\" x=\"573\" y=\"-839.8\" font-family=\"Helvetica,sans-Serif\" font-size=\"14.00\">samples = 263</text>\n",
       "<text text-anchor=\"middle\" x=\"573\" y=\"-824.8\" font-family=\"Helvetica,sans-Serif\" font-size=\"14.00\">value = [241, 22]</text>\n",
       "</g>\n",
       "<!-- 2&#45;&gt;3 -->\n",
       "<g id=\"edge3\" class=\"edge\">\n",
       "<title>2&#45;&gt;3</title>\n",
       "<path fill=\"none\" stroke=\"black\" d=\"M690.51,-920.88C673.86,-911.12 655.51,-900.37 638.35,-890.31\"/>\n",
       "<polygon fill=\"black\" stroke=\"black\" points=\"639.9,-887.16 629.51,-885.12 636.36,-893.2 639.9,-887.16\"/>\n",
       "</g>\n",
       "<!-- 28 -->\n",
       "<g id=\"node29\" class=\"node\">\n",
       "<title>28</title>\n",
       "<path fill=\"#4ea8e8\" stroke=\"black\" d=\"M827,-885C827,-885 681,-885 681,-885 675,-885 669,-879 669,-873 669,-873 669,-829 669,-829 669,-823 675,-817 681,-817 681,-817 827,-817 827,-817 833,-817 839,-823 839,-829 839,-829 839,-873 839,-873 839,-879 833,-885 827,-885\"/>\n",
       "<text text-anchor=\"middle\" x=\"754\" y=\"-869.8\" font-family=\"Helvetica,sans-Serif\" font-size=\"14.00\">Edges_X_Index &lt;= 0.507</text>\n",
       "<text text-anchor=\"middle\" x=\"754\" y=\"-854.8\" font-family=\"Helvetica,sans-Serif\" font-size=\"14.00\">entropy = 0.459</text>\n",
       "<text text-anchor=\"middle\" x=\"754\" y=\"-839.8\" font-family=\"Helvetica,sans-Serif\" font-size=\"14.00\">samples = 31</text>\n",
       "<text text-anchor=\"middle\" x=\"754\" y=\"-824.8\" font-family=\"Helvetica,sans-Serif\" font-size=\"14.00\">value = [3, 28]</text>\n",
       "</g>\n",
       "<!-- 2&#45;&gt;28 -->\n",
       "<g id=\"edge28\" class=\"edge\">\n",
       "<title>2&#45;&gt;28</title>\n",
       "<path fill=\"none\" stroke=\"black\" d=\"M749.27,-920.88C749.83,-912.78 750.43,-903.98 751.02,-895.47\"/>\n",
       "<polygon fill=\"black\" stroke=\"black\" points=\"754.52,-895.52 751.71,-885.3 747.54,-895.04 754.52,-895.52\"/>\n",
       "</g>\n",
       "<!-- 4 -->\n",
       "<g id=\"node5\" class=\"node\">\n",
       "<title>4</title>\n",
       "<path fill=\"#ea9a61\" stroke=\"black\" d=\"M454,-781C454,-781 296,-781 296,-781 290,-781 284,-775 284,-769 284,-769 284,-725 284,-725 284,-719 290,-713 296,-713 296,-713 454,-713 454,-713 460,-713 466,-719 466,-725 466,-725 466,-769 466,-769 466,-775 460,-781 454,-781\"/>\n",
       "<text text-anchor=\"middle\" x=\"375\" y=\"-765.8\" font-family=\"Helvetica,sans-Serif\" font-size=\"14.00\">Orientation_Index &lt;= 0.493</text>\n",
       "<text text-anchor=\"middle\" x=\"375\" y=\"-750.8\" font-family=\"Helvetica,sans-Serif\" font-size=\"14.00\">entropy = 0.65</text>\n",
       "<text text-anchor=\"middle\" x=\"375\" y=\"-735.8\" font-family=\"Helvetica,sans-Serif\" font-size=\"14.00\">samples = 120</text>\n",
       "<text text-anchor=\"middle\" x=\"375\" y=\"-720.8\" font-family=\"Helvetica,sans-Serif\" font-size=\"14.00\">value = [100, 20]</text>\n",
       "</g>\n",
       "<!-- 3&#45;&gt;4 -->\n",
       "<g id=\"edge4\" class=\"edge\">\n",
       "<title>3&#45;&gt;4</title>\n",
       "<path fill=\"none\" stroke=\"black\" d=\"M508.72,-816.88C489.42,-806.95 468.12,-795.97 448.29,-785.76\"/>\n",
       "<polygon fill=\"black\" stroke=\"black\" points=\"449.79,-782.59 439.3,-781.12 446.59,-788.82 449.79,-782.59\"/>\n",
       "</g>\n",
       "<!-- 21 -->\n",
       "<g id=\"node22\" class=\"node\">\n",
       "<title>21</title>\n",
       "<path fill=\"#e5833c\" stroke=\"black\" d=\"M657.5,-781C657.5,-781 496.5,-781 496.5,-781 490.5,-781 484.5,-775 484.5,-769 484.5,-769 484.5,-725 484.5,-725 484.5,-719 490.5,-713 496.5,-713 496.5,-713 657.5,-713 657.5,-713 663.5,-713 669.5,-719 669.5,-725 669.5,-725 669.5,-769 669.5,-769 669.5,-775 663.5,-781 657.5,-781\"/>\n",
       "<text text-anchor=\"middle\" x=\"577\" y=\"-765.8\" font-family=\"Helvetica,sans-Serif\" font-size=\"14.00\">Luminosity_Index &lt;= &#45;0.649</text>\n",
       "<text text-anchor=\"middle\" x=\"577\" y=\"-750.8\" font-family=\"Helvetica,sans-Serif\" font-size=\"14.00\">entropy = 0.106</text>\n",
       "<text text-anchor=\"middle\" x=\"577\" y=\"-735.8\" font-family=\"Helvetica,sans-Serif\" font-size=\"14.00\">samples = 143</text>\n",
       "<text text-anchor=\"middle\" x=\"577\" y=\"-720.8\" font-family=\"Helvetica,sans-Serif\" font-size=\"14.00\">value = [141, 2]</text>\n",
       "</g>\n",
       "<!-- 3&#45;&gt;21 -->\n",
       "<g id=\"edge21\" class=\"edge\">\n",
       "<title>3&#45;&gt;21</title>\n",
       "<path fill=\"none\" stroke=\"black\" d=\"M574.3,-816.88C574.62,-808.78 574.96,-799.98 575.3,-791.47\"/>\n",
       "<polygon fill=\"black\" stroke=\"black\" points=\"578.8,-791.43 575.69,-781.3 571.8,-791.15 578.8,-791.43\"/>\n",
       "</g>\n",
       "<!-- 5 -->\n",
       "<g id=\"node6\" class=\"node\">\n",
       "<title>5</title>\n",
       "<path fill=\"#eeaf81\" stroke=\"black\" d=\"M298,-677C298,-677 170,-677 170,-677 164,-677 158,-671 158,-665 158,-665 158,-621 158,-621 158,-615 164,-609 170,-609 170,-609 298,-609 298,-609 304,-609 310,-615 310,-621 310,-621 310,-665 310,-665 310,-671 304,-677 298,-677\"/>\n",
       "<text text-anchor=\"middle\" x=\"234\" y=\"-661.8\" font-family=\"Helvetica,sans-Serif\" font-size=\"14.00\">Y_Minimum &lt;= &#45;0.848</text>\n",
       "<text text-anchor=\"middle\" x=\"234\" y=\"-646.8\" font-family=\"Helvetica,sans-Serif\" font-size=\"14.00\">entropy = 0.837</text>\n",
       "<text text-anchor=\"middle\" x=\"234\" y=\"-631.8\" font-family=\"Helvetica,sans-Serif\" font-size=\"14.00\">samples = 75</text>\n",
       "<text text-anchor=\"middle\" x=\"234\" y=\"-616.8\" font-family=\"Helvetica,sans-Serif\" font-size=\"14.00\">value = [55, 20]</text>\n",
       "</g>\n",
       "<!-- 4&#45;&gt;5 -->\n",
       "<g id=\"edge5\" class=\"edge\">\n",
       "<title>4&#45;&gt;5</title>\n",
       "<path fill=\"none\" stroke=\"black\" d=\"M329.22,-712.88C316.17,-703.44 301.82,-693.06 288.31,-683.29\"/>\n",
       "<polygon fill=\"black\" stroke=\"black\" points=\"290.19,-680.32 280.03,-677.3 286.08,-686 290.19,-680.32\"/>\n",
       "</g>\n",
       "<!-- 20 -->\n",
       "<g id=\"node21\" class=\"node\">\n",
       "<title>20</title>\n",
       "<path fill=\"#e58139\" stroke=\"black\" d=\"M418,-669.5C418,-669.5 340,-669.5 340,-669.5 334,-669.5 328,-663.5 328,-657.5 328,-657.5 328,-628.5 328,-628.5 328,-622.5 334,-616.5 340,-616.5 340,-616.5 418,-616.5 418,-616.5 424,-616.5 430,-622.5 430,-628.5 430,-628.5 430,-657.5 430,-657.5 430,-663.5 424,-669.5 418,-669.5\"/>\n",
       "<text text-anchor=\"middle\" x=\"379\" y=\"-654.3\" font-family=\"Helvetica,sans-Serif\" font-size=\"14.00\">entropy = 0.0</text>\n",
       "<text text-anchor=\"middle\" x=\"379\" y=\"-639.3\" font-family=\"Helvetica,sans-Serif\" font-size=\"14.00\">samples = 45</text>\n",
       "<text text-anchor=\"middle\" x=\"379\" y=\"-624.3\" font-family=\"Helvetica,sans-Serif\" font-size=\"14.00\">value = [45, 0]</text>\n",
       "</g>\n",
       "<!-- 4&#45;&gt;20 -->\n",
       "<g id=\"edge20\" class=\"edge\">\n",
       "<title>4&#45;&gt;20</title>\n",
       "<path fill=\"none\" stroke=\"black\" d=\"M376.3,-712.88C376.72,-702.22 377.18,-690.35 377.61,-679.52\"/>\n",
       "<polygon fill=\"black\" stroke=\"black\" points=\"381.1,-679.65 378,-669.52 374.11,-679.38 381.1,-679.65\"/>\n",
       "</g>\n",
       "<!-- 6 -->\n",
       "<g id=\"node7\" class=\"node\">\n",
       "<title>6</title>\n",
       "<path fill=\"#399de5\" stroke=\"black\" d=\"M131,-565.5C131,-565.5 59,-565.5 59,-565.5 53,-565.5 47,-559.5 47,-553.5 47,-553.5 47,-524.5 47,-524.5 47,-518.5 53,-512.5 59,-512.5 59,-512.5 131,-512.5 131,-512.5 137,-512.5 143,-518.5 143,-524.5 143,-524.5 143,-553.5 143,-553.5 143,-559.5 137,-565.5 131,-565.5\"/>\n",
       "<text text-anchor=\"middle\" x=\"95\" y=\"-550.3\" font-family=\"Helvetica,sans-Serif\" font-size=\"14.00\">entropy = 0.0</text>\n",
       "<text text-anchor=\"middle\" x=\"95\" y=\"-535.3\" font-family=\"Helvetica,sans-Serif\" font-size=\"14.00\">samples = 6</text>\n",
       "<text text-anchor=\"middle\" x=\"95\" y=\"-520.3\" font-family=\"Helvetica,sans-Serif\" font-size=\"14.00\">value = [0, 6]</text>\n",
       "</g>\n",
       "<!-- 5&#45;&gt;6 -->\n",
       "<g id=\"edge6\" class=\"edge\">\n",
       "<title>5&#45;&gt;6</title>\n",
       "<path fill=\"none\" stroke=\"black\" d=\"M188.87,-608.88C172.53,-596.9 154.14,-583.4 137.99,-571.55\"/>\n",
       "<polygon fill=\"black\" stroke=\"black\" points=\"139.91,-568.61 129.78,-565.52 135.77,-574.26 139.91,-568.61\"/>\n",
       "</g>\n",
       "<!-- 7 -->\n",
       "<g id=\"node8\" class=\"node\">\n",
       "<title>7</title>\n",
       "<path fill=\"#eca16b\" stroke=\"black\" d=\"M305,-573C305,-573 173,-573 173,-573 167,-573 161,-567 161,-561 161,-561 161,-517 161,-517 161,-511 167,-505 173,-505 173,-505 305,-505 305,-505 311,-505 317,-511 317,-517 317,-517 317,-561 317,-561 317,-567 311,-573 305,-573\"/>\n",
       "<text text-anchor=\"middle\" x=\"239\" y=\"-557.8\" font-family=\"Helvetica,sans-Serif\" font-size=\"14.00\">X_Maximum &lt;= &#45;0.857</text>\n",
       "<text text-anchor=\"middle\" x=\"239\" y=\"-542.8\" font-family=\"Helvetica,sans-Serif\" font-size=\"14.00\">entropy = 0.728</text>\n",
       "<text text-anchor=\"middle\" x=\"239\" y=\"-527.8\" font-family=\"Helvetica,sans-Serif\" font-size=\"14.00\">samples = 69</text>\n",
       "<text text-anchor=\"middle\" x=\"239\" y=\"-512.8\" font-family=\"Helvetica,sans-Serif\" font-size=\"14.00\">value = [55, 14]</text>\n",
       "</g>\n",
       "<!-- 5&#45;&gt;7 -->\n",
       "<g id=\"edge7\" class=\"edge\">\n",
       "<title>5&#45;&gt;7</title>\n",
       "<path fill=\"none\" stroke=\"black\" d=\"M235.62,-608.88C236.02,-600.78 236.45,-591.98 236.87,-583.47\"/>\n",
       "<polygon fill=\"black\" stroke=\"black\" points=\"240.37,-583.46 237.37,-573.3 233.38,-583.12 240.37,-583.46\"/>\n",
       "</g>\n",
       "<!-- 8 -->\n",
       "<g id=\"node9\" class=\"node\">\n",
       "<title>8</title>\n",
       "<path fill=\"#f4c8a9\" stroke=\"black\" d=\"M296,-469C296,-469 140,-469 140,-469 134,-469 128,-463 128,-457 128,-457 128,-413 128,-413 128,-407 134,-401 140,-401 140,-401 296,-401 296,-401 302,-401 308,-407 308,-413 308,-413 308,-457 308,-457 308,-463 302,-469 296,-469\"/>\n",
       "<text text-anchor=\"middle\" x=\"218\" y=\"-453.8\" font-family=\"Helvetica,sans-Serif\" font-size=\"14.00\">Luminosity_Index &lt;= 0.506</text>\n",
       "<text text-anchor=\"middle\" x=\"218\" y=\"-438.8\" font-family=\"Helvetica,sans-Serif\" font-size=\"14.00\">entropy = 0.944</text>\n",
       "<text text-anchor=\"middle\" x=\"218\" y=\"-423.8\" font-family=\"Helvetica,sans-Serif\" font-size=\"14.00\">samples = 36</text>\n",
       "<text text-anchor=\"middle\" x=\"218\" y=\"-408.8\" font-family=\"Helvetica,sans-Serif\" font-size=\"14.00\">value = [23, 13]</text>\n",
       "</g>\n",
       "<!-- 7&#45;&gt;8 -->\n",
       "<g id=\"edge8\" class=\"edge\">\n",
       "<title>7&#45;&gt;8</title>\n",
       "<path fill=\"none\" stroke=\"black\" d=\"M232.18,-504.88C230.49,-496.69 228.66,-487.79 226.89,-479.19\"/>\n",
       "<polygon fill=\"black\" stroke=\"black\" points=\"230.3,-478.39 224.86,-469.3 223.44,-479.8 230.3,-478.39\"/>\n",
       "</g>\n",
       "<!-- 17 -->\n",
       "<g id=\"node18\" class=\"node\">\n",
       "<title>17</title>\n",
       "<path fill=\"#e6853f\" stroke=\"black\" d=\"M467.5,-469C467.5,-469 338.5,-469 338.5,-469 332.5,-469 326.5,-463 326.5,-457 326.5,-457 326.5,-413 326.5,-413 326.5,-407 332.5,-401 338.5,-401 338.5,-401 467.5,-401 467.5,-401 473.5,-401 479.5,-407 479.5,-413 479.5,-413 479.5,-457 479.5,-457 479.5,-463 473.5,-469 467.5,-469\"/>\n",
       "<text text-anchor=\"middle\" x=\"403\" y=\"-453.8\" font-family=\"Helvetica,sans-Serif\" font-size=\"14.00\">Edges_Index &lt;= 0.891</text>\n",
       "<text text-anchor=\"middle\" x=\"403\" y=\"-438.8\" font-family=\"Helvetica,sans-Serif\" font-size=\"14.00\">entropy = 0.196</text>\n",
       "<text text-anchor=\"middle\" x=\"403\" y=\"-423.8\" font-family=\"Helvetica,sans-Serif\" font-size=\"14.00\">samples = 33</text>\n",
       "<text text-anchor=\"middle\" x=\"403\" y=\"-408.8\" font-family=\"Helvetica,sans-Serif\" font-size=\"14.00\">value = [32, 1]</text>\n",
       "</g>\n",
       "<!-- 7&#45;&gt;17 -->\n",
       "<g id=\"edge17\" class=\"edge\">\n",
       "<title>7&#45;&gt;17</title>\n",
       "<path fill=\"none\" stroke=\"black\" d=\"M292.25,-504.88C307.79,-495.21 324.92,-484.56 340.96,-474.59\"/>\n",
       "<polygon fill=\"black\" stroke=\"black\" points=\"343.1,-477.38 349.74,-469.12 339.4,-471.43 343.1,-477.38\"/>\n",
       "</g>\n",
       "<!-- 9 -->\n",
       "<g id=\"node10\" class=\"node\">\n",
       "<title>9</title>\n",
       "<path fill=\"#e58139\" stroke=\"black\" d=\"M90,-357.5C90,-357.5 12,-357.5 12,-357.5 6,-357.5 0,-351.5 0,-345.5 0,-345.5 0,-316.5 0,-316.5 0,-310.5 6,-304.5 12,-304.5 12,-304.5 90,-304.5 90,-304.5 96,-304.5 102,-310.5 102,-316.5 102,-316.5 102,-345.5 102,-345.5 102,-351.5 96,-357.5 90,-357.5\"/>\n",
       "<text text-anchor=\"middle\" x=\"51\" y=\"-342.3\" font-family=\"Helvetica,sans-Serif\" font-size=\"14.00\">entropy = 0.0</text>\n",
       "<text text-anchor=\"middle\" x=\"51\" y=\"-327.3\" font-family=\"Helvetica,sans-Serif\" font-size=\"14.00\">samples = 13</text>\n",
       "<text text-anchor=\"middle\" x=\"51\" y=\"-312.3\" font-family=\"Helvetica,sans-Serif\" font-size=\"14.00\">value = [13, 0]</text>\n",
       "</g>\n",
       "<!-- 8&#45;&gt;9 -->\n",
       "<g id=\"edge9\" class=\"edge\">\n",
       "<title>8&#45;&gt;9</title>\n",
       "<path fill=\"none\" stroke=\"black\" d=\"M163.78,-400.88C143.7,-388.62 121.04,-374.78 101.32,-362.74\"/>\n",
       "<polygon fill=\"black\" stroke=\"black\" points=\"103.14,-359.75 92.78,-357.52 99.49,-365.72 103.14,-359.75\"/>\n",
       "</g>\n",
       "<!-- 10 -->\n",
       "<g id=\"node11\" class=\"node\">\n",
       "<title>10</title>\n",
       "<path fill=\"#d1e8f9\" stroke=\"black\" d=\"M312,-365C312,-365 132,-365 132,-365 126,-365 120,-359 120,-353 120,-353 120,-309 120,-309 120,-303 126,-297 132,-297 132,-297 312,-297 312,-297 318,-297 324,-303 324,-309 324,-309 324,-353 324,-353 324,-359 318,-365 312,-365\"/>\n",
       "<text text-anchor=\"middle\" x=\"222\" y=\"-349.8\" font-family=\"Helvetica,sans-Serif\" font-size=\"14.00\">Length_of_Conveyer &lt;= &#45;0.695</text>\n",
       "<text text-anchor=\"middle\" x=\"222\" y=\"-334.8\" font-family=\"Helvetica,sans-Serif\" font-size=\"14.00\">entropy = 0.988</text>\n",
       "<text text-anchor=\"middle\" x=\"222\" y=\"-319.8\" font-family=\"Helvetica,sans-Serif\" font-size=\"14.00\">samples = 23</text>\n",
       "<text text-anchor=\"middle\" x=\"222\" y=\"-304.8\" font-family=\"Helvetica,sans-Serif\" font-size=\"14.00\">value = [10, 13]</text>\n",
       "</g>\n",
       "<!-- 8&#45;&gt;10 -->\n",
       "<g id=\"edge10\" class=\"edge\">\n",
       "<title>8&#45;&gt;10</title>\n",
       "<path fill=\"none\" stroke=\"black\" d=\"M219.3,-400.88C219.62,-392.78 219.96,-383.98 220.3,-375.47\"/>\n",
       "<polygon fill=\"black\" stroke=\"black\" points=\"223.8,-375.43 220.69,-365.3 216.8,-375.15 223.8,-375.43\"/>\n",
       "</g>\n",
       "<!-- 11 -->\n",
       "<g id=\"node12\" class=\"node\">\n",
       "<title>11</title>\n",
       "<path fill=\"#399de5\" stroke=\"black\" d=\"M186,-253.5C186,-253.5 114,-253.5 114,-253.5 108,-253.5 102,-247.5 102,-241.5 102,-241.5 102,-212.5 102,-212.5 102,-206.5 108,-200.5 114,-200.5 114,-200.5 186,-200.5 186,-200.5 192,-200.5 198,-206.5 198,-212.5 198,-212.5 198,-241.5 198,-241.5 198,-247.5 192,-253.5 186,-253.5\"/>\n",
       "<text text-anchor=\"middle\" x=\"150\" y=\"-238.3\" font-family=\"Helvetica,sans-Serif\" font-size=\"14.00\">entropy = 0.0</text>\n",
       "<text text-anchor=\"middle\" x=\"150\" y=\"-223.3\" font-family=\"Helvetica,sans-Serif\" font-size=\"14.00\">samples = 7</text>\n",
       "<text text-anchor=\"middle\" x=\"150\" y=\"-208.3\" font-family=\"Helvetica,sans-Serif\" font-size=\"14.00\">value = [0, 7]</text>\n",
       "</g>\n",
       "<!-- 10&#45;&gt;11 -->\n",
       "<g id=\"edge11\" class=\"edge\">\n",
       "<title>10&#45;&gt;11</title>\n",
       "<path fill=\"none\" stroke=\"black\" d=\"M198.62,-296.88C190.71,-285.67 181.85,-273.13 173.9,-261.85\"/>\n",
       "<polygon fill=\"black\" stroke=\"black\" points=\"176.64,-259.67 168.01,-253.52 170.92,-263.71 176.64,-259.67\"/>\n",
       "</g>\n",
       "<!-- 12 -->\n",
       "<g id=\"node13\" class=\"node\">\n",
       "<title>12</title>\n",
       "<path fill=\"#f5cdb0\" stroke=\"black\" d=\"M362,-261C362,-261 228,-261 228,-261 222,-261 216,-255 216,-249 216,-249 216,-205 216,-205 216,-199 222,-193 228,-193 228,-193 362,-193 362,-193 368,-193 374,-199 374,-205 374,-205 374,-249 374,-249 374,-255 368,-261 362,-261\"/>\n",
       "<text text-anchor=\"middle\" x=\"295\" y=\"-245.8\" font-family=\"Helvetica,sans-Serif\" font-size=\"14.00\">Edges_Index &lt;= &#45;0.784</text>\n",
       "<text text-anchor=\"middle\" x=\"295\" y=\"-230.8\" font-family=\"Helvetica,sans-Serif\" font-size=\"14.00\">entropy = 0.954</text>\n",
       "<text text-anchor=\"middle\" x=\"295\" y=\"-215.8\" font-family=\"Helvetica,sans-Serif\" font-size=\"14.00\">samples = 16</text>\n",
       "<text text-anchor=\"middle\" x=\"295\" y=\"-200.8\" font-family=\"Helvetica,sans-Serif\" font-size=\"14.00\">value = [10, 6]</text>\n",
       "</g>\n",
       "<!-- 10&#45;&gt;12 -->\n",
       "<g id=\"edge12\" class=\"edge\">\n",
       "<title>10&#45;&gt;12</title>\n",
       "<path fill=\"none\" stroke=\"black\" d=\"M245.7,-296.88C251.95,-288.15 258.77,-278.62 265.29,-269.51\"/>\n",
       "<polygon fill=\"black\" stroke=\"black\" points=\"268.19,-271.47 271.17,-261.3 262.5,-267.39 268.19,-271.47\"/>\n",
       "</g>\n",
       "<!-- 13 -->\n",
       "<g id=\"node14\" class=\"node\">\n",
       "<title>13</title>\n",
       "<path fill=\"#399de5\" stroke=\"black\" d=\"M259,-149.5C259,-149.5 187,-149.5 187,-149.5 181,-149.5 175,-143.5 175,-137.5 175,-137.5 175,-108.5 175,-108.5 175,-102.5 181,-96.5 187,-96.5 187,-96.5 259,-96.5 259,-96.5 265,-96.5 271,-102.5 271,-108.5 271,-108.5 271,-137.5 271,-137.5 271,-143.5 265,-149.5 259,-149.5\"/>\n",
       "<text text-anchor=\"middle\" x=\"223\" y=\"-134.3\" font-family=\"Helvetica,sans-Serif\" font-size=\"14.00\">entropy = 0.0</text>\n",
       "<text text-anchor=\"middle\" x=\"223\" y=\"-119.3\" font-family=\"Helvetica,sans-Serif\" font-size=\"14.00\">samples = 5</text>\n",
       "<text text-anchor=\"middle\" x=\"223\" y=\"-104.3\" font-family=\"Helvetica,sans-Serif\" font-size=\"14.00\">value = [0, 5]</text>\n",
       "</g>\n",
       "<!-- 12&#45;&gt;13 -->\n",
       "<g id=\"edge13\" class=\"edge\">\n",
       "<title>12&#45;&gt;13</title>\n",
       "<path fill=\"none\" stroke=\"black\" d=\"M271.62,-192.88C263.71,-181.67 254.85,-169.13 246.9,-157.85\"/>\n",
       "<polygon fill=\"black\" stroke=\"black\" points=\"249.64,-155.67 241.01,-149.52 243.92,-159.71 249.64,-155.67\"/>\n",
       "</g>\n",
       "<!-- 14 -->\n",
       "<g id=\"node15\" class=\"node\">\n",
       "<title>14</title>\n",
       "<path fill=\"#e88e4d\" stroke=\"black\" d=\"M433,-157C433,-157 301,-157 301,-157 295,-157 289,-151 289,-145 289,-145 289,-101 289,-101 289,-95 295,-89 301,-89 301,-89 433,-89 433,-89 439,-89 445,-95 445,-101 445,-101 445,-145 445,-145 445,-151 439,-157 433,-157\"/>\n",
       "<text text-anchor=\"middle\" x=\"367\" y=\"-141.8\" font-family=\"Helvetica,sans-Serif\" font-size=\"14.00\">Y_Maximum &lt;= &#45;0.811</text>\n",
       "<text text-anchor=\"middle\" x=\"367\" y=\"-126.8\" font-family=\"Helvetica,sans-Serif\" font-size=\"14.00\">entropy = 0.439</text>\n",
       "<text text-anchor=\"middle\" x=\"367\" y=\"-111.8\" font-family=\"Helvetica,sans-Serif\" font-size=\"14.00\">samples = 11</text>\n",
       "<text text-anchor=\"middle\" x=\"367\" y=\"-96.8\" font-family=\"Helvetica,sans-Serif\" font-size=\"14.00\">value = [10, 1]</text>\n",
       "</g>\n",
       "<!-- 12&#45;&gt;14 -->\n",
       "<g id=\"edge14\" class=\"edge\">\n",
       "<title>12&#45;&gt;14</title>\n",
       "<path fill=\"none\" stroke=\"black\" d=\"M318.38,-192.88C324.54,-184.15 331.26,-174.62 337.7,-165.51\"/>\n",
       "<polygon fill=\"black\" stroke=\"black\" points=\"340.59,-167.49 343.49,-157.3 334.87,-163.45 340.59,-167.49\"/>\n",
       "</g>\n",
       "<!-- 15 -->\n",
       "<g id=\"node16\" class=\"node\">\n",
       "<title>15</title>\n",
       "<path fill=\"#399de5\" stroke=\"black\" d=\"M345,-53C345,-53 273,-53 273,-53 267,-53 261,-47 261,-41 261,-41 261,-12 261,-12 261,-6 267,0 273,0 273,0 345,0 345,0 351,0 357,-6 357,-12 357,-12 357,-41 357,-41 357,-47 351,-53 345,-53\"/>\n",
       "<text text-anchor=\"middle\" x=\"309\" y=\"-37.8\" font-family=\"Helvetica,sans-Serif\" font-size=\"14.00\">entropy = 0.0</text>\n",
       "<text text-anchor=\"middle\" x=\"309\" y=\"-22.8\" font-family=\"Helvetica,sans-Serif\" font-size=\"14.00\">samples = 1</text>\n",
       "<text text-anchor=\"middle\" x=\"309\" y=\"-7.8\" font-family=\"Helvetica,sans-Serif\" font-size=\"14.00\">value = [0, 1]</text>\n",
       "</g>\n",
       "<!-- 14&#45;&gt;15 -->\n",
       "<g id=\"edge15\" class=\"edge\">\n",
       "<title>14&#45;&gt;15</title>\n",
       "<path fill=\"none\" stroke=\"black\" d=\"M346.71,-88.95C341.32,-80.17 335.49,-70.66 330.06,-61.82\"/>\n",
       "<polygon fill=\"black\" stroke=\"black\" points=\"333.01,-59.93 324.8,-53.24 327.04,-63.59 333.01,-59.93\"/>\n",
       "</g>\n",
       "<!-- 16 -->\n",
       "<g id=\"node17\" class=\"node\">\n",
       "<title>16</title>\n",
       "<path fill=\"#e58139\" stroke=\"black\" d=\"M465,-53C465,-53 387,-53 387,-53 381,-53 375,-47 375,-41 375,-41 375,-12 375,-12 375,-6 381,0 387,0 387,0 465,0 465,0 471,0 477,-6 477,-12 477,-12 477,-41 477,-41 477,-47 471,-53 465,-53\"/>\n",
       "<text text-anchor=\"middle\" x=\"426\" y=\"-37.8\" font-family=\"Helvetica,sans-Serif\" font-size=\"14.00\">entropy = 0.0</text>\n",
       "<text text-anchor=\"middle\" x=\"426\" y=\"-22.8\" font-family=\"Helvetica,sans-Serif\" font-size=\"14.00\">samples = 10</text>\n",
       "<text text-anchor=\"middle\" x=\"426\" y=\"-7.8\" font-family=\"Helvetica,sans-Serif\" font-size=\"14.00\">value = [10, 0]</text>\n",
       "</g>\n",
       "<!-- 14&#45;&gt;16 -->\n",
       "<g id=\"edge16\" class=\"edge\">\n",
       "<title>14&#45;&gt;16</title>\n",
       "<path fill=\"none\" stroke=\"black\" d=\"M387.64,-88.95C393.12,-80.17 399.05,-70.66 404.58,-61.82\"/>\n",
       "<polygon fill=\"black\" stroke=\"black\" points=\"407.6,-63.57 409.93,-53.24 401.67,-59.87 407.6,-63.57\"/>\n",
       "</g>\n",
       "<!-- 18 -->\n",
       "<g id=\"node19\" class=\"node\">\n",
       "<title>18</title>\n",
       "<path fill=\"#e58139\" stroke=\"black\" d=\"M439,-357.5C439,-357.5 361,-357.5 361,-357.5 355,-357.5 349,-351.5 349,-345.5 349,-345.5 349,-316.5 349,-316.5 349,-310.5 355,-304.5 361,-304.5 361,-304.5 439,-304.5 439,-304.5 445,-304.5 451,-310.5 451,-316.5 451,-316.5 451,-345.5 451,-345.5 451,-351.5 445,-357.5 439,-357.5\"/>\n",
       "<text text-anchor=\"middle\" x=\"400\" y=\"-342.3\" font-family=\"Helvetica,sans-Serif\" font-size=\"14.00\">entropy = 0.0</text>\n",
       "<text text-anchor=\"middle\" x=\"400\" y=\"-327.3\" font-family=\"Helvetica,sans-Serif\" font-size=\"14.00\">samples = 30</text>\n",
       "<text text-anchor=\"middle\" x=\"400\" y=\"-312.3\" font-family=\"Helvetica,sans-Serif\" font-size=\"14.00\">value = [30, 0]</text>\n",
       "</g>\n",
       "<!-- 17&#45;&gt;18 -->\n",
       "<g id=\"edge18\" class=\"edge\">\n",
       "<title>17&#45;&gt;18</title>\n",
       "<path fill=\"none\" stroke=\"black\" d=\"M402.03,-400.88C401.71,-390.22 401.36,-378.35 401.04,-367.52\"/>\n",
       "<polygon fill=\"black\" stroke=\"black\" points=\"404.54,-367.41 400.75,-357.52 397.55,-367.62 404.54,-367.41\"/>\n",
       "</g>\n",
       "<!-- 19 -->\n",
       "<g id=\"node20\" class=\"node\">\n",
       "<title>19</title>\n",
       "<path fill=\"#f2c09c\" stroke=\"black\" d=\"M568.5,-357.5C568.5,-357.5 481.5,-357.5 481.5,-357.5 475.5,-357.5 469.5,-351.5 469.5,-345.5 469.5,-345.5 469.5,-316.5 469.5,-316.5 469.5,-310.5 475.5,-304.5 481.5,-304.5 481.5,-304.5 568.5,-304.5 568.5,-304.5 574.5,-304.5 580.5,-310.5 580.5,-316.5 580.5,-316.5 580.5,-345.5 580.5,-345.5 580.5,-351.5 574.5,-357.5 568.5,-357.5\"/>\n",
       "<text text-anchor=\"middle\" x=\"525\" y=\"-342.3\" font-family=\"Helvetica,sans-Serif\" font-size=\"14.00\">entropy = 0.918</text>\n",
       "<text text-anchor=\"middle\" x=\"525\" y=\"-327.3\" font-family=\"Helvetica,sans-Serif\" font-size=\"14.00\">samples = 3</text>\n",
       "<text text-anchor=\"middle\" x=\"525\" y=\"-312.3\" font-family=\"Helvetica,sans-Serif\" font-size=\"14.00\">value = [2, 1]</text>\n",
       "</g>\n",
       "<!-- 17&#45;&gt;19 -->\n",
       "<g id=\"edge19\" class=\"edge\">\n",
       "<title>17&#45;&gt;19</title>\n",
       "<path fill=\"none\" stroke=\"black\" d=\"M442.61,-400.88C456.69,-389.12 472.5,-375.89 486.48,-364.2\"/>\n",
       "<polygon fill=\"black\" stroke=\"black\" points=\"489.05,-366.62 494.48,-357.52 484.56,-361.25 489.05,-366.62\"/>\n",
       "</g>\n",
       "<!-- 22 -->\n",
       "<g id=\"node23\" class=\"node\">\n",
       "<title>22</title>\n",
       "<path fill=\"#ea9a61\" stroke=\"black\" d=\"M637,-677C637,-677 491,-677 491,-677 485,-677 479,-671 479,-665 479,-665 479,-621 479,-621 479,-615 485,-609 491,-609 491,-609 637,-609 637,-609 643,-609 649,-615 649,-621 649,-621 649,-665 649,-665 649,-671 643,-677 637,-677\"/>\n",
       "<text text-anchor=\"middle\" x=\"564\" y=\"-661.8\" font-family=\"Helvetica,sans-Serif\" font-size=\"14.00\">Edges_X_Index &lt;= 1.088</text>\n",
       "<text text-anchor=\"middle\" x=\"564\" y=\"-646.8\" font-family=\"Helvetica,sans-Serif\" font-size=\"14.00\">entropy = 0.65</text>\n",
       "<text text-anchor=\"middle\" x=\"564\" y=\"-631.8\" font-family=\"Helvetica,sans-Serif\" font-size=\"14.00\">samples = 12</text>\n",
       "<text text-anchor=\"middle\" x=\"564\" y=\"-616.8\" font-family=\"Helvetica,sans-Serif\" font-size=\"14.00\">value = [10, 2]</text>\n",
       "</g>\n",
       "<!-- 21&#45;&gt;22 -->\n",
       "<g id=\"edge22\" class=\"edge\">\n",
       "<title>21&#45;&gt;22</title>\n",
       "<path fill=\"none\" stroke=\"black\" d=\"M572.78,-712.88C571.75,-704.78 570.63,-695.98 569.54,-687.47\"/>\n",
       "<polygon fill=\"black\" stroke=\"black\" points=\"572.98,-686.78 568.24,-677.3 566.04,-687.66 572.98,-686.78\"/>\n",
       "</g>\n",
       "<!-- 27 -->\n",
       "<g id=\"node28\" class=\"node\">\n",
       "<title>27</title>\n",
       "<path fill=\"#e58139\" stroke=\"black\" d=\"M765,-669.5C765,-669.5 679,-669.5 679,-669.5 673,-669.5 667,-663.5 667,-657.5 667,-657.5 667,-628.5 667,-628.5 667,-622.5 673,-616.5 679,-616.5 679,-616.5 765,-616.5 765,-616.5 771,-616.5 777,-622.5 777,-628.5 777,-628.5 777,-657.5 777,-657.5 777,-663.5 771,-669.5 765,-669.5\"/>\n",
       "<text text-anchor=\"middle\" x=\"722\" y=\"-654.3\" font-family=\"Helvetica,sans-Serif\" font-size=\"14.00\">entropy = 0.0</text>\n",
       "<text text-anchor=\"middle\" x=\"722\" y=\"-639.3\" font-family=\"Helvetica,sans-Serif\" font-size=\"14.00\">samples = 131</text>\n",
       "<text text-anchor=\"middle\" x=\"722\" y=\"-624.3\" font-family=\"Helvetica,sans-Serif\" font-size=\"14.00\">value = [131, 0]</text>\n",
       "</g>\n",
       "<!-- 21&#45;&gt;27 -->\n",
       "<g id=\"edge27\" class=\"edge\">\n",
       "<title>21&#45;&gt;27</title>\n",
       "<path fill=\"none\" stroke=\"black\" d=\"M624.08,-712.88C641.12,-700.9 660.31,-687.4 677.15,-675.55\"/>\n",
       "<polygon fill=\"black\" stroke=\"black\" points=\"679.56,-678.14 685.72,-669.52 675.53,-672.41 679.56,-678.14\"/>\n",
       "</g>\n",
       "<!-- 23 -->\n",
       "<g id=\"node24\" class=\"node\">\n",
       "<title>23</title>\n",
       "<path fill=\"#e88e4d\" stroke=\"black\" d=\"M627.5,-573C627.5,-573 488.5,-573 488.5,-573 482.5,-573 476.5,-567 476.5,-561 476.5,-561 476.5,-517 476.5,-517 476.5,-511 482.5,-505 488.5,-505 488.5,-505 627.5,-505 627.5,-505 633.5,-505 639.5,-511 639.5,-517 639.5,-517 639.5,-561 639.5,-561 639.5,-567 633.5,-573 627.5,-573\"/>\n",
       "<text text-anchor=\"middle\" x=\"558\" y=\"-557.8\" font-family=\"Helvetica,sans-Serif\" font-size=\"14.00\">Square_Index &lt;= &#45;0.528</text>\n",
       "<text text-anchor=\"middle\" x=\"558\" y=\"-542.8\" font-family=\"Helvetica,sans-Serif\" font-size=\"14.00\">entropy = 0.439</text>\n",
       "<text text-anchor=\"middle\" x=\"558\" y=\"-527.8\" font-family=\"Helvetica,sans-Serif\" font-size=\"14.00\">samples = 11</text>\n",
       "<text text-anchor=\"middle\" x=\"558\" y=\"-512.8\" font-family=\"Helvetica,sans-Serif\" font-size=\"14.00\">value = [10, 1]</text>\n",
       "</g>\n",
       "<!-- 22&#45;&gt;23 -->\n",
       "<g id=\"edge23\" class=\"edge\">\n",
       "<title>22&#45;&gt;23</title>\n",
       "<path fill=\"none\" stroke=\"black\" d=\"M562.05,-608.88C561.58,-600.78 561.06,-591.98 560.56,-583.47\"/>\n",
       "<polygon fill=\"black\" stroke=\"black\" points=\"564.04,-583.08 559.96,-573.3 557.05,-583.49 564.04,-583.08\"/>\n",
       "</g>\n",
       "<!-- 26 -->\n",
       "<g id=\"node27\" class=\"node\">\n",
       "<title>26</title>\n",
       "<path fill=\"#399de5\" stroke=\"black\" d=\"M742,-565.5C742,-565.5 670,-565.5 670,-565.5 664,-565.5 658,-559.5 658,-553.5 658,-553.5 658,-524.5 658,-524.5 658,-518.5 664,-512.5 670,-512.5 670,-512.5 742,-512.5 742,-512.5 748,-512.5 754,-518.5 754,-524.5 754,-524.5 754,-553.5 754,-553.5 754,-559.5 748,-565.5 742,-565.5\"/>\n",
       "<text text-anchor=\"middle\" x=\"706\" y=\"-550.3\" font-family=\"Helvetica,sans-Serif\" font-size=\"14.00\">entropy = 0.0</text>\n",
       "<text text-anchor=\"middle\" x=\"706\" y=\"-535.3\" font-family=\"Helvetica,sans-Serif\" font-size=\"14.00\">samples = 1</text>\n",
       "<text text-anchor=\"middle\" x=\"706\" y=\"-520.3\" font-family=\"Helvetica,sans-Serif\" font-size=\"14.00\">value = [0, 1]</text>\n",
       "</g>\n",
       "<!-- 22&#45;&gt;26 -->\n",
       "<g id=\"edge26\" class=\"edge\">\n",
       "<title>22&#45;&gt;26</title>\n",
       "<path fill=\"none\" stroke=\"black\" d=\"M610.1,-608.88C626.79,-596.9 645.58,-583.4 662.08,-571.55\"/>\n",
       "<polygon fill=\"black\" stroke=\"black\" points=\"664.39,-574.2 670.47,-565.52 660.31,-568.51 664.39,-574.2\"/>\n",
       "</g>\n",
       "<!-- 24 -->\n",
       "<g id=\"node25\" class=\"node\">\n",
       "<title>24</title>\n",
       "<path fill=\"#ffffff\" stroke=\"black\" d=\"M591,-461.5C591,-461.5 519,-461.5 519,-461.5 513,-461.5 507,-455.5 507,-449.5 507,-449.5 507,-420.5 507,-420.5 507,-414.5 513,-408.5 519,-408.5 519,-408.5 591,-408.5 591,-408.5 597,-408.5 603,-414.5 603,-420.5 603,-420.5 603,-449.5 603,-449.5 603,-455.5 597,-461.5 591,-461.5\"/>\n",
       "<text text-anchor=\"middle\" x=\"555\" y=\"-446.3\" font-family=\"Helvetica,sans-Serif\" font-size=\"14.00\">entropy = 1.0</text>\n",
       "<text text-anchor=\"middle\" x=\"555\" y=\"-431.3\" font-family=\"Helvetica,sans-Serif\" font-size=\"14.00\">samples = 2</text>\n",
       "<text text-anchor=\"middle\" x=\"555\" y=\"-416.3\" font-family=\"Helvetica,sans-Serif\" font-size=\"14.00\">value = [1, 1]</text>\n",
       "</g>\n",
       "<!-- 23&#45;&gt;24 -->\n",
       "<g id=\"edge24\" class=\"edge\">\n",
       "<title>23&#45;&gt;24</title>\n",
       "<path fill=\"none\" stroke=\"black\" d=\"M557.03,-504.88C556.71,-494.22 556.36,-482.35 556.04,-471.52\"/>\n",
       "<polygon fill=\"black\" stroke=\"black\" points=\"559.54,-471.41 555.75,-461.52 552.55,-471.62 559.54,-471.41\"/>\n",
       "</g>\n",
       "<!-- 25 -->\n",
       "<g id=\"node26\" class=\"node\">\n",
       "<title>25</title>\n",
       "<path fill=\"#e58139\" stroke=\"black\" d=\"M705,-461.5C705,-461.5 633,-461.5 633,-461.5 627,-461.5 621,-455.5 621,-449.5 621,-449.5 621,-420.5 621,-420.5 621,-414.5 627,-408.5 633,-408.5 633,-408.5 705,-408.5 705,-408.5 711,-408.5 717,-414.5 717,-420.5 717,-420.5 717,-449.5 717,-449.5 717,-455.5 711,-461.5 705,-461.5\"/>\n",
       "<text text-anchor=\"middle\" x=\"669\" y=\"-446.3\" font-family=\"Helvetica,sans-Serif\" font-size=\"14.00\">entropy = 0.0</text>\n",
       "<text text-anchor=\"middle\" x=\"669\" y=\"-431.3\" font-family=\"Helvetica,sans-Serif\" font-size=\"14.00\">samples = 9</text>\n",
       "<text text-anchor=\"middle\" x=\"669\" y=\"-416.3\" font-family=\"Helvetica,sans-Serif\" font-size=\"14.00\">value = [9, 0]</text>\n",
       "</g>\n",
       "<!-- 23&#45;&gt;25 -->\n",
       "<g id=\"edge25\" class=\"edge\">\n",
       "<title>23&#45;&gt;25</title>\n",
       "<path fill=\"none\" stroke=\"black\" d=\"M594.04,-504.88C606.72,-493.23 620.96,-480.14 633.6,-468.53\"/>\n",
       "<polygon fill=\"black\" stroke=\"black\" points=\"636.23,-470.86 641.23,-461.52 631.5,-465.71 636.23,-470.86\"/>\n",
       "</g>\n",
       "<!-- 29 -->\n",
       "<g id=\"node30\" class=\"node\">\n",
       "<title>29</title>\n",
       "<path fill=\"#f6d5bd\" stroke=\"black\" d=\"M793.5,-773.5C793.5,-773.5 706.5,-773.5 706.5,-773.5 700.5,-773.5 694.5,-767.5 694.5,-761.5 694.5,-761.5 694.5,-732.5 694.5,-732.5 694.5,-726.5 700.5,-720.5 706.5,-720.5 706.5,-720.5 793.5,-720.5 793.5,-720.5 799.5,-720.5 805.5,-726.5 805.5,-732.5 805.5,-732.5 805.5,-761.5 805.5,-761.5 805.5,-767.5 799.5,-773.5 793.5,-773.5\"/>\n",
       "<text text-anchor=\"middle\" x=\"750\" y=\"-758.3\" font-family=\"Helvetica,sans-Serif\" font-size=\"14.00\">entropy = 0.971</text>\n",
       "<text text-anchor=\"middle\" x=\"750\" y=\"-743.3\" font-family=\"Helvetica,sans-Serif\" font-size=\"14.00\">samples = 5</text>\n",
       "<text text-anchor=\"middle\" x=\"750\" y=\"-728.3\" font-family=\"Helvetica,sans-Serif\" font-size=\"14.00\">value = [3, 2]</text>\n",
       "</g>\n",
       "<!-- 28&#45;&gt;29 -->\n",
       "<g id=\"edge29\" class=\"edge\">\n",
       "<title>28&#45;&gt;29</title>\n",
       "<path fill=\"none\" stroke=\"black\" d=\"M752.7,-816.88C752.28,-806.22 751.82,-794.35 751.39,-783.52\"/>\n",
       "<polygon fill=\"black\" stroke=\"black\" points=\"754.89,-783.38 751,-773.52 747.9,-783.65 754.89,-783.38\"/>\n",
       "</g>\n",
       "<!-- 30 -->\n",
       "<g id=\"node31\" class=\"node\">\n",
       "<title>30</title>\n",
       "<path fill=\"#399de5\" stroke=\"black\" d=\"M914,-773.5C914,-773.5 836,-773.5 836,-773.5 830,-773.5 824,-767.5 824,-761.5 824,-761.5 824,-732.5 824,-732.5 824,-726.5 830,-720.5 836,-720.5 836,-720.5 914,-720.5 914,-720.5 920,-720.5 926,-726.5 926,-732.5 926,-732.5 926,-761.5 926,-761.5 926,-767.5 920,-773.5 914,-773.5\"/>\n",
       "<text text-anchor=\"middle\" x=\"875\" y=\"-758.3\" font-family=\"Helvetica,sans-Serif\" font-size=\"14.00\">entropy = 0.0</text>\n",
       "<text text-anchor=\"middle\" x=\"875\" y=\"-743.3\" font-family=\"Helvetica,sans-Serif\" font-size=\"14.00\">samples = 26</text>\n",
       "<text text-anchor=\"middle\" x=\"875\" y=\"-728.3\" font-family=\"Helvetica,sans-Serif\" font-size=\"14.00\">value = [0, 26]</text>\n",
       "</g>\n",
       "<!-- 28&#45;&gt;30 -->\n",
       "<g id=\"edge30\" class=\"edge\">\n",
       "<title>28&#45;&gt;30</title>\n",
       "<path fill=\"none\" stroke=\"black\" d=\"M793.29,-816.88C807.24,-805.12 822.93,-791.89 836.8,-780.2\"/>\n",
       "<polygon fill=\"black\" stroke=\"black\" points=\"839.34,-782.64 844.73,-773.52 834.82,-777.29 839.34,-782.64\"/>\n",
       "</g>\n",
       "<!-- 33 -->\n",
       "<g id=\"node34\" class=\"node\">\n",
       "<title>33</title>\n",
       "<path fill=\"#41a1e6\" stroke=\"black\" d=\"M1197,-989C1197,-989 1005,-989 1005,-989 999,-989 993,-983 993,-977 993,-977 993,-933 993,-933 993,-927 999,-921 1005,-921 1005,-921 1197,-921 1197,-921 1203,-921 1209,-927 1209,-933 1209,-933 1209,-977 1209,-977 1209,-983 1203,-989 1197,-989\"/>\n",
       "<text text-anchor=\"middle\" x=\"1101\" y=\"-973.8\" font-family=\"Helvetica,sans-Serif\" font-size=\"14.00\">Steel_Plate_Thickness &lt;= &#45;0.327</text>\n",
       "<text text-anchor=\"middle\" x=\"1101\" y=\"-958.8\" font-family=\"Helvetica,sans-Serif\" font-size=\"14.00\">entropy = 0.228</text>\n",
       "<text text-anchor=\"middle\" x=\"1101\" y=\"-943.8\" font-family=\"Helvetica,sans-Serif\" font-size=\"14.00\">samples = 271</text>\n",
       "<text text-anchor=\"middle\" x=\"1101\" y=\"-928.8\" font-family=\"Helvetica,sans-Serif\" font-size=\"14.00\">value = [10, 261]</text>\n",
       "</g>\n",
       "<!-- 32&#45;&gt;33 -->\n",
       "<g id=\"edge33\" class=\"edge\">\n",
       "<title>32&#45;&gt;33</title>\n",
       "<path fill=\"none\" stroke=\"black\" d=\"M1104.38,-1024.88C1103.98,-1016.78 1103.55,-1007.98 1103.13,-999.47\"/>\n",
       "<polygon fill=\"black\" stroke=\"black\" points=\"1106.62,-999.12 1102.63,-989.3 1099.63,-999.46 1106.62,-999.12\"/>\n",
       "</g>\n",
       "<!-- 42 -->\n",
       "<g id=\"node43\" class=\"node\">\n",
       "<title>42</title>\n",
       "<path fill=\"#e78a48\" stroke=\"black\" d=\"M1442.5,-989C1442.5,-989 1239.5,-989 1239.5,-989 1233.5,-989 1227.5,-983 1227.5,-977 1227.5,-977 1227.5,-933 1227.5,-933 1227.5,-927 1233.5,-921 1239.5,-921 1239.5,-921 1442.5,-921 1442.5,-921 1448.5,-921 1454.5,-927 1454.5,-933 1454.5,-933 1454.5,-977 1454.5,-977 1454.5,-983 1448.5,-989 1442.5,-989\"/>\n",
       "<text text-anchor=\"middle\" x=\"1341\" y=\"-973.8\" font-family=\"Helvetica,sans-Serif\" font-size=\"14.00\">Minimum_of_Luminosity &lt;= &#45;0.888</text>\n",
       "<text text-anchor=\"middle\" x=\"1341\" y=\"-958.8\" font-family=\"Helvetica,sans-Serif\" font-size=\"14.00\">entropy = 0.362</text>\n",
       "<text text-anchor=\"middle\" x=\"1341\" y=\"-943.8\" font-family=\"Helvetica,sans-Serif\" font-size=\"14.00\">samples = 29</text>\n",
       "<text text-anchor=\"middle\" x=\"1341\" y=\"-928.8\" font-family=\"Helvetica,sans-Serif\" font-size=\"14.00\">value = [27, 2]</text>\n",
       "</g>\n",
       "<!-- 32&#45;&gt;42 -->\n",
       "<g id=\"edge42\" class=\"edge\">\n",
       "<title>32&#45;&gt;42</title>\n",
       "<path fill=\"none\" stroke=\"black\" d=\"M1182.3,-1024.88C1205.61,-1014.77 1231.39,-1003.58 1255.28,-993.21\"/>\n",
       "<polygon fill=\"black\" stroke=\"black\" points=\"1256.9,-996.32 1264.68,-989.12 1254.12,-989.9 1256.9,-996.32\"/>\n",
       "</g>\n",
       "<!-- 34 -->\n",
       "<g id=\"node35\" class=\"node\">\n",
       "<title>34</title>\n",
       "<path fill=\"#3c9fe5\" stroke=\"black\" d=\"M1098.5,-885C1098.5,-885 971.5,-885 971.5,-885 965.5,-885 959.5,-879 959.5,-873 959.5,-873 959.5,-829 959.5,-829 959.5,-823 965.5,-817 971.5,-817 971.5,-817 1098.5,-817 1098.5,-817 1104.5,-817 1110.5,-823 1110.5,-829 1110.5,-829 1110.5,-873 1110.5,-873 1110.5,-879 1104.5,-885 1098.5,-885\"/>\n",
       "<text text-anchor=\"middle\" x=\"1035\" y=\"-869.8\" font-family=\"Helvetica,sans-Serif\" font-size=\"14.00\">Empty_Index &lt;= &#45;0.59</text>\n",
       "<text text-anchor=\"middle\" x=\"1035\" y=\"-854.8\" font-family=\"Helvetica,sans-Serif\" font-size=\"14.00\">entropy = 0.113</text>\n",
       "<text text-anchor=\"middle\" x=\"1035\" y=\"-839.8\" font-family=\"Helvetica,sans-Serif\" font-size=\"14.00\">samples = 265</text>\n",
       "<text text-anchor=\"middle\" x=\"1035\" y=\"-824.8\" font-family=\"Helvetica,sans-Serif\" font-size=\"14.00\">value = [4, 261]</text>\n",
       "</g>\n",
       "<!-- 33&#45;&gt;34 -->\n",
       "<g id=\"edge34\" class=\"edge\">\n",
       "<title>33&#45;&gt;34</title>\n",
       "<path fill=\"none\" stroke=\"black\" d=\"M1079.57,-920.88C1073.98,-912.24 1067.88,-902.82 1062.04,-893.79\"/>\n",
       "<polygon fill=\"black\" stroke=\"black\" points=\"1064.92,-891.79 1056.55,-885.3 1059.04,-895.6 1064.92,-891.79\"/>\n",
       "</g>\n",
       "<!-- 41 -->\n",
       "<g id=\"node42\" class=\"node\">\n",
       "<title>41</title>\n",
       "<path fill=\"#e58139\" stroke=\"black\" d=\"M1213,-877.5C1213,-877.5 1141,-877.5 1141,-877.5 1135,-877.5 1129,-871.5 1129,-865.5 1129,-865.5 1129,-836.5 1129,-836.5 1129,-830.5 1135,-824.5 1141,-824.5 1141,-824.5 1213,-824.5 1213,-824.5 1219,-824.5 1225,-830.5 1225,-836.5 1225,-836.5 1225,-865.5 1225,-865.5 1225,-871.5 1219,-877.5 1213,-877.5\"/>\n",
       "<text text-anchor=\"middle\" x=\"1177\" y=\"-862.3\" font-family=\"Helvetica,sans-Serif\" font-size=\"14.00\">entropy = 0.0</text>\n",
       "<text text-anchor=\"middle\" x=\"1177\" y=\"-847.3\" font-family=\"Helvetica,sans-Serif\" font-size=\"14.00\">samples = 6</text>\n",
       "<text text-anchor=\"middle\" x=\"1177\" y=\"-832.3\" font-family=\"Helvetica,sans-Serif\" font-size=\"14.00\">value = [6, 0]</text>\n",
       "</g>\n",
       "<!-- 33&#45;&gt;41 -->\n",
       "<g id=\"edge41\" class=\"edge\">\n",
       "<title>33&#45;&gt;41</title>\n",
       "<path fill=\"none\" stroke=\"black\" d=\"M1125.68,-920.88C1134.03,-909.67 1143.38,-897.13 1151.78,-885.85\"/>\n",
       "<polygon fill=\"black\" stroke=\"black\" points=\"1154.82,-887.63 1157.99,-877.52 1149.2,-883.45 1154.82,-887.63\"/>\n",
       "</g>\n",
       "<!-- 35 -->\n",
       "<g id=\"node36\" class=\"node\">\n",
       "<title>35</title>\n",
       "<path fill=\"#f2c09c\" stroke=\"black\" d=\"M1065.5,-773.5C1065.5,-773.5 978.5,-773.5 978.5,-773.5 972.5,-773.5 966.5,-767.5 966.5,-761.5 966.5,-761.5 966.5,-732.5 966.5,-732.5 966.5,-726.5 972.5,-720.5 978.5,-720.5 978.5,-720.5 1065.5,-720.5 1065.5,-720.5 1071.5,-720.5 1077.5,-726.5 1077.5,-732.5 1077.5,-732.5 1077.5,-761.5 1077.5,-761.5 1077.5,-767.5 1071.5,-773.5 1065.5,-773.5\"/>\n",
       "<text text-anchor=\"middle\" x=\"1022\" y=\"-758.3\" font-family=\"Helvetica,sans-Serif\" font-size=\"14.00\">entropy = 0.918</text>\n",
       "<text text-anchor=\"middle\" x=\"1022\" y=\"-743.3\" font-family=\"Helvetica,sans-Serif\" font-size=\"14.00\">samples = 3</text>\n",
       "<text text-anchor=\"middle\" x=\"1022\" y=\"-728.3\" font-family=\"Helvetica,sans-Serif\" font-size=\"14.00\">value = [2, 1]</text>\n",
       "</g>\n",
       "<!-- 34&#45;&gt;35 -->\n",
       "<g id=\"edge35\" class=\"edge\">\n",
       "<title>34&#45;&gt;35</title>\n",
       "<path fill=\"none\" stroke=\"black\" d=\"M1030.78,-816.88C1029.42,-806.22 1027.91,-794.35 1026.53,-783.52\"/>\n",
       "<polygon fill=\"black\" stroke=\"black\" points=\"1029.99,-783 1025.25,-773.52 1023.04,-783.88 1029.99,-783\"/>\n",
       "</g>\n",
       "<!-- 36 -->\n",
       "<g id=\"node37\" class=\"node\">\n",
       "<title>36</title>\n",
       "<path fill=\"#3b9ee5\" stroke=\"black\" d=\"M1288,-781C1288,-781 1108,-781 1108,-781 1102,-781 1096,-775 1096,-769 1096,-769 1096,-725 1096,-725 1096,-719 1102,-713 1108,-713 1108,-713 1288,-713 1288,-713 1294,-713 1300,-719 1300,-725 1300,-725 1300,-769 1300,-769 1300,-775 1294,-781 1288,-781\"/>\n",
       "<text text-anchor=\"middle\" x=\"1198\" y=\"-765.8\" font-family=\"Helvetica,sans-Serif\" font-size=\"14.00\">Length_of_Conveyer &lt;= &#45;0.709</text>\n",
       "<text text-anchor=\"middle\" x=\"1198\" y=\"-750.8\" font-family=\"Helvetica,sans-Serif\" font-size=\"14.00\">entropy = 0.065</text>\n",
       "<text text-anchor=\"middle\" x=\"1198\" y=\"-735.8\" font-family=\"Helvetica,sans-Serif\" font-size=\"14.00\">samples = 262</text>\n",
       "<text text-anchor=\"middle\" x=\"1198\" y=\"-720.8\" font-family=\"Helvetica,sans-Serif\" font-size=\"14.00\">value = [2, 260]</text>\n",
       "</g>\n",
       "<!-- 34&#45;&gt;36 -->\n",
       "<g id=\"edge36\" class=\"edge\">\n",
       "<title>34&#45;&gt;36</title>\n",
       "<path fill=\"none\" stroke=\"black\" d=\"M1087.92,-816.88C1103.37,-807.21 1120.39,-796.56 1136.34,-786.59\"/>\n",
       "<polygon fill=\"black\" stroke=\"black\" points=\"1138.44,-789.4 1145.07,-781.12 1134.73,-783.46 1138.44,-789.4\"/>\n",
       "</g>\n",
       "<!-- 37 -->\n",
       "<g id=\"node38\" class=\"node\">\n",
       "<title>37</title>\n",
       "<path fill=\"#44a2e6\" stroke=\"black\" d=\"M1198,-677C1198,-677 1028,-677 1028,-677 1022,-677 1016,-671 1016,-665 1016,-665 1016,-621 1016,-621 1016,-615 1022,-609 1028,-609 1028,-609 1198,-609 1198,-609 1204,-609 1210,-615 1210,-621 1210,-621 1210,-665 1210,-665 1210,-671 1204,-677 1198,-677\"/>\n",
       "<text text-anchor=\"middle\" x=\"1113\" y=\"-661.8\" font-family=\"Helvetica,sans-Serif\" font-size=\"14.00\">Sum_of_Luminosity &lt;= 0.772</text>\n",
       "<text text-anchor=\"middle\" x=\"1113\" y=\"-646.8\" font-family=\"Helvetica,sans-Serif\" font-size=\"14.00\">entropy = 0.297</text>\n",
       "<text text-anchor=\"middle\" x=\"1113\" y=\"-631.8\" font-family=\"Helvetica,sans-Serif\" font-size=\"14.00\">samples = 38</text>\n",
       "<text text-anchor=\"middle\" x=\"1113\" y=\"-616.8\" font-family=\"Helvetica,sans-Serif\" font-size=\"14.00\">value = [2, 36]</text>\n",
       "</g>\n",
       "<!-- 36&#45;&gt;37 -->\n",
       "<g id=\"edge37\" class=\"edge\">\n",
       "<title>36&#45;&gt;37</title>\n",
       "<path fill=\"none\" stroke=\"black\" d=\"M1170.4,-712.88C1163.05,-704.07 1155.03,-694.43 1147.36,-685.24\"/>\n",
       "<polygon fill=\"black\" stroke=\"black\" points=\"1149.84,-682.74 1140.75,-677.3 1144.46,-687.22 1149.84,-682.74\"/>\n",
       "</g>\n",
       "<!-- 40 -->\n",
       "<g id=\"node41\" class=\"node\">\n",
       "<title>40</title>\n",
       "<path fill=\"#399de5\" stroke=\"black\" d=\"M1326,-669.5C1326,-669.5 1240,-669.5 1240,-669.5 1234,-669.5 1228,-663.5 1228,-657.5 1228,-657.5 1228,-628.5 1228,-628.5 1228,-622.5 1234,-616.5 1240,-616.5 1240,-616.5 1326,-616.5 1326,-616.5 1332,-616.5 1338,-622.5 1338,-628.5 1338,-628.5 1338,-657.5 1338,-657.5 1338,-663.5 1332,-669.5 1326,-669.5\"/>\n",
       "<text text-anchor=\"middle\" x=\"1283\" y=\"-654.3\" font-family=\"Helvetica,sans-Serif\" font-size=\"14.00\">entropy = 0.0</text>\n",
       "<text text-anchor=\"middle\" x=\"1283\" y=\"-639.3\" font-family=\"Helvetica,sans-Serif\" font-size=\"14.00\">samples = 224</text>\n",
       "<text text-anchor=\"middle\" x=\"1283\" y=\"-624.3\" font-family=\"Helvetica,sans-Serif\" font-size=\"14.00\">value = [0, 224]</text>\n",
       "</g>\n",
       "<!-- 36&#45;&gt;40 -->\n",
       "<g id=\"edge40\" class=\"edge\">\n",
       "<title>36&#45;&gt;40</title>\n",
       "<path fill=\"none\" stroke=\"black\" d=\"M1225.6,-712.88C1235.04,-701.56 1245.6,-688.88 1255.07,-677.52\"/>\n",
       "<polygon fill=\"black\" stroke=\"black\" points=\"1258.02,-679.44 1261.73,-669.52 1252.64,-674.96 1258.02,-679.44\"/>\n",
       "</g>\n",
       "<!-- 38 -->\n",
       "<g id=\"node39\" class=\"node\">\n",
       "<title>38</title>\n",
       "<path fill=\"#7bbeee\" stroke=\"black\" d=\"M1093.5,-565.5C1093.5,-565.5 1006.5,-565.5 1006.5,-565.5 1000.5,-565.5 994.5,-559.5 994.5,-553.5 994.5,-553.5 994.5,-524.5 994.5,-524.5 994.5,-518.5 1000.5,-512.5 1006.5,-512.5 1006.5,-512.5 1093.5,-512.5 1093.5,-512.5 1099.5,-512.5 1105.5,-518.5 1105.5,-524.5 1105.5,-524.5 1105.5,-553.5 1105.5,-553.5 1105.5,-559.5 1099.5,-565.5 1093.5,-565.5\"/>\n",
       "<text text-anchor=\"middle\" x=\"1050\" y=\"-550.3\" font-family=\"Helvetica,sans-Serif\" font-size=\"14.00\">entropy = 0.811</text>\n",
       "<text text-anchor=\"middle\" x=\"1050\" y=\"-535.3\" font-family=\"Helvetica,sans-Serif\" font-size=\"14.00\">samples = 8</text>\n",
       "<text text-anchor=\"middle\" x=\"1050\" y=\"-520.3\" font-family=\"Helvetica,sans-Serif\" font-size=\"14.00\">value = [2, 6]</text>\n",
       "</g>\n",
       "<!-- 37&#45;&gt;38 -->\n",
       "<g id=\"edge38\" class=\"edge\">\n",
       "<title>37&#45;&gt;38</title>\n",
       "<path fill=\"none\" stroke=\"black\" d=\"M1092.55,-608.88C1085.68,-597.78 1078.02,-585.37 1071.11,-574.18\"/>\n",
       "<polygon fill=\"black\" stroke=\"black\" points=\"1074,-572.19 1065.76,-565.52 1068.04,-575.87 1074,-572.19\"/>\n",
       "</g>\n",
       "<!-- 39 -->\n",
       "<g id=\"node40\" class=\"node\">\n",
       "<title>39</title>\n",
       "<path fill=\"#399de5\" stroke=\"black\" d=\"M1214,-565.5C1214,-565.5 1136,-565.5 1136,-565.5 1130,-565.5 1124,-559.5 1124,-553.5 1124,-553.5 1124,-524.5 1124,-524.5 1124,-518.5 1130,-512.5 1136,-512.5 1136,-512.5 1214,-512.5 1214,-512.5 1220,-512.5 1226,-518.5 1226,-524.5 1226,-524.5 1226,-553.5 1226,-553.5 1226,-559.5 1220,-565.5 1214,-565.5\"/>\n",
       "<text text-anchor=\"middle\" x=\"1175\" y=\"-550.3\" font-family=\"Helvetica,sans-Serif\" font-size=\"14.00\">entropy = 0.0</text>\n",
       "<text text-anchor=\"middle\" x=\"1175\" y=\"-535.3\" font-family=\"Helvetica,sans-Serif\" font-size=\"14.00\">samples = 30</text>\n",
       "<text text-anchor=\"middle\" x=\"1175\" y=\"-520.3\" font-family=\"Helvetica,sans-Serif\" font-size=\"14.00\">value = [0, 30]</text>\n",
       "</g>\n",
       "<!-- 37&#45;&gt;39 -->\n",
       "<g id=\"edge39\" class=\"edge\">\n",
       "<title>37&#45;&gt;39</title>\n",
       "<path fill=\"none\" stroke=\"black\" d=\"M1133.13,-608.88C1139.88,-597.78 1147.42,-585.37 1154.22,-574.18\"/>\n",
       "<polygon fill=\"black\" stroke=\"black\" points=\"1157.28,-575.88 1159.49,-565.52 1151.3,-572.25 1157.28,-575.88\"/>\n",
       "</g>\n",
       "<!-- 43 -->\n",
       "<g id=\"node44\" class=\"node\">\n",
       "<title>43</title>\n",
       "<path fill=\"#ffffff\" stroke=\"black\" d=\"M1371,-877.5C1371,-877.5 1299,-877.5 1299,-877.5 1293,-877.5 1287,-871.5 1287,-865.5 1287,-865.5 1287,-836.5 1287,-836.5 1287,-830.5 1293,-824.5 1299,-824.5 1299,-824.5 1371,-824.5 1371,-824.5 1377,-824.5 1383,-830.5 1383,-836.5 1383,-836.5 1383,-865.5 1383,-865.5 1383,-871.5 1377,-877.5 1371,-877.5\"/>\n",
       "<text text-anchor=\"middle\" x=\"1335\" y=\"-862.3\" font-family=\"Helvetica,sans-Serif\" font-size=\"14.00\">entropy = 1.0</text>\n",
       "<text text-anchor=\"middle\" x=\"1335\" y=\"-847.3\" font-family=\"Helvetica,sans-Serif\" font-size=\"14.00\">samples = 4</text>\n",
       "<text text-anchor=\"middle\" x=\"1335\" y=\"-832.3\" font-family=\"Helvetica,sans-Serif\" font-size=\"14.00\">value = [2, 2]</text>\n",
       "</g>\n",
       "<!-- 42&#45;&gt;43 -->\n",
       "<g id=\"edge43\" class=\"edge\">\n",
       "<title>42&#45;&gt;43</title>\n",
       "<path fill=\"none\" stroke=\"black\" d=\"M1339.05,-920.88C1338.42,-910.22 1337.73,-898.35 1337.09,-887.52\"/>\n",
       "<polygon fill=\"black\" stroke=\"black\" points=\"1340.58,-887.3 1336.5,-877.52 1333.59,-887.71 1340.58,-887.3\"/>\n",
       "</g>\n",
       "<!-- 44 -->\n",
       "<g id=\"node45\" class=\"node\">\n",
       "<title>44</title>\n",
       "<path fill=\"#e58139\" stroke=\"black\" d=\"M1491,-877.5C1491,-877.5 1413,-877.5 1413,-877.5 1407,-877.5 1401,-871.5 1401,-865.5 1401,-865.5 1401,-836.5 1401,-836.5 1401,-830.5 1407,-824.5 1413,-824.5 1413,-824.5 1491,-824.5 1491,-824.5 1497,-824.5 1503,-830.5 1503,-836.5 1503,-836.5 1503,-865.5 1503,-865.5 1503,-871.5 1497,-877.5 1491,-877.5\"/>\n",
       "<text text-anchor=\"middle\" x=\"1452\" y=\"-862.3\" font-family=\"Helvetica,sans-Serif\" font-size=\"14.00\">entropy = 0.0</text>\n",
       "<text text-anchor=\"middle\" x=\"1452\" y=\"-847.3\" font-family=\"Helvetica,sans-Serif\" font-size=\"14.00\">samples = 25</text>\n",
       "<text text-anchor=\"middle\" x=\"1452\" y=\"-832.3\" font-family=\"Helvetica,sans-Serif\" font-size=\"14.00\">value = [25, 0]</text>\n",
       "</g>\n",
       "<!-- 42&#45;&gt;44 -->\n",
       "<g id=\"edge44\" class=\"edge\">\n",
       "<title>42&#45;&gt;44</title>\n",
       "<path fill=\"none\" stroke=\"black\" d=\"M1377.04,-920.88C1389.72,-909.23 1403.96,-896.14 1416.6,-884.53\"/>\n",
       "<polygon fill=\"black\" stroke=\"black\" points=\"1419.23,-886.86 1424.23,-877.52 1414.5,-881.71 1419.23,-886.86\"/>\n",
       "</g>\n",
       "</g>\n",
       "</svg>\n"
      ],
      "text/plain": [
       "<graphviz.sources.Source at 0x13bc1c880>"
      ]
     },
     "execution_count": 28,
     "metadata": {},
     "output_type": "execute_result"
    }
   ],
   "source": [
    "import graphviz\n",
    "import sklearn.tree as tree\n",
    "dt2 = DecisionTreeClassifier(criterion = 'entropy',\n",
    "                           max_depth = None, # 몇 번의 Edge를 거치는가\n",
    "                           max_features = None, # 사용하는 변수의 개수\n",
    "                           min_samples_leaf = 1, # Leaf가 가질 수 있는 최소 샘플 수\n",
    "                           min_samples_split = 10 # 다음 가지치기를 하기 위해 갖고있어야하는 최소 샘플 수\n",
    "                          )\n",
    "dt2.fit(x_train, y_train)\n",
    "dot_data = tree.export_graphviz(dt2, feature_names=x_train.columns, filled=True, rounded=True)\n",
    "graph = graphviz.Source(dot_data)\n",
    "graph"
   ]
  },
  {
   "cell_type": "markdown",
   "id": "88f13a92",
   "metadata": {},
   "source": [
    "## Random Forest\n",
    "- Random Forest는 Bagging과 Drop-out을 활용하여 의사결정나무의 변동성을 완화시키고 예측력을 높인 모델\n",
    "    - **Bagging**\n",
    "        - Bootstrapping: 복원추출을 통하여 샘플 구성이 조금씩 다른 여러 데이터넷을 생성\n",
    "        - Aggregating: 여러 모형의 결과를 통합하여 모형의 변동성(Variance)을 낮춤\n",
    "    - **Drop-out: Tree를 구성할 때 변수를 일부 탈락. Tree간의 Correlation을 감소시켜 모형의 변동성을 낮춤**\n",
    "    \n",
    "**Parameters**\n",
    "- n_estimators: Bootstrapping을 몇 회 반복할지\n",
    "- max_depth\n",
    "- min_sample_split\n",
    "- min_sample_leaf"
   ]
  },
  {
   "cell_type": "code",
   "execution_count": 29,
   "id": "61917144",
   "metadata": {},
   "outputs": [
    {
     "name": "stdout",
     "output_type": "stream",
     "text": [
      "              precision    recall  f1-score   support\n",
      "\n",
      "           0       0.99      1.00      0.99       311\n",
      "           1       1.00      0.95      0.97        78\n",
      "\n",
      "    accuracy                           0.99       389\n",
      "   macro avg       0.99      0.97      0.98       389\n",
      "weighted avg       0.99      0.99      0.99       389\n",
      "\n",
      "\u001b[32mAccuracy of Random Forest: 98.97%\n"
     ]
    }
   ],
   "source": [
    "from sklearn.ensemble import RandomForestClassifier\n",
    "\n",
    "rf_clf = RandomForestClassifier()\n",
    "rf_clf.fit(x_train, y_train)\n",
    "rf_clf_pred = rf_clf.predict(x_test)\n",
    "rf_clf_acc = accuracy_score(y_test, rf_clf_pred)\n",
    "print(classification_report(y_test, rf_clf_pred))\n",
    "print(Fore.GREEN + f\"Accuracy of Random Forest: {100*rf_clf_acc:2.2f}%\")"
   ]
  },
  {
   "cell_type": "code",
   "execution_count": 30,
   "id": "6baef404",
   "metadata": {},
   "outputs": [
    {
     "data": {
      "text/html": [
       "<style>#sk-container-id-3 {color: black;background-color: white;}#sk-container-id-3 pre{padding: 0;}#sk-container-id-3 div.sk-toggleable {background-color: white;}#sk-container-id-3 label.sk-toggleable__label {cursor: pointer;display: block;width: 100%;margin-bottom: 0;padding: 0.3em;box-sizing: border-box;text-align: center;}#sk-container-id-3 label.sk-toggleable__label-arrow:before {content: \"▸\";float: left;margin-right: 0.25em;color: #696969;}#sk-container-id-3 label.sk-toggleable__label-arrow:hover:before {color: black;}#sk-container-id-3 div.sk-estimator:hover label.sk-toggleable__label-arrow:before {color: black;}#sk-container-id-3 div.sk-toggleable__content {max-height: 0;max-width: 0;overflow: hidden;text-align: left;background-color: #f0f8ff;}#sk-container-id-3 div.sk-toggleable__content pre {margin: 0.2em;color: black;border-radius: 0.25em;background-color: #f0f8ff;}#sk-container-id-3 input.sk-toggleable__control:checked~div.sk-toggleable__content {max-height: 200px;max-width: 100%;overflow: auto;}#sk-container-id-3 input.sk-toggleable__control:checked~label.sk-toggleable__label-arrow:before {content: \"▾\";}#sk-container-id-3 div.sk-estimator input.sk-toggleable__control:checked~label.sk-toggleable__label {background-color: #d4ebff;}#sk-container-id-3 div.sk-label input.sk-toggleable__control:checked~label.sk-toggleable__label {background-color: #d4ebff;}#sk-container-id-3 input.sk-hidden--visually {border: 0;clip: rect(1px 1px 1px 1px);clip: rect(1px, 1px, 1px, 1px);height: 1px;margin: -1px;overflow: hidden;padding: 0;position: absolute;width: 1px;}#sk-container-id-3 div.sk-estimator {font-family: monospace;background-color: #f0f8ff;border: 1px dotted black;border-radius: 0.25em;box-sizing: border-box;margin-bottom: 0.5em;}#sk-container-id-3 div.sk-estimator:hover {background-color: #d4ebff;}#sk-container-id-3 div.sk-parallel-item::after {content: \"\";width: 100%;border-bottom: 1px solid gray;flex-grow: 1;}#sk-container-id-3 div.sk-label:hover label.sk-toggleable__label {background-color: #d4ebff;}#sk-container-id-3 div.sk-serial::before {content: \"\";position: absolute;border-left: 1px solid gray;box-sizing: border-box;top: 0;bottom: 0;left: 50%;z-index: 0;}#sk-container-id-3 div.sk-serial {display: flex;flex-direction: column;align-items: center;background-color: white;padding-right: 0.2em;padding-left: 0.2em;position: relative;}#sk-container-id-3 div.sk-item {position: relative;z-index: 1;}#sk-container-id-3 div.sk-parallel {display: flex;align-items: stretch;justify-content: center;background-color: white;position: relative;}#sk-container-id-3 div.sk-item::before, #sk-container-id-3 div.sk-parallel-item::before {content: \"\";position: absolute;border-left: 1px solid gray;box-sizing: border-box;top: 0;bottom: 0;left: 50%;z-index: -1;}#sk-container-id-3 div.sk-parallel-item {display: flex;flex-direction: column;z-index: 1;position: relative;background-color: white;}#sk-container-id-3 div.sk-parallel-item:first-child::after {align-self: flex-end;width: 50%;}#sk-container-id-3 div.sk-parallel-item:last-child::after {align-self: flex-start;width: 50%;}#sk-container-id-3 div.sk-parallel-item:only-child::after {width: 0;}#sk-container-id-3 div.sk-dashed-wrapped {border: 1px dashed gray;margin: 0 0.4em 0.5em 0.4em;box-sizing: border-box;padding-bottom: 0.4em;background-color: white;}#sk-container-id-3 div.sk-label label {font-family: monospace;font-weight: bold;display: inline-block;line-height: 1.2em;}#sk-container-id-3 div.sk-label-container {text-align: center;}#sk-container-id-3 div.sk-container {/* jupyter's `normalize.less` sets `[hidden] { display: none; }` but bootstrap.min.css set `[hidden] { display: none !important; }` so we also need the `!important` here to be able to override the default hidden behavior on the sphinx rendered scikit-learn.org. See: https://github.com/scikit-learn/scikit-learn/issues/21755 */display: inline-block !important;position: relative;}#sk-container-id-3 div.sk-text-repr-fallback {display: none;}</style><div id=\"sk-container-id-3\" class=\"sk-top-container\"><div class=\"sk-text-repr-fallback\"><pre>GridSearchCV(cv=10, estimator=RandomForestClassifier(), n_jobs=8,\n",
       "             param_grid={&#x27;criterion&#x27;: [&#x27;entropy&#x27;], &#x27;max_depth&#x27;: [None, 2],\n",
       "                         &#x27;max_features&#x27;: [&#x27;sqrt&#x27;],\n",
       "                         &#x27;min_samples_leaf&#x27;: [1, 3, 10],\n",
       "                         &#x27;min_samples_split&#x27;: [2, 5],\n",
       "                         &#x27;n_estimators&#x27;: [50, 100]},\n",
       "             scoring=&#x27;accuracy&#x27;)</pre><b>In a Jupyter environment, please rerun this cell to show the HTML representation or trust the notebook. <br />On GitHub, the HTML representation is unable to render, please try loading this page with nbviewer.org.</b></div><div class=\"sk-container\" hidden><div class=\"sk-item sk-dashed-wrapped\"><div class=\"sk-label-container\"><div class=\"sk-label sk-toggleable\"><input class=\"sk-toggleable__control sk-hidden--visually\" id=\"sk-estimator-id-7\" type=\"checkbox\" ><label for=\"sk-estimator-id-7\" class=\"sk-toggleable__label sk-toggleable__label-arrow\">GridSearchCV</label><div class=\"sk-toggleable__content\"><pre>GridSearchCV(cv=10, estimator=RandomForestClassifier(), n_jobs=8,\n",
       "             param_grid={&#x27;criterion&#x27;: [&#x27;entropy&#x27;], &#x27;max_depth&#x27;: [None, 2],\n",
       "                         &#x27;max_features&#x27;: [&#x27;sqrt&#x27;],\n",
       "                         &#x27;min_samples_leaf&#x27;: [1, 3, 10],\n",
       "                         &#x27;min_samples_split&#x27;: [2, 5],\n",
       "                         &#x27;n_estimators&#x27;: [50, 100]},\n",
       "             scoring=&#x27;accuracy&#x27;)</pre></div></div></div><div class=\"sk-parallel\"><div class=\"sk-parallel-item\"><div class=\"sk-item\"><div class=\"sk-label-container\"><div class=\"sk-label sk-toggleable\"><input class=\"sk-toggleable__control sk-hidden--visually\" id=\"sk-estimator-id-8\" type=\"checkbox\" ><label for=\"sk-estimator-id-8\" class=\"sk-toggleable__label sk-toggleable__label-arrow\">estimator: RandomForestClassifier</label><div class=\"sk-toggleable__content\"><pre>RandomForestClassifier()</pre></div></div></div><div class=\"sk-serial\"><div class=\"sk-item\"><div class=\"sk-estimator sk-toggleable\"><input class=\"sk-toggleable__control sk-hidden--visually\" id=\"sk-estimator-id-9\" type=\"checkbox\" ><label for=\"sk-estimator-id-9\" class=\"sk-toggleable__label sk-toggleable__label-arrow\">RandomForestClassifier</label><div class=\"sk-toggleable__content\"><pre>RandomForestClassifier()</pre></div></div></div></div></div></div></div></div></div></div>"
      ],
      "text/plain": [
       "GridSearchCV(cv=10, estimator=RandomForestClassifier(), n_jobs=8,\n",
       "             param_grid={'criterion': ['entropy'], 'max_depth': [None, 2],\n",
       "                         'max_features': ['sqrt'],\n",
       "                         'min_samples_leaf': [1, 3, 10],\n",
       "                         'min_samples_split': [2, 5],\n",
       "                         'n_estimators': [50, 100]},\n",
       "             scoring='accuracy')"
      ]
     },
     "execution_count": 30,
     "metadata": {},
     "output_type": "execute_result"
    }
   ],
   "source": [
    "rf=RandomForestClassifier()\n",
    "parameters = {'n_estimators':[50,100],\n",
    "              'criterion':['entropy'],\n",
    "              'min_samples_split':[2, 5],\n",
    "              'max_depth':[None, 2],\n",
    "              'min_samples_leaf':[1, 3, 10],\n",
    "              'max_features':['sqrt'],\n",
    "             }\n",
    "GSRF=GridSearchCV(rf, parameters, cv=10, n_jobs=n_thread, scoring='accuracy')\n",
    "GSRF.fit(x_train, y_train)"
   ]
  },
  {
   "cell_type": "code",
   "execution_count": 31,
   "id": "ed4d742a",
   "metadata": {},
   "outputs": [
    {
     "name": "stdout",
     "output_type": "stream",
     "text": [
      "final params {'criterion': 'entropy', 'max_depth': None, 'max_features': 'sqrt', 'min_samples_leaf': 1, 'min_samples_split': 5, 'n_estimators': 100}\n",
      "best score 0.9845244003308519\n"
     ]
    }
   ],
   "source": [
    "print('final params', GSRF.best_params_)\n",
    "print('best score', GSRF.best_score_)"
   ]
  },
  {
   "cell_type": "code",
   "execution_count": 32,
   "id": "21ecb246",
   "metadata": {},
   "outputs": [
    {
     "name": "stdout",
     "output_type": "stream",
     "text": [
      "              precision    recall  f1-score   support\n",
      "\n",
      "           0       0.98      1.00      0.99       311\n",
      "           1       1.00      0.92      0.96        78\n",
      "\n",
      "    accuracy                           0.98       389\n",
      "   macro avg       0.99      0.96      0.98       389\n",
      "weighted avg       0.98      0.98      0.98       389\n",
      "\n",
      "\u001b[32mAccuracy of GS_RandomForest: 98.46%\n"
     ]
    }
   ],
   "source": [
    "GSRF_pred = GSRF.predict(x_test)\n",
    "GSRF_acc = accuracy_score(y_test, GSRF_pred)\n",
    "print(classification_report(y_test, GSRF_pred))\n",
    "print(Fore.GREEN + f\"Accuracy of GS_RandomForest: {100*GSRF_acc:2.2f}%\")"
   ]
  },
  {
   "cell_type": "code",
   "execution_count": 33,
   "id": "85b5fbfe",
   "metadata": {},
   "outputs": [
    {
     "data": {
      "text/plain": [
       "<Figure size 500x500 with 0 Axes>"
      ]
     },
     "metadata": {},
     "output_type": "display_data"
    },
    {
     "data": {
      "image/png": "[encoded data removed]",
      "text/plain": [
       "<Figure size 640x480 with 1 Axes>"
      ]
     },
     "metadata": {
      "image/png": {
       "height": 432,
       "width": 493
      }
     },
     "output_type": "display_data"
    }
   ],
   "source": [
    "cm = confusion_matrix(y_test, GSRF_pred)\n",
    "plt.figure(figsize=(5,5))\n",
    "plot_confusion_matrix(cm, cmap=plt.cm.Blues, hide_ticks=True)\n",
    "plt.xticks(range(2), ['K-Scatch X', 'K-Scatch O'])\n",
    "plt.yticks(range(2), ['K-Scatch X', 'K-Scatch O'])\n",
    "plt.show()"
   ]
  },
  {
   "cell_type": "markdown",
   "id": "424724ea",
   "metadata": {},
   "source": [
    "## Support Vector Machine\n",
    "- Margin을 최대로하는 Boundary를 찾는 것이 목표\n",
    "- Error를 허용하는 정도를 Parameter'C'로 표현\n",
    "    - C가 크면 Error를 많이 허용. C가 작을수록 Error를 적게 허용\n",
    "    \n",
    "**Parameters**\n",
    "- C: 값이 크면 Regularization을 완화. 작으면 세게\n",
    "- kernel: Linear한 경우 일반적으로 사용을 안함. 곡선 등 비선형관계는 Polynomial, Gaussian 등을 사용\n",
    "- degree: Polynomial의 차원(2차, 3차, ...)\n",
    "- gamma: 'rbf', 'poly', and 'sigmoid'에 사용\n",
    "\n",
    "**선형관계** -> C를 조절  \n",
    "**비선형관계** -> kernel, degree, gamma를 조절"
   ]
  },
  {
   "cell_type": "code",
   "execution_count": 34,
   "id": "5d926606",
   "metadata": {},
   "outputs": [
    {
     "name": "stdout",
     "output_type": "stream",
     "text": [
      "              precision    recall  f1-score   support\n",
      "\n",
      "           0       0.98      1.00      0.99       311\n",
      "           1       0.99      0.92      0.95        78\n",
      "\n",
      "    accuracy                           0.98       389\n",
      "   macro avg       0.98      0.96      0.97       389\n",
      "weighted avg       0.98      0.98      0.98       389\n",
      "\n",
      "\u001b[32mAccuracy of Support Vector Classifier: 98.20%\n"
     ]
    }
   ],
   "source": [
    "from sklearn.svm import SVC\n",
    "\n",
    "sc_clf = SVC()\n",
    "sc_clf.fit(x_train, y_train)\n",
    "sc_clf_pred = sc_clf.predict(x_test)\n",
    "sc_clf_acc = accuracy_score(y_test, sc_clf_pred)\n",
    "print(classification_report(y_test, sc_clf_pred))\n",
    "print(Fore.GREEN + f\"Accuracy of Support Vector Classifier: {100*sc_clf_acc:2.2f}%\")"
   ]
  },
  {
   "cell_type": "code",
   "execution_count": 35,
   "id": "bb8cc4c6",
   "metadata": {},
   "outputs": [
    {
     "data": {
      "text/html": [
       "<style>#sk-container-id-4 {color: black;background-color: white;}#sk-container-id-4 pre{padding: 0;}#sk-container-id-4 div.sk-toggleable {background-color: white;}#sk-container-id-4 label.sk-toggleable__label {cursor: pointer;display: block;width: 100%;margin-bottom: 0;padding: 0.3em;box-sizing: border-box;text-align: center;}#sk-container-id-4 label.sk-toggleable__label-arrow:before {content: \"▸\";float: left;margin-right: 0.25em;color: #696969;}#sk-container-id-4 label.sk-toggleable__label-arrow:hover:before {color: black;}#sk-container-id-4 div.sk-estimator:hover label.sk-toggleable__label-arrow:before {color: black;}#sk-container-id-4 div.sk-toggleable__content {max-height: 0;max-width: 0;overflow: hidden;text-align: left;background-color: #f0f8ff;}#sk-container-id-4 div.sk-toggleable__content pre {margin: 0.2em;color: black;border-radius: 0.25em;background-color: #f0f8ff;}#sk-container-id-4 input.sk-toggleable__control:checked~div.sk-toggleable__content {max-height: 200px;max-width: 100%;overflow: auto;}#sk-container-id-4 input.sk-toggleable__control:checked~label.sk-toggleable__label-arrow:before {content: \"▾\";}#sk-container-id-4 div.sk-estimator input.sk-toggleable__control:checked~label.sk-toggleable__label {background-color: #d4ebff;}#sk-container-id-4 div.sk-label input.sk-toggleable__control:checked~label.sk-toggleable__label {background-color: #d4ebff;}#sk-container-id-4 input.sk-hidden--visually {border: 0;clip: rect(1px 1px 1px 1px);clip: rect(1px, 1px, 1px, 1px);height: 1px;margin: -1px;overflow: hidden;padding: 0;position: absolute;width: 1px;}#sk-container-id-4 div.sk-estimator {font-family: monospace;background-color: #f0f8ff;border: 1px dotted black;border-radius: 0.25em;box-sizing: border-box;margin-bottom: 0.5em;}#sk-container-id-4 div.sk-estimator:hover {background-color: #d4ebff;}#sk-container-id-4 div.sk-parallel-item::after {content: \"\";width: 100%;border-bottom: 1px solid gray;flex-grow: 1;}#sk-container-id-4 div.sk-label:hover label.sk-toggleable__label {background-color: #d4ebff;}#sk-container-id-4 div.sk-serial::before {content: \"\";position: absolute;border-left: 1px solid gray;box-sizing: border-box;top: 0;bottom: 0;left: 50%;z-index: 0;}#sk-container-id-4 div.sk-serial {display: flex;flex-direction: column;align-items: center;background-color: white;padding-right: 0.2em;padding-left: 0.2em;position: relative;}#sk-container-id-4 div.sk-item {position: relative;z-index: 1;}#sk-container-id-4 div.sk-parallel {display: flex;align-items: stretch;justify-content: center;background-color: white;position: relative;}#sk-container-id-4 div.sk-item::before, #sk-container-id-4 div.sk-parallel-item::before {content: \"\";position: absolute;border-left: 1px solid gray;box-sizing: border-box;top: 0;bottom: 0;left: 50%;z-index: -1;}#sk-container-id-4 div.sk-parallel-item {display: flex;flex-direction: column;z-index: 1;position: relative;background-color: white;}#sk-container-id-4 div.sk-parallel-item:first-child::after {align-self: flex-end;width: 50%;}#sk-container-id-4 div.sk-parallel-item:last-child::after {align-self: flex-start;width: 50%;}#sk-container-id-4 div.sk-parallel-item:only-child::after {width: 0;}#sk-container-id-4 div.sk-dashed-wrapped {border: 1px dashed gray;margin: 0 0.4em 0.5em 0.4em;box-sizing: border-box;padding-bottom: 0.4em;background-color: white;}#sk-container-id-4 div.sk-label label {font-family: monospace;font-weight: bold;display: inline-block;line-height: 1.2em;}#sk-container-id-4 div.sk-label-container {text-align: center;}#sk-container-id-4 div.sk-container {/* jupyter's `normalize.less` sets `[hidden] { display: none; }` but bootstrap.min.css set `[hidden] { display: none !important; }` so we also need the `!important` here to be able to override the default hidden behavior on the sphinx rendered scikit-learn.org. See: https://github.com/scikit-learn/scikit-learn/issues/21755 */display: inline-block !important;position: relative;}#sk-container-id-4 div.sk-text-repr-fallback {display: none;}</style><div id=\"sk-container-id-4\" class=\"sk-top-container\"><div class=\"sk-text-repr-fallback\"><pre>GridSearchCV(cv=10, estimator=SVC(), n_jobs=8,\n",
       "             param_grid={&#x27;C&#x27;: [0.01, 0.1, 0.5, 0.9, 1, 5, 10],\n",
       "                         &#x27;gamma&#x27;: [0.1, 1, 10],\n",
       "                         &#x27;kernel&#x27;: [&#x27;linear&#x27;, &#x27;rbf&#x27;, &#x27;poly&#x27;]},\n",
       "             scoring=&#x27;accuracy&#x27;)</pre><b>In a Jupyter environment, please rerun this cell to show the HTML representation or trust the notebook. <br />On GitHub, the HTML representation is unable to render, please try loading this page with nbviewer.org.</b></div><div class=\"sk-container\" hidden><div class=\"sk-item sk-dashed-wrapped\"><div class=\"sk-label-container\"><div class=\"sk-label sk-toggleable\"><input class=\"sk-toggleable__control sk-hidden--visually\" id=\"sk-estimator-id-10\" type=\"checkbox\" ><label for=\"sk-estimator-id-10\" class=\"sk-toggleable__label sk-toggleable__label-arrow\">GridSearchCV</label><div class=\"sk-toggleable__content\"><pre>GridSearchCV(cv=10, estimator=SVC(), n_jobs=8,\n",
       "             param_grid={&#x27;C&#x27;: [0.01, 0.1, 0.5, 0.9, 1, 5, 10],\n",
       "                         &#x27;gamma&#x27;: [0.1, 1, 10],\n",
       "                         &#x27;kernel&#x27;: [&#x27;linear&#x27;, &#x27;rbf&#x27;, &#x27;poly&#x27;]},\n",
       "             scoring=&#x27;accuracy&#x27;)</pre></div></div></div><div class=\"sk-parallel\"><div class=\"sk-parallel-item\"><div class=\"sk-item\"><div class=\"sk-label-container\"><div class=\"sk-label sk-toggleable\"><input class=\"sk-toggleable__control sk-hidden--visually\" id=\"sk-estimator-id-11\" type=\"checkbox\" ><label for=\"sk-estimator-id-11\" class=\"sk-toggleable__label sk-toggleable__label-arrow\">estimator: SVC</label><div class=\"sk-toggleable__content\"><pre>SVC()</pre></div></div></div><div class=\"sk-serial\"><div class=\"sk-item\"><div class=\"sk-estimator sk-toggleable\"><input class=\"sk-toggleable__control sk-hidden--visually\" id=\"sk-estimator-id-12\" type=\"checkbox\" ><label for=\"sk-estimator-id-12\" class=\"sk-toggleable__label sk-toggleable__label-arrow\">SVC</label><div class=\"sk-toggleable__content\"><pre>SVC()</pre></div></div></div></div></div></div></div></div></div></div>"
      ],
      "text/plain": [
       "GridSearchCV(cv=10, estimator=SVC(), n_jobs=8,\n",
       "             param_grid={'C': [0.01, 0.1, 0.5, 0.9, 1, 5, 10],\n",
       "                         'gamma': [0.1, 1, 10],\n",
       "                         'kernel': ['linear', 'rbf', 'poly']},\n",
       "             scoring='accuracy')"
      ]
     },
     "execution_count": 35,
     "metadata": {},
     "output_type": "execute_result"
    }
   ],
   "source": [
    "parameters = {'C':[0.01, 0.1, 0.5, 0.9, 1, 5, 10], 'kernel':['linear', 'rbf', 'poly'], 'gamma':[0.1, 1, 10]}\n",
    "\n",
    "svc=SVC()\n",
    "GS_SVM = GridSearchCV(svc, parameters, cv=10, n_jobs=n_thread, scoring='accuracy')\n",
    "GS_SVM.fit(x_train, y_train)"
   ]
  },
  {
   "cell_type": "code",
   "execution_count": 36,
   "id": "e3bba3dd",
   "metadata": {},
   "outputs": [
    {
     "name": "stdout",
     "output_type": "stream",
     "text": [
      "final params {'C': 5, 'gamma': 0.1, 'kernel': 'rbf'}\n",
      "best score 0.9838999172870141\n"
     ]
    }
   ],
   "source": [
    "print('final params', GS_SVM.best_params_)\n",
    "print('best score', GS_SVM.best_score_)"
   ]
  },
  {
   "cell_type": "code",
   "execution_count": 37,
   "id": "bf81e28f",
   "metadata": {},
   "outputs": [
    {
     "name": "stdout",
     "output_type": "stream",
     "text": [
      "              precision    recall  f1-score   support\n",
      "\n",
      "           0       0.98      1.00      0.99       311\n",
      "           1       0.99      0.91      0.95        78\n",
      "\n",
      "    accuracy                           0.98       389\n",
      "   macro avg       0.98      0.95      0.97       389\n",
      "weighted avg       0.98      0.98      0.98       389\n",
      "\n",
      "\u001b[32mAccuracy of GS Support Vector Classifier: 97.94%\n"
     ]
    }
   ],
   "source": [
    "GS_SVM_pred = GS_SVM.predict(x_test)\n",
    "GS_SVM_acc = accuracy_score(y_test, GS_SVM_pred)\n",
    "print(classification_report(y_test, GS_SVM_pred))\n",
    "print(Fore.GREEN + f\"Accuracy of GS Support Vector Classifier: {100*GS_SVM_acc:2.2f}%\")"
   ]
  },
  {
   "cell_type": "code",
   "execution_count": 38,
   "id": "0b5761fc",
   "metadata": {},
   "outputs": [
    {
     "data": {
      "text/plain": [
       "<Figure size 500x500 with 0 Axes>"
      ]
     },
     "metadata": {},
     "output_type": "display_data"
    },
    {
     "data": {
      "image/png": "[encoded data removed]",
      "text/plain": [
       "<Figure size 640x480 with 1 Axes>"
      ]
     },
     "metadata": {
      "image/png": {
       "height": 432,
       "width": 493
      }
     },
     "output_type": "display_data"
    }
   ],
   "source": [
    "cm=confusion_matrix(y_test, GS_SVM_pred)\n",
    "\n",
    "plt.figure(figsize=(5,5))\n",
    "plot_confusion_matrix(cm, hide_ticks=True, cmap=plt.cm.Blues)\n",
    "plt.xticks(range(2), ['K-Scatch X', 'K-Scatch O'])\n",
    "plt.yticks(range(2), ['K-Scatch X', 'K-Scatch O'])\n",
    "plt.show()"
   ]
  },
  {
   "cell_type": "markdown",
   "id": "b61551a7",
   "metadata": {},
   "source": [
    "## ANN\n",
    "**Parameters**\n",
    "- hidden_layer_size: tuple, **default=(100,)**\n",
    "    - Ex) (3,2)-> 1번째 hidden layer 3 & 2번째 hidden layer 2\n",
    "- activation: 'identity', 'logistic', 'tanh', **'relu'**\n",
    "- solver: 'lbfgs', 'sgd', **'adam'**\n",
    "    - 'lbfgs'는 샘플이 크지않을 때 adam보다 효과가 좋음\n",
    "- alpha\n",
    "- beta_1, beta_2\n",
    "    - 'adam'을 썼을 때 수렴이 잘 안되면 사용\n",
    "    \n",
    "**Tips**\n",
    "- 일반적으로 hidden layer는 하나로 충분(데이터가 매우 크지 않을 때)\n",
    "- hidden layer가 2개를 넘어서면 자칫 local minimum에 빠지는 경우가 발생\n",
    "- hiden node는 Grid Search로 찾는 것이 일반적\n",
    "    - $\\text{Number of Neurons} = \\cfrac{\\text{Training Data Samples}}{\\text{Factor}\\times\\text{(Input Neurons}+\\text{Output Neurons)}}$\n",
    "    - **The factor is used to prevent over-fitting and it is number between 1-10**"
   ]
  },
  {
   "cell_type": "code",
   "execution_count": 39,
   "id": "c61151a3",
   "metadata": {},
   "outputs": [
    {
     "name": "stdout",
     "output_type": "stream",
     "text": [
      "              precision    recall  f1-score   support\n",
      "\n",
      "           0       0.98      0.99      0.99       311\n",
      "           1       0.96      0.94      0.95        78\n",
      "\n",
      "    accuracy                           0.98       389\n",
      "   macro avg       0.97      0.96      0.97       389\n",
      "weighted avg       0.98      0.98      0.98       389\n",
      "\n",
      "\u001b[32mAccuracy of Neural Network is: 97.94%\n"
     ]
    }
   ],
   "source": [
    "from sklearn.neural_network import MLPClassifier\n",
    "\n",
    "nn_model = MLPClassifier(max_iter=1000)\n",
    "nn_model.fit(x_train, y_train)\n",
    "nn_model_pred = nn_model.predict(x_test)\n",
    "nn_model_acc = accuracy_score(y_test, nn_model_pred)\n",
    "print(classification_report(y_test, nn_model_pred))\n",
    "print(Fore.GREEN + f\"Accuracy of Neural Network is: {100*nn_model_acc:2.2f}%\")"
   ]
  },
  {
   "cell_type": "code",
   "execution_count": 40,
   "id": "8a18cc90",
   "metadata": {},
   "outputs": [
    {
     "data": {
      "text/plain": [
       "(1552, 27)"
      ]
     },
     "execution_count": 40,
     "metadata": {},
     "output_type": "execute_result"
    }
   ],
   "source": [
    "x_train.shape"
   ]
  },
  {
   "cell_type": "code",
   "execution_count": 41,
   "id": "18293b00",
   "metadata": {},
   "outputs": [
    {
     "data": {
      "text/plain": [
       "57.48148148148148"
      ]
     },
     "execution_count": 41,
     "metadata": {},
     "output_type": "execute_result"
    }
   ],
   "source": [
    "1552/(1*(26+1))"
   ]
  },
  {
   "cell_type": "code",
   "execution_count": 42,
   "id": "46bc6865",
   "metadata": {},
   "outputs": [
    {
     "data": {
      "text/plain": [
       "5.7481481481481485"
      ]
     },
     "execution_count": 42,
     "metadata": {},
     "output_type": "execute_result"
    }
   ],
   "source": [
    "1552/(10*(26+1))"
   ]
  },
  {
   "cell_type": "code",
   "execution_count": 43,
   "id": "e76bf7eb",
   "metadata": {},
   "outputs": [],
   "source": [
    "nn_model2 = MLPClassifier(random_state=13725, max_iter=1000)"
   ]
  },
  {
   "cell_type": "code",
   "execution_count": 44,
   "id": "f1d2d9ff",
   "metadata": {
    "scrolled": true
   },
   "outputs": [
    {
     "name": "stderr",
     "output_type": "stream",
     "text": [
      "/opt/homebrew/anaconda3/lib/python3.9/site-packages/sklearn/neural_network/_multilayer_perceptron.py:536: ConvergenceWarning: lbfgs failed to converge (status=1):\n",
      "STOP: TOTAL NO. of ITERATIONS REACHED LIMIT.\n",
      "\n",
      "Increase the number of iterations (max_iter) or scale the data as shown in:\n",
      "    https://scikit-learn.org/stable/modules/preprocessing.html\n",
      "  self.n_iter_ = _check_optimize_result(\"lbfgs\", opt_res, self.max_iter)\n",
      "/opt/homebrew/anaconda3/lib/python3.9/site-packages/sklearn/neural_network/_multilayer_perceptron.py:536: ConvergenceWarning: lbfgs failed to converge (status=1):\n",
      "STOP: TOTAL NO. of ITERATIONS REACHED LIMIT.\n",
      "\n",
      "Increase the number of iterations (max_iter) or scale the data as shown in:\n",
      "    https://scikit-learn.org/stable/modules/preprocessing.html\n",
      "  self.n_iter_ = _check_optimize_result(\"lbfgs\", opt_res, self.max_iter)\n",
      "/opt/homebrew/anaconda3/lib/python3.9/site-packages/sklearn/neural_network/_multilayer_perceptron.py:536: ConvergenceWarning: lbfgs failed to converge (status=1):\n",
      "STOP: TOTAL NO. of ITERATIONS REACHED LIMIT.\n",
      "\n",
      "Increase the number of iterations (max_iter) or scale the data as shown in:\n",
      "    https://scikit-learn.org/stable/modules/preprocessing.html\n",
      "  self.n_iter_ = _check_optimize_result(\"lbfgs\", opt_res, self.max_iter)\n",
      "/opt/homebrew/anaconda3/lib/python3.9/site-packages/sklearn/neural_network/_multilayer_perceptron.py:536: ConvergenceWarning: lbfgs failed to converge (status=1):\n",
      "STOP: TOTAL NO. of ITERATIONS REACHED LIMIT.\n",
      "\n",
      "Increase the number of iterations (max_iter) or scale the data as shown in:\n",
      "    https://scikit-learn.org/stable/modules/preprocessing.html\n",
      "  self.n_iter_ = _check_optimize_result(\"lbfgs\", opt_res, self.max_iter)\n"
     ]
    },
    {
     "data": {
      "text/html": [
       "<style>#sk-container-id-5 {color: black;background-color: white;}#sk-container-id-5 pre{padding: 0;}#sk-container-id-5 div.sk-toggleable {background-color: white;}#sk-container-id-5 label.sk-toggleable__label {cursor: pointer;display: block;width: 100%;margin-bottom: 0;padding: 0.3em;box-sizing: border-box;text-align: center;}#sk-container-id-5 label.sk-toggleable__label-arrow:before {content: \"▸\";float: left;margin-right: 0.25em;color: #696969;}#sk-container-id-5 label.sk-toggleable__label-arrow:hover:before {color: black;}#sk-container-id-5 div.sk-estimator:hover label.sk-toggleable__label-arrow:before {color: black;}#sk-container-id-5 div.sk-toggleable__content {max-height: 0;max-width: 0;overflow: hidden;text-align: left;background-color: #f0f8ff;}#sk-container-id-5 div.sk-toggleable__content pre {margin: 0.2em;color: black;border-radius: 0.25em;background-color: #f0f8ff;}#sk-container-id-5 input.sk-toggleable__control:checked~div.sk-toggleable__content {max-height: 200px;max-width: 100%;overflow: auto;}#sk-container-id-5 input.sk-toggleable__control:checked~label.sk-toggleable__label-arrow:before {content: \"▾\";}#sk-container-id-5 div.sk-estimator input.sk-toggleable__control:checked~label.sk-toggleable__label {background-color: #d4ebff;}#sk-container-id-5 div.sk-label input.sk-toggleable__control:checked~label.sk-toggleable__label {background-color: #d4ebff;}#sk-container-id-5 input.sk-hidden--visually {border: 0;clip: rect(1px 1px 1px 1px);clip: rect(1px, 1px, 1px, 1px);height: 1px;margin: -1px;overflow: hidden;padding: 0;position: absolute;width: 1px;}#sk-container-id-5 div.sk-estimator {font-family: monospace;background-color: #f0f8ff;border: 1px dotted black;border-radius: 0.25em;box-sizing: border-box;margin-bottom: 0.5em;}#sk-container-id-5 div.sk-estimator:hover {background-color: #d4ebff;}#sk-container-id-5 div.sk-parallel-item::after {content: \"\";width: 100%;border-bottom: 1px solid gray;flex-grow: 1;}#sk-container-id-5 div.sk-label:hover label.sk-toggleable__label {background-color: #d4ebff;}#sk-container-id-5 div.sk-serial::before {content: \"\";position: absolute;border-left: 1px solid gray;box-sizing: border-box;top: 0;bottom: 0;left: 50%;z-index: 0;}#sk-container-id-5 div.sk-serial {display: flex;flex-direction: column;align-items: center;background-color: white;padding-right: 0.2em;padding-left: 0.2em;position: relative;}#sk-container-id-5 div.sk-item {position: relative;z-index: 1;}#sk-container-id-5 div.sk-parallel {display: flex;align-items: stretch;justify-content: center;background-color: white;position: relative;}#sk-container-id-5 div.sk-item::before, #sk-container-id-5 div.sk-parallel-item::before {content: \"\";position: absolute;border-left: 1px solid gray;box-sizing: border-box;top: 0;bottom: 0;left: 50%;z-index: -1;}#sk-container-id-5 div.sk-parallel-item {display: flex;flex-direction: column;z-index: 1;position: relative;background-color: white;}#sk-container-id-5 div.sk-parallel-item:first-child::after {align-self: flex-end;width: 50%;}#sk-container-id-5 div.sk-parallel-item:last-child::after {align-self: flex-start;width: 50%;}#sk-container-id-5 div.sk-parallel-item:only-child::after {width: 0;}#sk-container-id-5 div.sk-dashed-wrapped {border: 1px dashed gray;margin: 0 0.4em 0.5em 0.4em;box-sizing: border-box;padding-bottom: 0.4em;background-color: white;}#sk-container-id-5 div.sk-label label {font-family: monospace;font-weight: bold;display: inline-block;line-height: 1.2em;}#sk-container-id-5 div.sk-label-container {text-align: center;}#sk-container-id-5 div.sk-container {/* jupyter's `normalize.less` sets `[hidden] { display: none; }` but bootstrap.min.css set `[hidden] { display: none !important; }` so we also need the `!important` here to be able to override the default hidden behavior on the sphinx rendered scikit-learn.org. See: https://github.com/scikit-learn/scikit-learn/issues/21755 */display: inline-block !important;position: relative;}#sk-container-id-5 div.sk-text-repr-fallback {display: none;}</style><div id=\"sk-container-id-5\" class=\"sk-top-container\"><div class=\"sk-text-repr-fallback\"><pre>GridSearchCV(cv=10, estimator=MLPClassifier(max_iter=1000, random_state=13725),\n",
       "             n_jobs=8,\n",
       "             param_grid={&#x27;activation&#x27;: [&#x27;tanh&#x27;, &#x27;relu&#x27;],\n",
       "                         &#x27;alpha&#x27;: [0.001, 0.1, 10.0],\n",
       "                         &#x27;hidden_layer_sizes&#x27;: [5, 30, 60],\n",
       "                         &#x27;solver&#x27;: [&#x27;adam&#x27;, &#x27;lbfgs&#x27;]},\n",
       "             scoring=&#x27;accuracy&#x27;)</pre><b>In a Jupyter environment, please rerun this cell to show the HTML representation or trust the notebook. <br />On GitHub, the HTML representation is unable to render, please try loading this page with nbviewer.org.</b></div><div class=\"sk-container\" hidden><div class=\"sk-item sk-dashed-wrapped\"><div class=\"sk-label-container\"><div class=\"sk-label sk-toggleable\"><input class=\"sk-toggleable__control sk-hidden--visually\" id=\"sk-estimator-id-13\" type=\"checkbox\" ><label for=\"sk-estimator-id-13\" class=\"sk-toggleable__label sk-toggleable__label-arrow\">GridSearchCV</label><div class=\"sk-toggleable__content\"><pre>GridSearchCV(cv=10, estimator=MLPClassifier(max_iter=1000, random_state=13725),\n",
       "             n_jobs=8,\n",
       "             param_grid={&#x27;activation&#x27;: [&#x27;tanh&#x27;, &#x27;relu&#x27;],\n",
       "                         &#x27;alpha&#x27;: [0.001, 0.1, 10.0],\n",
       "                         &#x27;hidden_layer_sizes&#x27;: [5, 30, 60],\n",
       "                         &#x27;solver&#x27;: [&#x27;adam&#x27;, &#x27;lbfgs&#x27;]},\n",
       "             scoring=&#x27;accuracy&#x27;)</pre></div></div></div><div class=\"sk-parallel\"><div class=\"sk-parallel-item\"><div class=\"sk-item\"><div class=\"sk-label-container\"><div class=\"sk-label sk-toggleable\"><input class=\"sk-toggleable__control sk-hidden--visually\" id=\"sk-estimator-id-14\" type=\"checkbox\" ><label for=\"sk-estimator-id-14\" class=\"sk-toggleable__label sk-toggleable__label-arrow\">estimator: MLPClassifier</label><div class=\"sk-toggleable__content\"><pre>MLPClassifier(max_iter=1000, random_state=13725)</pre></div></div></div><div class=\"sk-serial\"><div class=\"sk-item\"><div class=\"sk-estimator sk-toggleable\"><input class=\"sk-toggleable__control sk-hidden--visually\" id=\"sk-estimator-id-15\" type=\"checkbox\" ><label for=\"sk-estimator-id-15\" class=\"sk-toggleable__label sk-toggleable__label-arrow\">MLPClassifier</label><div class=\"sk-toggleable__content\"><pre>MLPClassifier(max_iter=1000, random_state=13725)</pre></div></div></div></div></div></div></div></div></div></div>"
      ],
      "text/plain": [
       "GridSearchCV(cv=10, estimator=MLPClassifier(max_iter=1000, random_state=13725),\n",
       "             n_jobs=8,\n",
       "             param_grid={'activation': ['tanh', 'relu'],\n",
       "                         'alpha': [0.001, 0.1, 10.0],\n",
       "                         'hidden_layer_sizes': [5, 30, 60],\n",
       "                         'solver': ['adam', 'lbfgs']},\n",
       "             scoring='accuracy')"
      ]
     },
     "execution_count": 44,
     "metadata": {},
     "output_type": "execute_result"
    }
   ],
   "source": [
    "parameters = {'alpha':[1e-3, 1e-1, 1e1],\n",
    "              'hidden_layer_sizes':[(5), (30), (60)],\n",
    "              'activation':['tanh', 'relu'],\n",
    "              'solver':['adam', 'lbfgs']\n",
    "             }\n",
    "GS_NN=GridSearchCV(nn_model2, parameters, cv=10, n_jobs=n_thread, scoring='accuracy')\n",
    "GS_NN.fit(x_train, y_train)"
   ]
  },
  {
   "cell_type": "code",
   "execution_count": 45,
   "id": "04eb0db6",
   "metadata": {},
   "outputs": [
    {
     "name": "stdout",
     "output_type": "stream",
     "text": [
      "final params {'activation': 'relu', 'alpha': 0.001, 'hidden_layer_sizes': 60, 'solver': 'adam'}\n",
      "best score 0.979387923904053\n"
     ]
    }
   ],
   "source": [
    "print('final params', GS_NN.best_params_)\n",
    "print('best score', GS_NN.best_score_)"
   ]
  },
  {
   "cell_type": "code",
   "execution_count": 46,
   "id": "73c1e996",
   "metadata": {},
   "outputs": [
    {
     "name": "stdout",
     "output_type": "stream",
     "text": [
      "0.969 (+/-0.016) for {'activation': 'tanh', 'alpha': 0.001, 'hidden_layer_sizes': 5, 'solver': 'adam'}\n",
      "0.972 (+/-0.016) for {'activation': 'tanh', 'alpha': 0.001, 'hidden_layer_sizes': 5, 'solver': 'lbfgs'}\n",
      "0.976 (+/-0.014) for {'activation': 'tanh', 'alpha': 0.001, 'hidden_layer_sizes': 30, 'solver': 'adam'}\n",
      "0.975 (+/-0.013) for {'activation': 'tanh', 'alpha': 0.001, 'hidden_layer_sizes': 30, 'solver': 'lbfgs'}\n",
      "0.978 (+/-0.014) for {'activation': 'tanh', 'alpha': 0.001, 'hidden_layer_sizes': 60, 'solver': 'adam'}\n",
      "0.976 (+/-0.011) for {'activation': 'tanh', 'alpha': 0.001, 'hidden_layer_sizes': 60, 'solver': 'lbfgs'}\n",
      "0.967 (+/-0.016) for {'activation': 'tanh', 'alpha': 0.1, 'hidden_layer_sizes': 5, 'solver': 'adam'}\n",
      "0.976 (+/-0.013) for {'activation': 'tanh', 'alpha': 0.1, 'hidden_layer_sizes': 5, 'solver': 'lbfgs'}\n",
      "0.978 (+/-0.011) for {'activation': 'tanh', 'alpha': 0.1, 'hidden_layer_sizes': 30, 'solver': 'adam'}\n",
      "0.976 (+/-0.013) for {'activation': 'tanh', 'alpha': 0.1, 'hidden_layer_sizes': 30, 'solver': 'lbfgs'}\n",
      "0.979 (+/-0.013) for {'activation': 'tanh', 'alpha': 0.1, 'hidden_layer_sizes': 60, 'solver': 'adam'}\n",
      "0.978 (+/-0.010) for {'activation': 'tanh', 'alpha': 0.1, 'hidden_layer_sizes': 60, 'solver': 'lbfgs'}\n",
      "0.958 (+/-0.014) for {'activation': 'tanh', 'alpha': 10.0, 'hidden_layer_sizes': 5, 'solver': 'adam'}\n",
      "0.972 (+/-0.012) for {'activation': 'tanh', 'alpha': 10.0, 'hidden_layer_sizes': 5, 'solver': 'lbfgs'}\n",
      "0.957 (+/-0.015) for {'activation': 'tanh', 'alpha': 10.0, 'hidden_layer_sizes': 30, 'solver': 'adam'}\n",
      "0.972 (+/-0.014) for {'activation': 'tanh', 'alpha': 10.0, 'hidden_layer_sizes': 30, 'solver': 'lbfgs'}\n",
      "0.957 (+/-0.015) for {'activation': 'tanh', 'alpha': 10.0, 'hidden_layer_sizes': 60, 'solver': 'adam'}\n",
      "0.972 (+/-0.014) for {'activation': 'tanh', 'alpha': 10.0, 'hidden_layer_sizes': 60, 'solver': 'lbfgs'}\n",
      "0.963 (+/-0.015) for {'activation': 'relu', 'alpha': 0.001, 'hidden_layer_sizes': 5, 'solver': 'adam'}\n",
      "0.974 (+/-0.012) for {'activation': 'relu', 'alpha': 0.001, 'hidden_layer_sizes': 5, 'solver': 'lbfgs'}\n",
      "0.976 (+/-0.012) for {'activation': 'relu', 'alpha': 0.001, 'hidden_layer_sizes': 30, 'solver': 'adam'}\n",
      "0.972 (+/-0.012) for {'activation': 'relu', 'alpha': 0.001, 'hidden_layer_sizes': 30, 'solver': 'lbfgs'}\n",
      "0.979 (+/-0.012) for {'activation': 'relu', 'alpha': 0.001, 'hidden_layer_sizes': 60, 'solver': 'adam'}\n",
      "0.972 (+/-0.013) for {'activation': 'relu', 'alpha': 0.001, 'hidden_layer_sizes': 60, 'solver': 'lbfgs'}\n",
      "0.966 (+/-0.016) for {'activation': 'relu', 'alpha': 0.1, 'hidden_layer_sizes': 5, 'solver': 'adam'}\n",
      "0.972 (+/-0.012) for {'activation': 'relu', 'alpha': 0.1, 'hidden_layer_sizes': 5, 'solver': 'lbfgs'}\n",
      "0.977 (+/-0.011) for {'activation': 'relu', 'alpha': 0.1, 'hidden_layer_sizes': 30, 'solver': 'adam'}\n",
      "0.978 (+/-0.008) for {'activation': 'relu', 'alpha': 0.1, 'hidden_layer_sizes': 30, 'solver': 'lbfgs'}\n",
      "0.976 (+/-0.013) for {'activation': 'relu', 'alpha': 0.1, 'hidden_layer_sizes': 60, 'solver': 'adam'}\n",
      "0.979 (+/-0.009) for {'activation': 'relu', 'alpha': 0.1, 'hidden_layer_sizes': 60, 'solver': 'lbfgs'}\n",
      "0.958 (+/-0.015) for {'activation': 'relu', 'alpha': 10.0, 'hidden_layer_sizes': 5, 'solver': 'adam'}\n",
      "0.972 (+/-0.014) for {'activation': 'relu', 'alpha': 10.0, 'hidden_layer_sizes': 5, 'solver': 'lbfgs'}\n",
      "0.959 (+/-0.015) for {'activation': 'relu', 'alpha': 10.0, 'hidden_layer_sizes': 30, 'solver': 'adam'}\n",
      "0.974 (+/-0.012) for {'activation': 'relu', 'alpha': 10.0, 'hidden_layer_sizes': 30, 'solver': 'lbfgs'}\n",
      "0.959 (+/-0.015) for {'activation': 'relu', 'alpha': 10.0, 'hidden_layer_sizes': 60, 'solver': 'adam'}\n",
      "0.975 (+/-0.012) for {'activation': 'relu', 'alpha': 10.0, 'hidden_layer_sizes': 60, 'solver': 'lbfgs'}\n"
     ]
    }
   ],
   "source": [
    "means = GS_NN.cv_results_['mean_test_score']\n",
    "stds = GS_NN.cv_results_['std_test_score']\n",
    "params = GS_NN.cv_results_['params']\n",
    "for mean, std, param in zip(means, stds, params):\n",
    "    print(\"{0:.3f} (+/-{1:.03f}) for {2}\".format(mean, std, param))"
   ]
  },
  {
   "cell_type": "markdown",
   "id": "cc383e57",
   "metadata": {},
   "source": [
    "1. 모든 구간에서는 아니지만, 대부분 동일한 Hyper Parameters가 주워질 때 Adam이 lbfgs보다 낮은 정확도를 가짐 (alpha가 클 때)  \n",
    "    $\\rightarrow$**adam보다는 lbfgs에서 더 Robust한 결과가 나옴**\n",
    "2. 뚜렷하게 나타나지는 않지만, hidden_layer_sizes가 5보다는 30,60에서 더 높은 정확도를 가짐\n",
    "3. alpha는 10보다는 0.1, 0.001이 더 좋은 결과를 가짐  \n",
    "    $\\rightarrow$**0.1과 0.001은 큰 차이가 없음**\n",
    "4. tanh와 relu의 차이는 크지않음\n",
    "5. 대부분의 정확도들이 오차범위 안에 위치\n",
    "    $\\rightarrow$**cross-validation 10번은 충분하지 않음**\n",
    "    $\\rightarrow$**그렇다고 늘리면 오차범위가 더 커질것**\n",
    "- Sample Size: 1500개\n",
    "- Defect Sample Size: 300\n",
    "- Validation Set: (1500, 300) x 1/10 = (150, 30) -> Accuracy 계산\n",
    "    - 150개 30개로 Accuracy를 계산하게되는데 Sample이 더 줄어든다면(cv가 커진다면) Accuracy 계산 하나하나의 값들이 흔들리므로 이 값들도 많이 흔들려서 오히려 Cross Validation을 많이해서 많이 계산했음에도 오차범위가 늘어나게됨\n",
    "    - Cross Validation을 줄여도 계산 자체가 줄어들어 오차범위가 늘어나게됨\n",
    "\n",
    "따라서 현재로서는 오차범위 밖을 벗어나는 Hyper Parameters Set을 확인후 제거 (EX, 'adam')  \n",
    "만약, Convergence Problem이 있다면 다시 adam을 적용  \n",
    "나머지는 되도록이면 best score의 best parameter로 적용"
   ]
  },
  {
   "cell_type": "code",
   "execution_count": 47,
   "id": "c3cb89df",
   "metadata": {
    "scrolled": true
   },
   "outputs": [
    {
     "data": {
      "text/html": [
       "<style>#sk-container-id-6 {color: black;background-color: white;}#sk-container-id-6 pre{padding: 0;}#sk-container-id-6 div.sk-toggleable {background-color: white;}#sk-container-id-6 label.sk-toggleable__label {cursor: pointer;display: block;width: 100%;margin-bottom: 0;padding: 0.3em;box-sizing: border-box;text-align: center;}#sk-container-id-6 label.sk-toggleable__label-arrow:before {content: \"▸\";float: left;margin-right: 0.25em;color: #696969;}#sk-container-id-6 label.sk-toggleable__label-arrow:hover:before {color: black;}#sk-container-id-6 div.sk-estimator:hover label.sk-toggleable__label-arrow:before {color: black;}#sk-container-id-6 div.sk-toggleable__content {max-height: 0;max-width: 0;overflow: hidden;text-align: left;background-color: #f0f8ff;}#sk-container-id-6 div.sk-toggleable__content pre {margin: 0.2em;color: black;border-radius: 0.25em;background-color: #f0f8ff;}#sk-container-id-6 input.sk-toggleable__control:checked~div.sk-toggleable__content {max-height: 200px;max-width: 100%;overflow: auto;}#sk-container-id-6 input.sk-toggleable__control:checked~label.sk-toggleable__label-arrow:before {content: \"▾\";}#sk-container-id-6 div.sk-estimator input.sk-toggleable__control:checked~label.sk-toggleable__label {background-color: #d4ebff;}#sk-container-id-6 div.sk-label input.sk-toggleable__control:checked~label.sk-toggleable__label {background-color: #d4ebff;}#sk-container-id-6 input.sk-hidden--visually {border: 0;clip: rect(1px 1px 1px 1px);clip: rect(1px, 1px, 1px, 1px);height: 1px;margin: -1px;overflow: hidden;padding: 0;position: absolute;width: 1px;}#sk-container-id-6 div.sk-estimator {font-family: monospace;background-color: #f0f8ff;border: 1px dotted black;border-radius: 0.25em;box-sizing: border-box;margin-bottom: 0.5em;}#sk-container-id-6 div.sk-estimator:hover {background-color: #d4ebff;}#sk-container-id-6 div.sk-parallel-item::after {content: \"\";width: 100%;border-bottom: 1px solid gray;flex-grow: 1;}#sk-container-id-6 div.sk-label:hover label.sk-toggleable__label {background-color: #d4ebff;}#sk-container-id-6 div.sk-serial::before {content: \"\";position: absolute;border-left: 1px solid gray;box-sizing: border-box;top: 0;bottom: 0;left: 50%;z-index: 0;}#sk-container-id-6 div.sk-serial {display: flex;flex-direction: column;align-items: center;background-color: white;padding-right: 0.2em;padding-left: 0.2em;position: relative;}#sk-container-id-6 div.sk-item {position: relative;z-index: 1;}#sk-container-id-6 div.sk-parallel {display: flex;align-items: stretch;justify-content: center;background-color: white;position: relative;}#sk-container-id-6 div.sk-item::before, #sk-container-id-6 div.sk-parallel-item::before {content: \"\";position: absolute;border-left: 1px solid gray;box-sizing: border-box;top: 0;bottom: 0;left: 50%;z-index: -1;}#sk-container-id-6 div.sk-parallel-item {display: flex;flex-direction: column;z-index: 1;position: relative;background-color: white;}#sk-container-id-6 div.sk-parallel-item:first-child::after {align-self: flex-end;width: 50%;}#sk-container-id-6 div.sk-parallel-item:last-child::after {align-self: flex-start;width: 50%;}#sk-container-id-6 div.sk-parallel-item:only-child::after {width: 0;}#sk-container-id-6 div.sk-dashed-wrapped {border: 1px dashed gray;margin: 0 0.4em 0.5em 0.4em;box-sizing: border-box;padding-bottom: 0.4em;background-color: white;}#sk-container-id-6 div.sk-label label {font-family: monospace;font-weight: bold;display: inline-block;line-height: 1.2em;}#sk-container-id-6 div.sk-label-container {text-align: center;}#sk-container-id-6 div.sk-container {/* jupyter's `normalize.less` sets `[hidden] { display: none; }` but bootstrap.min.css set `[hidden] { display: none !important; }` so we also need the `!important` here to be able to override the default hidden behavior on the sphinx rendered scikit-learn.org. See: https://github.com/scikit-learn/scikit-learn/issues/21755 */display: inline-block !important;position: relative;}#sk-container-id-6 div.sk-text-repr-fallback {display: none;}</style><div id=\"sk-container-id-6\" class=\"sk-top-container\"><div class=\"sk-text-repr-fallback\"><pre>GridSearchCV(cv=10, estimator=MLPClassifier(max_iter=1000, random_state=13725),\n",
       "             n_jobs=8,\n",
       "             param_grid={&#x27;activation&#x27;: [&#x27;tanh&#x27;], &#x27;alpha&#x27;: [0.1],\n",
       "                         &#x27;hidden_layer_sizes&#x27;: [5, 10, 20, 30],\n",
       "                         &#x27;solver&#x27;: [&#x27;lbfgs&#x27;]},\n",
       "             scoring=&#x27;accuracy&#x27;)</pre><b>In a Jupyter environment, please rerun this cell to show the HTML representation or trust the notebook. <br />On GitHub, the HTML representation is unable to render, please try loading this page with nbviewer.org.</b></div><div class=\"sk-container\" hidden><div class=\"sk-item sk-dashed-wrapped\"><div class=\"sk-label-container\"><div class=\"sk-label sk-toggleable\"><input class=\"sk-toggleable__control sk-hidden--visually\" id=\"sk-estimator-id-16\" type=\"checkbox\" ><label for=\"sk-estimator-id-16\" class=\"sk-toggleable__label sk-toggleable__label-arrow\">GridSearchCV</label><div class=\"sk-toggleable__content\"><pre>GridSearchCV(cv=10, estimator=MLPClassifier(max_iter=1000, random_state=13725),\n",
       "             n_jobs=8,\n",
       "             param_grid={&#x27;activation&#x27;: [&#x27;tanh&#x27;], &#x27;alpha&#x27;: [0.1],\n",
       "                         &#x27;hidden_layer_sizes&#x27;: [5, 10, 20, 30],\n",
       "                         &#x27;solver&#x27;: [&#x27;lbfgs&#x27;]},\n",
       "             scoring=&#x27;accuracy&#x27;)</pre></div></div></div><div class=\"sk-parallel\"><div class=\"sk-parallel-item\"><div class=\"sk-item\"><div class=\"sk-label-container\"><div class=\"sk-label sk-toggleable\"><input class=\"sk-toggleable__control sk-hidden--visually\" id=\"sk-estimator-id-17\" type=\"checkbox\" ><label for=\"sk-estimator-id-17\" class=\"sk-toggleable__label sk-toggleable__label-arrow\">estimator: MLPClassifier</label><div class=\"sk-toggleable__content\"><pre>MLPClassifier(max_iter=1000, random_state=13725)</pre></div></div></div><div class=\"sk-serial\"><div class=\"sk-item\"><div class=\"sk-estimator sk-toggleable\"><input class=\"sk-toggleable__control sk-hidden--visually\" id=\"sk-estimator-id-18\" type=\"checkbox\" ><label for=\"sk-estimator-id-18\" class=\"sk-toggleable__label sk-toggleable__label-arrow\">MLPClassifier</label><div class=\"sk-toggleable__content\"><pre>MLPClassifier(max_iter=1000, random_state=13725)</pre></div></div></div></div></div></div></div></div></div></div>"
      ],
      "text/plain": [
       "GridSearchCV(cv=10, estimator=MLPClassifier(max_iter=1000, random_state=13725),\n",
       "             n_jobs=8,\n",
       "             param_grid={'activation': ['tanh'], 'alpha': [0.1],\n",
       "                         'hidden_layer_sizes': [5, 10, 20, 30],\n",
       "                         'solver': ['lbfgs']},\n",
       "             scoring='accuracy')"
      ]
     },
     "execution_count": 47,
     "metadata": {},
     "output_type": "execute_result"
    }
   ],
   "source": [
    "parameters2 = {'alpha':[1e-1],\n",
    "               'hidden_layer_sizes':[(5), (10), (20), (30)], # 큰 차이가 없다면 일반적으로 과적합은 피해야하므로 (60,)을 제거\n",
    "               'activation':['tanh'],\n",
    "               'solver':['lbfgs']\n",
    "              }\n",
    "GS_NN2=GridSearchCV(nn_model2, parameters2, cv=10, n_jobs=n_thread, scoring='accuracy')\n",
    "GS_NN2.fit(x_train, y_train)"
   ]
  },
  {
   "cell_type": "code",
   "execution_count": 48,
   "id": "0c859c46",
   "metadata": {},
   "outputs": [
    {
     "name": "stdout",
     "output_type": "stream",
     "text": [
      "0.976 (+/-0.013) for {'activation': 'tanh', 'alpha': 0.1, 'hidden_layer_sizes': 5, 'solver': 'lbfgs'}\n",
      "0.974 (+/-0.014) for {'activation': 'tanh', 'alpha': 0.1, 'hidden_layer_sizes': 10, 'solver': 'lbfgs'}\n",
      "0.980 (+/-0.015) for {'activation': 'tanh', 'alpha': 0.1, 'hidden_layer_sizes': 20, 'solver': 'lbfgs'}\n",
      "0.976 (+/-0.013) for {'activation': 'tanh', 'alpha': 0.1, 'hidden_layer_sizes': 30, 'solver': 'lbfgs'}\n"
     ]
    }
   ],
   "source": [
    "means = GS_NN2.cv_results_['mean_test_score']\n",
    "stds = GS_NN2.cv_results_['std_test_score']\n",
    "params = GS_NN2.cv_results_['params']\n",
    "for mean, std, param in zip(means, stds, params):\n",
    "    print(\"{0:.3f} (+/-{1:.03f}) for {2}\".format(mean, std, param))"
   ]
  },
  {
   "cell_type": "markdown",
   "id": "f667f67d",
   "metadata": {},
   "source": [
    "$\\begin{aligned}\n",
    "\\rightarrow &\\text{'hidden_layer_size'를 20으로 선정 후 hidden_layer 층을 하나 더 쌓음}\\\\\n",
    "&\\text{층을 하나 더 쌓았을 때 문제점은 Convergence하지 않을 수 있다는 것}\\\\\n",
    "&\\textbf{모델이 복잡해지는만큼 Samples수가 충분하지 않다면 수렴하지 않을 가능성이 높음}\n",
    "\\end{aligned}$"
   ]
  },
  {
   "cell_type": "code",
   "execution_count": 49,
   "id": "39d3a788",
   "metadata": {
    "scrolled": true
   },
   "outputs": [
    {
     "data": {
      "text/html": [
       "<style>#sk-container-id-7 {color: black;background-color: white;}#sk-container-id-7 pre{padding: 0;}#sk-container-id-7 div.sk-toggleable {background-color: white;}#sk-container-id-7 label.sk-toggleable__label {cursor: pointer;display: block;width: 100%;margin-bottom: 0;padding: 0.3em;box-sizing: border-box;text-align: center;}#sk-container-id-7 label.sk-toggleable__label-arrow:before {content: \"▸\";float: left;margin-right: 0.25em;color: #696969;}#sk-container-id-7 label.sk-toggleable__label-arrow:hover:before {color: black;}#sk-container-id-7 div.sk-estimator:hover label.sk-toggleable__label-arrow:before {color: black;}#sk-container-id-7 div.sk-toggleable__content {max-height: 0;max-width: 0;overflow: hidden;text-align: left;background-color: #f0f8ff;}#sk-container-id-7 div.sk-toggleable__content pre {margin: 0.2em;color: black;border-radius: 0.25em;background-color: #f0f8ff;}#sk-container-id-7 input.sk-toggleable__control:checked~div.sk-toggleable__content {max-height: 200px;max-width: 100%;overflow: auto;}#sk-container-id-7 input.sk-toggleable__control:checked~label.sk-toggleable__label-arrow:before {content: \"▾\";}#sk-container-id-7 div.sk-estimator input.sk-toggleable__control:checked~label.sk-toggleable__label {background-color: #d4ebff;}#sk-container-id-7 div.sk-label input.sk-toggleable__control:checked~label.sk-toggleable__label {background-color: #d4ebff;}#sk-container-id-7 input.sk-hidden--visually {border: 0;clip: rect(1px 1px 1px 1px);clip: rect(1px, 1px, 1px, 1px);height: 1px;margin: -1px;overflow: hidden;padding: 0;position: absolute;width: 1px;}#sk-container-id-7 div.sk-estimator {font-family: monospace;background-color: #f0f8ff;border: 1px dotted black;border-radius: 0.25em;box-sizing: border-box;margin-bottom: 0.5em;}#sk-container-id-7 div.sk-estimator:hover {background-color: #d4ebff;}#sk-container-id-7 div.sk-parallel-item::after {content: \"\";width: 100%;border-bottom: 1px solid gray;flex-grow: 1;}#sk-container-id-7 div.sk-label:hover label.sk-toggleable__label {background-color: #d4ebff;}#sk-container-id-7 div.sk-serial::before {content: \"\";position: absolute;border-left: 1px solid gray;box-sizing: border-box;top: 0;bottom: 0;left: 50%;z-index: 0;}#sk-container-id-7 div.sk-serial {display: flex;flex-direction: column;align-items: center;background-color: white;padding-right: 0.2em;padding-left: 0.2em;position: relative;}#sk-container-id-7 div.sk-item {position: relative;z-index: 1;}#sk-container-id-7 div.sk-parallel {display: flex;align-items: stretch;justify-content: center;background-color: white;position: relative;}#sk-container-id-7 div.sk-item::before, #sk-container-id-7 div.sk-parallel-item::before {content: \"\";position: absolute;border-left: 1px solid gray;box-sizing: border-box;top: 0;bottom: 0;left: 50%;z-index: -1;}#sk-container-id-7 div.sk-parallel-item {display: flex;flex-direction: column;z-index: 1;position: relative;background-color: white;}#sk-container-id-7 div.sk-parallel-item:first-child::after {align-self: flex-end;width: 50%;}#sk-container-id-7 div.sk-parallel-item:last-child::after {align-self: flex-start;width: 50%;}#sk-container-id-7 div.sk-parallel-item:only-child::after {width: 0;}#sk-container-id-7 div.sk-dashed-wrapped {border: 1px dashed gray;margin: 0 0.4em 0.5em 0.4em;box-sizing: border-box;padding-bottom: 0.4em;background-color: white;}#sk-container-id-7 div.sk-label label {font-family: monospace;font-weight: bold;display: inline-block;line-height: 1.2em;}#sk-container-id-7 div.sk-label-container {text-align: center;}#sk-container-id-7 div.sk-container {/* jupyter's `normalize.less` sets `[hidden] { display: none; }` but bootstrap.min.css set `[hidden] { display: none !important; }` so we also need the `!important` here to be able to override the default hidden behavior on the sphinx rendered scikit-learn.org. See: https://github.com/scikit-learn/scikit-learn/issues/21755 */display: inline-block !important;position: relative;}#sk-container-id-7 div.sk-text-repr-fallback {display: none;}</style><div id=\"sk-container-id-7\" class=\"sk-top-container\"><div class=\"sk-text-repr-fallback\"><pre>GridSearchCV(cv=10, estimator=MLPClassifier(max_iter=1000, random_state=13725),\n",
       "             n_jobs=8,\n",
       "             param_grid={&#x27;activation&#x27;: [&#x27;tanh&#x27;], &#x27;alpha&#x27;: [0.1],\n",
       "                         &#x27;hidden_layer_sizes&#x27;: [(20, 2), (20, 5)],\n",
       "                         &#x27;solver&#x27;: [&#x27;lbfgs&#x27;, &#x27;adam&#x27;]},\n",
       "             scoring=&#x27;accuracy&#x27;)</pre><b>In a Jupyter environment, please rerun this cell to show the HTML representation or trust the notebook. <br />On GitHub, the HTML representation is unable to render, please try loading this page with nbviewer.org.</b></div><div class=\"sk-container\" hidden><div class=\"sk-item sk-dashed-wrapped\"><div class=\"sk-label-container\"><div class=\"sk-label sk-toggleable\"><input class=\"sk-toggleable__control sk-hidden--visually\" id=\"sk-estimator-id-19\" type=\"checkbox\" ><label for=\"sk-estimator-id-19\" class=\"sk-toggleable__label sk-toggleable__label-arrow\">GridSearchCV</label><div class=\"sk-toggleable__content\"><pre>GridSearchCV(cv=10, estimator=MLPClassifier(max_iter=1000, random_state=13725),\n",
       "             n_jobs=8,\n",
       "             param_grid={&#x27;activation&#x27;: [&#x27;tanh&#x27;], &#x27;alpha&#x27;: [0.1],\n",
       "                         &#x27;hidden_layer_sizes&#x27;: [(20, 2), (20, 5)],\n",
       "                         &#x27;solver&#x27;: [&#x27;lbfgs&#x27;, &#x27;adam&#x27;]},\n",
       "             scoring=&#x27;accuracy&#x27;)</pre></div></div></div><div class=\"sk-parallel\"><div class=\"sk-parallel-item\"><div class=\"sk-item\"><div class=\"sk-label-container\"><div class=\"sk-label sk-toggleable\"><input class=\"sk-toggleable__control sk-hidden--visually\" id=\"sk-estimator-id-20\" type=\"checkbox\" ><label for=\"sk-estimator-id-20\" class=\"sk-toggleable__label sk-toggleable__label-arrow\">estimator: MLPClassifier</label><div class=\"sk-toggleable__content\"><pre>MLPClassifier(max_iter=1000, random_state=13725)</pre></div></div></div><div class=\"sk-serial\"><div class=\"sk-item\"><div class=\"sk-estimator sk-toggleable\"><input class=\"sk-toggleable__control sk-hidden--visually\" id=\"sk-estimator-id-21\" type=\"checkbox\" ><label for=\"sk-estimator-id-21\" class=\"sk-toggleable__label sk-toggleable__label-arrow\">MLPClassifier</label><div class=\"sk-toggleable__content\"><pre>MLPClassifier(max_iter=1000, random_state=13725)</pre></div></div></div></div></div></div></div></div></div></div>"
      ],
      "text/plain": [
       "GridSearchCV(cv=10, estimator=MLPClassifier(max_iter=1000, random_state=13725),\n",
       "             n_jobs=8,\n",
       "             param_grid={'activation': ['tanh'], 'alpha': [0.1],\n",
       "                         'hidden_layer_sizes': [(20, 2), (20, 5)],\n",
       "                         'solver': ['lbfgs', 'adam']},\n",
       "             scoring='accuracy')"
      ]
     },
     "execution_count": 49,
     "metadata": {},
     "output_type": "execute_result"
    }
   ],
   "source": [
    "parameters3 = {'alpha':[1e-1],\n",
    "               'hidden_layer_sizes':[(20, 2), (20, 5)], # 큰 차이가 없다면 일반적으로 과적합은 피해야하므로 (60,)을 제거\n",
    "               'activation':['tanh'],\n",
    "               'solver':['lbfgs', 'adam']\n",
    "              }\n",
    "GS_NN3=GridSearchCV(nn_model2, parameters3, cv=10, n_jobs=n_thread, scoring='accuracy')\n",
    "GS_NN3.fit(x_train, y_train)"
   ]
  },
  {
   "cell_type": "code",
   "execution_count": 50,
   "id": "d8f873f9",
   "metadata": {},
   "outputs": [
    {
     "name": "stdout",
     "output_type": "stream",
     "text": [
      "0.973 (+/-0.011) for {'activation': 'tanh', 'alpha': 0.1, 'hidden_layer_sizes': (20, 2), 'solver': 'lbfgs'}\n",
      "0.977 (+/-0.013) for {'activation': 'tanh', 'alpha': 0.1, 'hidden_layer_sizes': (20, 2), 'solver': 'adam'}\n",
      "0.974 (+/-0.012) for {'activation': 'tanh', 'alpha': 0.1, 'hidden_layer_sizes': (20, 5), 'solver': 'lbfgs'}\n",
      "0.977 (+/-0.016) for {'activation': 'tanh', 'alpha': 0.1, 'hidden_layer_sizes': (20, 5), 'solver': 'adam'}\n"
     ]
    }
   ],
   "source": [
    "means = GS_NN3.cv_results_['mean_test_score']\n",
    "stds = GS_NN3.cv_results_['std_test_score']\n",
    "params = GS_NN3.cv_results_['params']\n",
    "for mean, std, param in zip(means, stds, params):\n",
    "    print(\"{0:.3f} (+/-{1:.03f}) for {2}\".format(mean, std, param))"
   ]
  },
  {
   "cell_type": "code",
   "execution_count": 51,
   "id": "bd6bfd31",
   "metadata": {},
   "outputs": [
    {
     "name": "stdout",
     "output_type": "stream",
     "text": [
      "              precision    recall  f1-score   support\n",
      "\n",
      "           0       0.99      0.99      0.99       311\n",
      "           1       0.96      0.96      0.96        78\n",
      "\n",
      "    accuracy                           0.98       389\n",
      "   macro avg       0.98      0.98      0.98       389\n",
      "weighted avg       0.98      0.98      0.98       389\n",
      "\n",
      "\u001b[32mAccuracy of GS Neural Network is: 98.46%\n"
     ]
    }
   ],
   "source": [
    "GS_NN_pred = GS_NN2.predict(x_test)\n",
    "GS_NN_acc = accuracy_score(y_test, GS_NN_pred)\n",
    "print(classification_report(y_test, GS_NN_pred))\n",
    "print(Fore.GREEN + f\"Accuracy of GS Neural Network is: {100*GS_NN_acc:2.2f}%\")"
   ]
  },
  {
   "cell_type": "code",
   "execution_count": 52,
   "id": "84d9cf20",
   "metadata": {},
   "outputs": [
    {
     "data": {
      "text/plain": [
       "<Figure size 500x500 with 0 Axes>"
      ]
     },
     "metadata": {},
     "output_type": "display_data"
    },
    {
     "data": {
      "image/png": "[encoded data removed]",
      "text/plain": [
       "<Figure size 640x480 with 1 Axes>"
      ]
     },
     "metadata": {
      "image/png": {
       "height": 432,
       "width": 493
      }
     },
     "output_type": "display_data"
    }
   ],
   "source": [
    "cm = confusion_matrix(y_test, GS_NN_pred)\n",
    "plt.figure(figsize=(5,5))\n",
    "plot_confusion_matrix(cm, cmap=plt.cm.Blues, hide_ticks=True)\n",
    "plt.xticks(range(2),['K-Scatch X', 'K-Scatch O'])\n",
    "plt.yticks(range(2),['K-Scatch X', 'K-Scatch O'])\n",
    "plt.show()"
   ]
  },
  {
   "cell_type": "markdown",
   "id": "ea561c0a",
   "metadata": {},
   "source": [
    "[Intuitive Comprehension](https://playground.tensorflow.org)"
   ]
  },
  {
   "cell_type": "markdown",
   "id": "d6f10382",
   "metadata": {},
   "source": [
    "### Boosting\n",
    "[reference](https://xgboost.readthedocs.io/en/latest/tutorials/param_tuning.html)\n",
    "\n",
    "**Parameters**\n",
    "- Directly control model complexity\n",
    "    - max_depth\n",
    "    - min_child_weight\n",
    "    - gamma\n",
    "- To add randomness to make training robust to noise\n",
    "    - subsample\n",
    "    - colsample_bytree\n",
    "    - eta : stepsize\n",
    "    - num_round"
   ]
  },
  {
   "cell_type": "code",
   "execution_count": 53,
   "id": "bad3afa3",
   "metadata": {},
   "outputs": [],
   "source": [
    "import xgboost as xgb\n",
    "\n",
    "xgb_model = xgb.XGBClassifier(objective='binary:logistic')"
   ]
  },
  {
   "cell_type": "code",
   "execution_count": 56,
   "id": "acc3c096",
   "metadata": {},
   "outputs": [],
   "source": [
    "parameters = {\n",
    "    'max_depth':[5, 8],\n",
    "    'min_child_weight':[1, 5], # Chile 안에 Sample이 몇개가 있어야 하는가와 비슷. 너무 Conservative하면 Pruning을 미리부터 시행\n",
    "    'gamma':[0, 1],\n",
    "    'colsample_bytree':[0.8, 1], # 각각의 트리를 구성할 때, 0.8이면 변수를 20% 드랍하고 구성\n",
    "    'colsample_bylevel':[0.9, 1], # 트리에서 드랍한 것에 이어 각각의 노드에서도 10% 드랍\n",
    "    'n_estimators':[50, 100], # BootStrapping을 몇 회 반복할지\n",
    "}   "
   ]
  },
  {
   "cell_type": "code",
   "execution_count": 57,
   "id": "b53b60a5",
   "metadata": {},
   "outputs": [
    {
     "data": {
      "text/html": [
       "<style>#sk-container-id-8 {color: black;background-color: white;}#sk-container-id-8 pre{padding: 0;}#sk-container-id-8 div.sk-toggleable {background-color: white;}#sk-container-id-8 label.sk-toggleable__label {cursor: pointer;display: block;width: 100%;margin-bottom: 0;padding: 0.3em;box-sizing: border-box;text-align: center;}#sk-container-id-8 label.sk-toggleable__label-arrow:before {content: \"▸\";float: left;margin-right: 0.25em;color: #696969;}#sk-container-id-8 label.sk-toggleable__label-arrow:hover:before {color: black;}#sk-container-id-8 div.sk-estimator:hover label.sk-toggleable__label-arrow:before {color: black;}#sk-container-id-8 div.sk-toggleable__content {max-height: 0;max-width: 0;overflow: hidden;text-align: left;background-color: #f0f8ff;}#sk-container-id-8 div.sk-toggleable__content pre {margin: 0.2em;color: black;border-radius: 0.25em;background-color: #f0f8ff;}#sk-container-id-8 input.sk-toggleable__control:checked~div.sk-toggleable__content {max-height: 200px;max-width: 100%;overflow: auto;}#sk-container-id-8 input.sk-toggleable__control:checked~label.sk-toggleable__label-arrow:before {content: \"▾\";}#sk-container-id-8 div.sk-estimator input.sk-toggleable__control:checked~label.sk-toggleable__label {background-color: #d4ebff;}#sk-container-id-8 div.sk-label input.sk-toggleable__control:checked~label.sk-toggleable__label {background-color: #d4ebff;}#sk-container-id-8 input.sk-hidden--visually {border: 0;clip: rect(1px 1px 1px 1px);clip: rect(1px, 1px, 1px, 1px);height: 1px;margin: -1px;overflow: hidden;padding: 0;position: absolute;width: 1px;}#sk-container-id-8 div.sk-estimator {font-family: monospace;background-color: #f0f8ff;border: 1px dotted black;border-radius: 0.25em;box-sizing: border-box;margin-bottom: 0.5em;}#sk-container-id-8 div.sk-estimator:hover {background-color: #d4ebff;}#sk-container-id-8 div.sk-parallel-item::after {content: \"\";width: 100%;border-bottom: 1px solid gray;flex-grow: 1;}#sk-container-id-8 div.sk-label:hover label.sk-toggleable__label {background-color: #d4ebff;}#sk-container-id-8 div.sk-serial::before {content: \"\";position: absolute;border-left: 1px solid gray;box-sizing: border-box;top: 0;bottom: 0;left: 50%;z-index: 0;}#sk-container-id-8 div.sk-serial {display: flex;flex-direction: column;align-items: center;background-color: white;padding-right: 0.2em;padding-left: 0.2em;position: relative;}#sk-container-id-8 div.sk-item {position: relative;z-index: 1;}#sk-container-id-8 div.sk-parallel {display: flex;align-items: stretch;justify-content: center;background-color: white;position: relative;}#sk-container-id-8 div.sk-item::before, #sk-container-id-8 div.sk-parallel-item::before {content: \"\";position: absolute;border-left: 1px solid gray;box-sizing: border-box;top: 0;bottom: 0;left: 50%;z-index: -1;}#sk-container-id-8 div.sk-parallel-item {display: flex;flex-direction: column;z-index: 1;position: relative;background-color: white;}#sk-container-id-8 div.sk-parallel-item:first-child::after {align-self: flex-end;width: 50%;}#sk-container-id-8 div.sk-parallel-item:last-child::after {align-self: flex-start;width: 50%;}#sk-container-id-8 div.sk-parallel-item:only-child::after {width: 0;}#sk-container-id-8 div.sk-dashed-wrapped {border: 1px dashed gray;margin: 0 0.4em 0.5em 0.4em;box-sizing: border-box;padding-bottom: 0.4em;background-color: white;}#sk-container-id-8 div.sk-label label {font-family: monospace;font-weight: bold;display: inline-block;line-height: 1.2em;}#sk-container-id-8 div.sk-label-container {text-align: center;}#sk-container-id-8 div.sk-container {/* jupyter's `normalize.less` sets `[hidden] { display: none; }` but bootstrap.min.css set `[hidden] { display: none !important; }` so we also need the `!important` here to be able to override the default hidden behavior on the sphinx rendered scikit-learn.org. See: https://github.com/scikit-learn/scikit-learn/issues/21755 */display: inline-block !important;position: relative;}#sk-container-id-8 div.sk-text-repr-fallback {display: none;}</style><div id=\"sk-container-id-8\" class=\"sk-top-container\"><div class=\"sk-text-repr-fallback\"><pre>GridSearchCV(cv=10,\n",
       "             estimator=XGBClassifier(base_score=None, booster=None,\n",
       "                                     callbacks=None, colsample_bylevel=None,\n",
       "                                     colsample_bynode=None,\n",
       "                                     colsample_bytree=None,\n",
       "                                     early_stopping_rounds=None,\n",
       "                                     enable_categorical=False, eval_metric=None,\n",
       "                                     feature_types=None, gamma=None,\n",
       "                                     gpu_id=None, grow_policy=None,\n",
       "                                     importance_type=None,\n",
       "                                     interaction_constraints=None,\n",
       "                                     learning_rate=None...\n",
       "                                     max_delta_step=None, max_depth=None,\n",
       "                                     max_leaves=None, min_child_weight=None,\n",
       "                                     missing=nan, monotone_constraints=None,\n",
       "                                     n_estimators=100, n_jobs=None,\n",
       "                                     num_parallel_tree=None, predictor=None,\n",
       "                                     random_state=None, ...),\n",
       "             n_jobs=8,\n",
       "             param_grid={&#x27;colsample_bylevel&#x27;: [0.9, 1],\n",
       "                         &#x27;colsample_bytree&#x27;: [0.8, 1], &#x27;gamma&#x27;: [0, 1],\n",
       "                         &#x27;max_depth&#x27;: [5, 8], &#x27;min_child_weight&#x27;: [1, 5],\n",
       "                         &#x27;n_estimators&#x27;: [50, 100]},\n",
       "             scoring=&#x27;accuracy&#x27;)</pre><b>In a Jupyter environment, please rerun this cell to show the HTML representation or trust the notebook. <br />On GitHub, the HTML representation is unable to render, please try loading this page with nbviewer.org.</b></div><div class=\"sk-container\" hidden><div class=\"sk-item sk-dashed-wrapped\"><div class=\"sk-label-container\"><div class=\"sk-label sk-toggleable\"><input class=\"sk-toggleable__control sk-hidden--visually\" id=\"sk-estimator-id-22\" type=\"checkbox\" ><label for=\"sk-estimator-id-22\" class=\"sk-toggleable__label sk-toggleable__label-arrow\">GridSearchCV</label><div class=\"sk-toggleable__content\"><pre>GridSearchCV(cv=10,\n",
       "             estimator=XGBClassifier(base_score=None, booster=None,\n",
       "                                     callbacks=None, colsample_bylevel=None,\n",
       "                                     colsample_bynode=None,\n",
       "                                     colsample_bytree=None,\n",
       "                                     early_stopping_rounds=None,\n",
       "                                     enable_categorical=False, eval_metric=None,\n",
       "                                     feature_types=None, gamma=None,\n",
       "                                     gpu_id=None, grow_policy=None,\n",
       "                                     importance_type=None,\n",
       "                                     interaction_constraints=None,\n",
       "                                     learning_rate=None...\n",
       "                                     max_delta_step=None, max_depth=None,\n",
       "                                     max_leaves=None, min_child_weight=None,\n",
       "                                     missing=nan, monotone_constraints=None,\n",
       "                                     n_estimators=100, n_jobs=None,\n",
       "                                     num_parallel_tree=None, predictor=None,\n",
       "                                     random_state=None, ...),\n",
       "             n_jobs=8,\n",
       "             param_grid={&#x27;colsample_bylevel&#x27;: [0.9, 1],\n",
       "                         &#x27;colsample_bytree&#x27;: [0.8, 1], &#x27;gamma&#x27;: [0, 1],\n",
       "                         &#x27;max_depth&#x27;: [5, 8], &#x27;min_child_weight&#x27;: [1, 5],\n",
       "                         &#x27;n_estimators&#x27;: [50, 100]},\n",
       "             scoring=&#x27;accuracy&#x27;)</pre></div></div></div><div class=\"sk-parallel\"><div class=\"sk-parallel-item\"><div class=\"sk-item\"><div class=\"sk-label-container\"><div class=\"sk-label sk-toggleable\"><input class=\"sk-toggleable__control sk-hidden--visually\" id=\"sk-estimator-id-23\" type=\"checkbox\" ><label for=\"sk-estimator-id-23\" class=\"sk-toggleable__label sk-toggleable__label-arrow\">estimator: XGBClassifier</label><div class=\"sk-toggleable__content\"><pre>XGBClassifier(base_score=None, booster=None, callbacks=None,\n",
       "              colsample_bylevel=None, colsample_bynode=None,\n",
       "              colsample_bytree=None, early_stopping_rounds=None,\n",
       "              enable_categorical=False, eval_metric=None, feature_types=None,\n",
       "              gamma=None, gpu_id=None, grow_policy=None, importance_type=None,\n",
       "              interaction_constraints=None, learning_rate=None, max_bin=None,\n",
       "              max_cat_threshold=None, max_cat_to_onehot=None,\n",
       "              max_delta_step=None, max_depth=None, max_leaves=None,\n",
       "              min_child_weight=None, missing=nan, monotone_constraints=None,\n",
       "              n_estimators=100, n_jobs=None, num_parallel_tree=None,\n",
       "              predictor=None, random_state=None, ...)</pre></div></div></div><div class=\"sk-serial\"><div class=\"sk-item\"><div class=\"sk-estimator sk-toggleable\"><input class=\"sk-toggleable__control sk-hidden--visually\" id=\"sk-estimator-id-24\" type=\"checkbox\" ><label for=\"sk-estimator-id-24\" class=\"sk-toggleable__label sk-toggleable__label-arrow\">XGBClassifier</label><div class=\"sk-toggleable__content\"><pre>XGBClassifier(base_score=None, booster=None, callbacks=None,\n",
       "              colsample_bylevel=None, colsample_bynode=None,\n",
       "              colsample_bytree=None, early_stopping_rounds=None,\n",
       "              enable_categorical=False, eval_metric=None, feature_types=None,\n",
       "              gamma=None, gpu_id=None, grow_policy=None, importance_type=None,\n",
       "              interaction_constraints=None, learning_rate=None, max_bin=None,\n",
       "              max_cat_threshold=None, max_cat_to_onehot=None,\n",
       "              max_delta_step=None, max_depth=None, max_leaves=None,\n",
       "              min_child_weight=None, missing=nan, monotone_constraints=None,\n",
       "              n_estimators=100, n_jobs=None, num_parallel_tree=None,\n",
       "              predictor=None, random_state=None, ...)</pre></div></div></div></div></div></div></div></div></div></div>"
      ],
      "text/plain": [
       "GridSearchCV(cv=10,\n",
       "             estimator=XGBClassifier(base_score=None, booster=None,\n",
       "                                     callbacks=None, colsample_bylevel=None,\n",
       "                                     colsample_bynode=None,\n",
       "                                     colsample_bytree=None,\n",
       "                                     early_stopping_rounds=None,\n",
       "                                     enable_categorical=False, eval_metric=None,\n",
       "                                     feature_types=None, gamma=None,\n",
       "                                     gpu_id=None, grow_policy=None,\n",
       "                                     importance_type=None,\n",
       "                                     interaction_constraints=None,\n",
       "                                     learning_rate=None...\n",
       "                                     max_delta_step=None, max_depth=None,\n",
       "                                     max_leaves=None, min_child_weight=None,\n",
       "                                     missing=nan, monotone_constraints=None,\n",
       "                                     n_estimators=100, n_jobs=None,\n",
       "                                     num_parallel_tree=None, predictor=None,\n",
       "                                     random_state=None, ...),\n",
       "             n_jobs=8,\n",
       "             param_grid={'colsample_bylevel': [0.9, 1],\n",
       "                         'colsample_bytree': [0.8, 1], 'gamma': [0, 1],\n",
       "                         'max_depth': [5, 8], 'min_child_weight': [1, 5],\n",
       "                         'n_estimators': [50, 100]},\n",
       "             scoring='accuracy')"
      ]
     },
     "execution_count": 57,
     "metadata": {},
     "output_type": "execute_result"
    }
   ],
   "source": [
    "GS_xgb=GridSearchCV(xgb_model, param_grid=parameters, cv=10, n_jobs=n_thread, scoring=\"accuracy\")\n",
    "GS_xgb.fit(x_train, y_train)"
   ]
  },
  {
   "cell_type": "code",
   "execution_count": 60,
   "id": "77c28a82",
   "metadata": {},
   "outputs": [
    {
     "name": "stdout",
     "output_type": "stream",
     "text": [
      "final params {'colsample_bylevel': 0.9, 'colsample_bytree': 0.8, 'gamma': 0, 'max_depth': 5, 'min_child_weight': 1, 'n_estimators': 50}\n",
      "best score 0.9858229942100911\n"
     ]
    }
   ],
   "source": [
    "print('final params', GS_xgb.best_params_)\n",
    "print('best score', GS_xgb.best_score_)"
   ]
  },
  {
   "cell_type": "code",
   "execution_count": 61,
   "id": "d871b281",
   "metadata": {},
   "outputs": [],
   "source": [
    "parameters2 = {\n",
    "    'max_depth':[3, 5, 7],\n",
    "    'min_child_weight':[1],\n",
    "    'gamma':[0],\n",
    "    'colsample_bytree':[0.7, 0.8,],\n",
    "    'colsample_bylevel':[0.8, 0.9,],\n",
    "    'n_estimators':[50, 70],\n",
    "}"
   ]
  },
  {
   "cell_type": "code",
   "execution_count": 62,
   "id": "1aab6655",
   "metadata": {},
   "outputs": [
    {
     "data": {
      "text/html": [
       "<style>#sk-container-id-9 {color: black;background-color: white;}#sk-container-id-9 pre{padding: 0;}#sk-container-id-9 div.sk-toggleable {background-color: white;}#sk-container-id-9 label.sk-toggleable__label {cursor: pointer;display: block;width: 100%;margin-bottom: 0;padding: 0.3em;box-sizing: border-box;text-align: center;}#sk-container-id-9 label.sk-toggleable__label-arrow:before {content: \"▸\";float: left;margin-right: 0.25em;color: #696969;}#sk-container-id-9 label.sk-toggleable__label-arrow:hover:before {color: black;}#sk-container-id-9 div.sk-estimator:hover label.sk-toggleable__label-arrow:before {color: black;}#sk-container-id-9 div.sk-toggleable__content {max-height: 0;max-width: 0;overflow: hidden;text-align: left;background-color: #f0f8ff;}#sk-container-id-9 div.sk-toggleable__content pre {margin: 0.2em;color: black;border-radius: 0.25em;background-color: #f0f8ff;}#sk-container-id-9 input.sk-toggleable__control:checked~div.sk-toggleable__content {max-height: 200px;max-width: 100%;overflow: auto;}#sk-container-id-9 input.sk-toggleable__control:checked~label.sk-toggleable__label-arrow:before {content: \"▾\";}#sk-container-id-9 div.sk-estimator input.sk-toggleable__control:checked~label.sk-toggleable__label {background-color: #d4ebff;}#sk-container-id-9 div.sk-label input.sk-toggleable__control:checked~label.sk-toggleable__label {background-color: #d4ebff;}#sk-container-id-9 input.sk-hidden--visually {border: 0;clip: rect(1px 1px 1px 1px);clip: rect(1px, 1px, 1px, 1px);height: 1px;margin: -1px;overflow: hidden;padding: 0;position: absolute;width: 1px;}#sk-container-id-9 div.sk-estimator {font-family: monospace;background-color: #f0f8ff;border: 1px dotted black;border-radius: 0.25em;box-sizing: border-box;margin-bottom: 0.5em;}#sk-container-id-9 div.sk-estimator:hover {background-color: #d4ebff;}#sk-container-id-9 div.sk-parallel-item::after {content: \"\";width: 100%;border-bottom: 1px solid gray;flex-grow: 1;}#sk-container-id-9 div.sk-label:hover label.sk-toggleable__label {background-color: #d4ebff;}#sk-container-id-9 div.sk-serial::before {content: \"\";position: absolute;border-left: 1px solid gray;box-sizing: border-box;top: 0;bottom: 0;left: 50%;z-index: 0;}#sk-container-id-9 div.sk-serial {display: flex;flex-direction: column;align-items: center;background-color: white;padding-right: 0.2em;padding-left: 0.2em;position: relative;}#sk-container-id-9 div.sk-item {position: relative;z-index: 1;}#sk-container-id-9 div.sk-parallel {display: flex;align-items: stretch;justify-content: center;background-color: white;position: relative;}#sk-container-id-9 div.sk-item::before, #sk-container-id-9 div.sk-parallel-item::before {content: \"\";position: absolute;border-left: 1px solid gray;box-sizing: border-box;top: 0;bottom: 0;left: 50%;z-index: -1;}#sk-container-id-9 div.sk-parallel-item {display: flex;flex-direction: column;z-index: 1;position: relative;background-color: white;}#sk-container-id-9 div.sk-parallel-item:first-child::after {align-self: flex-end;width: 50%;}#sk-container-id-9 div.sk-parallel-item:last-child::after {align-self: flex-start;width: 50%;}#sk-container-id-9 div.sk-parallel-item:only-child::after {width: 0;}#sk-container-id-9 div.sk-dashed-wrapped {border: 1px dashed gray;margin: 0 0.4em 0.5em 0.4em;box-sizing: border-box;padding-bottom: 0.4em;background-color: white;}#sk-container-id-9 div.sk-label label {font-family: monospace;font-weight: bold;display: inline-block;line-height: 1.2em;}#sk-container-id-9 div.sk-label-container {text-align: center;}#sk-container-id-9 div.sk-container {/* jupyter's `normalize.less` sets `[hidden] { display: none; }` but bootstrap.min.css set `[hidden] { display: none !important; }` so we also need the `!important` here to be able to override the default hidden behavior on the sphinx rendered scikit-learn.org. See: https://github.com/scikit-learn/scikit-learn/issues/21755 */display: inline-block !important;position: relative;}#sk-container-id-9 div.sk-text-repr-fallback {display: none;}</style><div id=\"sk-container-id-9\" class=\"sk-top-container\"><div class=\"sk-text-repr-fallback\"><pre>GridSearchCV(cv=10,\n",
       "             estimator=XGBClassifier(base_score=None, booster=None,\n",
       "                                     callbacks=None, colsample_bylevel=None,\n",
       "                                     colsample_bynode=None,\n",
       "                                     colsample_bytree=None,\n",
       "                                     early_stopping_rounds=None,\n",
       "                                     enable_categorical=False, eval_metric=None,\n",
       "                                     feature_types=None, gamma=None,\n",
       "                                     gpu_id=None, grow_policy=None,\n",
       "                                     importance_type=None,\n",
       "                                     interaction_constraints=None,\n",
       "                                     learning_rate=None...\n",
       "                                     max_delta_step=None, max_depth=None,\n",
       "                                     max_leaves=None, min_child_weight=None,\n",
       "                                     missing=nan, monotone_constraints=None,\n",
       "                                     n_estimators=100, n_jobs=None,\n",
       "                                     num_parallel_tree=None, predictor=None,\n",
       "                                     random_state=None, ...),\n",
       "             n_jobs=8,\n",
       "             param_grid={&#x27;colsample_bylevel&#x27;: [0.8, 0.9],\n",
       "                         &#x27;colsample_bytree&#x27;: [0.7, 0.8], &#x27;gamma&#x27;: [0],\n",
       "                         &#x27;max_depth&#x27;: [3, 5, 7], &#x27;min_child_weight&#x27;: [1],\n",
       "                         &#x27;n_estimators&#x27;: [50, 70]},\n",
       "             scoring=&#x27;accuracy&#x27;)</pre><b>In a Jupyter environment, please rerun this cell to show the HTML representation or trust the notebook. <br />On GitHub, the HTML representation is unable to render, please try loading this page with nbviewer.org.</b></div><div class=\"sk-container\" hidden><div class=\"sk-item sk-dashed-wrapped\"><div class=\"sk-label-container\"><div class=\"sk-label sk-toggleable\"><input class=\"sk-toggleable__control sk-hidden--visually\" id=\"sk-estimator-id-25\" type=\"checkbox\" ><label for=\"sk-estimator-id-25\" class=\"sk-toggleable__label sk-toggleable__label-arrow\">GridSearchCV</label><div class=\"sk-toggleable__content\"><pre>GridSearchCV(cv=10,\n",
       "             estimator=XGBClassifier(base_score=None, booster=None,\n",
       "                                     callbacks=None, colsample_bylevel=None,\n",
       "                                     colsample_bynode=None,\n",
       "                                     colsample_bytree=None,\n",
       "                                     early_stopping_rounds=None,\n",
       "                                     enable_categorical=False, eval_metric=None,\n",
       "                                     feature_types=None, gamma=None,\n",
       "                                     gpu_id=None, grow_policy=None,\n",
       "                                     importance_type=None,\n",
       "                                     interaction_constraints=None,\n",
       "                                     learning_rate=None...\n",
       "                                     max_delta_step=None, max_depth=None,\n",
       "                                     max_leaves=None, min_child_weight=None,\n",
       "                                     missing=nan, monotone_constraints=None,\n",
       "                                     n_estimators=100, n_jobs=None,\n",
       "                                     num_parallel_tree=None, predictor=None,\n",
       "                                     random_state=None, ...),\n",
       "             n_jobs=8,\n",
       "             param_grid={&#x27;colsample_bylevel&#x27;: [0.8, 0.9],\n",
       "                         &#x27;colsample_bytree&#x27;: [0.7, 0.8], &#x27;gamma&#x27;: [0],\n",
       "                         &#x27;max_depth&#x27;: [3, 5, 7], &#x27;min_child_weight&#x27;: [1],\n",
       "                         &#x27;n_estimators&#x27;: [50, 70]},\n",
       "             scoring=&#x27;accuracy&#x27;)</pre></div></div></div><div class=\"sk-parallel\"><div class=\"sk-parallel-item\"><div class=\"sk-item\"><div class=\"sk-label-container\"><div class=\"sk-label sk-toggleable\"><input class=\"sk-toggleable__control sk-hidden--visually\" id=\"sk-estimator-id-26\" type=\"checkbox\" ><label for=\"sk-estimator-id-26\" class=\"sk-toggleable__label sk-toggleable__label-arrow\">estimator: XGBClassifier</label><div class=\"sk-toggleable__content\"><pre>XGBClassifier(base_score=None, booster=None, callbacks=None,\n",
       "              colsample_bylevel=None, colsample_bynode=None,\n",
       "              colsample_bytree=None, early_stopping_rounds=None,\n",
       "              enable_categorical=False, eval_metric=None, feature_types=None,\n",
       "              gamma=None, gpu_id=None, grow_policy=None, importance_type=None,\n",
       "              interaction_constraints=None, learning_rate=None, max_bin=None,\n",
       "              max_cat_threshold=None, max_cat_to_onehot=None,\n",
       "              max_delta_step=None, max_depth=None, max_leaves=None,\n",
       "              min_child_weight=None, missing=nan, monotone_constraints=None,\n",
       "              n_estimators=100, n_jobs=None, num_parallel_tree=None,\n",
       "              predictor=None, random_state=None, ...)</pre></div></div></div><div class=\"sk-serial\"><div class=\"sk-item\"><div class=\"sk-estimator sk-toggleable\"><input class=\"sk-toggleable__control sk-hidden--visually\" id=\"sk-estimator-id-27\" type=\"checkbox\" ><label for=\"sk-estimator-id-27\" class=\"sk-toggleable__label sk-toggleable__label-arrow\">XGBClassifier</label><div class=\"sk-toggleable__content\"><pre>XGBClassifier(base_score=None, booster=None, callbacks=None,\n",
       "              colsample_bylevel=None, colsample_bynode=None,\n",
       "              colsample_bytree=None, early_stopping_rounds=None,\n",
       "              enable_categorical=False, eval_metric=None, feature_types=None,\n",
       "              gamma=None, gpu_id=None, grow_policy=None, importance_type=None,\n",
       "              interaction_constraints=None, learning_rate=None, max_bin=None,\n",
       "              max_cat_threshold=None, max_cat_to_onehot=None,\n",
       "              max_delta_step=None, max_depth=None, max_leaves=None,\n",
       "              min_child_weight=None, missing=nan, monotone_constraints=None,\n",
       "              n_estimators=100, n_jobs=None, num_parallel_tree=None,\n",
       "              predictor=None, random_state=None, ...)</pre></div></div></div></div></div></div></div></div></div></div>"
      ],
      "text/plain": [
       "GridSearchCV(cv=10,\n",
       "             estimator=XGBClassifier(base_score=None, booster=None,\n",
       "                                     callbacks=None, colsample_bylevel=None,\n",
       "                                     colsample_bynode=None,\n",
       "                                     colsample_bytree=None,\n",
       "                                     early_stopping_rounds=None,\n",
       "                                     enable_categorical=False, eval_metric=None,\n",
       "                                     feature_types=None, gamma=None,\n",
       "                                     gpu_id=None, grow_policy=None,\n",
       "                                     importance_type=None,\n",
       "                                     interaction_constraints=None,\n",
       "                                     learning_rate=None...\n",
       "                                     max_delta_step=None, max_depth=None,\n",
       "                                     max_leaves=None, min_child_weight=None,\n",
       "                                     missing=nan, monotone_constraints=None,\n",
       "                                     n_estimators=100, n_jobs=None,\n",
       "                                     num_parallel_tree=None, predictor=None,\n",
       "                                     random_state=None, ...),\n",
       "             n_jobs=8,\n",
       "             param_grid={'colsample_bylevel': [0.8, 0.9],\n",
       "                         'colsample_bytree': [0.7, 0.8], 'gamma': [0],\n",
       "                         'max_depth': [3, 5, 7], 'min_child_weight': [1],\n",
       "                         'n_estimators': [50, 70]},\n",
       "             scoring='accuracy')"
      ]
     },
     "execution_count": 62,
     "metadata": {},
     "output_type": "execute_result"
    }
   ],
   "source": [
    "GS_xgb2=GridSearchCV(xgb_model, param_grid=parameters2, cv=10, n_jobs=n_thread, scoring=\"accuracy\")\n",
    "GS_xgb2.fit(x_train, y_train)"
   ]
  },
  {
   "cell_type": "code",
   "execution_count": 63,
   "id": "6a0ad7d5",
   "metadata": {},
   "outputs": [
    {
     "name": "stdout",
     "output_type": "stream",
     "text": [
      "final params {'colsample_bylevel': 0.8, 'colsample_bytree': 0.8, 'gamma': 0, 'max_depth': 3, 'min_child_weight': 1, 'n_estimators': 70}\n",
      "best score 0.9883995037220844\n"
     ]
    }
   ],
   "source": [
    "print('final params', GS_xgb2.best_params_)\n",
    "print('best score', GS_xgb2.best_score_)"
   ]
  },
  {
   "cell_type": "code",
   "execution_count": 64,
   "id": "c41914d7",
   "metadata": {},
   "outputs": [
    {
     "data": {
      "text/html": [
       "<style>#sk-container-id-10 {color: black;background-color: white;}#sk-container-id-10 pre{padding: 0;}#sk-container-id-10 div.sk-toggleable {background-color: white;}#sk-container-id-10 label.sk-toggleable__label {cursor: pointer;display: block;width: 100%;margin-bottom: 0;padding: 0.3em;box-sizing: border-box;text-align: center;}#sk-container-id-10 label.sk-toggleable__label-arrow:before {content: \"▸\";float: left;margin-right: 0.25em;color: #696969;}#sk-container-id-10 label.sk-toggleable__label-arrow:hover:before {color: black;}#sk-container-id-10 div.sk-estimator:hover label.sk-toggleable__label-arrow:before {color: black;}#sk-container-id-10 div.sk-toggleable__content {max-height: 0;max-width: 0;overflow: hidden;text-align: left;background-color: #f0f8ff;}#sk-container-id-10 div.sk-toggleable__content pre {margin: 0.2em;color: black;border-radius: 0.25em;background-color: #f0f8ff;}#sk-container-id-10 input.sk-toggleable__control:checked~div.sk-toggleable__content {max-height: 200px;max-width: 100%;overflow: auto;}#sk-container-id-10 input.sk-toggleable__control:checked~label.sk-toggleable__label-arrow:before {content: \"▾\";}#sk-container-id-10 div.sk-estimator input.sk-toggleable__control:checked~label.sk-toggleable__label {background-color: #d4ebff;}#sk-container-id-10 div.sk-label input.sk-toggleable__control:checked~label.sk-toggleable__label {background-color: #d4ebff;}#sk-container-id-10 input.sk-hidden--visually {border: 0;clip: rect(1px 1px 1px 1px);clip: rect(1px, 1px, 1px, 1px);height: 1px;margin: -1px;overflow: hidden;padding: 0;position: absolute;width: 1px;}#sk-container-id-10 div.sk-estimator {font-family: monospace;background-color: #f0f8ff;border: 1px dotted black;border-radius: 0.25em;box-sizing: border-box;margin-bottom: 0.5em;}#sk-container-id-10 div.sk-estimator:hover {background-color: #d4ebff;}#sk-container-id-10 div.sk-parallel-item::after {content: \"\";width: 100%;border-bottom: 1px solid gray;flex-grow: 1;}#sk-container-id-10 div.sk-label:hover label.sk-toggleable__label {background-color: #d4ebff;}#sk-container-id-10 div.sk-serial::before {content: \"\";position: absolute;border-left: 1px solid gray;box-sizing: border-box;top: 0;bottom: 0;left: 50%;z-index: 0;}#sk-container-id-10 div.sk-serial {display: flex;flex-direction: column;align-items: center;background-color: white;padding-right: 0.2em;padding-left: 0.2em;position: relative;}#sk-container-id-10 div.sk-item {position: relative;z-index: 1;}#sk-container-id-10 div.sk-parallel {display: flex;align-items: stretch;justify-content: center;background-color: white;position: relative;}#sk-container-id-10 div.sk-item::before, #sk-container-id-10 div.sk-parallel-item::before {content: \"\";position: absolute;border-left: 1px solid gray;box-sizing: border-box;top: 0;bottom: 0;left: 50%;z-index: -1;}#sk-container-id-10 div.sk-parallel-item {display: flex;flex-direction: column;z-index: 1;position: relative;background-color: white;}#sk-container-id-10 div.sk-parallel-item:first-child::after {align-self: flex-end;width: 50%;}#sk-container-id-10 div.sk-parallel-item:last-child::after {align-self: flex-start;width: 50%;}#sk-container-id-10 div.sk-parallel-item:only-child::after {width: 0;}#sk-container-id-10 div.sk-dashed-wrapped {border: 1px dashed gray;margin: 0 0.4em 0.5em 0.4em;box-sizing: border-box;padding-bottom: 0.4em;background-color: white;}#sk-container-id-10 div.sk-label label {font-family: monospace;font-weight: bold;display: inline-block;line-height: 1.2em;}#sk-container-id-10 div.sk-label-container {text-align: center;}#sk-container-id-10 div.sk-container {/* jupyter's `normalize.less` sets `[hidden] { display: none; }` but bootstrap.min.css set `[hidden] { display: none !important; }` so we also need the `!important` here to be able to override the default hidden behavior on the sphinx rendered scikit-learn.org. See: https://github.com/scikit-learn/scikit-learn/issues/21755 */display: inline-block !important;position: relative;}#sk-container-id-10 div.sk-text-repr-fallback {display: none;}</style><div id=\"sk-container-id-10\" class=\"sk-top-container\"><div class=\"sk-text-repr-fallback\"><pre>GridSearchCV(cv=10,\n",
       "             estimator=XGBClassifier(base_score=None, booster=None,\n",
       "                                     callbacks=None, colsample_bylevel=None,\n",
       "                                     colsample_bynode=None,\n",
       "                                     colsample_bytree=None,\n",
       "                                     early_stopping_rounds=None,\n",
       "                                     enable_categorical=False, eval_metric=None,\n",
       "                                     feature_types=None, gamma=None,\n",
       "                                     gpu_id=None, grow_policy=None,\n",
       "                                     importance_type=None,\n",
       "                                     interaction_constraints=None,\n",
       "                                     learning_rate=None...\n",
       "                                     max_delta_step=None, max_depth=None,\n",
       "                                     max_leaves=None, min_child_weight=None,\n",
       "                                     missing=nan, monotone_constraints=None,\n",
       "                                     n_estimators=100, n_jobs=None,\n",
       "                                     num_parallel_tree=None, predictor=None,\n",
       "                                     random_state=None, ...),\n",
       "             n_jobs=8,\n",
       "             param_grid={&#x27;colsample_bylevel&#x27;: [0.7, 0.8],\n",
       "                         &#x27;colsample_bytree&#x27;: [0.8], &#x27;gamma&#x27;: [0],\n",
       "                         &#x27;max_depth&#x27;: [3, 4, 5], &#x27;min_child_weight&#x27;: [1],\n",
       "                         &#x27;n_estimators&#x27;: [60, 70, 80]},\n",
       "             scoring=&#x27;accuracy&#x27;)</pre><b>In a Jupyter environment, please rerun this cell to show the HTML representation or trust the notebook. <br />On GitHub, the HTML representation is unable to render, please try loading this page with nbviewer.org.</b></div><div class=\"sk-container\" hidden><div class=\"sk-item sk-dashed-wrapped\"><div class=\"sk-label-container\"><div class=\"sk-label sk-toggleable\"><input class=\"sk-toggleable__control sk-hidden--visually\" id=\"sk-estimator-id-28\" type=\"checkbox\" ><label for=\"sk-estimator-id-28\" class=\"sk-toggleable__label sk-toggleable__label-arrow\">GridSearchCV</label><div class=\"sk-toggleable__content\"><pre>GridSearchCV(cv=10,\n",
       "             estimator=XGBClassifier(base_score=None, booster=None,\n",
       "                                     callbacks=None, colsample_bylevel=None,\n",
       "                                     colsample_bynode=None,\n",
       "                                     colsample_bytree=None,\n",
       "                                     early_stopping_rounds=None,\n",
       "                                     enable_categorical=False, eval_metric=None,\n",
       "                                     feature_types=None, gamma=None,\n",
       "                                     gpu_id=None, grow_policy=None,\n",
       "                                     importance_type=None,\n",
       "                                     interaction_constraints=None,\n",
       "                                     learning_rate=None...\n",
       "                                     max_delta_step=None, max_depth=None,\n",
       "                                     max_leaves=None, min_child_weight=None,\n",
       "                                     missing=nan, monotone_constraints=None,\n",
       "                                     n_estimators=100, n_jobs=None,\n",
       "                                     num_parallel_tree=None, predictor=None,\n",
       "                                     random_state=None, ...),\n",
       "             n_jobs=8,\n",
       "             param_grid={&#x27;colsample_bylevel&#x27;: [0.7, 0.8],\n",
       "                         &#x27;colsample_bytree&#x27;: [0.8], &#x27;gamma&#x27;: [0],\n",
       "                         &#x27;max_depth&#x27;: [3, 4, 5], &#x27;min_child_weight&#x27;: [1],\n",
       "                         &#x27;n_estimators&#x27;: [60, 70, 80]},\n",
       "             scoring=&#x27;accuracy&#x27;)</pre></div></div></div><div class=\"sk-parallel\"><div class=\"sk-parallel-item\"><div class=\"sk-item\"><div class=\"sk-label-container\"><div class=\"sk-label sk-toggleable\"><input class=\"sk-toggleable__control sk-hidden--visually\" id=\"sk-estimator-id-29\" type=\"checkbox\" ><label for=\"sk-estimator-id-29\" class=\"sk-toggleable__label sk-toggleable__label-arrow\">estimator: XGBClassifier</label><div class=\"sk-toggleable__content\"><pre>XGBClassifier(base_score=None, booster=None, callbacks=None,\n",
       "              colsample_bylevel=None, colsample_bynode=None,\n",
       "              colsample_bytree=None, early_stopping_rounds=None,\n",
       "              enable_categorical=False, eval_metric=None, feature_types=None,\n",
       "              gamma=None, gpu_id=None, grow_policy=None, importance_type=None,\n",
       "              interaction_constraints=None, learning_rate=None, max_bin=None,\n",
       "              max_cat_threshold=None, max_cat_to_onehot=None,\n",
       "              max_delta_step=None, max_depth=None, max_leaves=None,\n",
       "              min_child_weight=None, missing=nan, monotone_constraints=None,\n",
       "              n_estimators=100, n_jobs=None, num_parallel_tree=None,\n",
       "              predictor=None, random_state=None, ...)</pre></div></div></div><div class=\"sk-serial\"><div class=\"sk-item\"><div class=\"sk-estimator sk-toggleable\"><input class=\"sk-toggleable__control sk-hidden--visually\" id=\"sk-estimator-id-30\" type=\"checkbox\" ><label for=\"sk-estimator-id-30\" class=\"sk-toggleable__label sk-toggleable__label-arrow\">XGBClassifier</label><div class=\"sk-toggleable__content\"><pre>XGBClassifier(base_score=None, booster=None, callbacks=None,\n",
       "              colsample_bylevel=None, colsample_bynode=None,\n",
       "              colsample_bytree=None, early_stopping_rounds=None,\n",
       "              enable_categorical=False, eval_metric=None, feature_types=None,\n",
       "              gamma=None, gpu_id=None, grow_policy=None, importance_type=None,\n",
       "              interaction_constraints=None, learning_rate=None, max_bin=None,\n",
       "              max_cat_threshold=None, max_cat_to_onehot=None,\n",
       "              max_delta_step=None, max_depth=None, max_leaves=None,\n",
       "              min_child_weight=None, missing=nan, monotone_constraints=None,\n",
       "              n_estimators=100, n_jobs=None, num_parallel_tree=None,\n",
       "              predictor=None, random_state=None, ...)</pre></div></div></div></div></div></div></div></div></div></div>"
      ],
      "text/plain": [
       "GridSearchCV(cv=10,\n",
       "             estimator=XGBClassifier(base_score=None, booster=None,\n",
       "                                     callbacks=None, colsample_bylevel=None,\n",
       "                                     colsample_bynode=None,\n",
       "                                     colsample_bytree=None,\n",
       "                                     early_stopping_rounds=None,\n",
       "                                     enable_categorical=False, eval_metric=None,\n",
       "                                     feature_types=None, gamma=None,\n",
       "                                     gpu_id=None, grow_policy=None,\n",
       "                                     importance_type=None,\n",
       "                                     interaction_constraints=None,\n",
       "                                     learning_rate=None...\n",
       "                                     max_delta_step=None, max_depth=None,\n",
       "                                     max_leaves=None, min_child_weight=None,\n",
       "                                     missing=nan, monotone_constraints=None,\n",
       "                                     n_estimators=100, n_jobs=None,\n",
       "                                     num_parallel_tree=None, predictor=None,\n",
       "                                     random_state=None, ...),\n",
       "             n_jobs=8,\n",
       "             param_grid={'colsample_bylevel': [0.7, 0.8],\n",
       "                         'colsample_bytree': [0.8], 'gamma': [0],\n",
       "                         'max_depth': [3, 4, 5], 'min_child_weight': [1],\n",
       "                         'n_estimators': [60, 70, 80]},\n",
       "             scoring='accuracy')"
      ]
     },
     "execution_count": 64,
     "metadata": {},
     "output_type": "execute_result"
    }
   ],
   "source": [
    "parameters3 = {\n",
    "    'max_depth':[3, 4, 5,],\n",
    "    'min_child_weight':[1],\n",
    "    'gamma':[0],\n",
    "    'colsample_bytree':[0.8,],\n",
    "    'colsample_bylevel':[0.7, 0.8,],\n",
    "    'n_estimators':[60, 70, 80],\n",
    "}\n",
    "\n",
    "GS_xgb3=GridSearchCV(xgb_model, param_grid=parameters3, cv=10, n_jobs=n_thread, scoring=\"accuracy\")\n",
    "GS_xgb3.fit(x_train, y_train)"
   ]
  },
  {
   "cell_type": "code",
   "execution_count": 65,
   "id": "33f5b633",
   "metadata": {},
   "outputs": [
    {
     "name": "stdout",
     "output_type": "stream",
     "text": [
      "final params {'colsample_bylevel': 0.8, 'colsample_bytree': 0.8, 'gamma': 0, 'max_depth': 3, 'min_child_weight': 1, 'n_estimators': 70}\n",
      "best score 0.9883995037220844\n"
     ]
    }
   ],
   "source": [
    "print('final params', GS_xgb3.best_params_)\n",
    "print('best score', GS_xgb3.best_score_)"
   ]
  },
  {
   "cell_type": "code",
   "execution_count": 67,
   "id": "7bc9ef46",
   "metadata": {},
   "outputs": [
    {
     "name": "stdout",
     "output_type": "stream",
     "text": [
      "[[311   0]\n",
      " [  5  73]]\n",
      "              precision    recall  f1-score   support\n",
      "\n",
      "           0       0.98      1.00      0.99       311\n",
      "           1       1.00      0.94      0.97        78\n",
      "\n",
      "    accuracy                           0.99       389\n",
      "   macro avg       0.99      0.97      0.98       389\n",
      "weighted avg       0.99      0.99      0.99       389\n",
      "\n"
     ]
    }
   ],
   "source": [
    "predicted = GS_xgb2.predict(x_test)\n",
    "cMatrix=confusion_matrix(y_test, predicted)\n",
    "print(cMatrix)\n",
    "print(classification_report(y_test, predicted))"
   ]
  },
  {
   "cell_type": "code",
   "execution_count": null,
   "id": "063bfbe2",
   "metadata": {},
   "outputs": [],
   "source": [
    "\n"
   ]
  }
 ],
 "metadata": {
  "kernelspec": {
   "display_name": "Python 3 (ipykernel)",
   "language": "python",
   "name": "python3"
  },
  "language_info": {
   "codemirror_mode": {
    "name": "ipython",
    "version": 3
   },
   "file_extension": ".py",
   "mimetype": "text/x-python",
   "name": "python",
   "nbconvert_exporter": "python",
   "pygments_lexer": "ipython3",
   "version": "3.9.15"
  }
 },
 "nbformat": 4,
 "nbformat_minor": 5
}
