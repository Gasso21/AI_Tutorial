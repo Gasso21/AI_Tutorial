{
 "cells": [
  {
   "cell_type": "code",
   "execution_count": 1,
   "id": "08b745c3",
   "metadata": {},
   "outputs": [],
   "source": [
    "import pandas as pd\n",
    "import numpy as np\n",
    "import matplotlib.pyplot as plt\n",
    "import seaborn as sns\n",
    "import os"
   ]
  },
  {
   "cell_type": "code",
   "execution_count": 2,
   "id": "38b0c6f1",
   "metadata": {},
   "outputs": [],
   "source": [
    "os.environ['KAGGLE_USERNAME'] = 'gassojaehwan'\n",
    "os.environ['KAGGLE_KEY'] = 'a4579f4dc7ec62a3711492fd1eb33a2b'"
   ]
  },
  {
   "cell_type": "code",
   "execution_count": 7,
   "id": "79a95961",
   "metadata": {},
   "outputs": [
    {
     "name": "stdout",
     "output_type": "stream",
     "text": [
      "Downloading soccer.zip to /Users/jaehwan/Desktop/Git/Artificial-Intelligence/Kaggle/Soccer\n",
      " 95%|████████████████████████████████████  | 31.0M/32.7M [00:01<00:00, 31.9MB/s]\n",
      "100%|██████████████████████████████████████| 32.7M/32.7M [00:01<00:00, 30.9MB/s]\n",
      "Archive:  soccer.zip\n",
      "  inflating: database.sqlite         \n"
     ]
    }
   ],
   "source": [
    "!kaggle datasets download -d hugomathien/soccer\n",
    "!unzip '*.zip'"
   ]
  },
  {
   "cell_type": "markdown",
   "id": "36f6e391",
   "metadata": {},
   "source": [
    "### Database\n",
    "- RDB(관계형 데이터베이스)\n",
    "    - Table형태로 데이터를 저장 및 데이터들의 관계, 테이블들의 관계를 갖고 상관있는 데이터끼리 엮어서 같이 보는것\n",
    "    - MySQL\n",
    "    - Oracle\n",
    "    - ...\n",
    "- noSQl(비관계형 데이터베이스)\n",
    "    - 비정형 형태로 데이터를 관리\n",
    "    - json\n",
    "    - 특수한 형태에서 json형태로 데이터를 다루는게 용이한 경우도 있음\n",
    "\n",
    "SQL(Structured Query Language)\n",
    "- SQL을 이용해서 데이터베이스에 요청, 접근, 작업 등을 수행\n",
    "- 관계형 데이터베이스는 SQL언어를 사용해서 다룰 수 있음\n",
    "- 크게 3가지로 분류\n",
    "\n",
    "1) **영구적으로 저장하는 데이터베이스**\n",
    "- 서버에 저장해놓고 SQL로 접근\n",
    "\n",
    "2) **In-Memory**\n",
    "- 대표적으로 H2 Database가 있음\n",
    "- RAM에 데이터베이스를 만들어놓고 SQL언어로 통신\n",
    "- DataFrame으로 불러와서 다루던 방식\n",
    "\n",
    "3) **File System**\n",
    "- SQLite(MySQL의 가벼운 버전)\n",
    "- MySQL : 해당 서버를 실제로 실행시켜놓고 서버에 클라이언트로 접속해서 사용\n",
    "- SQLite : .sqlite 이라는 filesystem을 만들어 놓고, 여기에 sqlite접속 프로그램을 통해 접속하여 마치 sql서버에 접속하는것처럼 사용"
   ]
  },
  {
   "cell_type": "code",
   "execution_count": 8,
   "id": "c9685057",
   "metadata": {},
   "outputs": [],
   "source": [
    "import sqlite3"
   ]
  },
  {
   "cell_type": "code",
   "execution_count": 9,
   "id": "bb1ae7c8",
   "metadata": {},
   "outputs": [],
   "source": [
    "conn = sqlite3.connect('database.sqlite') #Connectivity\n",
    "df_country = pd.read_sql_query('SELECT * from Country', conn)\n",
    "df_league = pd.read_sql_query('SELECT * from League', conn)\n",
    "df_match = pd.read_sql_query('SELECT * from Match', conn)\n",
    "df_player = pd.read_sql_query('SELECT * from Player', conn)\n",
    "df_player_att = pd.read_sql_query('SELECT * from Player_Attributes', conn)\n",
    "df_team = pd.read_sql_query('SELECT * from Team', conn)\n",
    "df_team_att = pd.read_sql_query('SELECT * from Team_Attributes', conn)"
   ]
  },
  {
   "cell_type": "code",
   "execution_count": null,
   "id": "9a4d856b",
   "metadata": {},
   "outputs": [],
   "source": []
  }
 ],
 "metadata": {
  "kernelspec": {
   "display_name": "Python 3 (ipykernel)",
   "language": "python",
   "name": "python3"
  },
  "language_info": {
   "codemirror_mode": {
    "name": "ipython",
    "version": 3
   },
   "file_extension": ".py",
   "mimetype": "text/x-python",
   "name": "python",
   "nbconvert_exporter": "python",
   "pygments_lexer": "ipython3",
   "version": "3.9.12"
  }
 },
 "nbformat": 4,
 "nbformat_minor": 5
}
