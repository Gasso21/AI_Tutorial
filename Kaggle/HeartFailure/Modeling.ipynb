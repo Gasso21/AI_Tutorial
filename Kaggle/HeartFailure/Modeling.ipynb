{
 "cells": [
  {
   "cell_type": "markdown",
   "id": "1d32d875",
   "metadata": {},
   "source": [
    "# Heart Failure Prediction\n",
    "\n",
    "**Reference**\n",
    "- [Heart Fail:Analysis and Quick-prediction (NAYAN SAKHIYA)](https://www.kaggle.com/code/nayansakhiya/heart-fail-analysis-and-quick-prediction)"
   ]
  },
  {
   "cell_type": "code",
   "execution_count": 1,
   "id": "9b66b2fe",
   "metadata": {},
   "outputs": [
    {
     "name": "stdout",
     "output_type": "stream",
     "text": [
      "Once deleted, variables cannot be recovered. Proceed (y/[n])? y\n"
     ]
    }
   ],
   "source": [
    "%reset"
   ]
  },
  {
   "cell_type": "markdown",
   "id": "141d8ebc",
   "metadata": {},
   "source": [
    "## Data Preprocessing"
   ]
  },
  {
   "cell_type": "code",
   "execution_count": 12,
   "id": "b566182c",
   "metadata": {},
   "outputs": [
    {
     "data": {
      "text/html": [
       "<div>\n",
       "<style scoped>\n",
       "    .dataframe tbody tr th:only-of-type {\n",
       "        vertical-align: middle;\n",
       "    }\n",
       "\n",
       "    .dataframe tbody tr th {\n",
       "        vertical-align: top;\n",
       "    }\n",
       "\n",
       "    .dataframe thead th {\n",
       "        text-align: right;\n",
       "    }\n",
       "</style>\n",
       "<table border=\"1\" class=\"dataframe\">\n",
       "  <thead>\n",
       "    <tr style=\"text-align: right;\">\n",
       "      <th></th>\n",
       "      <th>age</th>\n",
       "      <th>anaemia</th>\n",
       "      <th>creatinine_phosphokinase</th>\n",
       "      <th>diabetes</th>\n",
       "      <th>ejection_fraction</th>\n",
       "      <th>high_blood_pressure</th>\n",
       "      <th>platelets</th>\n",
       "      <th>serum_creatinine</th>\n",
       "      <th>serum_sodium</th>\n",
       "      <th>sex</th>\n",
       "      <th>smoking</th>\n",
       "      <th>time</th>\n",
       "    </tr>\n",
       "  </thead>\n",
       "  <tbody>\n",
       "    <tr>\n",
       "      <th>0</th>\n",
       "      <td>1.201844</td>\n",
       "      <td>0</td>\n",
       "      <td>0.223304</td>\n",
       "      <td>0</td>\n",
       "      <td>-1.528286</td>\n",
       "      <td>1</td>\n",
       "      <td>0.020103</td>\n",
       "      <td>0.519997</td>\n",
       "      <td>-1.493845</td>\n",
       "      <td>1</td>\n",
       "      <td>0</td>\n",
       "      <td>-1.643285</td>\n",
       "    </tr>\n",
       "    <tr>\n",
       "      <th>2</th>\n",
       "      <td>0.352251</td>\n",
       "      <td>0</td>\n",
       "      <td>-0.586694</td>\n",
       "      <td>0</td>\n",
       "      <td>-1.528286</td>\n",
       "      <td>0</td>\n",
       "      <td>-1.026546</td>\n",
       "      <td>-0.083297</td>\n",
       "      <td>-1.720915</td>\n",
       "      <td>1</td>\n",
       "      <td>1</td>\n",
       "      <td>-1.604649</td>\n",
       "    </tr>\n",
       "    <tr>\n",
       "      <th>3</th>\n",
       "      <td>-0.922138</td>\n",
       "      <td>1</td>\n",
       "      <td>-0.651717</td>\n",
       "      <td>0</td>\n",
       "      <td>-1.528286</td>\n",
       "      <td>0</td>\n",
       "      <td>-0.538788</td>\n",
       "      <td>0.519997</td>\n",
       "      <td>0.095650</td>\n",
       "      <td>1</td>\n",
       "      <td>0</td>\n",
       "      <td>-1.604649</td>\n",
       "    </tr>\n",
       "    <tr>\n",
       "      <th>4</th>\n",
       "      <td>0.352251</td>\n",
       "      <td>1</td>\n",
       "      <td>-0.560685</td>\n",
       "      <td>1</td>\n",
       "      <td>-1.528286</td>\n",
       "      <td>0</td>\n",
       "      <td>0.650125</td>\n",
       "      <td>1.324389</td>\n",
       "      <td>-4.672833</td>\n",
       "      <td>0</td>\n",
       "      <td>0</td>\n",
       "      <td>-1.591771</td>\n",
       "    </tr>\n",
       "    <tr>\n",
       "      <th>5</th>\n",
       "      <td>2.476233</td>\n",
       "      <td>1</td>\n",
       "      <td>-0.770615</td>\n",
       "      <td>0</td>\n",
       "      <td>0.161451</td>\n",
       "      <td>1</td>\n",
       "      <td>-0.599757</td>\n",
       "      <td>0.721095</td>\n",
       "      <td>-1.039703</td>\n",
       "      <td>1</td>\n",
       "      <td>1</td>\n",
       "      <td>-1.591771</td>\n",
       "    </tr>\n",
       "    <tr>\n",
       "      <th>6</th>\n",
       "      <td>1.201844</td>\n",
       "      <td>1</td>\n",
       "      <td>-0.400914</td>\n",
       "      <td>0</td>\n",
       "      <td>-1.950720</td>\n",
       "      <td>0</td>\n",
       "      <td>-1.382204</td>\n",
       "      <td>-0.183846</td>\n",
       "      <td>0.095650</td>\n",
       "      <td>1</td>\n",
       "      <td>0</td>\n",
       "      <td>-1.566014</td>\n",
       "    </tr>\n",
       "    <tr>\n",
       "      <th>7</th>\n",
       "      <td>-0.072545</td>\n",
       "      <td>1</td>\n",
       "      <td>-0.272727</td>\n",
       "      <td>1</td>\n",
       "      <td>1.851187</td>\n",
       "      <td>0</td>\n",
       "      <td>1.940653</td>\n",
       "      <td>-0.284395</td>\n",
       "      <td>-1.266774</td>\n",
       "      <td>1</td>\n",
       "      <td>1</td>\n",
       "      <td>-1.566014</td>\n",
       "    </tr>\n",
       "    <tr>\n",
       "      <th>8</th>\n",
       "      <td>0.352251</td>\n",
       "      <td>0</td>\n",
       "      <td>-0.566258</td>\n",
       "      <td>0</td>\n",
       "      <td>2.273621</td>\n",
       "      <td>0</td>\n",
       "      <td>0.003418</td>\n",
       "      <td>0.117801</td>\n",
       "      <td>0.322720</td>\n",
       "      <td>0</td>\n",
       "      <td>0</td>\n",
       "      <td>-1.566014</td>\n",
       "    </tr>\n",
       "    <tr>\n",
       "      <th>9</th>\n",
       "      <td>1.626640</td>\n",
       "      <td>1</td>\n",
       "      <td>-0.629423</td>\n",
       "      <td>0</td>\n",
       "      <td>-0.260983</td>\n",
       "      <td>1</td>\n",
       "      <td>1.269985</td>\n",
       "      <td>8.061176</td>\n",
       "      <td>-0.812633</td>\n",
       "      <td>1</td>\n",
       "      <td>1</td>\n",
       "      <td>-1.566014</td>\n",
       "    </tr>\n",
       "    <tr>\n",
       "      <th>10</th>\n",
       "      <td>1.201844</td>\n",
       "      <td>1</td>\n",
       "      <td>-0.707450</td>\n",
       "      <td>0</td>\n",
       "      <td>-0.007523</td>\n",
       "      <td>1</td>\n",
       "      <td>1.066752</td>\n",
       "      <td>2.631527</td>\n",
       "      <td>-1.266774</td>\n",
       "      <td>1</td>\n",
       "      <td>1</td>\n",
       "      <td>-1.566014</td>\n",
       "    </tr>\n",
       "  </tbody>\n",
       "</table>\n",
       "</div>"
      ],
      "text/plain": [
       "         age  anaemia  creatinine_phosphokinase  diabetes  ejection_fraction  \\\n",
       "0   1.201844        0                  0.223304         0          -1.528286   \n",
       "2   0.352251        0                 -0.586694         0          -1.528286   \n",
       "3  -0.922138        1                 -0.651717         0          -1.528286   \n",
       "4   0.352251        1                 -0.560685         1          -1.528286   \n",
       "5   2.476233        1                 -0.770615         0           0.161451   \n",
       "6   1.201844        1                 -0.400914         0          -1.950720   \n",
       "7  -0.072545        1                 -0.272727         1           1.851187   \n",
       "8   0.352251        0                 -0.566258         0           2.273621   \n",
       "9   1.626640        1                 -0.629423         0          -0.260983   \n",
       "10  1.201844        1                 -0.707450         0          -0.007523   \n",
       "\n",
       "    high_blood_pressure  platelets  serum_creatinine  serum_sodium  sex  \\\n",
       "0                     1   0.020103          0.519997     -1.493845    1   \n",
       "2                     0  -1.026546         -0.083297     -1.720915    1   \n",
       "3                     0  -0.538788          0.519997      0.095650    1   \n",
       "4                     0   0.650125          1.324389     -4.672833    0   \n",
       "5                     1  -0.599757          0.721095     -1.039703    1   \n",
       "6                     0  -1.382204         -0.183846      0.095650    1   \n",
       "7                     0   1.940653         -0.284395     -1.266774    1   \n",
       "8                     0   0.003418          0.117801      0.322720    0   \n",
       "9                     1   1.269985          8.061176     -0.812633    1   \n",
       "10                    1   1.066752          2.631527     -1.266774    1   \n",
       "\n",
       "    smoking      time  \n",
       "0         0 -1.643285  \n",
       "2         1 -1.604649  \n",
       "3         0 -1.604649  \n",
       "4         0 -1.591771  \n",
       "5         1 -1.591771  \n",
       "6         0 -1.566014  \n",
       "7         1 -1.566014  \n",
       "8         0 -1.566014  \n",
       "9         1 -1.566014  \n",
       "10        1 -1.566014  "
      ]
     },
     "execution_count": 12,
     "metadata": {},
     "output_type": "execute_result"
    }
   ],
   "source": [
    "import numpy as np\n",
    "import pandas as pd\n",
    "from sklearn.preprocessing import StandardScaler\n",
    "\n",
    "df = pd.read_csv('./heart_failure_clinical_records_dataset.csv')\n",
    "df = df.drop(df.loc[df['creatinine_phosphokinase']>3000].index, axis=0)\n",
    "# df = pd.get_dummies(df)\n",
    "\n",
    "float_columns = [x for x in df.columns if x not in ['anaemia', 'diabetes', 'high_blood_pressure', 'sex', 'smoking', 'DEATH_EVENT']]\n",
    "sc = StandardScaler()\n",
    "df2 = df.copy()\n",
    "df[float_columns] = sc.fit_transform(df[float_columns])\n",
    "\n",
    "#df.to_csv('Heart_Failure_scaled.csv', encoding='utf-8-sig')\n",
    "\n",
    "X = df.drop(['DEATH_EVENT'], axis=1)\n",
    "T = df['DEATH_EVENT']\n",
    "X.head(10)"
   ]
  },
  {
   "cell_type": "markdown",
   "id": "68fca00a",
   "metadata": {},
   "source": [
    "## Train Test Split"
   ]
  },
  {
   "cell_type": "code",
   "execution_count": 13,
   "id": "dc6fcd83",
   "metadata": {},
   "outputs": [],
   "source": [
    "from sklearn.model_selection import train_test_split\n",
    "\n",
    "Features = ['age', 'ejection_fraction', 'serum_creatinine']\n",
    "x_train, x_test, y_train, y_test = train_test_split(X, T, test_size=0.2, random_state=40)"
   ]
  },
  {
   "cell_type": "markdown",
   "id": "f79aea80",
   "metadata": {},
   "source": [
    "## Modeling"
   ]
  },
  {
   "cell_type": "markdown",
   "id": "9d4e2777",
   "metadata": {},
   "source": [
    "### Logistic Regression"
   ]
  },
  {
   "cell_type": "code",
   "execution_count": 27,
   "id": "7d2e7aa6",
   "metadata": {},
   "outputs": [],
   "source": [
    "from sklearn.linear_model import LogisticRegression"
   ]
  },
  {
   "cell_type": "markdown",
   "id": "3912ed71",
   "metadata": {},
   "source": [
    "### Support Vector"
   ]
  },
  {
   "cell_type": "code",
   "execution_count": 28,
   "id": "783d7fd1",
   "metadata": {},
   "outputs": [],
   "source": [
    "from sklearn.svm import SVC"
   ]
  },
  {
   "cell_type": "markdown",
   "id": "9d1a7ded",
   "metadata": {},
   "source": [
    "### K Neighbors Classifier"
   ]
  },
  {
   "cell_type": "code",
   "execution_count": 29,
   "id": "f804392e",
   "metadata": {},
   "outputs": [],
   "source": [
    "from sklearn.neighbors import KNeighborsClassifier"
   ]
  },
  {
   "cell_type": "markdown",
   "id": "bebded7b",
   "metadata": {},
   "source": [
    "### Decision Tree Classifier"
   ]
  },
  {
   "cell_type": "code",
   "execution_count": 30,
   "id": "75ebd944",
   "metadata": {},
   "outputs": [],
   "source": [
    "from sklearn.tree import DecisionTreeClassifier"
   ]
  },
  {
   "cell_type": "markdown",
   "id": "23345058",
   "metadata": {},
   "source": [
    "### Random Forest Classifier"
   ]
  },
  {
   "cell_type": "code",
   "execution_count": 31,
   "id": "2637fff2",
   "metadata": {},
   "outputs": [],
   "source": [
    "from sklearn.ensemble import RandomForestClassifier"
   ]
  },
  {
   "cell_type": "markdown",
   "id": "194ba8a8",
   "metadata": {},
   "source": [
    "### Gradient Boosting Classifier"
   ]
  },
  {
   "cell_type": "code",
   "execution_count": 32,
   "id": "c1b15044",
   "metadata": {},
   "outputs": [],
   "source": [
    "from sklearn.ensemble import GradientBoostingClassifier"
   ]
  },
  {
   "cell_type": "markdown",
   "id": "a529664a",
   "metadata": {},
   "source": [
    "### XGBRF Classifier"
   ]
  },
  {
   "cell_type": "code",
   "execution_count": 37,
   "id": "cc15c719",
   "metadata": {},
   "outputs": [],
   "source": [
    "import xgboost as xgb"
   ]
  },
  {
   "cell_type": "markdown",
   "id": "78af5b88",
   "metadata": {},
   "source": [
    "### LGBM Classifier\n",
    "\n",
    "\n",
    "[**Reference...**](https://nurilee.com/2020/04/03/lightgbm-definition-parameter-tuning/)\n",
    "- **Gradient Boosting Framework**\n",
    "- ML Algorithm based on **Tree Model**\n",
    "    - Light GBM: **Tree가 수직적으로 확장**\n",
    "        - Leaf-wise 방식\n",
    "        <img src=\"./Leaf_wise_tree_growth.png\" width=\"500px\" height=\"400px\" title=\"Leaf_wise\"></img>\n",
    "    - Others: **Tree가 수평적으로 확장**\n",
    "        - Level-wise 방식\n",
    "        <img src=\"./Level_wise_tree_growth.png\" width=\"400px\" height=\"250px\" title=\"Level_wise\"></img>\n",
    "\n",
    "- **Light GBM이 인기를 얻게된 이유**\n",
    "    - 속도가 빠름\n",
    "    - 큰 사이즈의 데이터를 다룰 수 있으며 적은 메모리 공간을 차지\n",
    "    - 정확도가 높음\n",
    "    - GPU gkrtmqdmf wldnjs\n",
    "- **Light GBM 사용처**\n",
    "    - 작은 데이터셋에는 부적합\n",
    "    - Overfitting에 민감\n",
    "    - row size에 대한 제한은 없으나 10,000개 이상에 권장\n",
    "- **Light GBM 구현**\n",
    "    - Parameter tuning이 복잡 (100개 이상)"
   ]
  },
  {
   "cell_type": "markdown",
   "id": "07733350",
   "metadata": {},
   "source": [
    "**Parameters**  \n",
    "- `max_depth`: \n",
    "    - Tree의 최대 깊이. 과적합을 해결할 때 사용\n",
    "- `min_data_in_leaf`: \n",
    "    - Leaf가 가지고 있는 최소한의 레코드 수\n",
    "    - 과적합을 해결할 때 사용\n",
    "    - *deafult value 20\n",
    "- `feature_fraction`:\n",
    "    - Boosting이 Random Forest일 경우 사용\n",
    "    - **0.8 feature_fraction**\n",
    "        - Light GBMdl Tree를 만들 때 매번 각각의 iteration 반복에서 파라미터 중에 80%를 랜덤하게 선택\n",
    "- `bagging_fraction`:\n",
    "    - 매번 iteration을 돌 때 사용되는 데이터의 일부를 선택하는데 트레이닝 속도를 높이고 과적합을 방지할 때 주로 사용\n",
    "- `early_stopping_round`:\n",
    "    - 분석 속도를 높이는데 도움을 줌\n",
    "    - 모델은 만약 어떤 validation 데이터 중 하나의 지표가 지난 early_stopping_round 라운드에서 향상되지 않았다면 학습을 중단함\n",
    "        - 이는 지나친 iteration을 줄이는데 도움을 줌\n",
    "- `lambda`:\n",
    "    - lambda값은 regularization 정규화를 함\n",
    "    - 0~1 사이\n",
    "- `min_gain_to_split`:\n",
    "    - 분기하기 위해 필요한 최소한의 gain을 의미\n",
    "    - Tree의 유용한 분기수를 컨트롤하는데 사용\n",
    "- `max_cat_group`:\n",
    "    - 카테고리 수가 클 때, 과적합을 방지하는 분기포인트를 찾음\n",
    "    - Light GBM 알고리즘이 카테고리 그룹을 max_cat_group 그룹으로 합치고 그룹 경계선에서 분기 포인트를 찾음\n",
    "    - *default value 64\n",
    "    \n",
    "**Core Parameters**\n",
    "- `Task`:\n",
    "    - 데이터에 대해서 수행하고자 하는 임무를 구체화\n",
    "    - training or prediction\n",
    "- `application`:\n",
    "    - 가장 중요한 파라미터로, 모델의 어플리케이션을 정함\n",
    "    - regression or classification\n",
    "    - dafault value $\\text{regression}$\n",
    "        - regression: 회귀분석\n",
    "        - binary: 이진 분류\n",
    "        - multiclass: 다중 분류\n",
    "- `boosting`:\n",
    "    - 실행하고자 하는 알고리즘 타입을 정의"
   ]
  },
  {
   "cell_type": "code",
   "execution_count": 34,
   "id": "472a4518",
   "metadata": {},
   "outputs": [
    {
     "ename": "ModuleNotFoundError",
     "evalue": "No module named 'lightgbm'",
     "output_type": "error",
     "traceback": [
      "\u001b[0;31m---------------------------------------------------------------------------\u001b[0m",
      "\u001b[0;31mModuleNotFoundError\u001b[0m                       Traceback (most recent call last)",
      "Input \u001b[0;32mIn [34]\u001b[0m, in \u001b[0;36m<cell line: 1>\u001b[0;34m()\u001b[0m\n\u001b[0;32m----> 1\u001b[0m \u001b[38;5;28;01mimport\u001b[39;00m \u001b[38;5;21;01mlightgbm\u001b[39;00m\n",
      "\u001b[0;31mModuleNotFoundError\u001b[0m: No module named 'lightgbm'"
     ]
    }
   ],
   "source": [
    "import lightgbm"
   ]
  },
  {
   "cell_type": "markdown",
   "id": "d00fd308",
   "metadata": {},
   "source": [
    "### Cat Boost Classifier"
   ]
  },
  {
   "cell_type": "code",
   "execution_count": 35,
   "id": "5c152c8e",
   "metadata": {},
   "outputs": [
    {
     "ename": "ModuleNotFoundError",
     "evalue": "No module named 'catboost'",
     "output_type": "error",
     "traceback": [
      "\u001b[0;31m---------------------------------------------------------------------------\u001b[0m",
      "\u001b[0;31mModuleNotFoundError\u001b[0m                       Traceback (most recent call last)",
      "Input \u001b[0;32mIn [35]\u001b[0m, in \u001b[0;36m<cell line: 1>\u001b[0;34m()\u001b[0m\n\u001b[0;32m----> 1\u001b[0m \u001b[38;5;28;01mfrom\u001b[39;00m \u001b[38;5;21;01mcatboost\u001b[39;00m \u001b[38;5;28;01mimport\u001b[39;00m CatBoostClassifier\n",
      "\u001b[0;31mModuleNotFoundError\u001b[0m: No module named 'catboost'"
     ]
    }
   ],
   "source": [
    "from catboost import CatBoostClassifier"
   ]
  },
  {
   "cell_type": "code",
   "execution_count": null,
   "id": "055638b6",
   "metadata": {},
   "outputs": [],
   "source": []
  }
 ],
 "metadata": {
  "kernelspec": {
   "display_name": "Python 3 (ipykernel)",
   "language": "python",
   "name": "python3"
  },
  "language_info": {
   "codemirror_mode": {
    "name": "ipython",
    "version": 3
   },
   "file_extension": ".py",
   "mimetype": "text/x-python",
   "name": "python",
   "nbconvert_exporter": "python",
   "pygments_lexer": "ipython3",
   "version": "3.9.12"
  }
 },
 "nbformat": 4,
 "nbformat_minor": 5
}
