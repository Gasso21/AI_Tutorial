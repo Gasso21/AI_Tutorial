{
 "cells": [
  {
   "cell_type": "markdown",
   "id": "1d32d875",
   "metadata": {},
   "source": [
    "# Heart Failure Prediction\n",
    "\n",
    "**Reference**\n",
    "- [Heart Fail:Analysis and Quick-prediction (NAYAN SAKHIYA)](https://www.kaggle.com/code/nayansakhiya/heart-fail-analysis-and-quick-prediction)"
   ]
  },
  {
   "cell_type": "code",
   "execution_count": 1,
   "id": "9b66b2fe",
   "metadata": {},
   "outputs": [
    {
     "name": "stdout",
     "output_type": "stream",
     "text": [
      "Once deleted, variables cannot be recovered. Proceed (y/[n])? y\n"
     ]
    }
   ],
   "source": [
    "%reset"
   ]
  },
  {
   "cell_type": "markdown",
   "id": "141d8ebc",
   "metadata": {},
   "source": [
    "## Data Preprocessing"
   ]
  },
  {
   "cell_type": "code",
   "execution_count": 2,
   "id": "b566182c",
   "metadata": {},
   "outputs": [
    {
     "data": {
      "text/html": [
       "<div>\n",
       "<style scoped>\n",
       "    .dataframe tbody tr th:only-of-type {\n",
       "        vertical-align: middle;\n",
       "    }\n",
       "\n",
       "    .dataframe tbody tr th {\n",
       "        vertical-align: top;\n",
       "    }\n",
       "\n",
       "    .dataframe thead th {\n",
       "        text-align: right;\n",
       "    }\n",
       "</style>\n",
       "<table border=\"1\" class=\"dataframe\">\n",
       "  <thead>\n",
       "    <tr style=\"text-align: right;\">\n",
       "      <th></th>\n",
       "      <th>age</th>\n",
       "      <th>anaemia</th>\n",
       "      <th>creatinine_phosphokinase</th>\n",
       "      <th>diabetes</th>\n",
       "      <th>ejection_fraction</th>\n",
       "      <th>high_blood_pressure</th>\n",
       "      <th>platelets</th>\n",
       "      <th>serum_creatinine</th>\n",
       "      <th>serum_sodium</th>\n",
       "      <th>sex</th>\n",
       "      <th>smoking</th>\n",
       "      <th>time</th>\n",
       "    </tr>\n",
       "  </thead>\n",
       "  <tbody>\n",
       "    <tr>\n",
       "      <th>0</th>\n",
       "      <td>1.192945</td>\n",
       "      <td>0</td>\n",
       "      <td>0.000166</td>\n",
       "      <td>0</td>\n",
       "      <td>-1.530560</td>\n",
       "      <td>1</td>\n",
       "      <td>1.681648e-02</td>\n",
       "      <td>0.490057</td>\n",
       "      <td>-1.504036</td>\n",
       "      <td>1</td>\n",
       "      <td>0</td>\n",
       "      <td>-1.629502</td>\n",
       "    </tr>\n",
       "    <tr>\n",
       "      <th>1</th>\n",
       "      <td>-0.491279</td>\n",
       "      <td>0</td>\n",
       "      <td>7.514640</td>\n",
       "      <td>0</td>\n",
       "      <td>-0.007077</td>\n",
       "      <td>0</td>\n",
       "      <td>7.535660e-09</td>\n",
       "      <td>-0.284552</td>\n",
       "      <td>-0.141976</td>\n",
       "      <td>1</td>\n",
       "      <td>0</td>\n",
       "      <td>-1.603691</td>\n",
       "    </tr>\n",
       "    <tr>\n",
       "      <th>2</th>\n",
       "      <td>0.350833</td>\n",
       "      <td>0</td>\n",
       "      <td>-0.449939</td>\n",
       "      <td>0</td>\n",
       "      <td>-1.530560</td>\n",
       "      <td>0</td>\n",
       "      <td>-1.038073e+00</td>\n",
       "      <td>-0.090900</td>\n",
       "      <td>-1.731046</td>\n",
       "      <td>1</td>\n",
       "      <td>1</td>\n",
       "      <td>-1.590785</td>\n",
       "    </tr>\n",
       "    <tr>\n",
       "      <th>3</th>\n",
       "      <td>-0.912335</td>\n",
       "      <td>1</td>\n",
       "      <td>-0.486071</td>\n",
       "      <td>0</td>\n",
       "      <td>-1.530560</td>\n",
       "      <td>0</td>\n",
       "      <td>-5.464741e-01</td>\n",
       "      <td>0.490057</td>\n",
       "      <td>0.085034</td>\n",
       "      <td>1</td>\n",
       "      <td>0</td>\n",
       "      <td>-1.590785</td>\n",
       "    </tr>\n",
       "    <tr>\n",
       "      <th>4</th>\n",
       "      <td>0.350833</td>\n",
       "      <td>1</td>\n",
       "      <td>-0.435486</td>\n",
       "      <td>1</td>\n",
       "      <td>-1.530560</td>\n",
       "      <td>0</td>\n",
       "      <td>6.517986e-01</td>\n",
       "      <td>1.264666</td>\n",
       "      <td>-4.682176</td>\n",
       "      <td>0</td>\n",
       "      <td>0</td>\n",
       "      <td>-1.577879</td>\n",
       "    </tr>\n",
       "    <tr>\n",
       "      <th>5</th>\n",
       "      <td>2.456114</td>\n",
       "      <td>1</td>\n",
       "      <td>-0.552141</td>\n",
       "      <td>0</td>\n",
       "      <td>0.162199</td>\n",
       "      <td>1</td>\n",
       "      <td>-6.079240e-01</td>\n",
       "      <td>0.683709</td>\n",
       "      <td>-1.050016</td>\n",
       "      <td>1</td>\n",
       "      <td>1</td>\n",
       "      <td>-1.577879</td>\n",
       "    </tr>\n",
       "    <tr>\n",
       "      <th>6</th>\n",
       "      <td>1.192945</td>\n",
       "      <td>1</td>\n",
       "      <td>-0.346704</td>\n",
       "      <td>0</td>\n",
       "      <td>-1.953749</td>\n",
       "      <td>0</td>\n",
       "      <td>-1.396531e+00</td>\n",
       "      <td>-0.187726</td>\n",
       "      <td>0.085034</td>\n",
       "      <td>1</td>\n",
       "      <td>0</td>\n",
       "      <td>-1.552067</td>\n",
       "    </tr>\n",
       "    <tr>\n",
       "      <th>7</th>\n",
       "      <td>-0.070223</td>\n",
       "      <td>1</td>\n",
       "      <td>-0.275472</td>\n",
       "      <td>1</td>\n",
       "      <td>1.854958</td>\n",
       "      <td>0</td>\n",
       "      <td>1.952488e+00</td>\n",
       "      <td>-0.284552</td>\n",
       "      <td>-1.277026</td>\n",
       "      <td>1</td>\n",
       "      <td>1</td>\n",
       "      <td>-1.552067</td>\n",
       "    </tr>\n",
       "    <tr>\n",
       "      <th>8</th>\n",
       "      <td>0.350833</td>\n",
       "      <td>0</td>\n",
       "      <td>-0.438583</td>\n",
       "      <td>0</td>\n",
       "      <td>2.278147</td>\n",
       "      <td>0</td>\n",
       "      <td>7.535660e-09</td>\n",
       "      <td>0.102752</td>\n",
       "      <td>0.312044</td>\n",
       "      <td>0</td>\n",
       "      <td>0</td>\n",
       "      <td>-1.552067</td>\n",
       "    </tr>\n",
       "    <tr>\n",
       "      <th>9</th>\n",
       "      <td>1.614001</td>\n",
       "      <td>1</td>\n",
       "      <td>-0.473683</td>\n",
       "      <td>0</td>\n",
       "      <td>-0.260991</td>\n",
       "      <td>1</td>\n",
       "      <td>1.276539e+00</td>\n",
       "      <td>7.752020</td>\n",
       "      <td>-0.823006</td>\n",
       "      <td>1</td>\n",
       "      <td>1</td>\n",
       "      <td>-1.552067</td>\n",
       "    </tr>\n",
       "  </tbody>\n",
       "</table>\n",
       "</div>"
      ],
      "text/plain": [
       "        age  anaemia  creatinine_phosphokinase  diabetes  ejection_fraction  \\\n",
       "0  1.192945        0                  0.000166         0          -1.530560   \n",
       "1 -0.491279        0                  7.514640         0          -0.007077   \n",
       "2  0.350833        0                 -0.449939         0          -1.530560   \n",
       "3 -0.912335        1                 -0.486071         0          -1.530560   \n",
       "4  0.350833        1                 -0.435486         1          -1.530560   \n",
       "5  2.456114        1                 -0.552141         0           0.162199   \n",
       "6  1.192945        1                 -0.346704         0          -1.953749   \n",
       "7 -0.070223        1                 -0.275472         1           1.854958   \n",
       "8  0.350833        0                 -0.438583         0           2.278147   \n",
       "9  1.614001        1                 -0.473683         0          -0.260991   \n",
       "\n",
       "   high_blood_pressure     platelets  serum_creatinine  serum_sodium  sex  \\\n",
       "0                    1  1.681648e-02          0.490057     -1.504036    1   \n",
       "1                    0  7.535660e-09         -0.284552     -0.141976    1   \n",
       "2                    0 -1.038073e+00         -0.090900     -1.731046    1   \n",
       "3                    0 -5.464741e-01          0.490057      0.085034    1   \n",
       "4                    0  6.517986e-01          1.264666     -4.682176    0   \n",
       "5                    1 -6.079240e-01          0.683709     -1.050016    1   \n",
       "6                    0 -1.396531e+00         -0.187726      0.085034    1   \n",
       "7                    0  1.952488e+00         -0.284552     -1.277026    1   \n",
       "8                    0  7.535660e-09          0.102752      0.312044    0   \n",
       "9                    1  1.276539e+00          7.752020     -0.823006    1   \n",
       "\n",
       "   smoking      time  \n",
       "0        0 -1.629502  \n",
       "1        0 -1.603691  \n",
       "2        1 -1.590785  \n",
       "3        0 -1.590785  \n",
       "4        0 -1.577879  \n",
       "5        1 -1.577879  \n",
       "6        0 -1.552067  \n",
       "7        1 -1.552067  \n",
       "8        0 -1.552067  \n",
       "9        1 -1.552067  "
      ]
     },
     "execution_count": 2,
     "metadata": {},
     "output_type": "execute_result"
    }
   ],
   "source": [
    "import numpy as np\n",
    "import pandas as pd\n",
    "from sklearn.preprocessing import StandardScaler\n",
    "import warnings\n",
    "warnings.filterwarnings('ignore')\n",
    "\n",
    "df = pd.read_csv('./heart_failure_clinical_records_dataset.csv')\n",
    "#df = df.drop(df.loc[df['creatinine_phosphokinase']>3000].index, axis=0)\n",
    "#df = pd.get_dummies(df)\n",
    "\n",
    "float_columns = [x for x in df.columns if x not in ['anaemia', 'diabetes', 'high_blood_pressure', 'sex', 'smoking', 'DEATH_EVENT']]\n",
    "sc = StandardScaler()\n",
    "df2 = df.copy()\n",
    "df[float_columns] = sc.fit_transform(df[float_columns])\n",
    "\n",
    "#df.to_csv('Heart_Failure_scaled.csv', encoding='utf-8-sig')\n",
    "\n",
    "X = df.drop(['DEATH_EVENT'], axis=1)\n",
    "T = df['DEATH_EVENT']\n",
    "X.head(10)"
   ]
  },
  {
   "cell_type": "markdown",
   "id": "68fca00a",
   "metadata": {},
   "source": [
    "## Train Test Split"
   ]
  },
  {
   "cell_type": "code",
   "execution_count": 3,
   "id": "dc6fcd83",
   "metadata": {},
   "outputs": [
    {
     "name": "stdout",
     "output_type": "stream",
     "text": [
      "          age  ejection_fraction  serum_creatinine\n",
      "0    1.192945          -1.530560          0.490057\n",
      "1   -0.491279          -0.007077         -0.284552\n",
      "2    0.350833          -1.530560         -0.090900\n",
      "3   -0.912335          -1.530560          0.490057\n",
      "4    0.350833          -1.530560          1.264666\n",
      "..        ...                ...               ...\n",
      "294  0.098199          -0.007077         -0.284552\n",
      "295 -0.491279          -0.007077         -0.187726\n",
      "296 -1.333392           1.854958         -0.575031\n",
      "297 -1.333392          -0.007077          0.005926\n",
      "298 -0.912335           0.585389          0.199578\n",
      "\n",
      "[299 rows x 3 columns]\n"
     ]
    }
   ],
   "source": [
    "from sklearn.model_selection import train_test_split\n",
    "\n",
    "Features = ['age', 'ejection_fraction', 'serum_creatinine']\n",
    "X = df[Features]\n",
    "#X = df.drop(['time','DEATH_EVENT'], axis=1)\n",
    "print(X)\n",
    "x_train, x_test, y_train, y_test = train_test_split(X, T, test_size=0.3, random_state=1)"
   ]
  },
  {
   "cell_type": "markdown",
   "id": "f79aea80",
   "metadata": {},
   "source": [
    "## Modeling"
   ]
  },
  {
   "cell_type": "code",
   "execution_count": 4,
   "id": "1fe22459",
   "metadata": {},
   "outputs": [],
   "source": [
    "import matplotlib.pyplot as plt\n",
    "from mlxtend.plotting import plot_confusion_matrix\n",
    "from sklearn.metrics import confusion_matrix, accuracy_score, classification_report\n",
    "from colorama import Fore\n",
    "%matplotlib inline\n",
    "%config InlineBackend.figure_format = 'retina'\n",
    "\n",
    "accuracy_list=[]"
   ]
  },
  {
   "cell_type": "markdown",
   "id": "9d4e2777",
   "metadata": {},
   "source": [
    "### Logistic Regression\n",
    "- 종속변수가 이분형일 때 수행할 수 있는 회귀 분석 기법의 한 종류\n",
    "- 오차를 기반으로 학습을 수행\n",
    "- **장점**\n",
    "    - 종속변수와 독립변수 사이의 관계가 비선형으로 식별되기 때문에 정규분포의 가정이 독립변수에 적용되지 않는다.\n",
    "    - 명목형, 연속형, 순서형을 비롯한 다양한 독립 변수에 다양한 자료 유형을 사용할 수 있기 때문에 복잡한 현상을 설명할 수 있다.\n",
    "    - 로지스틱회귀분석의 결과에는 각 요인에 대한 여러 분석값이 포함된다. 이러한 분서값은 다른 지역을 대상으로 하는 유사한 연구에 사용될 수 있다.\n",
    "- **단점**\n",
    "    - 종속변수가 발생할 가능성을 결정하기 위해 최적화된 회귀 방정식을 찾기 위한 계산을 반복하기 때문에 계산 프로세스를 추적할 수 없다는 점에서 한계가 있다.\n",
    "\n",
    "- **계산식**\n",
    "$\n",
    "z = b_0 + b_1x_1 + b_2x_2 + \\dots + b_nx_n \\\\\n",
    "\\text{P} = 1/(1+e^{-z}) \\qquad \\leftarrow \\textbf{Sigmoid function} \\\\\n",
    "\\text{J}(w) = -\\cfrac{1}{n} \\sum \\limits _{i=1}^{n}[y^{(i)}\\log H(x^{(i)}) + (1-y^{(i)})\\log (1-H(x^{(i)}))]\n",
    "\\qquad \\leftarrow \\textbf{Loss function(Cross Entropy)}\n",
    "$"
   ]
  },
  {
   "cell_type": "code",
   "execution_count": 5,
   "id": "7d2e7aa6",
   "metadata": {},
   "outputs": [
    {
     "name": "stdout",
     "output_type": "stream",
     "text": [
      "              precision    recall  f1-score   support\n",
      "\n",
      "           0       0.80      0.92      0.86        64\n",
      "           1       0.69      0.42      0.52        26\n",
      "\n",
      "    accuracy                           0.78        90\n",
      "   macro avg       0.74      0.67      0.69        90\n",
      "weighted avg       0.77      0.78      0.76        90\n",
      "\n"
     ]
    }
   ],
   "source": [
    "from sklearn.linear_model import LogisticRegression\n",
    "\n",
    "log_reg = LogisticRegression(max_iter=1000,\n",
    "                             #verbose=2\n",
    "                            )\n",
    "log_reg.fit(x_train, y_train)\n",
    "log_reg_pred = log_reg.predict(x_test)\n",
    "log_reg_acc = accuracy_score(y_test, log_reg_pred)\n",
    "accuracy_list.append(100*log_reg_acc)\n",
    "print(classification_report(y_test, log_reg_pred))"
   ]
  },
  {
   "cell_type": "code",
   "execution_count": 6,
   "id": "bcc13349",
   "metadata": {},
   "outputs": [
    {
     "name": "stdout",
     "output_type": "stream",
     "text": [
      "\u001b[32mAccuracy of Logistic Regression is: 77.78%\n"
     ]
    }
   ],
   "source": [
    "print(Fore.GREEN + f\"Accuracy of Logistic Regression is: {100*log_reg_acc:.2f}%\")"
   ]
  },
  {
   "cell_type": "code",
   "execution_count": 7,
   "id": "beaad0a2",
   "metadata": {},
   "outputs": [
    {
     "data": {
      "text/plain": [
       "<Figure size 432x288 with 0 Axes>"
      ]
     },
     "metadata": {},
     "output_type": "display_data"
    },
    {
     "data": {
      "image/png": "[encoded data removed]",
      "text/plain": [
       "<Figure size 864x576 with 1 Axes>"
      ]
     },
     "metadata": {
      "image/png": {
       "height": 500,
       "width": 598
      },
      "needs_background": "light"
     },
     "output_type": "display_data"
    }
   ],
   "source": [
    "cm = confusion_matrix(y_test, log_reg_pred)\n",
    "plt.figure()\n",
    "plot_confusion_matrix(cm, figsize = (12,8), hide_ticks=True, cmap=plt.cm.Blues)\n",
    "plt.title(\"Logistic Regression Model - Confusion Matrix\")\n",
    "plt.xticks(range(2), [\"Heart Not Failed\", \"Heart Fail\"], fontsize=16)\n",
    "plt.yticks(range(2), [\"Heart Not Failed\", \"Heart Fail\"], fontsize=16)\n",
    "plt.show()"
   ]
  },
  {
   "cell_type": "markdown",
   "id": "3912ed71",
   "metadata": {},
   "source": [
    "### Support Vector\n",
    "- 기본틀은 Linear Regression\n",
    "- MSE와 같은 오차가 아닌 **Margin**을 기반으로 학습\n",
    "- **계산식**\n",
    "$\n",
    "\\textbf{w}^Tx+\\textbf{b} = 0\\\\\n",
    "\\qquad \\textbf{w}\\text{: normal vector(2차원에서 직선의 기울기와 같은 개념)} \\\\\n",
    "\\qquad \\textbf{b}\\text{: bias(절편)} \\\\\n",
    "$\n",
    "1. $\\textbf{Margin}\\text{: 데이터 포인트와 hyperplane 사이의 거리. 각 클래스의 데이터 중에서 경계선에 가장 가까이 있는 것.} \\\\\n",
    "\\textbf{w}^Tx_{+} + \\textbf{b} = 1 \\\\\n",
    "\\textbf{w}^Tx_{-} + \\textbf{b} = -1\n",
    "$\n",
    "2. $\\textbf{Support Vector}\\text{: margin에서 hyperplane과 가장 가까이 있는 데이터 포인트} \\\\\n",
    "\\text{즉, hyperplane과}\\: (\\frac{1}{2}\\text{margin})\\text{만큼 떨어져 있는 경계에 있으면서 margin decision에 영향을 주는 관측치}\n",
    "$\n",
    "3. $\\textbf{Kernel Trick}\\text{: 커널은 실수, 함수, 벡터 등을 x,y 인자로 받고 실수를 출력하는 함수} \\\\\n",
    "\\text{커널 트릭은 이런 커널 함수를 이용하여 데이터를 한 단계 높은 차원에서 보는 것}\n",
    "$"
   ]
  },
  {
   "cell_type": "code",
   "execution_count": 8,
   "id": "783d7fd1",
   "metadata": {},
   "outputs": [],
   "source": [
    "from sklearn.svm import SVC\n",
    "\n",
    "sv_clf = SVC()\n",
    "sv_clf.fit(x_train, y_train)\n",
    "sv_clf_pred = sv_clf.predict(x_test)\n",
    "sv_clf_acc = accuracy_score(y_test, sv_clf_pred)\n",
    "accuracy_list.append(100*sv_clf_acc)"
   ]
  },
  {
   "cell_type": "code",
   "execution_count": 9,
   "id": "1b124e8c",
   "metadata": {},
   "outputs": [
    {
     "name": "stdout",
     "output_type": "stream",
     "text": [
      "\u001b[32mAccuracy of SVC is: 78.89%\n"
     ]
    }
   ],
   "source": [
    "print(Fore.GREEN + f\"Accuracy of SVC is: {100*sv_clf_acc:.2f}%\")"
   ]
  },
  {
   "cell_type": "code",
   "execution_count": 10,
   "id": "5a03b84a",
   "metadata": {},
   "outputs": [
    {
     "data": {
      "text/plain": [
       "<Figure size 432x288 with 0 Axes>"
      ]
     },
     "metadata": {},
     "output_type": "display_data"
    },
    {
     "data": {
      "image/png": "[encoded data removed]",
      "text/plain": [
       "<Figure size 864x576 with 1 Axes>"
      ]
     },
     "metadata": {
      "image/png": {
       "height": 494,
       "width": 550
      },
      "needs_background": "light"
     },
     "output_type": "display_data"
    }
   ],
   "source": [
    "cm = confusion_matrix(y_test, sv_clf_pred)\n",
    "plt.figure()\n",
    "plot_confusion_matrix(cm, figsize=(12, 8), hide_ticks=True, cmap = plt.cm.Blues)\n",
    "plt.title(\"SVC Model - Confusion Matrix\")\n",
    "plt.xticks(range(2), ['Heart Not Failed','Heart Failed'])\n",
    "plt.yticks(range(2), ['Heart Not Failed','Heart Failed'])\n",
    "plt.show()"
   ]
  },
  {
   "cell_type": "markdown",
   "id": "9d1a7ded",
   "metadata": {},
   "source": [
    "### K Neighbors Classifier"
   ]
  },
  {
   "cell_type": "code",
   "execution_count": 11,
   "id": "f804392e",
   "metadata": {},
   "outputs": [],
   "source": [
    "from sklearn.neighbors import KNeighborsClassifier\n",
    "\n",
    "kn_clf = KNeighborsClassifier(n_neighbors=6)\n",
    "kn_clf.fit(x_train, y_train)\n",
    "kn_pred = kn_clf.predict(x_test)\n",
    "kn_acc = accuracy_score(y_test, kn_pred)\n",
    "accuracy_list.append(100*kn_acc)"
   ]
  },
  {
   "cell_type": "code",
   "execution_count": 12,
   "id": "5c4174bc",
   "metadata": {},
   "outputs": [
    {
     "name": "stdout",
     "output_type": "stream",
     "text": [
      "\u001b[32mAccuracy of K Neighbors Classifier is : 74.44%\n"
     ]
    }
   ],
   "source": [
    "print(Fore.GREEN + f\"Accuracy of K Neighbors Classifier is : {100*kn_acc:.2f}%\")"
   ]
  },
  {
   "cell_type": "code",
   "execution_count": 13,
   "id": "3189cbfc",
   "metadata": {},
   "outputs": [
    {
     "data": {
      "text/plain": [
       "<Figure size 432x288 with 0 Axes>"
      ]
     },
     "metadata": {},
     "output_type": "display_data"
    },
    {
     "data": {
      "image/png": "[encoded data removed]",
      "text/plain": [
       "<Figure size 864x576 with 1 Axes>"
      ]
     },
     "metadata": {
      "image/png": {
       "height": 500,
       "width": 598
      },
      "needs_background": "light"
     },
     "output_type": "display_data"
    }
   ],
   "source": [
    "cm = confusion_matrix(y_test, kn_pred)\n",
    "\n",
    "plt.figure()\n",
    "plot_confusion_matrix(cm, figsize=(12, 8), hide_ticks=True, cmap=plt.cm.Blues)\n",
    "plt.title(\"K Neighbors Model - Confusion Matrix\")\n",
    "plt.xticks(range(2), [\"Heart Not Failed\",\"Heart Fail\"], fontsize=16)\n",
    "plt.yticks(range(2), [\"Heart Not Failed\",\"Heart Fail\"], fontsize=16)\n",
    "plt.show()"
   ]
  },
  {
   "cell_type": "markdown",
   "id": "bebded7b",
   "metadata": {},
   "source": [
    "### Decision Tree Classifier\n",
    "- Decision Tree: 데이터를 특정 기준으로(yes/no) **이진 분류**를 시키면서 특징별로 분류하는 모델\n",
    "- 단점\n",
    "    - 모든 feature을 갖고 분류를 했을 경우 **과적합**이 이뤄지는 경우가 많음\n",
    "    - 이런 부분을 보안하여 나온 모델이 **Random Forest**"
   ]
  },
  {
   "cell_type": "code",
   "execution_count": 14,
   "id": "75ebd944",
   "metadata": {},
   "outputs": [],
   "source": [
    "from sklearn.tree import DecisionTreeClassifier\n",
    "\n",
    "dt_clf = DecisionTreeClassifier(max_leaf_nodes=3, random_state=0, criterion='entropy')\n",
    "dt_clf.fit(x_train, y_train)\n",
    "dt_pred = dt_clf.predict(x_test)\n",
    "dt_acc = accuracy_score(y_test, dt_pred)\n",
    "accuracy_list.append(100*dt_acc)"
   ]
  },
  {
   "cell_type": "code",
   "execution_count": 15,
   "id": "8b30b8d2",
   "metadata": {},
   "outputs": [
    {
     "name": "stdout",
     "output_type": "stream",
     "text": [
      "\u001b[32mAccuracy of Decision Tree Classifier is :  72.22%\n"
     ]
    }
   ],
   "source": [
    "print(Fore.GREEN + \"Accuracy of Decision Tree Classifier is : \", \"{:.2f}%\".format(100* dt_acc))"
   ]
  },
  {
   "cell_type": "code",
   "execution_count": 16,
   "id": "671a873e",
   "metadata": {},
   "outputs": [
    {
     "data": {
      "text/plain": [
       "<Figure size 432x288 with 0 Axes>"
      ]
     },
     "metadata": {},
     "output_type": "display_data"
    },
    {
     "data": {
      "image/png": "[encoded data removed]",
      "text/plain": [
       "<Figure size 864x576 with 1 Axes>"
      ]
     },
     "metadata": {
      "image/png": {
       "height": 500,
       "width": 598
      },
      "needs_background": "light"
     },
     "output_type": "display_data"
    }
   ],
   "source": [
    "cm = confusion_matrix(y_test, dt_pred)\n",
    "plt.figure()\n",
    "plot_confusion_matrix(cm, figsize=(12,8), hide_ticks=True, cmap=plt.cm.Blues)\n",
    "plt.title(\"Decision Tree Model - Confusion Matrix\")\n",
    "plt.xticks(range(2), [\"Heart Not Failed\",\"Heart Fail\"], fontsize=16)\n",
    "plt.yticks(range(2), [\"Heart Not Failed\",\"Heart Fail\"], fontsize=16)\n",
    "plt.show()"
   ]
  },
  {
   "cell_type": "markdown",
   "id": "23345058",
   "metadata": {},
   "source": [
    "### Random Forest Classifier\n",
    "- Decision Tree의 과적합 등의 문제를 보안하여 나온 모델\n",
    "- 여러개의 Decision Tree들이 모여 **Bagging Ensemble**한 모델\n",
    "    - 예) Feature가 총 100개가 있을 때, 100개를 모두 사용하면 overfit되기 때문에 10~20개 정도를 선택해서 만든 **Decision Tree를 여러개 만들어서 Forest를 만듬**\n",
    "    - 핵심은 **여러 개**의 Weak Classifier를 결합하여 Strong Classifier를 만드는 것 (**Ensemble Learning**)"
   ]
  },
  {
   "cell_type": "code",
   "execution_count": 17,
   "id": "2637fff2",
   "metadata": {},
   "outputs": [],
   "source": [
    "from sklearn.ensemble import RandomForestClassifier\n",
    "\n",
    "r_clf = RandomForestClassifier(max_features=0.5, max_depth=15, random_state=1)\n",
    "r_clf.fit(x_train, y_train)\n",
    "r_pred = r_clf.predict(x_test)\n",
    "r_acc = accuracy_score(y_test, r_pred)\n",
    "accuracy_list.append(100*r_acc)"
   ]
  },
  {
   "cell_type": "code",
   "execution_count": 18,
   "id": "2a349258",
   "metadata": {},
   "outputs": [
    {
     "name": "stdout",
     "output_type": "stream",
     "text": [
      "\u001b[32mAccuracy of Random Forest Classifier is :  78.89%\n"
     ]
    }
   ],
   "source": [
    "print(Fore.GREEN + \"Accuracy of Random Forest Classifier is : \", \"{:.2f}%\".format(100* r_acc))"
   ]
  },
  {
   "cell_type": "code",
   "execution_count": 19,
   "id": "3eec38cf",
   "metadata": {},
   "outputs": [
    {
     "data": {
      "text/plain": [
       "<Figure size 432x288 with 0 Axes>"
      ]
     },
     "metadata": {},
     "output_type": "display_data"
    },
    {
     "data": {
      "image/png": "[encoded data removed]",
      "text/plain": [
       "<Figure size 864x576 with 1 Axes>"
      ]
     },
     "metadata": {
      "image/png": {
       "height": 500,
       "width": 598
      },
      "needs_background": "light"
     },
     "output_type": "display_data"
    }
   ],
   "source": [
    "cm = confusion_matrix(y_test, r_pred)\n",
    "plt.figure()\n",
    "plot_confusion_matrix(cm, figsize=(12,8), hide_ticks=True, cmap=plt.cm.Blues)\n",
    "plt.title(\"Random Forest Model - Confusion Matrix\")\n",
    "plt.xticks(range(2), [\"Heart Not Failed\",\"Heart Fail\"], fontsize=16)\n",
    "plt.yticks(range(2), [\"Heart Not Failed\",\"Heart Fail\"], fontsize=16)\n",
    "plt.show()"
   ]
  },
  {
   "cell_type": "markdown",
   "id": "194ba8a8",
   "metadata": {},
   "source": [
    "### Gradient Boosting Classifier"
   ]
  },
  {
   "cell_type": "code",
   "execution_count": 20,
   "id": "c1b15044",
   "metadata": {},
   "outputs": [],
   "source": [
    "from sklearn.ensemble import GradientBoostingClassifier\n",
    "\n",
    "gradientboost_clf = GradientBoostingClassifier(max_depth=2, random_state=1)\n",
    "gradientboost_clf.fit(x_train, y_train)\n",
    "gradientboost_pred = gradientboost_clf.predict(x_test)\n",
    "gradientboost_acc = accuracy_score(y_test, gradientboost_pred)\n",
    "accuracy_list.append(100*gradientboost_acc)"
   ]
  },
  {
   "cell_type": "code",
   "execution_count": 21,
   "id": "3a2d9678",
   "metadata": {},
   "outputs": [
    {
     "name": "stdout",
     "output_type": "stream",
     "text": [
      "\u001b[32mAccuracy of Gradient Boosting is :  74.44%\n"
     ]
    }
   ],
   "source": [
    "print(Fore.GREEN + \"Accuracy of Gradient Boosting is : \", \"{:.2f}%\".format(100* gradientboost_acc))"
   ]
  },
  {
   "cell_type": "code",
   "execution_count": 22,
   "id": "6bc07bb2",
   "metadata": {},
   "outputs": [
    {
     "data": {
      "text/plain": [
       "<Figure size 432x288 with 0 Axes>"
      ]
     },
     "metadata": {},
     "output_type": "display_data"
    },
    {
     "data": {
      "image/png": "[encoded data removed]",
      "text/plain": [
       "<Figure size 864x576 with 1 Axes>"
      ]
     },
     "metadata": {
      "image/png": {
       "height": 500,
       "width": 598
      },
      "needs_background": "light"
     },
     "output_type": "display_data"
    }
   ],
   "source": [
    "cm = confusion_matrix(y_test, gradientboost_pred)\n",
    "plt.figure()\n",
    "plot_confusion_matrix(cm, figsize=(12,8), hide_ticks=True, cmap=plt.cm.Blues)\n",
    "plt.title(\"Gredient Boosting Model - Confusion Matrix\")\n",
    "plt.xticks(range(2), [\"Heart Not Failed\",\"Heart Fail\"], fontsize=16)\n",
    "plt.yticks(range(2), [\"Heart Not Failed\",\"Heart Fail\"], fontsize=16)\n",
    "plt.show()"
   ]
  },
  {
   "cell_type": "markdown",
   "id": "fb2f969b",
   "metadata": {},
   "source": [
    "### XGBoost\n",
    "- 여러개의 의사결정나무를 앙상블한 알고리즘\n",
    "- XGBoost는 RandomForest와 달리 **Gradient Boosting 앙상블**로 구현된 모델\n",
    "- boosting방식이란, **한 개의 예측모델**에 대한 error를 줄이는 방식의 앙상블 기법\n",
    "    - 예) 첫 번째 의사결정 나무가 있어 이를 통한 예측 모델이 있을 때, 이것의 오차값을 다시 의사결정나무로 오차를 줄이고 그 오차를 똑같은 방식으로 줄여나가는 방식\n",
    "- Gradient boost(GBM)와 같은 방식의 앙상블 모델이지만, **병렬 학습**이 지원되어 더 빠른 학습이 가능해짐\n",
    "- Level-wise tree"
   ]
  },
  {
   "cell_type": "code",
   "execution_count": 23,
   "id": "1fb2c4e8",
   "metadata": {},
   "outputs": [
    {
     "ename": "NameError",
     "evalue": "name 'xgb' is not defined",
     "output_type": "error",
     "traceback": [
      "\u001b[0;31m---------------------------------------------------------------------------\u001b[0m",
      "\u001b[0;31mNameError\u001b[0m                                 Traceback (most recent call last)",
      "Input \u001b[0;32mIn [23]\u001b[0m, in \u001b[0;36m<cell line: 2>\u001b[0;34m()\u001b[0m\n\u001b[1;32m      1\u001b[0m \u001b[38;5;28;01mfrom\u001b[39;00m \u001b[38;5;21;01mxgboost\u001b[39;00m \u001b[38;5;28;01mimport\u001b[39;00m XGBClassifier\n\u001b[0;32m----> 2\u001b[0m xgb_clf \u001b[38;5;241m=\u001b[39m \u001b[43mxgb\u001b[49m\u001b[38;5;241m.\u001b[39mXGBClassifier(eval_metric\u001b[38;5;241m=\u001b[39m\u001b[38;5;124m'\u001b[39m\u001b[38;5;124mmlogloss\u001b[39m\u001b[38;5;124m'\u001b[39m,\n\u001b[1;32m      3\u001b[0m                             use_label_encoder \u001b[38;5;241m=\u001b[39m\u001b[38;5;28;01mFalse\u001b[39;00m,\n\u001b[1;32m      4\u001b[0m                             max_depth\u001b[38;5;241m=\u001b[39m\u001b[38;5;241m3\u001b[39m,\n\u001b[1;32m      5\u001b[0m                             random_state\u001b[38;5;241m=\u001b[39m\u001b[38;5;241m1\u001b[39m)\n\u001b[1;32m      6\u001b[0m xgb_clf\u001b[38;5;241m.\u001b[39mfit(x_train, y_train)\n\u001b[1;32m      7\u001b[0m xgb_pred \u001b[38;5;241m=\u001b[39m xgb_clf\u001b[38;5;241m.\u001b[39mpredict(x_test)\n",
      "\u001b[0;31mNameError\u001b[0m: name 'xgb' is not defined"
     ]
    }
   ],
   "source": [
    "from xgboost import XGBClassifier\n",
    "xgb_clf = xgb.XGBClassifier(eval_metric='mlogloss',\n",
    "                            use_label_encoder =False,\n",
    "                            max_depth=3,\n",
    "                            random_state=1)\n",
    "xgb_clf.fit(x_train, y_train)\n",
    "xgb_pred = xgb_clf.predict(x_test)\n",
    "xgb_acc = accuracy_score(y_test, xgb_pred)\n",
    "\n",
    "print(classification_report(y_test, xgb_pred))"
   ]
  },
  {
   "cell_type": "code",
   "execution_count": null,
   "id": "4156967c",
   "metadata": {},
   "outputs": [],
   "source": [
    "print(Fore.GREEN + \"Accuracy of XGBClassifier is : \", \"{:.2f}%\".format(100* xgb_acc))"
   ]
  },
  {
   "cell_type": "code",
   "execution_count": null,
   "id": "71c4b96e",
   "metadata": {},
   "outputs": [],
   "source": [
    "plt.bar(X.columns, xgb_clf.feature_importances_)\n",
    "plt.xticks(rotation=90)\n",
    "plt.show()"
   ]
  },
  {
   "cell_type": "code",
   "execution_count": null,
   "id": "8564bb9e",
   "metadata": {},
   "outputs": [],
   "source": [
    "sns.jointplot(x='ejection_fraction', y='serum_creatinine', data=df, hue='DEATH_EVENT')\n",
    "plt.show()"
   ]
  },
  {
   "cell_type": "markdown",
   "id": "e33c4c23",
   "metadata": {},
   "source": [
    "### Precision Recall Curve"
   ]
  },
  {
   "cell_type": "code",
   "execution_count": null,
   "id": "6f6f9e32",
   "metadata": {},
   "outputs": [],
   "source": [
    "from sklearn.metrics import plot_precision_recall_curve\n",
    "\n",
    "fig = plt.figure()\n",
    "ax = fig.gca()\n",
    "plot_precision_recall_curve(log_reg, x_test, y_test, ax=ax) #AP값이 클수록 Recall을 할 수록 잘 유지했다는 것\n",
    "plot_precision_recall_curve(xgb_clf, x_test, y_test, ax=ax)\n",
    "plt.show()"
   ]
  },
  {
   "cell_type": "markdown",
   "id": "cee4dfcb",
   "metadata": {},
   "source": [
    "### ROC Curve"
   ]
  },
  {
   "cell_type": "code",
   "execution_count": null,
   "id": "2ba5613d",
   "metadata": {
    "scrolled": true
   },
   "outputs": [],
   "source": [
    "from sklearn.metrics import plot_roc_curve\n",
    "\n",
    "fig = plt.figure()\n",
    "ax = fig.gca()\n",
    "plot_roc_curve(log_reg, x_test, y_test, ax=ax) #위쪽에 그려질 수록 좋은 모델, AUC 값이 클수록 좋음\n",
    "plot_roc_curve(xgb_clf, x_test, y_test, ax=ax)\n",
    "plt.show()"
   ]
  },
  {
   "cell_type": "markdown",
   "id": "a529664a",
   "metadata": {},
   "source": [
    "### XGBRF Classifier"
   ]
  },
  {
   "cell_type": "code",
   "execution_count": null,
   "id": "cc15c719",
   "metadata": {},
   "outputs": [],
   "source": [
    "from xgboost import XGBRFClassifier\n",
    "\n",
    "xgbrf_clf = xgb.XGBRFClassifier(eval_metric='mlogloss',\n",
    "                                use_label_encoder =False,\n",
    "                                max_depth=3,\n",
    "                                random_state=1)\n",
    "xgbrf_clf.fit(x_train, y_train)\n",
    "xgbrf_pred = xgbrf_clf.predict(x_test)\n",
    "xgbrf_acc = accuracy_score(y_test, xgbrf_pred)\n",
    "accuracy_list.append(100*xgbrf_acc)\n",
    "                     \n",
    "print(classification_report(y_test, xgbrf_pred))"
   ]
  },
  {
   "cell_type": "code",
   "execution_count": null,
   "id": "4c66b246",
   "metadata": {},
   "outputs": [],
   "source": [
    "print(Fore.GREEN + \"Accuracy of XGBRFClassifier is : \", \"{:.2f}%\".format(100* xgbrf_acc))"
   ]
  },
  {
   "cell_type": "code",
   "execution_count": null,
   "id": "ff6b6ed4",
   "metadata": {},
   "outputs": [],
   "source": [
    "plt.plot(xgbrf_clf.feature_importances_)"
   ]
  },
  {
   "cell_type": "markdown",
   "id": "78af5b88",
   "metadata": {},
   "source": [
    "### LGBM Classifier\n",
    "\n",
    "\n",
    "[**Reference...**](https://nurilee.com/2020/04/03/lightgbm-definition-parameter-tuning/)\n",
    "- **Gradient Boosting Framework**\n",
    "- ML Algorithm based on **Tree Model**\n",
    "    - Light GBM: **Tree가 수직적으로 확장**\n",
    "        - Leaf-wise 방식\n",
    "        <img src=\"./Leaf_wise_tree_growth.png\" width=\"500px\" height=\"400px\" title=\"Leaf_wise\"></img>\n",
    "    - Others: **Tree가 수평적으로 확장**\n",
    "        - Level-wise 방식\n",
    "        <img src=\"./Level_wise_tree_growth.png\" width=\"400px\" height=\"250px\" title=\"Level_wise\"></img>\n",
    "\n",
    "- **Light GBM이 인기를 얻게된 이유**\n",
    "    - 속도가 빠름\n",
    "    - 큰 사이즈의 데이터를 다룰 수 있으며 적은 메모리 공간을 차지\n",
    "    - 정확도가 높음\n",
    "    - GPU 학습을 지원\n",
    "    - 병렬 처리 지원\n",
    "- **Light GBM 사용처**\n",
    "    - 작은 데이터셋에는 부적합\n",
    "    - Overfitting에 민감\n",
    "    - row size에 대한 제한은 없으나 10,000개 이상에 권장\n",
    "- **Light GBM 구현**\n",
    "    - Parameter tuning이 복잡 (100개 이상)"
   ]
  },
  {
   "cell_type": "markdown",
   "id": "07733350",
   "metadata": {},
   "source": [
    "**Parameters**  \n",
    "- `max_depth`: \n",
    "    - Tree의 최대 깊이. 과적합을 해결할 때 사용\n",
    "- `min_data_in_leaf`: \n",
    "    - Leaf가 가지고 있는 최소한의 레코드 수\n",
    "    - 과적합을 해결할 때 사용\n",
    "    - 큰 값으로 세팅함으로써 Tree가 너무 깊게 확장되는 것을 방지할 수 있음\n",
    "        - 하지만 underfitting이 발생할 수 있음\n",
    "    - 관행적으로 수백~수천 개로 정하는 것이 큰 데이터셋에서 충분\n",
    "    - *default value 20\n",
    "- `feature_fraction`:\n",
    "    - Boosting이 Random Forest일 경우 사용\n",
    "    - 0.8 feature_fraction\n",
    "        - Light GBMdl Tree를 만들 때 매번 각각의 iteration 반복에서 파라미터 중에 80%를 랜덤하게 선택\n",
    "- `bagging_fraction`:\n",
    "    - 매번 iteration을 돌 때 사용되는 데이터의 일부를 선택하는데 트레이닝 속도를 높이고 과적합을 방지할 때 주로 사용\n",
    "- `early_stopping_round`:\n",
    "    - 분석 속도를 높이는데 도움을 줌\n",
    "    - 모델은 만약 어떤 validation 데이터 중 하나의 지표가 지난 early_stopping_round 라운드에서 향상되지 않았다면 학습을 중단함\n",
    "        - 이는 지나친 iteration을 줄이는데 도움을 줌\n",
    "- `lambda`:\n",
    "    - lambda값은 regularization 정규화를 함\n",
    "    - 0~1 사이\n",
    "- `min_gain_to_split`:\n",
    "    - 분기하기 위해 필요한 최소한의 gain을 의미\n",
    "    - Tree의 유용한 분기수를 컨트롤하는데 사용\n",
    "- `max_cat_group`:\n",
    "    - 카테고리 수가 클 때, 과적합을 방지하는 분기포인트를 찾음\n",
    "    - Light GBM 알고리즘이 카테고리 그룹을 max_cat_group 그룹으로 합치고 그룹 경계선에서 분기 포인트를 찾음\n",
    "    - *default value 64\n",
    "\n",
    "**Core Parameters**\n",
    "- `Task`:\n",
    "    - 데이터에 대해서 수행하고자 하는 임무를 구체화\n",
    "    - training or prediction\n",
    "- `application`:\n",
    "    - 가장 중요한 파라미터로, 모델의 어플리케이션을 정함\n",
    "    - regression or classification\n",
    "    - dafault value $\\text{regression}$\n",
    "        - regression: 회귀분석\n",
    "        - binary: 이진 분류\n",
    "        - multiclass: 다중 분류\n",
    "- `boosting`:\n",
    "    - 실행하고자 하는 알고리즘 타입을 정의\n",
    "    - default value $\\text{gdbt}$\n",
    "        - gdbt: Traditional Gradient Boosting Decision Tree\n",
    "        - rf: Random Forest\n",
    "        - dart: Dropouts meet Multiple Additive Regression Trees\n",
    "        - goss: Gradient-based One-Side Sampling\n",
    "- `num_boost_round`:\n",
    "    - boosting iteration 수로 일반적으로 100 이상\n",
    "- `learning_rate`:\n",
    "    - 최종 결과에 대한 각각의 Tree에 영향을 미치는 변수\n",
    "    - GBM은 초기 수정값에서 시작하여 각각의 Tree 결과를 사용하여 추정값을 업데이트\n",
    "    - 학습 파라미터는 이러한 추정에서 발생하는 변화의 크기를 컨트롤\n",
    "    - 일반적인 값으로 0.1, 0.001, 0.003 등이 있음\n",
    "- `num_leaves`:\n",
    "    - Tree 모델의 복잡성을 컨트롤하는 주요 파라미터\n",
    "    - 전체 Tree의 leaves 수를 나타냄\n",
    "    - 이상적으로 num_leaves 값은 2**(max_depth)값보다 적거나 같아야 함\n",
    "        - 이 것보다 많으면 과적합 유발\n",
    "    - default value 31\n",
    "- `device`:\n",
    "    - default value $\\text{cpu}$\n",
    "\n",
    "**Metric Parameter**\n",
    "- `metric`:\n",
    "    - 모델을 구현할 때 손실을 정리하기 때문에 중요한 변수 중 하나\n",
    "    - regression과 classification을 위한 일반적인 손실 값으로\n",
    "        - mae: mean absolute error\n",
    "        - mse: mean squared error\n",
    "        - binary_logloss: loss for binary classification\n",
    "        - multi_logloss: loss for multi classification\n",
    "\n",
    "**IO Parameter**\n",
    "- `max_bin`:\n",
    "    - feature 값의 최대 bin 수를 의미  \n",
    "- `categorical_features`:\n",
    "    - 범주형 feature 인덱스를 의미\n",
    "    - categorical_features가 0,1,2 이면 column 0, column 1, column 2가 범주형 변수들\n",
    "- `ignore_column`:\n",
    "    - categorical_features와 거의 동일\n",
    "    - feature로써 특정 칼럼을 고려하지 않음 (해당 변수들을 무시)\n",
    "- `save_binary`:\n",
    "    - 데이터 파일의 메모리 사이즈를 처리해야한다면 해당 파라미터를 True로 설정\n",
    "    - 해당 값이 True일 때, 데이터 세트는 바이너리 파일로 저장\n",
    "    - 이 바이너리 파일은 다음에 데이터를 읽어올 때 그 속도를 줄여줌"
   ]
  },
  {
   "cell_type": "markdown",
   "id": "4d492163",
   "metadata": {},
   "source": [
    "**더 빠른 속도**\n",
    "- `bagging_fraction` & `baggin_freq`를 설정하여 bagging을 적용\n",
    "- `feature_fraction`을 설정하여 feature sub-sampling을 시도\n",
    "- 작은 `max_bin` 값 적용\n",
    "- `save_binary`를 통해 향후 학습에서 데이터 로딩 속도를 감소\n",
    "- parallel learning 시도\n",
    "\n",
    "**더 높은 정확도**\n",
    "- 큰 `max_bin` 값 적용\n",
    "- 작은 `learning_rate`값을 큰 `num_iterations`값과 함께 적용\n",
    "- 큰 `num_leaves`값을 사용 (과적합을 유발)\n",
    "- 더 큰 traing data 사용\n",
    "- dart 사용\n",
    "- categorical feature 사용\n",
    "\n",
    "**과적합 해결**\n",
    "- 작은 `max_bin` 값 사용\n",
    "- 작은 `num_leaves` 값을 사용\n",
    "- `min_data_in_leaf`와 `min_sum_hessian_in_leaf` 파라미터를 사용\n",
    "- `bagging_fraction`과 `bagging_freq`를 사용하여 bagging을 적용\n",
    "- `feature_fraction`을 설정하여 feature sub-sampling을 시도\n",
    "- lambda_l1, lambda_l2 그리고 `min_gain_to_split` 파라미터를 이용해 regularization을 적용\n",
    "- `max_depth`를 설정해서 Deep Tree가 만들어지는 것을 방지"
   ]
  },
  {
   "cell_type": "code",
   "execution_count": null,
   "id": "6f06ac50",
   "metadata": {},
   "outputs": [],
   "source": [
    "import lightgbm as lgb\n",
    "\n",
    "lgb_clf = lgb.LGBMClassifier(max_depth=2,random_state=4)\n",
    "lgb_clf.fit(x_train, y_train)\n",
    "lgb_pred = lgb_clf.predict(x_test)\n",
    "lgb_acc = accuracy_score(y_test, lgb_pred)\n",
    "accuracy_list.append(100*lgb_acc)"
   ]
  },
  {
   "cell_type": "code",
   "execution_count": null,
   "id": "22e9f687",
   "metadata": {},
   "outputs": [],
   "source": [
    "print(Fore.GREEN + f'Accuracy of LGBM Classifier is : {100*lgb_acc:.2f}%')"
   ]
  },
  {
   "cell_type": "code",
   "execution_count": null,
   "id": "3a9fe5a7",
   "metadata": {},
   "outputs": [],
   "source": [
    "cm = confusion_matrix(y_test, lgb_pred)\n",
    "plt.figure()\n",
    "plot_confusion_matrix(cm, figsize=(12,8), hide_ticks=True, cmap=plt.cm.Blues)\n",
    "plt.title(\"LGBMClassifier Model - Confusion Matrix\")\n",
    "plt.xticks(range(2), [\"Heart Not Failed\",\"Heart Fail\"], fontsize=16)\n",
    "plt.yticks(range(2), [\"Heart Not Failed\",\"Heart Fail\"], fontsize=16)\n",
    "plt.show()"
   ]
  },
  {
   "cell_type": "code",
   "execution_count": null,
   "id": "472a4518",
   "metadata": {},
   "outputs": [],
   "source": [
    "d_train = lgb.Dataset(x_train, label=y_train)\n",
    "params={}\n",
    "params['boosting_type'] = 'gbdt'\n",
    "params['num_leaves'] = 2\n",
    "params['max_depth'] = 2\n",
    "#params['max_bin'] = 1000\n",
    "params['learning_rate'] = 0.1\n",
    "params['force_row_wise']=True\n",
    "params['objective'] = 'binary'\n",
    "\n",
    "lgb_clf2 = lgb.train(params, d_train)"
   ]
  },
  {
   "cell_type": "code",
   "execution_count": null,
   "id": "54b9131b",
   "metadata": {
    "scrolled": true
   },
   "outputs": [],
   "source": [
    "import numpy as np\n",
    "\n",
    "lgb_pred2 = lgb_clf2.predict(x_test)\n",
    "preds_ld = lgb_pred2.flatten()\n",
    "pred_class = np.where(preds_ld >=0.5, 1, 0)\n",
    "lgb_acc2 = accuracy_score(y_test, pred_class)\n",
    "print(Fore.GREEN + f'Accuracy of LGBM Classifier is : {100*lgb_acc2:.2f}%')"
   ]
  },
  {
   "cell_type": "markdown",
   "id": "d00fd308",
   "metadata": {},
   "source": [
    "### Cat Boost Classifier\n",
    "- LightGBM의 과적합 문제점을 해결하기 위해 만들어진 모델\n",
    "- 범주형 변수의 예측모델에 최적화\n",
    "1. **Level-wise 방식의 모델 생성**\n",
    "2. **Ordered boosting 방식으로 부스팅**\n",
    "    - General boosting은 **전체적인 오차**에 대한 값으로 모델을 앙상블\n",
    "    - Ordered boosting은 **부분의 오차**에 대해 모델을 생성하고 데이터들을 늘려나감\n",
    "        - 이 방식으로 과적합을 줄임\n",
    "3. **Ordered Target Encoding(Mean Encoding) 범주형 변수 변환**\n",
    "    - 독립변수의 범주형 변수가 종속변수의 평균으로 인코딩\n",
    "    - 독립변수가 일반적인 0,1으로 인코딩했을 때보다 data와의 연관성이 생김\n",
    "4. **Categorical Feature Combinations 범주형 변수 결합**\n",
    "    - 연관된 범주형 변수를 자동으로 결합시켜줌으로써 변수를 줄임\n",
    "- **장점**: 범주형 변수에 대해서 특정 인코딩 방식을 통해 정확도와 속도를 높임\n",
    "- **단점**: 연속형 변수가 많을 경우 catboost 속도가 현저하게 떨어짐\n",
    "- 결과적으로 catboost를 사용할 때 변수들을 범주형으로 만들려는 노력을 많이해야함"
   ]
  },
  {
   "cell_type": "code",
   "execution_count": null,
   "id": "5c152c8e",
   "metadata": {},
   "outputs": [],
   "source": [
    "from catboost import CatBoostClassifier\n",
    "\n",
    "cat_clf = CatBoostClassifier()\n",
    "cat_clf.fit(x_train,y_train)\n",
    "cat_pred = cat_clf.predict(x_test)\n",
    "cat_acc = accuracy_score(y_test, cat_pred)\n",
    "accuracy_list.append(100*cat_acc)"
   ]
  },
  {
   "cell_type": "code",
   "execution_count": null,
   "id": "870ab81d",
   "metadata": {},
   "outputs": [],
   "source": [
    "print(Fore.GREEN + \"Accuracy of CatBoostClassifier is : \",\"{:.2f}%\".format(100* cat_acc))"
   ]
  },
  {
   "cell_type": "code",
   "execution_count": null,
   "id": "87812ec4",
   "metadata": {},
   "outputs": [],
   "source": [
    "cm = confusion_matrix(y_test, cat_pred)\n",
    "plt.figure()\n",
    "plot_confusion_matrix(cm, figsize=(12,8), hide_ticks=True, cmap=plt.cm.Blues)\n",
    "plt.title(\"Cat Boost Classifier Model - Confusion Matrix\")\n",
    "plt.xticks(range(2), [\"Heart Not Failed\",\"Heart Fail\"], fontsize=16)\n",
    "plt.yticks(range(2), [\"Heart Not Failed\",\"Heart Fail\"], fontsize=16)\n",
    "plt.show()"
   ]
  },
  {
   "cell_type": "code",
   "execution_count": null,
   "id": "12b5a5dc",
   "metadata": {},
   "outputs": [],
   "source": [
    "model_list = ['Logistic Regression', 'SVC','KNearestNeighbours', 'DecisionTree', 'RandomForest',\n",
    "              'GradientBooster', 'XGBRF','LGBM', 'CatBoostClassifier']"
   ]
  },
  {
   "cell_type": "code",
   "execution_count": null,
   "id": "cabc06d4",
   "metadata": {},
   "outputs": [],
   "source": [
    "import seaborn as sns\n",
    "\n",
    "plt.rcParams['figure.figsize']=20,8\n",
    "sns.set_style('darkgrid')\n",
    "ax = sns.barplot(x=model_list, y=accuracy_list, palette = \"husl\", saturation =2.0)\n",
    "plt.xlabel('Classifier Models', fontsize = 20 )\n",
    "plt.ylabel('% of Accuracy', fontsize = 20)\n",
    "plt.title('Accuracy of different Classifier Models', fontsize = 20)\n",
    "plt.xticks(fontsize = 12, horizontalalignment = 'center', rotation = 8)\n",
    "plt.yticks(fontsize = 12)\n",
    "for i in ax.patches:\n",
    "    width, height = i.get_width(), i.get_height()\n",
    "    x, y = i.get_xy() \n",
    "    ax.annotate(f'{round(height,2)}%', (x + width/2, y + height*1.02), ha='center', fontsize = 'x-large')\n",
    "plt.show()"
   ]
  }
 ],
 "metadata": {
  "kernelspec": {
   "display_name": "Python 3 (ipykernel)",
   "language": "python",
   "name": "python3"
  },
  "language_info": {
   "codemirror_mode": {
    "name": "ipython",
    "version": 3
   },
   "file_extension": ".py",
   "mimetype": "text/x-python",
   "name": "python",
   "nbconvert_exporter": "python",
   "pygments_lexer": "ipython3",
   "version": "3.9.12"
  }
 },
 "nbformat": 4,
 "nbformat_minor": 5
}
