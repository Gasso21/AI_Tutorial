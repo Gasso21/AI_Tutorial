{
 "cells": [
  {
   "cell_type": "code",
   "execution_count": 1,
   "id": "98b58e74",
   "metadata": {},
   "outputs": [
    {
     "name": "stdout",
     "output_type": "stream",
     "text": [
      "Once deleted, variables cannot be recovered. Proceed (y/[n])? y\n"
     ]
    }
   ],
   "source": [
    "%reset"
   ]
  },
  {
   "cell_type": "code",
   "execution_count": 11,
   "id": "c531b633",
   "metadata": {},
   "outputs": [],
   "source": [
    "import pandas as pd\n",
    "from sklearn.preprocessing import StandardScaler"
   ]
  },
  {
   "cell_type": "code",
   "execution_count": 23,
   "id": "48163a47",
   "metadata": {},
   "outputs": [
    {
     "name": "stdout",
     "output_type": "stream",
     "text": [
      "     raisedhands  VisITedResources  AnnouncementsView  Discussion Class  \\\n",
      "0             15                16                  2          20     M   \n",
      "1             20                20                  3          25     M   \n",
      "2             10                 7                  0          30     L   \n",
      "3             30                25                  5          35     L   \n",
      "4             40                50                 12          50     M   \n",
      "..           ...               ...                ...         ...   ...   \n",
      "475            5                 4                  5           8     L   \n",
      "476           50                77                 14          28     M   \n",
      "477           55                74                 25          29     M   \n",
      "478           30                17                 14          57     L   \n",
      "479           35                14                 23          62     L   \n",
      "\n",
      "     gender_M  NationalITy_Iran  NationalITy_Iraq  NationalITy_Jordan  \\\n",
      "0           1                 0                 0                   0   \n",
      "1           1                 0                 0                   0   \n",
      "2           1                 0                 0                   0   \n",
      "3           1                 0                 0                   0   \n",
      "4           1                 0                 0                   0   \n",
      "..        ...               ...               ...                 ...   \n",
      "475         0                 0                 0                   1   \n",
      "476         0                 0                 0                   1   \n",
      "477         0                 0                 0                   1   \n",
      "478         0                 0                 0                   1   \n",
      "479         0                 0                 0                   1   \n",
      "\n",
      "     NationalITy_KW  ...  Topic_IT  Topic_Math  Topic_Quran  Topic_Science  \\\n",
      "0                 1  ...         1           0            0              0   \n",
      "1                 1  ...         1           0            0              0   \n",
      "2                 1  ...         1           0            0              0   \n",
      "3                 1  ...         1           0            0              0   \n",
      "4                 1  ...         1           0            0              0   \n",
      "..              ...  ...       ...         ...          ...            ...   \n",
      "475               0  ...         0           0            0              0   \n",
      "476               0  ...         0           0            0              0   \n",
      "477               0  ...         0           0            0              0   \n",
      "478               0  ...         0           0            0              0   \n",
      "479               0  ...         0           0            0              0   \n",
      "\n",
      "     Topic_Spanish  Semester_S  Relation_Mum  ParentAnsweringSurvey_Yes  \\\n",
      "0                0           0             0                          1   \n",
      "1                0           0             0                          1   \n",
      "2                0           0             0                          0   \n",
      "3                0           0             0                          0   \n",
      "4                0           0             0                          0   \n",
      "..             ...         ...           ...                        ...   \n",
      "475              0           1             0                          0   \n",
      "476              0           0             0                          0   \n",
      "477              0           1             0                          0   \n",
      "478              0           0             0                          0   \n",
      "479              0           1             0                          0   \n",
      "\n",
      "     ParentschoolSatisfaction_Good  StudentAbsenceDays_Under-7  \n",
      "0                                1                           1  \n",
      "1                                1                           1  \n",
      "2                                0                           0  \n",
      "3                                0                           0  \n",
      "4                                0                           0  \n",
      "..                             ...                         ...  \n",
      "475                              0                           0  \n",
      "476                              0                           1  \n",
      "477                              0                           1  \n",
      "478                              0                           0  \n",
      "479                              0                           0  \n",
      "\n",
      "[480 rows x 61 columns]\n",
      "     raisedhands  VisITedResources  AnnouncementsView  Discussion Class  \\\n",
      "0      -1.033429         -1.174075          -1.351167   -0.843326     M   \n",
      "1      -0.870813         -1.053029          -1.313549   -0.662225     M   \n",
      "2      -1.196046         -1.446426          -1.426401   -0.481125     L   \n",
      "3      -0.545579         -0.901723          -1.238315   -0.300024     L   \n",
      "4      -0.220346         -0.145191          -0.974994    0.243279     M   \n",
      "..           ...               ...                ...         ...   ...   \n",
      "475    -1.358663         -1.537210          -1.238315   -1.277968     L   \n",
      "476     0.104888          0.671863          -0.899759   -0.553565     M   \n",
      "477     0.267505          0.581080          -0.485969   -0.517345     M   \n",
      "478    -0.545579         -1.143813          -0.899759    0.496820     L   \n",
      "479    -0.382962         -1.234597          -0.561203    0.677921     L   \n",
      "\n",
      "     gender_M  NationalITy_Iran  NationalITy_Iraq  NationalITy_Jordan  \\\n",
      "0           1                 0                 0                   0   \n",
      "1           1                 0                 0                   0   \n",
      "2           1                 0                 0                   0   \n",
      "3           1                 0                 0                   0   \n",
      "4           1                 0                 0                   0   \n",
      "..        ...               ...               ...                 ...   \n",
      "475         0                 0                 0                   1   \n",
      "476         0                 0                 0                   1   \n",
      "477         0                 0                 0                   1   \n",
      "478         0                 0                 0                   1   \n",
      "479         0                 0                 0                   1   \n",
      "\n",
      "     NationalITy_KW  ...  Topic_IT  Topic_Math  Topic_Quran  Topic_Science  \\\n",
      "0                 1  ...         1           0            0              0   \n",
      "1                 1  ...         1           0            0              0   \n",
      "2                 1  ...         1           0            0              0   \n",
      "3                 1  ...         1           0            0              0   \n",
      "4                 1  ...         1           0            0              0   \n",
      "..              ...  ...       ...         ...          ...            ...   \n",
      "475               0  ...         0           0            0              0   \n",
      "476               0  ...         0           0            0              0   \n",
      "477               0  ...         0           0            0              0   \n",
      "478               0  ...         0           0            0              0   \n",
      "479               0  ...         0           0            0              0   \n",
      "\n",
      "     Topic_Spanish  Semester_S  Relation_Mum  ParentAnsweringSurvey_Yes  \\\n",
      "0                0           0             0                          1   \n",
      "1                0           0             0                          1   \n",
      "2                0           0             0                          0   \n",
      "3                0           0             0                          0   \n",
      "4                0           0             0                          0   \n",
      "..             ...         ...           ...                        ...   \n",
      "475              0           1             0                          0   \n",
      "476              0           0             0                          0   \n",
      "477              0           1             0                          0   \n",
      "478              0           0             0                          0   \n",
      "479              0           1             0                          0   \n",
      "\n",
      "     ParentschoolSatisfaction_Good  StudentAbsenceDays_Under-7  \n",
      "0                                1                           1  \n",
      "1                                1                           1  \n",
      "2                                0                           0  \n",
      "3                                0                           0  \n",
      "4                                0                           0  \n",
      "..                             ...                         ...  \n",
      "475                              0                           0  \n",
      "476                              0                           1  \n",
      "477                              0                           1  \n",
      "478                              0                           0  \n",
      "479                              0                           0  \n",
      "\n",
      "[480 rows x 61 columns]\n"
     ]
    },
    {
     "data": {
      "text/plain": [
       "\"\\n# One-hot Encoding Categorical DataSet\\ndf = pd.get_dummies(df, columns=cat_columns, drop_first=True)\\nx = x.concat(df['raisedhands',\\n       'VisITedResources', 'AnnouncementsView', 'Discussion'])\\ny = df.Class\\n\""
      ]
     },
     "execution_count": 23,
     "metadata": {},
     "output_type": "execute_result"
    }
   ],
   "source": [
    "df = pd.read_csv(\"./xAPI-Edu-Data.csv\")\n",
    "# One-Hot Encoding Categorical Data Except to Target Data\n",
    "df = pd.get_dummies(df, columns=cat_columns, drop_first=True)\n",
    "\n",
    "cat_columns = [x for x in df.columns if x not in ['raisedhands',\n",
    "               'VisITedResources', 'AnnouncementsView', 'Discussion', 'Class']]\n",
    "float_columns = ['raisedhands', 'VisITedResources', 'AnnouncementsView', 'Discussion']\n",
    "\n",
    "\n",
    "df = pd.get_dummies(df, columns=cat_columns, drop_first=True)\n",
    "\n",
    "# Scale Continuous DataSet\n",
    "sc = StandardScaler()\n",
    "df[float_columns] = sc.fit_transform(df[float_columns])"
   ]
  },
  {
   "cell_type": "code",
   "execution_count": 10,
   "id": "922132e9",
   "metadata": {},
   "outputs": [
    {
     "data": {
      "text/plain": [
       "Index(['gender', 'NationalITy', 'PlaceofBirth', 'StageID', 'GradeID',\n",
       "       'SectionID', 'Topic', 'Semester', 'Relation', 'raisedhands',\n",
       "       'VisITedResources', 'AnnouncementsView', 'Discussion',\n",
       "       'ParentAnsweringSurvey', 'ParentschoolSatisfaction',\n",
       "       'StudentAbsenceDays', 'Class'],\n",
       "      dtype='object')"
      ]
     },
     "execution_count": 10,
     "metadata": {},
     "output_type": "execute_result"
    }
   ],
   "source": [
    "df.columns"
   ]
  },
  {
   "cell_type": "code",
   "execution_count": null,
   "id": "8eb971a2",
   "metadata": {},
   "outputs": [],
   "source": []
  }
 ],
 "metadata": {
  "kernelspec": {
   "display_name": "Python 3 (ipykernel)",
   "language": "python",
   "name": "python3"
  },
  "language_info": {
   "codemirror_mode": {
    "name": "ipython",
    "version": 3
   },
   "file_extension": ".py",
   "mimetype": "text/x-python",
   "name": "python",
   "nbconvert_exporter": "python",
   "pygments_lexer": "ipython3",
   "version": "3.9.12"
  }
 },
 "nbformat": 4,
 "nbformat_minor": 5
}
