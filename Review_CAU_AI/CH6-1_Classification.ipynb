{
 "cells": [
  {
   "cell_type": "markdown",
   "id": "54b83605",
   "metadata": {},
   "source": [
    "# Supervised Learning\n",
    "- **Regression**: Input -> Continuous Value\n",
    "- **Classification**: Input -> Discrete Value(Class, Label, Category, ...)"
   ]
  },
  {
   "cell_type": "code",
   "execution_count": 24,
   "id": "7957d69e",
   "metadata": {},
   "outputs": [
    {
     "name": "stdout",
     "output_type": "stream",
     "text": [
      "X=[1.94 1.67 0.92 1.11 1.41 1.65 2.28 0.47 1.07 2.19 2.08 1.02 0.91 1.16\n",
      " 1.46 1.02 0.85 0.89 1.79 1.89 0.75 0.9  1.87 0.5  0.69 1.5  0.96 0.53\n",
      " 1.21 0.6 ]\n",
      "T=[1 1 0 0 1 1 1 0 0 1 1 0 0 0 1 0 0 0 1 1 0 1 1 0 0 1 1 0 1 0]\n"
     ]
    }
   ],
   "source": [
    "# 데이터 생성\n",
    "import numpy as np\n",
    "import matplotlib.pyplot as plt\n",
    "%matplotlib inline\n",
    "%config InlineBackend.figure_format='retina'\n",
    "\n",
    "# 데이터 생성 --------------------------------\n",
    "np.random.seed(seed=0) # 난수를 고정\n",
    "X_min = 0\n",
    "X_max = 2.5\n",
    "X_n = 30\n",
    "X_col = ['cornflowerblue', 'gray']\n",
    "X = np.zeros(X_n) # 입력 데이터\n",
    "T = np.zeros(X_n, dtype=np.uint8) # 목표 데이터\n",
    "Dist_s = [0.4, 0.8] # 분포의 시작 지점\n",
    "Dist_w = [0.8, 1.6] # 분포의 폭\n",
    "Pi = 0.5 # 클래스 0의 비율\n",
    "for n in range(X_n):\n",
    "    wk = np.random.rand()\n",
    "    T[n] = 0 * (wk < Pi) + 1 * (wk >= Pi) # (A)\n",
    "    X[n] = np.random.rand() * Dist_w[T[n]] + Dist_s[T[n]] # (B)\n",
    "# 데이터 표시 --------------------------------\n",
    "print('X=' + str(np.round(X, 2)))\n",
    "print('T=' + str(T))"
   ]
  },
  {
   "cell_type": "markdown",
   "id": "13a6ac03",
   "metadata": {},
   "source": [
    "## How to choose Decision Boundary?\n",
    "1. **Linear Regression**\n",
    "\n",
    "\n",
    "2. **By Probability**\n",
    "- Logistic Regression"
   ]
  },
  {
   "cell_type": "markdown",
   "id": "3fc1de7c",
   "metadata": {},
   "source": [
    "## Logistic Regression, LR\n",
    "$\\textbf{Linear Model}$\n",
    "- $y = w_0x+w_1$\n",
    "\n",
    "$\\textbf{Sigmoid Function}$\n",
    "- $y = \\sigma(x) = \\cfrac{1}{1+e^{-x}}$\n",
    "\n",
    "$\\textbf{Logistic Regression Model}$\n",
    "- $y = \\sigma(w_0x+w_1) = \\cfrac{1}{1+e^{-(w_0x+w_1)}}$"
   ]
  },
  {
   "cell_type": "code",
   "execution_count": 25,
   "id": "c5ac3e68",
   "metadata": {},
   "outputs": [],
   "source": [
    "def logistic(x, w):\n",
    "    y = 1/(1+np.exp(-(w[0]*x+w[1])))\n",
    "    return y"
   ]
  },
  {
   "cell_type": "code",
   "execution_count": 26,
   "id": "0e284e79",
   "metadata": {},
   "outputs": [
    {
     "data": {
      "image/png": "[encoded data removed]",
      "text/plain": [
       "<Figure size 432x288 with 1 Axes>"
      ]
     },
     "metadata": {
      "image/png": {
       "height": 248,
       "width": 386
      },
      "needs_background": "light"
     },
     "output_type": "display_data"
    }
   ],
   "source": [
    "def show_logistic(ax, w):\n",
    "    X = np.linspace(0, 2.5, 100)\n",
    "    Y = logistic(X, w)\n",
    "    ax.plot(X, Y, color='grey', linewidth=4)\n",
    "    \n",
    "    i = np.min(np.where(Y>0.5))\n",
    "    B = (X[i-1] + X[i])/2\n",
    "    ax.plot([B, B], [-.5, 1.5], color='k', linestyle='--')\n",
    "    \n",
    "    ax.grid()\n",
    "    \n",
    "if __name__==\"__main__\":\n",
    "    w = [8, -10]\n",
    "    ax = plt.gca()\n",
    "    show_logistic(ax, w)"
   ]
  },
  {
   "cell_type": "markdown",
   "id": "e75573e8",
   "metadata": {},
   "source": [
    "## Cross Entropy Error, CEE\n",
    "$\\textbf{Logistic Regression Model}$\n",
    "- $y = \\sigma(w_0x+w_1) = P(t=1|x)$\n",
    "\n",
    "It can be transformed like\n",
    "$ \\qquad P(t|x) = y^t(1-y)^{1-t} \\\\\n",
    "\\qquad \\rightarrow P(t=1|x) = y^1(1-y)^{1-1} = y$"
   ]
  },
  {
   "cell_type": "markdown",
   "id": "aa564eb5",
   "metadata": {},
   "source": [
    "$\\textbf{Log Likelihood}$\n",
    "N-dim X(data) and N-dim T(target)\n",
    "$ \\qquad P(\\textbf{T}|\\textbf{X}) = \\prod\\limits_{n=0}^{N-1}P(t_n|x_n) = \\prod\\limits_{n=0}^{N-1}y_n^{t_n}(1-y_n)^{1-t_n} \\\\\n",
    "\\qquad \\rightarrow \\log P(\\textbf{T}|\\textbf{X}) = \\sum \\limits_{n=0}^{N-1}\\{t_n\\log y_n+(1-t_n)\\log (1-y_n)\\}$\n",
    "\n",
    "**Our Goal is to find w0 & w1 that maximize log likelihood.**"
   ]
  },
  {
   "cell_type": "markdown",
   "id": "6ab97020",
   "metadata": {},
   "source": [
    "## Cross_Entropy error function\n",
    "$E(\\textbf{w}) = -\\cfrac{1}{N}\\log P(\\textbf{T}|\\textbf{X}) = -\\cfrac{1}{N}\\sum \\limits_{n=0}^{N-1}\\{t_n\\log y_n+(1-t_n)\\log (1-y_n)\\}$\n",
    "\n",
    "**Like MSE, Minimize $E(\\textbf{w})$**"
   ]
  },
  {
   "cell_type": "code",
   "execution_count": 29,
   "id": "ebccc079",
   "metadata": {},
   "outputs": [
    {
     "name": "stdout",
     "output_type": "stream",
     "text": [
      "1.0288191541851066\n"
     ]
    }
   ],
   "source": [
    "def cee_logistic(w, x, t):\n",
    "    y = logistic(x, w)\n",
    "    cee = -np.mean(t*np.log(y) + (1-t)*np.log(1-y))\n",
    "    return cee\n",
    "\n",
    "if __name__==\"__main__\":\n",
    "    W = [1, 1]\n",
    "    cee = cee_logistic(W, X, T)\n",
    "    print(cee)"
   ]
  },
  {
   "cell_type": "code",
   "execution_count": null,
   "id": "24aef298",
   "metadata": {},
   "outputs": [],
   "source": []
  }
 ],
 "metadata": {
  "kernelspec": {
   "display_name": "Python 3 (ipykernel)",
   "language": "python",
   "name": "python3"
  },
  "language_info": {
   "codemirror_mode": {
    "name": "ipython",
    "version": 3
   },
   "file_extension": ".py",
   "mimetype": "text/x-python",
   "name": "python",
   "nbconvert_exporter": "python",
   "pygments_lexer": "ipython3",
   "version": "3.9.12"
  }
 },
 "nbformat": 4,
 "nbformat_minor": 5
}
