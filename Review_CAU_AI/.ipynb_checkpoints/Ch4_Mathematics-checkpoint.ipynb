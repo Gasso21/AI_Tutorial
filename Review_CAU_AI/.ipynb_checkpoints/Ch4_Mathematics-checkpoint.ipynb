{
 "cells": [
  {
   "cell_type": "markdown",
   "id": "eed8280a",
   "metadata": {},
   "source": [
    "$$\n",
    "    \\|\\vec{a}\\|_2 = \\sqrt{a{^2_0} + a{^2_1} + ... + a{^2_{D-1}}}\n",
    "$$"
   ]
  },
  {
   "cell_type": "code",
   "execution_count": 3,
   "id": "098cacd2",
   "metadata": {},
   "outputs": [
    {
     "name": "stdout",
     "output_type": "stream",
     "text": [
      "3.1622776601683795\n"
     ]
    }
   ],
   "source": [
    "import numpy as np\n",
    "\n",
    "a = np.array([1, 3])\n",
    "print(np.linalg.norm(a))"
   ]
  },
  {
   "cell_type": "markdown",
   "id": "e454218b",
   "metadata": {},
   "source": [
    "$$\n",
    "    1+2+\\cdots+1000 = \n",
    "        \\left[ {\\begin{array}{c} \n",
    "            1 \\\\\n",
    "            1 \\\\\n",
    "            \\vdots \\\\\n",
    "            1\n",
    "        \\end{array} } \\right]\n",
    "        \\cdot\n",
    "        \\left[ {\\begin{array}{c}\n",
    "            1 \\\\\n",
    "            2 \\\\\n",
    "            \\vdots \\\\\n",
    "            1000\n",
    "        \\end{array} } \\right]\n",
    "$$"
   ]
  },
  {
   "cell_type": "code",
   "execution_count": null,
   "id": "03987ca9",
   "metadata": {},
   "outputs": [],
   "source": [
    "import numpy as np\n",
    "\n"
   ]
  }
 ],
 "metadata": {
  "kernelspec": {
   "display_name": "Python 3 (ipykernel)",
   "language": "python",
   "name": "python3"
  },
  "language_info": {
   "codemirror_mode": {
    "name": "ipython",
    "version": 3
   },
   "file_extension": ".py",
   "mimetype": "text/x-python",
   "name": "python",
   "nbconvert_exporter": "python",
   "pygments_lexer": "ipython3",
   "version": "3.9.12"
  }
 },
 "nbformat": 4,
 "nbformat_minor": 5
}
