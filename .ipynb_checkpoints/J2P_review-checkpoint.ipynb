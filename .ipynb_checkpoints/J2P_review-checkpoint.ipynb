{
 "cells": [
  {
   "cell_type": "markdown",
   "id": "3829a936",
   "metadata": {},
   "source": [
    "# String Type"
   ]
  },
  {
   "cell_type": "code",
   "execution_count": 7,
   "id": "2bca998c",
   "metadata": {},
   "outputs": [
    {
     "name": "stdout",
     "output_type": "stream",
     "text": [
      "Python's favorite food is perl. Python's favorite food is perl.\n",
      "\"Python is very easy.\" he says.\n"
     ]
    }
   ],
   "source": [
    "# 문자열에 작은 따옴표(')추가\n",
    "food1 = \"Python's favorite food is perl.\"\n",
    "food2 = 'Python\\'s favorite food is perl.'\n",
    "print(food1, food2, end = '\\n')\n",
    "\n",
    "# 문자열에 큰 따옴표(\")추가\n",
    "say = '\"Python is very easy.\" he says.'\n",
    "print(say)"
   ]
  },
  {
   "cell_type": "code",
   "execution_count": 10,
   "id": "bbe38814",
   "metadata": {},
   "outputs": [
    {
     "name": "stdout",
     "output_type": "stream",
     "text": [
      "python\n"
     ]
    }
   ],
   "source": [
    "# 문자열 변경\n",
    "\"\"\"\n",
    "a = \"pithon\"\n",
    "a[1] = 'y'\n",
    "print(a)\n",
    "\"\"\"\n",
    "a = \"pithon\"\n",
    "a = a[:1] + 'y' + a[2:]\n",
    "print(a)"
   ]
  },
  {
   "cell_type": "code",
   "execution_count": 27,
   "id": "1069c04c",
   "metadata": {},
   "outputs": [
    {
     "name": "stdout",
     "output_type": "stream",
     "text": [
      "Error is 98%.\n",
      "        hi\n",
      "hi        jane\n",
      "I ate 10 apples. so I was sick for 3 days.\n",
      "hi        \n",
      "        hi\n",
      "====hi====\n",
      "hi!!!!!!!!\n",
      "3.4213\n",
      "    3.4213\n"
     ]
    }
   ],
   "source": [
    "# 문자열 포맷 코드\n",
    "\"\"\"\n",
    "%s - 문자열(String)\n",
    "$c - 문자 1개(Character)\n",
    "%d - 정수(Integer)\n",
    "%f - 부동소수(Floating-point)\n",
    "%o - 8진수\n",
    "%x - 16진수\n",
    "%% - Literal % (문자 % 자체)\n",
    "\"\"\"\n",
    "\n",
    "# 포매팅 연산자 %d와 %를 같이 쓸 때는 %% 사용\n",
    "print(\"Error is %d%%.\" %98)\n",
    "\n",
    "# 정렬과 공백\n",
    "print(\"%10s\" %\"hi\") #전체 길이가 10개인 문자열 공간에서 대입되는 값을 오른쪽으로 정렬\n",
    "print(\"%-10sjane\" %\"hi\") #왼쪽 정렬\n",
    "\n",
    "# 이름으로 넣기\n",
    "print(\"I ate {number} apples. so I was sick for {day} days.\" .format(day=3, number=10))\n",
    "#{name}형태로 사용할 경우 format 함수에는 반드시 name=value와 같은 형태의 입력값이 었어야만 함\n",
    "\n",
    "# 왼쪽 정렬\n",
    "print(\"{0:<10}\" .format(\"hi\")) #:<10 표현식을 사용하면 치환되는 문자열을 왼쪽으로 정렬하고 문자열의 총 자릿수를 10으로 맞춤\n",
    "\n",
    "# 오른쪽 정렬\n",
    "print(\"{0:>10}\" .format(\"hi\"))\n",
    "\n",
    "# 공백 채우기\n",
    "\"\"\"\n",
    "정렬할 때 공백 문자 대신에 지정한 문자 값으로 채워 넣는 것도 가능\n",
    "채워 넣을 문자 값은 정렬 문자 <,^,> 바로 앞에 넣어야 함\n",
    "\"\"\"\n",
    "print(\"{0:=^10}\" .format(\"hi\"))\n",
    "print(\"{0:!<10}\" .format(\"hi\"))\n",
    "\n",
    "# 소수점 표현\n",
    "y = 3.42134234\n",
    "print(\"{0:0.4f}\" .format(y))\n",
    "print(\"{0:10.4f}\" .format(y))"
   ]
  },
  {
   "cell_type": "code",
   "execution_count": 30,
   "id": "e3341457",
   "metadata": {},
   "outputs": [
    {
     "name": "stdout",
     "output_type": "stream",
     "text": [
      "나의 이름은 홍길동입니다. 나이는 30입니다.\n",
      "나는 내년이면 31살이 된다.\n",
      "나의 이름은 홍길동입니다. 나이는 30입니다.\n",
      "hi        \n",
      "    hi    \n",
      "        hi\n",
      "====hi====\n",
      "hi!!!!!!!!\n",
      "3.1416\n",
      "    3.1416\n",
      "{name}\n"
     ]
    }
   ],
   "source": [
    "#f 문자열 포매팅\n",
    "name = '홍길동'\n",
    "age = 30\n",
    "print(f'나의 이름은 {name}입니다. 나이는 {age}입니다.')\n",
    "\n",
    "#표현식(+, -와 같은 수식을 함께 사용하는 것)을 지원\n",
    "age = 30\n",
    "print(f'나는 내년이면 {age+1}살이 된다.')\n",
    "\n",
    "#딕셔너리 사용\n",
    "d = {'name':'홍길동', 'age':30}\n",
    "print(f'나의 이름은 {d[\"name\"]}입니다. 나이는 {d[\"age\"]}입니다.')\n",
    "\n",
    "#정렬\n",
    "print(f'{\"hi\":<10}')\n",
    "print(f'{\"hi\":^10}')\n",
    "print(f'{\"hi\":>10}')\n",
    "\n",
    "#공백채우기\n",
    "print(f'{\"hi\":=^10}')\n",
    "print(f'{\"hi\":!<10}')\n",
    "\n",
    "#소수점\n",
    "y = 3.141592\n",
    "print(f'{y:0.4f}')\n",
    "print(f'{y:10.4f}')\n",
    "\n",
    "print(f'{{name}}')"
   ]
  },
  {
   "cell_type": "code",
   "execution_count": 70,
   "id": "0980042e",
   "metadata": {},
   "outputs": [
    {
     "name": "stdout",
     "output_type": "stream",
     "text": [
      "Python is the best choice.\n",
      ".count('i'): 2\n",
      ".find('b'): 14\n",
      ".find('k'): -1\n",
      ".index('b') 14\n",
      "\".join(a)\" P,y,t,h,o,n, ,i,s, ,t,h,e, ,b,e,s,t, ,c,h,o,i,c,e,.\n",
      ".replace(old,new): Korean is the best choice.\n",
      ".split() ['Python', 'is', 'the', 'best', 'choice.']\n",
      ".split(' ') ['Python', 'is', 'the', 'best', 'choice.']\n",
      "a,b,c,d\n",
      ".upper(): PYTHON IS THE BEST CHOICE.\n",
      ".lower(): python is the best choice.\n",
      "----hi----\n",
      ".lstrip('-'): hi----\n",
      ".rstrip('-'): ----hi\n",
      ".strip('-'): hi\n"
     ]
    }
   ],
   "source": [
    "# Function\n",
    "a = \"Python is the best choice.\"\n",
    "print(a)\n",
    "print(\".count('i'):\",a.count('i'))\n",
    "print(\".find('b'):\", a.find('b')) #'b'가 처음으로 나온 위치를 반환\n",
    "print(\".find('k'):\", a.find('k')) #찾는 문자나 문자열이 존재하지 않는다면 -1을 반환\n",
    "print(\".index('b')\", a.index('b')) #'b'가 처음으로 나온 위치를 반환\n",
    "#print(a.index('b')) #찾는 문자나 문자열이 존재하지 않는다면 오류를 발생\n",
    "print('\".join(a)\"', \",\".join(a)) #문자열의 각각의 문자 사이에 ','을 삽입\n",
    "print(\".replace(old,new):\", a.replace(\"Python\",\"Korean\"))\n",
    "print(\".split()\", a.split())\n",
    "print(\".split(' ')\", a.split(' '))\n",
    "\"\"\"\n",
    "join 함수는 문자열뿐만 아니라 앞으로 배울 리스트나 튜플도 입력으로 사용할 수 있음\n",
    "\"\"\"\n",
    "print(\",\".join(['a','b','c','d'])) #join 함수의 입력으로 리스트를 사용\n",
    "print(\".upper():\", a.upper())\n",
    "print(\".lower():\", a.lower())\n",
    "\n",
    "a = \"----hi----\"\n",
    "print(a)\n",
    "print(\".lstrip('-'):\", a.lstrip('-')) #왼쪽 공백 지우기(lstrip)\n",
    "print(\".rstrip('-'):\", a.rstrip('-')) #오른쪽 공백 지우기(rstrip)\n",
    "print(\".strip('-'):\", a.strip('-')) #양쪽 공백 지우기(strip)"
   ]
  },
  {
   "cell_type": "markdown",
   "id": "9a617fbf",
   "metadata": {},
   "source": [
    "# List Type"
   ]
  },
  {
   "cell_type": "code",
   "execution_count": 83,
   "id": "effbe6de",
   "metadata": {},
   "outputs": [
    {
     "name": "stdout",
     "output_type": "stream",
     "text": [
      "[1, 2, 3]\n",
      "[1]\n",
      "[1, 2, 4, 5] ['a', 'c', 'd', 'v']\n"
     ]
    }
   ],
   "source": [
    "# 리스트 삭제\n",
    "a = [1, 2, 3]\n",
    "print(a)\n",
    "del a[1:]\n",
    "print(a)\n",
    "\n",
    "# 오름차순 정렬\n",
    "b = [1, 4, 5, 2]\n",
    "c = ['a', 'v', 'c', 'd']\n",
    "b.sort()\n",
    "c.sort()\n",
    "print(b,c, end = \"\\n\")"
   ]
  },
  {
   "cell_type": "code",
   "execution_count": null,
   "id": "914340fd",
   "metadata": {},
   "outputs": [],
   "source": []
  }
 ],
 "metadata": {
  "kernelspec": {
   "display_name": "Python 3 (ipykernel)",
   "language": "python",
   "name": "python3"
  },
  "language_info": {
   "codemirror_mode": {
    "name": "ipython",
    "version": 3
   },
   "file_extension": ".py",
   "mimetype": "text/x-python",
   "name": "python",
   "nbconvert_exporter": "python",
   "pygments_lexer": "ipython3",
   "version": "3.9.12"
  }
 },
 "nbformat": 4,
 "nbformat_minor": 5
}
