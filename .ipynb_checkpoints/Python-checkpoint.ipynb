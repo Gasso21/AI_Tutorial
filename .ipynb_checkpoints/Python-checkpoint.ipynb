{
 "cells": [
  {
   "cell_type": "markdown",
   "id": "cb0a9c92",
   "metadata": {},
   "source": [
    "## 사칙연산"
   ]
  },
  {
   "cell_type": "code",
   "execution_count": 2,
   "id": "ab85ae5e",
   "metadata": {},
   "outputs": [
    {
     "data": {
      "text/plain": [
       "256"
      ]
     },
     "execution_count": 2,
     "metadata": {},
     "output_type": "execute_result"
    }
   ],
   "source": [
    "2**8 #2^8"
   ]
  },
  {
   "cell_type": "code",
   "execution_count": 3,
   "id": "dd83e203",
   "metadata": {},
   "outputs": [
    {
     "data": {
      "text/plain": [
       "1.75"
      ]
     },
     "execution_count": 3,
     "metadata": {},
     "output_type": "execute_result"
    }
   ],
   "source": [
    "7/4 #실수형 나눗셈"
   ]
  },
  {
   "cell_type": "code",
   "execution_count": 4,
   "id": "9a621f83",
   "metadata": {},
   "outputs": [
    {
     "data": {
      "text/plain": [
       "1"
      ]
     },
     "execution_count": 4,
     "metadata": {},
     "output_type": "execute_result"
    }
   ],
   "source": [
    "7//4 #정수형 나눗셈, 몫 반환"
   ]
  },
  {
   "cell_type": "code",
   "execution_count": 6,
   "id": "e902e372",
   "metadata": {},
   "outputs": [
    {
     "data": {
      "text/plain": [
       "3"
      ]
     },
     "execution_count": 6,
     "metadata": {},
     "output_type": "execute_result"
    }
   ],
   "source": [
    "7%4 #정수형 나눗셈, 나머지 반환"
   ]
  },
  {
   "cell_type": "markdown",
   "id": "ae47aa47",
   "metadata": {},
   "source": [
    "## 변수"
   ]
  },
  {
   "cell_type": "code",
   "execution_count": 7,
   "id": "c3944215",
   "metadata": {},
   "outputs": [
    {
     "data": {
      "text/plain": [
       "0.8"
      ]
     },
     "execution_count": 7,
     "metadata": {},
     "output_type": "execute_result"
    }
   ],
   "source": [
    "x = 1/5\n",
    "y = 3/5\n",
    "x+y"
   ]
  },
  {
   "cell_type": "markdown",
   "id": "a2f9e38b",
   "metadata": {},
   "source": [
    "## 자료형"
   ]
  },
  {
   "cell_type": "code",
   "execution_count": 8,
   "id": "b161b97c",
   "metadata": {},
   "outputs": [
    {
     "data": {
      "text/plain": [
       "int"
      ]
     },
     "execution_count": 8,
     "metadata": {},
     "output_type": "execute_result"
    }
   ],
   "source": [
    "type(100)"
   ]
  },
  {
   "cell_type": "code",
   "execution_count": 9,
   "id": "7e2a9b89",
   "metadata": {},
   "outputs": [
    {
     "data": {
      "text/plain": [
       "float"
      ]
     },
     "execution_count": 9,
     "metadata": {},
     "output_type": "execute_result"
    }
   ],
   "source": [
    "type(100.1)"
   ]
  },
  {
   "cell_type": "code",
   "execution_count": 10,
   "id": "58960795",
   "metadata": {},
   "outputs": [
    {
     "data": {
      "text/plain": [
       "str"
      ]
     },
     "execution_count": 10,
     "metadata": {},
     "output_type": "execute_result"
    }
   ],
   "source": [
    "x = 'learning'\n",
    "type(x)"
   ]
  },
  {
   "cell_type": "code",
   "execution_count": 12,
   "id": "dabf957e",
   "metadata": {},
   "outputs": [
    {
     "name": "stdout",
     "output_type": "stream",
     "text": [
      "hello world\n"
     ]
    }
   ],
   "source": [
    "hello = \"hello\"\n",
    "world = \"world\"\n",
    "hw = hello + ' ' + world\n",
    "print(hw)"
   ]
  },
  {
   "cell_type": "code",
   "execution_count": 13,
   "id": "46001645",
   "metadata": {},
   "outputs": [
    {
     "name": "stdout",
     "output_type": "stream",
     "text": [
      "hello world\n"
     ]
    }
   ],
   "source": [
    "hw = 'hello %s' %'world'\n",
    "print(hw)"
   ]
  },
  {
   "cell_type": "code",
   "execution_count": 15,
   "id": "03849950",
   "metadata": {},
   "outputs": [
    {
     "name": "stdout",
     "output_type": "stream",
     "text": [
      "hello world 12\n"
     ]
    }
   ],
   "source": [
    "hw12 = '%s %s %d' %(hello, 'world', 12)\n",
    "print(hw12)"
   ]
  },
  {
   "cell_type": "code",
   "execution_count": 16,
   "id": "bd014041",
   "metadata": {},
   "outputs": [
    {
     "data": {
      "text/plain": [
       "'        hi'"
      ]
     },
     "execution_count": 16,
     "metadata": {},
     "output_type": "execute_result"
    }
   ],
   "source": [
    "'%10s' %\"hi\""
   ]
  },
  {
   "cell_type": "code",
   "execution_count": 17,
   "id": "2c9cefd9",
   "metadata": {},
   "outputs": [
    {
     "data": {
      "text/plain": [
       "'hi        jane.'"
      ]
     },
     "execution_count": 17,
     "metadata": {},
     "output_type": "execute_result"
    }
   ],
   "source": [
    "'%-10sjane.' %'hi'"
   ]
  },
  {
   "cell_type": "code",
   "execution_count": 21,
   "id": "c48099a4",
   "metadata": {},
   "outputs": [
    {
     "data": {
      "text/plain": [
       "'1223.4232'"
      ]
     },
     "execution_count": 21,
     "metadata": {},
     "output_type": "execute_result"
    }
   ],
   "source": [
    "'%0.4f' %1223.423173 #반올림"
   ]
  },
  {
   "cell_type": "code",
   "execution_count": 26,
   "id": "c0a6edf7",
   "metadata": {},
   "outputs": [
    {
     "data": {
      "text/plain": [
       "'1232123.4231'"
      ]
     },
     "execution_count": 26,
     "metadata": {},
     "output_type": "execute_result"
    }
   ],
   "source": [
    "'%2.4f' %1232123.4231223"
   ]
  },
  {
   "cell_type": "code",
   "execution_count": 31,
   "id": "a3d44f47",
   "metadata": {},
   "outputs": [
    {
     "name": "stdout",
     "output_type": "stream",
     "text": [
      "Life is too short\n",
      "['Life', 'is', 'too', 'short']\n"
     ]
    }
   ],
   "source": [
    "a = \"Life is too short\"\n",
    "b = a.split()\n",
    "print(a)\n",
    "print(b)"
   ]
  },
  {
   "cell_type": "code",
   "execution_count": 34,
   "id": "e71a4a94",
   "metadata": {},
   "outputs": [
    {
     "name": "stdout",
     "output_type": "stream",
     "text": [
      "['a', 'b', 'c', 'd']\n"
     ]
    }
   ],
   "source": [
    "a = \"a:b:c:d\"\n",
    "b = a.split(\":\")\n",
    "print(b)"
   ]
  },
  {
   "cell_type": "code",
   "execution_count": 35,
   "id": "94836ece",
   "metadata": {},
   "outputs": [
    {
     "name": "stdout",
     "output_type": "stream",
     "text": [
      "Abracadabra 11.000 homework\n"
     ]
    }
   ],
   "source": [
    "a = \"Abracadabra %.3f homework\"\n",
    "b = 11\n",
    "c = a%b\n",
    "print(c)"
   ]
  },
  {
   "cell_type": "code",
   "execution_count": 36,
   "id": "791d1051",
   "metadata": {},
   "outputs": [
    {
     "name": "stdout",
     "output_type": "stream",
     "text": [
      "1\n"
     ]
    }
   ],
   "source": [
    "print(a.count('A'))"
   ]
  },
  {
   "cell_type": "code",
   "execution_count": 38,
   "id": "c836dcaa",
   "metadata": {},
   "outputs": [
    {
     "name": "stdout",
     "output_type": "stream",
     "text": [
      "1\n"
     ]
    }
   ],
   "source": [
    "print(a.find('b'))"
   ]
  },
  {
   "cell_type": "code",
   "execution_count": 39,
   "id": "c81a3e67",
   "metadata": {},
   "outputs": [
    {
     "name": "stdout",
     "output_type": "stream",
     "text": [
      "ABRACADABRA %.3F HOMEWORK\n"
     ]
    }
   ],
   "source": [
    "A = a.upper()\n",
    "print(A)"
   ]
  },
  {
   "cell_type": "code",
   "execution_count": 42,
   "id": "5963a4fa",
   "metadata": {},
   "outputs": [
    {
     "name": "stdout",
     "output_type": "stream",
     "text": [
      "ABRACADABRA 11.000 HOMEWORK\n"
     ]
    }
   ],
   "source": [
    "print(A%b)"
   ]
  },
  {
   "cell_type": "code",
   "execution_count": 44,
   "id": "3331cc76",
   "metadata": {},
   "outputs": [
    {
     "name": "stdout",
     "output_type": "stream",
     "text": [
      "ABRACADABRA:%.3F:HOMEWORK\n"
     ]
    }
   ],
   "source": [
    "A = A.replace(' ',':')\n",
    "print(A)"
   ]
  },
  {
   "cell_type": "code",
   "execution_count": 47,
   "id": "dc81d4ac",
   "metadata": {},
   "outputs": [
    {
     "name": "stdout",
     "output_type": "stream",
     "text": [
      "['ABRACADABRA', '%.3F', 'HOMEWORK']\n"
     ]
    }
   ],
   "source": [
    "print(A.split(':'))"
   ]
  },
  {
   "cell_type": "markdown",
   "id": "e65031b2",
   "metadata": {},
   "source": [
    "## Boolean"
   ]
  },
  {
   "cell_type": "code",
   "execution_count": 52,
   "id": "f4f7dc0f",
   "metadata": {},
   "outputs": [
    {
     "name": "stdout",
     "output_type": "stream",
     "text": [
      "<class 'bool'>\n",
      "False\n",
      "True\n",
      "False\n",
      "True\n"
     ]
    }
   ],
   "source": [
    "t = True\n",
    "f = False\n",
    "print(type(t))\n",
    "print(t and f)\n",
    "print(t or f)\n",
    "print(not t)\n",
    "print(t != f)"
   ]
  },
  {
   "cell_type": "code",
   "execution_count": 53,
   "id": "ab09ec58",
   "metadata": {},
   "outputs": [
    {
     "name": "stdout",
     "output_type": "stream",
     "text": [
      "Life is too short\n"
     ]
    }
   ],
   "source": [
    "print(\"Life\",\"is\",\"too short\")"
   ]
  },
  {
   "cell_type": "markdown",
   "id": "e227980d",
   "metadata": {},
   "source": [
    "## String Output formatting"
   ]
  },
  {
   "cell_type": "code",
   "execution_count": 54,
   "id": "d1db47e6",
   "metadata": {},
   "outputs": [
    {
     "name": "stdout",
     "output_type": "stream",
     "text": [
      "weight = 71 kg\n"
     ]
    }
   ],
   "source": [
    "x = 71\n",
    "print('weight = {0} kg'.format(x))"
   ]
  },
  {
   "cell_type": "code",
   "execution_count": 55,
   "id": "8746285c",
   "metadata": {},
   "outputs": [
    {
     "name": "stdout",
     "output_type": "stream",
     "text": [
      "weight : 0.3333333333333333 kg 0.6666666666666666 kg 1 kg\n"
     ]
    }
   ],
   "source": [
    "x = 1/3\n",
    "y = 2/3\n",
    "z = 1\n",
    "print('weight : {0} kg {1} kg {2} kg'.format(x, y, z))"
   ]
  },
  {
   "cell_type": "code",
   "execution_count": 56,
   "id": "7295fa56",
   "metadata": {},
   "outputs": [
    {
     "name": "stdout",
     "output_type": "stream",
     "text": [
      "weight : 0.33kg, 0.667kg, 1.0kg\n"
     ]
    }
   ],
   "source": [
    "print('weight : {0:.2f}kg, {1:.3f}kg, {2:.1f}kg'.format(x, y, z))"
   ]
  },
  {
   "cell_type": "markdown",
   "id": "3c31a95c",
   "metadata": {},
   "source": [
    "## input"
   ]
  },
  {
   "cell_type": "code",
   "execution_count": 57,
   "id": "5a9ee41c",
   "metadata": {},
   "outputs": [
    {
     "name": "stdout",
     "output_type": "stream",
     "text": [
      "12\n"
     ]
    },
    {
     "data": {
      "text/plain": [
       "'12'"
      ]
     },
     "execution_count": 57,
     "metadata": {},
     "output_type": "execute_result"
    }
   ],
   "source": [
    "a = input()\n",
    "a"
   ]
  },
  {
   "cell_type": "markdown",
   "id": "f4bd8117",
   "metadata": {},
   "source": [
    "## while"
   ]
  },
  {
   "cell_type": "code",
   "execution_count": 60,
   "id": "6e6b8a1e",
   "metadata": {},
   "outputs": [
    {
     "name": "stdout",
     "output_type": "stream",
     "text": [
      "*\n",
      "**\n",
      "***\n",
      "****\n",
      "*****\n"
     ]
    }
   ],
   "source": [
    "x = \"*\"\n",
    "i = 1\n",
    "while i <= 5:\n",
    "    y = x*i\n",
    "    print(y)\n",
    "    i += 1"
   ]
  },
  {
   "cell_type": "code",
   "execution_count": 61,
   "id": "494bd218",
   "metadata": {},
   "outputs": [
    {
     "name": "stdout",
     "output_type": "stream",
     "text": [
      "166833\n"
     ]
    }
   ],
   "source": [
    "x = 1\n",
    "y = 0\n",
    "while x <= 1000:\n",
    "    if x % 3 == 0:\n",
    "        y += x\n",
    "    x += 1\n",
    "print(y)"
   ]
  },
  {
   "cell_type": "markdown",
   "id": "39666d46",
   "metadata": {},
   "source": [
    "## list"
   ]
  },
  {
   "cell_type": "code",
   "execution_count": 62,
   "id": "5e91fe27",
   "metadata": {},
   "outputs": [
    {
     "data": {
      "text/plain": [
       "('L', 'i')"
      ]
     },
     "execution_count": 62,
     "metadata": {},
     "output_type": "execute_result"
    }
   ],
   "source": [
    "a = \"Life is too short\"\n",
    "a[0], a[1]"
   ]
  },
  {
   "cell_type": "code",
   "execution_count": 64,
   "id": "cf51faf6",
   "metadata": {},
   "outputs": [
    {
     "ename": "TypeError",
     "evalue": "'str' object does not support item assignment",
     "output_type": "error",
     "traceback": [
      "\u001b[0;31m---------------------------------------------------------------------------\u001b[0m",
      "\u001b[0;31mTypeError\u001b[0m                                 Traceback (most recent call last)",
      "Input \u001b[0;32mIn [64]\u001b[0m, in \u001b[0;36m<cell line: 1>\u001b[0;34m()\u001b[0m\n\u001b[0;32m----> 1\u001b[0m a[\u001b[38;5;241m1\u001b[39m] \u001b[38;5;241m=\u001b[39m \u001b[38;5;124m'\u001b[39m\u001b[38;5;124mI\u001b[39m\u001b[38;5;124m'\u001b[39m\n",
      "\u001b[0;31mTypeError\u001b[0m: 'str' object does not support item assignment"
     ]
    }
   ],
   "source": [
    "a[1] = 'I' #문자열은 immutable 객체"
   ]
  },
  {
   "cell_type": "code",
   "execution_count": 66,
   "id": "e1125fca",
   "metadata": {},
   "outputs": [
    {
     "data": {
      "text/plain": [
       "'i'"
      ]
     },
     "execution_count": 66,
     "metadata": {},
     "output_type": "execute_result"
    }
   ],
   "source": [
    "b = list(a)\n",
    "b[1]"
   ]
  },
  {
   "cell_type": "code",
   "execution_count": 67,
   "id": "068fc2e9",
   "metadata": {},
   "outputs": [],
   "source": [
    "b[1] = 'I'"
   ]
  },
  {
   "cell_type": "code",
   "execution_count": 68,
   "id": "41f69c97",
   "metadata": {},
   "outputs": [
    {
     "name": "stdout",
     "output_type": "stream",
     "text": [
      "['L', 'I', 'f', 'e', ' ', 'i', 's', ' ', 't', 'o', 'o', ' ', 's', 'h', 'o', 'r', 't']\n"
     ]
    }
   ],
   "source": [
    "print(b) #리스트는 mutable 객체"
   ]
  },
  {
   "cell_type": "markdown",
   "id": "e37c655b",
   "metadata": {},
   "source": [
    "## 조건문"
   ]
  },
  {
   "cell_type": "code",
   "execution_count": 69,
   "id": "77f401db",
   "metadata": {},
   "outputs": [
    {
     "data": {
      "text/plain": [
       "True"
      ]
     },
     "execution_count": 69,
     "metadata": {},
     "output_type": "execute_result"
    }
   ],
   "source": [
    "1 in [1,2,3]"
   ]
  },
  {
   "cell_type": "code",
   "execution_count": 70,
   "id": "41fe0a5f",
   "metadata": {},
   "outputs": [
    {
     "data": {
      "text/plain": [
       "False"
      ]
     },
     "execution_count": 70,
     "metadata": {},
     "output_type": "execute_result"
    }
   ],
   "source": [
    "1 not in [1,2,3]"
   ]
  },
  {
   "cell_type": "markdown",
   "id": "afe60399",
   "metadata": {},
   "source": [
    "## range()"
   ]
  },
  {
   "cell_type": "code",
   "execution_count": 76,
   "id": "90d1b69b",
   "metadata": {},
   "outputs": [
    {
     "name": "stdout",
     "output_type": "stream",
     "text": [
      "[3, 5, 7]\n",
      "[9, 8, 7, 6, 5, 4, 3, 2, 1, 0]\n"
     ]
    }
   ],
   "source": [
    "x = list(range(10))\n",
    "print(x[3:8:2])\n",
    "print(x[::-1])"
   ]
  },
  {
   "cell_type": "markdown",
   "id": "3b618068",
   "metadata": {},
   "source": [
    "## 반복문"
   ]
  },
  {
   "cell_type": "code",
   "execution_count": 72,
   "id": "ad1cdac5",
   "metadata": {},
   "outputs": [
    {
     "name": "stdout",
     "output_type": "stream",
     "text": [
      "1 2 3 "
     ]
    }
   ],
   "source": [
    "for i in [1,2,3]:\n",
    "    print(i, end=' ')"
   ]
  },
  {
   "cell_type": "markdown",
   "id": "6778c586",
   "metadata": {},
   "source": [
    "## enumerate FCT."
   ]
  },
  {
   "cell_type": "code",
   "execution_count": 74,
   "id": "79d580c9",
   "metadata": {},
   "outputs": [
    {
     "name": "stdout",
     "output_type": "stream",
     "text": [
      "#0: cat\n",
      "#1: dog\n",
      "#2: monkey\n"
     ]
    }
   ],
   "source": [
    "animals = ['cat', 'dog', 'monkey']\n",
    "for idx, animal in enumerate(animals):\n",
    "    print('#%d: %s'%(idx, animal))"
   ]
  },
  {
   "cell_type": "code",
   "execution_count": 75,
   "id": "36bf4b6f",
   "metadata": {},
   "outputs": [
    {
     "name": "stdout",
     "output_type": "stream",
     "text": [
      "#1: cat\n",
      "#2: dog\n",
      "#3: monkey\n"
     ]
    }
   ],
   "source": [
    "for idx, animal in enumerate(animals):\n",
    "    print('#%d: %s'%(idx+1, animal))"
   ]
  },
  {
   "cell_type": "markdown",
   "id": "f0c1cf91",
   "metadata": {},
   "source": [
    "## .insert() method"
   ]
  },
  {
   "cell_type": "code",
   "execution_count": 86,
   "id": "be081f44",
   "metadata": {},
   "outputs": [
    {
     "name": "stdout",
     "output_type": "stream",
     "text": [
      "[4, 8, 12, 16, 20]\n"
     ]
    }
   ],
   "source": [
    "num = list(range(2,11,2))\n",
    "i = 0\n",
    "y = list()\n",
    "while i <= 4:\n",
    "    y.insert(i, num[i]*2)\n",
    "    i += 1\n",
    "print(y)"
   ]
  },
  {
   "cell_type": "code",
   "execution_count": 87,
   "id": "49d60e28",
   "metadata": {},
   "outputs": [
    {
     "name": "stdout",
     "output_type": "stream",
     "text": [
      "[4, 8, 12, 16, 20]\n"
     ]
    }
   ],
   "source": [
    "x = range(5)\n",
    "num = [2, 4, 6, 8, 10]\n",
    "for i in x:\n",
    "    num[i] *= 2\n",
    "print(num)"
   ]
  },
  {
   "cell_type": "code",
   "execution_count": 89,
   "id": "48d32110",
   "metadata": {},
   "outputs": [
    {
     "name": "stdout",
     "output_type": "stream",
     "text": [
      "[4, 8, 12, 16, 20]\n"
     ]
    }
   ],
   "source": [
    "num = [2,4,6,8,10]\n",
    "y = []\n",
    "for idx, x in enumerate(num):\n",
    "    y.insert(idx, x*2)\n",
    "print(y)"
   ]
  },
  {
   "cell_type": "code",
   "execution_count": 90,
   "id": "00c98a7b",
   "metadata": {},
   "outputs": [
    {
     "name": "stdout",
     "output_type": "stream",
     "text": [
      "78.88888888888889\n"
     ]
    }
   ],
   "source": [
    "A_Class = [70, 60, 55, 75, 95, 90, 80, 85, 100]\n",
    "x = 0\n",
    "z = 0\n",
    "for idx, y in enumerate(A_Class):\n",
    "    x += y\n",
    "z = x/(idx+1)\n",
    "print(z)"
   ]
  },
  {
   "cell_type": "markdown",
   "id": "b430372f",
   "metadata": {},
   "source": [
    "## List 연산"
   ]
  },
  {
   "cell_type": "code",
   "execution_count": 91,
   "id": "96498185",
   "metadata": {},
   "outputs": [
    {
     "name": "stdout",
     "output_type": "stream",
     "text": [
      "[1, 2, 3, 4, 5, 6]\n"
     ]
    }
   ],
   "source": [
    "a = [1,2,3]\n",
    "b = [4,5,6]\n",
    "print(a+b)"
   ]
  },
  {
   "cell_type": "code",
   "execution_count": 93,
   "id": "6662bb5b",
   "metadata": {},
   "outputs": [
    {
     "name": "stdout",
     "output_type": "stream",
     "text": [
      "[1, 2] 2\n"
     ]
    }
   ],
   "source": [
    "del a[2]\n",
    "print(a, len(a))"
   ]
  },
  {
   "cell_type": "markdown",
   "id": "39013e97",
   "metadata": {},
   "source": [
    "## List copy"
   ]
  },
  {
   "cell_type": "code",
   "execution_count": 95,
   "id": "14f29057",
   "metadata": {},
   "outputs": [
    {
     "name": "stdout",
     "output_type": "stream",
     "text": [
      "4407849728 4407849728\n"
     ]
    }
   ],
   "source": [
    "a = [1,2,3]\n",
    "b = a\n",
    "print(id(a), id(b)) #동일한 객체"
   ]
  },
  {
   "cell_type": "code",
   "execution_count": 96,
   "id": "540c96ba",
   "metadata": {},
   "outputs": [
    {
     "data": {
      "text/plain": [
       "True"
      ]
     },
     "execution_count": 96,
     "metadata": {},
     "output_type": "execute_result"
    }
   ],
   "source": [
    "a is b"
   ]
  },
  {
   "cell_type": "markdown",
   "id": "42058e48",
   "metadata": {},
   "source": [
    "### 1.[:] 이용"
   ]
  },
  {
   "cell_type": "code",
   "execution_count": 97,
   "id": "0b129e5b",
   "metadata": {},
   "outputs": [
    {
     "name": "stdout",
     "output_type": "stream",
     "text": [
      "4409316096 4408387904\n"
     ]
    }
   ],
   "source": [
    "a = [1, 2, 3]\n",
    "b = a[:]\n",
    "print(id(a),id(b))"
   ]
  },
  {
   "cell_type": "markdown",
   "id": "31486123",
   "metadata": {},
   "source": [
    "### 2.copy module 이용"
   ]
  },
  {
   "cell_type": "code",
   "execution_count": 99,
   "id": "334c77cf",
   "metadata": {},
   "outputs": [
    {
     "data": {
      "text/plain": [
       "False"
      ]
     },
     "execution_count": 99,
     "metadata": {},
     "output_type": "execute_result"
    }
   ],
   "source": [
    "a = [1,2,3]\n",
    "from copy import copy\n",
    "b = copy(a)\n",
    "b is a"
   ]
  },
  {
   "cell_type": "code",
   "execution_count": 101,
   "id": "f85f76aa",
   "metadata": {},
   "outputs": [
    {
     "name": "stdout",
     "output_type": "stream",
     "text": [
      "[1, 2, 3]\n"
     ]
    }
   ],
   "source": [
    "a = [1,2,3,4]\n",
    "a.pop()\n",
    "print(a)"
   ]
  },
  {
   "cell_type": "code",
   "execution_count": 102,
   "id": "8fb419ea",
   "metadata": {},
   "outputs": [
    {
     "name": "stdout",
     "output_type": "stream",
     "text": [
      "[1, 3, 4]\n"
     ]
    }
   ],
   "source": [
    "a = [1,2,3,4]\n",
    "a.pop(1)\n",
    "print(a)"
   ]
  },
  {
   "cell_type": "code",
   "execution_count": 104,
   "id": "b86f01c9",
   "metadata": {},
   "outputs": [
    {
     "name": "stdout",
     "output_type": "stream",
     "text": [
      "[1, 2, 3, 4, 5]\n"
     ]
    }
   ],
   "source": [
    "a = [1,2,3]\n",
    "a.extend([4,5]) #.extend([]) list만 들어갈 수 있음\n",
    "print(a)"
   ]
  },
  {
   "cell_type": "code",
   "execution_count": 2,
   "id": "3fcb4742",
   "metadata": {},
   "outputs": [
    {
     "name": "stdout",
     "output_type": "stream",
     "text": [
      "숫자를 입력하시오: 1\n",
      "append할 숫자를 적으시오: 12\n",
      "[12] 1\n",
      "숫자를 입력하시오: 2\n",
      "remove할 숫자를 적으시오: 12\n",
      "[] 0\n",
      "숫자를 입력하시오: 0\n"
     ]
    }
   ],
   "source": [
    "A = list()\n",
    "a = 0\n",
    "\n",
    "while 1:\n",
    "    x = input('숫자를 입력하시오: ')\n",
    "    num = int(x)\n",
    "    if num ==1:\n",
    "        y = input('append할 숫자를 적으시오: ')\n",
    "        y = int(y)\n",
    "        A.append(y)\n",
    "        print(A, len(A))\n",
    "    \n",
    "    elif num ==2:\n",
    "        y = input('remove할 숫자를 적으시오: ')\n",
    "        y = int(y)\n",
    "        if y in A:\n",
    "            A.remove(y)\n",
    "            print(A, len(A))\n",
    "        else:\n",
    "            print(A, len(A))\n",
    "            \n",
    "    elif num ==0:\n",
    "        break"
   ]
  },
  {
   "cell_type": "code",
   "execution_count": 5,
   "id": "868b7b7e",
   "metadata": {},
   "outputs": [
    {
     "name": "stdout",
     "output_type": "stream",
     "text": [
      "[0, 1, 4, 9, 16]\n"
     ]
    }
   ],
   "source": [
    "nums = [0,1,2,3,4]\n",
    "squares =[]\n",
    "for x in nums:\n",
    "    squares.append(x ** 2)\n",
    "print(squares) #출력 [0,1,4,9,16]"
   ]
  },
  {
   "cell_type": "markdown",
   "id": "b1d785fe",
   "metadata": {},
   "source": [
    "## list comprehensions"
   ]
  },
  {
   "cell_type": "code",
   "execution_count": 6,
   "id": "03340d24",
   "metadata": {},
   "outputs": [
    {
     "name": "stdout",
     "output_type": "stream",
     "text": [
      "[0, 1, 4, 9, 16]\n"
     ]
    }
   ],
   "source": [
    "nums = [0,1,2,3,4]\n",
    "Squares = [x ** 2 for x in nums]\n",
    "print(Squares)"
   ]
  },
  {
   "cell_type": "code",
   "execution_count": 7,
   "id": "cd59bb42",
   "metadata": {},
   "outputs": [
    {
     "name": "stdout",
     "output_type": "stream",
     "text": [
      "[0, 4, 16]\n"
     ]
    }
   ],
   "source": [
    "nums = [0,1,2,3,4]\n",
    "even_squares = [x ** 2 for x in nums if x % 2 == 0]\n",
    "print(even_squares)"
   ]
  },
  {
   "cell_type": "code",
   "execution_count": null,
   "id": "6f56d2ba",
   "metadata": {},
   "outputs": [],
   "source": [
    "nums = list(range(1, 101))\n",
    "A = [x for x in nums if x % 3 == 0]\n",
    "print(A)\n",
    "for y in A:\n",
    "    y += y\n",
    "print(y)"
   ]
  },
  {
   "cell_type": "markdown",
   "id": "b6b5aeca",
   "metadata": {},
   "source": [
    "## Dictionary"
   ]
  },
  {
   "cell_type": "code",
   "execution_count": 8,
   "id": "db66f891",
   "metadata": {},
   "outputs": [
    {
     "name": "stdout",
     "output_type": "stream",
     "text": [
      "cute\n",
      "True\n"
     ]
    }
   ],
   "source": [
    "d = {'cat': 'cute', 'dog': 'furry'}\n",
    "print (d['cat'])\n",
    "print ('cat' in d)"
   ]
  },
  {
   "cell_type": "code",
   "execution_count": 9,
   "id": "b25da56a",
   "metadata": {},
   "outputs": [
    {
     "data": {
      "text/plain": [
       "dict_keys(['name', 'phone', 'birth'])"
      ]
     },
     "execution_count": 9,
     "metadata": {},
     "output_type": "execute_result"
    }
   ],
   "source": [
    "a = {'name': 'pey', 'phone': '0119993323', 'birth': '1118'}\n",
    "a.keys()"
   ]
  },
  {
   "cell_type": "code",
   "execution_count": 11,
   "id": "01efa299",
   "metadata": {},
   "outputs": [
    {
     "data": {
      "text/plain": [
       "['name', 'phone', 'birth']"
      ]
     },
     "execution_count": 11,
     "metadata": {},
     "output_type": "execute_result"
    }
   ],
   "source": [
    "list(a.keys()) #dict_keys 객체를 리스트로 변환"
   ]
  },
  {
   "cell_type": "code",
   "execution_count": 12,
   "id": "c4d9cf9a",
   "metadata": {},
   "outputs": [
    {
     "data": {
      "text/plain": [
       "dict_values(['pey', '0119993323', '1118'])"
      ]
     },
     "execution_count": 12,
     "metadata": {},
     "output_type": "execute_result"
    }
   ],
   "source": [
    "a.values()"
   ]
  },
  {
   "cell_type": "code",
   "execution_count": 14,
   "id": "529d771c",
   "metadata": {},
   "outputs": [
    {
     "data": {
      "text/plain": [
       "dict_items([('name', 'pey'), ('phone', '0119993323'), ('birth', '1118')])"
      ]
     },
     "execution_count": 14,
     "metadata": {},
     "output_type": "execute_result"
    }
   ],
   "source": [
    "a.items()"
   ]
  },
  {
   "cell_type": "code",
   "execution_count": 15,
   "id": "b9a61fb6",
   "metadata": {},
   "outputs": [
    {
     "data": {
      "text/plain": [
       "{}"
      ]
     },
     "execution_count": 15,
     "metadata": {},
     "output_type": "execute_result"
    }
   ],
   "source": [
    "a.clear()\n",
    "a"
   ]
  },
  {
   "cell_type": "code",
   "execution_count": 16,
   "id": "853c8944",
   "metadata": {},
   "outputs": [
    {
     "data": {
      "text/plain": [
       "'pey'"
      ]
     },
     "execution_count": 16,
     "metadata": {},
     "output_type": "execute_result"
    }
   ],
   "source": [
    "a = {'name': 'pey', 'phone': '0119993323', 'birth': '1118'}\n",
    "a.get('name')"
   ]
  },
  {
   "cell_type": "code",
   "execution_count": 17,
   "id": "4c8b0801",
   "metadata": {},
   "outputs": [
    {
     "ename": "KeyError",
     "evalue": "'nokey'",
     "output_type": "error",
     "traceback": [
      "\u001b[0;31m---------------------------------------------------------------------------\u001b[0m",
      "\u001b[0;31mKeyError\u001b[0m                                  Traceback (most recent call last)",
      "Input \u001b[0;32mIn [17]\u001b[0m, in \u001b[0;36m<cell line: 1>\u001b[0;34m()\u001b[0m\n\u001b[0;32m----> 1\u001b[0m \u001b[38;5;28mprint\u001b[39m(\u001b[43ma\u001b[49m\u001b[43m[\u001b[49m\u001b[38;5;124;43m'\u001b[39;49m\u001b[38;5;124;43mnokey\u001b[39;49m\u001b[38;5;124;43m'\u001b[39;49m\u001b[43m]\u001b[49m)\n",
      "\u001b[0;31mKeyError\u001b[0m: 'nokey'"
     ]
    }
   ],
   "source": [
    "print(a['nokey'])"
   ]
  },
  {
   "cell_type": "code",
   "execution_count": 18,
   "id": "f812970b",
   "metadata": {},
   "outputs": [
    {
     "name": "stdout",
     "output_type": "stream",
     "text": [
      "pey\n"
     ]
    }
   ],
   "source": [
    "print(a['name'])"
   ]
  },
  {
   "cell_type": "code",
   "execution_count": 20,
   "id": "770d3d14",
   "metadata": {},
   "outputs": [
    {
     "name": "stdout",
     "output_type": "stream",
     "text": [
      "None\n"
     ]
    }
   ],
   "source": [
    "print(a.get('nokey')) #존재하지 않는 키(nokey)로 값을 가져오려고 할 경우 a['nokey']는 Key 오류를 발생시키고\n",
    "                      #a.get('nokey')는 None을 돌려준다는 차이가 있다."
   ]
  },
  {
   "cell_type": "code",
   "execution_count": 21,
   "id": "73bd8182",
   "metadata": {},
   "outputs": [
    {
     "data": {
      "text/plain": [
       "'bar'"
      ]
     },
     "execution_count": 21,
     "metadata": {},
     "output_type": "execute_result"
    }
   ],
   "source": [
    "a.get('foo', 'bar') # get(x, '디폴트 값'), a 딕셔너리에는 'foo'에 해당하는 값이 없다. 따라서 디폴트 값인 'bar'를 돌려준다."
   ]
  },
  {
   "cell_type": "markdown",
   "id": "1d7564e3",
   "metadata": {},
   "source": [
    "### dictionary 반복문"
   ]
  },
  {
   "cell_type": "code",
   "execution_count": 22,
   "id": "9aea695c",
   "metadata": {},
   "outputs": [
    {
     "name": "stdout",
     "output_type": "stream",
     "text": [
      "A person has 2 legs\n",
      "A cat has 4 legs\n",
      "A spider has 8 legs\n"
     ]
    }
   ],
   "source": [
    "d = {'person': 2, 'cat': 4, 'spider': 8}\n",
    "for animal in d:\n",
    "    legs = d[animal]\n",
    "    print('A %s has %d legs' %(animal, legs))"
   ]
  },
  {
   "cell_type": "code",
   "execution_count": 24,
   "id": "a5a2eaf8",
   "metadata": {},
   "outputs": [
    {
     "name": "stdout",
     "output_type": "stream",
     "text": [
      "A person has 2 legs\n",
      "A cat has 4 legs\n",
      "A spider has 8 legs\n"
     ]
    }
   ],
   "source": [
    "d ={'person': 2, 'cat': 4, 'spider': 8}\n",
    "for animal, legs in d.items():\n",
    "    print('A %s has %d legs' %(animal , legs))\n",
    "#출력 \"A person has 2 legs\", \"A spider has 8 legs\", \"A cat has 4 legs\", 한 줄에 하나씩"
   ]
  },
  {
   "cell_type": "code",
   "execution_count": 57,
   "id": "a4098117",
   "metadata": {},
   "outputs": [
    {
     "name": "stdout",
     "output_type": "stream",
     "text": [
      "True\n",
      "{'cat': 1, 'dog': 2, 'tiger': 3}\n"
     ]
    }
   ],
   "source": [
    "d = {'cat':1, \"dog\":2}\n",
    "print('cat' in d)\n",
    "d['tiger'] = 3\n",
    "print(d)"
   ]
  },
  {
   "cell_type": "markdown",
   "id": "95faa407",
   "metadata": {},
   "source": [
    "## dictionary comprehensions"
   ]
  },
  {
   "cell_type": "code",
   "execution_count": 26,
   "id": "434b6c4c",
   "metadata": {},
   "outputs": [
    {
     "name": "stdout",
     "output_type": "stream",
     "text": [
      "{0: 0, 2: 4, 4: 16}\n"
     ]
    }
   ],
   "source": [
    "nums = [0,1,2,3,4]\n",
    "even_num_to_square = {x: x ** 2 for x in nums if x % 2 == 0}\n",
    "print(even_num_to_square)"
   ]
  },
  {
   "cell_type": "code",
   "execution_count": 27,
   "id": "ddb8b70a",
   "metadata": {},
   "outputs": [
    {
     "name": "stdout",
     "output_type": "stream",
     "text": [
      "name\t홍길동\n",
      "birth\t1128\n",
      "age\t30\n"
     ]
    }
   ],
   "source": [
    "A={'name':'홍길동', 'birth':'1128', 'age':'30'}\n",
    "for x_key, x_val in A.items():\n",
    "    print(\"{0}\\t{1}\".format(x_key, x_val))"
   ]
  },
  {
   "cell_type": "code",
   "execution_count": 30,
   "id": "c222513d",
   "metadata": {},
   "outputs": [
    {
     "name": "stdout",
     "output_type": "stream",
     "text": [
      "80\n",
      "B has 80 score\n",
      "{'A': 90, 'C': 70}\n"
     ]
    }
   ],
   "source": [
    "a = {'A':90, 'B':80, 'C':70}\n",
    "print(a['B'])\n",
    "for person, score in a.items():\n",
    "    if person == 'B':\n",
    "        print('%s has %d score' %(person, score))\n",
    "\n",
    "del a['B']\n",
    "print(a)"
   ]
  },
  {
   "cell_type": "code",
   "execution_count": 31,
   "id": "94be05c8",
   "metadata": {},
   "outputs": [
    {
     "name": "stdout",
     "output_type": "stream",
     "text": [
      "70\n"
     ]
    }
   ],
   "source": [
    "a = {'A':90, 'B':80}\n",
    "print(a.get('C', 70))"
   ]
  },
  {
   "cell_type": "code",
   "execution_count": 32,
   "id": "3654f11e",
   "metadata": {},
   "outputs": [
    {
     "name": "stdout",
     "output_type": "stream",
     "text": [
      "[('A', 90), ('B', 80), ('C', 70)]\n"
     ]
    }
   ],
   "source": [
    "a = {'A':90, 'B':80, 'C':70}\n",
    "b = list(range(3))\n",
    "i = 0\n",
    "\n",
    "for key, value in a.items():\n",
    "    b[i] = (key, value)\n",
    "    i += 1\n",
    "print(b)"
   ]
  },
  {
   "cell_type": "markdown",
   "id": "596af1f4",
   "metadata": {},
   "source": [
    "## Set"
   ]
  },
  {
   "cell_type": "code",
   "execution_count": 35,
   "id": "0b1a9dc8",
   "metadata": {},
   "outputs": [
    {
     "data": {
      "text/plain": [
       "{1, 2, 3}"
      ]
     },
     "execution_count": 35,
     "metadata": {},
     "output_type": "execute_result"
    }
   ],
   "source": [
    "s1 = set([1,2,3])\n",
    "s1"
   ]
  },
  {
   "cell_type": "code",
   "execution_count": 36,
   "id": "97648f33",
   "metadata": {},
   "outputs": [
    {
     "data": {
      "text/plain": [
       "{'H', 'e', 'l', 'o'}"
      ]
     },
     "execution_count": 36,
     "metadata": {},
     "output_type": "execute_result"
    }
   ],
   "source": [
    "s2 = set(\"Hello\")\n",
    "s2"
   ]
  },
  {
   "cell_type": "code",
   "execution_count": 38,
   "id": "db1692a9",
   "metadata": {},
   "outputs": [
    {
     "name": "stdout",
     "output_type": "stream",
     "text": [
      "<class 'set'> {'dog', 'cat'}\n"
     ]
    }
   ],
   "source": [
    "animals = {'cat', 'dog'}\n",
    "print(type(animals), animals)"
   ]
  },
  {
   "cell_type": "code",
   "execution_count": 40,
   "id": "bb3731f6",
   "metadata": {},
   "outputs": [
    {
     "name": "stdout",
     "output_type": "stream",
     "text": [
      "#1: fish\n",
      "#2: dog\n",
      "#3: cat\n"
     ]
    }
   ],
   "source": [
    "animals = {'cat', 'dog', 'fish'}\n",
    "for idx, animal in enumerate(animals):\n",
    "    print(\"#%d: %s\" %(idx + 1, animal))"
   ]
  },
  {
   "cell_type": "markdown",
   "id": "f20a8b5f",
   "metadata": {},
   "source": [
    "### 집합의 연산"
   ]
  },
  {
   "cell_type": "code",
   "execution_count": 43,
   "id": "cbd5b07d",
   "metadata": {},
   "outputs": [
    {
     "name": "stdout",
     "output_type": "stream",
     "text": [
      "{4, 5, 6}\n",
      "{4, 5, 6}\n"
     ]
    }
   ],
   "source": [
    "s1 = set([1,2,3,4,5,6])\n",
    "s2 = set([4,5,6,7,8,9])\n",
    "print(s1 & s2)\n",
    "print(s1.intersection(s2))"
   ]
  },
  {
   "cell_type": "code",
   "execution_count": 45,
   "id": "f947b58e",
   "metadata": {},
   "outputs": [
    {
     "name": "stdout",
     "output_type": "stream",
     "text": [
      "{1, 2, 3, 4, 5, 6, 7, 8, 9}\n",
      "{1, 2, 3, 4, 5, 6, 7, 8, 9}\n"
     ]
    }
   ],
   "source": [
    "print(s1|s2)\n",
    "print(s1.union(s2))"
   ]
  },
  {
   "cell_type": "code",
   "execution_count": 47,
   "id": "cc9b4cd9",
   "metadata": {},
   "outputs": [
    {
     "name": "stdout",
     "output_type": "stream",
     "text": [
      "{1, 2, 3}\n",
      "{1, 2, 3}\n"
     ]
    }
   ],
   "source": [
    "print(s1-s2)\n",
    "print(s1.difference(s2))"
   ]
  },
  {
   "cell_type": "code",
   "execution_count": 51,
   "id": "99aec063",
   "metadata": {},
   "outputs": [
    {
     "name": "stdout",
     "output_type": "stream",
     "text": [
      "3\n",
      "3\n",
      "2\n"
     ]
    }
   ],
   "source": [
    "animals = {'cat', 'dog'}\n",
    "animals.add('fish')\n",
    "print(len(animals))\n",
    "animals.add('cat')\n",
    "print(len(animals))\n",
    "animals.remove('cat')\n",
    "print(len(animals))"
   ]
  },
  {
   "cell_type": "code",
   "execution_count": 52,
   "id": "037992b7",
   "metadata": {},
   "outputs": [
    {
     "name": "stdout",
     "output_type": "stream",
     "text": [
      "{0, 1, 2, 3, 4, 5}\n"
     ]
    }
   ],
   "source": [
    "from math import sqrt\n",
    "nums = {int(sqrt(x)) for x in range(30)}\n",
    "print(nums)"
   ]
  },
  {
   "cell_type": "code",
   "execution_count": 53,
   "id": "24a48e93",
   "metadata": {},
   "outputs": [
    {
     "name": "stdout",
     "output_type": "stream",
     "text": [
      "('a', 'b', ('ab', 'cd'))\n"
     ]
    }
   ],
   "source": [
    "t5 = ('a', 'b', ('ab', 'cd'))\n",
    "print(t5)"
   ]
  },
  {
   "cell_type": "code",
   "execution_count": 60,
   "id": "a5e4fac9",
   "metadata": {},
   "outputs": [
    {
     "name": "stdout",
     "output_type": "stream",
     "text": [
      "<class 'tuple'>\n",
      "<class 'int'>\n"
     ]
    }
   ],
   "source": [
    "a = (1, )\n",
    "print(type(a))\n",
    "b = (1)\n",
    "print(type(b))"
   ]
  },
  {
   "cell_type": "code",
   "execution_count": 61,
   "id": "9b24f7ff",
   "metadata": {},
   "outputs": [
    {
     "data": {
      "text/plain": [
       "(2, 'b')"
      ]
     },
     "execution_count": 61,
     "metadata": {},
     "output_type": "execute_result"
    }
   ],
   "source": [
    "t1 = (1, 2, 'a', 'b')\n",
    "t1[1], t1[3]"
   ]
  },
  {
   "cell_type": "code",
   "execution_count": 62,
   "id": "79a81f84",
   "metadata": {},
   "outputs": [
    {
     "data": {
      "text/plain": [
       "(1, 2, 'a', 'b', 3, 4)"
      ]
     },
     "execution_count": 62,
     "metadata": {},
     "output_type": "execute_result"
    }
   ],
   "source": [
    "t2 = (3, 4)\n",
    "t1 + t2"
   ]
  },
  {
   "cell_type": "code",
   "execution_count": 68,
   "id": "8acb0a49",
   "metadata": {},
   "outputs": [
    {
     "name": "stdout",
     "output_type": "stream",
     "text": [
      "<class 'dict'>\n",
      "{(0, 1): 0, (1, 2): 1, (2, 3): 2, (3, 4): 3, (4, 5): 4, (5, 6): 5, (6, 7): 6, (7, 8): 7, (8, 9): 8, (9, 10): 9, 'test': 1}\n",
      "5\n",
      "1\n"
     ]
    }
   ],
   "source": [
    "d = {(x, x+1):x for x in range(10)}\n",
    "t = (5,6)\n",
    "print(type(d))\n",
    "d['test']=1\n",
    "print(d)\n",
    "print(d[t])\n",
    "print(d[(1,2)])"
   ]
  },
  {
   "cell_type": "markdown",
   "id": "12ac2d9b",
   "metadata": {},
   "source": [
    "**Mutable vs Immutable Type**\n",
    "- immutable type : number, string, tuple\n",
    "- mutable type : list, dictionary, set"
   ]
  }
 ],
 "metadata": {
  "kernelspec": {
   "display_name": "Python 3 (ipykernel)",
   "language": "python",
   "name": "python3"
  },
  "language_info": {
   "codemirror_mode": {
    "name": "ipython",
    "version": 3
   },
   "file_extension": ".py",
   "mimetype": "text/x-python",
   "name": "python",
   "nbconvert_exporter": "python",
   "pygments_lexer": "ipython3",
   "version": "3.9.12"
  }
 },
 "nbformat": 4,
 "nbformat_minor": 5
}
