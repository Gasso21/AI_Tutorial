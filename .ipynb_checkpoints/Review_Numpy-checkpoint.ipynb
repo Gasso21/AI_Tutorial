{
 "cells": [
  {
   "cell_type": "code",
   "execution_count": 1,
   "id": "83590d52",
   "metadata": {},
   "outputs": [
    {
     "name": "stdout",
     "output_type": "stream",
     "text": [
      "[1 2 3]\n",
      "<class 'numpy.ndarray'>\n",
      "1\n",
      "(3,)\n",
      "1 2 3\n",
      "[5 2 3]\n",
      "[[1 2 3]\n",
      " [4 5 6]]\n",
      "2\n",
      "(2, 3)\n",
      "w= 2 h= 3\n",
      "[1 2 3]\n",
      "1 2 4\n",
      "1 2 4\n"
     ]
    }
   ],
   "source": [
    "import numpy as np    # 파이썬에서 NumPy를 사용할 때, numpy 모듈을 “np”로 임포트하여 사용합니다.\n",
    "\n",
    "a = np.array([1, 2, 3])    # rank가 1인 배열 생성\n",
    "print (a)\n",
    "print (type(a))            # 출력 \"<type 'numpy.ndarray'>\"\n",
    "print (a.ndim)             # a의 차원(rank): 출력 1\n",
    "print (a.shape)            # 출력 \"(3,)\"\n",
    "print (a[0], a[1], a[2])   # 출력 \"1 2 3\"\n",
    "a[0] = 5                   # 요소를 변경\n",
    "print (a)                  # 출력 \"[5, 2, 3]\"\n",
    "\n",
    "b = np.array([[1,2,3],[4,5,6]])   # rank가 2인 배열 생성\n",
    "print (b)\n",
    "print (b.ndim)             # b의 차원(rank): 출력 2\n",
    "print (b.shape)            # 출력 \"(2, 3)\"\n",
    "w, h = b.shape\n",
    "print (\"w=\",w,\"h=\",h)\n",
    "print (b[0])               # 출력 \"[1 2 3]\"\"\n",
    "print (b[0][0], b[0][1], b[1][0])   # 출력 \"1 2 4\"\n",
    "print (b[0,0], b[0,1], b[1,0])   # 출력 \"1 2 4\""
   ]
  },
  {
   "cell_type": "code",
   "execution_count": 14,
   "id": "4ee56017",
   "metadata": {},
   "outputs": [
    {
     "name": "stdout",
     "output_type": "stream",
     "text": [
      "[[1 2 3]\n",
      " [4 5 6]\n",
      " [7 8 9]]\n",
      "1\n",
      "2\n",
      "3\n",
      "4\n",
      "5\n",
      "6\n",
      "7\n",
      "8\n",
      "9\n",
      "2 (3, 3)\n",
      "[[11 12 13]\n",
      " [24 25 26]\n",
      " [37 38 39]]\n"
     ]
    }
   ],
   "source": [
    "import numpy as np\n",
    "A = np.arange(1,10).reshape((3,3))\n",
    "print(A)\n",
    "\n",
    "for i in range(3):\n",
    "    for j in range(3):\n",
    "        print(A[i][j])\n",
    "print(A.ndim, A.shape)\n",
    "\n",
    "A += np.array([10, 20, 30]).reshape(3,1)\n",
    "print(A)"
   ]
  },
  {
   "cell_type": "code",
   "execution_count": null,
   "id": "edf6842e",
   "metadata": {},
   "outputs": [],
   "source": []
  }
 ],
 "metadata": {
  "kernelspec": {
   "display_name": "Python 3 (ipykernel)",
   "language": "python",
   "name": "python3"
  },
  "language_info": {
   "codemirror_mode": {
    "name": "ipython",
    "version": 3
   },
   "file_extension": ".py",
   "mimetype": "text/x-python",
   "name": "python",
   "nbconvert_exporter": "python",
   "pygments_lexer": "ipython3",
   "version": "3.9.12"
  }
 },
 "nbformat": 4,
 "nbformat_minor": 5
}
