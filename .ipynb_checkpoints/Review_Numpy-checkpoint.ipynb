{
 "cells": [
  {
   "cell_type": "markdown",
   "id": "6dd1d0bf",
   "metadata": {},
   "source": [
    "# Numpy"
   ]
  },
  {
   "cell_type": "code",
   "execution_count": 80,
   "id": "f5f901e4",
   "metadata": {},
   "outputs": [
    {
     "name": "stdout",
     "output_type": "stream",
     "text": [
      "[1 2 3]\n",
      "<class 'numpy.ndarray'>\n",
      "1\n",
      "(3,)\n",
      "1 2 3\n",
      "[5 2 3]\n",
      "[[1 2 3]\n",
      " [4 5 6]]\n",
      "2\n",
      "(2, 3)\n",
      "w= 2 h= 3\n",
      "[1 2 3]\n",
      "1 2 4\n",
      "1 2 4\n"
     ]
    }
   ],
   "source": [
    "import numpy as np    # 파이썬에서 NumPy를 사용할 때, numpy 모듈을 “np”로 임포트하여 사용합니다.\n",
    "\n",
    "a = np.array([1, 2, 3])    # rank가 1인 배열 생성\n",
    "print (a)\n",
    "print (type(a))            # 출력 \"<type 'numpy.ndarray'>\"\n",
    "print (a.ndim)             # a의 차원(rank): 출력 1\n",
    "print (a.shape)            # 출력 \"(3,)\"\n",
    "print (a[0], a[1], a[2])   # 출력 \"1 2 3\"\n",
    "a[0] = 5                   # 요소를 변경\n",
    "print (a)                  # 출력 \"[5, 2, 3]\"\n",
    "\n",
    "b = np.array([[1,2,3],[4,5,6]])   # rank가 2인 배열 생성\n",
    "print (b)\n",
    "print (b.ndim)             # b의 차원(rank): 출력 2\n",
    "print (b.shape)            # 출력 \"(2, 3)\"\n",
    "w, h = b.shape\n",
    "print (\"w=\",w,\"h=\",h)\n",
    "print (b[0])               # 출력 \"[1 2 3]\"\"\n",
    "print (b[0][0], b[0][1], b[1][0])   # 출력 \"1 2 4\"\n",
    "print (b[0,0], b[0,1], b[1,0])   # 출력 \"1 2 4\""
   ]
  },
  {
   "cell_type": "code",
   "execution_count": 81,
   "id": "84a2c5e5",
   "metadata": {},
   "outputs": [
    {
     "name": "stdout",
     "output_type": "stream",
     "text": [
      "[[1 2 3]\n",
      " [4 5 6]\n",
      " [7 8 9]]\n",
      "1\n",
      "2\n",
      "3\n",
      "4\n",
      "5\n",
      "6\n",
      "7\n",
      "8\n",
      "9\n",
      "2 (3, 3)\n",
      "[[11 12 13]\n",
      " [24 25 26]\n",
      " [37 38 39]]\n"
     ]
    }
   ],
   "source": [
    "import numpy as np\n",
    "A = np.arange(1,10).reshape((3,3))\n",
    "print(A)\n",
    "\n",
    "for i in range(3):\n",
    "    for j in range(3):\n",
    "        print(A[i][j])\n",
    "print(A.ndim, A.shape)\n",
    "\n",
    "A += np.array([10, 20, 30]).reshape(3,1)\n",
    "print(A)"
   ]
  },
  {
   "cell_type": "code",
   "execution_count": 82,
   "id": "979e3ec5",
   "metadata": {},
   "outputs": [
    {
     "name": "stdout",
     "output_type": "stream",
     "text": [
      "[[0. 0. 0. 0. 0.]\n",
      " [0. 0. 0. 0. 0.]]\n",
      "[[1. 1.]\n",
      " [1. 1.]]\n",
      "(10,)\n",
      "[[7 7]\n",
      " [7 7]]\n",
      "[[1. 0.]\n",
      " [0. 1.]]\n",
      "[[1. 0.]\n",
      " [0. 1.]]\n",
      "[[0.58184219 0.02043913]\n",
      " [0.21002658 0.54468488]]\n",
      "[[0 1 4 2 3]\n",
      " [3 4 2 4 3]\n",
      " [1 0 4 3 4]\n",
      " [2 2 4 2 4]\n",
      " [1 2 2 0 2]]\n",
      "[1 3 5 7 9]\n"
     ]
    }
   ],
   "source": [
    "import numpy as np\n",
    "print(np.zeros(10).reshape((2,5)))\n",
    "print(np.ones((2,2)))\n",
    "print(np.ones(10).shape)\n",
    "print(np.full((2,2),7)) # 모든값이 특정 상수\n",
    "print(np.eye(2)) # 단위행렬\n",
    "print(np.identity(2)) # np.eye()와 동일\n",
    "print(np.random.random((2,2))) #난수\n",
    "print(np.random.randint(0,5,(5,5))) #5x5 matrix 내에 0~5 사이 난수\n",
    "print(np.arange(1,10,2))"
   ]
  },
  {
   "cell_type": "code",
   "execution_count": 83,
   "id": "8ec89c98",
   "metadata": {},
   "outputs": [
    {
     "name": "stdout",
     "output_type": "stream",
     "text": [
      "[[1. 1. 1. 1. 1.]\n",
      " [0. 1. 1. 1. 1.]\n",
      " [0. 0. 1. 1. 1.]\n",
      " [0. 0. 0. 1. 1.]\n",
      " [0. 0. 0. 0. 1.]]\n"
     ]
    }
   ],
   "source": [
    "# Triangle Matrix\n",
    "A = np.zeros((5,5))\n",
    "for i in range(5):\n",
    "    for j in range(i,5):\n",
    "        A[i,j] = 1\n",
    "print(A)"
   ]
  },
  {
   "cell_type": "code",
   "execution_count": 85,
   "id": "3a69aa91",
   "metadata": {},
   "outputs": [
    {
     "name": "stdout",
     "output_type": "stream",
     "text": [
      "3\n",
      "[[8 3 4]\n",
      " [6 5 7]\n",
      " [3 5 4]]\n",
      "[[10]\n",
      " [20]\n",
      " [30]]\n",
      "[[18 13 14]\n",
      " [26 25 27]\n",
      " [33 35 34]]\n"
     ]
    }
   ],
   "source": [
    "n = int(input())\n",
    "A = np.random.randint(1,n**2,(n,n))\n",
    "print(A)\n",
    "B = np.arange(10,10*n+1,10).reshape(n,1)\n",
    "print(B)\n",
    "print(A+B)"
   ]
  },
  {
   "cell_type": "code",
   "execution_count": 86,
   "id": "ef598893",
   "metadata": {},
   "outputs": [
    {
     "name": "stdout",
     "output_type": "stream",
     "text": [
      "[[0.84561834 0.55619038 0.05686271]\n",
      " [0.88672457 0.31441695 0.56039187]]\n",
      "[[ 0.04258809 -0.02408499  0.38405784]\n",
      " [-0.0490925  -1.60169118 -0.13876257]]\n",
      "[99 55 45 26 22]\n",
      "[[96 92 77 30 20]\n",
      " [18 99 82 40 22]]\n"
     ]
    }
   ],
   "source": [
    "print(np.random.rand(2,3)) # (2,3) 행렬의 요소를 0과 1 사이의 균등분포로 랜덤하게 생성\n",
    "print(np.random.randn(2,3)) # (2,3)행렬의 요소를 평균 0, 분산 1의 가우스 분포로 랜덤하게 생성\n",
    "print(np.random.randint(10, 100, 5)) # 10부터 100까지 정수 5개를 랜덤하게 생성\n",
    "print(np.random.randint(10, 100, (2,5))) # 10부터 99까지 정수를 (2,5) 행렬로 랜덤하게 생성"
   ]
  },
  {
   "cell_type": "code",
   "execution_count": 87,
   "id": "e7d7893e",
   "metadata": {},
   "outputs": [
    {
     "name": "stdout",
     "output_type": "stream",
     "text": [
      "[[19 94 93 45 58  1 74 55 93 67]\n",
      " [17  6 52 91 35 68 95 79 55 78]\n",
      " [85  2 15 34 21 41 25 94 59 29]\n",
      " [83 83  8 95  3 64  3 88 18 91]\n",
      " [94 97 75 54 31 68 29 38 83 18]\n",
      " [11 14 82 26 67 16 12 39 23 56]\n",
      " [58 88 52 49 54 18 66 43 94 45]\n",
      " [17 52 55 56 84 43 62 38 81  3]\n",
      " [63 82 17 71 54 99 97 48 49 10]\n",
      " [50 54 35  4 12 50 30 37 94 68]] \n",
      " 99\n"
     ]
    }
   ],
   "source": [
    "n = 10\n",
    "x = 0\n",
    "A = np.random.randint(1, 100, (n, n))\n",
    "for i in range(n):\n",
    "    for j in range(n):\n",
    "        if x > A[i][j]:\n",
    "            pass\n",
    "        else:\n",
    "            x = A[i][j]\n",
    "print(A,\"\\n\",x)"
   ]
  },
  {
   "cell_type": "code",
   "execution_count": 88,
   "id": "8efa4e65",
   "metadata": {},
   "outputs": [
    {
     "name": "stdout",
     "output_type": "stream",
     "text": [
      "[[0.54340494 0.27836939 0.42451759]\n",
      " [0.84477613 0.00471886 0.12156912]]\n"
     ]
    }
   ],
   "source": [
    "A = np.ones((10,10))\n",
    "A.shape[0]\n",
    "np.random.seed(100) #시드값 입력\n",
    "print(np.random.rand(2,3))"
   ]
  },
  {
   "cell_type": "markdown",
   "id": "0ab534b7",
   "metadata": {},
   "source": [
    "## Data Type\n",
    "- np.int32 : 32 비트 정수 타입\n",
    "- np.float64 : 64 비트 부동 소수 타입\n",
    "- np.complex : 복소수 (128 float)\n",
    "- np.bool : 불린 타입 (True, False)\n",
    "- np.object : 파이썬 객체 타입\n",
    "- np.string_ : 고정자리 스트링 타입\n",
    "- np.unicode_ : 고정자리 유니코드 타입\n"
   ]
  },
  {
   "cell_type": "code",
   "execution_count": 92,
   "id": "5fa71f39",
   "metadata": {},
   "outputs": [
    {
     "name": "stdout",
     "output_type": "stream",
     "text": [
      "[1. 2. 3.]\n"
     ]
    }
   ],
   "source": [
    "import numpy as np\n",
    "print(np.array([1,2,3], dtype = np.float64))"
   ]
  },
  {
   "cell_type": "code",
   "execution_count": 113,
   "id": "f5dbf28d",
   "metadata": {},
   "outputs": [
    {
     "name": "stdout",
     "output_type": "stream",
     "text": [
      "[[[0.47298399 0.66327705 0.80572861]\n",
      "  [0.2529805  0.07957344 0.73276061]]\n",
      "\n",
      " [[0.96139748 0.95380473 0.49049905]\n",
      "  [0.63219206 0.73299502 0.9024095 ]]\n",
      "\n",
      " [[0.16224692 0.40588132 0.41709074]\n",
      "  [0.69559103 0.42484724 0.85811423]]\n",
      "\n",
      " [[0.84693248 0.07019911 0.30175241]\n",
      "  [0.97962368 0.035627   0.49239265]]\n",
      "\n",
      " [[0.95237685 0.81057376 0.29433044]\n",
      "  [0.59623352 0.43117785 0.5923975 ]]]\n",
      "<class 'numpy.ndarray'>\n",
      "3\n",
      "(5, 2, 3)\n",
      "5\n",
      "30\n",
      "float64\n",
      "[[[0 0 0]\n",
      "  [0 0 0]]\n",
      "\n",
      " [[0 0 0]\n",
      "  [0 0 0]]\n",
      "\n",
      " [[0 0 0]\n",
      "  [0 0 0]]\n",
      "\n",
      " [[0 0 0]\n",
      "  [0 0 0]]\n",
      "\n",
      " [[0 0 0]\n",
      "  [0 0 0]]]\n",
      "[[[0.47298399 0.66327705 0.80572861]\n",
      "  [0.2529805  0.07957344 0.73276061]]\n",
      "\n",
      " [[0.96139748 0.95380473 0.49049905]\n",
      "  [0.63219206 0.73299502 0.9024095 ]]\n",
      "\n",
      " [[0.16224692 0.40588132 0.41709074]\n",
      "  [0.69559103 0.42484724 0.85811423]]\n",
      "\n",
      " [[0.84693248 0.07019911 0.30175241]\n",
      "  [0.97962368 0.035627   0.49239265]]\n",
      "\n",
      " [[0.95237685 0.81057376 0.29433044]\n",
      "  [0.59623352 0.43117785 0.5923975 ]]]\n",
      "[[[0 0 0]\n",
      "  [0 0 0]]\n",
      "\n",
      " [[0 0 0]\n",
      "  [0 0 0]]\n",
      "\n",
      " [[0 0 0]\n",
      "  [0 0 0]]\n",
      "\n",
      " [[0 0 0]\n",
      "  [0 0 0]]\n",
      "\n",
      " [[0 0 0]\n",
      "  [0 0 0]]]\n",
      "[[[0.47298399 0.66327705 0.80572861]\n",
      "  [0.2529805  0.07957344 0.73276061]]\n",
      "\n",
      " [[0.96139748 0.95380473 0.49049905]\n",
      "  [0.63219206 0.73299502 0.9024095 ]]\n",
      "\n",
      " [[0.16224692 0.40588132 0.41709074]\n",
      "  [0.69559103 0.42484724 0.85811423]]\n",
      "\n",
      " [[0.84693248 0.07019911 0.30175241]\n",
      "  [0.97962368 0.035627   0.49239265]]\n",
      "\n",
      " [[0.95237685 0.81057376 0.29433044]\n",
      "  [0.59623352 0.43117785 0.5923975 ]]]\n"
     ]
    }
   ],
   "source": [
    "import numpy as np\n",
    "A = np.random.random((5,2,3))\n",
    "print(A)\n",
    "print(type(A))\n",
    "print(A.ndim)\n",
    "print(A.shape)\n",
    "print(len(A)) # shape(k,m,n) ==> k\n",
    "print(A.size) # shape(k,m,n) ==> k*m*n\n",
    "print(A.dtype)\n",
    "print(A.astype(np.int64)) # 출력 형태만 조정\n",
    "print(A.astype(np.float64)) # 출력 형태만 조정\n",
    "print(np.int64(A))\n",
    "print(np.float64(A))"
   ]
  },
  {
   "cell_type": "markdown",
   "id": "41f983da",
   "metadata": {},
   "source": [
    "## Slicing"
   ]
  },
  {
   "cell_type": "code",
   "execution_count": 124,
   "id": "d95436a7",
   "metadata": {},
   "outputs": [
    {
     "name": "stdout",
     "output_type": "stream",
     "text": [
      "[[ 1  2  3  4]\n",
      " [ 5  6  7  8]\n",
      " [ 9 10 11 12]]\n",
      "[[2 3]\n",
      " [6 7]]\n",
      "2\n",
      "[[ 1 77  3  4]\n",
      " [ 5  6  7  8]\n",
      " [ 9 10 11 12]]\n"
     ]
    }
   ],
   "source": [
    "import numpy as np\n",
    "A = np.array([[1,2,3,4], [5,6,7,8], [9,10,11,12]])\n",
    "print(A)\n",
    "B = A[:2,1:3]\n",
    "print(B)\n",
    "print(A[0,1])\n",
    "B[0,0] = 77\n",
    "print(A)\n",
    "\n",
    "# A와 B는 같은 메모리 참조"
   ]
  },
  {
   "cell_type": "code",
   "execution_count": 135,
   "id": "35ca28b7",
   "metadata": {},
   "outputs": [
    {
     "name": "stdout",
     "output_type": "stream",
     "text": [
      "[[ 1  2  3  4]\n",
      " [ 5  6  7  8]\n",
      " [ 9 10 11 12]]\n",
      "[ 9 10 11 12] (4,) 1\n",
      "[[ 9 10 11 12]] (1, 4) 2\n"
     ]
    }
   ],
   "source": [
    "A = np.array([[1,2,3,4], [5,6,7,8], [9,10,11,12]])\n",
    "print(A)\n",
    "row_r1 = A[2,:]\n",
    "row_r2 = A[2:3,:]\n",
    "print(row_r1, row_r1.shape, row_r1.ndim)\n",
    "print(row_r2, row_r2.shape, row_r2.ndim)"
   ]
  },
  {
   "cell_type": "code",
   "execution_count": 148,
   "id": "f1ddba42",
   "metadata": {},
   "outputs": [
    {
     "name": "stdout",
     "output_type": "stream",
     "text": [
      "[[1 1 1 1 1 1 1 1 1 1]\n",
      " [0 1 1 1 1 1 1 1 1 1]\n",
      " [0 0 1 1 1 1 1 1 1 1]\n",
      " [0 0 0 1 1 1 1 1 1 1]\n",
      " [0 0 0 0 1 1 1 1 1 1]\n",
      " [0 0 0 0 0 1 1 1 1 1]\n",
      " [0 0 0 0 0 0 1 1 1 1]\n",
      " [0 0 0 0 0 0 0 1 1 1]\n",
      " [0 0 0 0 0 0 0 0 1 1]\n",
      " [0 0 0 0 0 0 0 0 0 1]]\n"
     ]
    }
   ],
   "source": [
    "import numpy as np\n",
    "A = np.zeros((10,10))\n",
    "for i in range(10):\n",
    "    for j in range(i,10):\n",
    "        A[i][j] = 1\n",
    "print(A.astype(np.int32))"
   ]
  },
  {
   "cell_type": "code",
   "execution_count": 149,
   "id": "0f003a0a",
   "metadata": {},
   "outputs": [
    {
     "name": "stdout",
     "output_type": "stream",
     "text": [
      "[[1 1 1 1 1 1 1 1 1 1]\n",
      " [0 1 1 1 1 1 1 1 1 1]\n",
      " [0 0 1 1 1 1 1 1 1 1]\n",
      " [0 0 0 1 1 1 1 1 1 1]\n",
      " [0 0 0 0 1 1 1 1 1 1]\n",
      " [0 0 0 0 0 1 1 1 1 1]\n",
      " [0 0 0 0 0 0 1 1 1 1]\n",
      " [0 0 0 0 0 0 0 1 1 1]\n",
      " [0 0 0 0 0 0 0 0 1 1]\n",
      " [0 0 0 0 0 0 0 0 0 1]]\n"
     ]
    }
   ],
   "source": [
    "import numpy as np\n",
    "A = np.zeros((10,10))\n",
    "for i in range(10):\n",
    "    A[i][i:] = 1\n",
    "print(np.int32(A))"
   ]
  },
  {
   "cell_type": "code",
   "execution_count": 137,
   "id": "19cf19eb",
   "metadata": {},
   "outputs": [
    {
     "name": "stdout",
     "output_type": "stream",
     "text": [
      "[[1. 1. 1. 1. 1. 1. 1. 1. 1. 1.]\n",
      " [1. 0. 0. 0. 0. 0. 0. 0. 0. 1.]\n",
      " [1. 0. 0. 0. 0. 0. 0. 0. 0. 1.]\n",
      " [1. 0. 0. 0. 0. 0. 0. 0. 0. 1.]\n",
      " [1. 0. 0. 0. 0. 0. 0. 0. 0. 1.]\n",
      " [1. 0. 0. 0. 0. 0. 0. 0. 0. 1.]\n",
      " [1. 0. 0. 0. 0. 0. 0. 0. 0. 1.]\n",
      " [1. 0. 0. 0. 0. 0. 0. 0. 0. 1.]\n",
      " [1. 0. 0. 0. 0. 0. 0. 0. 0. 1.]\n",
      " [1. 1. 1. 1. 1. 1. 1. 1. 1. 1.]]\n"
     ]
    }
   ],
   "source": [
    "import numpy as np\n",
    "\n",
    "A = np.ones((10,10))\n",
    "A[1:9,1:9] =0\n",
    "print(A)"
   ]
  },
  {
   "cell_type": "code",
   "execution_count": 162,
   "id": "c6b0400b",
   "metadata": {},
   "outputs": [
    {
     "name": "stdout",
     "output_type": "stream",
     "text": [
      "[[1. 0. 1. 0. 1. 0. 1. 0.]\n",
      " [0. 1. 0. 1. 0. 1. 0. 1.]\n",
      " [1. 0. 1. 0. 1. 0. 1. 0.]\n",
      " [0. 1. 0. 1. 0. 1. 0. 1.]\n",
      " [1. 0. 1. 0. 1. 0. 1. 0.]\n",
      " [0. 1. 0. 1. 0. 1. 0. 1.]\n",
      " [1. 0. 1. 0. 1. 0. 1. 0.]\n",
      " [0. 1. 0. 1. 0. 1. 0. 1.]]\n"
     ]
    }
   ],
   "source": [
    "import numpy as np\n",
    "A = np.zeros((8,8))\n",
    "for i in range(0,8):\n",
    "    for j in range(0,8):\n",
    "        if (i+j)%2 == 0:\n",
    "            A[i][j] = 1\n",
    "        else:\n",
    "            pass\n",
    "print(A)"
   ]
  },
  {
   "cell_type": "markdown",
   "id": "fff90f97",
   "metadata": {},
   "source": [
    "## Boolean"
   ]
  },
  {
   "cell_type": "code",
   "execution_count": 165,
   "id": "c9bccaf0",
   "metadata": {},
   "outputs": [
    {
     "name": "stdout",
     "output_type": "stream",
     "text": [
      "[[False False]\n",
      " [ True  True]\n",
      " [ True  True]]\n",
      "[3 4 5 6]\n",
      "[3 4 5 6]\n"
     ]
    }
   ],
   "source": [
    "import numpy as np\n",
    "a = np.array([[1,2],[3,4],[5,6]])\n",
    "bool_idx = (a>2)\n",
    "print(bool_idx)\n",
    "print(a[bool_idx])\n",
    "print(a[a>2])"
   ]
  },
  {
   "cell_type": "code",
   "execution_count": 181,
   "id": "321499b7",
   "metadata": {},
   "outputs": [
    {
     "name": "stdout",
     "output_type": "stream",
     "text": [
      "[  1  -2  -3  -4   5  -6   7  -8  -9 -10]\n"
     ]
    }
   ],
   "source": [
    "import numpy as np\n",
    "A = np.array([1,2,3,4,5,6,7,8,9,10])\n",
    "\n",
    "A[A%2==0] = -A[A%2==0]\n",
    "A[A%3==0] = -A[A%3==0]\n",
    "A[A%6==0] = -A[A%6==0]\n",
    "print(A)  "
   ]
  },
  {
   "cell_type": "code",
   "execution_count": 186,
   "id": "14a781ec",
   "metadata": {},
   "outputs": [
    {
     "name": "stdout",
     "output_type": "stream",
     "text": [
      "[[0 1 2 3 4]\n",
      " [5 6 7 8 9]]\n",
      "[0 1 2 3 4 5 6 7 8 9]\n"
     ]
    }
   ],
   "source": [
    "import numpy as np\n",
    "A = np.arange(10)\n",
    "print(A.reshape(2,-1)) # 자동으로 2x5 행렬로 변환\n",
    "print(np.reshape(A, -1)) # 행렬을 벡터로 변환"
   ]
  },
  {
   "cell_type": "markdown",
   "id": "59a6f59d",
   "metadata": {},
   "source": [
    "## Calculation"
   ]
  },
  {
   "cell_type": "code",
   "execution_count": 3,
   "id": "6b08ed6a",
   "metadata": {},
   "outputs": [
    {
     "name": "stdout",
     "output_type": "stream",
     "text": [
      "[[ 6.  8.]\n",
      " [10. 12.]]\n",
      "[[ 6.  8.]\n",
      " [10. 12.]]\n",
      "[[-4. -4.]\n",
      " [-4. -4.]]\n",
      "[[-4. -4.]\n",
      " [-4. -4.]]\n",
      "[[ 5. 12.]\n",
      " [21. 32.]]\n",
      "[[ 5. 12.]\n",
      " [21. 32.]]\n",
      "[[0.2        0.33333333]\n",
      " [0.42857143 0.5       ]]\n",
      "[[0.2        0.33333333]\n",
      " [0.42857143 0.5       ]]\n",
      "[[1.         1.41421356]\n",
      " [1.73205081 2.        ]]\n",
      "[[0.5 1. ]\n",
      " [1.5 2. ]]\n"
     ]
    }
   ],
   "source": [
    "import numpy as np\n",
    "x = np.array([[1,2],[3,4]], dtype = np.float64)\n",
    "y = np.array([[5,6],[7,8]], dtype = np.float64)\n",
    "print(x+y)\n",
    "print(np.add(x,y))\n",
    "print(x-y)\n",
    "print(np.subtract(x,y))\n",
    "print(x*y)\n",
    "print(np.multiply(x,y))\n",
    "print(x/y)\n",
    "print(np.divide(x,y))\n",
    "print(np.sqrt(x))\n",
    "print()"
   ]
  },
  {
   "cell_type": "code",
   "execution_count": 4,
   "id": "3a9df7c6",
   "metadata": {},
   "outputs": [
    {
     "name": "stdout",
     "output_type": "stream",
     "text": [
      "[[19. 22.]\n",
      " [43. 50.]]\n",
      "[[19. 22.]\n",
      " [43. 50.]]\n"
     ]
    }
   ],
   "source": [
    "x = np.array([[1,2],[3,4]], dtype = np.float64)\n",
    "y = np.array([[5,6],[7,8]], dtype = np.float64)\n",
    "print(np.dot(x,y))\n",
    "print(x.dot(y))"
   ]
  },
  {
   "cell_type": "code",
   "execution_count": 5,
   "id": "2491c834",
   "metadata": {},
   "outputs": [
    {
     "name": "stdout",
     "output_type": "stream",
     "text": [
      "[[1 6]\n",
      " [9 4]\n",
      " [7 9]]\n",
      "[[2]\n",
      " [1]]\n",
      "3\n",
      "[[11]\n",
      " [25]\n",
      " [26]]\n"
     ]
    }
   ],
   "source": [
    "import random\n",
    "# Y = AX+b where A = 3x2 행렬, X = 2x1 행렬, b = 스칼라 상수\n",
    "A = np.random.randint(0,10,(3,2))\n",
    "X = np.random.randint(0,10,(2,1))\n",
    "b = random.randint(0,10)\n",
    "print(A)\n",
    "print(X)\n",
    "print(b)\n",
    "Y = A.dot(X)+b\n",
    "print(Y)"
   ]
  },
  {
   "cell_type": "code",
   "execution_count": 9,
   "id": "e6a25a06",
   "metadata": {},
   "outputs": [
    {
     "name": "stdout",
     "output_type": "stream",
     "text": [
      "[[1 2]\n",
      " [3 4]]\n",
      "10\n",
      "[4 6]\n",
      "[3 7]\n"
     ]
    }
   ],
   "source": [
    "x = np.array([1,2,3,4]).reshape((2,2))\n",
    "print(x)\n",
    "print(np.sum(x))\n",
    "print(np.sum(x, axis=0)) # Columns sum\n",
    "print(np.sum(x, axis=1)) # Rows sum"
   ]
  },
  {
   "cell_type": "code",
   "execution_count": 19,
   "id": "48330672",
   "metadata": {},
   "outputs": [
    {
     "name": "stdout",
     "output_type": "stream",
     "text": [
      "[[8 8 3]\n",
      " [7 7 0]]\n",
      "[6.33333333 4.66666667]\n",
      "[6.333 4.667]\n",
      "[[6.333]\n",
      " [4.667]]\n"
     ]
    }
   ],
   "source": [
    "np.random.seed(100)\n",
    "A = np.random.randint(0,10,(2,3))\n",
    "print(A)\n",
    "m = np.mean(A, axis=1)\n",
    "print(m)\n",
    "n = np.round(m,3)\n",
    "print(n)\n",
    "print(n.reshape(2,-1))"
   ]
  },
  {
   "cell_type": "code",
   "execution_count": 22,
   "id": "edbdc799",
   "metadata": {},
   "outputs": [
    {
     "name": "stdout",
     "output_type": "stream",
     "text": [
      "5\n",
      "4\n",
      "1\n",
      "0\n"
     ]
    }
   ],
   "source": [
    "A = np.array([1,2,3,4,5])\n",
    "print(np.max(A))\n",
    "print(np.argmax(A))\n",
    "print(np.min(A))\n",
    "print(np.argmin(A))"
   ]
  },
  {
   "cell_type": "code",
   "execution_count": 24,
   "id": "93761296",
   "metadata": {},
   "outputs": [
    {
     "data": {
      "text/plain": [
       "(array([0, 2, 4]),)"
      ]
     },
     "execution_count": 24,
     "metadata": {},
     "output_type": "execute_result"
    }
   ],
   "source": [
    "x = np.array([2,4,3,8,1])\n",
    "np.where(x<=3) # index 반환"
   ]
  },
  {
   "cell_type": "markdown",
   "id": "7cb6b82a",
   "metadata": {},
   "source": [
    "## Transpose"
   ]
  },
  {
   "cell_type": "code",
   "execution_count": 35,
   "id": "0bd7b659",
   "metadata": {},
   "outputs": [
    {
     "name": "stdout",
     "output_type": "stream",
     "text": [
      "[[1 2]\n",
      " [3 4]]\n",
      "[[1 3]\n",
      " [2 4]]\n"
     ]
    }
   ],
   "source": [
    "import numpy as np\n",
    "\n",
    "x = np.array([[1,2], [3,4]])\n",
    "print(x)\n",
    "print(x.T)"
   ]
  },
  {
   "cell_type": "markdown",
   "id": "c3efc81d",
   "metadata": {},
   "source": [
    "## Boolean"
   ]
  },
  {
   "cell_type": "code",
   "execution_count": 34,
   "id": "52199f44",
   "metadata": {},
   "outputs": [
    {
     "name": "stdout",
     "output_type": "stream",
     "text": [
      "[[False False False]\n",
      " [False  True False]\n",
      " [False False False]]\n",
      "bool\n",
      "False\n"
     ]
    }
   ],
   "source": [
    "import numpy as np\n",
    "\n",
    "A = np.arange(1,10).reshape((3,3))\n",
    "B = np.arange(9,0,-1).reshape((3,3))\n",
    "print(A == B)\n",
    "print((A == B).dtype)\n",
    "print(np.array_equal(A,B))"
   ]
  },
  {
   "cell_type": "markdown",
   "id": "5f2843e7",
   "metadata": {},
   "source": [
    "## Copy"
   ]
  },
  {
   "cell_type": "code",
   "execution_count": 33,
   "id": "a27a4839",
   "metadata": {},
   "outputs": [
    {
     "name": "stdout",
     "output_type": "stream",
     "text": [
      "4954315152 4956865712\n"
     ]
    }
   ],
   "source": [
    "import numpy as np\n",
    "\n",
    "a = np.array([1,1])\n",
    "b = np.copy(a)\n",
    "print(id(a),id(b))"
   ]
  },
  {
   "cell_type": "markdown",
   "id": "f8ecf8b4",
   "metadata": {},
   "source": [
    "## Broadcasting\n",
    "- **for loop**"
   ]
  },
  {
   "cell_type": "code",
   "execution_count": 37,
   "id": "5fc90b9a",
   "metadata": {},
   "outputs": [
    {
     "name": "stdout",
     "output_type": "stream",
     "text": [
      "[[ 1  2  3]\n",
      " [ 4  5  6]\n",
      " [ 7  8  9]\n",
      " [10 11 12]]\n",
      "[[ 2  2  4]\n",
      " [ 5  5  7]\n",
      " [ 8  8 10]\n",
      " [11 11 13]]\n"
     ]
    }
   ],
   "source": [
    "import numpy as np\n",
    "x = np.array([[1,2,3], [4,5,6], [7,8,9], [10, 11, 12]])\n",
    "v = np.array([1, 0, 1])\n",
    "y = np.empty_like(x) # x와 동일한 shape를 가지며 비어있는 행렬 생성\n",
    "\n",
    "print(x)\n",
    "for i in range(4):\n",
    "    y[i, :] = x[i, :] + v\n",
    "print(y)"
   ]
  },
  {
   "cell_type": "markdown",
   "id": "df3434bb",
   "metadata": {},
   "source": [
    "- **np.tile**"
   ]
  },
  {
   "cell_type": "code",
   "execution_count": 43,
   "id": "5cff3923",
   "metadata": {},
   "outputs": [
    {
     "name": "stdout",
     "output_type": "stream",
     "text": [
      "[[1 0 1]\n",
      " [1 0 1]\n",
      " [1 0 1]\n",
      " [1 0 1]]\n",
      "[[ 2  2  4]\n",
      " [ 5  5  7]\n",
      " [ 8  8 10]\n",
      " [11 11 13]]\n",
      "[[ 2  2  4]\n",
      " [ 5  5  7]\n",
      " [ 8  8 10]\n",
      " [11 11 13]]\n"
     ]
    }
   ],
   "source": [
    "import numpy as np\n",
    "x = np.array([[1,2,3], [4,5,6], [7,8,9], [10, 11, 12]])\n",
    "v = np.array([1, 0, 1])\n",
    "vv = np.tile(v,(4,1)) # v 복사본 4개를 위로 차곡차곡 쌓음\n",
    "print(vv)\n",
    "\n",
    "y = x + vv\n",
    "print(y)"
   ]
  },
  {
   "cell_type": "markdown",
   "id": "93f4514f",
   "metadata": {},
   "source": [
    "- **broadcasting**"
   ]
  },
  {
   "cell_type": "code",
   "execution_count": 44,
   "id": "2bcc7870",
   "metadata": {},
   "outputs": [
    {
     "name": "stdout",
     "output_type": "stream",
     "text": [
      "[[ 2  2  4]\n",
      " [ 5  5  7]\n",
      " [ 8  8 10]\n",
      " [11 11 13]]\n"
     ]
    }
   ],
   "source": [
    "import numpy as np\n",
    "x = np.array([[1,2,3], [4,5,6], [7,8,9], [10, 11, 12]])\n",
    "v = np.array([1, 0, 1])\n",
    "y = x + v\n",
    "print(y)"
   ]
  },
  {
   "cell_type": "code",
   "execution_count": 54,
   "id": "ea1be808",
   "metadata": {},
   "outputs": [
    {
     "name": "stdout",
     "output_type": "stream",
     "text": [
      "[[1]\n",
      " [2]\n",
      " [3]] \n",
      " [4 5]\n",
      "[[ 4  5]\n",
      " [ 8 10]\n",
      " [12 15]]\n"
     ]
    }
   ],
   "source": [
    "import numpy as np\n",
    "v = np.array([1,2,3])\n",
    "w = np.array([4,5])\n",
    "r = v.reshape((3,1))\n",
    "z = r*w\n",
    "print(r, '\\n', w)\n",
    "print(z) # outer product"
   ]
  },
  {
   "cell_type": "code",
   "execution_count": 55,
   "id": "08c1c778",
   "metadata": {},
   "outputs": [
    {
     "name": "stdout",
     "output_type": "stream",
     "text": [
      "[[1. 2. 3. 4. 5.]\n",
      " [1. 2. 3. 4. 5.]\n",
      " [1. 2. 3. 4. 5.]\n",
      " [1. 2. 3. 4. 5.]\n",
      " [1. 2. 3. 4. 5.]]\n"
     ]
    }
   ],
   "source": [
    "A = np.zeros((5,5))\n",
    "B = np.array([1,2,3,4,5])\n",
    "print(A+B)"
   ]
  },
  {
   "cell_type": "markdown",
   "id": "bd93d7ac",
   "metadata": {},
   "source": [
    "- **concatenate**"
   ]
  },
  {
   "cell_type": "code",
   "execution_count": 56,
   "id": "f163eb7c",
   "metadata": {},
   "outputs": [
    {
     "name": "stdout",
     "output_type": "stream",
     "text": [
      "[[1 2 3]\n",
      " [4 5 6]]\n",
      "[[ 7  8  9]\n",
      " [10 11 12]]\n"
     ]
    }
   ],
   "source": [
    "import numpy as np\n",
    "a = np.arange(1, 7).reshape((2, 3))\n",
    "print(a)\n",
    "b = np.arange(7, 13).reshape((2, 3))\n",
    "print(b)"
   ]
  },
  {
   "cell_type": "code",
   "execution_count": 61,
   "id": "ff1bb12f",
   "metadata": {},
   "outputs": [
    {
     "name": "stdout",
     "output_type": "stream",
     "text": [
      "[[ 1  2  3]\n",
      " [ 4  5  6]\n",
      " [ 7  8  9]\n",
      " [10 11 12]]\n",
      "[[ 1  2  3  7  8  9]\n",
      " [ 4  5  6 10 11 12]]\n"
     ]
    }
   ],
   "source": [
    "c = np.concatenate((a, b), axis = 0)\n",
    "print(c)\n",
    "d = np.concatenate((a, b), axis = 1)\n",
    "print(d)"
   ]
  },
  {
   "cell_type": "code",
   "execution_count": 64,
   "id": "8d41f1c1",
   "metadata": {},
   "outputs": [
    {
     "name": "stdout",
     "output_type": "stream",
     "text": [
      "[[ 1  2  3]\n",
      " [ 4  5  6]\n",
      " [ 7  8  9]\n",
      " [10 11 12]]\n",
      "[[ 1  2  3  7  8  9]\n",
      " [ 4  5  6 10 11 12]]\n"
     ]
    }
   ],
   "source": [
    "e = np.r_[a,b]\n",
    "print(e)\n",
    "f = np.c_[a,b]\n",
    "print(f)"
   ]
  }
 ],
 "metadata": {
  "kernelspec": {
   "display_name": "Python 3 (ipykernel)",
   "language": "python",
   "name": "python3"
  },
  "language_info": {
   "codemirror_mode": {
    "name": "ipython",
    "version": 3
   },
   "file_extension": ".py",
   "mimetype": "text/x-python",
   "name": "python",
   "nbconvert_exporter": "python",
   "pygments_lexer": "ipython3",
   "version": "3.9.12"
  }
 },
 "nbformat": 4,
 "nbformat_minor": 5
}
