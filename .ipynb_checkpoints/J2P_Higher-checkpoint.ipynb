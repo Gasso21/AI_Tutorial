{
 "cells": [
  {
   "cell_type": "markdown",
   "id": "f4670432",
   "metadata": {},
   "source": [
    "# Class\n",
    "- **객체**와 **인스턴스**의 차이\n",
    "    - 클래스로 만든 객체를 인스턴스라고 함\n",
    "    `a = Cookie()`: a는 그 자체로 객체임과 동시에 Cookie의 인스턴스\n",
    "    - 즉, 인스턴스라는 말은 특정 객체(a)가 어떤 클래스(Cookie)의 객체인지를 **관계위주**로 설명할 때 사용\n",
    "- **메서드(Method)**: 클래스 안에 구현된 함수  "
   ]
  },
  {
   "cell_type": "code",
   "execution_count": 1,
   "id": "474a5dbb",
   "metadata": {},
   "outputs": [],
   "source": [
    "class FourCal:\n",
    "    def setdata(self, first, second):\n",
    "        self.first = first\n",
    "        self.second = second\n",
    "a = FourCal()\n",
    "a.setdata(4, 2)"
   ]
  },
  {
   "cell_type": "markdown",
   "id": "5a5d8820",
   "metadata": {},
   "source": [
    "- setdata 메서드의 첫번째 매개변수 self에는 setdata 메서드를 호출한 객체 a가 자동으로 전달됌\n",
    "- 또다른 메서드 호출 방법   "
   ]
  },
  {
   "cell_type": "code",
   "execution_count": 2,
   "id": "12a7e68b",
   "metadata": {},
   "outputs": [],
   "source": [
    "a = FourCal()\n",
    "FourCal.setdata(a, 4, 2)"
   ]
  },
  {
   "cell_type": "markdown",
   "id": "1554978a",
   "metadata": {},
   "source": [
    "- '클래스이름.메서드' 형태로 호출할 때는 객체 a를 첫 번째 매개변수 self에 꼭 전달해 줘야함"
   ]
  },
  {
   "cell_type": "markdown",
   "id": "ac43ff85",
   "metadata": {},
   "source": [
    "- **생성자(Constructor)**\n",
    "    - 객체에 초기값을 설정해야할 필요가 있을 때 생성자를 구현\n",
    "    - 생성자란, 객체가 생성될 때 자동으로 호출되는 '메서드'\n",
    "    - `__init__`"
   ]
  },
  {
   "cell_type": "markdown",
   "id": "4e56881e",
   "metadata": {},
   "source": [
    "`a = FourCal(4, 2)`\n",
    "- **매개변수**: 값\n",
    "- **self**: 생성되는 객체\n",
    "- **first**: 4\n",
    "- **second**: 2"
   ]
  },
  {
   "cell_type": "code",
   "execution_count": null,
   "id": "8d5e814b",
   "metadata": {},
   "outputs": [],
   "source": [
    "#클래스의 상속\n",
    "class MoreFourCal(FourCal):\n",
    "    pass"
   ]
  },
  {
   "cell_type": "markdown",
   "id": "a0826dd1",
   "metadata": {},
   "source": [
    "- 클래스 이름 뒤 괄호 안에 상속할 클래스 이름을 넣음\n",
    "- 상속은 기존 클래스를 변경하지 않고 기능을 추가하거나 기존 기능을 변경하려고 할 때 사용\n",
    "- 기존 클래스가 라이브러리 형태로 제공되거나 수정이 허용되지 않는 상황이라면 상속을 사용"
   ]
  },
  {
   "cell_type": "code",
   "execution_count": 1,
   "id": "b17faabf",
   "metadata": {},
   "outputs": [
    {
     "name": "stdout",
     "output_type": "stream",
     "text": [
      "16\n"
     ]
    }
   ],
   "source": [
    "class FourCal:\n",
    "    def __init__(self, first, second): #setdata 메서드와 모든게 동일하지만, 생성자로서 객체가 생성되는 시점에 자동으로 호출되는 차이가 있음\n",
    "        self.first = first\n",
    "        self.second = second\n",
    "    \n",
    "    def setdata(self, first, second):\n",
    "        self.first = first\n",
    "        self.second = second\n",
    "        \n",
    "    def add(self):\n",
    "        return self.first+self.second\n",
    "    \n",
    "    def mul(self):\n",
    "        return self.first*self.second\n",
    "    \n",
    "    def sub(self):\n",
    "        return self.first-self.second\n",
    "    \n",
    "    def div(self):\n",
    "        return self.first/self.second\n",
    "\n",
    "class MoreFourCal(FourCal): # Inherit\n",
    "    def pow(self):\n",
    "        return self.first**self.second\n",
    "    \n",
    "a = MoreFourCal(4, 2)\n",
    "print(a.pow())"
   ]
  },
  {
   "cell_type": "markdown",
   "id": "82ba697f",
   "metadata": {},
   "source": [
    "- **Overriding**   \n",
    "    - 부모 클래스(상속한 클래스)에 있는 메서드를 동일한 이름으로 다시 만듬\n",
    "    - 메서드를 오버라이딩하면 부모클래스의 메서드 대신 오버라이딩한 메서드가 호출"
   ]
  },
  {
   "cell_type": "code",
   "execution_count": 2,
   "id": "8922aa04",
   "metadata": {},
   "outputs": [
    {
     "name": "stdout",
     "output_type": "stream",
     "text": [
      "0\n"
     ]
    }
   ],
   "source": [
    "class SafeFourCal(FourCal):\n",
    "    def div(self):\n",
    "        if self.second == 0:\n",
    "            return 0\n",
    "        else:\n",
    "            return self.first / self.second\n",
    "\n",
    "a = SafeFourCal(4, 0)\n",
    "print(a.div())"
   ]
  },
  {
   "cell_type": "markdown",
   "id": "856c64da",
   "metadata": {},
   "source": [
    "- **Class Variable**\n",
    "    - <u>**클래스이름.클래스변수**</u> 로 사용할 수 있음"
   ]
  },
  {
   "cell_type": "code",
   "execution_count": 10,
   "id": "7da837d2",
   "metadata": {},
   "outputs": [
    {
     "name": "stdout",
     "output_type": "stream",
     "text": [
      "김\n",
      "김\n",
      "김\n",
      "박\n",
      "박\n",
      "4451208768\n",
      "4451208768\n",
      "4451208768\n"
     ]
    }
   ],
   "source": [
    "class Family:\n",
    "    lastname = \"김\"\n",
    "print(Family.lastname)\n",
    "\n",
    "a = Family()\n",
    "b = Family()\n",
    "print(a.lastname)\n",
    "print(b.lastname)\n",
    "\n",
    "# 클래스 변수는 클래스로 만든 모든 객체에 공유됨\n",
    "Family.lastname = '박'\n",
    "print(a.lastname)\n",
    "print(b.lastname)\n",
    "\n",
    "# 같은 메모리를 가르킴\n",
    "print(id(Family.lastname))\n",
    "print(id(a.lastname))\n",
    "print(id(b.lastname))"
   ]
  },
  {
   "cell_type": "markdown",
   "id": "6508e54e",
   "metadata": {},
   "source": [
    "# Module"
   ]
  },
  {
   "cell_type": "markdown",
   "id": "582662a5",
   "metadata": {},
   "source": [
    "`if __name__ == \"__main__\":`을 사용하면  \n",
    "파일을 직접 실행했을 때는 `__name__ == \"__main__\"`이 참이되어 if문 다음 문장이 수행되며  \n",
    "반대로 대화형 인터프리터나 다른 파일에서 이 모듈을 불러서 사용할 때는 거짓이 되어 수행되지 않는다.\n",
    "- `__name__` 변수란\n",
    "    - 파이썬이 내부적으로 사용하는 특별한 변수 이름\n",
    "    - 직접 mod.py 을 실행할 경우 mod.py의 `__name__`변수에는 `__main__`값이 저장\n",
    "    - 다른 모듈에서 mod.py를 import할 경우 mod.py의 `__name__`변수에는 mod.py의 모듈 이름값이 저장"
   ]
  },
  {
   "cell_type": "markdown",
   "id": "c45a10d7",
   "metadata": {},
   "source": [
    "# Package\n",
    "- 도트(.)를 사용하여 파이썬 모듈을 계층적(디렉터리 구조)로 관리할 수 있게 함"
   ]
  },
  {
   "cell_type": "code",
   "execution_count": 1,
   "id": "7c7f74c1",
   "metadata": {},
   "outputs": [
    {
     "data": {
      "text/plain": [
       "'\\ngame/\\n    __init__.py\\n    sound/\\n        __init__.py\\n        echo.py\\n        wav.py\\n    graphic/\\n        __init__.py\\n        screen.py\\n        render.py\\n    play/\\n        __init__.py\\n        run.py\\n        test.py\\n        \\ngame, sound, graphic, play는 디렉터리이고 확장자가 .py인 파일은 파이썬 모듈이다.\\ngame 디렉터리가 이 패키지의 루트 디렉터리이고 sound, graphic, play는 서브 디렉터리이다.\\n\\n패키지 구조로 파이썬 프로그램을 만드는 것이 공동 작업이나 유지 보수 등 여러 면에서 유리\\n패키지 구조로 모듈을 만들면 다른 모듈과 이름이 겹치더라도 더 안전하게 사용할 수 있음\\n'"
      ]
     },
     "execution_count": 1,
     "metadata": {},
     "output_type": "execute_result"
    }
   ],
   "source": [
    "#가상의 game 패키지 예\n",
    "\"\"\"\n",
    "game/\n",
    "    __init__.py\n",
    "    sound/\n",
    "        __init__.py\n",
    "        echo.py\n",
    "        wav.py\n",
    "    graphic/\n",
    "        __init__.py\n",
    "        screen.py\n",
    "        render.py\n",
    "    play/\n",
    "        __init__.py\n",
    "        run.py\n",
    "        test.py\n",
    "        \n",
    "game, sound, graphic, play는 디렉터리이고 확장자가 .py인 파일은 파이썬 모듈이다.\n",
    "game 디렉터리가 이 패키지의 루트 디렉터리이고 sound, graphic, play는 서브 디렉터리이다.\n",
    "\n",
    "패키지 구조로 파이썬 프로그램을 만드는 것이 공동 작업이나 유지 보수 등 여러 면에서 유리\n",
    "패키지 구조로 모듈을 만들면 다른 모듈과 이름이 겹치더라도 더 안전하게 사용할 수 있음\n",
    "\"\"\""
   ]
  },
  {
   "cell_type": "markdown",
   "id": "79bbbd7c",
   "metadata": {},
   "source": [
    "`__init__.py`의 용도\n",
    "- 해당 디렉터리가 패키지의 일부임을 알려주는 역할\n",
    "- 특정 디렉터리의 모듈을 *를 사용하여 import할 때에는 다음과 같이 해당 디렉터리의 `__init__.py` 파일에 `__all__` 변수를 설정하고 import할 수 있는 모듈을 정의해주어야한다.\n",
    "\n",
    "`# C:/doit/game/sound/__init__.py\n",
    "__all__ = ['echo']`\n",
    "\n",
    "여기서 `__all__`이 의미하는 것은 sound 디렉터리에서 * 기호를 사용하여 import할 경우 이곳에 정의된 echo 모듈만 import된다는 의미"
   ]
  },
  {
   "cell_type": "code",
   "execution_count": 2,
   "id": "eb23d5c8",
   "metadata": {},
   "outputs": [
    {
     "data": {
      "text/plain": [
       "'\\ngraphic 디렉터리의 render.py 모듈이 sound 디렉터리의 echo.py 모듈을 사용할 때\\n\\n# render.py\\nfrom game.sound.echo import echo_test\\ndef render_test():\\n    print(\"render\")\\n    echo_test()\\n\\n와 같이 전체 경로를 사용하여 import할 수도 있지만,\\nrelative한 접근자를 사용할 수도 있다.\\n\\n.. – 부모 디렉터리\\n. – 현재 디렉터리\\n'"
      ]
     },
     "execution_count": 2,
     "metadata": {},
     "output_type": "execute_result"
    }
   ],
   "source": [
    "#relative 패키지\n",
    "\"\"\"\n",
    "graphic 디렉터리의 render.py 모듈이 sound 디렉터리의 echo.py 모듈을 사용할 때\n",
    "\n",
    "# render.py\n",
    "from game.sound.echo import echo_test\n",
    "def render_test():\n",
    "    print(\"render\")\n",
    "    echo_test()\n",
    "\n",
    "와 같이 전체 경로를 사용하여 import할 수도 있지만,\n",
    "relative한 접근자를 사용할 수도 있다.\n",
    "\n",
    ".. – 부모 디렉터리\n",
    ". – 현재 디렉터리\n",
    "\"\"\""
   ]
  },
  {
   "cell_type": "markdown",
   "id": "a5992cea",
   "metadata": {},
   "source": [
    "# Python Built-in Function"
   ]
  },
  {
   "cell_type": "markdown",
   "id": "0c9c5572",
   "metadata": {},
   "source": [
    "- all\n",
    "    - iterable 자료형 x를 입력 인수로 받아 이 x 요소가 모두 참이면 True, 하나라도 거짓이면 False\n",
    "\n",
    "- any\n",
    "    - iterable 자료형 x를 입력 인수로 받아 하나라도 참이면 True, 전부 거짓이면 False\n",
    "\n",
    "- dir\n",
    "    - 자체적으로 가지고 있는 변수나 함수를 보여줌\n",
    "\n",
    "- divmod\n",
    "    - `divmod(a, b)`는 2개의 숫자를 입력으로 받음\n",
    "    - a를 b로 나눈 몫과 나머지를 튜플 형태로 돌려주는 함수\n",
    "\n",
    "- enumerate\n",
    "    - iterable 자료형(List, Tuple, String)을 입력으로 받아 인덱스를 포함하는 enumerate 객체를 반환\n",
    "    - for문과 함께 자주 사용\n",
    "\n",
    "- eval\n",
    "    - `eval(expression)`은 실행 가능한 문자열(1+2, 'hi'+'a' 등)을 입력으로 받아 문자열을 실행한 결과값을 돌려주는 함수\n",
    "    - 입력받은 문자열로 파이썬 함수나 클래스를 동적으로 실행하고 싶을 때 사용\n",
    "    \n",
    "- filter\n",
    "    - 첫 번째 인수로 함수 이름을\n",
    "    - 두 번째 인수로 그 함수에 차례대로 들어갈 iterable 자료형을\n",
    "    - 두 번째 인수가 첫 번째 인수에 입력되었을 때 반환값 중 참값만 돌려줌\n",
    "\n",
    "- map\n",
    "    - 첫 번째 인수로 함수 이름을\n",
    "    - 두 번째 인수로 그 함수에 차례대로 들어갈 iterable 자료형을\n",
    "    - 두 번째 인수가 첫 번째 인수에 입력되었을 때 반환값들을 돌려줌\n",
    "\n",
    "- sorted\n",
    "    - `sorted(iterable)`함수는 입력값을 정렬한 후 그 결과를 리스트로 돌려주는 함수\n",
    "    \n",
    "- zip\n",
    "    - `zip(*iterable)`은 동일한 개수로 이뤄진 자료형을 묶어주는 역할을 하는 함수"
   ]
  },
  {
   "cell_type": "code",
   "execution_count": 7,
   "id": "45c8cbcf",
   "metadata": {},
   "outputs": [
    {
     "name": "stdout",
     "output_type": "stream",
     "text": [
      "['__add__', '__class__', '__class_getitem__', '__contains__', '__delattr__', '__delitem__', '__dir__', '__doc__', '__eq__', '__format__', '__ge__', '__getattribute__', '__getitem__', '__gt__', '__hash__', '__iadd__', '__imul__', '__init__', '__init_subclass__', '__iter__', '__le__', '__len__', '__lt__', '__mul__', '__ne__', '__new__', '__reduce__', '__reduce_ex__', '__repr__', '__reversed__', '__rmul__', '__setattr__', '__setitem__', '__sizeof__', '__str__', '__subclasshook__', 'append', 'clear', 'copy', 'count', 'extend', 'index', 'insert', 'pop', 'remove', 'reverse', 'sort']\n",
      "(2, 1)\n"
     ]
    }
   ],
   "source": [
    "print(dir([1, 2, 3, 4]))\n",
    "print(divmod(7, 3))"
   ]
  },
  {
   "cell_type": "code",
   "execution_count": 8,
   "id": "45128505",
   "metadata": {},
   "outputs": [
    {
     "name": "stdout",
     "output_type": "stream",
     "text": [
      "3\n",
      "hia\n",
      "(1, 1)\n"
     ]
    }
   ],
   "source": [
    "print(eval('1+2'))\n",
    "print(eval(\"'hi' + 'a'\"))\n",
    "print(eval('divmod(4, 3)'))"
   ]
  },
  {
   "cell_type": "code",
   "execution_count": 9,
   "id": "2625ed0a",
   "metadata": {},
   "outputs": [
    {
     "name": "stdout",
     "output_type": "stream",
     "text": [
      "[1, 2, 6]\n",
      "[1, 2, 6]\n"
     ]
    }
   ],
   "source": [
    "def positive(l):\n",
    "    result = []\n",
    "    for i in l:\n",
    "        if i > 0:\n",
    "            result.append(i)\n",
    "    return result\n",
    "\n",
    "print(positive([1, -3, 2, 0, -5, 6]))\n",
    "\n",
    "def positive(x):\n",
    "    return x>0\n",
    "\n",
    "print(list(filter(positive, [1, -3, 2, 0, -5, 6])))"
   ]
  },
  {
   "cell_type": "code",
   "execution_count": 10,
   "id": "15296843",
   "metadata": {
    "scrolled": true
   },
   "outputs": [
    {
     "name": "stdout",
     "output_type": "stream",
     "text": [
      "[(1, 4), (2, 5), (3, 6)]\n",
      "[(1, 4, 7), (2, 5, 8), (3, 6, 9)]\n",
      "[('a', 'd'), ('b', 'e'), ('c', 'f')]\n"
     ]
    }
   ],
   "source": [
    "print(list(zip([1, 2, 3], [4, 5, 6])))\n",
    "print(list(zip([1, 2, 3], [4, 5, 6], [7, 8, 9])))\n",
    "print(list(zip(\"abc\", \"def\")))"
   ]
  },
  {
   "cell_type": "markdown",
   "id": "115e9f91",
   "metadata": {},
   "source": [
    "# Library"
   ]
  },
  {
   "cell_type": "code",
   "execution_count": null,
   "id": "f1a29003",
   "metadata": {},
   "outputs": [],
   "source": []
  }
 ],
 "metadata": {
  "kernelspec": {
   "display_name": "Python 3 (ipykernel)",
   "language": "python",
   "name": "python3"
  },
  "language_info": {
   "codemirror_mode": {
    "name": "ipython",
    "version": 3
   },
   "file_extension": ".py",
   "mimetype": "text/x-python",
   "name": "python",
   "nbconvert_exporter": "python",
   "pygments_lexer": "ipython3",
   "version": "3.9.12"
  }
 },
 "nbformat": 4,
 "nbformat_minor": 5
}
