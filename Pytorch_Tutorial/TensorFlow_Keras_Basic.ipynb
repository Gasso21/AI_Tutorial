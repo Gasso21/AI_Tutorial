{
 "cells": [
  {
   "cell_type": "markdown",
   "id": "6be7a625",
   "metadata": {},
   "source": [
    "# Basic"
   ]
  },
  {
   "cell_type": "code",
   "execution_count": 6,
   "id": "b4f8acf3",
   "metadata": {},
   "outputs": [
    {
     "name": "stdout",
     "output_type": "stream",
     "text": [
      "Once deleted, variables cannot be recovered. Proceed (y/[n])? y\n"
     ]
    }
   ],
   "source": [
    "%reset"
   ]
  },
  {
   "cell_type": "code",
   "execution_count": 16,
   "id": "4b489d62",
   "metadata": {},
   "outputs": [
    {
     "name": "stdout",
     "output_type": "stream",
     "text": [
      "1.13.1\n",
      "True\n",
      "True\n"
     ]
    }
   ],
   "source": [
    "import torch\n",
    "\n",
    "print(torch.__version__)\n",
    "print(torch.backends.mps.is_built()) # Check whether mps is built or not\n",
    "print(torch.backends.mps.is_available()) # Check availability of mps\n"
   ]
  },
  {
   "cell_type": "code",
   "execution_count": null,
   "id": "f08f914c",
   "metadata": {},
   "outputs": [],
   "source": [
    "\"\"\"\n",
    "mps_device = torch.device(\"mps\")\n",
    "\n",
    "# MPS 장치에 바로 tensor를 생성합니다.\n",
    "x = torch.ones(5, device=mps_device)\n",
    "# 또는\n",
    "x = torch.ones(5, device=\"mps\")\n",
    "\n",
    "# GPU 상에서 연산을 진행합니다.\n",
    "y = x * 2\n",
    "\n",
    "# 또는, 다른 장치와 마찬가지로 MPS로 이동할 수도 있습니다.\n",
    "model = YourFavoriteNet()  # 어떤 모델의 객체를 생성한 뒤,\n",
    "model.to(mps_device)       # MPS 장치로 이동합니다.\n",
    "\n",
    "# 이제 모델과 텐서를 호출하면 GPU에서 연산이 이뤄집니다.\n",
    "pred = model(x)\n",
    "\"\"\""
   ]
  },
  {
   "cell_type": "code",
   "execution_count": 8,
   "id": "44492cf4",
   "metadata": {},
   "outputs": [],
   "source": [
    "from torch import nn\n",
    "from torch.utils.data import DataLoader\n",
    "from torchvision import datasets\n",
    "from torchvision.transforms import ToTensor, Lambda, Compose\n",
    "import matplotlib.pyplot as plt\n",
    "import numpy as np\n",
    "%matplotlib inline\n",
    "%config InlineBackend.figure_format='retina'"
   ]
  },
  {
   "cell_type": "code",
   "execution_count": 10,
   "id": "c185537e",
   "metadata": {},
   "outputs": [
    {
     "name": "stdout",
     "output_type": "stream",
     "text": [
      "Downloading http://yann.lecun.com/exdb/mnist/train-images-idx3-ubyte.gz\n",
      "Downloading http://yann.lecun.com/exdb/mnist/train-images-idx3-ubyte.gz to data/MNIST/raw/train-images-idx3-ubyte.gz\n"
     ]
    },
    {
     "data": {
      "application/vnd.jupyter.widget-view+json": {
       "model_id": "5b3110bd152b44488f05b192d1944d43",
       "version_major": 2,
       "version_minor": 0
      },
      "text/plain": [
       "  0%|          | 0/9912422 [00:00<?, ?it/s]"
      ]
     },
     "metadata": {},
     "output_type": "display_data"
    },
    {
     "name": "stdout",
     "output_type": "stream",
     "text": [
      "Extracting data/MNIST/raw/train-images-idx3-ubyte.gz to data/MNIST/raw\n",
      "\n",
      "Downloading http://yann.lecun.com/exdb/mnist/train-labels-idx1-ubyte.gz\n",
      "Downloading http://yann.lecun.com/exdb/mnist/train-labels-idx1-ubyte.gz to data/MNIST/raw/train-labels-idx1-ubyte.gz\n"
     ]
    },
    {
     "data": {
      "application/vnd.jupyter.widget-view+json": {
       "model_id": "9b1c2674c0d44556bfd7549fed6e0d36",
       "version_major": 2,
       "version_minor": 0
      },
      "text/plain": [
       "  0%|          | 0/28881 [00:00<?, ?it/s]"
      ]
     },
     "metadata": {},
     "output_type": "display_data"
    },
    {
     "name": "stdout",
     "output_type": "stream",
     "text": [
      "Extracting data/MNIST/raw/train-labels-idx1-ubyte.gz to data/MNIST/raw\n",
      "\n",
      "Downloading http://yann.lecun.com/exdb/mnist/t10k-images-idx3-ubyte.gz\n",
      "Downloading http://yann.lecun.com/exdb/mnist/t10k-images-idx3-ubyte.gz to data/MNIST/raw/t10k-images-idx3-ubyte.gz\n"
     ]
    },
    {
     "data": {
      "application/vnd.jupyter.widget-view+json": {
       "model_id": "8a8d91f4681449618888d3b1e8c699df",
       "version_major": 2,
       "version_minor": 0
      },
      "text/plain": [
       "  0%|          | 0/1648877 [00:00<?, ?it/s]"
      ]
     },
     "metadata": {},
     "output_type": "display_data"
    },
    {
     "name": "stdout",
     "output_type": "stream",
     "text": [
      "Extracting data/MNIST/raw/t10k-images-idx3-ubyte.gz to data/MNIST/raw\n",
      "\n",
      "Downloading http://yann.lecun.com/exdb/mnist/t10k-labels-idx1-ubyte.gz\n",
      "Downloading http://yann.lecun.com/exdb/mnist/t10k-labels-idx1-ubyte.gz to data/MNIST/raw/t10k-labels-idx1-ubyte.gz\n"
     ]
    },
    {
     "data": {
      "application/vnd.jupyter.widget-view+json": {
       "model_id": "e0c777c31a3841f7b50478b28ff9131c",
       "version_major": 2,
       "version_minor": 0
      },
      "text/plain": [
       "  0%|          | 0/4542 [00:00<?, ?it/s]"
      ]
     },
     "metadata": {},
     "output_type": "display_data"
    },
    {
     "name": "stdout",
     "output_type": "stream",
     "text": [
      "Extracting data/MNIST/raw/t10k-labels-idx1-ubyte.gz to data/MNIST/raw\n",
      "\n"
     ]
    }
   ],
   "source": [
    "# Load Training Dataset from Open Source\n",
    "training_data = datasets.MNIST(\n",
    "    root=\"data\",\n",
    "    train=True,\n",
    "    download=True,\n",
    "    transform=ToTensor()\n",
    ")\n",
    "\n",
    "# Load Test Dataset from Open Source\n",
    "test_data = datasets.MNIST(\n",
    "    root='data',\n",
    "    train=False,\n",
    "    download=True,\n",
    "    transform=ToTensor()\n",
    ")"
   ]
  },
  {
   "cell_type": "code",
   "execution_count": 11,
   "id": "0f954946",
   "metadata": {},
   "outputs": [
    {
     "name": "stdout",
     "output_type": "stream",
     "text": [
      "Shape of x [N, C, H, W]:  torch.Size([64, 1, 28, 28])\n",
      "Shape of y:  torch.Size([64]) torch.int64\n"
     ]
    }
   ],
   "source": [
    "batch_size=64\n",
    "\n",
    "# Create DataLoader\n",
    "# tf.data.Dataset\n",
    "train_dataloader = DataLoader(training_data, batch_size=batch_size)\n",
    "test_dataloader = DataLoader(test_data, batch_size=batch_size)\n",
    "\n",
    "for X, y in test_dataloader:\n",
    "    print(\"Shape of x [N, C, H, W]: \", X.shape)\n",
    "    print(\"Shape of y: \", y.shape, y.dtype)\n",
    "    break"
   ]
  },
  {
   "cell_type": "code",
   "execution_count": 18,
   "id": "d2fd0c2b",
   "metadata": {},
   "outputs": [
    {
     "name": "stdout",
     "output_type": "stream",
     "text": [
      "NeuralNetwork(\n",
      "  (flatten): Flatten(start_dim=1, end_dim=-1)\n",
      "  (linear_relu_stack): Sequential(\n",
      "    (0): Linear(in_features=784, out_features=128, bias=True)\n",
      "    (1): ReLU()\n",
      "    (2): Dropout(p=0.2, inplace=False)\n",
      "    (3): Linear(in_features=128, out_features=10, bias=True)\n",
      "  )\n",
      ")\n"
     ]
    }
   ],
   "source": [
    "device = torch.device(\"mps\")\n",
    "\n",
    "class NeuralNetwork(nn.Module):\n",
    "    def __init__(self):\n",
    "        super(NeuralNetwork, self).__init__()\n",
    "        self.flatten = nn.Flatten()\n",
    "        self.linear_relu_stack = nn.Sequential(\n",
    "                nn.Linear(28*28, 128),\n",
    "            nn.ReLU(),\n",
    "            nn.Dropout(.2),\n",
    "            nn.Linear(128,10)\n",
    "        )\n",
    "    def forward(self, x):\n",
    "        x = self.flatten(x)\n",
    "        logits = self.linear_relu_stack(x)\n",
    "        return logits\n",
    "\n",
    "model = NeuralNetwork().to(device)\n",
    "print(model)"
   ]
  },
  {
   "cell_type": "code",
   "execution_count": 22,
   "id": "b9ac4eb6",
   "metadata": {},
   "outputs": [],
   "source": [
    "# Setting Loss function and Optimizer\n",
    "loss_fn = nn.CrossEntropyLoss()\n",
    "optimizer = torch.optim.Adam(model.parameters(), lr=1e-3)"
   ]
  },
  {
   "cell_type": "code",
   "execution_count": 21,
   "id": "b23a04ea",
   "metadata": {},
   "outputs": [],
   "source": [
    "# Training Function\n",
    "def train(dataloader, model, loss_fn, optimizer):\n",
    "    size = len(dataloader.dataset)\n",
    "    for batch, (X, y) in enumerate(dataloader):\n",
    "        X, y = X.to(device), y.to(device)\n",
    "        \n",
    "        # Compute Predicted error\n",
    "        pred = model(X)\n",
    "        loss = loss_fn(pred, y)\n",
    "        \n",
    "        # BackPropagation\n",
    "        optimizer.zero_grad()\n",
    "        loss.backward()\n",
    "        optimizer.step()\n",
    "        \n",
    "        if batch % 100 == 0:\n",
    "            loss, current = loss.item(), batch * len(X)\n",
    "            print(f\"loss: {loss:>7f} [{current:>5d}/{size:>5d}]\")"
   ]
  },
  {
   "cell_type": "code",
   "execution_count": 30,
   "id": "fdcedec8",
   "metadata": {},
   "outputs": [],
   "source": [
    "# Test Function\n",
    "def test(dataloader, model, loss_fn):\n",
    "    size = len(dataloader.dataset)\n",
    "    num_batches = len(dataloader)\n",
    "    model.eval()\n",
    "    test_loss, correct = 0, 0\n",
    "    # Setting no gradient\n",
    "    with torch.no_grad():\n",
    "        for X, y in dataloader:\n",
    "            X, y = X.to(device), y.to(device)\n",
    "            pred = model(X)\n",
    "            test_loss += loss_fn(pred, y).item()\n",
    "            correct += (pred.argmax(1) == y).type(torch.float).sum().item()\n",
    "    test_loss /= num_batches\n",
    "    correct /= size\n",
    "    print(f\"Test Error: \\n Accuracy: {(100*correct):>.1f}%, Avg loss: {test_loss:>8f} \\n\")"
   ]
  },
  {
   "cell_type": "code",
   "execution_count": 31,
   "id": "209acc45",
   "metadata": {
    "scrolled": true
   },
   "outputs": [
    {
     "name": "stdout",
     "output_type": "stream",
     "text": [
      "Epoch 1\n",
      "------------------------------\n",
      "loss: 0.063536 [    0/60000]\n",
      "loss: 0.097155 [ 6400/60000]\n",
      "loss: 0.067168 [12800/60000]\n",
      "loss: 0.056007 [19200/60000]\n",
      "loss: 0.083446 [25600/60000]\n",
      "loss: 0.113837 [32000/60000]\n",
      "loss: 0.032853 [38400/60000]\n",
      "loss: 0.119776 [44800/60000]\n",
      "loss: 0.102493 [51200/60000]\n",
      "loss: 0.122135 [57600/60000]\n",
      "Test Error: \n",
      " Accuracy: 96.8%, Avg loss: 0.102825 \n",
      "\n",
      "Epoch 2\n",
      "------------------------------\n",
      "loss: 0.044799 [    0/60000]\n",
      "loss: 0.074989 [ 6400/60000]\n",
      "loss: 0.057560 [12800/60000]\n",
      "loss: 0.043096 [19200/60000]\n",
      "loss: 0.063139 [25600/60000]\n",
      "loss: 0.082683 [32000/60000]\n",
      "loss: 0.022273 [38400/60000]\n",
      "loss: 0.086121 [44800/60000]\n",
      "loss: 0.088209 [51200/60000]\n",
      "loss: 0.080135 [57600/60000]\n",
      "Test Error: \n",
      " Accuracy: 97.2%, Avg loss: 0.091518 \n",
      "\n",
      "Epoch 3\n",
      "------------------------------\n",
      "loss: 0.031103 [    0/60000]\n",
      "loss: 0.065467 [ 6400/60000]\n",
      "loss: 0.047104 [12800/60000]\n",
      "loss: 0.037377 [19200/60000]\n",
      "loss: 0.045875 [25600/60000]\n",
      "loss: 0.059825 [32000/60000]\n",
      "loss: 0.018427 [38400/60000]\n",
      "loss: 0.056279 [44800/60000]\n",
      "loss: 0.082554 [51200/60000]\n",
      "loss: 0.041404 [57600/60000]\n",
      "Test Error: \n",
      " Accuracy: 97.4%, Avg loss: 0.084996 \n",
      "\n",
      "Epoch 4\n",
      "------------------------------\n",
      "loss: 0.020582 [    0/60000]\n",
      "loss: 0.049905 [ 6400/60000]\n",
      "loss: 0.046663 [12800/60000]\n",
      "loss: 0.035669 [19200/60000]\n",
      "loss: 0.031881 [25600/60000]\n",
      "loss: 0.039247 [32000/60000]\n",
      "loss: 0.014093 [38400/60000]\n",
      "loss: 0.037902 [44800/60000]\n",
      "loss: 0.084462 [51200/60000]\n",
      "loss: 0.026802 [57600/60000]\n",
      "Test Error: \n",
      " Accuracy: 97.5%, Avg loss: 0.081001 \n",
      "\n",
      "Epoch 5\n",
      "------------------------------\n",
      "loss: 0.015309 [    0/60000]\n",
      "loss: 0.033953 [ 6400/60000]\n",
      "loss: 0.041783 [12800/60000]\n",
      "loss: 0.037075 [19200/60000]\n",
      "loss: 0.019121 [25600/60000]\n",
      "loss: 0.028747 [32000/60000]\n",
      "loss: 0.013132 [38400/60000]\n",
      "loss: 0.026085 [44800/60000]\n",
      "loss: 0.080629 [51200/60000]\n",
      "loss: 0.017645 [57600/60000]\n",
      "Test Error: \n",
      " Accuracy: 97.5%, Avg loss: 0.079546 \n",
      "\n",
      "Epoch 6\n",
      "------------------------------\n",
      "loss: 0.015527 [    0/60000]\n",
      "loss: 0.028114 [ 6400/60000]\n",
      "loss: 0.036984 [12800/60000]\n",
      "loss: 0.034117 [19200/60000]\n",
      "loss: 0.015547 [25600/60000]\n",
      "loss: 0.023253 [32000/60000]\n",
      "loss: 0.010337 [38400/60000]\n",
      "loss: 0.022738 [44800/60000]\n",
      "loss: 0.079343 [51200/60000]\n",
      "loss: 0.013045 [57600/60000]\n",
      "Test Error: \n",
      " Accuracy: 97.5%, Avg loss: 0.080756 \n",
      "\n",
      "Epoch 7\n",
      "------------------------------\n",
      "loss: 0.015041 [    0/60000]\n",
      "loss: 0.015657 [ 6400/60000]\n",
      "loss: 0.031904 [12800/60000]\n",
      "loss: 0.026100 [19200/60000]\n",
      "loss: 0.014807 [25600/60000]\n",
      "loss: 0.019642 [32000/60000]\n",
      "loss: 0.009618 [38400/60000]\n",
      "loss: 0.019913 [44800/60000]\n",
      "loss: 0.072823 [51200/60000]\n",
      "loss: 0.011849 [57600/60000]\n",
      "Test Error: \n",
      " Accuracy: 97.7%, Avg loss: 0.079462 \n",
      "\n",
      "Epoch 8\n",
      "------------------------------\n",
      "loss: 0.012151 [    0/60000]\n",
      "loss: 0.014064 [ 6400/60000]\n",
      "loss: 0.025234 [12800/60000]\n",
      "loss: 0.021157 [19200/60000]\n",
      "loss: 0.020286 [25600/60000]\n",
      "loss: 0.014410 [32000/60000]\n",
      "loss: 0.008430 [38400/60000]\n",
      "loss: 0.014981 [44800/60000]\n",
      "loss: 0.062911 [51200/60000]\n",
      "loss: 0.009079 [57600/60000]\n",
      "Test Error: \n",
      " Accuracy: 97.7%, Avg loss: 0.080854 \n",
      "\n",
      "Epoch 9\n",
      "------------------------------\n",
      "loss: 0.010652 [    0/60000]\n",
      "loss: 0.009966 [ 6400/60000]\n",
      "loss: 0.020235 [12800/60000]\n",
      "loss: 0.013433 [19200/60000]\n",
      "loss: 0.016713 [25600/60000]\n",
      "loss: 0.009654 [32000/60000]\n",
      "loss: 0.004529 [38400/60000]\n",
      "loss: 0.012296 [44800/60000]\n",
      "loss: 0.056820 [51200/60000]\n",
      "loss: 0.005648 [57600/60000]\n",
      "Test Error: \n",
      " Accuracy: 97.7%, Avg loss: 0.084206 \n",
      "\n",
      "Epoch 10\n",
      "------------------------------\n",
      "loss: 0.011053 [    0/60000]\n",
      "loss: 0.013414 [ 6400/60000]\n",
      "loss: 0.020440 [12800/60000]\n",
      "loss: 0.014428 [19200/60000]\n",
      "loss: 0.009786 [25600/60000]\n",
      "loss: 0.008672 [32000/60000]\n",
      "loss: 0.002565 [38400/60000]\n",
      "loss: 0.015779 [44800/60000]\n",
      "loss: 0.042346 [51200/60000]\n",
      "loss: 0.006218 [57600/60000]\n",
      "Test Error: \n",
      " Accuracy: 97.7%, Avg loss: 0.083685 \n",
      "\n",
      "Done!\n"
     ]
    }
   ],
   "source": [
    "epochs = 10\n",
    "for t in range(epochs):\n",
    "    print(f\"Epoch {t+1}\\n{'-'*30}\")\n",
    "    train(train_dataloader, model, loss_fn, optimizer)\n",
    "    test(test_dataloader, model, loss_fn)\n",
    "print(\"Done!\")"
   ]
  },
  {
   "cell_type": "markdown",
   "id": "3ea07cd2",
   "metadata": {},
   "source": [
    "# Tensor"
   ]
  },
  {
   "cell_type": "code",
   "execution_count": 32,
   "id": "5215ef55",
   "metadata": {},
   "outputs": [
    {
     "name": "stdout",
     "output_type": "stream",
     "text": [
      "tensor([[1, 2],\n",
      "        [3, 4]])\n"
     ]
    }
   ],
   "source": [
    "# list -> tensor\n",
    "data = [[1, 2], [3, 4]]\n",
    "x_data = torch.tensor(data)\n",
    "print(x_data)"
   ]
  },
  {
   "cell_type": "code",
   "execution_count": 34,
   "id": "41f82d08",
   "metadata": {},
   "outputs": [
    {
     "name": "stdout",
     "output_type": "stream",
     "text": [
      "tensor([[1, 2],\n",
      "        [3, 4]])\n",
      "tensor([[1, 2],\n",
      "        [3, 4]])\n",
      "tensor([[1, 2],\n",
      "        [3, 4]])\n"
     ]
    }
   ],
   "source": [
    "# numpy array -> tensor\n",
    "\n",
    "#torch.tensor: copy\n",
    "np_array = np.array(data)\n",
    "x_np_1 = torch.tensor(np_array)\n",
    "print(x_np_1)\n",
    "\n",
    "#torch.as_tensor: view\n",
    "x_np_2 = torch.as_tensor(np_array)\n",
    "print(x_np_2)\n",
    "\n",
    "#torch.from_numpy: view\n",
    "x_np_3 = torch.from_numpy(np_array)\n",
    "print(x_np_3)"
   ]
  },
  {
   "cell_type": "code",
   "execution_count": 35,
   "id": "98305b78",
   "metadata": {},
   "outputs": [
    {
     "name": "stdout",
     "output_type": "stream",
     "text": [
      "tensor([[5, 2],\n",
      "        [3, 4]])\n",
      "[[1 2]\n",
      " [3 4]]\n"
     ]
    }
   ],
   "source": [
    "x_np_1[0,0] = 5\n",
    "print(x_np_1)\n",
    "print(np_array)"
   ]
  },
  {
   "cell_type": "code",
   "execution_count": 38,
   "id": "9b776eac",
   "metadata": {},
   "outputs": [
    {
     "name": "stdout",
     "output_type": "stream",
     "text": [
      "tensor([[6, 2],\n",
      "        [3, 4]])\n",
      "[[6 2]\n",
      " [3 4]]\n",
      "-------------------------\n",
      "tensor([[7, 2],\n",
      "        [3, 4]])\n",
      "[[7 2]\n",
      " [3 4]]\n"
     ]
    }
   ],
   "source": [
    "x_np_2[0,0] = 6\n",
    "print(x_np_2)\n",
    "print(np_array)\n",
    "print(\"-\"*25)\n",
    "x_np_3[0,0] = 7\n",
    "print(x_np_3)\n",
    "print(np_array)\n"
   ]
  },
  {
   "cell_type": "code",
   "execution_count": null,
   "id": "6b63582b",
   "metadata": {},
   "outputs": [],
   "source": []
  }
 ],
 "metadata": {
  "kernelspec": {
   "display_name": "Python 3 (ipykernel)",
   "language": "python",
   "name": "python3"
  },
  "language_info": {
   "codemirror_mode": {
    "name": "ipython",
    "version": 3
   },
   "file_extension": ".py",
   "mimetype": "text/x-python",
   "name": "python",
   "nbconvert_exporter": "python",
   "pygments_lexer": "ipython3",
   "version": "3.9.15"
  }
 },
 "nbformat": 4,
 "nbformat_minor": 5
}
