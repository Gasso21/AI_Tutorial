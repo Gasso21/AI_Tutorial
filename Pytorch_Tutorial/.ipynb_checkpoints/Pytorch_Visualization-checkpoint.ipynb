{
 "cells": [
  {
   "cell_type": "markdown",
   "id": "8eef7601",
   "metadata": {},
   "source": [
    "# Visualization"
   ]
  },
  {
   "cell_type": "code",
   "execution_count": 65,
   "id": "58982cdd",
   "metadata": {},
   "outputs": [
    {
     "name": "stdout",
     "output_type": "stream",
     "text": [
      "Once deleted, variables cannot be recovered. Proceed (y/[n])? y\n"
     ]
    }
   ],
   "source": [
    "%reset"
   ]
  },
  {
   "cell_type": "code",
   "execution_count": 66,
   "id": "f7ff286e",
   "metadata": {},
   "outputs": [],
   "source": [
    "import torch\n",
    "from torch import nn\n",
    "from torch.utils.data import DataLoader, Dataset\n",
    "from torchvision import datasets\n",
    "from torchvision.transforms import ToTensor, Lambda, Compose\n",
    "import matplotlib.pyplot as plt\n",
    "import numpy as np\n",
    "%matplotlib inline\n",
    "%config InlineBackend.figure_format='retina'"
   ]
  },
  {
   "cell_type": "code",
   "execution_count": 67,
   "id": "be8f766f",
   "metadata": {},
   "outputs": [],
   "source": [
    "device = torch.device(\"mps\")"
   ]
  },
  {
   "cell_type": "code",
   "execution_count": 68,
   "id": "a0cd5e5d",
   "metadata": {},
   "outputs": [],
   "source": [
    "training_data = datasets.FashionMNIST(\n",
    "    root='data', # Save Directory\n",
    "    train=True, # Load Training Dataset\n",
    "    download=False, # Download Dataset\n",
    "    transform=ToTensor(), #Preprocessing; Regularization\n",
    ")\n",
    "\n",
    "\n",
    "test_data = datasets.FashionMNIST(\n",
    "    root='data',\n",
    "    train=False,\n",
    "    download=False,\n",
    "    transform=ToTensor(),\n",
    ")"
   ]
  },
  {
   "cell_type": "code",
   "execution_count": 69,
   "id": "102b9f6e",
   "metadata": {},
   "outputs": [],
   "source": [
    "train_dataloader = DataLoader(training_data, batch_size=64, shuffle=True)\n",
    "test_dataloader = DataLoader(test_data, batch_size=64, shuffle=False)"
   ]
  },
  {
   "cell_type": "code",
   "execution_count": 70,
   "id": "3f89ad38",
   "metadata": {},
   "outputs": [],
   "source": [
    "loss_fn = nn.CrossEntropyLoss()"
   ]
  },
  {
   "cell_type": "code",
   "execution_count": 71,
   "id": "23a71de6",
   "metadata": {},
   "outputs": [],
   "source": [
    "def test_loop(dataloader, model, loss_fn):\n",
    "    size = len(dataloader.dataset)\n",
    "    num_batches = len(dataloader)\n",
    "    test_loss, correct = 0, 0\n",
    "    \n",
    "    with torch.no_grad():\n",
    "        for X, y in dataloader:\n",
    "            X, y = X.to(device), y.to(device)\n",
    "            pred = model(X)\n",
    "            \n",
    "            test_loss += loss_fn(pred, y).item() #torch.Tensor -> Number\n",
    "            correct += (pred.argmax(1) == y).type(torch.float).sum().item()\n",
    "            \n",
    "    test_loss /= num_batches\n",
    "    correct /= size\n",
    "    print(f\"Test error: \\n Accuracy: {(100*correct):>.1f}%, Avg Loss: {(test_loss):>8f} \\n\") # 오른쪽 정렬"
   ]
  },
  {
   "cell_type": "markdown",
   "id": "2c11d63f",
   "metadata": {},
   "source": [
    "# Tensorboard"
   ]
  },
  {
   "cell_type": "code",
   "execution_count": 72,
   "id": "c24ebf72",
   "metadata": {},
   "outputs": [
    {
     "name": "stdout",
     "output_type": "stream",
     "text": [
      "The tensorboard extension is already loaded. To reload it, use:\n",
      "  %reload_ext tensorboard\n"
     ]
    }
   ],
   "source": [
    "%load_ext tensorboard"
   ]
  },
  {
   "cell_type": "code",
   "execution_count": 73,
   "id": "2c940602",
   "metadata": {},
   "outputs": [],
   "source": [
    "from torch.utils.tensorboard import SummaryWriter\n",
    "\n",
    "# 저장할 경로 설정\n",
    "writer = SummaryWriter('./logs/pytorch')"
   ]
  },
  {
   "cell_type": "markdown",
   "id": "6958ac66",
   "metadata": {},
   "source": [
    "# Model"
   ]
  },
  {
   "cell_type": "code",
   "execution_count": 74,
   "id": "9a48ad73",
   "metadata": {},
   "outputs": [],
   "source": [
    "class NeuralNetwork(nn.Module):\n",
    "    def __init__(self):\n",
    "        super(NeuralNetwork, self).__init__()\n",
    "        self.flatten = nn.Flatten()\n",
    "        self.linear_relu_stack = nn.Sequential(\n",
    "            nn.Linear(28*28, 128),\n",
    "            nn.ReLU(),\n",
    "            nn.Dropout(.2),\n",
    "            nn.Linear(128, 10)\n",
    "        )\n",
    "        \n",
    "    def forward(self, x):\n",
    "        x = self.flatten(x)\n",
    "        logits = self.linear_relu_stack(x)\n",
    "        return logits"
   ]
  },
  {
   "cell_type": "code",
   "execution_count": 75,
   "id": "dc285efa",
   "metadata": {},
   "outputs": [
    {
     "name": "stdout",
     "output_type": "stream",
     "text": [
      "NeuralNetwork(\n",
      "  (flatten): Flatten(start_dim=1, end_dim=-1)\n",
      "  (linear_relu_stack): Sequential(\n",
      "    (0): Linear(in_features=784, out_features=128, bias=True)\n",
      "    (1): ReLU()\n",
      "    (2): Dropout(p=0.2, inplace=False)\n",
      "    (3): Linear(in_features=128, out_features=10, bias=True)\n",
      "  )\n",
      ")\n",
      "Test error: \n",
      " Accuracy: 4.6%, Avg Loss: 2.322610 \n",
      "\n"
     ]
    }
   ],
   "source": [
    "model4 = NeuralNetwork().to(device)\n",
    "print(model4)\n",
    "\n",
    "model4.eval() # .eval(): Training하는 상태가 아님을 알려줌, inference할 때 사용\n",
    "test_loop(test_dataloader, model4, loss_fn)"
   ]
  },
  {
   "cell_type": "code",
   "execution_count": 76,
   "id": "691cc70a",
   "metadata": {},
   "outputs": [],
   "source": [
    "X = torch.rand(1, 28, 28, device=device) # Dummies\n",
    "writer.add_graph(model4, X) # Model과 Input을 Tensorboard에 Write"
   ]
  },
  {
   "cell_type": "code",
   "execution_count": 77,
   "id": "ef9522ad",
   "metadata": {},
   "outputs": [
    {
     "data": {
      "text/plain": [
       "'\\n# For Training\\ndef train_loop(dataloader, model, loss_fn, optimizer):\\n    size = len(dataloader.dataset) # 전체 데이터 개수 (training set 60,000)\\n    for batch, (X, y) in enumerate(dataloader): # 1 Epoch, 1Batch - 64개씩\\n        X, y = X.to(device), y.to(device)\\n        \\n        # Compute Prediction and Loss\\n        pred = model(X)\\n        loss = loss_fn(pred, y) #Cross Entropy\\n        \\n        # BackPropagation\\n        optimizer.zero_grad() # 남아있는 Gradient clean-up\\n        loss.backward() # BackPropagation\\n        optimizer.step() # Weight and Bias Update\\n        \\n        if batch % 100 == 0:\\n            loss, current = loss.item(), batch *len(X)\\n            print(f\"loss: {loss:>7f} [{current:>5d}/{size:>5d}]\")\\n'"
      ]
     },
     "execution_count": 77,
     "metadata": {},
     "output_type": "execute_result"
    }
   ],
   "source": [
    "\"\"\"\n",
    "# For Training\n",
    "def train_loop(dataloader, model, loss_fn, optimizer):\n",
    "    size = len(dataloader.dataset) # 전체 데이터 개수 (training set 60,000)\n",
    "    for batch, (X, y) in enumerate(dataloader): # 1 Epoch, 1Batch - 64개씩\n",
    "        X, y = X.to(device), y.to(device)\n",
    "        \n",
    "        # Compute Prediction and Loss\n",
    "        pred = model(X)\n",
    "        loss = loss_fn(pred, y) #Cross Entropy\n",
    "        \n",
    "        # BackPropagation\n",
    "        optimizer.zero_grad() # 남아있는 Gradient clean-up\n",
    "        loss.backward() # BackPropagation\n",
    "        optimizer.step() # Weight and Bias Update\n",
    "        \n",
    "        if batch % 100 == 0:\n",
    "            loss, current = loss.item(), batch *len(X)\n",
    "            print(f\"loss: {loss:>7f} [{current:>5d}/{size:>5d}]\")\n",
    "\"\"\""
   ]
  },
  {
   "cell_type": "code",
   "execution_count": 78,
   "id": "42f12a90",
   "metadata": {},
   "outputs": [],
   "source": [
    "def train(dataloader, model, loss_fn, optimizer):\n",
    "    size = len(dataloader.dataset)\n",
    "    model.train()\n",
    "    total_loss = 0\n",
    "    for batch, (X, y) in enumerate(dataloader):\n",
    "        X, y = X.to(device), y.to(device)\n",
    "        \n",
    "        pred = model(X)\n",
    "        loss = loss_fn(pred, y)\n",
    "        \n",
    "        optimizer.zero_grad()\n",
    "        loss.backward()\n",
    "        optimizer.step()\n",
    "        \n",
    "        if batch % 100 == 0:\n",
    "            loss, current = loss.item(), batch * len(X) # 64개의 batch 단위로써의 평균\n",
    "            print(f\"loss: {loss:>7f}, [{current:>5d}/{size:>5d}]\")\n",
    "            \n",
    "        total_loss += loss / len(dataloader) # 60000개 전체의 평균\n",
    "    return total_loss"
   ]
  },
  {
   "cell_type": "code",
   "execution_count": 79,
   "id": "479a397a",
   "metadata": {},
   "outputs": [],
   "source": [
    "def test(dataloader, model, loss_fn):\n",
    "    size = len(dataloader.dataset)\n",
    "    num_batches = len(dataloader)\n",
    "    model.eval() # Just for Test\n",
    "    test_loss, correct = 0, 0\n",
    "    \n",
    "    with torch.no_grad():\n",
    "        for X, y in dataloader:\n",
    "            X, y = X.to(device), y.to(device)\n",
    "            pred = model4(X)\n",
    "            test_loss += loss_fn(pred, y).item()\n",
    "            correct += (pred.argmax(1) == y).type(torch.float).sum().item()\n",
    "    test_loss /= num_batches\n",
    "    correct /= size\n",
    "    print(f\"Test error: \\n Accuracy: {(100*correct):>.1f}%, Avg Loss: {(test_loss):>8f} \\n\") # 오른쪽 정렬\n",
    "    return test_loss"
   ]
  },
  {
   "cell_type": "code",
   "execution_count": 80,
   "id": "eb448fbd",
   "metadata": {},
   "outputs": [],
   "source": [
    "learning_rate = 0.001\n",
    "optimizer = torch.optim.Adam(model4.parameters(), lr=learning_rate)"
   ]
  },
  {
   "cell_type": "code",
   "execution_count": 81,
   "id": "89bb37db",
   "metadata": {},
   "outputs": [
    {
     "name": "stdout",
     "output_type": "stream",
     "text": [
      "Epoch 1\n",
      "----------------------\n",
      "loss: 2.350426, [    0/60000]\n",
      "loss: 0.610711, [ 6400/60000]\n",
      "loss: 0.615368, [12800/60000]\n",
      "loss: 0.438951, [19200/60000]\n",
      "loss: 0.743578, [25600/60000]\n",
      "loss: 0.650136, [32000/60000]\n",
      "loss: 0.462987, [38400/60000]\n",
      "loss: 0.416185, [44800/60000]\n",
      "loss: 0.419900, [51200/60000]\n",
      "loss: 0.660700, [57600/60000]\n",
      "Test error: \n",
      " Accuracy: 83.6%, Avg Loss: 0.458711 \n",
      "\n",
      "Epoch 2\n",
      "----------------------\n",
      "loss: 0.626879, [    0/60000]\n",
      "loss: 0.267500, [ 6400/60000]\n",
      "loss: 0.460709, [12800/60000]\n",
      "loss: 0.484147, [19200/60000]\n",
      "loss: 0.390795, [25600/60000]\n",
      "loss: 0.334490, [32000/60000]\n",
      "loss: 0.632690, [38400/60000]\n",
      "loss: 0.283186, [44800/60000]\n",
      "loss: 0.574542, [51200/60000]\n",
      "loss: 0.408187, [57600/60000]\n",
      "Test error: \n",
      " Accuracy: 85.2%, Avg Loss: 0.404490 \n",
      "\n",
      "Epoch 3\n",
      "----------------------\n",
      "loss: 0.351066, [    0/60000]\n",
      "loss: 0.395774, [ 6400/60000]\n",
      "loss: 0.460566, [12800/60000]\n",
      "loss: 0.452190, [19200/60000]\n",
      "loss: 0.418491, [25600/60000]\n",
      "loss: 0.433857, [32000/60000]\n",
      "loss: 0.364555, [38400/60000]\n",
      "loss: 0.517165, [44800/60000]\n",
      "loss: 0.274500, [51200/60000]\n",
      "loss: 0.278626, [57600/60000]\n",
      "Test error: \n",
      " Accuracy: 86.4%, Avg Loss: 0.377083 \n",
      "\n",
      "Epoch 4\n",
      "----------------------\n",
      "loss: 0.449967, [    0/60000]\n",
      "loss: 0.449198, [ 6400/60000]\n",
      "loss: 0.229537, [12800/60000]\n",
      "loss: 0.308558, [19200/60000]\n",
      "loss: 0.354905, [25600/60000]\n",
      "loss: 0.355273, [32000/60000]\n",
      "loss: 0.350627, [38400/60000]\n",
      "loss: 0.294929, [44800/60000]\n",
      "loss: 0.359648, [51200/60000]\n",
      "loss: 0.318761, [57600/60000]\n",
      "Test error: \n",
      " Accuracy: 86.8%, Avg Loss: 0.367879 \n",
      "\n",
      "Epoch 5\n",
      "----------------------\n",
      "loss: 0.260413, [    0/60000]\n",
      "loss: 0.315489, [ 6400/60000]\n",
      "loss: 0.312904, [12800/60000]\n",
      "loss: 0.373972, [19200/60000]\n",
      "loss: 0.366041, [25600/60000]\n",
      "loss: 0.346251, [32000/60000]\n",
      "loss: 0.391728, [38400/60000]\n",
      "loss: 0.300754, [44800/60000]\n",
      "loss: 0.301026, [51200/60000]\n",
      "loss: 0.249496, [57600/60000]\n",
      "Test error: \n",
      " Accuracy: 87.1%, Avg Loss: 0.354989 \n",
      "\n",
      "Epoch 6\n",
      "----------------------\n",
      "loss: 0.358374, [    0/60000]\n",
      "loss: 0.417185, [ 6400/60000]\n",
      "loss: 0.217234, [12800/60000]\n",
      "loss: 0.359761, [19200/60000]\n",
      "loss: 0.276991, [25600/60000]\n",
      "loss: 0.394528, [32000/60000]\n",
      "loss: 0.252103, [38400/60000]\n",
      "loss: 0.366812, [44800/60000]\n",
      "loss: 0.533538, [51200/60000]\n",
      "loss: 0.349373, [57600/60000]\n",
      "Test error: \n",
      " Accuracy: 87.1%, Avg Loss: 0.360848 \n",
      "\n",
      "Epoch 7\n",
      "----------------------\n",
      "loss: 0.485430, [    0/60000]\n",
      "loss: 0.294900, [ 6400/60000]\n",
      "loss: 0.150691, [12800/60000]\n",
      "loss: 0.464696, [19200/60000]\n",
      "loss: 0.261524, [25600/60000]\n",
      "loss: 0.336437, [32000/60000]\n",
      "loss: 0.304921, [38400/60000]\n",
      "loss: 0.500623, [44800/60000]\n",
      "loss: 0.515907, [51200/60000]\n",
      "loss: 0.239561, [57600/60000]\n",
      "Test error: \n",
      " Accuracy: 87.3%, Avg Loss: 0.350181 \n",
      "\n",
      "Epoch 8\n",
      "----------------------\n",
      "loss: 0.238174, [    0/60000]\n",
      "loss: 0.241561, [ 6400/60000]\n",
      "loss: 0.170431, [12800/60000]\n",
      "loss: 0.433876, [19200/60000]\n",
      "loss: 0.313199, [25600/60000]\n",
      "loss: 0.134282, [32000/60000]\n",
      "loss: 0.290601, [38400/60000]\n",
      "loss: 0.272443, [44800/60000]\n",
      "loss: 0.239260, [51200/60000]\n",
      "loss: 0.264080, [57600/60000]\n",
      "Test error: \n",
      " Accuracy: 87.9%, Avg Loss: 0.333015 \n",
      "\n",
      "Epoch 9\n",
      "----------------------\n",
      "loss: 0.254256, [    0/60000]\n",
      "loss: 0.231683, [ 6400/60000]\n",
      "loss: 0.281314, [12800/60000]\n",
      "loss: 0.235212, [19200/60000]\n",
      "loss: 0.259345, [25600/60000]\n",
      "loss: 0.334715, [32000/60000]\n",
      "loss: 0.177151, [38400/60000]\n",
      "loss: 0.227453, [44800/60000]\n",
      "loss: 0.298990, [51200/60000]\n",
      "loss: 0.449071, [57600/60000]\n",
      "Test error: \n",
      " Accuracy: 87.5%, Avg Loss: 0.349346 \n",
      "\n",
      "Epoch 10\n",
      "----------------------\n",
      "loss: 0.224263, [    0/60000]\n",
      "loss: 0.186460, [ 6400/60000]\n",
      "loss: 0.272933, [12800/60000]\n",
      "loss: 0.221557, [19200/60000]\n",
      "loss: 0.549554, [25600/60000]\n",
      "loss: 0.173136, [32000/60000]\n",
      "loss: 0.297323, [38400/60000]\n",
      "loss: 0.257293, [44800/60000]\n",
      "loss: 0.227278, [51200/60000]\n",
      "loss: 0.295538, [57600/60000]\n",
      "Test error: \n",
      " Accuracy: 88.1%, Avg Loss: 0.335840 \n",
      "\n",
      "Done!\n"
     ]
    }
   ],
   "source": [
    "parameters = ['Weight1', 'Bias1', 'Weight2', 'Bias2']\n",
    "\n",
    "epochs = 10\n",
    "for t in range(epochs):\n",
    "    print(f\"Epoch {t+1}\\n----------------------\")\n",
    "    train_loss = train(train_dataloader, model4, loss_fn, optimizer)\n",
    "    writer.add_scalar('training loss', train_loss, t)\n",
    "    for param, name in zip(model4.parameters(), parameters):\n",
    "        writer.add_histogram(name, param, t)\n",
    "    test_loss = test(test_dataloader, model4, loss_fn)\n",
    "    writer.add_scalar('test_loss', test_loss, t)\n",
    "print(\"Done!\")"
   ]
  },
  {
   "cell_type": "code",
   "execution_count": 82,
   "id": "841a9f9d",
   "metadata": {},
   "outputs": [],
   "source": [
    "writer.close()"
   ]
  },
  {
   "cell_type": "code",
   "execution_count": 83,
   "id": "04e177e5",
   "metadata": {},
   "outputs": [
    {
     "data": {
      "text/plain": [
       "Reusing TensorBoard on port 6007 (pid 1235), started 0:09:14 ago. (Use '!kill 1235' to kill it.)"
      ]
     },
     "metadata": {},
     "output_type": "display_data"
    },
    {
     "data": {
      "text/html": [
       "\n",
       "      <iframe id=\"tensorboard-frame-4f736603b19fd70e\" width=\"100%\" height=\"800\" frameborder=\"0\">\n",
       "      </iframe>\n",
       "      <script>\n",
       "        (function() {\n",
       "          const frame = document.getElementById(\"tensorboard-frame-4f736603b19fd70e\");\n",
       "          const url = new URL(\"/\", window.location);\n",
       "          const port = 6007;\n",
       "          if (port) {\n",
       "            url.port = port;\n",
       "          }\n",
       "          frame.src = url;\n",
       "        })();\n",
       "      </script>\n",
       "    "
      ],
      "text/plain": [
       "<IPython.core.display.HTML object>"
      ]
     },
     "metadata": {},
     "output_type": "display_data"
    }
   ],
   "source": [
    "%tensorboard --logdir './logs/pytorch'"
   ]
  }
 ],
 "metadata": {
  "kernelspec": {
   "display_name": "Python 3 (ipykernel)",
   "language": "python",
   "name": "python3"
  },
  "language_info": {
   "codemirror_mode": {
    "name": "ipython",
    "version": 3
   },
   "file_extension": ".py",
   "mimetype": "text/x-python",
   "name": "python",
   "nbconvert_exporter": "python",
   "pygments_lexer": "ipython3",
   "version": "3.9.15"
  }
 },
 "nbformat": 4,
 "nbformat_minor": 5
}
