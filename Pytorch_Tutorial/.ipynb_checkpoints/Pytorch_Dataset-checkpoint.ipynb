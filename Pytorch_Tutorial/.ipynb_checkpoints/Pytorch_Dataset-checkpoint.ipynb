{
 "cells": [
  {
   "cell_type": "markdown",
   "id": "8a537897",
   "metadata": {},
   "source": [
    "# Dataset / Dataloader\n",
    "- Dataset은 data와 label을 저장\n",
    "- DataLoader는 Dataset을 model에 공급할 수 있도록 iterable객체로 감싸줌"
   ]
  },
  {
   "cell_type": "code",
   "execution_count": 1,
   "id": "27b7a88d",
   "metadata": {},
   "outputs": [
    {
     "name": "stdout",
     "output_type": "stream",
     "text": [
      "Once deleted, variables cannot be recovered. Proceed (y/[n])? y\n"
     ]
    }
   ],
   "source": [
    "%reset"
   ]
  },
  {
   "cell_type": "code",
   "execution_count": 2,
   "id": "e90d1385",
   "metadata": {},
   "outputs": [],
   "source": [
    "import torch"
   ]
  },
  {
   "cell_type": "code",
   "execution_count": 46,
   "id": "1044a14b",
   "metadata": {},
   "outputs": [],
   "source": [
    "from torch import nn\n",
    "from torch.utils.data import DataLoader, Dataset\n",
    "from torchvision import datasets\n",
    "from torchvision.transforms import ToTensor, Lambda, Compose\n",
    "import matplotlib.pyplot as plt\n",
    "import numpy as np\n",
    "%matplotlib inline\n",
    "%config InlineBackend.figure_format='retina'"
   ]
  },
  {
   "cell_type": "code",
   "execution_count": 84,
   "id": "aaed03d7",
   "metadata": {},
   "outputs": [],
   "source": [
    "device = torch.device(\"mps\")"
   ]
  },
  {
   "cell_type": "markdown",
   "id": "dd62581b",
   "metadata": {},
   "source": [
    "## FasionMNIST data Load"
   ]
  },
  {
   "cell_type": "code",
   "execution_count": 4,
   "id": "35b796b4",
   "metadata": {},
   "outputs": [],
   "source": [
    "import torchvision.transforms as tr"
   ]
  },
  {
   "cell_type": "code",
   "execution_count": 5,
   "id": "c7de4e36",
   "metadata": {},
   "outputs": [
    {
     "name": "stdout",
     "output_type": "stream",
     "text": [
      "Downloading http://fashion-mnist.s3-website.eu-central-1.amazonaws.com/train-images-idx3-ubyte.gz\n",
      "Downloading http://fashion-mnist.s3-website.eu-central-1.amazonaws.com/train-images-idx3-ubyte.gz to data/FashionMNIST/raw/train-images-idx3-ubyte.gz\n"
     ]
    },
    {
     "data": {
      "application/vnd.jupyter.widget-view+json": {
       "model_id": "9d4791778e434248bd29f2b4d7387e73",
       "version_major": 2,
       "version_minor": 0
      },
      "text/plain": [
       "  0%|          | 0/26421880 [00:00<?, ?it/s]"
      ]
     },
     "metadata": {},
     "output_type": "display_data"
    },
    {
     "name": "stdout",
     "output_type": "stream",
     "text": [
      "Extracting data/FashionMNIST/raw/train-images-idx3-ubyte.gz to data/FashionMNIST/raw\n",
      "\n",
      "Downloading http://fashion-mnist.s3-website.eu-central-1.amazonaws.com/train-labels-idx1-ubyte.gz\n",
      "Downloading http://fashion-mnist.s3-website.eu-central-1.amazonaws.com/train-labels-idx1-ubyte.gz to data/FashionMNIST/raw/train-labels-idx1-ubyte.gz\n"
     ]
    },
    {
     "data": {
      "application/vnd.jupyter.widget-view+json": {
       "model_id": "3035521031164a9d8b3bedaf2f981e4b",
       "version_major": 2,
       "version_minor": 0
      },
      "text/plain": [
       "  0%|          | 0/29515 [00:00<?, ?it/s]"
      ]
     },
     "metadata": {},
     "output_type": "display_data"
    },
    {
     "name": "stdout",
     "output_type": "stream",
     "text": [
      "Extracting data/FashionMNIST/raw/train-labels-idx1-ubyte.gz to data/FashionMNIST/raw\n",
      "\n",
      "Downloading http://fashion-mnist.s3-website.eu-central-1.amazonaws.com/t10k-images-idx3-ubyte.gz\n",
      "Downloading http://fashion-mnist.s3-website.eu-central-1.amazonaws.com/t10k-images-idx3-ubyte.gz to data/FashionMNIST/raw/t10k-images-idx3-ubyte.gz\n"
     ]
    },
    {
     "data": {
      "application/vnd.jupyter.widget-view+json": {
       "model_id": "7e1a1062e6bb4936b4f0cd581973b773",
       "version_major": 2,
       "version_minor": 0
      },
      "text/plain": [
       "  0%|          | 0/4422102 [00:00<?, ?it/s]"
      ]
     },
     "metadata": {},
     "output_type": "display_data"
    },
    {
     "name": "stdout",
     "output_type": "stream",
     "text": [
      "Extracting data/FashionMNIST/raw/t10k-images-idx3-ubyte.gz to data/FashionMNIST/raw\n",
      "\n",
      "Downloading http://fashion-mnist.s3-website.eu-central-1.amazonaws.com/t10k-labels-idx1-ubyte.gz\n",
      "Downloading http://fashion-mnist.s3-website.eu-central-1.amazonaws.com/t10k-labels-idx1-ubyte.gz to data/FashionMNIST/raw/t10k-labels-idx1-ubyte.gz\n"
     ]
    },
    {
     "data": {
      "application/vnd.jupyter.widget-view+json": {
       "model_id": "b71b5df586d74419ac99ce9f51daed1f",
       "version_major": 2,
       "version_minor": 0
      },
      "text/plain": [
       "  0%|          | 0/5148 [00:00<?, ?it/s]"
      ]
     },
     "metadata": {},
     "output_type": "display_data"
    },
    {
     "name": "stdout",
     "output_type": "stream",
     "text": [
      "Extracting data/FashionMNIST/raw/t10k-labels-idx1-ubyte.gz to data/FashionMNIST/raw\n",
      "\n"
     ]
    }
   ],
   "source": [
    "training_data = datasets.FashionMNIST(\n",
    "    root='data', # 저장할 directory 이름\n",
    "    train=True, # TrainingSet을 받아옴\n",
    "    download=True, # 실제로 다운로드\n",
    "    transform=ToTensor() # 전처리; tensorflow에서 */255; ToTensor()는 torchTensor로 바꿔줌과 동시에 0~1 사이로 전처리\n",
    ")\n",
    "\n",
    "test_data = datasets.FashionMNIST(\n",
    "    root='data',\n",
    "    train=False, # TestSet을 받아옴\n",
    "    download=True,\n",
    "    transform=ToTensor()\n",
    ")"
   ]
  },
  {
   "cell_type": "code",
   "execution_count": 41,
   "id": "af2de631",
   "metadata": {},
   "outputs": [
    {
     "data": {
      "image/png": "[encoded data removed]",
      "text/plain": [
       "<Figure size 800x800 with 9 Axes>"
      ]
     },
     "metadata": {
      "image/png": {
       "height": 657,
       "width": 638
      }
     },
     "output_type": "display_data"
    }
   ],
   "source": [
    "labels_map = {\n",
    "    0:\"T-Shirt\",\n",
    "    1:\"Trouser\",\n",
    "    2:\"Pullover\",\n",
    "    3:\"Dress\",\n",
    "    4:\"Coat\",\n",
    "    5:\"Sandal\",\n",
    "    6:\"Shirt\",\n",
    "    7:\"Sneaker\",\n",
    "    8:\"Bag\",\n",
    "    9:\"Ankle Boot\"\n",
    "}\n",
    "figure = plt.figure(figsize=(8,8))\n",
    "cols, rows = (3, 3)\n",
    "for i in range(1, cols*rows + 1):\n",
    "    sample_idx = torch.randint(len(training_data), size=(1,)).item() # torch.Tensor.item(): tensor -> number\n",
    "    img, label = training_data[sample_idx]\n",
    "    figure.add_subplot(rows, cols, i)\n",
    "    plt.title(labels_map[label])\n",
    "    plt.axis(\"off\")\n",
    "    plt.imshow(img.squeeze(), cmap=\"gray\") #torch.squeeze(): 차원이 1인 차원을 제거\n",
    "plt.show()"
   ]
  },
  {
   "cell_type": "markdown",
   "id": "e7d38209",
   "metadata": {},
   "source": [
    "## DataLoader"
   ]
  },
  {
   "cell_type": "code",
   "execution_count": 42,
   "id": "1b84a79a",
   "metadata": {},
   "outputs": [],
   "source": [
    "train_dataloader = DataLoader(training_data, batch_size=64, shuffle=True)\n",
    "test_dataloader = DataLoader(test_data, batch_size=64, shuffle=False)"
   ]
  },
  {
   "cell_type": "code",
   "execution_count": 44,
   "id": "c608aca9",
   "metadata": {},
   "outputs": [
    {
     "name": "stdout",
     "output_type": "stream",
     "text": [
      "Feature batch shape: torch.Size([64, 1, 28, 28])\n",
      "Labels batch shape: torch.Size([64])\n"
     ]
    },
    {
     "data": {
      "image/png": "[encoded data removed]",
      "text/plain": [
       "<Figure size 640x480 with 1 Axes>"
      ]
     },
     "metadata": {
      "image/png": {
       "height": 413,
       "width": 416
      }
     },
     "output_type": "display_data"
    },
    {
     "name": "stdout",
     "output_type": "stream",
     "text": [
      "Label:5\n"
     ]
    }
   ],
   "source": [
    "# DataLoader를 통해 반복\n",
    "# image, label\n",
    "train_features, train_labels = next(iter(train_dataloader))\n",
    "print(f\"Feature batch shape: {train_features.size()}\")\n",
    "print(f\"Labels batch shape: {train_labels.size()}\")\n",
    "\n",
    "# torch에서는 앞에 channel 1이 들어가 있음 (TensorFlow에서는 28x28로만 표시)\n",
    "img = train_features[0].squeeze() # 1을 삭제\n",
    "label = train_labels[0]\n",
    "plt.imshow(img, cmap=\"gray\")\n",
    "plt.show()\n",
    "print(f\"Label:{label}\")"
   ]
  },
  {
   "cell_type": "markdown",
   "id": "693dbc4b",
   "metadata": {},
   "source": [
    "## Custom Dataset, Data Loader\n",
    "**Local Server에서 파일 불러오기**"
   ]
  },
  {
   "cell_type": "code",
   "execution_count": 47,
   "id": "23c60646",
   "metadata": {},
   "outputs": [],
   "source": [
    "class CustomDataset(Dataset):\n",
    "    def __init__(self, np_data, transform=None):\n",
    "        self.data = np_data # numpy data를 가져옴\n",
    "        self.transform = transform # 전처리할 때 필요한 transform\n",
    "        self.len = np_data.shape[0] #batch size( =data 개수) 저장\n",
    "    def __len__(self):\n",
    "        return self.len # data 전체 개수, 위에서 저장된 데이터 개수를 반환\n",
    "    def __getitem__(self, idx):\n",
    "        sample = self.data[idx] #데이터의 idx에 해당하는 것을 꺼냄\n",
    "        if self.transform: # transform=True 면 실행 후 리턴\n",
    "            sample = self.transform(sample)\n",
    "        return sample"
   ]
  },
  {
   "cell_type": "code",
   "execution_count": 50,
   "id": "7b604249",
   "metadata": {},
   "outputs": [],
   "source": [
    "# Example of Transform\n",
    "def square(sample):\n",
    "    return sample**2"
   ]
  },
  {
   "cell_type": "code",
   "execution_count": 51,
   "id": "08b559de",
   "metadata": {},
   "outputs": [],
   "source": [
    "# Preprocessing\n",
    "trans = tr.Compose([square]) # 여러개를 실행할 수 있음"
   ]
  },
  {
   "cell_type": "code",
   "execution_count": 52,
   "id": "0d5be3e8",
   "metadata": {},
   "outputs": [],
   "source": [
    "np_data = np.arange(10)\n",
    "custom_dataset = CustomDataset(np_data, transform=trans)"
   ]
  },
  {
   "cell_type": "code",
   "execution_count": 53,
   "id": "2c7092de",
   "metadata": {},
   "outputs": [],
   "source": [
    "custom_dataloader = DataLoader(custom_dataset, batch_size=2, shuffle=True)"
   ]
  },
  {
   "cell_type": "code",
   "execution_count": 54,
   "id": "6fe66b84",
   "metadata": {},
   "outputs": [
    {
     "name": "stdout",
     "output_type": "stream",
     "text": [
      "tensor([ 4, 49])\n",
      "tensor([64,  1])\n",
      "tensor([9, 0])\n",
      "tensor([81, 25])\n",
      "tensor([36, 16])\n",
      "====================\n",
      "tensor([64, 16])\n",
      "tensor([49,  0])\n",
      "tensor([36, 81])\n",
      "tensor([25,  4])\n",
      "tensor([1, 9])\n",
      "====================\n",
      "tensor([ 4, 81])\n",
      "tensor([ 9, 49])\n",
      "tensor([1, 0])\n",
      "tensor([64, 36])\n",
      "tensor([25, 16])\n",
      "====================\n"
     ]
    }
   ],
   "source": [
    "for _ in range(3): # Epoch\n",
    "    for data in custom_dataloader: # Batch\n",
    "        print(data)\n",
    "    print(\"=\"*20)"
   ]
  },
  {
   "cell_type": "markdown",
   "id": "ed5a7872",
   "metadata": {},
   "source": [
    "# Model"
   ]
  },
  {
   "cell_type": "code",
   "execution_count": 61,
   "id": "8fb3e5d2",
   "metadata": {},
   "outputs": [
    {
     "name": "stdout",
     "output_type": "stream",
     "text": [
      "Using Device: 'mps'\n"
     ]
    }
   ],
   "source": [
    "device = 'mps' if torch.backends.mps.is_available() else 'cpu'\n",
    "print(f\"Using Device: '{device}'\")"
   ]
  },
  {
   "cell_type": "markdown",
   "id": "9ee0594c",
   "metadata": {},
   "source": [
    "## Model Class"
   ]
  },
  {
   "cell_type": "code",
   "execution_count": 67,
   "id": "7001dae4",
   "metadata": {},
   "outputs": [],
   "source": [
    "class NeuralNetwork(nn.Module):\n",
    "    def __init__(self):\n",
    "        super(NeuralNetwork, self).__init__()\n",
    "        self.flatten = nn.Flatten()\n",
    "        self.linear_relu_stack = nn.Sequential(\n",
    "            nn.Linear(28*28, 128),\n",
    "            nn.ReLU(),\n",
    "            nn.Dropout(.2),\n",
    "            nn.Linear(128, 10)\n",
    "        )\n",
    "        \n",
    "    def forward(self, x):\n",
    "        x = self.flatten(x)\n",
    "        logits = self.linear_relu_stack(x)\n",
    "        return logits"
   ]
  },
  {
   "cell_type": "code",
   "execution_count": 68,
   "id": "695b257c",
   "metadata": {},
   "outputs": [
    {
     "name": "stdout",
     "output_type": "stream",
     "text": [
      "NeuralNetwork(\n",
      "  (flatten): Flatten(start_dim=1, end_dim=-1)\n",
      "  (linear_relu_stack): Sequential(\n",
      "    (0): Linear(in_features=784, out_features=128, bias=True)\n",
      "    (1): ReLU()\n",
      "    (2): Dropout(p=0.2, inplace=False)\n",
      "    (3): Linear(in_features=128, out_features=10, bias=True)\n",
      "  )\n",
      ")\n"
     ]
    }
   ],
   "source": [
    "model = NeuralNetwork().to(device)\n",
    "print(model)"
   ]
  },
  {
   "cell_type": "code",
   "execution_count": 69,
   "id": "8fe4a053",
   "metadata": {},
   "outputs": [
    {
     "name": "stdout",
     "output_type": "stream",
     "text": [
      "Predicted class: tensor([3], device='mps:0')\n"
     ]
    }
   ],
   "source": [
    "X = torch.rand(1, 28, 28, device=device)\n",
    "logits = model(X)\n",
    "pred_probab = nn.Softmax(dim=1)(logits)\n",
    "y_pred = pred_probab.argmax(1)\n",
    "print(f\"Predicted class: {y_pred}\")"
   ]
  },
  {
   "cell_type": "markdown",
   "id": "46e119dc",
   "metadata": {},
   "source": [
    "# Training / Validation "
   ]
  },
  {
   "cell_type": "markdown",
   "id": "3a7ca991",
   "metadata": {},
   "source": [
    "## Loss Function"
   ]
  },
  {
   "cell_type": "code",
   "execution_count": 70,
   "id": "77173ed9",
   "metadata": {},
   "outputs": [],
   "source": [
    "loss_fn = nn.CrossEntropyLoss()"
   ]
  },
  {
   "cell_type": "markdown",
   "id": "b80fa061",
   "metadata": {},
   "source": [
    "## Optimizer"
   ]
  },
  {
   "cell_type": "code",
   "execution_count": 71,
   "id": "ad65711d",
   "metadata": {},
   "outputs": [],
   "source": [
    "learning_rate = 1e-3\n",
    "optimizer = torch.optim.Adam(model.parameters(), lr=learning_rate)"
   ]
  },
  {
   "cell_type": "markdown",
   "id": "7958291c",
   "metadata": {},
   "source": [
    "## Training / Validation(Test) Function"
   ]
  },
  {
   "cell_type": "code",
   "execution_count": 85,
   "id": "063b1305",
   "metadata": {},
   "outputs": [],
   "source": [
    "# For Training\n",
    "def train_loop(dataloader, model, loss_fn, optimizer):\n",
    "    size = len(dataloader.dataset) # 전체 데이터 개수 (training set 60,000)\n",
    "    for batch, (X, y) in enumerate(dataloader): # 1 Epoch, 1Batch - 64개씩\n",
    "        X, y = X.to(device), y.to(device)\n",
    "        \n",
    "        # Compute Prediction and Loss\n",
    "        pred = model(X)\n",
    "        loss = loss_fn(pred, y) #Cross Entropy\n",
    "        \n",
    "        # BackPropagation\n",
    "        optimizer.zero_grad() # 남아있는 Gradient clean-up\n",
    "        loss.backward() # BackPropagation\n",
    "        optimizer.step() # Weight and Bias Update\n",
    "        \n",
    "        if batch % 100 == 0:\n",
    "            loss, current = loss.item(), batch *len(X)\n",
    "            print(f\"loss: {loss:>7f} [{current:>5d}/{size:>5d}]\")\n",
    "\n",
    "# For Test\n",
    "def test_loop(dataloader, model, loss_fn):\n",
    "    size = len(dataloader.dataset)\n",
    "    num_batches = len(dataloader) # 1 Epoch에 데이터가 몇 개 들어가면 끝나는지 계산\n",
    "    test_loss, correct = 0,0\n",
    "    \n",
    "    with torch.no_grad(): # Manage Memory Storage\n",
    "        for X, y in dataloader:\n",
    "            X, y = X.to(device), y.to(device)\n",
    "            pred = model(X)\n",
    "            \n",
    "            # Compute Loss and Accuracy\n",
    "            test_loss += loss_fn(pred, y).item() #torch.Tensor -> Number\n",
    "            correct += (pred.argmax(1) == y).type(torch.float).sum().item()\n",
    "    \n",
    "    test_loss /= num_batches\n",
    "    correct /= size\n",
    "    print(f\"Test Error: \\n Accuracy: {(100*correct):>.1f}%, Avg loss: {test_loss:>8f} \\n\")"
   ]
  },
  {
   "cell_type": "code",
   "execution_count": 86,
   "id": "93747dcc",
   "metadata": {
    "scrolled": false
   },
   "outputs": [
    {
     "name": "stdout",
     "output_type": "stream",
     "text": [
      "Epoch 1\n",
      "-------------------------\n",
      "loss: 0.208075 [    0/60000]\n",
      "loss: 0.522267 [ 6400/60000]\n",
      "loss: 0.477658 [12800/60000]\n",
      "loss: 0.340571 [19200/60000]\n",
      "loss: 0.443841 [25600/60000]\n",
      "loss: 0.471327 [32000/60000]\n",
      "loss: 0.341373 [38400/60000]\n",
      "loss: 0.366165 [44800/60000]\n",
      "loss: 0.258053 [51200/60000]\n",
      "loss: 0.303908 [57600/60000]\n",
      "Test Error: \n",
      " Accuracy: 86.6%, Avg loss: 0.375338 \n",
      "\n",
      "Epoch 2\n",
      "-------------------------\n",
      "loss: 0.208176 [    0/60000]\n",
      "loss: 0.312245 [ 6400/60000]\n",
      "loss: 0.338942 [12800/60000]\n",
      "loss: 0.204900 [19200/60000]\n",
      "loss: 0.372523 [25600/60000]\n",
      "loss: 0.359961 [32000/60000]\n",
      "loss: 0.303556 [38400/60000]\n",
      "loss: 0.358196 [44800/60000]\n",
      "loss: 0.270435 [51200/60000]\n",
      "loss: 0.235100 [57600/60000]\n",
      "Test Error: \n",
      " Accuracy: 86.5%, Avg loss: 0.373178 \n",
      "\n",
      "Epoch 3\n",
      "-------------------------\n",
      "loss: 0.414332 [    0/60000]\n",
      "loss: 0.309765 [ 6400/60000]\n",
      "loss: 0.263286 [12800/60000]\n",
      "loss: 0.307403 [19200/60000]\n",
      "loss: 0.222675 [25600/60000]\n",
      "loss: 0.352674 [32000/60000]\n",
      "loss: 0.278204 [38400/60000]\n",
      "loss: 0.378306 [44800/60000]\n",
      "loss: 0.258778 [51200/60000]\n",
      "loss: 0.256138 [57600/60000]\n",
      "Test Error: \n",
      " Accuracy: 86.4%, Avg loss: 0.380963 \n",
      "\n",
      "Epoch 4\n",
      "-------------------------\n",
      "loss: 0.309804 [    0/60000]\n",
      "loss: 0.282401 [ 6400/60000]\n",
      "loss: 0.237317 [12800/60000]\n",
      "loss: 0.369514 [19200/60000]\n",
      "loss: 0.330440 [25600/60000]\n",
      "loss: 0.257646 [32000/60000]\n",
      "loss: 0.319158 [38400/60000]\n",
      "loss: 0.373043 [44800/60000]\n",
      "loss: 0.347411 [51200/60000]\n",
      "loss: 0.335377 [57600/60000]\n",
      "Test Error: \n",
      " Accuracy: 87.0%, Avg loss: 0.367749 \n",
      "\n",
      "Epoch 5\n",
      "-------------------------\n",
      "loss: 0.233799 [    0/60000]\n",
      "loss: 0.272469 [ 6400/60000]\n",
      "loss: 0.177552 [12800/60000]\n",
      "loss: 0.285867 [19200/60000]\n",
      "loss: 0.523662 [25600/60000]\n",
      "loss: 0.284894 [32000/60000]\n",
      "loss: 0.363596 [38400/60000]\n",
      "loss: 0.273678 [44800/60000]\n",
      "loss: 0.409407 [51200/60000]\n",
      "loss: 0.276622 [57600/60000]\n",
      "Test Error: \n",
      " Accuracy: 87.1%, Avg loss: 0.367621 \n",
      "\n",
      "Epoch 6\n",
      "-------------------------\n",
      "loss: 0.367601 [    0/60000]\n",
      "loss: 0.383367 [ 6400/60000]\n",
      "loss: 0.262041 [12800/60000]\n",
      "loss: 0.264060 [19200/60000]\n",
      "loss: 0.330477 [25600/60000]\n",
      "loss: 0.206246 [32000/60000]\n",
      "loss: 0.348928 [38400/60000]\n",
      "loss: 0.179684 [44800/60000]\n",
      "loss: 0.167398 [51200/60000]\n",
      "loss: 0.247165 [57600/60000]\n",
      "Test Error: \n",
      " Accuracy: 86.4%, Avg loss: 0.379922 \n",
      "\n",
      "Epoch 7\n",
      "-------------------------\n",
      "loss: 0.296498 [    0/60000]\n",
      "loss: 0.298648 [ 6400/60000]\n",
      "loss: 0.310377 [12800/60000]\n",
      "loss: 0.216738 [19200/60000]\n",
      "loss: 0.343964 [25600/60000]\n",
      "loss: 0.281080 [32000/60000]\n",
      "loss: 0.388467 [38400/60000]\n",
      "loss: 0.204407 [44800/60000]\n",
      "loss: 0.242563 [51200/60000]\n",
      "loss: 0.294757 [57600/60000]\n",
      "Test Error: \n",
      " Accuracy: 86.4%, Avg loss: 0.381310 \n",
      "\n",
      "Epoch 8\n",
      "-------------------------\n",
      "loss: 0.265788 [    0/60000]\n",
      "loss: 0.386786 [ 6400/60000]\n",
      "loss: 0.296428 [12800/60000]\n",
      "loss: 0.268119 [19200/60000]\n",
      "loss: 0.208828 [25600/60000]\n",
      "loss: 0.155857 [32000/60000]\n",
      "loss: 0.282082 [38400/60000]\n",
      "loss: 0.172062 [44800/60000]\n",
      "loss: 0.228822 [51200/60000]\n",
      "loss: 0.226069 [57600/60000]\n",
      "Test Error: \n",
      " Accuracy: 87.4%, Avg loss: 0.356125 \n",
      "\n",
      "Epoch 9\n",
      "-------------------------\n",
      "loss: 0.226592 [    0/60000]\n",
      "loss: 0.282721 [ 6400/60000]\n",
      "loss: 0.329017 [12800/60000]\n",
      "loss: 0.173447 [19200/60000]\n",
      "loss: 0.133374 [25600/60000]\n",
      "loss: 0.233853 [32000/60000]\n",
      "loss: 0.075733 [38400/60000]\n",
      "loss: 0.183977 [44800/60000]\n",
      "loss: 0.199871 [51200/60000]\n",
      "loss: 0.203287 [57600/60000]\n",
      "Test Error: \n",
      " Accuracy: 87.2%, Avg loss: 0.367673 \n",
      "\n",
      "Epoch 10\n",
      "-------------------------\n",
      "loss: 0.345005 [    0/60000]\n",
      "loss: 0.379917 [ 6400/60000]\n",
      "loss: 0.275216 [12800/60000]\n",
      "loss: 0.280530 [19200/60000]\n",
      "loss: 0.304664 [25600/60000]\n",
      "loss: 0.352523 [32000/60000]\n",
      "loss: 0.333440 [38400/60000]\n",
      "loss: 0.247179 [44800/60000]\n",
      "loss: 0.255660 [51200/60000]\n",
      "loss: 0.209171 [57600/60000]\n",
      "Test Error: \n",
      " Accuracy: 87.7%, Avg loss: 0.351755 \n",
      "\n",
      "Done!\n"
     ]
    }
   ],
   "source": [
    "epochs = 10\n",
    "for t in range(epochs):\n",
    "    print(f\"Epoch {t+1}\\n-------------------------\")\n",
    "    train_loop(train_dataloader, model, loss_fn, optimizer)\n",
    "    test_loop(test_dataloader, model, loss_fn)\n",
    "print(\"Done!\")"
   ]
  },
  {
   "cell_type": "markdown",
   "id": "cde11b08",
   "metadata": {},
   "source": [
    "# Save Model and Load\n",
    "## Save only parameters and Load"
   ]
  },
  {
   "cell_type": "code",
   "execution_count": 88,
   "id": "9e873cef",
   "metadata": {},
   "outputs": [],
   "source": [
    "torch.save(model.state_dict(), 'model_weights.pth') # state_dict 형식으로 저장된 weight and bias를 내보냄"
   ]
  },
  {
   "cell_type": "code",
   "execution_count": 89,
   "id": "121ba1ef",
   "metadata": {},
   "outputs": [
    {
     "name": "stdout",
     "output_type": "stream",
     "text": [
      "NeuralNetwork(\n",
      "  (flatten): Flatten(start_dim=1, end_dim=-1)\n",
      "  (linear_relu_stack): Sequential(\n",
      "    (0): Linear(in_features=784, out_features=128, bias=True)\n",
      "    (1): ReLU()\n",
      "    (2): Dropout(p=0.2, inplace=False)\n",
      "    (3): Linear(in_features=128, out_features=10, bias=True)\n",
      "  )\n",
      ")\n"
     ]
    }
   ],
   "source": [
    "model2 = NeuralNetwork(). to(device)\n",
    "print(model2)"
   ]
  },
  {
   "cell_type": "code",
   "execution_count": 90,
   "id": "0a3538ce",
   "metadata": {},
   "outputs": [
    {
     "name": "stdout",
     "output_type": "stream",
     "text": [
      "Test Error: \n",
      " Accuracy: 9.8%, Avg loss: 2.319558 \n",
      "\n"
     ]
    }
   ],
   "source": [
    "model2.eval() # .eval(): training을 하는 상태가 아님을 알려줌; inferenc할 때 사용\n",
    "test_loop(test_dataloader, model2, loss_fn)"
   ]
  },
  {
   "cell_type": "code",
   "execution_count": 91,
   "id": "0d308554",
   "metadata": {},
   "outputs": [
    {
     "data": {
      "text/plain": [
       "<All keys matched successfully>"
      ]
     },
     "execution_count": 91,
     "metadata": {},
     "output_type": "execute_result"
    }
   ],
   "source": [
    "# Load Parameter\n",
    "model2.load_state_dict(torch.load('model_weights.pth'))"
   ]
  },
  {
   "cell_type": "code",
   "execution_count": 92,
   "id": "cef7c61c",
   "metadata": {},
   "outputs": [
    {
     "name": "stdout",
     "output_type": "stream",
     "text": [
      "Test Error: \n",
      " Accuracy: 88.7%, Avg loss: 0.327106 \n",
      "\n"
     ]
    }
   ],
   "source": [
    "# Test\n",
    "model2.eval()\n",
    "test_loop(test_dataloader, model2, loss_fn)"
   ]
  },
  {
   "cell_type": "markdown",
   "id": "7d080094",
   "metadata": {},
   "source": [
    "## Save Whole Model Information"
   ]
  },
  {
   "cell_type": "code",
   "execution_count": 93,
   "id": "57774b47",
   "metadata": {},
   "outputs": [],
   "source": [
    "# Save\n",
    "torch.save(model, 'model.pth')"
   ]
  },
  {
   "cell_type": "code",
   "execution_count": 94,
   "id": "cd200e4d",
   "metadata": {},
   "outputs": [],
   "source": [
    "# Load\n",
    "model3 = torch.load('model.pth')"
   ]
  },
  {
   "cell_type": "code",
   "execution_count": 95,
   "id": "737abde9",
   "metadata": {},
   "outputs": [
    {
     "name": "stdout",
     "output_type": "stream",
     "text": [
      "Test Error: \n",
      " Accuracy: 88.7%, Avg loss: 0.327106 \n",
      "\n"
     ]
    }
   ],
   "source": [
    "# Test\n",
    "model3.eval()\n",
    "test_loop(test_dataloader, model3, loss_fn)"
   ]
  }
 ],
 "metadata": {
  "kernelspec": {
   "display_name": "Python 3 (ipykernel)",
   "language": "python",
   "name": "python3"
  },
  "language_info": {
   "codemirror_mode": {
    "name": "ipython",
    "version": 3
   },
   "file_extension": ".py",
   "mimetype": "text/x-python",
   "name": "python",
   "nbconvert_exporter": "python",
   "pygments_lexer": "ipython3",
   "version": "3.9.15"
  }
 },
 "nbformat": 4,
 "nbformat_minor": 5
}
