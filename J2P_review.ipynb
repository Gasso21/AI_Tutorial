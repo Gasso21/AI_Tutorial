{
 "cells": [
  {
   "cell_type": "markdown",
   "id": "f43d7417",
   "metadata": {},
   "source": [
    "# String Type"
   ]
  },
  {
   "cell_type": "code",
   "execution_count": 7,
   "id": "a8404fbd",
   "metadata": {},
   "outputs": [
    {
     "name": "stdout",
     "output_type": "stream",
     "text": [
      "Python's favorite food is perl. Python's favorite food is perl.\n",
      "\"Python is very easy.\" he says.\n"
     ]
    }
   ],
   "source": [
    "# 문자열에 작은 따옴표(')추가\n",
    "food1 = \"Python's favorite food is perl.\"\n",
    "food2 = 'Python\\'s favorite food is perl.'\n",
    "print(food1, food2, end = '\\n')\n",
    "\n",
    "# 문자열에 큰 따옴표(\")추가\n",
    "say = '\"Python is very easy.\" he says.'\n",
    "print(say)"
   ]
  },
  {
   "cell_type": "code",
   "execution_count": 10,
   "id": "b387b54f",
   "metadata": {},
   "outputs": [
    {
     "name": "stdout",
     "output_type": "stream",
     "text": [
      "python\n"
     ]
    }
   ],
   "source": [
    "# 문자열 변경\n",
    "\"\"\"\n",
    "a = \"pithon\"\n",
    "a[1] = 'y'\n",
    "print(a)\n",
    "\"\"\"\n",
    "a = \"pithon\"\n",
    "a = a[:1] + 'y' + a[2:]\n",
    "print(a)"
   ]
  },
  {
   "cell_type": "code",
   "execution_count": 27,
   "id": "c3653816",
   "metadata": {},
   "outputs": [
    {
     "name": "stdout",
     "output_type": "stream",
     "text": [
      "Error is 98%.\n",
      "        hi\n",
      "hi        jane\n",
      "I ate 10 apples. so I was sick for 3 days.\n",
      "hi        \n",
      "        hi\n",
      "====hi====\n",
      "hi!!!!!!!!\n",
      "3.4213\n",
      "    3.4213\n"
     ]
    }
   ],
   "source": [
    "# 문자열 포맷 코드\n",
    "\"\"\"\n",
    "%s - 문자열(String)\n",
    "$c - 문자 1개(Character)\n",
    "%d - 정수(Integer)\n",
    "%f - 부동소수(Floating-point)\n",
    "%o - 8진수\n",
    "%x - 16진수\n",
    "%% - Literal % (문자 % 자체)\n",
    "\"\"\"\n",
    "\n",
    "# 포매팅 연산자 %d와 %를 같이 쓸 때는 %% 사용\n",
    "print(\"Error is %d%%.\" %98)\n",
    "\n",
    "# 정렬과 공백\n",
    "print(\"%10s\" %\"hi\") #전체 길이가 10개인 문자열 공간에서 대입되는 값을 오른쪽으로 정렬\n",
    "print(\"%-10sjane\" %\"hi\") #왼쪽 정렬\n",
    "\n",
    "# 이름으로 넣기\n",
    "print(\"I ate {number} apples. so I was sick for {day} days.\" .format(day=3, number=10))\n",
    "#{name}형태로 사용할 경우 format 함수에는 반드시 name=value와 같은 형태의 입력값이 었어야만 함\n",
    "\n",
    "# 왼쪽 정렬\n",
    "print(\"{0:<10}\" .format(\"hi\")) #:<10 표현식을 사용하면 치환되는 문자열을 왼쪽으로 정렬하고 문자열의 총 자릿수를 10으로 맞춤\n",
    "\n",
    "# 오른쪽 정렬\n",
    "print(\"{0:>10}\" .format(\"hi\"))\n",
    "\n",
    "# 공백 채우기\n",
    "\"\"\"\n",
    "정렬할 때 공백 문자 대신에 지정한 문자 값으로 채워 넣는 것도 가능\n",
    "채워 넣을 문자 값은 정렬 문자 <,^,> 바로 앞에 넣어야 함\n",
    "\"\"\"\n",
    "print(\"{0:=^10}\" .format(\"hi\"))\n",
    "print(\"{0:!<10}\" .format(\"hi\"))\n",
    "\n",
    "# 소수점 표현\n",
    "y = 3.42134234\n",
    "print(\"{0:0.4f}\" .format(y))\n",
    "print(\"{0:10.4f}\" .format(y))"
   ]
  },
  {
   "cell_type": "code",
   "execution_count": 30,
   "id": "4c408acd",
   "metadata": {},
   "outputs": [
    {
     "name": "stdout",
     "output_type": "stream",
     "text": [
      "나의 이름은 홍길동입니다. 나이는 30입니다.\n",
      "나는 내년이면 31살이 된다.\n",
      "나의 이름은 홍길동입니다. 나이는 30입니다.\n",
      "hi        \n",
      "    hi    \n",
      "        hi\n",
      "====hi====\n",
      "hi!!!!!!!!\n",
      "3.1416\n",
      "    3.1416\n",
      "{name}\n"
     ]
    }
   ],
   "source": [
    "#f 문자열 포매팅\n",
    "name = '홍길동'\n",
    "age = 30\n",
    "print(f'나의 이름은 {name}입니다. 나이는 {age}입니다.')\n",
    "\n",
    "#표현식(+, -와 같은 수식을 함께 사용하는 것)을 지원\n",
    "age = 30\n",
    "print(f'나는 내년이면 {age+1}살이 된다.')\n",
    "\n",
    "#딕셔너리 사용\n",
    "d = {'name':'홍길동', 'age':30}\n",
    "print(f'나의 이름은 {d[\"name\"]}입니다. 나이는 {d[\"age\"]}입니다.')\n",
    "\n",
    "#정렬\n",
    "print(f'{\"hi\":<10}')\n",
    "print(f'{\"hi\":^10}')\n",
    "print(f'{\"hi\":>10}')\n",
    "\n",
    "#공백채우기\n",
    "print(f'{\"hi\":=^10}')\n",
    "print(f'{\"hi\":!<10}')\n",
    "\n",
    "#소수점\n",
    "y = 3.141592\n",
    "print(f'{y:0.4f}')\n",
    "print(f'{y:10.4f}')\n",
    "\n",
    "print(f'{{name}}')"
   ]
  },
  {
   "cell_type": "code",
   "execution_count": 70,
   "id": "52faebdb",
   "metadata": {},
   "outputs": [
    {
     "name": "stdout",
     "output_type": "stream",
     "text": [
      "Python is the best choice.\n",
      ".count('i'): 2\n",
      ".find('b'): 14\n",
      ".find('k'): -1\n",
      ".index('b') 14\n",
      "\".join(a)\" P,y,t,h,o,n, ,i,s, ,t,h,e, ,b,e,s,t, ,c,h,o,i,c,e,.\n",
      ".replace(old,new): Korean is the best choice.\n",
      ".split() ['Python', 'is', 'the', 'best', 'choice.']\n",
      ".split(' ') ['Python', 'is', 'the', 'best', 'choice.']\n",
      "a,b,c,d\n",
      ".upper(): PYTHON IS THE BEST CHOICE.\n",
      ".lower(): python is the best choice.\n",
      "----hi----\n",
      ".lstrip('-'): hi----\n",
      ".rstrip('-'): ----hi\n",
      ".strip('-'): hi\n"
     ]
    }
   ],
   "source": [
    "# Function\n",
    "a = \"Python is the best choice.\"\n",
    "print(a)\n",
    "print(\".count('i'):\",a.count('i'))\n",
    "print(\".find('b'):\", a.find('b')) #'b'가 처음으로 나온 위치를 반환\n",
    "print(\".find('k'):\", a.find('k')) #찾는 문자나 문자열이 존재하지 않는다면 -1을 반환\n",
    "print(\".index('b')\", a.index('b')) #'b'가 처음으로 나온 위치를 반환\n",
    "#print(a.index('b')) #찾는 문자나 문자열이 존재하지 않는다면 오류를 발생\n",
    "print('\".join(a)\"', \",\".join(a)) #문자열의 각각의 문자 사이에 ','을 삽입\n",
    "print(\".replace(old,new):\", a.replace(\"Python\",\"Korean\"))\n",
    "print(\".split()\", a.split())\n",
    "print(\".split(' ')\", a.split(' '))\n",
    "\"\"\"\n",
    "join 함수는 문자열뿐만 아니라 앞으로 배울 리스트나 튜플도 입력으로 사용할 수 있음\n",
    "\"\"\"\n",
    "print(\",\".join(['a','b','c','d'])) #join 함수의 입력으로 리스트를 사용\n",
    "print(\".upper():\", a.upper())\n",
    "print(\".lower():\", a.lower())\n",
    "\n",
    "a = \"----hi----\"\n",
    "print(a)\n",
    "print(\".lstrip('-'):\", a.lstrip('-')) #왼쪽 공백 지우기(lstrip)\n",
    "print(\".rstrip('-'):\", a.rstrip('-')) #오른쪽 공백 지우기(rstrip)\n",
    "print(\".strip('-'):\", a.strip('-')) #양쪽 공백 지우기(strip)"
   ]
  },
  {
   "cell_type": "markdown",
   "id": "10376177",
   "metadata": {},
   "source": [
    "# List Type"
   ]
  },
  {
   "cell_type": "code",
   "execution_count": 4,
   "id": "04b69711",
   "metadata": {},
   "outputs": [
    {
     "name": "stdout",
     "output_type": "stream",
     "text": [
      "[1, 2, 3]\n",
      "[1]\n",
      "[1, 2, 4, 5] ['a', 'c', 'd', 'v']\n",
      "['b', 'c', 'a']\n",
      "2\n",
      "0\n"
     ]
    }
   ],
   "source": [
    "# 리스트 삭제\n",
    "a = [1, 2, 3]\n",
    "print(a)\n",
    "del a[1:]\n",
    "print(a)\n",
    "\n",
    "# 오름차순 정렬\n",
    "b = [1, 4, 5, 2]\n",
    "c = ['a', 'v', 'c', 'd']\n",
    "b.sort()\n",
    "c.sort()\n",
    "print(b,c, end = \"\\n\")\n",
    "\n",
    "# 리스트 뒤집기\n",
    "d = ['a', 'c', 'b']\n",
    "d.reverse()\n",
    "print(d)\n",
    "\n",
    "# 위치 반환(index)\n",
    "a = [1, 2, 3]\n",
    "print(a.index(3))\n",
    "print(a.index(1))\n",
    "#print(a.index(4)): 리스트에 존재하지 않으면 ValueError 발생"
   ]
  },
  {
   "cell_type": "code",
   "execution_count": 8,
   "id": "44e963e8",
   "metadata": {},
   "outputs": [
    {
     "name": "stdout",
     "output_type": "stream",
     "text": [
      "[4, 1, 2, 3]\n",
      "[4, 1, 2, 5, 3]\n",
      "[1, 2, 1, 2, 3]\n",
      "[1, 2, 1, 2]\n"
     ]
    }
   ],
   "source": [
    "# 리스트에 요소 삽입\n",
    "a = [1, 2, 3]\n",
    "a.insert(0, 4)\n",
    "print(a)\n",
    "\n",
    "a. insert(3,5)\n",
    "print(a)\n",
    "\n",
    "#리스트 요소 제거(remove)\n",
    "a = [1, 2, 3, 1, 2, 3]\n",
    "a.remove(3) #리스트에서 첫 번째로 나오는 x를 삭제하는 함수\n",
    "print(a)\n",
    "a.remove(3)\n",
    "print(a)"
   ]
  },
  {
   "cell_type": "code",
   "execution_count": 9,
   "id": "17fd96b1",
   "metadata": {},
   "outputs": [
    {
     "name": "stdout",
     "output_type": "stream",
     "text": [
      "[1, 2, 1, 2, 3]\n",
      "[1, 2, 1, 2]\n"
     ]
    }
   ],
   "source": [
    "#리스트 요소 제거(remove)\n",
    "a = [1, 2, 3, 1, 2, 3]\n",
    "a.remove(3) #리스트에서 첫 번째로 나오는 x를 삭제하는 함수\n",
    "print(a)\n",
    "a.remove(3)\n",
    "print(a)"
   ]
  },
  {
   "cell_type": "code",
   "execution_count": 11,
   "id": "62d022fd",
   "metadata": {},
   "outputs": [
    {
     "name": "stdout",
     "output_type": "stream",
     "text": [
      "3\n",
      "[1, 2]\n",
      "2\n",
      "[1, 3]\n"
     ]
    }
   ],
   "source": [
    "#리스트 요소 끄집어내기(pop)\n",
    "a = [1, 2, 3]\n",
    "print(a.pop()) #리스트의 맨 마지막 요소를 돌려주고 그 요소는 삭제\n",
    "print(a)\n",
    "\n",
    "a = [1, 2, 3]\n",
    "print(a.pop(1)) #리스트의 x번째 요소를 돌려주고 그 요소는 삭제\n",
    "print(a)"
   ]
  },
  {
   "cell_type": "code",
   "execution_count": 13,
   "id": "bd47480e",
   "metadata": {},
   "outputs": [
    {
     "name": "stdout",
     "output_type": "stream",
     "text": [
      "[1, 2, 3, 4, 5]\n",
      "[1, 2, 3, 4, 5, 6, 7]\n",
      "[1, 2, 3, 4, 5]\n"
     ]
    }
   ],
   "source": [
    "#리스트 확장(extend)\n",
    "a = [1, 2, 3]\n",
    "a.extend([4, 5]) #x에는 리스트만 올 수 있음\n",
    "print(a)\n",
    "b = [6, 7]\n",
    "a.extend(b)\n",
    "print(a)\n",
    "\n",
    "a = [1, 2, 3]\n",
    "a += [4, 5]\n",
    "print(a)"
   ]
  },
  {
   "cell_type": "markdown",
   "id": "6d855222",
   "metadata": {},
   "source": [
    "# Tuple Type\n",
    "- **tuple vs list**\n",
    "    - **list**: 항목 값의 변화가 가능\n",
    "    - **tuple**: 항목 값의 변화가 불가\n",
    "- 프로그램이 실행되는 동안 그 값이 항상 변하지 않기를 바라거나 값이 바뀔까 걱정하고 싶지않다면 튜플을 사용"
   ]
  },
  {
   "cell_type": "code",
   "execution_count": 14,
   "id": "8870bc12",
   "metadata": {},
   "outputs": [
    {
     "ename": "TypeError",
     "evalue": "'tuple' object doesn't support item deletion",
     "output_type": "error",
     "traceback": [
      "\u001b[0;31m---------------------------------------------------------------------------\u001b[0m",
      "\u001b[0;31mTypeError\u001b[0m                                 Traceback (most recent call last)",
      "Input \u001b[0;32mIn [14]\u001b[0m, in \u001b[0;36m<cell line: 2>\u001b[0;34m()\u001b[0m\n\u001b[1;32m      1\u001b[0m t1 \u001b[38;5;241m=\u001b[39m (\u001b[38;5;241m1\u001b[39m, \u001b[38;5;241m2\u001b[39m, \u001b[38;5;124m'\u001b[39m\u001b[38;5;124ma\u001b[39m\u001b[38;5;124m'\u001b[39m, \u001b[38;5;124m'\u001b[39m\u001b[38;5;124mb\u001b[39m\u001b[38;5;124m'\u001b[39m)\n\u001b[0;32m----> 2\u001b[0m \u001b[38;5;28;01mdel\u001b[39;00m t1[\u001b[38;5;241m0\u001b[39m]\n",
      "\u001b[0;31mTypeError\u001b[0m: 'tuple' object doesn't support item deletion"
     ]
    }
   ],
   "source": [
    "t1 = (1, 2, 'a', 'b')\n",
    "del t1[0]"
   ]
  },
  {
   "cell_type": "code",
   "execution_count": 15,
   "id": "b188bbbf",
   "metadata": {},
   "outputs": [
    {
     "ename": "TypeError",
     "evalue": "'tuple' object does not support item assignment",
     "output_type": "error",
     "traceback": [
      "\u001b[0;31m---------------------------------------------------------------------------\u001b[0m",
      "\u001b[0;31mTypeError\u001b[0m                                 Traceback (most recent call last)",
      "Input \u001b[0;32mIn [15]\u001b[0m, in \u001b[0;36m<cell line: 2>\u001b[0;34m()\u001b[0m\n\u001b[1;32m      1\u001b[0m t2 \u001b[38;5;241m=\u001b[39m (\u001b[38;5;241m1\u001b[39m, \u001b[38;5;241m2\u001b[39m, \u001b[38;5;124m'\u001b[39m\u001b[38;5;124ma\u001b[39m\u001b[38;5;124m'\u001b[39m, \u001b[38;5;124m'\u001b[39m\u001b[38;5;124mb\u001b[39m\u001b[38;5;124m'\u001b[39m)\n\u001b[0;32m----> 2\u001b[0m t1[\u001b[38;5;241m0\u001b[39m] \u001b[38;5;241m=\u001b[39m \u001b[38;5;124m'\u001b[39m\u001b[38;5;124mc\u001b[39m\u001b[38;5;124m'\u001b[39m\n",
      "\u001b[0;31mTypeError\u001b[0m: 'tuple' object does not support item assignment"
     ]
    }
   ],
   "source": [
    "t2 = (1, 2, 'a', 'b')\n",
    "t1[0] = 'c'"
   ]
  },
  {
   "cell_type": "markdown",
   "id": "e1f17b33",
   "metadata": {},
   "source": [
    "# Dictionary Type"
   ]
  },
  {
   "cell_type": "code",
   "execution_count": 24,
   "id": "20819ae4",
   "metadata": {},
   "outputs": [
    {
     "name": "stdout",
     "output_type": "stream",
     "text": [
      "{}\n",
      "dict_keys(['name', 'phone', 'birth'])\n",
      "['name', 'phone', 'birth']\n",
      "name\n",
      "phone\n",
      "birth\n",
      "dict_items([('name', 'pey'), ('phone', '0119993323'), ('birth', '1118')])\n",
      "None\n",
      "{}\n",
      "pey\n"
     ]
    }
   ],
   "source": [
    "a = {1:'a'}\n",
    "del a[1]\n",
    "print(a)\n",
    "\n",
    "a = {'name': 'pey', 'phone': '0119993323', 'birth': '1118'}\n",
    "# Key 얻기\n",
    "print(a.keys()) # 메모리 낭비를 줄이기 위해 dict_keys 객체 반환\n",
    "print(list(a.keys()))\n",
    "\n",
    "for k in a.keys():\n",
    "    print(k) # 리스트를 사용하는 것과 차이가 없지만, 리스트 고유의 append, insert, pop, remove, sort 함수 등은 사용불가\n",
    "\n",
    "# Key, Value 쌍 얻기\n",
    "print(a.items())\n",
    "\n",
    "# Key, Value 지우기\n",
    "print(a.clear())\n",
    "print(a)\n",
    "\n",
    "# Key로 Value 얻기(get)\n",
    "a = {'name':'pey', 'phone':'0119993323', 'birth': '1118'}\n",
    "print(a.get('name'))"
   ]
  },
  {
   "cell_type": "code",
   "execution_count": 25,
   "id": "dda74b96",
   "metadata": {},
   "outputs": [
    {
     "name": "stdout",
     "output_type": "stream",
     "text": [
      "None\n",
      "bar\n",
      "True\n",
      "False\n"
     ]
    }
   ],
   "source": [
    "#인덱스로 가져오는 것과 get함수의 차이\n",
    "a = {'name':'pey', 'phone':'0119993323', 'birth': '1118'}\n",
    "print(a.get('nokey'))\n",
    "#print(a['nokey']) #KeyError: 'nokey'오류 발생\n",
    "\n",
    "\"\"\"\n",
    "딕셔너리 안에 찾으려는 Key 값이 없을 경우 미리 정해 둔 디폴트 값을 대신 가져오게 하고 싶을 때에는 get(x, '디폴트 값')을 사용하면 편리\n",
    "\"\"\"\n",
    "print(a.get('foo', 'bar'))\n",
    "\n",
    "#해당 Key가 딕셔너리 안에 있는지 조사하기(in)\n",
    "a = {'name':'pey', 'phone':'0119993323', 'birth': '1118'}\n",
    "print('name' in a)\n",
    "print('email' in a)"
   ]
  },
  {
   "cell_type": "markdown",
   "id": "017ae6cd",
   "metadata": {},
   "source": [
    "# Set Type"
   ]
  },
  {
   "cell_type": "code",
   "execution_count": 27,
   "id": "f26a1846",
   "metadata": {},
   "outputs": [
    {
     "name": "stdout",
     "output_type": "stream",
     "text": [
      "[1, 2, 3]\n",
      "1\n",
      "(1, 2, 3)\n",
      "1\n"
     ]
    }
   ],
   "source": [
    "s1 = set([1, 2, 3])\n",
    "l1 = list(s1) #set 자료형에 저장된 값을 인덱싱으로 접근하려면 리스트나 튜플로 변환 후 해야 함\n",
    "print(l1)\n",
    "print(l1[0])\n",
    "\n",
    "t1 = tuple(s1)\n",
    "print(t1)\n",
    "print(t1[0])"
   ]
  },
  {
   "cell_type": "code",
   "execution_count": 28,
   "id": "fd5144f9",
   "metadata": {},
   "outputs": [
    {
     "name": "stdout",
     "output_type": "stream",
     "text": [
      "{4, 5, 6}\n",
      "{4, 5, 6}\n",
      "{1, 2, 3, 4, 5, 6, 7, 8, 9}\n",
      "{1, 2, 3, 4, 5, 6, 7, 8, 9}\n",
      "{1, 2, 3}\n",
      "{8, 9, 7}\n"
     ]
    }
   ],
   "source": [
    "#교집합, 합집합, 차집합\n",
    "s1 = set([1, 2, 3, 4, 5, 6])\n",
    "s2 = set([4, 5, 6, 7, 8, 9])\n",
    "\n",
    "#교집합\n",
    "print(s1&s2)\n",
    "print(s1.intersection(s2))\n",
    "\n",
    "#합집합\n",
    "print(s1|s2)\n",
    "print(s1.union(s2))\n",
    "\n",
    "#차집합\n",
    "print(s1.difference(s2))\n",
    "print(s2.difference(s1))"
   ]
  },
  {
   "cell_type": "markdown",
   "id": "ed1a6c7c",
   "metadata": {},
   "source": [
    "# Boolean Type"
   ]
  },
  {
   "cell_type": "code",
   "execution_count": 30,
   "id": "89ae3d41",
   "metadata": {},
   "outputs": [
    {
     "name": "stdout",
     "output_type": "stream",
     "text": [
      "4\n",
      "3\n",
      "2\n",
      "1\n",
      "거짓\n",
      "참\n",
      "True\n",
      "False\n"
     ]
    }
   ],
   "source": [
    "a = [1, 2, 3, 4]\n",
    "while a:\n",
    "    print(a.pop())\n",
    "\n",
    "if []:\n",
    "    print(\"참\")\n",
    "else:\n",
    "    print(\"거짓\")\n",
    "\n",
    "if [1, 2, 3]:\n",
    "    print(\"참\")\n",
    "else:\n",
    "    print(\"거짓\")\n",
    "\n",
    "print(bool('python'))\n",
    "print(bool(''))"
   ]
  },
  {
   "cell_type": "markdown",
   "id": "e59c1102",
   "metadata": {},
   "source": [
    "# Copy"
   ]
  },
  {
   "cell_type": "code",
   "execution_count": 31,
   "id": "fe2de7be",
   "metadata": {},
   "outputs": [
    {
     "name": "stdout",
     "output_type": "stream",
     "text": [
      "[1, 4, 3] 4411803520\n",
      "[1, 2, 3] 4411994432\n",
      "[1, 2, 3] 4411801920\n",
      "[1, 2, 3] 4411447616\n",
      "[1, 2, 3] 4411803520\n",
      "[1, 2, 3] 4411574912\n",
      "5\n",
      "3\n"
     ]
    }
   ],
   "source": [
    "# 1. [:] 이용 - 리스트 전체를 가리키는 [:]을 사용해서 복사\n",
    "a = [1, 2, 3]\n",
    "b = a[:]\n",
    "a[1] = 4 #a 리스트 값을 바꾸더라도 b 리스트에는 영향을 끼치치 않음\n",
    "print(a, id(a))\n",
    "print(b, id(b))\n",
    "\n",
    "# 2. copy 모듈 이용\n",
    "from copy import copy\n",
    "a = [1, 2, 3]\n",
    "b = copy(a)\n",
    "print(a, id(a))\n",
    "print(b, id(b))\n",
    "\n",
    "# 3. copy 함수 이용\n",
    "a = [1, 2, 3]\n",
    "b = a.copy()\n",
    "print(a, id(a))\n",
    "print(b, id(b))\n",
    "\n",
    "#변수를 만드는 여러가지 방법\n",
    "a, b = ('python', 'life')\n",
    "(a, b) = 'python', 'life'\n",
    "[a, b] = ['python', 'life']\n",
    "a = b = 'python'\n",
    "\n",
    "#변수 바꾸기\n",
    "a = 3\n",
    "b = 5\n",
    "a, b = b, a\n",
    "print(a)\n",
    "print(b)"
   ]
  },
  {
   "cell_type": "code",
   "execution_count": null,
   "id": "90a9326f",
   "metadata": {},
   "outputs": [],
   "source": []
  }
 ],
 "metadata": {
  "kernelspec": {
   "display_name": "Python 3 (ipykernel)",
   "language": "python",
   "name": "python3"
  },
  "language_info": {
   "codemirror_mode": {
    "name": "ipython",
    "version": 3
   },
   "file_extension": ".py",
   "mimetype": "text/x-python",
   "name": "python",
   "nbconvert_exporter": "python",
   "pygments_lexer": "ipython3",
   "version": "3.9.12"
  }
 },
 "nbformat": 4,
 "nbformat_minor": 5
}
