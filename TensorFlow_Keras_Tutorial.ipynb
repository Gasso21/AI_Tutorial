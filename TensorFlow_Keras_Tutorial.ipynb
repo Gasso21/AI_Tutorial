{
 "cells": [
  {
   "cell_type": "markdown",
   "id": "b19dff30",
   "metadata": {},
   "source": [
    "# Tensorflow & Keras"
   ]
  },
  {
   "cell_type": "code",
   "execution_count": 1,
   "id": "b0260a75",
   "metadata": {},
   "outputs": [],
   "source": [
    "import tensorflow as tf\n",
    "from tensorflow import keras"
   ]
  },
  {
   "cell_type": "code",
   "execution_count": 2,
   "id": "82fb10f0",
   "metadata": {},
   "outputs": [
    {
     "name": "stdout",
     "output_type": "stream",
     "text": [
      "2.8.0\n",
      "2.8.0\n",
      "[PhysicalDevice(name='/physical_device:GPU:0', device_type='GPU')]\n"
     ]
    }
   ],
   "source": [
    "print(tf.__version__)\n",
    "print(keras.__version__)\n",
    "print(tf.config.list_physical_devices('GPU'))"
   ]
  },
  {
   "cell_type": "code",
   "execution_count": 3,
   "id": "25a9e608",
   "metadata": {},
   "outputs": [],
   "source": [
    "import numpy as np\n",
    "import matplotlib.pyplot as plt"
   ]
  },
  {
   "cell_type": "code",
   "execution_count": 4,
   "id": "74bd1443",
   "metadata": {},
   "outputs": [],
   "source": [
    "mnist = keras.datasets.mnist\n",
    "(x_train, y_train), (x_test, y_test) = mnist.load_data()\n",
    "#Scaling; 0~1 사이값으로 만들어줌\n",
    "x_train, x_test = x_train/255, x_test/255"
   ]
  },
  {
   "cell_type": "code",
   "execution_count": 9,
   "id": "9d31c4bb",
   "metadata": {},
   "outputs": [],
   "source": [
    "model = tf.keras.models.Sequential([\n",
    "    tf.keras.layers.Flatten(input_shape=(28,28)),\n",
    "    tf.keras.layers.Dense(128, activation='relu'),\n",
    "    tf.keras.layers.Dropout(0.2),\n",
    "    tf.keras.layers.Dense(10, activation='softmax')\n",
    "])\n",
    "\n",
    "model.compile(optimizer='adam',\n",
    "              loss='sparse_categorical_crossentropy',\n",
    "              metrics=['accuracy']\n",
    "             )"
   ]
  },
  {
   "cell_type": "code",
   "execution_count": 11,
   "id": "1267eae5",
   "metadata": {},
   "outputs": [
    {
     "name": "stdout",
     "output_type": "stream",
     "text": [
      "Epoch 1/10\n",
      "1875/1875 [==============================] - 7s 4ms/step - loss: 0.0366 - accuracy: 0.9877\n",
      "Epoch 2/10\n",
      "1875/1875 [==============================] - 7s 4ms/step - loss: 0.0338 - accuracy: 0.9889\n",
      "Epoch 3/10\n",
      "1875/1875 [==============================] - 7s 4ms/step - loss: 0.0302 - accuracy: 0.9896\n",
      "Epoch 4/10\n",
      "1875/1875 [==============================] - 7s 4ms/step - loss: 0.0298 - accuracy: 0.9901\n",
      "Epoch 5/10\n",
      "1875/1875 [==============================] - 7s 4ms/step - loss: 0.0289 - accuracy: 0.9902\n",
      "Epoch 6/10\n",
      "1875/1875 [==============================] - 7s 4ms/step - loss: 0.0265 - accuracy: 0.9910\n",
      "Epoch 7/10\n",
      "1875/1875 [==============================] - 7s 4ms/step - loss: 0.0265 - accuracy: 0.9908\n",
      "Epoch 8/10\n",
      "1875/1875 [==============================] - 7s 4ms/step - loss: 0.0231 - accuracy: 0.9923\n",
      "Epoch 9/10\n",
      "1875/1875 [==============================] - 7s 4ms/step - loss: 0.0226 - accuracy: 0.9918\n",
      "Epoch 10/10\n",
      "1875/1875 [==============================] - 7s 4ms/step - loss: 0.0214 - accuracy: 0.9925\n",
      "313/313 [==============================] - 1s 4ms/step - loss: 0.0791 - accuracy: 0.9819\n"
     ]
    },
    {
     "data": {
      "text/plain": [
       "[0.07909516990184784, 0.9819000363349915]"
      ]
     },
     "execution_count": 11,
     "metadata": {},
     "output_type": "execute_result"
    }
   ],
   "source": [
    "model.fit(x_train, y_train, epochs=10)\n",
    "model.evaluate(x_test, y_test)"
   ]
  },
  {
   "cell_type": "code",
   "execution_count": 132,
   "id": "05806a72",
   "metadata": {},
   "outputs": [],
   "source": [
    "idx = np.random.randint(len(x_train))\n",
    "image = x_train[idx]"
   ]
  },
  {
   "cell_type": "code",
   "execution_count": 133,
   "id": "01b44ee0",
   "metadata": {},
   "outputs": [
    {
     "data": {
      "image/png": "[encoded data removed]",
      "text/plain": [
       "<Figure size 300x300 with 1 Axes>"
      ]
     },
     "metadata": {},
     "output_type": "display_data"
    }
   ],
   "source": [
    "plt.figure(figsize=(3,3))\n",
    "plt.imshow(image,cmap='gray')\n",
    "plt.title(y_train[idx])\n",
    "plt.show()"
   ]
  },
  {
   "cell_type": "code",
   "execution_count": 134,
   "id": "8898bafc",
   "metadata": {},
   "outputs": [],
   "source": [
    "from PIL import Image"
   ]
  },
  {
   "cell_type": "code",
   "execution_count": 144,
   "id": "8e3f5923",
   "metadata": {},
   "outputs": [
    {
     "data": {
      "image/png": "[encoded data removed]",
      "text/plain": [
       "<Figure size 800x400 with 2 Axes>"
      ]
     },
     "metadata": {},
     "output_type": "display_data"
    }
   ],
   "source": [
    "# Image file upload\n",
    "cur_img = Image.open('./test.png')\n",
    "\n",
    "fig, ax = plt.subplots(1,2, figsize=(8,4))\n",
    "ax[0].imshow(cur_img)\n",
    "\n",
    "# Image file resize 28x28\n",
    "cur_img = cur_img.resize((28,28))\n",
    "\n",
    "# Numpy array\n",
    "image = np.asarray(cur_img)\n",
    "\n",
    "# Color image -> Black & White image\n",
    "try:\n",
    "    image = np.mean(image, axis=2)\n",
    "except:\n",
    "    pass\n",
    "\n",
    "#image = np.abs(255-image)\n",
    "image = image.astype(np.float32)/255\n",
    "ax[1].imshow(image, cmap='gray')\n",
    "plt.show()"
   ]
  },
  {
   "cell_type": "code",
   "execution_count": 146,
   "id": "2c607f8d",
   "metadata": {},
   "outputs": [
    {
     "name": "stdout",
     "output_type": "stream",
     "text": [
      "[[0.03433266 0.07693412 0.08990473 0.06237079 0.10262258 0.3402756\n",
      "  0.04790547 0.15520084 0.0511623  0.03929093]]\n",
      "Model이 예측한 값은 [5]입니다.\n"
     ]
    }
   ],
   "source": [
    "image = np.reshape(image, (1,28,28))\n",
    "print(model.predict(image))\n",
    "print(\"Model이 예측한 값은 {}입니다.\".format(np.argmax(model.predict(image), -1)))"
   ]
  },
  {
   "cell_type": "markdown",
   "id": "f253a2cb",
   "metadata": {},
   "source": [
    "# Tensor"
   ]
  },
  {
   "cell_type": "code",
   "execution_count": 147,
   "id": "006a6501",
   "metadata": {},
   "outputs": [
    {
     "name": "stdout",
     "output_type": "stream",
     "text": [
      "tf.Tensor([3. 3.], shape=(2,), dtype=float32)\n"
     ]
    }
   ],
   "source": [
    "hello = tf.constant([3,3], dtype=tf.float32)\n",
    "print(hello)"
   ]
  },
  {
   "cell_type": "code",
   "execution_count": 149,
   "id": "28bf3b0f",
   "metadata": {},
   "outputs": [
    {
     "name": "stdout",
     "output_type": "stream",
     "text": [
      "tf.Tensor(\n",
      "[[1. 2.]\n",
      " [3. 4.]], shape=(2, 2), dtype=float32)\n",
      "<class 'tensorflow.python.framework.ops.EagerTensor'>\n"
     ]
    }
   ],
   "source": [
    "x = tf.constant([[1.0, 2.0],\n",
    "                 [3.0, 4.0]])\n",
    "print(x)\n",
    "print(type(x))"
   ]
  },
  {
   "cell_type": "code",
   "execution_count": 150,
   "id": "77a85b51",
   "metadata": {},
   "outputs": [
    {
     "name": "stdout",
     "output_type": "stream",
     "text": [
      "<class 'numpy.ndarray'>\n",
      "<class 'list'>\n"
     ]
    }
   ],
   "source": [
    "x_np = np.array([[1.0, 2.0],\n",
    "                 [3.0, 4.0]])\n",
    "x_list = [[1.0, 2.0],\n",
    "          [3.0, 4.0]]\n",
    "\n",
    "print(type(x_np))\n",
    "print(type(x_list))"
   ]
  },
  {
   "cell_type": "code",
   "execution_count": 151,
   "id": "3261cbab",
   "metadata": {},
   "outputs": [
    {
     "name": "stdout",
     "output_type": "stream",
     "text": [
      "<class 'tensorflow.python.framework.ops.EagerTensor'>\n",
      "<class 'tensorflow.python.framework.ops.EagerTensor'>\n"
     ]
    }
   ],
   "source": [
    "x_np = tf.convert_to_tensor(x_np)\n",
    "x_list = tf.convert_to_tensor(x_list)\n",
    "print(type(x_np))\n",
    "print(type(x_list))"
   ]
  },
  {
   "cell_type": "code",
   "execution_count": 153,
   "id": "b7fcd8a5",
   "metadata": {},
   "outputs": [
    {
     "data": {
      "text/plain": [
       "numpy.ndarray"
      ]
     },
     "execution_count": 153,
     "metadata": {},
     "output_type": "execute_result"
    }
   ],
   "source": [
    "type(x_np.numpy())"
   ]
  },
  {
   "cell_type": "code",
   "execution_count": 155,
   "id": "ac26c158",
   "metadata": {},
   "outputs": [
    {
     "name": "stdout",
     "output_type": "stream",
     "text": [
      "tf.Tensor(\n",
      "[[1. 1. 1.]\n",
      " [1. 1. 1.]], shape=(2, 3), dtype=float32)\n",
      "tf.Tensor(\n",
      "[[0. 0. 0.]\n",
      " [0. 0. 0.]], shape=(2, 3), dtype=float32)\n",
      "tf.Tensor(\n",
      "[[2 2 2]\n",
      " [2 2 2]], shape=(2, 3), dtype=int32)\n"
     ]
    }
   ],
   "source": [
    "a = tf.ones((2,3))\n",
    "b = tf.zeros((2,3))\n",
    "c = tf.fill((2,3), 2)\n",
    "\n",
    "print(a)\n",
    "print(b)\n",
    "print(c)"
   ]
  },
  {
   "cell_type": "code",
   "execution_count": 156,
   "id": "e81becb7",
   "metadata": {},
   "outputs": [
    {
     "name": "stdout",
     "output_type": "stream",
     "text": [
      "tf.Tensor(\n",
      "[[0 0 0]\n",
      " [0 0 0]], shape=(2, 3), dtype=int32)\n",
      "tf.Tensor(\n",
      "[[1 1 1]\n",
      " [1 1 1]], shape=(2, 3), dtype=int32)\n"
     ]
    }
   ],
   "source": [
    "# type까지 가져옴 (c: int32)\n",
    "d = tf.zeros_like(c)\n",
    "e = tf.ones_like(c)\n",
    "\n",
    "print(d)\n",
    "print(e)"
   ]
  },
  {
   "cell_type": "code",
   "execution_count": 157,
   "id": "c6ba99b2",
   "metadata": {},
   "outputs": [
    {
     "name": "stdout",
     "output_type": "stream",
     "text": [
      "tf.Tensor(\n",
      "[[1. 0. 0.]\n",
      " [0. 1. 0.]\n",
      " [0. 0. 1.]], shape=(3, 3), dtype=float32)\n"
     ]
    }
   ],
   "source": [
    "f = tf.eye(3)\n",
    "print(f)"
   ]
  },
  {
   "cell_type": "code",
   "execution_count": 158,
   "id": "ce8a3933",
   "metadata": {},
   "outputs": [
    {
     "name": "stdout",
     "output_type": "stream",
     "text": [
      "tf.Tensor([0 1 2 3 4 5 6 7 8 9], shape=(10,), dtype=int32)\n"
     ]
    }
   ],
   "source": [
    "g = tf.range(10)\n",
    "print(g)"
   ]
  },
  {
   "cell_type": "code",
   "execution_count": 162,
   "id": "16c57612",
   "metadata": {},
   "outputs": [
    {
     "name": "stdout",
     "output_type": "stream",
     "text": [
      "tf.Tensor(\n",
      "[[0.9308704  0.19494915]\n",
      " [0.596822   0.04730356]], shape=(2, 2), dtype=float32)\n",
      "tf.Tensor(\n",
      "[[-0.50704616 -0.5105591 ]\n",
      " [ 0.00423312 -0.3742881 ]], shape=(2, 2), dtype=float32)\n"
     ]
    }
   ],
   "source": [
    "h = tf.random.uniform((2,2)) #np.rand; 0~1\n",
    "i = tf.random.normal((2,2)) #np.randn; Normal Distribution\n",
    "print(h)\n",
    "print(i)"
   ]
  },
  {
   "cell_type": "code",
   "execution_count": 164,
   "id": "158be790",
   "metadata": {},
   "outputs": [
    {
     "name": "stdout",
     "output_type": "stream",
     "text": [
      "Shape of tensor: (3, 4)\n",
      "DataType of tensor: <dtype: 'float32'>\n"
     ]
    }
   ],
   "source": [
    "tensor = tf.random.normal((3,4))\n",
    "print(f\"Shape of tensor: {tensor.shape}\")\n",
    "print(f\"DataType of tensor: {tensor.dtype}\")"
   ]
  },
  {
   "cell_type": "code",
   "execution_count": 165,
   "id": "04dfce82",
   "metadata": {},
   "outputs": [
    {
     "name": "stdout",
     "output_type": "stream",
     "text": [
      "tf.Tensor(\n",
      "[[ 0  0  1]\n",
      " [ 0 -1 -1]\n",
      " [ 0  0  0]\n",
      " [ 0  0  1]], shape=(4, 3), dtype=int32)\n"
     ]
    }
   ],
   "source": [
    "tensor = tf.reshape(tensor, (4, 3))\n",
    "tensor = tf.cast(tensor, tf.int32)\n",
    "print(tensor)"
   ]
  },
  {
   "cell_type": "markdown",
   "id": "1dd2c638",
   "metadata": {},
   "source": [
    "### Variable\n",
    "**Weight, Bias**"
   ]
  },
  {
   "cell_type": "code",
   "execution_count": 174,
   "id": "bc49a30d",
   "metadata": {},
   "outputs": [
    {
     "data": {
      "text/plain": [
       "'\\ntensor = tf.ones((3,4))\\nprint(tensor)\\n\\ntensor[0, 0] = 2.\\n'"
      ]
     },
     "execution_count": 174,
     "metadata": {},
     "output_type": "execute_result"
    }
   ],
   "source": [
    "\"\"\"\n",
    "tensor = tf.ones((3,4))\n",
    "print(tensor)\n",
    "\n",
    "tensor[0, 0] = 2.\n",
    "\"\"\""
   ]
  },
  {
   "cell_type": "code",
   "execution_count": 175,
   "id": "e2105de5",
   "metadata": {},
   "outputs": [
    {
     "name": "stdout",
     "output_type": "stream",
     "text": [
      "<tf.Variable 'Variable:0' shape=(3, 4) dtype=float32, numpy=\n",
      "array([[1., 1., 1., 1.],\n",
      "       [1., 1., 1., 1.],\n",
      "       [1., 1., 1., 1.]], dtype=float32)>\n",
      "<tf.Variable 'Variable:0' shape=(3, 4) dtype=float32, numpy=\n",
      "array([[2., 1., 1., 1.],\n",
      "       [1., 1., 1., 1.],\n",
      "       [1., 1., 1., 1.]], dtype=float32)>\n"
     ]
    }
   ],
   "source": [
    "with tf.device('/CPU:0'):\n",
    "    variable = tf.Variable(tensor)\n",
    "    print(variable)\n",
    "    variable[0,0].assign(2)\n",
    "    print(variable)"
   ]
  },
  {
   "cell_type": "code",
   "execution_count": 176,
   "id": "ba8fffed",
   "metadata": {},
   "outputs": [
    {
     "name": "stdout",
     "output_type": "stream",
     "text": [
      "<tf.Variable 'Variable:0' shape=(2, 2) dtype=float32, numpy=\n",
      "array([[-1.4319113 , -0.73187363],\n",
      "       [-0.71342856,  1.3310363 ]], dtype=float32)>\n"
     ]
    }
   ],
   "source": [
    "initial_value = tf.random.normal(shape=(2, 2))\n",
    "weight = tf.Variable(initial_value)\n",
    "print(weight)"
   ]
  },
  {
   "cell_type": "code",
   "execution_count": 179,
   "id": "6173ea90",
   "metadata": {},
   "outputs": [
    {
     "name": "stdout",
     "output_type": "stream",
     "text": [
      "<tf.Variable 'Variable:0' shape=(2, 2) dtype=float32, numpy=\n",
      "array([[-2.1467538 ,  0.07004265],\n",
      "       [-0.03746337,  0.6260263 ]], dtype=float32)>\n"
     ]
    }
   ],
   "source": [
    "weight = tf.Variable(tf.random_normal_initializer(stddev=1.)(shape=(2,2)))\n",
    "print(weight)"
   ]
  },
  {
   "cell_type": "code",
   "execution_count": 185,
   "id": "e3d17601",
   "metadata": {},
   "outputs": [
    {
     "name": "stdout",
     "output_type": "stream",
     "text": [
      "tf.Tensor(\n",
      "[[ 0.6687903  -1.0124316 ]\n",
      " [ 0.44220287  0.2347279 ]], shape=(2, 2), dtype=float32)\n",
      "<tf.Variable 'Variable:0' shape=(2, 2) dtype=float32, numpy=\n",
      "array([[ 0.6687903 , -1.0124316 ],\n",
      "       [ 0.44220287,  0.2347279 ]], dtype=float32)>\n"
     ]
    }
   ],
   "source": [
    "new_value = tf.random.normal(shape=(2,2))\n",
    "print(new_value)\n",
    "weight.assign(new_value)\n",
    "print(weight)"
   ]
  },
  {
   "cell_type": "code",
   "execution_count": 186,
   "id": "416fc8de",
   "metadata": {},
   "outputs": [
    {
     "name": "stdout",
     "output_type": "stream",
     "text": [
      "<tf.Variable 'Variable:0' shape=(2, 2) dtype=float32, numpy=\n",
      "array([[ 1.6687903 , -0.01243162],\n",
      "       [ 1.4422028 ,  1.2347279 ]], dtype=float32)>\n"
     ]
    }
   ],
   "source": [
    "added_value = tf.ones(shape=(2,2))\n",
    "weight.assign_add(added_value)\n",
    "print(weight)"
   ]
  },
  {
   "cell_type": "code",
   "execution_count": 187,
   "id": "25f3a905",
   "metadata": {},
   "outputs": [
    {
     "name": "stdout",
     "output_type": "stream",
     "text": [
      "<tf.Variable 'Variable:0' shape=(2, 2) dtype=float32, numpy=\n",
      "array([[ 0.66879034, -1.0124316 ],\n",
      "       [ 0.4422028 ,  0.23472786]], dtype=float32)>\n"
     ]
    }
   ],
   "source": [
    "subed_value = tf.ones(shape=(2,2))\n",
    "weight.assign_sub(subed_value)\n",
    "print(weight)"
   ]
  },
  {
   "cell_type": "code",
   "execution_count": 188,
   "id": "b5cf5814",
   "metadata": {},
   "outputs": [
    {
     "name": "stdout",
     "output_type": "stream",
     "text": [
      "tf.Tensor(\n",
      "[[ 1  2  3  4]\n",
      " [ 5  6  7  8]\n",
      " [ 9 10 11 12]], shape=(3, 4), dtype=int32)\n"
     ]
    }
   ],
   "source": [
    "a = tf.range(1, 13)\n",
    "a = tf.reshape(a, (3,4))\n",
    "print(a)"
   ]
  },
  {
   "cell_type": "code",
   "execution_count": 190,
   "id": "c1600ef9",
   "metadata": {},
   "outputs": [
    {
     "name": "stdout",
     "output_type": "stream",
     "text": [
      "tf.Tensor([1 2 3 4], shape=(4,), dtype=int32)\n",
      "tf.Tensor(4, shape=(), dtype=int32)\n"
     ]
    }
   ],
   "source": [
    "print(a[0])\n",
    "print(a[0,-1])"
   ]
  },
  {
   "cell_type": "code",
   "execution_count": 192,
   "id": "01a1a180",
   "metadata": {},
   "outputs": [
    {
     "name": "stdout",
     "output_type": "stream",
     "text": [
      "tf.Tensor([1 2 3 4], shape=(4,), dtype=int32)\n",
      "tf.Tensor([[5 6 7 8]], shape=(1, 4), dtype=int32)\n"
     ]
    }
   ],
   "source": [
    "print(a[0,:])\n",
    "print(a[1:-1])"
   ]
  },
  {
   "cell_type": "code",
   "execution_count": 196,
   "id": "6b8ad21c",
   "metadata": {},
   "outputs": [
    {
     "name": "stdout",
     "output_type": "stream",
     "text": [
      "tf.Tensor(\n",
      "[[[ 0  1  2  3]\n",
      "  [ 4  5  6  7]]\n",
      "\n",
      " [[ 8  9 10 11]\n",
      "  [12 13 14 15]]], shape=(2, 2, 4), dtype=int32)\n"
     ]
    }
   ],
   "source": [
    "a = tf.range(16)\n",
    "a = tf.reshape(a, (2, 2, -1))\n",
    "print(a)"
   ]
  },
  {
   "cell_type": "code",
   "execution_count": 197,
   "id": "aafb0fba",
   "metadata": {},
   "outputs": [
    {
     "name": "stdout",
     "output_type": "stream",
     "text": [
      "tf.Tensor(\n",
      "[[[ 0  4]\n",
      "  [ 8 12]]\n",
      "\n",
      " [[ 1  5]\n",
      "  [ 9 13]]\n",
      "\n",
      " [[ 2  6]\n",
      "  [10 14]]\n",
      "\n",
      " [[ 3  7]\n",
      "  [11 15]]], shape=(4, 2, 2), dtype=int32)\n"
     ]
    }
   ],
   "source": [
    "b = tf.transpose(a, (2, 0, 1))\n",
    "print(b)"
   ]
  },
  {
   "cell_type": "code",
   "execution_count": 204,
   "id": "f4fd3d12",
   "metadata": {},
   "outputs": [
    {
     "name": "stdout",
     "output_type": "stream",
     "text": [
      "tf.Tensor(\n",
      "[[1. 2.]\n",
      " [3. 4.]], shape=(2, 2), dtype=float32)\n",
      "tf.Tensor(\n",
      "[[5. 6.]\n",
      " [7. 8.]], shape=(2, 2), dtype=float32)\n"
     ]
    }
   ],
   "source": [
    "x = tf.constant([[1,2],[3,4]], shape=(2,2), dtype='float32')\n",
    "y = tf.constant([[5,6],[7,8]], dtype='float32')\n",
    "print(x)\n",
    "print(y)"
   ]
  },
  {
   "cell_type": "code",
   "execution_count": 206,
   "id": "b4f8d443",
   "metadata": {},
   "outputs": [
    {
     "name": "stdout",
     "output_type": "stream",
     "text": [
      "tf.Tensor(\n",
      "[[ 6.  8.]\n",
      " [10. 12.]], shape=(2, 2), dtype=float32)\n",
      "tf.Tensor(\n",
      "[[-4. -4.]\n",
      " [-4. -4.]], shape=(2, 2), dtype=float32)\n",
      "tf.Tensor(\n",
      "[[ 5. 12.]\n",
      " [21. 32.]], shape=(2, 2), dtype=float32)\n",
      "tf.Tensor(\n",
      "[[0.2        0.33333334]\n",
      " [0.42857146 0.5       ]], shape=(2, 2), dtype=float32)\n",
      "tf.Tensor(\n",
      "[[19. 22.]\n",
      " [43. 50.]], shape=(2, 2), dtype=float32)\n"
     ]
    }
   ],
   "source": [
    "print(x+y)\n",
    "print(x-y)\n",
    "print(x*y)\n",
    "print(x/y)\n",
    "print(x@y)"
   ]
  },
  {
   "cell_type": "code",
   "execution_count": 207,
   "id": "fd7ab4e3",
   "metadata": {},
   "outputs": [
    {
     "name": "stdout",
     "output_type": "stream",
     "text": [
      "tf.Tensor(\n",
      "[[ 1  2  3  4  5]\n",
      " [ 6  7  8  9 10]], shape=(2, 5), dtype=int32)\n"
     ]
    }
   ],
   "source": [
    "z = tf.range(1, 11)\n",
    "z = tf.reshape(z, (2,5))\n",
    "print(z)"
   ]
  },
  {
   "cell_type": "code",
   "execution_count": 211,
   "id": "7701d202",
   "metadata": {},
   "outputs": [
    {
     "name": "stdout",
     "output_type": "stream",
     "text": [
      "tf.Tensor(55, shape=(), dtype=int32)\n"
     ]
    }
   ],
   "source": [
    "print(tf.reduce_sum(z))"
   ]
  },
  {
   "cell_type": "code",
   "execution_count": 210,
   "id": "cedc29c1",
   "metadata": {},
   "outputs": [
    {
     "name": "stdout",
     "output_type": "stream",
     "text": [
      "tf.Tensor([ 7  9 11 13 15], shape=(5,), dtype=int32)\n",
      "tf.Tensor([15 40], shape=(2,), dtype=int32)\n",
      "tf.Tensor([15 40], shape=(2,), dtype=int32)\n"
     ]
    }
   ],
   "source": [
    "sum1 = tf.reduce_sum(z, axis=0)\n",
    "sum2 = tf.reduce_sum(z, axis=1)\n",
    "sum3 = tf.reduce_sum(z, axis=-1)\n",
    "print(sum1)\n",
    "print(sum2)\n",
    "print(sum3)"
   ]
  },
  {
   "cell_type": "code",
   "execution_count": 212,
   "id": "027b700e",
   "metadata": {},
   "outputs": [
    {
     "name": "stdout",
     "output_type": "stream",
     "text": [
      "tf.Tensor(\n",
      "[[ 1  2  3  4  5]\n",
      " [ 6  7  8  9 10]\n",
      " [ 1  2  3  4  5]\n",
      " [ 6  7  8  9 10]], shape=(4, 5), dtype=int32)\n"
     ]
    }
   ],
   "source": [
    "concat = tf.concat([z, z], axis=0)\n",
    "print(concat)"
   ]
  },
  {
   "cell_type": "code",
   "execution_count": 213,
   "id": "c728485b",
   "metadata": {},
   "outputs": [
    {
     "name": "stdout",
     "output_type": "stream",
     "text": [
      "tf.Tensor(\n",
      "[[ 1  2  3  4  5  1  2  3  4  5]\n",
      " [ 6  7  8  9 10  6  7  8  9 10]], shape=(2, 10), dtype=int32)\n"
     ]
    }
   ],
   "source": [
    "concat = tf.concat([z, z], axis=-1)\n",
    "print(concat)"
   ]
  },
  {
   "cell_type": "code",
   "execution_count": 214,
   "id": "737b8255",
   "metadata": {},
   "outputs": [
    {
     "name": "stdout",
     "output_type": "stream",
     "text": [
      "tf.Tensor(\n",
      "[[[ 1  2  3  4  5]\n",
      "  [ 6  7  8  9 10]]\n",
      "\n",
      " [[ 1  2  3  4  5]\n",
      "  [ 6  7  8  9 10]]], shape=(2, 2, 5), dtype=int32)\n"
     ]
    }
   ],
   "source": [
    "stack = tf.stack([z, z], axis=0)\n",
    "print(stack)"
   ]
  },
  {
   "cell_type": "code",
   "execution_count": 215,
   "id": "0e7da992",
   "metadata": {},
   "outputs": [
    {
     "name": "stdout",
     "output_type": "stream",
     "text": [
      "tf.Tensor(\n",
      "[[[ 1  2  3  4  5]\n",
      "  [ 1  2  3  4  5]]\n",
      "\n",
      " [[ 6  7  8  9 10]\n",
      "  [ 6  7  8  9 10]]], shape=(2, 2, 5), dtype=int32)\n"
     ]
    }
   ],
   "source": [
    "stack = tf.stack([z, z], axis=1)\n",
    "print(stack)"
   ]
  },
  {
   "cell_type": "code",
   "execution_count": 216,
   "id": "843bc356",
   "metadata": {},
   "outputs": [
    {
     "name": "stdout",
     "output_type": "stream",
     "text": [
      "tf.Tensor(\n",
      "[[[ 1  1]\n",
      "  [ 2  2]\n",
      "  [ 3  3]\n",
      "  [ 4  4]\n",
      "  [ 5  5]]\n",
      "\n",
      " [[ 6  6]\n",
      "  [ 7  7]\n",
      "  [ 8  8]\n",
      "  [ 9  9]\n",
      "  [10 10]]], shape=(2, 5, 2), dtype=int32)\n"
     ]
    }
   ],
   "source": [
    "stack = tf.stack([z, z], axis=2)\n",
    "print(stack)"
   ]
  },
  {
   "cell_type": "code",
   "execution_count": 217,
   "id": "55febb6e",
   "metadata": {},
   "outputs": [
    {
     "name": "stdout",
     "output_type": "stream",
     "text": [
      "tf.Tensor(\n",
      "[[[ 1  1]\n",
      "  [ 2  2]\n",
      "  [ 3  3]\n",
      "  [ 4  4]\n",
      "  [ 5  5]]\n",
      "\n",
      " [[ 6  6]\n",
      "  [ 7  7]\n",
      "  [ 8  8]\n",
      "  [ 9  9]\n",
      "  [10 10]]], shape=(2, 5, 2), dtype=int32)\n"
     ]
    }
   ],
   "source": [
    "stack = tf.stack([z, z], axis=-1)\n",
    "print(stack)"
   ]
  }
 ],
 "metadata": {
  "kernelspec": {
   "display_name": "Python 3 (ipykernel)",
   "language": "python",
   "name": "python3"
  },
  "language_info": {
   "codemirror_mode": {
    "name": "ipython",
    "version": 3
   },
   "file_extension": ".py",
   "mimetype": "text/x-python",
   "name": "python",
   "nbconvert_exporter": "python",
   "pygments_lexer": "ipython3",
   "version": "3.9.15"
  }
 },
 "nbformat": 4,
 "nbformat_minor": 5
}
