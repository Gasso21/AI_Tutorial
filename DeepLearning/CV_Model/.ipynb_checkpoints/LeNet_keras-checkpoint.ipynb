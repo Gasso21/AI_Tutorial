{
 "cells": [
  {
   "cell_type": "code",
   "execution_count": 1,
   "id": "33de9053",
   "metadata": {},
   "outputs": [
    {
     "name": "stdout",
     "output_type": "stream",
     "text": [
      "Once deleted, variables cannot be recovered. Proceed (y/[n])? y\n"
     ]
    }
   ],
   "source": [
    "%reset"
   ]
  },
  {
   "cell_type": "markdown",
   "id": "e6721bae",
   "metadata": {},
   "source": [
    "# LeNet-5"
   ]
  },
  {
   "cell_type": "markdown",
   "id": "c1a6aa6a",
   "metadata": {},
   "source": [
    "### Input Shape: 28x28x1(MNIST)\n",
    "**Convolution Layers**\n",
    "\n",
    "1. ConV_1 (5x5, s=1, activation='tanh', filters=  6, padding='same')\n",
    "2. Pooling_2 (f=2, s=2, padding='valid')\n",
    "3. ConV_3 (5x5, s=1, activation='tanh', filters= 16, padding='valid')\n",
    "4. Pooling_4 (f=2, s=2, padding='valid')\n",
    "5. ConV_5 (5x5, s=1, activation='tanh', filters=120, padding='valid')\n",
    "\n",
    "**Fully Connected Layers**\n",
    "\n",
    "6. Dense(units=84, activation='tanh')\n",
    "\n",
    "**Outputs**\n",
    "\n",
    "7. Dense(units=10, activation='softmax')"
   ]
  },
  {
   "cell_type": "markdown",
   "id": "8da24e0a",
   "metadata": {},
   "source": [
    "## Build Models"
   ]
  },
  {
   "cell_type": "code",
   "execution_count": 3,
   "id": "740f3434",
   "metadata": {},
   "outputs": [],
   "source": [
    "import tensorflow as tf\n",
    "from tensorflow import keras\n",
    "from keras.models import Sequential\n",
    "from keras.layers import Conv2D, AveragePooling2D, Flatten, Dense"
   ]
  },
  {
   "cell_type": "code",
   "execution_count": 7,
   "id": "2e3977d6",
   "metadata": {},
   "outputs": [],
   "source": [
    "def build_lenet_5(input_shape, num_classes=10):\n",
    "    \n",
    "    inputs = keras.Input(shape = input_shape)\n",
    "\n",
    "    conv1 = Conv2D(kernel_size=5,\n",
    "                   strides=1,\n",
    "                   activation='tanh',\n",
    "                   filters=6,\n",
    "                   padding='same')(inputs)\n",
    "    pool2 = AveragePooling2D(pool_size=2,\n",
    "                             strides=2,\n",
    "                             padding='valid')(conv1)\n",
    "    conv3 = Conv2D(kernel_size=5,\n",
    "                   strides=1,\n",
    "                   activation='tanh',\n",
    "                   filters=16,\n",
    "                   padding='valid')(pool2)\n",
    "    pool4 = AveragePooling2D(pool_size=2,\n",
    "                             strides=2,\n",
    "                             padding='valid')(conv3)\n",
    "    conv5 = Conv2D(kernel_size=5,\n",
    "                   strides=1,\n",
    "                   activation='tanh',\n",
    "                   filters=120,\n",
    "                   padding='valid')(pool4)\n",
    "    \n",
    "    flat = Flatten()(conv5)\n",
    "    \n",
    "    dense6 = Dense(units=84,\n",
    "                   activation='tanh')(flat)\n",
    "    \n",
    "    outputs = Dense(units=num_classes,\n",
    "                    activation='softmax')(dense6)\n",
    "    \n",
    "    model = keras.Model(inputs=inputs, outputs=outputs, name='LeNet_5')\n",
    "    \n",
    "    return model"
   ]
  },
  {
   "cell_type": "code",
   "execution_count": 8,
   "id": "f1d7f221",
   "metadata": {
    "scrolled": false
   },
   "outputs": [
    {
     "name": "stdout",
     "output_type": "stream",
     "text": [
      "Model: \"LeNet_5\"\n",
      "_________________________________________________________________\n",
      " Layer (type)                Output Shape              Param #   \n",
      "=================================================================\n",
      " input_2 (InputLayer)        [(None, 28, 28, 1)]       0         \n",
      "                                                                 \n",
      " conv2d_1 (Conv2D)           (None, 28, 28, 6)         156       \n",
      "                                                                 \n",
      " average_pooling2d_1 (Averag  (None, 14, 14, 6)        0         \n",
      " ePooling2D)                                                     \n",
      "                                                                 \n",
      " conv2d_2 (Conv2D)           (None, 10, 10, 16)        2416      \n",
      "                                                                 \n",
      " average_pooling2d_2 (Averag  (None, 5, 5, 16)         0         \n",
      " ePooling2D)                                                     \n",
      "                                                                 \n",
      " conv2d_3 (Conv2D)           (None, 1, 1, 120)         48120     \n",
      "                                                                 \n",
      " flatten (Flatten)           (None, 120)               0         \n",
      "                                                                 \n",
      " dense (Dense)               (None, 84)                10164     \n",
      "                                                                 \n",
      " dense_1 (Dense)             (None, 10)                850       \n",
      "                                                                 \n",
      "=================================================================\n",
      "Total params: 61,706\n",
      "Trainable params: 61,706\n",
      "Non-trainable params: 0\n",
      "_________________________________________________________________\n"
     ]
    }
   ],
   "source": [
    "model = build_lenet_5(input_shape=(28,28,1))\n",
    "model.summary()"
   ]
  },
  {
   "cell_type": "code",
   "execution_count": 9,
   "id": "b739ef56",
   "metadata": {},
   "outputs": [],
   "source": [
    "def lr_schedule(epoch):\n",
    "    if epoch <= 2:\n",
    "        lr = 5e-4\n",
    "    elif epoch > 2 and epoch <= 5:\n",
    "        lr = 2e-4\n",
    "    elif epoch >5 and epoch <= 9:\n",
    "        lr = 5e-5\n",
    "    else:\n",
    "        lr = 1e-5\n",
    "    return lr"
   ]
  },
  {
   "cell_type": "code",
   "execution_count": null,
   "id": "fa9a3c91",
   "metadata": {},
   "outputs": [],
   "source": [
    "from keras.callbacks import ModelCheckpoint, LearningRateScheduler\n",
    "\n",
    "lr_scheduler = LearningRateScheduler"
   ]
  }
 ],
 "metadata": {
  "kernelspec": {
   "display_name": "Python 3 (ipykernel)",
   "language": "python",
   "name": "python3"
  },
  "language_info": {
   "codemirror_mode": {
    "name": "ipython",
    "version": 3
   },
   "file_extension": ".py",
   "mimetype": "text/x-python",
   "name": "python",
   "nbconvert_exporter": "python",
   "pygments_lexer": "ipython3",
   "version": "3.9.15"
  }
 },
 "nbformat": 4,
 "nbformat_minor": 5
}
