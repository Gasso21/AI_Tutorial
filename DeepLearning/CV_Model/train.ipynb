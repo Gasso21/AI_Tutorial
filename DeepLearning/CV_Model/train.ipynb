{
 "cells": [
  {
   "cell_type": "code",
   "execution_count": 1,
   "id": "1e29252e",
   "metadata": {},
   "outputs": [
    {
     "name": "stdout",
     "output_type": "stream",
     "text": [
      "Once deleted, variables cannot be recovered. Proceed (y/[n])? y\n"
     ]
    }
   ],
   "source": [
    "%reset"
   ]
  },
  {
   "cell_type": "markdown",
   "id": "86b7a4ae",
   "metadata": {},
   "source": [
    "# MNIST"
   ]
  },
  {
   "cell_type": "markdown",
   "id": "72253bdf",
   "metadata": {},
   "source": [
    "## Load Data"
   ]
  },
  {
   "cell_type": "code",
   "execution_count": 1,
   "id": "91648f42",
   "metadata": {},
   "outputs": [],
   "source": [
    "import tensorflow as tf\n",
    "from tensorflow import keras\n",
    "from keras.datasets import mnist\n",
    "import matplotlib.pyplot as plt\n",
    "import numpy as np\n",
    "%matplotlib inline\n",
    "%config InlineBackend.figure_format='retina'"
   ]
  },
  {
   "cell_type": "code",
   "execution_count": 5,
   "id": "9f25b0c3",
   "metadata": {},
   "outputs": [
    {
     "name": "stdout",
     "output_type": "stream",
     "text": [
      "Train Labels: {0: 5923, 1: 6742, 2: 5958, 3: 6131, 4: 5842, 5: 5421, 6: 5918, 7: 6265, 8: 5851, 9: 5949}\n",
      "Test Labels: {0: 980, 1: 1135, 2: 1032, 3: 1010, 4: 982, 5: 892, 6: 958, 7: 1028, 8: 974, 9: 1009}\n"
     ]
    }
   ],
   "source": [
    "(x_train, y_train), (x_test, y_test) = mnist.load_data()\n",
    "\n",
    "unique, counts = np.unique(y_train, return_counts=True)\n",
    "print(f\"Train Labels: {dict(zip(unique, counts))}\")\n",
    "\n",
    "unique, counts = np.unique(y_test, return_counts=True)\n",
    "print(f\"Test Labels: {dict(zip(unique, counts))}\")"
   ]
  },
  {
   "cell_type": "code",
   "execution_count": 17,
   "id": "3aea33c1",
   "metadata": {},
   "outputs": [],
   "source": [
    "indexes = np.random.randint(0, x_train.shape[0], size=9)\n",
    "images = x_train[indexes]\n",
    "labels = y_train[indexes]\n"
   ]
  },
  {
   "cell_type": "markdown",
   "id": "31178ac7",
   "metadata": {},
   "source": [
    "## Preprocessing"
   ]
  },
  {
   "cell_type": "code",
   "execution_count": 14,
   "id": "1f32a797",
   "metadata": {},
   "outputs": [],
   "source": [
    "num_labels = len(unique)\n",
    "\n",
    "y_train = keras.utils.to_categorical(y_train)\n",
    "y_test = keras.utils.to_categorical(y_test)\n",
    "\n",
    "x_train = np.reshape(x_train, [-1, x_train.shape[1], x_train.shape[2], 1])\n",
    "x_test = np.reshape(x_test, [-1, x_test.shape[1], x_test.shape[2], 1])\n",
    "x_train = x_train.astype('float32')/255\n",
    "x_test = x_test.astype('float32')/255\n",
    "\n",
    "input_shape = x_train.shape[1:]"
   ]
  },
  {
   "cell_type": "markdown",
   "id": "3eb0d687",
   "metadata": {},
   "source": [
    "# LeNet-5"
   ]
  },
  {
   "cell_type": "markdown",
   "id": "a4a5855a",
   "metadata": {},
   "source": [
    "### Input Shape: 28x28x1(MNIST)\n",
    "**Convolution Layers**\n",
    "\n",
    "1. ConV_1 (5x5, s=1, activation='tanh', filters=  6, padding='same')\n",
    "2. Pooling_2 (f=2, s=2, padding='valid')\n",
    "3. ConV_3 (5x5, s=1, activation='tanh', filters= 16, padding='valid')\n",
    "4. Pooling_4 (f=2, s=2, padding='valid')\n",
    "5. ConV_5 (5x5, s=1, activation='tanh', filters=120, padding='valid')\n",
    "\n",
    "**Fully Connected Layers**\n",
    "\n",
    "6. Dense(units=84, activation='tanh')\n",
    "\n",
    "**Outputs**\n",
    "\n",
    "7. Dense(units=10, activation='softmax')"
   ]
  },
  {
   "cell_type": "code",
   "execution_count": 15,
   "id": "377e8665",
   "metadata": {},
   "outputs": [],
   "source": [
    "from LeNet import build_lenet_5, lr_schedule"
   ]
  },
  {
   "cell_type": "code",
   "execution_count": 16,
   "id": "e02ab839",
   "metadata": {
    "scrolled": false
   },
   "outputs": [
    {
     "name": "stdout",
     "output_type": "stream",
     "text": [
      "Metal device set to: Apple M2\n"
     ]
    },
    {
     "name": "stderr",
     "output_type": "stream",
     "text": [
      "2023-03-03 18:27:38.016596: I tensorflow/core/common_runtime/pluggable_device/pluggable_device_factory.cc:305] Could not identify NUMA node of platform GPU ID 0, defaulting to 0. Your kernel may not have been built with NUMA support.\n",
      "2023-03-03 18:27:38.017013: I tensorflow/core/common_runtime/pluggable_device/pluggable_device_factory.cc:271] Created TensorFlow device (/job:localhost/replica:0/task:0/device:GPU:0 with 0 MB memory) -> physical PluggableDevice (device: 0, name: METAL, pci bus id: <undefined>)\n"
     ]
    },
    {
     "name": "stdout",
     "output_type": "stream",
     "text": [
      "Model: \"LeNet_5\"\n",
      "_________________________________________________________________\n",
      " Layer (type)                Output Shape              Param #   \n",
      "=================================================================\n",
      " input_1 (InputLayer)        [(None, 28, 28, 1)]       0         \n",
      "                                                                 \n",
      " conv2d (Conv2D)             (None, 28, 28, 6)         156       \n",
      "                                                                 \n",
      " average_pooling2d (AverageP  (None, 14, 14, 6)        0         \n",
      " ooling2D)                                                       \n",
      "                                                                 \n",
      " conv2d_1 (Conv2D)           (None, 10, 10, 16)        2416      \n",
      "                                                                 \n",
      " average_pooling2d_1 (Averag  (None, 5, 5, 16)         0         \n",
      " ePooling2D)                                                     \n",
      "                                                                 \n",
      " conv2d_2 (Conv2D)           (None, 1, 1, 120)         48120     \n",
      "                                                                 \n",
      " flatten (Flatten)           (None, 120)               0         \n",
      "                                                                 \n",
      " dense (Dense)               (None, 84)                10164     \n",
      "                                                                 \n",
      " dense_1 (Dense)             (None, 10)                850       \n",
      "                                                                 \n",
      "=================================================================\n",
      "Total params: 61,706\n",
      "Trainable params: 61,706\n",
      "Non-trainable params: 0\n",
      "_________________________________________________________________\n"
     ]
    }
   ],
   "source": [
    "model = build_lenet_5(input_shape=input_shape)\n",
    "model.summary()"
   ]
  },
  {
   "cell_type": "code",
   "execution_count": null,
   "id": "54629bdd",
   "metadata": {},
   "outputs": [],
   "source": [
    "keras.utils.plot_model(model=model,\n",
    "                       to_file='LeNet5'\n",
    "                      )"
   ]
  },
  {
   "cell_type": "code",
   "execution_count": 4,
   "id": "76180888",
   "metadata": {},
   "outputs": [],
   "source": [
    "from keras.callbacks import ModelCheckpoint, LearningRateScheduler\n",
    "\n",
    "lr_scheduler = LearningRateScheduler(lr_schedule)\n",
    "checkpoints = ModelCheckpoint(filepath='path_to_svae_file/file.hdf5',\n",
    "                              monitor='val_acc',\n",
    "                              verbose=1,\n",
    "                              save_best_only=True\n",
    "                             )\n",
    "callbacks = [checkpoints, lr_scheduler]\n",
    "model.compile(loss='categorical_crossentropy',\n",
    "              optimizer='sgd',\n",
    "              metrics=['accuracy']\n",
    "             )"
   ]
  },
  {
   "cell_type": "code",
   "execution_count": null,
   "id": "c39c0e79",
   "metadata": {},
   "outputs": [],
   "source": [
    "hist = model.fit(x_train, x_test, )"
   ]
  }
 ],
 "metadata": {
  "kernelspec": {
   "display_name": "Python 3 (ipykernel)",
   "language": "python",
   "name": "python3"
  },
  "language_info": {
   "codemirror_mode": {
    "name": "ipython",
    "version": 3
   },
   "file_extension": ".py",
   "mimetype": "text/x-python",
   "name": "python",
   "nbconvert_exporter": "python",
   "pygments_lexer": "ipython3",
   "version": "3.9.15"
  }
 },
 "nbformat": 4,
 "nbformat_minor": 5
}
