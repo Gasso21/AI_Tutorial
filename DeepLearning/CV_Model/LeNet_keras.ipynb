{
 "cells": [
  {
   "cell_type": "code",
   "execution_count": 1,
   "id": "479a9b6c",
   "metadata": {},
   "outputs": [
    {
     "name": "stdout",
     "output_type": "stream",
     "text": [
      "Once deleted, variables cannot be recovered. Proceed (y/[n])? y\n"
     ]
    }
   ],
   "source": [
    "%reset"
   ]
  },
  {
   "cell_type": "markdown",
   "id": "b4201e4c",
   "metadata": {},
   "source": [
    "# LeNet-5"
   ]
  },
  {
   "cell_type": "markdown",
   "id": "21e56854",
   "metadata": {},
   "source": [
    "1. input data\n",
    "2. ConV_1\n",
    "3. Activation_tanh\n",
    "4. Pooling_2\n",
    "5. ConV_3\n",
    "6. Activation_tanh\n",
    "7. Pooling_4\n",
    "8. ConV_5\n",
    "9. "
   ]
  },
  {
   "cell_type": "code",
   "execution_count": null,
   "id": "fc9e445f",
   "metadata": {},
   "outputs": [],
   "source": [
    "from tensorflow as tf\n",
    "from tensorflow import keras\n",
    "from keras.models import Sequential\n",
    "from keras.layers import Conv2D, AveragePooling2D, Flatten, Dense\n",
    "\n",
    "model = Sequential()\n",
    "model.add(Co)"
   ]
  }
 ],
 "metadata": {
  "kernelspec": {
   "display_name": "Python 3 (ipykernel)",
   "language": "python",
   "name": "python3"
  },
  "language_info": {
   "codemirror_mode": {
    "name": "ipython",
    "version": 3
   },
   "file_extension": ".py",
   "mimetype": "text/x-python",
   "name": "python",
   "nbconvert_exporter": "python",
   "pygments_lexer": "ipython3",
   "version": "3.9.15"
  }
 },
 "nbformat": 4,
 "nbformat_minor": 5
}
