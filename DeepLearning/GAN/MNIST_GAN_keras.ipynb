{
 "cells": [
  {
   "cell_type": "markdown",
   "id": "54423b97",
   "metadata": {},
   "source": [
    "# MNIST"
   ]
  },
  {
   "cell_type": "code",
   "execution_count": 1,
   "id": "67a96400",
   "metadata": {},
   "outputs": [
    {
     "name": "stdout",
     "output_type": "stream",
     "text": [
      "Once deleted, variables cannot be recovered. Proceed (y/[n])? y\n"
     ]
    }
   ],
   "source": [
    "%reset"
   ]
  },
  {
   "cell_type": "code",
   "execution_count": 7,
   "id": "8f481543",
   "metadata": {},
   "outputs": [],
   "source": [
    "import tensorflow as tf\n",
    "from tensorflow import keras\n",
    "import matplotlib.pyplot as plt\n",
    "import numpy as np\n",
    "from keras.layers import Dense, Reshape, BatchNormalization, Activation, Conv2D, Conv2DTranspose, LeakyReLU\n",
    "%matplotlib inline\n",
    "%config InlineBackend.figure_format='retina'"
   ]
  },
  {
   "cell_type": "code",
   "execution_count": 5,
   "id": "70bcb2d1",
   "metadata": {},
   "outputs": [],
   "source": [
    "def build_generator(inputs, image_size):\n",
    "    # Stack: BN-ReLU-Conv2DTranspose\n",
    "    # inputs: z-vector(noise)\n",
    "    # image_size: Target size\n",
    "    # return: Model\n",
    "    \n",
    "    image_resize = image_size // 4\n",
    "    kernel_size = 5\n",
    "    layer_filters = [128, 64, 32, 1]\n",
    "    \n",
    "    x = Dense(image_resize*image_resize*layer_filters[0])(inputs)\n",
    "    x = Reshape((image_resize, image_size, layer_filters[0]))(x)\n",
    "    \n",
    "    for filters in layer_filters:\n",
    "        # 1st, 2nd Conv layers: strides = 2\n",
    "        # 3rd, 4th Conv layers: strides = 1\n",
    "        if filters > layer_filters[-2]: #128, 64\n",
    "            strides = 2\n",
    "        else:\n",
    "            strides = 1\n",
    "        # BN-ReLU-Conv2DTranspose\n",
    "        x = BatchNormalization()(x)\n",
    "        x = Conv2DTranspose(filters=filters,\n",
    "                            kernel_size=kernel_size,\n",
    "                            strides=strides,\n",
    "                            padding='same'\n",
    "                           )(x)\n",
    "        \n",
    "    x = Activation('Sigmoid')(x)\n",
    "    generator = keras.Model(inputs, x, name='generator')\n",
    "    return generator"
   ]
  },
  {
   "cell_type": "code",
   "execution_count": null,
   "id": "c6141c12",
   "metadata": {},
   "outputs": [],
   "source": [
    "def build_discriminator(inputs):\n",
    "    # BN으로는 수렴하지 않음\n",
    "    # Stack: LeakyReLU-Conv2D\n",
    "    # inputs: Image\n",
    "    # return: Model\n",
    "    \n",
    "    kernel_size = 5\n",
    "    layer_filters = [32, 64, 128, 256]\n",
    "    \n",
    "    x = inputs\n",
    "    \n",
    "    for filters in layer_filters:\n",
    "        # 1st, 2nd, 3rd Conv layers: strides = 2\n",
    "        # 4th Conv layers: strides = 1\n",
    "        if filters = layer_filters[-1]:\n",
    "            strides = 1\n",
    "        else:\n",
    "            strides = 2\n",
    "        # LeakyReLU-Conv2D\n",
    "        x = LeakyReLU(alpha=0.2)(x)\n",
    "        x = Conv2D(filters=filters,\n",
    "                   kernel_size=kernel_size,\n",
    "                   strides=strides,\n",
    "                   padding='same'\n",
    "                  )(x)\n",
    "    x = Flatten()(x)\n",
    "    x = Dense(1)(x)\n",
    "    x = Activation('sigmoid')(x)\n",
    "    "
   ]
  }
 ],
 "metadata": {
  "kernelspec": {
   "display_name": "Python 3 (ipykernel)",
   "language": "python",
   "name": "python3"
  },
  "language_info": {
   "codemirror_mode": {
    "name": "ipython",
    "version": 3
   },
   "file_extension": ".py",
   "mimetype": "text/x-python",
   "name": "python",
   "nbconvert_exporter": "python",
   "pygments_lexer": "ipython3",
   "version": "3.9.15"
  }
 },
 "nbformat": 4,
 "nbformat_minor": 5
}
