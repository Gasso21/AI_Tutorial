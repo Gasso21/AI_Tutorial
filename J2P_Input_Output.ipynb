{
 "cells": [
  {
   "cell_type": "markdown",
   "id": "8e314f9a",
   "metadata": {},
   "source": [
    "# Function"
   ]
  },
  {
   "cell_type": "code",
   "execution_count": 4,
   "id": "376dce67",
   "metadata": {},
   "outputs": [
    {
     "name": "stdout",
     "output_type": "stream",
     "text": [
      "HI\n",
      "3, 4의 합은 7입니다.\n",
      "None\n"
     ]
    }
   ],
   "source": [
    "# 입력값이 없는 함수\n",
    "def say():\n",
    "    return 'HI'\n",
    "\n",
    "print(say())\n",
    "\n",
    "# 결과값이 없는 함수\n",
    "def add(a, b):\n",
    "    print(\"%d, %d의 합은 %d입니다.\" %(a, b, a+b))\n",
    "    \n",
    "print(add(3, 4))"
   ]
  },
  {
   "cell_type": "code",
   "execution_count": 5,
   "id": "25f18f4c",
   "metadata": {},
   "outputs": [
    {
     "name": "stdout",
     "output_type": "stream",
     "text": [
      "-4\n",
      "-4\n"
     ]
    }
   ],
   "source": [
    "# 매개변수 지정하여 호출하기\n",
    "def sub(a, b):\n",
    "    return a-b\n",
    "\n",
    "result = sub(a=3, b=7)\n",
    "print(result)\n",
    "\n",
    "result = sub(b=7, a=3)\n",
    "print(result)"
   ]
  },
  {
   "cell_type": "code",
   "execution_count": 7,
   "id": "a475a6bd",
   "metadata": {},
   "outputs": [
    {
     "name": "stdout",
     "output_type": "stream",
     "text": [
      "6\n",
      "55\n"
     ]
    }
   ],
   "source": [
    "# 입력값이 몇 개가 될지 모를 때\n",
    "def add_many(*args):\n",
    "    result = 0\n",
    "    for i in args:\n",
    "        result = result + i\n",
    "    return result\n",
    "\n",
    "result = add_many(1, 2, 3)\n",
    "print(result)\n",
    "\n",
    "result = add_many(1, 2, 3, 4, 5, 6, 7, 8, 9, 10)\n",
    "print(result)"
   ]
  },
  {
   "cell_type": "code",
   "execution_count": 8,
   "id": "e71351b7",
   "metadata": {},
   "outputs": [
    {
     "name": "stdout",
     "output_type": "stream",
     "text": [
      "15\n",
      "120\n"
     ]
    }
   ],
   "source": [
    "def add_mul(choice, *args):\n",
    "    if choice ==\"add\":\n",
    "        result = 0\n",
    "        for i in args:\n",
    "            result = result + i\n",
    "    elif choice == \"mul\":\n",
    "        result = 1\n",
    "        for i in args:\n",
    "            result = result * i\n",
    "    return result\n",
    "\n",
    "result = add_mul('add', 1, 2, 3, 4, 5)\n",
    "print(result)\n",
    "result = add_mul('mul', 1, 2, 3, 4, 5)\n",
    "print(result)"
   ]
  },
  {
   "cell_type": "code",
   "execution_count": 9,
   "id": "eda0d6e3",
   "metadata": {},
   "outputs": [
    {
     "name": "stdout",
     "output_type": "stream",
     "text": [
      "{'a': 1}\n",
      "{'name': 'foo', 'age': 3}\n"
     ]
    },
    {
     "data": {
      "text/plain": [
       "'\\n키워드 파라미터를 사용할 때는 매개변수 앞에 별 두 개(**)를 붙임\\n**kwargs처럼 매개변수 이름 앞에 **을 붙이면 매개변수 kwargs는 딕셔너리가 되고 모든 key=value 형태의 결과값이 그 딕셔너리에 저장됨\\n'"
      ]
     },
     "execution_count": 9,
     "metadata": {},
     "output_type": "execute_result"
    }
   ],
   "source": [
    "# 키워드 파라미터 kwargs\n",
    "def print_kwargs(**kwargs):\n",
    "    print(kwargs)\n",
    "\n",
    "print_kwargs(a=1)\n",
    "print_kwargs(name='foo', age=3)\n",
    "\"\"\"\n",
    "키워드 파라미터를 사용할 때는 매개변수 앞에 별 두 개(**)를 붙임\n",
    "**kwargs처럼 매개변수 이름 앞에 **을 붙이면 매개변수 kwargs는 딕셔너리가 되고 모든 key=value 형태의 결과값이 그 딕셔너리에 저장됨\n",
    "\"\"\""
   ]
  },
  {
   "cell_type": "code",
   "execution_count": 10,
   "id": "a4e20f45",
   "metadata": {},
   "outputs": [
    {
     "name": "stdout",
     "output_type": "stream",
     "text": [
      "1\n"
     ]
    }
   ],
   "source": [
    "# 함수 안에서 선언한 변수의 효력 범위\n",
    "a = 1\n",
    "def vartest(a):\n",
    "    a = a+1\n",
    "\n",
    "vartest(a)\n",
    "print(a)"
   ]
  },
  {
   "cell_type": "code",
   "execution_count": 1,
   "id": "aa41f435",
   "metadata": {},
   "outputs": [
    {
     "ename": "NameError",
     "evalue": "name 'a' is not defined",
     "output_type": "error",
     "traceback": [
      "\u001b[0;31m---------------------------------------------------------------------------\u001b[0m",
      "\u001b[0;31mNameError\u001b[0m                                 Traceback (most recent call last)",
      "Input \u001b[0;32mIn [1]\u001b[0m, in \u001b[0;36m<cell line: 5>\u001b[0;34m()\u001b[0m\n\u001b[1;32m      2\u001b[0m     a \u001b[38;5;241m=\u001b[39m a \u001b[38;5;241m+\u001b[39m \u001b[38;5;241m1\u001b[39m\n\u001b[1;32m      4\u001b[0m vartest(\u001b[38;5;241m3\u001b[39m)\n\u001b[0;32m----> 5\u001b[0m \u001b[38;5;28mprint\u001b[39m(\u001b[43ma\u001b[49m)\n\u001b[1;32m      6\u001b[0m \u001b[38;5;124;03m\"\"\"\u001b[39;00m\n\u001b[1;32m      7\u001b[0m \u001b[38;5;124;03mprint(a)에서 오류 발생.\u001b[39;00m\n\u001b[1;32m      8\u001b[0m \u001b[38;5;124;03m\"\"\"\u001b[39;00m\n",
      "\u001b[0;31mNameError\u001b[0m: name 'a' is not defined"
     ]
    }
   ],
   "source": [
    "def vartest(a):\n",
    "    a = a + 1\n",
    "\n",
    "vartest(3)\n",
    "print(a)\n",
    "\"\"\"\n",
    "print(a)에서 오류 발생.\n",
    "\"\"\""
   ]
  },
  {
   "cell_type": "code",
   "execution_count": 2,
   "id": "ebe879fb",
   "metadata": {},
   "outputs": [
    {
     "name": "stdout",
     "output_type": "stream",
     "text": [
      "2\n",
      "2\n"
     ]
    }
   ],
   "source": [
    "# 함수 안에서 함수 밖의 변수를 변경하는 방법\n",
    "#1. return 사용하기\n",
    "a = 1\n",
    "def vartest(a):\n",
    "    a = a+1\n",
    "    return a\n",
    "\n",
    "a = vartest(a)\n",
    "print(a)\n",
    "\n",
    "#2. global 명령어 사용하기\n",
    "a = 1\n",
    "def vartest():\n",
    "    global a\n",
    "    a = a+1\n",
    "\n",
    "vartest()\n",
    "print(a)"
   ]
  },
  {
   "cell_type": "code",
   "execution_count": 3,
   "id": "302ceb21",
   "metadata": {},
   "outputs": [
    {
     "name": "stdout",
     "output_type": "stream",
     "text": [
      "7\n"
     ]
    }
   ],
   "source": [
    "# lambda\n",
    "add = lambda a, b: a+b\n",
    "result = add(3,4)\n",
    "print(result)"
   ]
  },
  {
   "cell_type": "markdown",
   "id": "926503b5",
   "metadata": {},
   "source": [
    "# File Read & Write, Add"
   ]
  },
  {
   "cell_type": "code",
   "execution_count": null,
   "id": "a97c4448",
   "metadata": {},
   "outputs": [],
   "source": [
    "# 파일 생성하기\n",
    "\"\"\"\n",
    "f = open(\"새파일.txt\", 'w')\n",
    "f.close()\n",
    "\"\"\"\n",
    "\"\"\"\n",
    "파일 객체 = open(파일 이름, 파일 열기 모드)\n",
    "\n",
    "파일열기모드\t설명\n",
    "r\t읽기모드 - 파일을 읽기만 할 때 사용\n",
    "w\t쓰기모드 - 파일에 내용을 쓸 때 사용\n",
    "a\t추가모드 - 파일의 마지막에 새로운 내용을 추가 시킬 때 사용\n",
    "\n",
    "새파일.txt 파일을 C:/doit 디렉터리에 생성할 때,\n",
    "\n",
    "f = open(\"C:/doit/새파일.txt\", 'w')\n",
    "f.close()\n",
    "\n",
    "f.close()는 열려 있는 파일 객체를 닫아 주는 역할\n",
    "쓰기모드로 열었던 파일을 닫지 않고 다시 사용하려고 하면 오류가 발생\n",
    "\n",
    "파일 경로와 슬래시(/)\n",
    "\n",
    "파이썬 코드에서 파일 경로를 표시할 때 \"C:/doit/새파일.txt\" 처럼 슬래시(/)를 사용할 수 있다.\n",
    "만약 역슬래시(\\)를 사용한다면 \"C:\\\\doit\\\\새파일.txt\" 처럼 역슬래시를 2개 사용하거나\n",
    "r\"C:\\doit\\새파일.txt\"와 같이 문자열 앞에 r 문자(Raw String)를 덧붙여 사용\n",
    "(\"C:\\note\\test.txt\"처럼 파일 경로에 \\n과 같은 이스케이프 문자가 있을 경우 줄바꿈 문자로 해석되어 의도했던 파일 경로와 달라지는 경우가 생김)\n",
    "\"\"\""
   ]
  }
 ],
 "metadata": {
  "kernelspec": {
   "display_name": "Python 3 (ipykernel)",
   "language": "python",
   "name": "python3"
  },
  "language_info": {
   "codemirror_mode": {
    "name": "ipython",
    "version": 3
   },
   "file_extension": ".py",
   "mimetype": "text/x-python",
   "name": "python",
   "nbconvert_exporter": "python",
   "pygments_lexer": "ipython3",
   "version": "3.9.12"
  }
 },
 "nbformat": 4,
 "nbformat_minor": 5
}
