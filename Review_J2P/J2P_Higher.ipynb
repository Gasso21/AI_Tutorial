{
 "cells": [
  {
   "cell_type": "markdown",
   "id": "f4670432",
   "metadata": {},
   "source": [
    "# Class\n",
    "- **객체**와 **인스턴스**의 차이\n",
    "    - 클래스로 만든 객체를 인스턴스라고 함\n",
    "    `a = Cookie()`: a는 그 자체로 객체임과 동시에 Cookie의 인스턴스\n",
    "    - 즉, 인스턴스라는 말은 특정 객체(a)가 어떤 클래스(Cookie)의 객체인지를 **관계위주**로 설명할 때 사용\n",
    "- **메서드(Method)**: 클래스 안에 구현된 함수  "
   ]
  },
  {
   "cell_type": "code",
   "execution_count": 1,
   "id": "474a5dbb",
   "metadata": {},
   "outputs": [],
   "source": [
    "class FourCal:\n",
    "    def setdata(self, first, second):\n",
    "        self.first = first\n",
    "        self.second = second\n",
    "a = FourCal()\n",
    "a.setdata(4, 2)"
   ]
  },
  {
   "cell_type": "markdown",
   "id": "5a5d8820",
   "metadata": {},
   "source": [
    "- setdata 메서드의 첫번째 매개변수 self에는 setdata 메서드를 호출한 객체 a가 자동으로 전달됌\n",
    "- 또다른 메서드 호출 방법   "
   ]
  },
  {
   "cell_type": "code",
   "execution_count": 2,
   "id": "12a7e68b",
   "metadata": {},
   "outputs": [],
   "source": [
    "a = FourCal()\n",
    "FourCal.setdata(a, 4, 2)"
   ]
  },
  {
   "cell_type": "markdown",
   "id": "1554978a",
   "metadata": {},
   "source": [
    "- '클래스이름.메서드' 형태로 호출할 때는 객체 a를 첫 번째 매개변수 self에 꼭 전달해 줘야함"
   ]
  },
  {
   "cell_type": "markdown",
   "id": "ac43ff85",
   "metadata": {},
   "source": [
    "- **생성자(Constructor)**\n",
    "    - 객체에 초기값을 설정해야할 필요가 있을 때 생성자를 구현\n",
    "    - 생성자란, 객체가 생성될 때 자동으로 호출되는 '메서드'\n",
    "    - `__init__`"
   ]
  },
  {
   "cell_type": "markdown",
   "id": "4e56881e",
   "metadata": {},
   "source": [
    "`a = FourCal(4, 2)`\n",
    "- **매개변수**: 값\n",
    "- **self**: 생성되는 객체\n",
    "- **first**: 4\n",
    "- **second**: 2"
   ]
  },
  {
   "cell_type": "code",
   "execution_count": null,
   "id": "8d5e814b",
   "metadata": {},
   "outputs": [],
   "source": [
    "#클래스의 상속\n",
    "class MoreFourCal(FourCal):\n",
    "    pass"
   ]
  },
  {
   "cell_type": "markdown",
   "id": "a0826dd1",
   "metadata": {},
   "source": [
    "- 클래스 이름 뒤 괄호 안에 상속할 클래스 이름을 넣음\n",
    "- 상속은 기존 클래스를 변경하지 않고 기능을 추가하거나 기존 기능을 변경하려고 할 때 사용\n",
    "- 기존 클래스가 라이브러리 형태로 제공되거나 수정이 허용되지 않는 상황이라면 상속을 사용"
   ]
  },
  {
   "cell_type": "code",
   "execution_count": 1,
   "id": "b17faabf",
   "metadata": {},
   "outputs": [
    {
     "name": "stdout",
     "output_type": "stream",
     "text": [
      "16\n"
     ]
    }
   ],
   "source": [
    "class FourCal:\n",
    "    def __init__(self, first, second): #setdata 메서드와 모든게 동일하지만, 생성자로서 객체가 생성되는 시점에 자동으로 호출되는 차이가 있음\n",
    "        self.first = first\n",
    "        self.second = second\n",
    "    \n",
    "    def setdata(self, first, second):\n",
    "        self.first = first\n",
    "        self.second = second\n",
    "        \n",
    "    def add(self):\n",
    "        return self.first+self.second\n",
    "    \n",
    "    def mul(self):\n",
    "        return self.first*self.second\n",
    "    \n",
    "    def sub(self):\n",
    "        return self.first-self.second\n",
    "    \n",
    "    def div(self):\n",
    "        return self.first/self.second\n",
    "\n",
    "class MoreFourCal(FourCal): # Inherit\n",
    "    def pow(self):\n",
    "        return self.first**self.second\n",
    "    \n",
    "a = MoreFourCal(4, 2)\n",
    "print(a.pow())"
   ]
  },
  {
   "cell_type": "markdown",
   "id": "82ba697f",
   "metadata": {},
   "source": [
    "- **Overriding**   \n",
    "    - 부모 클래스(상속한 클래스)에 있는 메서드를 동일한 이름으로 다시 만듬\n",
    "    - 메서드를 오버라이딩하면 부모클래스의 메서드 대신 오버라이딩한 메서드가 호출"
   ]
  },
  {
   "cell_type": "code",
   "execution_count": 2,
   "id": "8922aa04",
   "metadata": {},
   "outputs": [
    {
     "name": "stdout",
     "output_type": "stream",
     "text": [
      "0\n"
     ]
    }
   ],
   "source": [
    "class SafeFourCal(FourCal):\n",
    "    def div(self):\n",
    "        if self.second == 0:\n",
    "            return 0\n",
    "        else:\n",
    "            return self.first / self.second\n",
    "\n",
    "a = SafeFourCal(4, 0)\n",
    "print(a.div())"
   ]
  },
  {
   "cell_type": "markdown",
   "id": "856c64da",
   "metadata": {},
   "source": [
    "- **Class Variable**\n",
    "    - <u>**클래스이름.클래스변수**</u> 로 사용할 수 있음"
   ]
  },
  {
   "cell_type": "code",
   "execution_count": 10,
   "id": "7da837d2",
   "metadata": {},
   "outputs": [
    {
     "name": "stdout",
     "output_type": "stream",
     "text": [
      "김\n",
      "김\n",
      "김\n",
      "박\n",
      "박\n",
      "4451208768\n",
      "4451208768\n",
      "4451208768\n"
     ]
    }
   ],
   "source": [
    "class Family:\n",
    "    lastname = \"김\"\n",
    "print(Family.lastname)\n",
    "\n",
    "a = Family()\n",
    "b = Family()\n",
    "print(a.lastname)\n",
    "print(b.lastname)\n",
    "\n",
    "# 클래스 변수는 클래스로 만든 모든 객체에 공유됨\n",
    "Family.lastname = '박'\n",
    "print(a.lastname)\n",
    "print(b.lastname)\n",
    "\n",
    "# 같은 메모리를 가르킴\n",
    "print(id(Family.lastname))\n",
    "print(id(a.lastname))\n",
    "print(id(b.lastname))"
   ]
  },
  {
   "cell_type": "markdown",
   "id": "6508e54e",
   "metadata": {},
   "source": [
    "# Module"
   ]
  },
  {
   "cell_type": "markdown",
   "id": "582662a5",
   "metadata": {},
   "source": [
    "`if __name__ == \"__main__\":`을 사용하면  \n",
    "파일을 직접 실행했을 때는 `__name__ == \"__main__\"`이 참이되어 if문 다음 문장이 수행되며  \n",
    "반대로 대화형 인터프리터나 다른 파일에서 이 모듈을 불러서 사용할 때는 거짓이 되어 수행되지 않는다.\n",
    "- `__name__` 변수란\n",
    "    - 파이썬이 내부적으로 사용하는 특별한 변수 이름\n",
    "    - 직접 mod.py 을 실행할 경우 mod.py의 `__name__`변수에는 `__main__`값이 저장\n",
    "    - 다른 모듈에서 mod.py를 import할 경우 mod.py의 `__name__`변수에는 mod.py의 모듈 이름값이 저장"
   ]
  },
  {
   "cell_type": "markdown",
   "id": "c45a10d7",
   "metadata": {},
   "source": [
    "# Package\n",
    "- 도트(.)를 사용하여 파이썬 모듈을 계층적(디렉터리 구조)로 관리할 수 있게 함"
   ]
  },
  {
   "cell_type": "code",
   "execution_count": 1,
   "id": "7c7f74c1",
   "metadata": {},
   "outputs": [
    {
     "data": {
      "text/plain": [
       "'\\ngame/\\n    __init__.py\\n    sound/\\n        __init__.py\\n        echo.py\\n        wav.py\\n    graphic/\\n        __init__.py\\n        screen.py\\n        render.py\\n    play/\\n        __init__.py\\n        run.py\\n        test.py\\n        \\ngame, sound, graphic, play는 디렉터리이고 확장자가 .py인 파일은 파이썬 모듈이다.\\ngame 디렉터리가 이 패키지의 루트 디렉터리이고 sound, graphic, play는 서브 디렉터리이다.\\n\\n패키지 구조로 파이썬 프로그램을 만드는 것이 공동 작업이나 유지 보수 등 여러 면에서 유리\\n패키지 구조로 모듈을 만들면 다른 모듈과 이름이 겹치더라도 더 안전하게 사용할 수 있음\\n'"
      ]
     },
     "execution_count": 1,
     "metadata": {},
     "output_type": "execute_result"
    }
   ],
   "source": [
    "#가상의 game 패키지 예\n",
    "\"\"\"\n",
    "game/\n",
    "    __init__.py\n",
    "    sound/\n",
    "        __init__.py\n",
    "        echo.py\n",
    "        wav.py\n",
    "    graphic/\n",
    "        __init__.py\n",
    "        screen.py\n",
    "        render.py\n",
    "    play/\n",
    "        __init__.py\n",
    "        run.py\n",
    "        test.py\n",
    "        \n",
    "game, sound, graphic, play는 디렉터리이고 확장자가 .py인 파일은 파이썬 모듈이다.\n",
    "game 디렉터리가 이 패키지의 루트 디렉터리이고 sound, graphic, play는 서브 디렉터리이다.\n",
    "\n",
    "패키지 구조로 파이썬 프로그램을 만드는 것이 공동 작업이나 유지 보수 등 여러 면에서 유리\n",
    "패키지 구조로 모듈을 만들면 다른 모듈과 이름이 겹치더라도 더 안전하게 사용할 수 있음\n",
    "\"\"\""
   ]
  },
  {
   "cell_type": "markdown",
   "id": "79bbbd7c",
   "metadata": {},
   "source": [
    "`__init__.py`의 용도\n",
    "- 해당 디렉터리가 패키지의 일부임을 알려주는 역할\n",
    "- 특정 디렉터리의 모듈을 *를 사용하여 import할 때에는 다음과 같이 해당 디렉터리의 `__init__.py` 파일에 `__all__` 변수를 설정하고 import할 수 있는 모듈을 정의해주어야한다.\n",
    "\n",
    "`# C:/doit/game/sound/__init__.py\n",
    "__all__ = ['echo']`\n",
    "\n",
    "여기서 `__all__`이 의미하는 것은 sound 디렉터리에서 * 기호를 사용하여 import할 경우 이곳에 정의된 echo 모듈만 import된다는 의미"
   ]
  },
  {
   "cell_type": "code",
   "execution_count": 2,
   "id": "eb23d5c8",
   "metadata": {},
   "outputs": [
    {
     "data": {
      "text/plain": [
       "'\\ngraphic 디렉터리의 render.py 모듈이 sound 디렉터리의 echo.py 모듈을 사용할 때\\n\\n# render.py\\nfrom game.sound.echo import echo_test\\ndef render_test():\\n    print(\"render\")\\n    echo_test()\\n\\n와 같이 전체 경로를 사용하여 import할 수도 있지만,\\nrelative한 접근자를 사용할 수도 있다.\\n\\n.. – 부모 디렉터리\\n. – 현재 디렉터리\\n'"
      ]
     },
     "execution_count": 2,
     "metadata": {},
     "output_type": "execute_result"
    }
   ],
   "source": [
    "#relative 패키지\n",
    "\"\"\"\n",
    "graphic 디렉터리의 render.py 모듈이 sound 디렉터리의 echo.py 모듈을 사용할 때\n",
    "\n",
    "# render.py\n",
    "from game.sound.echo import echo_test\n",
    "def render_test():\n",
    "    print(\"render\")\n",
    "    echo_test()\n",
    "\n",
    "와 같이 전체 경로를 사용하여 import할 수도 있지만,\n",
    "relative한 접근자를 사용할 수도 있다.\n",
    "\n",
    ".. – 부모 디렉터리\n",
    ". – 현재 디렉터리\n",
    "\"\"\""
   ]
  },
  {
   "cell_type": "markdown",
   "id": "a5992cea",
   "metadata": {},
   "source": [
    "# Python Built-in Function"
   ]
  },
  {
   "cell_type": "markdown",
   "id": "0c9c5572",
   "metadata": {},
   "source": [
    "- all\n",
    "    - iterable 자료형 x를 입력 인수로 받아 이 x 요소가 모두 참이면 True, 하나라도 거짓이면 False\n",
    "\n",
    "- any\n",
    "    - iterable 자료형 x를 입력 인수로 받아 하나라도 참이면 True, 전부 거짓이면 False\n",
    "\n",
    "- dir\n",
    "    - 자체적으로 가지고 있는 변수나 함수를 보여줌\n",
    "\n",
    "- divmod\n",
    "    - `divmod(a, b)`는 2개의 숫자를 입력으로 받음\n",
    "    - a를 b로 나눈 몫과 나머지를 튜플 형태로 돌려주는 함수\n",
    "\n",
    "- enumerate\n",
    "    - iterable 자료형(List, Tuple, String)을 입력으로 받아 인덱스를 포함하는 enumerate 객체를 반환\n",
    "    - for문과 함께 자주 사용\n",
    "\n",
    "- eval\n",
    "    - `eval(expression)`은 실행 가능한 문자열(1+2, 'hi'+'a' 등)을 입력으로 받아 문자열을 실행한 결과값을 돌려주는 함수\n",
    "    - 입력받은 문자열로 파이썬 함수나 클래스를 동적으로 실행하고 싶을 때 사용\n",
    "    \n",
    "- filter\n",
    "    - 첫 번째 인수로 함수 이름을\n",
    "    - 두 번째 인수로 그 함수에 차례대로 들어갈 iterable 자료형을\n",
    "    - 두 번째 인수가 첫 번째 인수에 입력되었을 때 반환값 중 참값만 돌려줌\n",
    "\n",
    "- map\n",
    "    - 첫 번째 인수로 함수 이름을\n",
    "    - 두 번째 인수로 그 함수에 차례대로 들어갈 iterable 자료형을\n",
    "    - 두 번째 인수가 첫 번째 인수에 입력되었을 때 반환값들을 돌려줌\n",
    "\n",
    "- sorted\n",
    "    - `sorted(iterable)`함수는 입력값을 정렬한 후 그 결과를 리스트로 돌려주는 함수\n",
    "    \n",
    "- zip\n",
    "    - `zip(*iterable)`은 동일한 개수로 이뤄진 자료형을 묶어주는 역할을 하는 함수"
   ]
  },
  {
   "cell_type": "code",
   "execution_count": 7,
   "id": "45c8cbcf",
   "metadata": {},
   "outputs": [
    {
     "name": "stdout",
     "output_type": "stream",
     "text": [
      "['__add__', '__class__', '__class_getitem__', '__contains__', '__delattr__', '__delitem__', '__dir__', '__doc__', '__eq__', '__format__', '__ge__', '__getattribute__', '__getitem__', '__gt__', '__hash__', '__iadd__', '__imul__', '__init__', '__init_subclass__', '__iter__', '__le__', '__len__', '__lt__', '__mul__', '__ne__', '__new__', '__reduce__', '__reduce_ex__', '__repr__', '__reversed__', '__rmul__', '__setattr__', '__setitem__', '__sizeof__', '__str__', '__subclasshook__', 'append', 'clear', 'copy', 'count', 'extend', 'index', 'insert', 'pop', 'remove', 'reverse', 'sort']\n",
      "(2, 1)\n"
     ]
    }
   ],
   "source": [
    "print(dir([1, 2, 3, 4]))\n",
    "print(divmod(7, 3))"
   ]
  },
  {
   "cell_type": "code",
   "execution_count": 8,
   "id": "45128505",
   "metadata": {},
   "outputs": [
    {
     "name": "stdout",
     "output_type": "stream",
     "text": [
      "3\n",
      "hia\n",
      "(1, 1)\n"
     ]
    }
   ],
   "source": [
    "print(eval('1+2'))\n",
    "print(eval(\"'hi' + 'a'\"))\n",
    "print(eval('divmod(4, 3)'))"
   ]
  },
  {
   "cell_type": "code",
   "execution_count": 9,
   "id": "2625ed0a",
   "metadata": {},
   "outputs": [
    {
     "name": "stdout",
     "output_type": "stream",
     "text": [
      "[1, 2, 6]\n",
      "[1, 2, 6]\n"
     ]
    }
   ],
   "source": [
    "def positive(l):\n",
    "    result = []\n",
    "    for i in l:\n",
    "        if i > 0:\n",
    "            result.append(i)\n",
    "    return result\n",
    "\n",
    "print(positive([1, -3, 2, 0, -5, 6]))\n",
    "\n",
    "def positive(x):\n",
    "    return x>0\n",
    "\n",
    "print(list(filter(positive, [1, -3, 2, 0, -5, 6])))"
   ]
  },
  {
   "cell_type": "code",
   "execution_count": 10,
   "id": "15296843",
   "metadata": {
    "scrolled": true
   },
   "outputs": [
    {
     "name": "stdout",
     "output_type": "stream",
     "text": [
      "[(1, 4), (2, 5), (3, 6)]\n",
      "[(1, 4, 7), (2, 5, 8), (3, 6, 9)]\n",
      "[('a', 'd'), ('b', 'e'), ('c', 'f')]\n"
     ]
    }
   ],
   "source": [
    "print(list(zip([1, 2, 3], [4, 5, 6])))\n",
    "print(list(zip([1, 2, 3], [4, 5, 6], [7, 8, 9])))\n",
    "print(list(zip(\"abc\", \"def\")))"
   ]
  },
  {
   "cell_type": "markdown",
   "id": "115e9f91",
   "metadata": {},
   "source": [
    "# Library"
   ]
  },
  {
   "cell_type": "markdown",
   "id": "57325110",
   "metadata": {},
   "source": [
    "## pickle\n",
    "- 객체의 형태를 그대로 유지하면서 파일에 저장하고 불러올 수 있게 하는 모듈\n",
    "- pickle 모듈의 dump 함수를 사용하여 딕셔너리 객체인 data를 그대로 파일에 저장하는 방법"
   ]
  },
  {
   "cell_type": "code",
   "execution_count": 1,
   "id": "1f7813aa",
   "metadata": {},
   "outputs": [
    {
     "data": {
      "text/plain": [
       "'\\nimport pickle\\nf = open(\"test.txt\", \\'wb\\')\\ndata = {1: \\'python\\', 2: \\'you need\\'}\\npickle.dump(data, f)\\nf.close()\\n\\nimport pickle\\nf = open(\"test.txt\", \\'rb\\')\\ndata = pickle.load(f)\\nprint(data)\\n>>> {2:\\'you need\\', 1:\\'python\\'}\\n'"
      ]
     },
     "execution_count": 1,
     "metadata": {},
     "output_type": "execute_result"
    }
   ],
   "source": [
    "\"\"\"\n",
    "import pickle\n",
    "f = open(\"test.txt\", 'wb')\n",
    "data = {1: 'python', 2: 'you need'}\n",
    "pickle.dump(data, f)\n",
    "f.close()\n",
    "\n",
    "import pickle\n",
    "f = open(\"test.txt\", 'rb')\n",
    "data = pickle.load(f)\n",
    "print(data)\n",
    ">>> {2:'you need', 1:'python'}\n",
    "\"\"\""
   ]
  },
  {
   "cell_type": "markdown",
   "id": "f90d141b",
   "metadata": {},
   "source": [
    "## os\n",
    "- 환경변수나 디렉터리, 파일 등의 os 자원을 제어할 수 있게 해주는 모듈\n",
    "\n",
    "- **os.environ**\n",
    "    - 내 시스템의 환경 변수값을 알고 싶을 때\n",
    "    - 딕셔터리형 객체 출력\n",
    "- **os.envrion['PATH']**\n",
    "    - String Type\n",
    "- **os.chdir**\n",
    "    - 현재 디렉터리 위치 변경\n",
    "- **os.getcwd**\n",
    "    - 현재 자신의 디렉터리 위치를 돌려줌\n",
    "- **os.system(\"명령어\")**\n",
    "    - 시스템 자체의 프로그램이나 기타 명령어를 파이썬에서 호출\n",
    "    - `os.system(\"dir\")`\n",
    "- **f = os.popen(\"dir\")**\n",
    "    - 시스템 명령어를 실행한 결과값을 읽기 모드 형태의 파일 객체로 돌려줌\n",
    "    - 읽어들인 파일 객체의 내용을 보기위해서는 다음과 같이 실행\n",
    "    - `print(f.read())`\n",
    "- **os.mkdir(디렉터리)**\n",
    "    - 디렉터리를 생성\n",
    "- **os.rmdir(디렉터리)**\n",
    "    - 디렉터리를 삭제\n",
    "    - 단, 디렉터리가 비워져 있어야 함\n",
    "- **os.unlink(파일)**\n",
    "    - 파일을 지움\n",
    "- **os.rename(src, dst)**\n",
    "    - src라는 이름의 파일을 dst라는 이름으로 바꿈"
   ]
  },
  {
   "cell_type": "markdown",
   "id": "662a6f85",
   "metadata": {},
   "source": [
    "## shutil\n",
    "- 파일을 복사해주는 파이썬 모듈\n",
    "- `shutil.copy(\"src.txt\", \"dst.txt\")`\n",
    "    - src.txt 파일과 동일한 내용의 파일이 dst.txt로 복사"
   ]
  },
  {
   "cell_type": "markdown",
   "id": "54569162",
   "metadata": {},
   "source": [
    "## glob\n",
    "- 특정 디렉터리 내에 모든 파일 이름을 알고싶을 때\n",
    "- `glob(pathname)`\n",
    "    - `glob.glob(\"c:/doit/mark*\")`\n",
    "    - `>>>['c:/doit\\\\marks1.py', 'c:/doit\\\\marks2.py', 'c:/doit\\\\marks3.py']`\n"
   ]
  },
  {
   "cell_type": "markdown",
   "id": "eee8834c",
   "metadata": {},
   "source": [
    "## tempfile\n",
    "- 파일을 임시로 만들어서 사용할 때\n",
    "- `tempfile.mkstemp()`는 중복되지 않는 임시 파일의 이름을 무작위로 만들어서 돌려줌\n",
    "- `tempfile.TemporaryFile()`은 임시 저장 공간으로 사용할 파일 객체를 돌려줌\n",
    "    - 이 파일은 기본적으로 바이너리 쓰기모드(wb)를 갖음\n",
    "    - `f.close()`가 호출되면 이 파일 객체는 자동으로 사라짐"
   ]
  },
  {
   "cell_type": "markdown",
   "id": "66f88263",
   "metadata": {},
   "source": [
    "## time\n",
    "- UTC를 사용하여 현재 시간을 실수 형태로 돌려주는 함수\n",
    "- 1970년 1월 1일 0시 0분 0초를 기준"
   ]
  },
  {
   "cell_type": "code",
   "execution_count": 5,
   "id": "7b09a880",
   "metadata": {},
   "outputs": [
    {
     "name": "stdout",
     "output_type": "stream",
     "text": [
      "1667110334.7400131\n"
     ]
    }
   ],
   "source": [
    "import time\n",
    "print(time.time())"
   ]
  },
  {
   "cell_type": "code",
   "execution_count": 6,
   "id": "3bd7695a",
   "metadata": {},
   "outputs": [
    {
     "name": "stdout",
     "output_type": "stream",
     "text": [
      "time.struct_time(tm_year=2022, tm_mon=10, tm_mday=30, tm_hour=15, tm_min=12, tm_sec=46, tm_wday=6, tm_yday=303, tm_isdst=0)\n"
     ]
    }
   ],
   "source": [
    "# time.time()이 돌려준 실수값을 사용해서 연도,월,일,시,분,초, ...의 형태로 바꿔주는 함수\n",
    "print(time.localtime(time.time()))"
   ]
  },
  {
   "cell_type": "code",
   "execution_count": 7,
   "id": "67f1d7de",
   "metadata": {},
   "outputs": [
    {
     "name": "stdout",
     "output_type": "stream",
     "text": [
      "Sun Oct 30 15:13:35 2022\n"
     ]
    }
   ],
   "source": [
    "# 위 time.localtime에 의해서 반환된 튜플 형태의 값을 인수로 ㅂ다아서 날짜와 시간을 알아보기 쉬운 형태로 돌려주는 함수\n",
    "print(time.asctime(time.localtime(time.time())))"
   ]
  },
  {
   "cell_type": "code",
   "execution_count": 8,
   "id": "73f07c36",
   "metadata": {},
   "outputs": [
    {
     "name": "stdout",
     "output_type": "stream",
     "text": [
      "Sun Oct 30 15:14:12 2022\n"
     ]
    }
   ],
   "source": [
    "# time.asctime(time.localtime(time.time()))은 time.ctime()을 사용해 간편하게 표시할 수 있다.\n",
    "print(time.ctime())"
   ]
  },
  {
   "cell_type": "code",
   "execution_count": 11,
   "id": "f8d8cb1e",
   "metadata": {},
   "outputs": [
    {
     "name": "stdout",
     "output_type": "stream",
     "text": [
      "10/30/22\n",
      "Sun Oct 30 15:15:10 2022\n"
     ]
    }
   ],
   "source": [
    "# time.strftime('출력할 형식 포맷 코드', time.localtime(time.time()))\n",
    "\"\"\"\n",
    "strftime 함수는 시간에 관계된 것을 세밀하게 표현하는 여러 가지 포맷 코드를 제공한다.\n",
    "시간에 관계된 것을 표현하는 포맷 코드\n",
    "\n",
    "포맷코드\t설명\t예\n",
    "%a\t요일 줄임말\t                        Mon\n",
    "%A\t요일\t                                Monday\n",
    "%b\t달 줄임말\t                        Jan\n",
    "%B\t달\t                                January\n",
    "%c\t날짜와 시간을 출력함\t                06/01/01 17:22:21\n",
    "%d\t날(day)\t                            [01,31]\n",
    "%H\t시간(hour)-24시간 출력 형태\t        [00,23]\n",
    "%I\t시간(hour)-12시간 출력 형태\t        [01,12]\n",
    "%j\t1년 중 누적 날짜\t                    [001,366]\n",
    "%m\t달\t                                [01,12]\n",
    "%M\t분\t                                [01,59]\n",
    "%p\tAM or PM\t                        AM\n",
    "%S\t초\t                                [00,59]\n",
    "%U\t1년 중 누적 주-일요일을 시작으로\t        [00,53]\n",
    "%w\t숫자로 된 요일\t                    [0(일요일),6]\n",
    "%W\t1년 중 누적 주-월요일을 시작으로\t        [00,53]\n",
    "%x\t현재 설정된 로케일에 기반한 날짜 출력\t    06/01/01\n",
    "%X\t현재 설정된 로케일에 기반한 시간 출력\t    17:22:21\n",
    "%Y\t년도 출력\t                        2001\n",
    "%Z\t시간대 출력\t                        대한민국 표준시\n",
    "%%\t문자\t                               %\n",
    "%y\t세기부분을 제외한 년도 출력\t            01\n",
    "\"\"\"\n",
    "print(time.strftime('%x', time.localtime(time.time())))\n",
    "print(time.strftime('%c', time.localtime(time.time())))"
   ]
  },
  {
   "cell_type": "code",
   "execution_count": 13,
   "id": "d8cd30d8",
   "metadata": {},
   "outputs": [
    {
     "name": "stdout",
     "output_type": "stream",
     "text": [
      "0\n",
      "1\n",
      "2\n",
      "3\n",
      "4\n",
      "5\n",
      "6\n",
      "7\n",
      "8\n",
      "9\n"
     ]
    }
   ],
   "source": [
    "# time.sleep 함수는 주로 루프 안에서 많이 사용한다.\n",
    "# 이 함수를 사용하면 일정한 시간 간격을 두고 루프를 실행할 수 있다.\n",
    "for i in range(10):\n",
    "    print(i)\n",
    "    time.sleep(1)\n",
    "# time.sleep 함수의 인수는 실수 형태\n",
    "# 즉 1이면 1초, 0.5면 0.5초"
   ]
  },
  {
   "cell_type": "markdown",
   "id": "9712dd2a",
   "metadata": {},
   "source": [
    "## calendar\n",
    "- calendar.calendar(연도)로 사용하면 그해의 전체 달력을 볼 수 있다.\n",
    "- calendar.prcal(연도)를 사용해도 위와 똑같은 결괏값을 얻을 수 있다."
   ]
  },
  {
   "cell_type": "code",
   "execution_count": 17,
   "id": "823d9b61",
   "metadata": {},
   "outputs": [
    {
     "name": "stdout",
     "output_type": "stream",
     "text": [
      "                                  2022\n",
      "\n",
      "      January                   February                   March\n",
      "Mo Tu We Th Fr Sa Su      Mo Tu We Th Fr Sa Su      Mo Tu We Th Fr Sa Su\n",
      "                1  2          1  2  3  4  5  6          1  2  3  4  5  6\n",
      " 3  4  5  6  7  8  9       7  8  9 10 11 12 13       7  8  9 10 11 12 13\n",
      "10 11 12 13 14 15 16      14 15 16 17 18 19 20      14 15 16 17 18 19 20\n",
      "17 18 19 20 21 22 23      21 22 23 24 25 26 27      21 22 23 24 25 26 27\n",
      "24 25 26 27 28 29 30      28                        28 29 30 31\n",
      "31\n",
      "\n",
      "       April                      May                       June\n",
      "Mo Tu We Th Fr Sa Su      Mo Tu We Th Fr Sa Su      Mo Tu We Th Fr Sa Su\n",
      "             1  2  3                         1             1  2  3  4  5\n",
      " 4  5  6  7  8  9 10       2  3  4  5  6  7  8       6  7  8  9 10 11 12\n",
      "11 12 13 14 15 16 17       9 10 11 12 13 14 15      13 14 15 16 17 18 19\n",
      "18 19 20 21 22 23 24      16 17 18 19 20 21 22      20 21 22 23 24 25 26\n",
      "25 26 27 28 29 30         23 24 25 26 27 28 29      27 28 29 30\n",
      "                          30 31\n",
      "\n",
      "        July                     August                  September\n",
      "Mo Tu We Th Fr Sa Su      Mo Tu We Th Fr Sa Su      Mo Tu We Th Fr Sa Su\n",
      "             1  2  3       1  2  3  4  5  6  7                1  2  3  4\n",
      " 4  5  6  7  8  9 10       8  9 10 11 12 13 14       5  6  7  8  9 10 11\n",
      "11 12 13 14 15 16 17      15 16 17 18 19 20 21      12 13 14 15 16 17 18\n",
      "18 19 20 21 22 23 24      22 23 24 25 26 27 28      19 20 21 22 23 24 25\n",
      "25 26 27 28 29 30 31      29 30 31                  26 27 28 29 30\n",
      "\n",
      "      October                   November                  December\n",
      "Mo Tu We Th Fr Sa Su      Mo Tu We Th Fr Sa Su      Mo Tu We Th Fr Sa Su\n",
      "                1  2          1  2  3  4  5  6                1  2  3  4\n",
      " 3  4  5  6  7  8  9       7  8  9 10 11 12 13       5  6  7  8  9 10 11\n",
      "10 11 12 13 14 15 16      14 15 16 17 18 19 20      12 13 14 15 16 17 18\n",
      "17 18 19 20 21 22 23      21 22 23 24 25 26 27      19 20 21 22 23 24 25\n",
      "24 25 26 27 28 29 30      28 29 30                  26 27 28 29 30 31\n",
      "31\n",
      "\n"
     ]
    }
   ],
   "source": [
    "import calendar\n",
    "print(calendar.calendar(2022))"
   ]
  },
  {
   "cell_type": "code",
   "execution_count": 19,
   "id": "551d7824",
   "metadata": {},
   "outputs": [
    {
     "name": "stdout",
     "output_type": "stream",
     "text": [
      "                                  2022\n",
      "\n",
      "      January                   February                   March\n",
      "Mo Tu We Th Fr Sa Su      Mo Tu We Th Fr Sa Su      Mo Tu We Th Fr Sa Su\n",
      "                1  2          1  2  3  4  5  6          1  2  3  4  5  6\n",
      " 3  4  5  6  7  8  9       7  8  9 10 11 12 13       7  8  9 10 11 12 13\n",
      "10 11 12 13 14 15 16      14 15 16 17 18 19 20      14 15 16 17 18 19 20\n",
      "17 18 19 20 21 22 23      21 22 23 24 25 26 27      21 22 23 24 25 26 27\n",
      "24 25 26 27 28 29 30      28                        28 29 30 31\n",
      "31\n",
      "\n",
      "       April                      May                       June\n",
      "Mo Tu We Th Fr Sa Su      Mo Tu We Th Fr Sa Su      Mo Tu We Th Fr Sa Su\n",
      "             1  2  3                         1             1  2  3  4  5\n",
      " 4  5  6  7  8  9 10       2  3  4  5  6  7  8       6  7  8  9 10 11 12\n",
      "11 12 13 14 15 16 17       9 10 11 12 13 14 15      13 14 15 16 17 18 19\n",
      "18 19 20 21 22 23 24      16 17 18 19 20 21 22      20 21 22 23 24 25 26\n",
      "25 26 27 28 29 30         23 24 25 26 27 28 29      27 28 29 30\n",
      "                          30 31\n",
      "\n",
      "        July                     August                  September\n",
      "Mo Tu We Th Fr Sa Su      Mo Tu We Th Fr Sa Su      Mo Tu We Th Fr Sa Su\n",
      "             1  2  3       1  2  3  4  5  6  7                1  2  3  4\n",
      " 4  5  6  7  8  9 10       8  9 10 11 12 13 14       5  6  7  8  9 10 11\n",
      "11 12 13 14 15 16 17      15 16 17 18 19 20 21      12 13 14 15 16 17 18\n",
      "18 19 20 21 22 23 24      22 23 24 25 26 27 28      19 20 21 22 23 24 25\n",
      "25 26 27 28 29 30 31      29 30 31                  26 27 28 29 30\n",
      "\n",
      "      October                   November                  December\n",
      "Mo Tu We Th Fr Sa Su      Mo Tu We Th Fr Sa Su      Mo Tu We Th Fr Sa Su\n",
      "                1  2          1  2  3  4  5  6                1  2  3  4\n",
      " 3  4  5  6  7  8  9       7  8  9 10 11 12 13       5  6  7  8  9 10 11\n",
      "10 11 12 13 14 15 16      14 15 16 17 18 19 20      12 13 14 15 16 17 18\n",
      "17 18 19 20 21 22 23      21 22 23 24 25 26 27      19 20 21 22 23 24 25\n",
      "24 25 26 27 28 29 30      28 29 30                  26 27 28 29 30 31\n",
      "31\n",
      "None\n"
     ]
    }
   ],
   "source": [
    "print(calendar.prcal(2022))"
   ]
  },
  {
   "cell_type": "code",
   "execution_count": 21,
   "id": "f790df4e",
   "metadata": {},
   "outputs": [
    {
     "name": "stdout",
     "output_type": "stream",
     "text": [
      "   December 2022\n",
      "Mo Tu We Th Fr Sa Su\n",
      "          1  2  3  4\n",
      " 5  6  7  8  9 10 11\n",
      "12 13 14 15 16 17 18\n",
      "19 20 21 22 23 24 25\n",
      "26 27 28 29 30 31\n",
      "None\n"
     ]
    }
   ],
   "source": [
    "print(calendar.prmonth(2022, 12))"
   ]
  },
  {
   "cell_type": "code",
   "execution_count": 22,
   "id": "1afad649",
   "metadata": {},
   "outputs": [
    {
     "name": "stdout",
     "output_type": "stream",
     "text": [
      "5\n"
     ]
    }
   ],
   "source": [
    "\"\"\"\n",
    "weekday(연도, 월, 일) 함수는 그 날짜에 해당하는 요일 정보를 돌려준다. \n",
    "월요일은 0, \n",
    "화요일은 1, \n",
    "수요일은 2, \n",
    "목요일은 3, \n",
    "금요일은 4, \n",
    "토요일은 5, \n",
    "일요일은 6이라는 값을 돌려준다.\n",
    "\"\"\"\n",
    "print(calendar.weekday(2022, 12, 31))"
   ]
  },
  {
   "cell_type": "code",
   "execution_count": 23,
   "id": "b6de8796",
   "metadata": {},
   "outputs": [
    {
     "name": "stdout",
     "output_type": "stream",
     "text": [
      "(3, 31)\n"
     ]
    }
   ],
   "source": [
    "\"\"\"\n",
    "monthrange(연도, 월) 함수는 입력받은 달의 1일이 무슨 요일인지와 \n",
    "그 달이 며칠까지 있는지를 튜플 형태로 돌려준다.\n",
    "\"\"\"\n",
    "print(calendar.monthrange(2022,12))"
   ]
  },
  {
   "cell_type": "markdown",
   "id": "b60cf9a6",
   "metadata": {},
   "source": [
    "## random"
   ]
  },
  {
   "cell_type": "code",
   "execution_count": 25,
   "id": "ffb4d2e8",
   "metadata": {},
   "outputs": [
    {
     "name": "stdout",
     "output_type": "stream",
     "text": [
      "0.6811680319457026\n",
      "9\n"
     ]
    }
   ],
   "source": [
    "import random\n",
    "print(random.random()) # 0~1 사이의 실수 중에서 난수값\n",
    "print(random.randint(1,10)) # 1~10 사이의 정수 중에서 난수값"
   ]
  },
  {
   "cell_type": "markdown",
   "id": "b08de8c8",
   "metadata": {},
   "source": [
    "## webbrowser\n",
    "- webbrowser는 자신의 시스템에서 사용하는 기본 웹 브라우저를 자동으로 실행하는 모듈이다.\n",
    "- 다음 예제는 웹 브라우저를 자동으로 실행하고 해당 URL인 google.com으로 가게 해 준다.\n",
    "- 만약 웹 브라우저가 실행되지 않은 상태라면 새로 웹 브라우저를 실행한 후 해당 주소로 이동한다."
   ]
  },
  {
   "cell_type": "code",
   "execution_count": 26,
   "id": "e63d2074",
   "metadata": {},
   "outputs": [
    {
     "data": {
      "text/plain": [
       "True"
      ]
     },
     "execution_count": 26,
     "metadata": {},
     "output_type": "execute_result"
    }
   ],
   "source": [
    "import webbrowser\n",
    "# webbrowser의 open 함수는 웹 브라우저가 이미 실행된 상태라면 입력 주소로 이동한다.\n",
    "# 만약 웹 브라우저가 실행되지 않은 상태라면 새로 웹 브라우저를 실행한 후 해당 주소로 이동한다.\n",
    "webbrowser.open(\"http://google.com\")\n",
    "\n",
    "# open_new 함수는 이미 웹 브라우저가 실행된 상태이더라도 새로운 창으로 해당 주소가 열리게 한다.\n",
    "webbrowser.open_new(\"http://google.com\")"
   ]
  }
 ],
 "metadata": {
  "kernelspec": {
   "display_name": "Python 3 (ipykernel)",
   "language": "python",
   "name": "python3"
  },
  "language_info": {
   "codemirror_mode": {
    "name": "ipython",
    "version": 3
   },
   "file_extension": ".py",
   "mimetype": "text/x-python",
   "name": "python",
   "nbconvert_exporter": "python",
   "pygments_lexer": "ipython3",
   "version": "3.9.12"
  }
 },
 "nbformat": 4,
 "nbformat_minor": 5
}
