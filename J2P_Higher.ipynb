{
 "cells": [
  {
   "cell_type": "markdown",
   "id": "f4670432",
   "metadata": {},
   "source": [
    "# Class\n",
    "- **객체**와 **인스턴스**의 차이\n",
    "    - 클래스로 만든 객체를 인스턴스라고 함\n",
    "    `a = Cookie()`: a는 그 자체로 객체임과 동시에 Cookie의 인스턴스\n",
    "    - 즉, 인스턴스라는 말은 특정 객체(a)가 어떤 클래스(Cookie)의 객체인지를 **관계위주**로 설명할 때 사용\n",
    "- **메서드(Method)**: 클래스 안에 구현된 함수  "
   ]
  },
  {
   "cell_type": "code",
   "execution_count": 1,
   "id": "474a5dbb",
   "metadata": {},
   "outputs": [],
   "source": [
    "class FourCal:\n",
    "    def setdata(self, first, second):\n",
    "        self.first = first\n",
    "        self.second = second\n",
    "a = FourCal()\n",
    "a.setdata(4, 2)"
   ]
  },
  {
   "cell_type": "markdown",
   "id": "5a5d8820",
   "metadata": {},
   "source": [
    "- setdata 메서드의 첫번째 매개변수 self에는 setdata 메서드를 호출한 객체 a가 자동으로 전달됌\n",
    "- 또다른 메서드 호출 방법   "
   ]
  },
  {
   "cell_type": "code",
   "execution_count": 2,
   "id": "12a7e68b",
   "metadata": {},
   "outputs": [],
   "source": [
    "a = FourCal()\n",
    "FourCal.setdata(a, 4, 2)"
   ]
  },
  {
   "cell_type": "markdown",
   "id": "1554978a",
   "metadata": {},
   "source": [
    "- '클래스이름.메서드' 형태로 호출할 때는 객체 a를 첫 번째 매개변수 self에 꼭 전달해 줘야함"
   ]
  },
  {
   "cell_type": "markdown",
   "id": "ac43ff85",
   "metadata": {},
   "source": [
    "- **생성자(Constructor)**\n",
    "    - 객체에 초기값을 설정해야할 필요가 있을 때 생성자를 구현\n",
    "    - 생성자란, 객체가 생성될 때 자동으로 호출되는 '메서드'\n",
    "    - `__init__`"
   ]
  },
  {
   "cell_type": "markdown",
   "id": "4e56881e",
   "metadata": {},
   "source": [
    "`a = FourCal(4, 2)`\n",
    "- **매개변수**: 값\n",
    "- **self**: 생성되는 객체\n",
    "- **first**: 4\n",
    "- **second**: 2"
   ]
  },
  {
   "cell_type": "code",
   "execution_count": null,
   "id": "8d5e814b",
   "metadata": {},
   "outputs": [],
   "source": [
    "#클래스의 상속\n",
    "class MoreFourCal(FourCal):\n",
    "    pass"
   ]
  },
  {
   "cell_type": "markdown",
   "id": "a0826dd1",
   "metadata": {},
   "source": [
    "- 클래스 이름 뒤 괄호 안에 상속할 클래스 이름을 넣음\n",
    "- 상속은 기존 클래스를 변경하지 않고 기능을 추가하거나 기존 기능을 변경하려고 할 때 사용\n",
    "- 기존 클래스가 라이브러리 형태로 제공되거나 수정이 허용되지 않는 상황이라면 상속을 사용"
   ]
  },
  {
   "cell_type": "code",
   "execution_count": 1,
   "id": "b17faabf",
   "metadata": {},
   "outputs": [
    {
     "name": "stdout",
     "output_type": "stream",
     "text": [
      "16\n"
     ]
    }
   ],
   "source": [
    "class FourCal:\n",
    "    def __init__(self, first, second): #setdata 메서드와 모든게 동일하지만, 생성자로서 객체가 생성되는 시점에 자동으로 호출되는 차이가 있음\n",
    "        self.first = first\n",
    "        self.second = second\n",
    "    \n",
    "    def setdata(self, first, second):\n",
    "        self.first = first\n",
    "        self.second = second\n",
    "        \n",
    "    def add(self):\n",
    "        return self.first+self.second\n",
    "    \n",
    "    def mul(self):\n",
    "        return self.first*self.second\n",
    "    \n",
    "    def sub(self):\n",
    "        return self.first-self.second\n",
    "    \n",
    "    def div(self):\n",
    "        return self.first/self.second\n",
    "\n",
    "class MoreFourCal(FourCal): # Inherit\n",
    "    def pow(self):\n",
    "        return self.first**self.second\n",
    "    \n",
    "a = MoreFourCal(4, 2)\n",
    "print(a.pow())"
   ]
  },
  {
   "cell_type": "markdown",
   "id": "82ba697f",
   "metadata": {},
   "source": [
    "- **Overriding**   \n",
    "    - 부모 클래스(상속한 클래스)에 있는 메서드를 동일한 이름으로 다시 만듬\n",
    "    - 메서드를 오버라이딩하면 부모클래스의 메서드 대신 오버라이딩한 메서드가 호출"
   ]
  },
  {
   "cell_type": "code",
   "execution_count": 2,
   "id": "8922aa04",
   "metadata": {},
   "outputs": [
    {
     "name": "stdout",
     "output_type": "stream",
     "text": [
      "0\n"
     ]
    }
   ],
   "source": [
    "class SafeFourCal(FourCal):\n",
    "    def div(self):\n",
    "        if self.second == 0:\n",
    "            return 0\n",
    "        else:\n",
    "            return self.first / self.second\n",
    "\n",
    "a = SafeFourCal(4, 0)\n",
    "print(a.div())"
   ]
  },
  {
   "cell_type": "markdown",
   "id": "856c64da",
   "metadata": {},
   "source": [
    "- **Class Variable**\n",
    "    - <u>**클래스이름.클래스변수**</u> 로 사용할 수 있음"
   ]
  },
  {
   "cell_type": "code",
   "execution_count": 10,
   "id": "7da837d2",
   "metadata": {},
   "outputs": [
    {
     "name": "stdout",
     "output_type": "stream",
     "text": [
      "김\n",
      "김\n",
      "김\n",
      "박\n",
      "박\n",
      "4451208768\n",
      "4451208768\n",
      "4451208768\n"
     ]
    }
   ],
   "source": [
    "class Family:\n",
    "    lastname = \"김\"\n",
    "print(Family.lastname)\n",
    "\n",
    "a = Family()\n",
    "b = Family()\n",
    "print(a.lastname)\n",
    "print(b.lastname)\n",
    "\n",
    "# 클래스 변수는 클래스로 만든 모든 객체에 공유됨\n",
    "Family.lastname = '박'\n",
    "print(a.lastname)\n",
    "print(b.lastname)\n",
    "\n",
    "# 같은 메모리를 가르킴\n",
    "print(id(Family.lastname))\n",
    "print(id(a.lastname))\n",
    "print(id(b.lastname))"
   ]
  }
 ],
 "metadata": {
  "kernelspec": {
   "display_name": "Python 3 (ipykernel)",
   "language": "python",
   "name": "python3"
  },
  "language_info": {
   "codemirror_mode": {
    "name": "ipython",
    "version": 3
   },
   "file_extension": ".py",
   "mimetype": "text/x-python",
   "name": "python",
   "nbconvert_exporter": "python",
   "pygments_lexer": "ipython3",
   "version": "3.9.12"
  }
 },
 "nbformat": 4,
 "nbformat_minor": 5
}
