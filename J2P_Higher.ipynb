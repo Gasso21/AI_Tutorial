{
 "cells": [
  {
   "cell_type": "markdown",
   "id": "f4670432",
   "metadata": {},
   "source": [
    "# Class\n",
    "- **객체**와 **인스턴스**의 차이\n",
    "    - 클래스로 만든 객체를 인스턴스라고 함\n",
    "    `a = Cookie()`: a는 그 자체로 객체임과 동시에 Cookie의 인스턴스\n",
    "    - 즉, 인스턴스라는 말은 특정 객체(a)가 어떤 클래스(Cookie)의 객체인지를 **관계위주**로 설명할 때 사용\n",
    "- **메서드(Method)**: 클래스 안에 구현된 함수  "
   ]
  },
  {
   "cell_type": "code",
   "execution_count": 1,
   "id": "474a5dbb",
   "metadata": {},
   "outputs": [],
   "source": [
    "class FourCal:\n",
    "    def setdata(self, first, second):\n",
    "        self.first = first\n",
    "        self.second = second\n",
    "a = FourCal()\n",
    "a.setdata(4, 2)"
   ]
  },
  {
   "cell_type": "markdown",
   "id": "5a5d8820",
   "metadata": {},
   "source": [
    "- setdata 메서드의 첫번째 매개변수 self에는 setdata 메서드를 호출한 객체 a가 자동으로 전달됌\n",
    "- 또다른 메서드 호출 방법   "
   ]
  },
  {
   "cell_type": "code",
   "execution_count": 2,
   "id": "12a7e68b",
   "metadata": {},
   "outputs": [],
   "source": [
    "a = FourCal()\n",
    "FourCal.setdata(a, 4, 2)"
   ]
  },
  {
   "cell_type": "markdown",
   "id": "1554978a",
   "metadata": {},
   "source": [
    "- '클래스이름.메서드' 형태로 호출할 때는 객체 a를 첫 번째 매개변수 self에 꼭 전달해 줘야함"
   ]
  },
  {
   "cell_type": "markdown",
   "id": "ac43ff85",
   "metadata": {},
   "source": [
    "- 생성자(Constructor)\n",
    "    - 객체에 초기값을 설정해야할 필요가 있을 때 생성자를 구현\n",
    "    - 생성자란, 객체가 생성될 때 자동으로 호출되는 '메서드'\n",
    "    - `__init__`"
   ]
  },
  {
   "cell_type": "markdown",
   "id": "4e56881e",
   "metadata": {},
   "source": [
    "`a = FourCal(4, 2)`\n",
    "- **매개변수**: 값\n",
    "- **self**: 생성되는 객체\n",
    "- **first**: 4\n",
    "- **second**: 2"
   ]
  },
  {
   "cell_type": "code",
   "execution_count": null,
   "id": "8d5e814b",
   "metadata": {},
   "outputs": [],
   "source": [
    "#클래스의 상속\n",
    "class MoreFourCal(FourCal):\n",
    "    pass"
   ]
  },
  {
   "cell_type": "code",
   "execution_count": null,
   "id": "4dc50a31",
   "metadata": {},
   "outputs": [],
   "source": []
  }
 ],
 "metadata": {
  "kernelspec": {
   "display_name": "Python 3 (ipykernel)",
   "language": "python",
   "name": "python3"
  },
  "language_info": {
   "codemirror_mode": {
    "name": "ipython",
    "version": 3
   },
   "file_extension": ".py",
   "mimetype": "text/x-python",
   "name": "python",
   "nbconvert_exporter": "python",
   "pygments_lexer": "ipython3",
   "version": "3.9.12"
  }
 },
 "nbformat": 4,
 "nbformat_minor": 5
}
