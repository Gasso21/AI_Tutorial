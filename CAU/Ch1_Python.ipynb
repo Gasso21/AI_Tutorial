{
 "cells": [
  {
   "cell_type": "markdown",
   "id": "cb0a9c92",
   "metadata": {},
   "source": [
    "## 사칙연산"
   ]
  },
  {
   "cell_type": "code",
   "execution_count": 1,
   "id": "ab85ae5e",
   "metadata": {},
   "outputs": [
    {
     "data": {
      "text/plain": [
       "256"
      ]
     },
     "execution_count": 1,
     "metadata": {},
     "output_type": "execute_result"
    }
   ],
   "source": [
    "2**8 #2^8"
   ]
  },
  {
   "cell_type": "code",
   "execution_count": 2,
   "id": "dd83e203",
   "metadata": {},
   "outputs": [
    {
     "data": {
      "text/plain": [
       "1.75"
      ]
     },
     "execution_count": 2,
     "metadata": {},
     "output_type": "execute_result"
    }
   ],
   "source": [
    "7/4 #실수형 나눗셈"
   ]
  },
  {
   "cell_type": "code",
   "execution_count": 3,
   "id": "9a621f83",
   "metadata": {},
   "outputs": [
    {
     "data": {
      "text/plain": [
       "1"
      ]
     },
     "execution_count": 3,
     "metadata": {},
     "output_type": "execute_result"
    }
   ],
   "source": [
    "7//4 #정수형 나눗셈, 몫 반환"
   ]
  },
  {
   "cell_type": "code",
   "execution_count": 4,
   "id": "e902e372",
   "metadata": {},
   "outputs": [
    {
     "data": {
      "text/plain": [
       "3"
      ]
     },
     "execution_count": 4,
     "metadata": {},
     "output_type": "execute_result"
    }
   ],
   "source": [
    "7%4 #정수형 나눗셈, 나머지 반환"
   ]
  },
  {
   "cell_type": "markdown",
   "id": "ae47aa47",
   "metadata": {},
   "source": [
    "## 변수"
   ]
  },
  {
   "cell_type": "code",
   "execution_count": 5,
   "id": "c3944215",
   "metadata": {},
   "outputs": [
    {
     "data": {
      "text/plain": [
       "0.8"
      ]
     },
     "execution_count": 5,
     "metadata": {},
     "output_type": "execute_result"
    }
   ],
   "source": [
    "x = 1/5\n",
    "y = 3/5\n",
    "x+y"
   ]
  },
  {
   "cell_type": "markdown",
   "id": "a2f9e38b",
   "metadata": {},
   "source": [
    "## 자료형"
   ]
  },
  {
   "cell_type": "code",
   "execution_count": 6,
   "id": "b161b97c",
   "metadata": {},
   "outputs": [
    {
     "data": {
      "text/plain": [
       "int"
      ]
     },
     "execution_count": 6,
     "metadata": {},
     "output_type": "execute_result"
    }
   ],
   "source": [
    "type(100)"
   ]
  },
  {
   "cell_type": "code",
   "execution_count": 7,
   "id": "7e2a9b89",
   "metadata": {},
   "outputs": [
    {
     "data": {
      "text/plain": [
       "float"
      ]
     },
     "execution_count": 7,
     "metadata": {},
     "output_type": "execute_result"
    }
   ],
   "source": [
    "type(100.1)"
   ]
  },
  {
   "cell_type": "code",
   "execution_count": 8,
   "id": "58960795",
   "metadata": {},
   "outputs": [
    {
     "data": {
      "text/plain": [
       "str"
      ]
     },
     "execution_count": 8,
     "metadata": {},
     "output_type": "execute_result"
    }
   ],
   "source": [
    "x = 'learning'\n",
    "type(x)"
   ]
  },
  {
   "cell_type": "code",
   "execution_count": 9,
   "id": "dabf957e",
   "metadata": {},
   "outputs": [
    {
     "name": "stdout",
     "output_type": "stream",
     "text": [
      "hello world\n"
     ]
    }
   ],
   "source": [
    "hello = \"hello\"\n",
    "world = \"world\"\n",
    "hw = hello + ' ' + world\n",
    "print(hw)"
   ]
  },
  {
   "cell_type": "code",
   "execution_count": 10,
   "id": "46001645",
   "metadata": {},
   "outputs": [
    {
     "name": "stdout",
     "output_type": "stream",
     "text": [
      "hello world\n"
     ]
    }
   ],
   "source": [
    "hw = 'hello %s' %'world'\n",
    "print(hw)"
   ]
  },
  {
   "cell_type": "code",
   "execution_count": 11,
   "id": "03849950",
   "metadata": {},
   "outputs": [
    {
     "name": "stdout",
     "output_type": "stream",
     "text": [
      "hello world 12\n"
     ]
    }
   ],
   "source": [
    "hw12 = '%s %s %d' %(hello, 'world', 12)\n",
    "print(hw12)"
   ]
  },
  {
   "cell_type": "code",
   "execution_count": 12,
   "id": "bd014041",
   "metadata": {},
   "outputs": [
    {
     "data": {
      "text/plain": [
       "'        hi'"
      ]
     },
     "execution_count": 12,
     "metadata": {},
     "output_type": "execute_result"
    }
   ],
   "source": [
    "'%10s' %\"hi\""
   ]
  },
  {
   "cell_type": "code",
   "execution_count": 13,
   "id": "2c9cefd9",
   "metadata": {},
   "outputs": [
    {
     "data": {
      "text/plain": [
       "'hi        jane.'"
      ]
     },
     "execution_count": 13,
     "metadata": {},
     "output_type": "execute_result"
    }
   ],
   "source": [
    "'%-10sjane.' %'hi'"
   ]
  },
  {
   "cell_type": "code",
   "execution_count": 14,
   "id": "c48099a4",
   "metadata": {},
   "outputs": [
    {
     "data": {
      "text/plain": [
       "'1223.4232'"
      ]
     },
     "execution_count": 14,
     "metadata": {},
     "output_type": "execute_result"
    }
   ],
   "source": [
    "'%0.4f' %1223.423173 #반올림"
   ]
  },
  {
   "cell_type": "code",
   "execution_count": 15,
   "id": "c0a6edf7",
   "metadata": {},
   "outputs": [
    {
     "data": {
      "text/plain": [
       "'1232123.4231'"
      ]
     },
     "execution_count": 15,
     "metadata": {},
     "output_type": "execute_result"
    }
   ],
   "source": [
    "'%2.4f' %1232123.4231223"
   ]
  },
  {
   "cell_type": "code",
   "execution_count": 16,
   "id": "a3d44f47",
   "metadata": {},
   "outputs": [
    {
     "name": "stdout",
     "output_type": "stream",
     "text": [
      "Life is too short\n",
      "['Life', 'is', 'too', 'short']\n"
     ]
    }
   ],
   "source": [
    "a = \"Life is too short\"\n",
    "b = a.split()\n",
    "print(a)\n",
    "print(b)"
   ]
  },
  {
   "cell_type": "code",
   "execution_count": 17,
   "id": "e71a4a94",
   "metadata": {},
   "outputs": [
    {
     "name": "stdout",
     "output_type": "stream",
     "text": [
      "['a', 'b', 'c', 'd']\n"
     ]
    }
   ],
   "source": [
    "a = \"a:b:c:d\"\n",
    "b = a.split(\":\")\n",
    "print(b)"
   ]
  },
  {
   "cell_type": "code",
   "execution_count": 18,
   "id": "94836ece",
   "metadata": {},
   "outputs": [
    {
     "name": "stdout",
     "output_type": "stream",
     "text": [
      "Abracadabra 11.000 homework\n"
     ]
    }
   ],
   "source": [
    "a = \"Abracadabra %.3f homework\"\n",
    "b = 11\n",
    "c = a%b\n",
    "print(c)"
   ]
  },
  {
   "cell_type": "code",
   "execution_count": 19,
   "id": "791d1051",
   "metadata": {},
   "outputs": [
    {
     "name": "stdout",
     "output_type": "stream",
     "text": [
      "1\n"
     ]
    }
   ],
   "source": [
    "print(a.count('A'))"
   ]
  },
  {
   "cell_type": "code",
   "execution_count": 20,
   "id": "c836dcaa",
   "metadata": {},
   "outputs": [
    {
     "name": "stdout",
     "output_type": "stream",
     "text": [
      "1\n"
     ]
    }
   ],
   "source": [
    "print(a.find('b'))"
   ]
  },
  {
   "cell_type": "code",
   "execution_count": 21,
   "id": "c81a3e67",
   "metadata": {},
   "outputs": [
    {
     "name": "stdout",
     "output_type": "stream",
     "text": [
      "ABRACADABRA %.3F HOMEWORK\n"
     ]
    }
   ],
   "source": [
    "A = a.upper()\n",
    "print(A)"
   ]
  },
  {
   "cell_type": "code",
   "execution_count": 22,
   "id": "5963a4fa",
   "metadata": {},
   "outputs": [
    {
     "name": "stdout",
     "output_type": "stream",
     "text": [
      "ABRACADABRA 11.000 HOMEWORK\n"
     ]
    }
   ],
   "source": [
    "print(A%b)"
   ]
  },
  {
   "cell_type": "code",
   "execution_count": 23,
   "id": "3331cc76",
   "metadata": {},
   "outputs": [
    {
     "name": "stdout",
     "output_type": "stream",
     "text": [
      "ABRACADABRA:%.3F:HOMEWORK\n"
     ]
    }
   ],
   "source": [
    "A = A.replace(' ',':')\n",
    "print(A)"
   ]
  },
  {
   "cell_type": "code",
   "execution_count": 24,
   "id": "dc81d4ac",
   "metadata": {},
   "outputs": [
    {
     "name": "stdout",
     "output_type": "stream",
     "text": [
      "['ABRACADABRA', '%.3F', 'HOMEWORK']\n"
     ]
    }
   ],
   "source": [
    "print(A.split(':'))"
   ]
  },
  {
   "cell_type": "markdown",
   "id": "e65031b2",
   "metadata": {},
   "source": [
    "## Boolean"
   ]
  },
  {
   "cell_type": "code",
   "execution_count": 25,
   "id": "f4f7dc0f",
   "metadata": {},
   "outputs": [
    {
     "name": "stdout",
     "output_type": "stream",
     "text": [
      "<class 'bool'>\n",
      "False\n",
      "True\n",
      "False\n",
      "True\n"
     ]
    }
   ],
   "source": [
    "t = True\n",
    "f = False\n",
    "print(type(t))\n",
    "print(t and f)\n",
    "print(t or f)\n",
    "print(not t)\n",
    "print(t != f)"
   ]
  },
  {
   "cell_type": "code",
   "execution_count": 26,
   "id": "ab09ec58",
   "metadata": {},
   "outputs": [
    {
     "name": "stdout",
     "output_type": "stream",
     "text": [
      "Life is too short\n"
     ]
    }
   ],
   "source": [
    "print(\"Life\",\"is\",\"too short\")"
   ]
  },
  {
   "cell_type": "markdown",
   "id": "e227980d",
   "metadata": {},
   "source": [
    "## String Output formatting"
   ]
  },
  {
   "cell_type": "code",
   "execution_count": 27,
   "id": "d1db47e6",
   "metadata": {},
   "outputs": [
    {
     "name": "stdout",
     "output_type": "stream",
     "text": [
      "weight = 71 kg\n"
     ]
    }
   ],
   "source": [
    "x = 71\n",
    "print('weight = {0} kg'.format(x))"
   ]
  },
  {
   "cell_type": "code",
   "execution_count": 28,
   "id": "8746285c",
   "metadata": {},
   "outputs": [
    {
     "name": "stdout",
     "output_type": "stream",
     "text": [
      "weight : 0.3333333333333333 kg 0.6666666666666666 kg 1 kg\n"
     ]
    }
   ],
   "source": [
    "x = 1/3\n",
    "y = 2/3\n",
    "z = 1\n",
    "print('weight : {0} kg {1} kg {2} kg'.format(x, y, z))"
   ]
  },
  {
   "cell_type": "code",
   "execution_count": 29,
   "id": "7295fa56",
   "metadata": {},
   "outputs": [
    {
     "name": "stdout",
     "output_type": "stream",
     "text": [
      "weight : 0.33kg, 0.667kg, 1.0kg\n"
     ]
    }
   ],
   "source": [
    "print('weight : {0:.2f}kg, {1:.3f}kg, {2:.1f}kg'.format(x, y, z))"
   ]
  },
  {
   "cell_type": "markdown",
   "id": "3c31a95c",
   "metadata": {},
   "source": [
    "## input"
   ]
  },
  {
   "cell_type": "code",
   "execution_count": 35,
   "id": "5a9ee41c",
   "metadata": {},
   "outputs": [
    {
     "name": "stdout",
     "output_type": "stream",
     "text": [
      "1\n"
     ]
    },
    {
     "data": {
      "text/plain": [
       "'1'"
      ]
     },
     "execution_count": 35,
     "metadata": {},
     "output_type": "execute_result"
    }
   ],
   "source": [
    "a = input()\n",
    "a"
   ]
  },
  {
   "cell_type": "markdown",
   "id": "f4bd8117",
   "metadata": {},
   "source": [
    "## while"
   ]
  },
  {
   "cell_type": "code",
   "execution_count": 36,
   "id": "6e6b8a1e",
   "metadata": {},
   "outputs": [
    {
     "name": "stdout",
     "output_type": "stream",
     "text": [
      "*\n",
      "**\n",
      "***\n",
      "****\n",
      "*****\n"
     ]
    }
   ],
   "source": [
    "x = \"*\"\n",
    "i = 1\n",
    "while i <= 5:\n",
    "    y = x*i\n",
    "    print(y)\n",
    "    i += 1"
   ]
  },
  {
   "cell_type": "code",
   "execution_count": 37,
   "id": "494bd218",
   "metadata": {},
   "outputs": [
    {
     "name": "stdout",
     "output_type": "stream",
     "text": [
      "166833\n"
     ]
    }
   ],
   "source": [
    "x = 1\n",
    "y = 0\n",
    "while x <= 1000:\n",
    "    if x % 3 == 0:\n",
    "        y += x\n",
    "    x += 1\n",
    "print(y)"
   ]
  },
  {
   "cell_type": "markdown",
   "id": "39666d46",
   "metadata": {},
   "source": [
    "## list"
   ]
  },
  {
   "cell_type": "code",
   "execution_count": 38,
   "id": "5e91fe27",
   "metadata": {},
   "outputs": [
    {
     "data": {
      "text/plain": [
       "('L', 'i')"
      ]
     },
     "execution_count": 38,
     "metadata": {},
     "output_type": "execute_result"
    }
   ],
   "source": [
    "a = \"Life is too short\"\n",
    "a[0], a[1]"
   ]
  },
  {
   "cell_type": "code",
   "execution_count": 39,
   "id": "cf51faf6",
   "metadata": {},
   "outputs": [
    {
     "ename": "TypeError",
     "evalue": "'str' object does not support item assignment",
     "output_type": "error",
     "traceback": [
      "\u001b[0;31m---------------------------------------------------------------------------\u001b[0m",
      "\u001b[0;31mTypeError\u001b[0m                                 Traceback (most recent call last)",
      "Input \u001b[0;32mIn [39]\u001b[0m, in \u001b[0;36m<cell line: 1>\u001b[0;34m()\u001b[0m\n\u001b[0;32m----> 1\u001b[0m a[\u001b[38;5;241m1\u001b[39m] \u001b[38;5;241m=\u001b[39m \u001b[38;5;124m'\u001b[39m\u001b[38;5;124mI\u001b[39m\u001b[38;5;124m'\u001b[39m\n",
      "\u001b[0;31mTypeError\u001b[0m: 'str' object does not support item assignment"
     ]
    }
   ],
   "source": [
    "a[1] = 'I' #문자열은 immutable 객체"
   ]
  },
  {
   "cell_type": "code",
   "execution_count": 40,
   "id": "e1125fca",
   "metadata": {},
   "outputs": [
    {
     "data": {
      "text/plain": [
       "'i'"
      ]
     },
     "execution_count": 40,
     "metadata": {},
     "output_type": "execute_result"
    }
   ],
   "source": [
    "b = list(a)\n",
    "b[1]"
   ]
  },
  {
   "cell_type": "code",
   "execution_count": 41,
   "id": "068fc2e9",
   "metadata": {},
   "outputs": [],
   "source": [
    "b[1] = 'I'"
   ]
  },
  {
   "cell_type": "code",
   "execution_count": 42,
   "id": "41f69c97",
   "metadata": {},
   "outputs": [
    {
     "name": "stdout",
     "output_type": "stream",
     "text": [
      "['L', 'I', 'f', 'e', ' ', 'i', 's', ' ', 't', 'o', 'o', ' ', 's', 'h', 'o', 'r', 't']\n"
     ]
    }
   ],
   "source": [
    "print(b) #리스트는 mutable 객체"
   ]
  },
  {
   "cell_type": "markdown",
   "id": "e37c655b",
   "metadata": {},
   "source": [
    "## 조건문"
   ]
  },
  {
   "cell_type": "code",
   "execution_count": 43,
   "id": "77f401db",
   "metadata": {},
   "outputs": [
    {
     "data": {
      "text/plain": [
       "True"
      ]
     },
     "execution_count": 43,
     "metadata": {},
     "output_type": "execute_result"
    }
   ],
   "source": [
    "1 in [1,2,3]"
   ]
  },
  {
   "cell_type": "code",
   "execution_count": 44,
   "id": "41fe0a5f",
   "metadata": {},
   "outputs": [
    {
     "data": {
      "text/plain": [
       "False"
      ]
     },
     "execution_count": 44,
     "metadata": {},
     "output_type": "execute_result"
    }
   ],
   "source": [
    "1 not in [1,2,3]"
   ]
  },
  {
   "cell_type": "markdown",
   "id": "afe60399",
   "metadata": {},
   "source": [
    "## range()"
   ]
  },
  {
   "cell_type": "code",
   "execution_count": 45,
   "id": "90d1b69b",
   "metadata": {},
   "outputs": [
    {
     "name": "stdout",
     "output_type": "stream",
     "text": [
      "[3, 5, 7]\n",
      "[9, 8, 7, 6, 5, 4, 3, 2, 1, 0]\n"
     ]
    }
   ],
   "source": [
    "x = list(range(10))\n",
    "print(x[3:8:2])\n",
    "print(x[::-1])"
   ]
  },
  {
   "cell_type": "markdown",
   "id": "3b618068",
   "metadata": {},
   "source": [
    "## 반복문"
   ]
  },
  {
   "cell_type": "code",
   "execution_count": 46,
   "id": "ad1cdac5",
   "metadata": {},
   "outputs": [
    {
     "name": "stdout",
     "output_type": "stream",
     "text": [
      "1 2 3 "
     ]
    }
   ],
   "source": [
    "for i in [1,2,3]:\n",
    "    print(i, end=' ')"
   ]
  },
  {
   "cell_type": "markdown",
   "id": "6778c586",
   "metadata": {},
   "source": [
    "## enumerate FCT."
   ]
  },
  {
   "cell_type": "code",
   "execution_count": 47,
   "id": "79d580c9",
   "metadata": {},
   "outputs": [
    {
     "name": "stdout",
     "output_type": "stream",
     "text": [
      "#0: cat\n",
      "#1: dog\n",
      "#2: monkey\n"
     ]
    }
   ],
   "source": [
    "animals = ['cat', 'dog', 'monkey']\n",
    "for idx, animal in enumerate(animals):\n",
    "    print('#%d: %s'%(idx, animal))"
   ]
  },
  {
   "cell_type": "code",
   "execution_count": 48,
   "id": "36bf4b6f",
   "metadata": {},
   "outputs": [
    {
     "name": "stdout",
     "output_type": "stream",
     "text": [
      "#1: cat\n",
      "#2: dog\n",
      "#3: monkey\n"
     ]
    }
   ],
   "source": [
    "for idx, animal in enumerate(animals):\n",
    "    print('#%d: %s'%(idx+1, animal))"
   ]
  },
  {
   "cell_type": "markdown",
   "id": "f0c1cf91",
   "metadata": {},
   "source": [
    "## .insert() method"
   ]
  },
  {
   "cell_type": "code",
   "execution_count": 49,
   "id": "be081f44",
   "metadata": {},
   "outputs": [
    {
     "name": "stdout",
     "output_type": "stream",
     "text": [
      "[4, 8, 12, 16, 20]\n"
     ]
    }
   ],
   "source": [
    "num = list(range(2,11,2))\n",
    "i = 0\n",
    "y = list()\n",
    "while i <= 4:\n",
    "    y.insert(i, num[i]*2)\n",
    "    i += 1\n",
    "print(y)"
   ]
  },
  {
   "cell_type": "code",
   "execution_count": 50,
   "id": "49d60e28",
   "metadata": {},
   "outputs": [
    {
     "name": "stdout",
     "output_type": "stream",
     "text": [
      "[4, 8, 12, 16, 20]\n"
     ]
    }
   ],
   "source": [
    "x = range(5)\n",
    "num = [2, 4, 6, 8, 10]\n",
    "for i in x:\n",
    "    num[i] *= 2\n",
    "print(num)"
   ]
  },
  {
   "cell_type": "code",
   "execution_count": 51,
   "id": "48d32110",
   "metadata": {},
   "outputs": [
    {
     "name": "stdout",
     "output_type": "stream",
     "text": [
      "[4, 8, 12, 16, 20]\n"
     ]
    }
   ],
   "source": [
    "num = [2,4,6,8,10]\n",
    "y = []\n",
    "for idx, x in enumerate(num):\n",
    "    y.insert(idx, x*2)\n",
    "print(y)"
   ]
  },
  {
   "cell_type": "code",
   "execution_count": 52,
   "id": "00c98a7b",
   "metadata": {},
   "outputs": [
    {
     "name": "stdout",
     "output_type": "stream",
     "text": [
      "78.88888888888889\n"
     ]
    }
   ],
   "source": [
    "A_Class = [70, 60, 55, 75, 95, 90, 80, 85, 100]\n",
    "x = 0\n",
    "z = 0\n",
    "for idx, y in enumerate(A_Class):\n",
    "    x += y\n",
    "z = x/(idx+1)\n",
    "print(z)"
   ]
  },
  {
   "cell_type": "markdown",
   "id": "b430372f",
   "metadata": {},
   "source": [
    "## List 연산"
   ]
  },
  {
   "cell_type": "code",
   "execution_count": 53,
   "id": "96498185",
   "metadata": {},
   "outputs": [
    {
     "name": "stdout",
     "output_type": "stream",
     "text": [
      "[1, 2, 3, 4, 5, 6]\n"
     ]
    }
   ],
   "source": [
    "a = [1,2,3]\n",
    "b = [4,5,6]\n",
    "print(a+b)"
   ]
  },
  {
   "cell_type": "code",
   "execution_count": 54,
   "id": "6662bb5b",
   "metadata": {},
   "outputs": [
    {
     "name": "stdout",
     "output_type": "stream",
     "text": [
      "[1, 2] 2\n"
     ]
    }
   ],
   "source": [
    "del a[2]\n",
    "print(a, len(a))"
   ]
  },
  {
   "cell_type": "markdown",
   "id": "39013e97",
   "metadata": {},
   "source": [
    "## List copy"
   ]
  },
  {
   "cell_type": "code",
   "execution_count": 55,
   "id": "14f29057",
   "metadata": {},
   "outputs": [
    {
     "name": "stdout",
     "output_type": "stream",
     "text": [
      "4417351104 4417351104\n"
     ]
    }
   ],
   "source": [
    "a = [1,2,3]\n",
    "b = a\n",
    "print(id(a), id(b)) #동일한 객체"
   ]
  },
  {
   "cell_type": "code",
   "execution_count": 56,
   "id": "540c96ba",
   "metadata": {},
   "outputs": [
    {
     "data": {
      "text/plain": [
       "True"
      ]
     },
     "execution_count": 56,
     "metadata": {},
     "output_type": "execute_result"
    }
   ],
   "source": [
    "a is b"
   ]
  },
  {
   "cell_type": "markdown",
   "id": "42058e48",
   "metadata": {},
   "source": [
    "### 1.[:] 이용"
   ]
  },
  {
   "cell_type": "code",
   "execution_count": 57,
   "id": "0b129e5b",
   "metadata": {},
   "outputs": [
    {
     "name": "stdout",
     "output_type": "stream",
     "text": [
      "4417348672 4417446912\n"
     ]
    }
   ],
   "source": [
    "a = [1, 2, 3]\n",
    "b = a[:]\n",
    "print(id(a),id(b))"
   ]
  },
  {
   "cell_type": "markdown",
   "id": "31486123",
   "metadata": {},
   "source": [
    "### 2.copy module 이용"
   ]
  },
  {
   "cell_type": "code",
   "execution_count": 58,
   "id": "334c77cf",
   "metadata": {},
   "outputs": [
    {
     "data": {
      "text/plain": [
       "False"
      ]
     },
     "execution_count": 58,
     "metadata": {},
     "output_type": "execute_result"
    }
   ],
   "source": [
    "a = [1,2,3]\n",
    "from copy import copy\n",
    "b = copy(a)\n",
    "b is a"
   ]
  },
  {
   "cell_type": "code",
   "execution_count": 59,
   "id": "f85f76aa",
   "metadata": {},
   "outputs": [
    {
     "name": "stdout",
     "output_type": "stream",
     "text": [
      "[1, 2, 3]\n"
     ]
    }
   ],
   "source": [
    "a = [1,2,3,4]\n",
    "a.pop()\n",
    "print(a)"
   ]
  },
  {
   "cell_type": "code",
   "execution_count": 60,
   "id": "8fb419ea",
   "metadata": {},
   "outputs": [
    {
     "name": "stdout",
     "output_type": "stream",
     "text": [
      "[1, 3, 4]\n"
     ]
    }
   ],
   "source": [
    "a = [1,2,3,4]\n",
    "a.pop(1)\n",
    "print(a)"
   ]
  },
  {
   "cell_type": "code",
   "execution_count": 61,
   "id": "b86f01c9",
   "metadata": {},
   "outputs": [
    {
     "name": "stdout",
     "output_type": "stream",
     "text": [
      "[1, 2, 3, 4, 5]\n"
     ]
    }
   ],
   "source": [
    "a = [1,2,3]\n",
    "a.extend([4,5]) #.extend([]) list만 들어갈 수 있음\n",
    "print(a)"
   ]
  },
  {
   "cell_type": "code",
   "execution_count": 62,
   "id": "3fcb4742",
   "metadata": {},
   "outputs": [
    {
     "name": "stdout",
     "output_type": "stream",
     "text": [
      "숫자를 입력하시오: \n"
     ]
    },
    {
     "ename": "ValueError",
     "evalue": "invalid literal for int() with base 10: ''",
     "output_type": "error",
     "traceback": [
      "\u001b[0;31m---------------------------------------------------------------------------\u001b[0m",
      "\u001b[0;31mValueError\u001b[0m                                Traceback (most recent call last)",
      "Input \u001b[0;32mIn [62]\u001b[0m, in \u001b[0;36m<cell line: 5>\u001b[0;34m()\u001b[0m\n\u001b[1;32m      4\u001b[0m \u001b[38;5;28;01mwhile\u001b[39;00m \u001b[38;5;241m1\u001b[39m:\n\u001b[1;32m      5\u001b[0m     x \u001b[38;5;241m=\u001b[39m \u001b[38;5;28minput\u001b[39m(\u001b[38;5;124m'\u001b[39m\u001b[38;5;124m숫자를 입력하시오: \u001b[39m\u001b[38;5;124m'\u001b[39m)\n\u001b[0;32m----> 6\u001b[0m     num \u001b[38;5;241m=\u001b[39m \u001b[38;5;28;43mint\u001b[39;49m\u001b[43m(\u001b[49m\u001b[43mx\u001b[49m\u001b[43m)\u001b[49m\n\u001b[1;32m      7\u001b[0m     \u001b[38;5;28;01mif\u001b[39;00m num \u001b[38;5;241m==\u001b[39m\u001b[38;5;241m1\u001b[39m:\n\u001b[1;32m      8\u001b[0m         y \u001b[38;5;241m=\u001b[39m \u001b[38;5;28minput\u001b[39m(\u001b[38;5;124m'\u001b[39m\u001b[38;5;124mappend할 숫자를 적으시오: \u001b[39m\u001b[38;5;124m'\u001b[39m)\n",
      "\u001b[0;31mValueError\u001b[0m: invalid literal for int() with base 10: ''"
     ]
    }
   ],
   "source": [
    "A = list()\n",
    "a = 0\n",
    "\n",
    "while 1:\n",
    "    x = input('숫자를 입력하시오: ')\n",
    "    num = int(x)\n",
    "    if num ==1:\n",
    "        y = input('append할 숫자를 적으시오: ')\n",
    "        y = int(y)\n",
    "        A.append(y)\n",
    "        print(A, len(A))\n",
    "    \n",
    "    elif num ==2:\n",
    "        y = input('remove할 숫자를 적으시오: ')\n",
    "        y = int(y)\n",
    "        if y in A:\n",
    "            A.remove(y)\n",
    "            print(A, len(A))\n",
    "        else:\n",
    "            print(A, len(A))\n",
    "            \n",
    "    elif num ==0:\n",
    "        break"
   ]
  },
  {
   "cell_type": "code",
   "execution_count": 63,
   "id": "868b7b7e",
   "metadata": {},
   "outputs": [
    {
     "name": "stdout",
     "output_type": "stream",
     "text": [
      "[0, 1, 4, 9, 16]\n"
     ]
    }
   ],
   "source": [
    "nums = [0,1,2,3,4]\n",
    "squares =[]\n",
    "for x in nums:\n",
    "    squares.append(x ** 2)\n",
    "print(squares) #출력 [0,1,4,9,16]"
   ]
  },
  {
   "cell_type": "markdown",
   "id": "b1d785fe",
   "metadata": {},
   "source": [
    "## list comprehensions"
   ]
  },
  {
   "cell_type": "code",
   "execution_count": 64,
   "id": "03340d24",
   "metadata": {},
   "outputs": [
    {
     "name": "stdout",
     "output_type": "stream",
     "text": [
      "[0, 1, 4, 9, 16]\n"
     ]
    }
   ],
   "source": [
    "nums = [0,1,2,3,4]\n",
    "Squares = [x ** 2 for x in nums]\n",
    "print(Squares)"
   ]
  },
  {
   "cell_type": "code",
   "execution_count": 65,
   "id": "cd59bb42",
   "metadata": {},
   "outputs": [
    {
     "name": "stdout",
     "output_type": "stream",
     "text": [
      "[0, 4, 16]\n"
     ]
    }
   ],
   "source": [
    "nums = [0,1,2,3,4]\n",
    "even_squares = [x ** 2 for x in nums if x % 2 == 0]\n",
    "print(even_squares)"
   ]
  },
  {
   "cell_type": "code",
   "execution_count": 66,
   "id": "6f56d2ba",
   "metadata": {},
   "outputs": [
    {
     "name": "stdout",
     "output_type": "stream",
     "text": [
      "[3, 6, 9, 12, 15, 18, 21, 24, 27, 30, 33, 36, 39, 42, 45, 48, 51, 54, 57, 60, 63, 66, 69, 72, 75, 78, 81, 84, 87, 90, 93, 96, 99]\n",
      "198\n"
     ]
    }
   ],
   "source": [
    "nums = list(range(1, 101))\n",
    "A = [x for x in nums if x % 3 == 0]\n",
    "print(A)\n",
    "for y in A:\n",
    "    y += y\n",
    "print(y)"
   ]
  },
  {
   "cell_type": "markdown",
   "id": "b6b5aeca",
   "metadata": {},
   "source": [
    "## Dictionary"
   ]
  },
  {
   "cell_type": "code",
   "execution_count": 67,
   "id": "db66f891",
   "metadata": {},
   "outputs": [
    {
     "name": "stdout",
     "output_type": "stream",
     "text": [
      "cute\n",
      "True\n"
     ]
    }
   ],
   "source": [
    "d = {'cat': 'cute', 'dog': 'furry'}\n",
    "print (d['cat'])\n",
    "print ('cat' in d)"
   ]
  },
  {
   "cell_type": "code",
   "execution_count": 68,
   "id": "b25da56a",
   "metadata": {},
   "outputs": [
    {
     "data": {
      "text/plain": [
       "dict_keys(['name', 'phone', 'birth'])"
      ]
     },
     "execution_count": 68,
     "metadata": {},
     "output_type": "execute_result"
    }
   ],
   "source": [
    "a = {'name': 'pey', 'phone': '0119993323', 'birth': '1118'}\n",
    "a.keys()"
   ]
  },
  {
   "cell_type": "code",
   "execution_count": 69,
   "id": "01efa299",
   "metadata": {},
   "outputs": [
    {
     "data": {
      "text/plain": [
       "['name', 'phone', 'birth']"
      ]
     },
     "execution_count": 69,
     "metadata": {},
     "output_type": "execute_result"
    }
   ],
   "source": [
    "list(a.keys()) #dict_keys 객체를 리스트로 변환"
   ]
  },
  {
   "cell_type": "code",
   "execution_count": 70,
   "id": "c4d9cf9a",
   "metadata": {},
   "outputs": [
    {
     "data": {
      "text/plain": [
       "dict_values(['pey', '0119993323', '1118'])"
      ]
     },
     "execution_count": 70,
     "metadata": {},
     "output_type": "execute_result"
    }
   ],
   "source": [
    "a.values()"
   ]
  },
  {
   "cell_type": "code",
   "execution_count": 71,
   "id": "529d771c",
   "metadata": {},
   "outputs": [
    {
     "data": {
      "text/plain": [
       "dict_items([('name', 'pey'), ('phone', '0119993323'), ('birth', '1118')])"
      ]
     },
     "execution_count": 71,
     "metadata": {},
     "output_type": "execute_result"
    }
   ],
   "source": [
    "a.items()"
   ]
  },
  {
   "cell_type": "code",
   "execution_count": 72,
   "id": "b9a61fb6",
   "metadata": {},
   "outputs": [
    {
     "data": {
      "text/plain": [
       "{}"
      ]
     },
     "execution_count": 72,
     "metadata": {},
     "output_type": "execute_result"
    }
   ],
   "source": [
    "a.clear()\n",
    "a"
   ]
  },
  {
   "cell_type": "code",
   "execution_count": 73,
   "id": "853c8944",
   "metadata": {},
   "outputs": [
    {
     "data": {
      "text/plain": [
       "'pey'"
      ]
     },
     "execution_count": 73,
     "metadata": {},
     "output_type": "execute_result"
    }
   ],
   "source": [
    "a = {'name': 'pey', 'phone': '0119993323', 'birth': '1118'}\n",
    "a.get('name')"
   ]
  },
  {
   "cell_type": "code",
   "execution_count": 74,
   "id": "4c8b0801",
   "metadata": {},
   "outputs": [
    {
     "ename": "KeyError",
     "evalue": "'nokey'",
     "output_type": "error",
     "traceback": [
      "\u001b[0;31m---------------------------------------------------------------------------\u001b[0m",
      "\u001b[0;31mKeyError\u001b[0m                                  Traceback (most recent call last)",
      "Input \u001b[0;32mIn [74]\u001b[0m, in \u001b[0;36m<cell line: 1>\u001b[0;34m()\u001b[0m\n\u001b[0;32m----> 1\u001b[0m \u001b[38;5;28mprint\u001b[39m(\u001b[43ma\u001b[49m\u001b[43m[\u001b[49m\u001b[38;5;124;43m'\u001b[39;49m\u001b[38;5;124;43mnokey\u001b[39;49m\u001b[38;5;124;43m'\u001b[39;49m\u001b[43m]\u001b[49m)\n",
      "\u001b[0;31mKeyError\u001b[0m: 'nokey'"
     ]
    }
   ],
   "source": [
    "print(a['nokey'])"
   ]
  },
  {
   "cell_type": "code",
   "execution_count": 75,
   "id": "f812970b",
   "metadata": {},
   "outputs": [
    {
     "name": "stdout",
     "output_type": "stream",
     "text": [
      "pey\n"
     ]
    }
   ],
   "source": [
    "print(a['name'])"
   ]
  },
  {
   "cell_type": "code",
   "execution_count": 76,
   "id": "770d3d14",
   "metadata": {},
   "outputs": [
    {
     "name": "stdout",
     "output_type": "stream",
     "text": [
      "None\n"
     ]
    }
   ],
   "source": [
    "print(a.get('nokey')) #존재하지 않는 키(nokey)로 값을 가져오려고 할 경우 a['nokey']는 Key 오류를 발생시키고\n",
    "                      #a.get('nokey')는 None을 돌려준다는 차이가 있다."
   ]
  },
  {
   "cell_type": "code",
   "execution_count": 77,
   "id": "73bd8182",
   "metadata": {},
   "outputs": [
    {
     "data": {
      "text/plain": [
       "'bar'"
      ]
     },
     "execution_count": 77,
     "metadata": {},
     "output_type": "execute_result"
    }
   ],
   "source": [
    "a.get('foo', 'bar') # get(x, '디폴트 값'), a 딕셔너리에는 'foo'에 해당하는 값이 없다. 따라서 디폴트 값인 'bar'를 돌려준다."
   ]
  },
  {
   "cell_type": "markdown",
   "id": "1d7564e3",
   "metadata": {},
   "source": [
    "### dictionary 반복문"
   ]
  },
  {
   "cell_type": "code",
   "execution_count": 78,
   "id": "9aea695c",
   "metadata": {},
   "outputs": [
    {
     "name": "stdout",
     "output_type": "stream",
     "text": [
      "A person has 2 legs\n",
      "A cat has 4 legs\n",
      "A spider has 8 legs\n"
     ]
    }
   ],
   "source": [
    "d = {'person': 2, 'cat': 4, 'spider': 8}\n",
    "for animal in d:\n",
    "    legs = d[animal]\n",
    "    print('A %s has %d legs' %(animal, legs))"
   ]
  },
  {
   "cell_type": "code",
   "execution_count": 79,
   "id": "a5a2eaf8",
   "metadata": {},
   "outputs": [
    {
     "name": "stdout",
     "output_type": "stream",
     "text": [
      "A person has 2 legs\n",
      "A cat has 4 legs\n",
      "A spider has 8 legs\n"
     ]
    }
   ],
   "source": [
    "d ={'person': 2, 'cat': 4, 'spider': 8}\n",
    "for animal, legs in d.items():\n",
    "    print('A %s has %d legs' %(animal , legs))\n",
    "#출력 \"A person has 2 legs\", \"A spider has 8 legs\", \"A cat has 4 legs\", 한 줄에 하나씩"
   ]
  },
  {
   "cell_type": "code",
   "execution_count": 80,
   "id": "54234f60",
   "metadata": {},
   "outputs": [
    {
     "name": "stdout",
     "output_type": "stream",
     "text": [
      "True\n",
      "{'cat': 1, 'dog': 2, 'tiger': 3}\n"
     ]
    }
   ],
   "source": [
    "d = {'cat':1, \"dog\":2}\n",
    "print('cat' in d)\n",
    "d['tiger'] = 3\n",
    "print(d)"
   ]
  },
  {
   "cell_type": "markdown",
   "id": "95faa407",
   "metadata": {},
   "source": [
    "## dictionary comprehensions"
   ]
  },
  {
   "cell_type": "code",
   "execution_count": 81,
   "id": "434b6c4c",
   "metadata": {},
   "outputs": [
    {
     "name": "stdout",
     "output_type": "stream",
     "text": [
      "{0: 0, 2: 4, 4: 16}\n"
     ]
    }
   ],
   "source": [
    "nums = [0,1,2,3,4]\n",
    "even_num_to_square = {x: x ** 2 for x in nums if x % 2 == 0}\n",
    "print(even_num_to_square)"
   ]
  },
  {
   "cell_type": "code",
   "execution_count": 82,
   "id": "ddb8b70a",
   "metadata": {},
   "outputs": [
    {
     "name": "stdout",
     "output_type": "stream",
     "text": [
      "name\t홍길동\n",
      "birth\t1128\n",
      "age\t30\n"
     ]
    }
   ],
   "source": [
    "A={'name':'홍길동', 'birth':'1128', 'age':'30'}\n",
    "for x_key, x_val in A.items():\n",
    "    print(\"{0}\\t{1}\".format(x_key, x_val))"
   ]
  },
  {
   "cell_type": "code",
   "execution_count": 83,
   "id": "c222513d",
   "metadata": {},
   "outputs": [
    {
     "name": "stdout",
     "output_type": "stream",
     "text": [
      "80\n",
      "B has 80 score\n",
      "{'A': 90, 'C': 70}\n"
     ]
    }
   ],
   "source": [
    "a = {'A':90, 'B':80, 'C':70}\n",
    "print(a['B'])\n",
    "for person, score in a.items():\n",
    "    if person == 'B':\n",
    "        print('%s has %d score' %(person, score))\n",
    "\n",
    "del a['B']\n",
    "print(a)"
   ]
  },
  {
   "cell_type": "code",
   "execution_count": 84,
   "id": "94be05c8",
   "metadata": {},
   "outputs": [
    {
     "name": "stdout",
     "output_type": "stream",
     "text": [
      "70\n"
     ]
    }
   ],
   "source": [
    "a = {'A':90, 'B':80}\n",
    "print(a.get('C', 70))"
   ]
  },
  {
   "cell_type": "code",
   "execution_count": 85,
   "id": "3654f11e",
   "metadata": {},
   "outputs": [
    {
     "name": "stdout",
     "output_type": "stream",
     "text": [
      "[('A', 90), ('B', 80), ('C', 70)]\n"
     ]
    }
   ],
   "source": [
    "a = {'A':90, 'B':80, 'C':70}\n",
    "b = list(range(3))\n",
    "i = 0\n",
    "\n",
    "for key, value in a.items():\n",
    "    b[i] = (key, value)\n",
    "    i += 1\n",
    "print(b)"
   ]
  },
  {
   "cell_type": "markdown",
   "id": "596af1f4",
   "metadata": {},
   "source": [
    "## Set"
   ]
  },
  {
   "cell_type": "code",
   "execution_count": 86,
   "id": "0b1a9dc8",
   "metadata": {},
   "outputs": [
    {
     "data": {
      "text/plain": [
       "{1, 2, 3}"
      ]
     },
     "execution_count": 86,
     "metadata": {},
     "output_type": "execute_result"
    }
   ],
   "source": [
    "s1 = set([1,2,3])\n",
    "s1"
   ]
  },
  {
   "cell_type": "code",
   "execution_count": 87,
   "id": "97648f33",
   "metadata": {},
   "outputs": [
    {
     "data": {
      "text/plain": [
       "{'H', 'e', 'l', 'o'}"
      ]
     },
     "execution_count": 87,
     "metadata": {},
     "output_type": "execute_result"
    }
   ],
   "source": [
    "s2 = set(\"Hello\")\n",
    "s2"
   ]
  },
  {
   "cell_type": "code",
   "execution_count": 88,
   "id": "db1692a9",
   "metadata": {},
   "outputs": [
    {
     "name": "stdout",
     "output_type": "stream",
     "text": [
      "<class 'set'> {'cat', 'dog'}\n"
     ]
    }
   ],
   "source": [
    "animals = {'cat', 'dog'}\n",
    "print(type(animals), animals)"
   ]
  },
  {
   "cell_type": "code",
   "execution_count": 89,
   "id": "bb3731f6",
   "metadata": {},
   "outputs": [
    {
     "name": "stdout",
     "output_type": "stream",
     "text": [
      "#1: cat\n",
      "#2: dog\n",
      "#3: fish\n"
     ]
    }
   ],
   "source": [
    "animals = {'cat', 'dog', 'fish'}\n",
    "for idx, animal in enumerate(animals):\n",
    "    print(\"#%d: %s\" %(idx + 1, animal))"
   ]
  },
  {
   "cell_type": "markdown",
   "id": "f20a8b5f",
   "metadata": {},
   "source": [
    "### 집합의 연산"
   ]
  },
  {
   "cell_type": "code",
   "execution_count": 90,
   "id": "cbd5b07d",
   "metadata": {},
   "outputs": [
    {
     "name": "stdout",
     "output_type": "stream",
     "text": [
      "{4, 5, 6}\n",
      "{4, 5, 6}\n"
     ]
    }
   ],
   "source": [
    "s1 = set([1,2,3,4,5,6])\n",
    "s2 = set([4,5,6,7,8,9])\n",
    "print(s1 & s2)\n",
    "print(s1.intersection(s2))"
   ]
  },
  {
   "cell_type": "code",
   "execution_count": 91,
   "id": "f947b58e",
   "metadata": {},
   "outputs": [
    {
     "name": "stdout",
     "output_type": "stream",
     "text": [
      "{1, 2, 3, 4, 5, 6, 7, 8, 9}\n",
      "{1, 2, 3, 4, 5, 6, 7, 8, 9}\n"
     ]
    }
   ],
   "source": [
    "print(s1|s2)\n",
    "print(s1.union(s2))"
   ]
  },
  {
   "cell_type": "code",
   "execution_count": 92,
   "id": "cc9b4cd9",
   "metadata": {},
   "outputs": [
    {
     "name": "stdout",
     "output_type": "stream",
     "text": [
      "{1, 2, 3}\n",
      "{1, 2, 3}\n"
     ]
    }
   ],
   "source": [
    "print(s1-s2)\n",
    "print(s1.difference(s2))"
   ]
  },
  {
   "cell_type": "code",
   "execution_count": 93,
   "id": "99aec063",
   "metadata": {},
   "outputs": [
    {
     "name": "stdout",
     "output_type": "stream",
     "text": [
      "3\n",
      "3\n",
      "2\n"
     ]
    }
   ],
   "source": [
    "animals = {'cat', 'dog'}\n",
    "animals.add('fish')\n",
    "print(len(animals))\n",
    "animals.add('cat')\n",
    "print(len(animals))\n",
    "animals.remove('cat')\n",
    "print(len(animals))"
   ]
  },
  {
   "cell_type": "code",
   "execution_count": 94,
   "id": "037992b7",
   "metadata": {},
   "outputs": [
    {
     "name": "stdout",
     "output_type": "stream",
     "text": [
      "{0, 1, 2, 3, 4, 5}\n"
     ]
    }
   ],
   "source": [
    "from math import sqrt\n",
    "nums = {int(sqrt(x)) for x in range(30)}\n",
    "print(nums)"
   ]
  },
  {
   "cell_type": "code",
   "execution_count": 95,
   "id": "24a48e93",
   "metadata": {},
   "outputs": [
    {
     "name": "stdout",
     "output_type": "stream",
     "text": [
      "('a', 'b', ('ab', 'cd'))\n"
     ]
    }
   ],
   "source": [
    "t5 = ('a', 'b', ('ab', 'cd'))\n",
    "print(t5)"
   ]
  },
  {
   "cell_type": "code",
   "execution_count": 96,
   "id": "a5e4fac9",
   "metadata": {},
   "outputs": [
    {
     "name": "stdout",
     "output_type": "stream",
     "text": [
      "<class 'tuple'>\n",
      "<class 'int'>\n"
     ]
    }
   ],
   "source": [
    "a = (1, )\n",
    "print(type(a))\n",
    "b = (1)\n",
    "print(type(b))"
   ]
  },
  {
   "cell_type": "code",
   "execution_count": 97,
   "id": "c950637c",
   "metadata": {},
   "outputs": [
    {
     "data": {
      "text/plain": [
       "(2, 'b')"
      ]
     },
     "execution_count": 97,
     "metadata": {},
     "output_type": "execute_result"
    }
   ],
   "source": [
    "t1 = (1, 2, 'a', 'b')\n",
    "t1[1], t1[3]"
   ]
  },
  {
   "cell_type": "code",
   "execution_count": 98,
   "id": "31d984b3",
   "metadata": {},
   "outputs": [
    {
     "data": {
      "text/plain": [
       "(1, 2, 'a', 'b', 3, 4)"
      ]
     },
     "execution_count": 98,
     "metadata": {},
     "output_type": "execute_result"
    }
   ],
   "source": [
    "t2 = (3, 4)\n",
    "t1 + t2"
   ]
  },
  {
   "cell_type": "code",
   "execution_count": 99,
   "id": "6142584d",
   "metadata": {},
   "outputs": [
    {
     "name": "stdout",
     "output_type": "stream",
     "text": [
      "<class 'dict'>\n",
      "{(0, 1): 0, (1, 2): 1, (2, 3): 2, (3, 4): 3, (4, 5): 4, (5, 6): 5, (6, 7): 6, (7, 8): 7, (8, 9): 8, (9, 10): 9, 'test': 1}\n",
      "5\n",
      "1\n"
     ]
    }
   ],
   "source": [
    "d = {(x, x+1):x for x in range(10)}\n",
    "t = (5,6)\n",
    "print(type(d))\n",
    "d['test']=1\n",
    "print(d)\n",
    "print(d[t])\n",
    "print(d[(1,2)])"
   ]
  },
  {
   "cell_type": "markdown",
   "id": "7857ca6e",
   "metadata": {},
   "source": [
    "**Mutable vs Immutable Type**\n",
    "- immutable type : number, string, tuple\n",
    "- mutable type : list, dictionary, set"
   ]
  },
  {
   "cell_type": "code",
   "execution_count": 100,
   "id": "bd2ba96d",
   "metadata": {},
   "outputs": [],
   "source": [
    "import numpy as np\n",
    "\n",
    "def my_func3(D):\n",
    "    m = np.mean(D)\n",
    "    s = np.std(D)\n",
    "    return m, s"
   ]
  },
  {
   "cell_type": "code",
   "execution_count": 101,
   "id": "50a77747",
   "metadata": {},
   "outputs": [
    {
     "name": "stdout",
     "output_type": "stream",
     "text": [
      "mean: 0.14, std: 0.98\n"
     ]
    }
   ],
   "source": [
    "data = np.random.randn(100)\n",
    "data_mean, data_std = my_func3(data)\n",
    "print(\"mean: {0:3.2f}, std: {1:3.2f}\".format(data_mean, data_std))"
   ]
  },
  {
   "cell_type": "code",
   "execution_count": 102,
   "id": "5f831ab7",
   "metadata": {},
   "outputs": [
    {
     "name": "stdout",
     "output_type": "stream",
     "text": [
      "(0.1417371954557429, 0.9822119447493748)\n",
      "<class 'tuple'>\n",
      "mean:0.14, std:0.98\n"
     ]
    }
   ],
   "source": [
    "output = my_func3(data)\n",
    "print(output)\n",
    "print(type(output))\n",
    "print('mean:{0:3.2f}, std:{1:3.2f}'.format(output[0], output[1]))"
   ]
  },
  {
   "cell_type": "markdown",
   "id": "6dc0b344",
   "metadata": {},
   "source": [
    "## lambda FCT."
   ]
  },
  {
   "cell_type": "code",
   "execution_count": 103,
   "id": "e3b47fe6",
   "metadata": {},
   "outputs": [
    {
     "data": {
      "text/plain": [
       "6"
      ]
     },
     "execution_count": 103,
     "metadata": {},
     "output_type": "execute_result"
    }
   ],
   "source": [
    "(lambda x,y,z: x*y*z)(1,2,3)"
   ]
  },
  {
   "cell_type": "code",
   "execution_count": 104,
   "id": "7c5b4163",
   "metadata": {},
   "outputs": [
    {
     "name": "stdout",
     "output_type": "stream",
     "text": [
      "7\n"
     ]
    }
   ],
   "source": [
    "add = lambda x,y: x+y\n",
    "result = add(3,4)\n",
    "print(result)"
   ]
  },
  {
   "cell_type": "code",
   "execution_count": 105,
   "id": "8a465627",
   "metadata": {},
   "outputs": [
    {
     "name": "stdout",
     "output_type": "stream",
     "text": [
      "홀수\n"
     ]
    }
   ],
   "source": [
    "example = lambda a: a%2\n",
    "result = example(3)\n",
    "if result == 0:\n",
    "    print(\"짝수\")\n",
    "else:\n",
    "    print(\"홀수\")"
   ]
  },
  {
   "cell_type": "markdown",
   "id": "b5a2b90d",
   "metadata": {},
   "source": [
    "## 고차함수"
   ]
  },
  {
   "cell_type": "markdown",
   "id": "b8bdd5f4",
   "metadata": {},
   "source": [
    "### filter(function, list)\n",
    "- True가 되는 값만 따로 모아서 리스트 형태로 반환"
   ]
  },
  {
   "cell_type": "code",
   "execution_count": 114,
   "id": "aec49c68",
   "metadata": {},
   "outputs": [
    {
     "name": "stdout",
     "output_type": "stream",
     "text": [
      "<class 'filter'>\n",
      "[5, 7, 11, 13, 17, 19, 23]\n"
     ]
    }
   ],
   "source": [
    "def f(x):\n",
    "    return x%2 != 0 and x%3 != 0 #2의 배수와 3의 배수가 아닌것\n",
    "\n",
    "res = filter(f, range(2,24))\n",
    "print(type(res))\n",
    "print(list(res))"
   ]
  },
  {
   "cell_type": "code",
   "execution_count": 115,
   "id": "4efa4465",
   "metadata": {},
   "outputs": [
    {
     "name": "stdout",
     "output_type": "stream",
     "text": [
      "[0, 2, 4, 6, 8]\n"
     ]
    }
   ],
   "source": [
    "result = filter(lambda x:x%2==0, range(0,10))\n",
    "print(list(result))"
   ]
  },
  {
   "cell_type": "markdown",
   "id": "e98d2727",
   "metadata": {},
   "source": [
    "### map(function, seq)\n",
    "- 함수와 시퀀스 자료형(리스트, 튜플, 문자열)을 입력으로 받아서 시퀀스 자료형의 각각의 요소가 함수의 입력으로 들어간 다음 나오는 출력값을 묶어서 리스트로 반환"
   ]
  },
  {
   "cell_type": "code",
   "execution_count": 116,
   "id": "377aba0c",
   "metadata": {},
   "outputs": [
    {
     "name": "stdout",
     "output_type": "stream",
     "text": [
      "<class 'map'>\n",
      "[1, 8, 27, 64, 125, 216, 343]\n",
      "[0, 2, 4, 6, 8, 10, 12, 14]\n"
     ]
    }
   ],
   "source": [
    "def cube(x):\n",
    "    return x**3\n",
    "\n",
    "def add(x,y):\n",
    "    return x+y\n",
    "\n",
    "res = map(cube, range(1,8))\n",
    "print(type(res))\n",
    "print(list(res))\n",
    "\n",
    "seq = range(8)\n",
    "res = map(add, seq, seq)\n",
    "print(list(res))"
   ]
  },
  {
   "cell_type": "code",
   "execution_count": 117,
   "id": "28d92ec6",
   "metadata": {},
   "outputs": [
    {
     "name": "stdout",
     "output_type": "stream",
     "text": [
      "정수 리스트를 입력하시오1 2 2 3\n",
      "['1', '2', '2', '3']\n",
      "[2, 4, 4, 6]\n"
     ]
    }
   ],
   "source": [
    "double = lambda x: 2*x\n",
    "\n",
    "i = input(\"정수 리스트를 입력하시오\")\n",
    "o = i.split()\n",
    "print(o)\n",
    "\n",
    "number_list = list()\n",
    "Result = list()\n",
    "for t in o:\n",
    "    p = int(t)\n",
    "    number_list.append(p)\n",
    "\n",
    "result = map(double, number_list)\n",
    "print(list(result))"
   ]
  },
  {
   "cell_type": "markdown",
   "id": "0dde3c3a",
   "metadata": {},
   "source": [
    "### reduce(function, seq)\n",
    "- 함수와 시퀀스의 두 값을 받아 시퀀스의 처음 두 항목을 가지고 연산을 한 후, 그 결과값을 그 다음 항목과 계속 연산하여 하나의 값을 반환"
   ]
  },
  {
   "cell_type": "code",
   "execution_count": 119,
   "id": "e0374745",
   "metadata": {},
   "outputs": [
    {
     "data": {
      "text/plain": [
       "55"
      ]
     },
     "execution_count": 119,
     "metadata": {},
     "output_type": "execute_result"
    }
   ],
   "source": [
    "from functools import reduce\n",
    "\n",
    "reduce(lambda x,y: x+y, range(11)) #1~10까지 합을 출력"
   ]
  },
  {
   "cell_type": "markdown",
   "id": "172f208f",
   "metadata": {},
   "source": [
    "## Class\n",
    "- Class선언 -> 객체 생성 -> 멤버 호출"
   ]
  },
  {
   "cell_type": "code",
   "execution_count": 121,
   "id": "e4c1acf1",
   "metadata": {},
   "outputs": [],
   "source": [
    "#class 선언\n",
    "class Test:\n",
    "    # 생성자\n",
    "    def __init__(self):\n",
    "        self.data = list()\n",
    "    \n",
    "    # 인스턴스 메소드\n",
    "    def add(self, x):\n",
    "        self.data.append(x)"
   ]
  },
  {
   "cell_type": "code",
   "execution_count": 122,
   "id": "2a070e2f",
   "metadata": {},
   "outputs": [],
   "source": [
    "#객체 생성\n",
    "my01 = Test()\n",
    "my02 = my01\n",
    "my03 = Test()"
   ]
  },
  {
   "cell_type": "code",
   "execution_count": 123,
   "id": "8bf549c7",
   "metadata": {},
   "outputs": [
    {
     "name": "stdout",
     "output_type": "stream",
     "text": [
      "[1, 2, 3, 4, 5]\n",
      "[1, 2, 3, 4, 5]\n",
      "[]\n"
     ]
    }
   ],
   "source": [
    "#멤버 호출\n",
    "for i in range(1, 6):\n",
    "    my01.add(i)\n",
    "print(my01.data)\n",
    "print(my02.data)\n",
    "print(my03.data)"
   ]
  },
  {
   "cell_type": "code",
   "execution_count": 124,
   "id": "084f98ea",
   "metadata": {},
   "outputs": [
    {
     "name": "stdout",
     "output_type": "stream",
     "text": [
      "Hello, Fred\n",
      "Hello, FRED!\n",
      "Fred\n"
     ]
    }
   ],
   "source": [
    "#Example\n",
    "class Greeter:\n",
    "    def __init__(self, name):\n",
    "        self.name = name\n",
    "    \n",
    "    def greet(self, loud=False):\n",
    "        if loud:\n",
    "            print (\"Hello, %s!\" % self.name.upper())\n",
    "        else:\n",
    "            print (\"Hello, %s\" %self.name)\n",
    "            \n",
    "g = Greeter('Fred')\n",
    "g.greet()\n",
    "g.greet(loud=True)\n",
    "print(g.name)"
   ]
  },
  {
   "cell_type": "code",
   "execution_count": 129,
   "id": "1b8a77bb",
   "metadata": {},
   "outputs": [
    {
     "name": "stdout",
     "output_type": "stream",
     "text": [
      "15 3.0\n",
      "40 8.0\n"
     ]
    }
   ],
   "source": [
    "class Calculator:\n",
    "    def __init__(self, l):\n",
    "        self.list = l\n",
    "    \n",
    "    def sum(self):\n",
    "        s = 0\n",
    "        for i in self.list:\n",
    "            s += i\n",
    "        return s\n",
    "    \n",
    "    def avg(self):\n",
    "        return sum(self.list)/len(self.list)\n",
    "\n",
    "cal1 = Calculator([1,2,3,4,5])\n",
    "print(cal1.sum(), cal1.avg())\n",
    "cal2 = Calculator([6,7,8,9,10])\n",
    "print(cal2.sum(), cal2.avg())"
   ]
  },
  {
   "cell_type": "code",
   "execution_count": 130,
   "id": "a7c356a3",
   "metadata": {},
   "outputs": [],
   "source": [
    "class Test:\n",
    "    count = 0 #class variable\n",
    "    \n",
    "    def __init__(self):\n",
    "        self.data = list()\n",
    "        Test.count += 1 #count 증가\n",
    "    \n",
    "    def add(self, x):\n",
    "        self.data.append(x)\n",
    "    \n",
    "    @classmethod #class method\n",
    "    def getCount(cls):\n",
    "        return cls.count"
   ]
  },
  {
   "cell_type": "code",
   "execution_count": 131,
   "id": "da584162",
   "metadata": {},
   "outputs": [],
   "source": [
    "my01 = Test()\n",
    "my02 = my01\n",
    "my03 = Test()"
   ]
  },
  {
   "cell_type": "code",
   "execution_count": 139,
   "id": "680f0609",
   "metadata": {},
   "outputs": [
    {
     "name": "stdout",
     "output_type": "stream",
     "text": [
      "Test.getCount() 2\n",
      "Test.count= 2\n"
     ]
    }
   ],
   "source": [
    "print(\"Test.getCount()\", Test.getCount())\n",
    "print(\"Test.count=\", Test.count)"
   ]
  },
  {
   "cell_type": "markdown",
   "id": "a51040f7",
   "metadata": {},
   "source": [
    "## Inheritance"
   ]
  },
  {
   "cell_type": "code",
   "execution_count": 153,
   "id": "f57415e7",
   "metadata": {},
   "outputs": [],
   "source": [
    "class Person:\n",
    "    def __init__(self, name, age): #이름과 나이를 입력받아 초기화\n",
    "        self.name = str(name)\n",
    "        self.age = str(age)\n",
    "    \n",
    "    def personInfo(self):\n",
    "        return \"name = {0}, age = {1}\" .format(self.name, self.age)\n",
    "\n",
    "class Student(Person):\n",
    "    def __init__(self, name, age, grade):\n",
    "        super().__init__(name, age)\n",
    "        self.grade = str(grade)\n",
    "    \n",
    "    def getStudent(self):\n",
    "        return super().personInfo() + \", grade = %s\" %(self.grade)"
   ]
  },
  {
   "cell_type": "code",
   "execution_count": 154,
   "id": "d0ff00c6",
   "metadata": {},
   "outputs": [
    {
     "name": "stdout",
     "output_type": "stream",
     "text": [
      "name = Domonica, age = 12\n",
      "name = Ruri, age = 7\n",
      "name = Ruri, age = 7, grade = 3\n"
     ]
    }
   ],
   "source": [
    "x = Person(\"Domonica\", 12)\n",
    "y = Student(\"Ruri\", 7, 3)\n",
    "\n",
    "print(x.personInfo())\n",
    "print(y.personInfo())\n",
    "print(y.getStudent())"
   ]
  },
  {
   "cell_type": "code",
   "execution_count": 155,
   "id": "9e39e7fe",
   "metadata": {},
   "outputs": [],
   "source": [
    "class Test:\n",
    "    def __init__(self, a, b):\n",
    "        self.number1 = a\n",
    "        self.number2 = b\n",
    "    \n",
    "    def test_function(self):\n",
    "        return \"제 나이는 {0}입니다.\".format(self.number1)\n",
    "\n",
    "    def test3(self):\n",
    "        return \"제 번호는 {0}입니다.\".format(self.number2)\n",
    "\n",
    "class Test2(Test):\n",
    "    def __init__(self, a, b, c):\n",
    "        super().__init__(a, b)\n",
    "        self.name = c\n",
    "    \n",
    "    def call(self):\n",
    "        return super().test3()"
   ]
  },
  {
   "cell_type": "code",
   "execution_count": 157,
   "id": "34478ea1",
   "metadata": {},
   "outputs": [
    {
     "name": "stdout",
     "output_type": "stream",
     "text": [
      "제 나이는 10입니다.\n",
      "제 번호는 20입니다.\n"
     ]
    }
   ],
   "source": [
    "x = Test2(10, 20, 30)\n",
    "print(x.test_function())\n",
    "print(x.call())"
   ]
  },
  {
   "cell_type": "markdown",
   "id": "97478413",
   "metadata": {},
   "source": [
    "## Overriding\n",
    "- 메소드 재정의"
   ]
  },
  {
   "cell_type": "code",
   "execution_count": 158,
   "id": "ee0bcd33",
   "metadata": {},
   "outputs": [],
   "source": [
    "class Person:\n",
    "    def __init__(self, name, age):    # 이름과 나이를 입력 받아 초기화\n",
    "        self.name = name\n",
    "        self.age = age\n",
    "        \n",
    "    def getInfo(self):    # 이름과 나이를 출력하는 메소드\n",
    "        return \"name = \" + self.name + \"  age = \" + str(self.age)\n",
    "    \n",
    "class Student(Person):\n",
    "    def __init__(self, name, age, grade):\n",
    "        super().__init__(name, age)    # Person.__init__(self,name,age)\n",
    "        self.grade = grade\n",
    "        \n",
    "    def getInfo(self):\n",
    "        return super().getInfo() + \"  grade = \" + str(self.grade)"
   ]
  },
  {
   "cell_type": "code",
   "execution_count": 159,
   "id": "0ffb245c",
   "metadata": {},
   "outputs": [
    {
     "name": "stdout",
     "output_type": "stream",
     "text": [
      "name = Domonica  age = 12\n",
      "name = Ruri  age = 7  grade = 3\n"
     ]
    }
   ],
   "source": [
    "x = Person(\"Domonica\", 12)\n",
    "y = Student(\"Ruri\", 7, 3)\n",
    "\n",
    "print(x.getInfo())\n",
    "print(y.getInfo())"
   ]
  }
 ],
 "metadata": {
  "kernelspec": {
   "display_name": "Python 3 (ipykernel)",
   "language": "python",
   "name": "python3"
  },
  "language_info": {
   "codemirror_mode": {
    "name": "ipython",
    "version": 3
   },
   "file_extension": ".py",
   "mimetype": "text/x-python",
   "name": "python",
   "nbconvert_exporter": "python",
   "pygments_lexer": "ipython3",
   "version": "3.9.12"
  }
 },
 "nbformat": 4,
 "nbformat_minor": 5
}
