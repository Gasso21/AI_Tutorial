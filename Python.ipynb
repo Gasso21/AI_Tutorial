{
 "cells": [
  {
   "cell_type": "markdown",
   "id": "12a45400",
   "metadata": {},
   "source": [
    "## 사칙연산"
   ]
  },
  {
   "cell_type": "code",
   "execution_count": 2,
   "id": "b3820578",
   "metadata": {},
   "outputs": [
    {
     "data": {
      "text/plain": [
       "256"
      ]
     },
     "execution_count": 2,
     "metadata": {},
     "output_type": "execute_result"
    }
   ],
   "source": [
    "2**8 #2^8"
   ]
  },
  {
   "cell_type": "code",
   "execution_count": 3,
   "id": "782029a5",
   "metadata": {},
   "outputs": [
    {
     "data": {
      "text/plain": [
       "1.75"
      ]
     },
     "execution_count": 3,
     "metadata": {},
     "output_type": "execute_result"
    }
   ],
   "source": [
    "7/4 #실수형 나눗셈"
   ]
  },
  {
   "cell_type": "code",
   "execution_count": 4,
   "id": "145ed7f0",
   "metadata": {},
   "outputs": [
    {
     "data": {
      "text/plain": [
       "1"
      ]
     },
     "execution_count": 4,
     "metadata": {},
     "output_type": "execute_result"
    }
   ],
   "source": [
    "7//4 #정수형 나눗셈, 몫 반환"
   ]
  },
  {
   "cell_type": "code",
   "execution_count": 6,
   "id": "3ce4248d",
   "metadata": {},
   "outputs": [
    {
     "data": {
      "text/plain": [
       "3"
      ]
     },
     "execution_count": 6,
     "metadata": {},
     "output_type": "execute_result"
    }
   ],
   "source": [
    "7%4 #정수형 나눗셈, 나머지 반환"
   ]
  },
  {
   "cell_type": "markdown",
   "id": "c453f78d",
   "metadata": {},
   "source": [
    "## 변수"
   ]
  },
  {
   "cell_type": "code",
   "execution_count": 7,
   "id": "fa00af2e",
   "metadata": {},
   "outputs": [
    {
     "data": {
      "text/plain": [
       "0.8"
      ]
     },
     "execution_count": 7,
     "metadata": {},
     "output_type": "execute_result"
    }
   ],
   "source": [
    "x = 1/5\n",
    "y = 3/5\n",
    "x+y"
   ]
  },
  {
   "cell_type": "markdown",
   "id": "a6a0c0ea",
   "metadata": {},
   "source": [
    "## 자료형"
   ]
  },
  {
   "cell_type": "code",
   "execution_count": 8,
   "id": "9f67b46f",
   "metadata": {},
   "outputs": [
    {
     "data": {
      "text/plain": [
       "int"
      ]
     },
     "execution_count": 8,
     "metadata": {},
     "output_type": "execute_result"
    }
   ],
   "source": [
    "type(100)"
   ]
  },
  {
   "cell_type": "code",
   "execution_count": 9,
   "id": "8097dd11",
   "metadata": {},
   "outputs": [
    {
     "data": {
      "text/plain": [
       "float"
      ]
     },
     "execution_count": 9,
     "metadata": {},
     "output_type": "execute_result"
    }
   ],
   "source": [
    "type(100.1)"
   ]
  },
  {
   "cell_type": "code",
   "execution_count": 10,
   "id": "987acf2a",
   "metadata": {},
   "outputs": [
    {
     "data": {
      "text/plain": [
       "str"
      ]
     },
     "execution_count": 10,
     "metadata": {},
     "output_type": "execute_result"
    }
   ],
   "source": [
    "x = 'learning'\n",
    "type(x)"
   ]
  },
  {
   "cell_type": "code",
   "execution_count": 12,
   "id": "b2980342",
   "metadata": {},
   "outputs": [
    {
     "name": "stdout",
     "output_type": "stream",
     "text": [
      "hello world\n"
     ]
    }
   ],
   "source": [
    "hello = \"hello\"\n",
    "world = \"world\"\n",
    "hw = hello + ' ' + world\n",
    "print(hw)"
   ]
  },
  {
   "cell_type": "code",
   "execution_count": 13,
   "id": "57dfc555",
   "metadata": {},
   "outputs": [
    {
     "name": "stdout",
     "output_type": "stream",
     "text": [
      "hello world\n"
     ]
    }
   ],
   "source": [
    "hw = 'hello %s' %'world'\n",
    "print(hw)"
   ]
  },
  {
   "cell_type": "code",
   "execution_count": 15,
   "id": "38ed5b53",
   "metadata": {},
   "outputs": [
    {
     "name": "stdout",
     "output_type": "stream",
     "text": [
      "hello world 12\n"
     ]
    }
   ],
   "source": [
    "hw12 = '%s %s %d' %(hello, 'world', 12)\n",
    "print(hw12)"
   ]
  },
  {
   "cell_type": "code",
   "execution_count": 16,
   "id": "479542b7",
   "metadata": {},
   "outputs": [
    {
     "data": {
      "text/plain": [
       "'        hi'"
      ]
     },
     "execution_count": 16,
     "metadata": {},
     "output_type": "execute_result"
    }
   ],
   "source": [
    "'%10s' %\"hi\""
   ]
  },
  {
   "cell_type": "code",
   "execution_count": 17,
   "id": "a3c3a491",
   "metadata": {},
   "outputs": [
    {
     "data": {
      "text/plain": [
       "'hi        jane.'"
      ]
     },
     "execution_count": 17,
     "metadata": {},
     "output_type": "execute_result"
    }
   ],
   "source": [
    "'%-10sjane.' %'hi'"
   ]
  },
  {
   "cell_type": "code",
   "execution_count": 21,
   "id": "a2994ff5",
   "metadata": {},
   "outputs": [
    {
     "data": {
      "text/plain": [
       "'1223.4232'"
      ]
     },
     "execution_count": 21,
     "metadata": {},
     "output_type": "execute_result"
    }
   ],
   "source": [
    "'%0.4f' %1223.423173 #반올림"
   ]
  },
  {
   "cell_type": "code",
   "execution_count": 26,
   "id": "c0fdd437",
   "metadata": {},
   "outputs": [
    {
     "data": {
      "text/plain": [
       "'1232123.4231'"
      ]
     },
     "execution_count": 26,
     "metadata": {},
     "output_type": "execute_result"
    }
   ],
   "source": [
    "'%2.4f' %1232123.4231223"
   ]
  },
  {
   "cell_type": "code",
   "execution_count": 31,
   "id": "b2bd2c6d",
   "metadata": {},
   "outputs": [
    {
     "name": "stdout",
     "output_type": "stream",
     "text": [
      "Life is too short\n",
      "['Life', 'is', 'too', 'short']\n"
     ]
    }
   ],
   "source": [
    "a = \"Life is too short\"\n",
    "b = a.split()\n",
    "print(a)\n",
    "print(b)"
   ]
  },
  {
   "cell_type": "code",
   "execution_count": 34,
   "id": "6911f8d9",
   "metadata": {},
   "outputs": [
    {
     "name": "stdout",
     "output_type": "stream",
     "text": [
      "['a', 'b', 'c', 'd']\n"
     ]
    }
   ],
   "source": [
    "a = \"a:b:c:d\"\n",
    "b = a.split(\":\")\n",
    "print(b)"
   ]
  },
  {
   "cell_type": "code",
   "execution_count": 35,
   "id": "6d63ce87",
   "metadata": {},
   "outputs": [
    {
     "name": "stdout",
     "output_type": "stream",
     "text": [
      "Abracadabra 11.000 homework\n"
     ]
    }
   ],
   "source": [
    "a = \"Abracadabra %.3f homework\"\n",
    "b = 11\n",
    "c = a%b\n",
    "print(c)"
   ]
  },
  {
   "cell_type": "code",
   "execution_count": 36,
   "id": "fae5623c",
   "metadata": {},
   "outputs": [
    {
     "name": "stdout",
     "output_type": "stream",
     "text": [
      "1\n"
     ]
    }
   ],
   "source": [
    "print(a.count('A'))"
   ]
  },
  {
   "cell_type": "code",
   "execution_count": 38,
   "id": "61e31c3e",
   "metadata": {},
   "outputs": [
    {
     "name": "stdout",
     "output_type": "stream",
     "text": [
      "1\n"
     ]
    }
   ],
   "source": [
    "print(a.find('b'))"
   ]
  },
  {
   "cell_type": "code",
   "execution_count": 39,
   "id": "2696365b",
   "metadata": {},
   "outputs": [
    {
     "name": "stdout",
     "output_type": "stream",
     "text": [
      "ABRACADABRA %.3F HOMEWORK\n"
     ]
    }
   ],
   "source": [
    "A = a.upper()\n",
    "print(A)"
   ]
  },
  {
   "cell_type": "code",
   "execution_count": 42,
   "id": "b7f98720",
   "metadata": {},
   "outputs": [
    {
     "name": "stdout",
     "output_type": "stream",
     "text": [
      "ABRACADABRA 11.000 HOMEWORK\n"
     ]
    }
   ],
   "source": [
    "print(A%b)"
   ]
  },
  {
   "cell_type": "code",
   "execution_count": 44,
   "id": "48b41d5d",
   "metadata": {},
   "outputs": [
    {
     "name": "stdout",
     "output_type": "stream",
     "text": [
      "ABRACADABRA:%.3F:HOMEWORK\n"
     ]
    }
   ],
   "source": [
    "A = A.replace(' ',':')\n",
    "print(A)"
   ]
  },
  {
   "cell_type": "code",
   "execution_count": 47,
   "id": "a1b6eee8",
   "metadata": {},
   "outputs": [
    {
     "name": "stdout",
     "output_type": "stream",
     "text": [
      "['ABRACADABRA', '%.3F', 'HOMEWORK']\n"
     ]
    }
   ],
   "source": [
    "print(A.split(':'))"
   ]
  },
  {
   "cell_type": "markdown",
   "id": "e53ffced",
   "metadata": {},
   "source": [
    "## Boolean"
   ]
  },
  {
   "cell_type": "code",
   "execution_count": 52,
   "id": "aa112278",
   "metadata": {},
   "outputs": [
    {
     "name": "stdout",
     "output_type": "stream",
     "text": [
      "<class 'bool'>\n",
      "False\n",
      "True\n",
      "False\n",
      "True\n"
     ]
    }
   ],
   "source": [
    "t = True\n",
    "f = False\n",
    "print(type(t))\n",
    "print(t and f)\n",
    "print(t or f)\n",
    "print(not t)\n",
    "print(t != f)"
   ]
  },
  {
   "cell_type": "code",
   "execution_count": 53,
   "id": "0bc71fe0",
   "metadata": {},
   "outputs": [
    {
     "name": "stdout",
     "output_type": "stream",
     "text": [
      "Life is too short\n"
     ]
    }
   ],
   "source": [
    "print(\"Life\",\"is\",\"too short\")"
   ]
  },
  {
   "cell_type": "markdown",
   "id": "de9c6e2c",
   "metadata": {},
   "source": [
    "## String Output formatting"
   ]
  },
  {
   "cell_type": "code",
   "execution_count": 54,
   "id": "4dae01a1",
   "metadata": {},
   "outputs": [
    {
     "name": "stdout",
     "output_type": "stream",
     "text": [
      "weight = 71 kg\n"
     ]
    }
   ],
   "source": [
    "x = 71\n",
    "print('weight = {0} kg'.format(x))"
   ]
  },
  {
   "cell_type": "code",
   "execution_count": 55,
   "id": "a0e5b573",
   "metadata": {},
   "outputs": [
    {
     "name": "stdout",
     "output_type": "stream",
     "text": [
      "weight : 0.3333333333333333 kg 0.6666666666666666 kg 1 kg\n"
     ]
    }
   ],
   "source": [
    "x = 1/3\n",
    "y = 2/3\n",
    "z = 1\n",
    "print('weight : {0} kg {1} kg {2} kg'.format(x, y, z))"
   ]
  },
  {
   "cell_type": "code",
   "execution_count": 56,
   "id": "b9a96bc4",
   "metadata": {},
   "outputs": [
    {
     "name": "stdout",
     "output_type": "stream",
     "text": [
      "weight : 0.33kg, 0.667kg, 1.0kg\n"
     ]
    }
   ],
   "source": [
    "print('weight : {0:.2f}kg, {1:.3f}kg, {2:.1f}kg'.format(x, y, z))"
   ]
  },
  {
   "cell_type": "markdown",
   "id": "9ea13f98",
   "metadata": {},
   "source": [
    "## input"
   ]
  },
  {
   "cell_type": "code",
   "execution_count": 57,
   "id": "ab7511d6",
   "metadata": {},
   "outputs": [
    {
     "name": "stdout",
     "output_type": "stream",
     "text": [
      "12\n"
     ]
    },
    {
     "data": {
      "text/plain": [
       "'12'"
      ]
     },
     "execution_count": 57,
     "metadata": {},
     "output_type": "execute_result"
    }
   ],
   "source": [
    "a = input()\n",
    "a"
   ]
  },
  {
   "cell_type": "markdown",
   "id": "324f9ab3",
   "metadata": {},
   "source": [
    "## while"
   ]
  },
  {
   "cell_type": "code",
   "execution_count": 60,
   "id": "079d7c1a",
   "metadata": {},
   "outputs": [
    {
     "name": "stdout",
     "output_type": "stream",
     "text": [
      "*\n",
      "**\n",
      "***\n",
      "****\n",
      "*****\n"
     ]
    }
   ],
   "source": [
    "x = \"*\"\n",
    "i = 1\n",
    "while i <= 5:\n",
    "    y = x*i\n",
    "    print(y)\n",
    "    i += 1"
   ]
  },
  {
   "cell_type": "code",
   "execution_count": 61,
   "id": "0b423798",
   "metadata": {},
   "outputs": [
    {
     "name": "stdout",
     "output_type": "stream",
     "text": [
      "166833\n"
     ]
    }
   ],
   "source": [
    "x = 1\n",
    "y = 0\n",
    "while x <= 1000:\n",
    "    if x % 3 == 0:\n",
    "        y += x\n",
    "    x += 1\n",
    "print(y)"
   ]
  },
  {
   "cell_type": "markdown",
   "id": "85fcf4b6",
   "metadata": {},
   "source": [
    "## list"
   ]
  },
  {
   "cell_type": "code",
   "execution_count": 62,
   "id": "2e228953",
   "metadata": {},
   "outputs": [
    {
     "data": {
      "text/plain": [
       "('L', 'i')"
      ]
     },
     "execution_count": 62,
     "metadata": {},
     "output_type": "execute_result"
    }
   ],
   "source": [
    "a = \"Life is too short\"\n",
    "a[0], a[1]"
   ]
  },
  {
   "cell_type": "code",
   "execution_count": 64,
   "id": "97a1a232",
   "metadata": {},
   "outputs": [
    {
     "ename": "TypeError",
     "evalue": "'str' object does not support item assignment",
     "output_type": "error",
     "traceback": [
      "\u001b[0;31m---------------------------------------------------------------------------\u001b[0m",
      "\u001b[0;31mTypeError\u001b[0m                                 Traceback (most recent call last)",
      "Input \u001b[0;32mIn [64]\u001b[0m, in \u001b[0;36m<cell line: 1>\u001b[0;34m()\u001b[0m\n\u001b[0;32m----> 1\u001b[0m a[\u001b[38;5;241m1\u001b[39m] \u001b[38;5;241m=\u001b[39m \u001b[38;5;124m'\u001b[39m\u001b[38;5;124mI\u001b[39m\u001b[38;5;124m'\u001b[39m\n",
      "\u001b[0;31mTypeError\u001b[0m: 'str' object does not support item assignment"
     ]
    }
   ],
   "source": [
    "a[1] = 'I' #문자열은 immutable 객체"
   ]
  },
  {
   "cell_type": "code",
   "execution_count": 66,
   "id": "209944f1",
   "metadata": {},
   "outputs": [
    {
     "data": {
      "text/plain": [
       "'i'"
      ]
     },
     "execution_count": 66,
     "metadata": {},
     "output_type": "execute_result"
    }
   ],
   "source": [
    "b = list(a)\n",
    "b[1]"
   ]
  },
  {
   "cell_type": "code",
   "execution_count": 67,
   "id": "a07dc696",
   "metadata": {},
   "outputs": [],
   "source": [
    "b[1] = 'I'"
   ]
  },
  {
   "cell_type": "code",
   "execution_count": 68,
   "id": "687699ab",
   "metadata": {},
   "outputs": [
    {
     "name": "stdout",
     "output_type": "stream",
     "text": [
      "['L', 'I', 'f', 'e', ' ', 'i', 's', ' ', 't', 'o', 'o', ' ', 's', 'h', 'o', 'r', 't']\n"
     ]
    }
   ],
   "source": [
    "print(b) #리스트는 mutable 객체"
   ]
  },
  {
   "cell_type": "markdown",
   "id": "de2a1d73",
   "metadata": {},
   "source": [
    "## 조건문"
   ]
  },
  {
   "cell_type": "code",
   "execution_count": 69,
   "id": "dc66cfdb",
   "metadata": {},
   "outputs": [
    {
     "data": {
      "text/plain": [
       "True"
      ]
     },
     "execution_count": 69,
     "metadata": {},
     "output_type": "execute_result"
    }
   ],
   "source": [
    "1 in [1,2,3]"
   ]
  },
  {
   "cell_type": "code",
   "execution_count": 70,
   "id": "087c3b0b",
   "metadata": {},
   "outputs": [
    {
     "data": {
      "text/plain": [
       "False"
      ]
     },
     "execution_count": 70,
     "metadata": {},
     "output_type": "execute_result"
    }
   ],
   "source": [
    "1 not in [1,2,3]"
   ]
  },
  {
   "cell_type": "markdown",
   "id": "60b8a54f",
   "metadata": {},
   "source": [
    "## range()"
   ]
  },
  {
   "cell_type": "code",
   "execution_count": 76,
   "id": "0c2fa6cc",
   "metadata": {},
   "outputs": [
    {
     "name": "stdout",
     "output_type": "stream",
     "text": [
      "[3, 5, 7]\n",
      "[9, 8, 7, 6, 5, 4, 3, 2, 1, 0]\n"
     ]
    }
   ],
   "source": [
    "x = list(range(10))\n",
    "print(x[3:8:2])\n",
    "print(x[::-1])"
   ]
  },
  {
   "cell_type": "markdown",
   "id": "23874597",
   "metadata": {},
   "source": [
    "## 반복문"
   ]
  },
  {
   "cell_type": "code",
   "execution_count": 72,
   "id": "7ca1c075",
   "metadata": {},
   "outputs": [
    {
     "name": "stdout",
     "output_type": "stream",
     "text": [
      "1 2 3 "
     ]
    }
   ],
   "source": [
    "for i in [1,2,3]:\n",
    "    print(i, end=' ')"
   ]
  },
  {
   "cell_type": "markdown",
   "id": "f390eb7c",
   "metadata": {},
   "source": [
    "## enumerate FCT."
   ]
  },
  {
   "cell_type": "code",
   "execution_count": 74,
   "id": "250def57",
   "metadata": {},
   "outputs": [
    {
     "name": "stdout",
     "output_type": "stream",
     "text": [
      "#0: cat\n",
      "#1: dog\n",
      "#2: monkey\n"
     ]
    }
   ],
   "source": [
    "animals = ['cat', 'dog', 'monkey']\n",
    "for idx, animal in enumerate(animals):\n",
    "    print('#%d: %s'%(idx, animal))"
   ]
  },
  {
   "cell_type": "code",
   "execution_count": 75,
   "id": "e5520938",
   "metadata": {},
   "outputs": [
    {
     "name": "stdout",
     "output_type": "stream",
     "text": [
      "#1: cat\n",
      "#2: dog\n",
      "#3: monkey\n"
     ]
    }
   ],
   "source": [
    "for idx, animal in enumerate(animals):\n",
    "    print('#%d: %s'%(idx+1, animal))"
   ]
  },
  {
   "cell_type": "markdown",
   "id": "a83c8be0",
   "metadata": {},
   "source": [
    "## .insert() method"
   ]
  },
  {
   "cell_type": "code",
   "execution_count": 86,
   "id": "2ef17636",
   "metadata": {},
   "outputs": [
    {
     "name": "stdout",
     "output_type": "stream",
     "text": [
      "[4, 8, 12, 16, 20]\n"
     ]
    }
   ],
   "source": [
    "num = list(range(2,11,2))\n",
    "i = 0\n",
    "y = list()\n",
    "while i <= 4:\n",
    "    y.insert(i, num[i]*2)\n",
    "    i += 1\n",
    "print(y)"
   ]
  },
  {
   "cell_type": "code",
   "execution_count": 87,
   "id": "01a8b97b",
   "metadata": {},
   "outputs": [
    {
     "name": "stdout",
     "output_type": "stream",
     "text": [
      "[4, 8, 12, 16, 20]\n"
     ]
    }
   ],
   "source": [
    "x = range(5)\n",
    "num = [2, 4, 6, 8, 10]\n",
    "for i in x:\n",
    "    num[i] *= 2\n",
    "print(num)"
   ]
  },
  {
   "cell_type": "code",
   "execution_count": 89,
   "id": "528fbc18",
   "metadata": {},
   "outputs": [
    {
     "name": "stdout",
     "output_type": "stream",
     "text": [
      "[4, 8, 12, 16, 20]\n"
     ]
    }
   ],
   "source": [
    "num = [2,4,6,8,10]\n",
    "y = []\n",
    "for idx, x in enumerate(num):\n",
    "    y.insert(idx, x*2)\n",
    "print(y)"
   ]
  },
  {
   "cell_type": "code",
   "execution_count": 90,
   "id": "544d64cb",
   "metadata": {},
   "outputs": [
    {
     "name": "stdout",
     "output_type": "stream",
     "text": [
      "78.88888888888889\n"
     ]
    }
   ],
   "source": [
    "A_Class = [70, 60, 55, 75, 95, 90, 80, 85, 100]\n",
    "x = 0\n",
    "z = 0\n",
    "for idx, y in enumerate(A_Class):\n",
    "    x += y\n",
    "z = x/(idx+1)\n",
    "print(z)"
   ]
  },
  {
   "cell_type": "markdown",
   "id": "1dfb90ca",
   "metadata": {},
   "source": [
    "## List 연산"
   ]
  },
  {
   "cell_type": "code",
   "execution_count": 91,
   "id": "03a93444",
   "metadata": {},
   "outputs": [
    {
     "name": "stdout",
     "output_type": "stream",
     "text": [
      "[1, 2, 3, 4, 5, 6]\n"
     ]
    }
   ],
   "source": [
    "a = [1,2,3]\n",
    "b = [4,5,6]\n",
    "print(a+b)"
   ]
  },
  {
   "cell_type": "code",
   "execution_count": 93,
   "id": "57c9fe0a",
   "metadata": {},
   "outputs": [
    {
     "name": "stdout",
     "output_type": "stream",
     "text": [
      "[1, 2] 2\n"
     ]
    }
   ],
   "source": [
    "del a[2]\n",
    "print(a, len(a))"
   ]
  },
  {
   "cell_type": "markdown",
   "id": "f6b32c39",
   "metadata": {},
   "source": [
    "## List copy"
   ]
  },
  {
   "cell_type": "code",
   "execution_count": 95,
   "id": "a47dd72c",
   "metadata": {},
   "outputs": [
    {
     "name": "stdout",
     "output_type": "stream",
     "text": [
      "4407849728 4407849728\n"
     ]
    }
   ],
   "source": [
    "a = [1,2,3]\n",
    "b = a\n",
    "print(id(a), id(b)) #동일한 객체"
   ]
  },
  {
   "cell_type": "code",
   "execution_count": 96,
   "id": "3c256480",
   "metadata": {},
   "outputs": [
    {
     "data": {
      "text/plain": [
       "True"
      ]
     },
     "execution_count": 96,
     "metadata": {},
     "output_type": "execute_result"
    }
   ],
   "source": [
    "a is b"
   ]
  },
  {
   "cell_type": "markdown",
   "id": "8b5967a2",
   "metadata": {},
   "source": [
    "### 1.[:] 이용"
   ]
  },
  {
   "cell_type": "code",
   "execution_count": 97,
   "id": "16c2cef4",
   "metadata": {},
   "outputs": [
    {
     "name": "stdout",
     "output_type": "stream",
     "text": [
      "4409316096 4408387904\n"
     ]
    }
   ],
   "source": [
    "a = [1, 2, 3]\n",
    "b = a[:]\n",
    "print(id(a),id(b))"
   ]
  },
  {
   "cell_type": "markdown",
   "id": "e2420b9d",
   "metadata": {},
   "source": [
    "### 2.copy module 이용"
   ]
  },
  {
   "cell_type": "code",
   "execution_count": 99,
   "id": "6a3ce151",
   "metadata": {},
   "outputs": [
    {
     "data": {
      "text/plain": [
       "False"
      ]
     },
     "execution_count": 99,
     "metadata": {},
     "output_type": "execute_result"
    }
   ],
   "source": [
    "a = [1,2,3]\n",
    "from copy import copy\n",
    "b = copy(a)\n",
    "b is a"
   ]
  },
  {
   "cell_type": "code",
   "execution_count": 101,
   "id": "313fb3e0",
   "metadata": {},
   "outputs": [
    {
     "name": "stdout",
     "output_type": "stream",
     "text": [
      "[1, 2, 3]\n"
     ]
    }
   ],
   "source": [
    "a = [1,2,3,4]\n",
    "a.pop()\n",
    "print(a)"
   ]
  },
  {
   "cell_type": "code",
   "execution_count": 102,
   "id": "adde73ac",
   "metadata": {},
   "outputs": [
    {
     "name": "stdout",
     "output_type": "stream",
     "text": [
      "[1, 3, 4]\n"
     ]
    }
   ],
   "source": [
    "a = [1,2,3,4]\n",
    "a.pop(1)\n",
    "print(a)"
   ]
  },
  {
   "cell_type": "code",
   "execution_count": 104,
   "id": "fd713888",
   "metadata": {},
   "outputs": [
    {
     "name": "stdout",
     "output_type": "stream",
     "text": [
      "[1, 2, 3, 4, 5]\n"
     ]
    }
   ],
   "source": [
    "a = [1,2,3]\n",
    "a.extend([4,5]) #.extend([]) list만 들어갈 수 있음\n",
    "print(a)"
   ]
  },
  {
   "cell_type": "code",
   "execution_count": null,
   "id": "73ab1723",
   "metadata": {},
   "outputs": [],
   "source": [
    "A = list()\n",
    "a ="
   ]
  }
 ],
 "metadata": {
  "kernelspec": {
   "display_name": "Python 3 (ipykernel)",
   "language": "python",
   "name": "python3"
  },
  "language_info": {
   "codemirror_mode": {
    "name": "ipython",
    "version": 3
   },
   "file_extension": ".py",
   "mimetype": "text/x-python",
   "name": "python",
   "nbconvert_exporter": "python",
   "pygments_lexer": "ipython3",
   "version": "3.9.12"
  }
 },
 "nbformat": 4,
 "nbformat_minor": 5
}
